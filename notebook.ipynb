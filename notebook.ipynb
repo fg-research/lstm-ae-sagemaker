{
 "cells": [
  {
   "cell_type": "markdown",
   "metadata": {},
   "source": [
    "# Train, tune, and deploy a custom ML model using the Time Series Anomaly Detection (LSTM-AE) Algorithm from AWS Marketplace"
   ]
  },
  {
   "cell_type": "markdown",
   "metadata": {},
   "source": [
    "The [Time Series Anomaly Detection (LSTM-AE) Algorithm from AWS Marketplace](https://aws.amazon.com/marketplace/pp/prodview-up2haipz3j472) performs time series anomaly detection with a Long Short-Term Memory Network Autoencoder (LSTM-AE). It implements both training and inference from CSV data and supports both CPU and GPU instances. The training and inference Docker images were built by extending the PyTorch 2.0 Python 3.10 SageMaker containers. \n",
    "\n",
    "#### Model Overview  \n",
    "The LSTM-AE model reconstructs the time series with an LSTM autoencoder.\n",
    "The encoder and decoder consist of a single LSTM layer and have the same number of hidden units.\n",
    "The encoder takes as input the time series and returns the hidden states.\n",
    "The hidden states of the encoder are used for initializing the hidden states of the decoder, which reconstructs the time series in reversed order. \n",
    "The autoencoder parameters are learned on a training set containing only normal data (i.e. without anomalies) by minimizing the mean squared error (MSE) between the actual and reconstructed values of the time series.\n",
    "\n",
    "After the model has been trained, a multivariate Gaussian distribution is fitted to the model's reconstruction errors on an independent validation set (also without anomalies) using Maximum Likelihood Estimation (MLE). \n",
    "At inference time, the model reconstructs the values of all the time series (which can now include anomalies) and calculates the squared Mahalanobis distance between the reconstruction errors and the Gaussian distribution previously estimated on normal data. \n",
    "The computed squared Mahalanobis distance is then used as an anomaly score: the larger the squared Mahalanobis distance at a given a time step, the more likely the time step is to be an anomaly.\n",
    "\n",
    "<img src=https://fg-research-assets.s3.eu-west-1.amazonaws.com/lstm-ae-diagram.png style=\"width:60%;margin-top:60px;margin-bottom:50px\"/> \n",
    "\n",
    "*LSTM-AE architecture (source: [doi: 10.48550/arXiv.1607.00148](https://doi.org/10.48550/arXiv.1607.00148))*\n",
    "\n",
    "#### Model Resources \n",
    "- **Paper:** [LSTM-based Encoder-Decoder for Multi-Sensor Anomaly Detection](https://doi.org/10.48550/arXiv.1607.00148).\n",
    "\n",
    "This sample notebook shows you how to train a custom ML model using the [Time Series Anomaly Detection (LSTM-AE) Algorithm from AWS Marketplace](https://aws.amazon.com/marketplace/pp/prodview-up2haipz3j472).\n",
    "\n",
    "**Note: This is a reference notebook and it cannot run unless you make the changes suggested in the notebook.**"
   ]
  },
  {
   "cell_type": "markdown",
   "metadata": {},
   "source": [
    "## Pre-requisites\n",
    "1. This notebook contains elements which render correctly in Jupyter interface. Open this notebook from an Amazon SageMaker Notebook Instance or Amazon SageMaker Studio.\n",
    "1. Ensure that IAM role used has **AmazonSageMakerFullAccess**\n",
    "1. Some hands-on experience using [Amazon SageMaker](https://aws.amazon.com/sagemaker/).\n",
    "1. To use this algorithm successfully, ensure that:\n",
    "    1. Either your IAM role has these three permissions and you have authority to make AWS Marketplace subscriptions in the AWS account used: \n",
    "        1. **aws-marketplace:ViewSubscriptions**\n",
    "        1. **aws-marketplace:Unsubscribe**\n",
    "        1. **aws-marketplace:Subscribe**  \n",
    "    2. or your AWS account has a subscription to the [Time Series Anomaly Detection (LSTM-AE) Algorithm from AWS Marketplace](https://aws.amazon.com/marketplace/pp/prodview-up2haipz3j472)"
   ]
  },
  {
   "cell_type": "markdown",
   "metadata": {},
   "source": [
    "## Contents\n",
    "1. [Subscribe to the algorithm](#1.-Subscribe-to-the-algorithm)\n",
    "1. [Prepare dataset](#2.-Prepare-dataset)\n",
    "\t1. [Dataset format expected by the algorithm](#A.-Dataset-format-expected-by-the-algorithm)\n",
    "\t1. [Configure and visualize train and test dataset](#B.-Configure-and-visualize-train-and-test-dataset)\n",
    "\t1. [Upload datasets to Amazon S3](#C.-Upload-datasets-to-Amazon-S3)\n",
    "1. [Train a machine learning model](#3:-Train-a-machine-learning-model)\n",
    "\t1. [Set up environment](#3.1-Set-up-environment)\n",
    "\t1. [Train a model](#3.2-Train-a-model)\n",
    "1. [Deploy model and verify results](#4:-Deploy-model-and-verify-results)\n",
    "    1. [Deploy trained model](#A.-Deploy-trained-model)\n",
    "    1. [Create input payload](#B.-Create-input-payload)\n",
    "    1. [Perform real-time inference](#C.-Perform-real-time-inference)\n",
    "    1. [Visualize output](#D.-Visualize-output)\n",
    "    1. [Calculate relevant metrics](#E.-Calculate-relevant-metrics)\n",
    "    1. [Delete the endpoint](#F.-Delete-the-endpoint)\n",
    "1. [Tune your model! (optional)](#5:-Tune-your-model!-(optional))\n",
    "\t1. [Tuning Guidelines](#A.-Tuning-Guidelines)\n",
    "\t1. [Define Tuning configuration](#B.-Define-Tuning-configuration)\n",
    "\t1. [Run a model tuning job](#C.-Run-a-model-tuning-job)\n",
    "1. [Perform Batch inference](#6.-Perform-Batch-inference)\n",
    "1. [Clean-up](#7.-Clean-up)\n",
    "\t1. [Delete the model](#A.-Delete-the-model)\n",
    "\t1. [Unsubscribe to the listing (optional)](#B.-Unsubscribe-to-the-listing-(optional))\n",
    "\n",
    "\n",
    "## Usage instructions\n",
    "You can run this notebook one cell at a time (by using Shift+Enter for running a cell)."
   ]
  },
  {
   "cell_type": "markdown",
   "metadata": {},
   "source": [
    "## 1. Subscribe to the algorithm"
   ]
  },
  {
   "cell_type": "markdown",
   "metadata": {},
   "source": [
    "To subscribe to the algorithm:\n",
    "1. Open the algorithm listing page.\n",
    "1. On the AWS Marketplace listing, click on the **Continue to subscribe** button.\n",
    "1. On the **Subscribe to this software** page, review and click on **\"Accept Offer\"** if you agree with EULA, pricing, and support terms. \n",
    "1. Once you click on the **Continue to configuration** button and then choose a **region**, you will see a **Product ARN**. This is the algorithm ARN that you need to specify while training a custom ML model. **Copy the ARN corresponding to your region and specify the same in the following cell.**"
   ]
  },
  {
   "cell_type": "code",
   "execution_count": 1,
   "metadata": {
    "tags": []
   },
   "outputs": [],
   "source": [
    "algo_arn = \"arn:aws:sagemaker:eu-west-1:661670223746:algorithm/lstm-ae-algo-v1-0\""
   ]
  },
  {
   "cell_type": "markdown",
   "metadata": {},
   "source": [
    "## 2. Prepare dataset"
   ]
  },
  {
   "cell_type": "code",
   "execution_count": 2,
   "metadata": {
    "tags": []
   },
   "outputs": [],
   "source": [
    "import io\n",
    "import datetime\n",
    "import boto3\n",
    "import sagemaker\n",
    "import pandas as pd\n",
    "import numpy as np\n",
    "import matplotlib.pyplot as plt"
   ]
  },
  {
   "cell_type": "code",
   "execution_count": 3,
   "metadata": {
    "tags": []
   },
   "outputs": [
    {
     "data": {
      "text/plain": [
       "'sagemaker-eu-west-1-661670223746'"
      ]
     },
     "execution_count": 3,
     "metadata": {},
     "output_type": "execute_result"
    }
   ],
   "source": [
    "# S3 bucket\n",
    "sagemaker_session = sagemaker.Session()\n",
    "bucket = sagemaker_session.default_bucket()\n",
    "bucket"
   ]
  },
  {
   "cell_type": "code",
   "execution_count": 4,
   "metadata": {
    "tags": []
   },
   "outputs": [],
   "source": [
    "# EC2 instance\n",
    "instance_type = \"ml.m5.2xlarge\""
   ]
  },
  {
   "cell_type": "markdown",
   "metadata": {},
   "source": [
    "### A. Dataset format expected by the algorithm"
   ]
  },
  {
   "cell_type": "markdown",
   "metadata": {},
   "source": [
    "The training and validation datasets should be provided as CSV files. \n",
    "Each column of the CSV file represents a time series, while each row represents a time step.\n",
    "All the time series should have the same length and should not contain missing values.\n",
    "The CSV file should not contain any index column or column headers. \n",
    "\n",
    "You can find more information about dataset format in the **Usage Information** section of the algorithm listing page."
   ]
  },
  {
   "cell_type": "markdown",
   "metadata": {},
   "source": [
    "### B. Configure and visualize train and test dataset"
   ]
  },
  {
   "cell_type": "markdown",
   "metadata": {},
   "source": [
    "The sample data provided in the algorithm's [GitHub repository](https://github.com/fg-research/lstm-ae-sagemaker) consists of two artificially generated time series. The training dataset contains 15000 samples, while the validation and test datasets contain 5000 samples. "
   ]
  },
  {
   "cell_type": "markdown",
   "metadata": {
    "tags": []
   },
   "source": [
    "**Training dataset:**"
   ]
  },
  {
   "cell_type": "code",
   "execution_count": 5,
   "metadata": {
    "tags": []
   },
   "outputs": [],
   "source": [
    "training_dataset = pd.read_csv(\n",
    "    \"https://raw.githubusercontent.com/fg-research/lstm-ae-sagemaker/master/data/training/train.csv\",\n",
    "    header=None,\n",
    "    index_col=None\n",
    ")"
   ]
  },
  {
   "cell_type": "code",
   "execution_count": 6,
   "metadata": {
    "tags": []
   },
   "outputs": [
    {
     "data": {
      "text/plain": [
       "(15000, 2)"
      ]
     },
     "execution_count": 6,
     "metadata": {},
     "output_type": "execute_result"
    }
   ],
   "source": [
    "training_dataset.shape"
   ]
  },
  {
   "cell_type": "code",
   "execution_count": 7,
   "metadata": {
    "tags": []
   },
   "outputs": [
    {
     "data": {
      "text/html": [
       "<div>\n",
       "<style scoped>\n",
       "    .dataframe tbody tr th:only-of-type {\n",
       "        vertical-align: middle;\n",
       "    }\n",
       "\n",
       "    .dataframe tbody tr th {\n",
       "        vertical-align: top;\n",
       "    }\n",
       "\n",
       "    .dataframe thead th {\n",
       "        text-align: right;\n",
       "    }\n",
       "</style>\n",
       "<table border=\"1\" class=\"dataframe\">\n",
       "  <thead>\n",
       "    <tr style=\"text-align: right;\">\n",
       "      <th></th>\n",
       "      <th>0</th>\n",
       "      <th>1</th>\n",
       "    </tr>\n",
       "  </thead>\n",
       "  <tbody>\n",
       "    <tr>\n",
       "      <th>0</th>\n",
       "      <td>-10.302054</td>\n",
       "      <td>-9.879548</td>\n",
       "    </tr>\n",
       "    <tr>\n",
       "      <th>1</th>\n",
       "      <td>-9.761644</td>\n",
       "      <td>-11.455176</td>\n",
       "    </tr>\n",
       "    <tr>\n",
       "      <th>2</th>\n",
       "      <td>-10.185059</td>\n",
       "      <td>-12.195165</td>\n",
       "    </tr>\n",
       "    <tr>\n",
       "      <th>3</th>\n",
       "      <td>-12.834404</td>\n",
       "      <td>-10.253211</td>\n",
       "    </tr>\n",
       "    <tr>\n",
       "      <th>4</th>\n",
       "      <td>-13.341993</td>\n",
       "      <td>-13.015417</td>\n",
       "    </tr>\n",
       "  </tbody>\n",
       "</table>\n",
       "</div>"
      ],
      "text/plain": [
       "           0          1\n",
       "0 -10.302054  -9.879548\n",
       "1  -9.761644 -11.455176\n",
       "2 -10.185059 -12.195165\n",
       "3 -12.834404 -10.253211\n",
       "4 -13.341993 -13.015417"
      ]
     },
     "execution_count": 7,
     "metadata": {},
     "output_type": "execute_result"
    }
   ],
   "source": [
    "training_dataset.head()"
   ]
  },
  {
   "cell_type": "code",
   "execution_count": 8,
   "metadata": {
    "tags": []
   },
   "outputs": [
    {
     "data": {
      "image/png": "[encoded data removed]",
      "text/plain": [
       "<Figure size 640x480 with 2 Axes>"
      ]
     },
     "metadata": {},
     "output_type": "display_data"
    }
   ],
   "source": [
    "fig, axs = plt.subplots(nrows=training_dataset.shape[1], ncols=1, sharex=True)\n",
    "for i in range(training_dataset.shape[1]):\n",
    "    axs[i].plot(training_dataset.iloc[:, i], color=\"#AFB8C1\", lw=1)\n",
    "    axs[i].set_title(f\"Time Series {i + 1}\", size=10)\n",
    "    axs[i].set(xlabel=\"Time\", ylabel=\"Value\")\n",
    "    axs[i].xaxis.set_tick_params(labelbottom=True)\n",
    "    axs[i].tick_params(axis=\"both\", which=\"major\", labelsize=7)\n",
    "    axs[i].tick_params(axis=\"both\", which=\"minor\", labelsize=7)\n",
    "fig.subplots_adjust(hspace=0.75)\n",
    "fig.suptitle(\"Training Dataset\")\n",
    "fig.show()"
   ]
  },
  {
   "cell_type": "markdown",
   "metadata": {},
   "source": [
    "**Validation dataset:**"
   ]
  },
  {
   "cell_type": "code",
   "execution_count": 9,
   "metadata": {
    "tags": []
   },
   "outputs": [],
   "source": [
    "validation_dataset = pd.read_csv(\n",
    "    \"https://raw.githubusercontent.com/fg-research/lstm-ae-sagemaker/master/data/training/valid.csv\",\n",
    "    header=None,\n",
    "    index_col=None\n",
    ")"
   ]
  },
  {
   "cell_type": "code",
   "execution_count": 10,
   "metadata": {
    "tags": []
   },
   "outputs": [
    {
     "data": {
      "text/plain": [
       "(5000, 2)"
      ]
     },
     "execution_count": 10,
     "metadata": {},
     "output_type": "execute_result"
    }
   ],
   "source": [
    "validation_dataset.shape"
   ]
  },
  {
   "cell_type": "code",
   "execution_count": 11,
   "metadata": {
    "tags": []
   },
   "outputs": [
    {
     "data": {
      "text/html": [
       "<div>\n",
       "<style scoped>\n",
       "    .dataframe tbody tr th:only-of-type {\n",
       "        vertical-align: middle;\n",
       "    }\n",
       "\n",
       "    .dataframe tbody tr th {\n",
       "        vertical-align: top;\n",
       "    }\n",
       "\n",
       "    .dataframe thead th {\n",
       "        text-align: right;\n",
       "    }\n",
       "</style>\n",
       "<table border=\"1\" class=\"dataframe\">\n",
       "  <thead>\n",
       "    <tr style=\"text-align: right;\">\n",
       "      <th></th>\n",
       "      <th>0</th>\n",
       "      <th>1</th>\n",
       "    </tr>\n",
       "  </thead>\n",
       "  <tbody>\n",
       "    <tr>\n",
       "      <th>0</th>\n",
       "      <td>-9.728953</td>\n",
       "      <td>-11.809606</td>\n",
       "    </tr>\n",
       "    <tr>\n",
       "      <th>1</th>\n",
       "      <td>-11.821012</td>\n",
       "      <td>-12.637485</td>\n",
       "    </tr>\n",
       "    <tr>\n",
       "      <th>2</th>\n",
       "      <td>-11.422567</td>\n",
       "      <td>-11.136945</td>\n",
       "    </tr>\n",
       "    <tr>\n",
       "      <th>3</th>\n",
       "      <td>-12.757596</td>\n",
       "      <td>-14.022805</td>\n",
       "    </tr>\n",
       "    <tr>\n",
       "      <th>4</th>\n",
       "      <td>-13.126208</td>\n",
       "      <td>-12.558090</td>\n",
       "    </tr>\n",
       "  </tbody>\n",
       "</table>\n",
       "</div>"
      ],
      "text/plain": [
       "           0          1\n",
       "0  -9.728953 -11.809606\n",
       "1 -11.821012 -12.637485\n",
       "2 -11.422567 -11.136945\n",
       "3 -12.757596 -14.022805\n",
       "4 -13.126208 -12.558090"
      ]
     },
     "execution_count": 11,
     "metadata": {},
     "output_type": "execute_result"
    }
   ],
   "source": [
    "validation_dataset.head()"
   ]
  },
  {
   "cell_type": "code",
   "execution_count": 12,
   "metadata": {
    "tags": []
   },
   "outputs": [
    {
     "data": {
      "image/png": "[encoded data removed]",
      "text/plain": [
       "<Figure size 640x480 with 2 Axes>"
      ]
     },
     "metadata": {},
     "output_type": "display_data"
    }
   ],
   "source": [
    "fig, axs = plt.subplots(nrows=validation_dataset.shape[1], ncols=1, sharex=True)\n",
    "for i in range(validation_dataset.shape[1]):\n",
    "    axs[i].plot(validation_dataset.iloc[:, i], color=\"#AFB8C1\", lw=1)\n",
    "    axs[i].set_title(f\"Time Series {i + 1}\", size=10)\n",
    "    axs[i].set(xlabel=\"Time\", ylabel=\"Value\")\n",
    "    axs[i].xaxis.set_tick_params(labelbottom=True)\n",
    "    axs[i].tick_params(axis=\"both\", which=\"major\", labelsize=7)\n",
    "    axs[i].tick_params(axis=\"both\", which=\"minor\", labelsize=7)\n",
    "fig.subplots_adjust(hspace=0.75)\n",
    "fig.suptitle(\"Validation Dataset\")\n",
    "fig.show()"
   ]
  },
  {
   "cell_type": "markdown",
   "metadata": {},
   "source": [
    "### C. Upload datasets to Amazon S3"
   ]
  },
  {
   "cell_type": "code",
   "execution_count": 13,
   "metadata": {
    "tags": []
   },
   "outputs": [],
   "source": [
    "training_data = sagemaker_session.upload_string_as_file_body(\n",
    "    body=training_dataset.to_csv(index=False, header=False),\n",
    "    bucket=bucket,\n",
    "    key=\"data/training/train.csv\"\n",
    ")"
   ]
  },
  {
   "cell_type": "code",
   "execution_count": 14,
   "metadata": {
    "tags": []
   },
   "outputs": [
    {
     "data": {
      "text/plain": [
       "'s3://sagemaker-eu-west-1-661670223746/data/training/train.csv'"
      ]
     },
     "execution_count": 14,
     "metadata": {},
     "output_type": "execute_result"
    }
   ],
   "source": [
    "training_data"
   ]
  },
  {
   "cell_type": "code",
   "execution_count": 15,
   "metadata": {
    "tags": []
   },
   "outputs": [],
   "source": [
    "validation_data = sagemaker_session.upload_string_as_file_body(\n",
    "    body=validation_dataset.to_csv(index=False, header=False),\n",
    "    bucket=bucket,\n",
    "    key=\"data/training/valid.csv\"\n",
    ")"
   ]
  },
  {
   "cell_type": "code",
   "execution_count": 16,
   "metadata": {
    "tags": []
   },
   "outputs": [
    {
     "data": {
      "text/plain": [
       "'s3://sagemaker-eu-west-1-661670223746/data/training/valid.csv'"
      ]
     },
     "execution_count": 16,
     "metadata": {},
     "output_type": "execute_result"
    }
   ],
   "source": [
    "validation_data"
   ]
  },
  {
   "cell_type": "markdown",
   "metadata": {},
   "source": [
    "## 3: Train a machine learning model"
   ]
  },
  {
   "cell_type": "markdown",
   "metadata": {},
   "source": [
    "Now that dataset is available in an accessible Amazon S3 bucket, we are ready to train a machine learning model. "
   ]
  },
  {
   "cell_type": "markdown",
   "metadata": {},
   "source": [
    "### 3.1 Set up environment"
   ]
  },
  {
   "cell_type": "code",
   "execution_count": 17,
   "metadata": {
    "tags": []
   },
   "outputs": [],
   "source": [
    "role = sagemaker.get_execution_role()"
   ]
  },
  {
   "cell_type": "markdown",
   "metadata": {},
   "source": [
    "### 3.2 Train a model"
   ]
  },
  {
   "cell_type": "markdown",
   "metadata": {},
   "source": [
    "You can find more information about the model's hyperparameters in the **Hyperparameters** section of the algorithm listing page."
   ]
  },
  {
   "cell_type": "code",
   "execution_count": 18,
   "metadata": {
    "tags": []
   },
   "outputs": [],
   "source": [
    "# define hyperparameters\n",
    "hyperparameters = {\n",
    "    \"sequence-length\": 100,\n",
    "    \"sequence-stride\": 50,\n",
    "    \"hidden-size\": 64,\n",
    "    \"lr\": 0.001,\n",
    "    \"batch-size\": 32,\n",
    "    \"epochs\": 100,\n",
    "}"
   ]
  },
  {
   "cell_type": "markdown",
   "metadata": {},
   "source": [
    "For information on creating an `Estimator` object, see the [documentation](https://sagemaker.readthedocs.io/en/stable/api/training/estimators.html)."
   ]
  },
  {
   "cell_type": "code",
   "execution_count": 19,
   "metadata": {
    "tags": []
   },
   "outputs": [
    {
     "name": "stderr",
     "output_type": "stream",
     "text": [
      "NOTEBOOK_METADATA_FILE detected but failed to get valid domain and user from it.\n"
     ]
    }
   ],
   "source": [
    "# create an estimator object for running a training job\n",
    "estimator = sagemaker.algorithm.AlgorithmEstimator(\n",
    "    algorithm_arn=algo_arn,\n",
    "    base_job_name=\"lstm-ae-training\",\n",
    "    role=role,\n",
    "    instance_count=1,\n",
    "    instance_type=instance_type,\n",
    "    input_mode=\"File\",\n",
    "    sagemaker_session=sagemaker_session,\n",
    "    hyperparameters=hyperparameters\n",
    ")"
   ]
  },
  {
   "cell_type": "code",
   "execution_count": 20,
   "metadata": {
    "tags": []
   },
   "outputs": [
    {
     "name": "stderr",
     "output_type": "stream",
     "text": [
      "INFO:sagemaker:Creating training-job with name: lstm-ae-training-2023-10-01-09-42-36-802\n"
     ]
    },
    {
     "name": "stdout",
     "output_type": "stream",
     "text": [
      "2023-10-01 09:42:36 Starting - Starting the training job...\n",
      "2023-10-01 09:42:52 Starting - Preparing the instances for training......\n",
      "2023-10-01 09:43:45 Downloading - Downloading input data...\n",
      "2023-10-01 09:44:10 Training - Downloading the training image..................\n",
      "2023-10-01 09:47:21 Training - Training image download completed. Training in progress...\u001b[34mbash: cannot set terminal process group (-1): Inappropriate ioctl for device\u001b[0m\n",
      "\u001b[34mbash: no job control in this shell\u001b[0m\n",
      "\u001b[34m2023-10-01 09:47:47,309 sagemaker-training-toolkit INFO     Imported framework sagemaker_pytorch_container.training\u001b[0m\n",
      "\u001b[34m2023-10-01 09:47:47,309 sagemaker-training-toolkit INFO     No GPUs detected (normal if no gpus installed)\u001b[0m\n",
      "\u001b[34m2023-10-01 09:47:47,310 sagemaker-training-toolkit INFO     No Neurons detected (normal if no neurons installed)\u001b[0m\n",
      "\u001b[34m2023-10-01 09:47:47,318 sagemaker_pytorch_container.training INFO     Block until all host DNS lookups succeed.\u001b[0m\n",
      "\u001b[34m2023-10-01 09:47:47,320 sagemaker_pytorch_container.training INFO     Invoking user training script.\u001b[0m\n",
      "\u001b[34m2023-10-01 09:47:48,605 sagemaker-training-toolkit INFO     No GPUs detected (normal if no gpus installed)\u001b[0m\n",
      "\u001b[34m2023-10-01 09:47:48,605 sagemaker-training-toolkit INFO     No Neurons detected (normal if no neurons installed)\u001b[0m\n",
      "\u001b[34m2023-10-01 09:47:48,616 sagemaker-training-toolkit INFO     No GPUs detected (normal if no gpus installed)\u001b[0m\n",
      "\u001b[34m2023-10-01 09:47:48,617 sagemaker-training-toolkit INFO     No Neurons detected (normal if no neurons installed)\u001b[0m\n",
      "\u001b[34m2023-10-01 09:47:48,627 sagemaker-training-toolkit INFO     No GPUs detected (normal if no gpus installed)\u001b[0m\n",
      "\u001b[34m2023-10-01 09:47:48,627 sagemaker-training-toolkit INFO     No Neurons detected (normal if no neurons installed)\u001b[0m\n",
      "\u001b[34m2023-10-01 09:47:48,636 sagemaker-training-toolkit INFO     Invoking user script\u001b[0m\n",
      "\u001b[34mTraining Env:\u001b[0m\n",
      "\u001b[34m{\n",
      "    \"additional_framework_parameters\": {},\n",
      "    \"channel_input_dirs\": {\n",
      "        \"training\": \"/opt/ml/input/data/training\",\n",
      "        \"validation\": \"/opt/ml/input/data/validation\"\n",
      "    },\n",
      "    \"current_host\": \"algo-1\",\n",
      "    \"current_instance_group\": \"homogeneousCluster\",\n",
      "    \"current_instance_group_hosts\": [\n",
      "        \"algo-1\"\n",
      "    ],\n",
      "    \"current_instance_type\": \"ml.m5.2xlarge\",\n",
      "    \"distribution_hosts\": [],\n",
      "    \"distribution_instance_groups\": [],\n",
      "    \"framework_module\": \"sagemaker_pytorch_container.training:main\",\n",
      "    \"hosts\": [\n",
      "        \"algo-1\"\n",
      "    ],\n",
      "    \"hyperparameters\": {\n",
      "        \"batch-size\": 32,\n",
      "        \"epochs\": 100,\n",
      "        \"hidden-size\": 64,\n",
      "        \"lr\": 0.001,\n",
      "        \"sequence-length\": 100,\n",
      "        \"sequence-stride\": 50\n",
      "    },\n",
      "    \"input_config_dir\": \"/opt/ml/input/config\",\n",
      "    \"input_data_config\": {\n",
      "        \"training\": {\n",
      "            \"TrainingInputMode\": \"File\",\n",
      "            \"S3DistributionType\": \"FullyReplicated\",\n",
      "            \"RecordWrapperType\": \"None\"\n",
      "        },\n",
      "        \"validation\": {\n",
      "            \"TrainingInputMode\": \"File\",\n",
      "            \"S3DistributionType\": \"FullyReplicated\",\n",
      "            \"RecordWrapperType\": \"None\"\n",
      "        }\n",
      "    },\n",
      "    \"input_dir\": \"/opt/ml/input\",\n",
      "    \"instance_groups\": [\n",
      "        \"homogeneousCluster\"\n",
      "    ],\n",
      "    \"instance_groups_dict\": {\n",
      "        \"homogeneousCluster\": {\n",
      "            \"instance_group_name\": \"homogeneousCluster\",\n",
      "            \"instance_type\": \"ml.m5.2xlarge\",\n",
      "            \"hosts\": [\n",
      "                \"algo-1\"\n",
      "            ]\n",
      "        }\n",
      "    },\n",
      "    \"is_hetero\": false,\n",
      "    \"is_master\": true,\n",
      "    \"is_modelparallel_enabled\": null,\n",
      "    \"is_smddpmprun_installed\": true,\n",
      "    \"job_name\": \"lstm-ae-training-2023-10-01-09-42-36-802\",\n",
      "    \"log_level\": 20,\n",
      "    \"master_hostname\": \"algo-1\",\n",
      "    \"model_dir\": \"/opt/ml/model\",\n",
      "    \"module_dir\": \"/opt/ml/code\",\n",
      "    \"module_name\": \"training\",\n",
      "    \"network_interface_name\": \"eth0\",\n",
      "    \"num_cpus\": 8,\n",
      "    \"num_gpus\": 0,\n",
      "    \"num_neurons\": 0,\n",
      "    \"output_data_dir\": \"/opt/ml/output/data\",\n",
      "    \"output_dir\": \"/opt/ml/output\",\n",
      "    \"output_intermediate_dir\": \"/opt/ml/output/intermediate\",\n",
      "    \"resource_config\": {\n",
      "        \"current_host\": \"algo-1\",\n",
      "        \"current_instance_type\": \"ml.m5.2xlarge\",\n",
      "        \"current_group_name\": \"homogeneousCluster\",\n",
      "        \"hosts\": [\n",
      "            \"algo-1\"\n",
      "        ],\n",
      "        \"instance_groups\": [\n",
      "            {\n",
      "                \"instance_group_name\": \"homogeneousCluster\",\n",
      "                \"instance_type\": \"ml.m5.2xlarge\",\n",
      "                \"hosts\": [\n",
      "                    \"algo-1\"\n",
      "                ]\n",
      "            }\n",
      "        ],\n",
      "        \"network_interface_name\": \"eth0\"\n",
      "    },\n",
      "    \"user_entry_point\": \"training.py\"\u001b[0m\n",
      "\u001b[34m}\u001b[0m\n",
      "\u001b[34mEnvironment variables:\u001b[0m\n",
      "\u001b[34mSM_HOSTS=[\"algo-1\"]\u001b[0m\n",
      "\u001b[34mSM_NETWORK_INTERFACE_NAME=eth0\u001b[0m\n",
      "\u001b[34mSM_HPS={\"batch-size\":32,\"epochs\":100,\"hidden-size\":64,\"lr\":0.001,\"sequence-length\":100,\"sequence-stride\":50}\u001b[0m\n",
      "\u001b[34mSM_USER_ENTRY_POINT=training.py\u001b[0m\n",
      "\u001b[34mSM_FRAMEWORK_PARAMS={}\u001b[0m\n",
      "\u001b[34mSM_RESOURCE_CONFIG={\"current_group_name\":\"homogeneousCluster\",\"current_host\":\"algo-1\",\"current_instance_type\":\"ml.m5.2xlarge\",\"hosts\":[\"algo-1\"],\"instance_groups\":[{\"hosts\":[\"algo-1\"],\"instance_group_name\":\"homogeneousCluster\",\"instance_type\":\"ml.m5.2xlarge\"}],\"network_interface_name\":\"eth0\"}\u001b[0m\n",
      "\u001b[34mSM_INPUT_DATA_CONFIG={\"training\":{\"RecordWrapperType\":\"None\",\"S3DistributionType\":\"FullyReplicated\",\"TrainingInputMode\":\"File\"},\"validation\":{\"RecordWrapperType\":\"None\",\"S3DistributionType\":\"FullyReplicated\",\"TrainingInputMode\":\"File\"}}\u001b[0m\n",
      "\u001b[34mSM_OUTPUT_DATA_DIR=/opt/ml/output/data\u001b[0m\n",
      "\u001b[34mSM_CHANNELS=[\"training\",\"validation\"]\u001b[0m\n",
      "\u001b[34mSM_CURRENT_HOST=algo-1\u001b[0m\n",
      "\u001b[34mSM_CURRENT_INSTANCE_TYPE=ml.m5.2xlarge\u001b[0m\n",
      "\u001b[34mSM_CURRENT_INSTANCE_GROUP=homogeneousCluster\u001b[0m\n",
      "\u001b[34mSM_CURRENT_INSTANCE_GROUP_HOSTS=[\"algo-1\"]\u001b[0m\n",
      "\u001b[34mSM_INSTANCE_GROUPS=[\"homogeneousCluster\"]\u001b[0m\n",
      "\u001b[34mSM_INSTANCE_GROUPS_DICT={\"homogeneousCluster\":{\"hosts\":[\"algo-1\"],\"instance_group_name\":\"homogeneousCluster\",\"instance_type\":\"ml.m5.2xlarge\"}}\u001b[0m\n",
      "\u001b[34mSM_DISTRIBUTION_INSTANCE_GROUPS=[]\u001b[0m\n",
      "\u001b[34mSM_IS_HETERO=false\u001b[0m\n",
      "\u001b[34mSM_MODULE_NAME=training\u001b[0m\n",
      "\u001b[34mSM_LOG_LEVEL=20\u001b[0m\n",
      "\u001b[34mSM_FRAMEWORK_MODULE=sagemaker_pytorch_container.training:main\u001b[0m\n",
      "\u001b[34mSM_INPUT_DIR=/opt/ml/input\u001b[0m\n",
      "\u001b[34mSM_INPUT_CONFIG_DIR=/opt/ml/input/config\u001b[0m\n",
      "\u001b[34mSM_OUTPUT_DIR=/opt/ml/output\u001b[0m\n",
      "\u001b[34mSM_NUM_CPUS=8\u001b[0m\n",
      "\u001b[34mSM_NUM_GPUS=0\u001b[0m\n",
      "\u001b[34mSM_NUM_NEURONS=0\u001b[0m\n",
      "\u001b[34mSM_MODEL_DIR=/opt/ml/model\u001b[0m\n",
      "\u001b[34mSM_MODULE_DIR=/opt/ml/code\u001b[0m\n",
      "\u001b[34mSM_TRAINING_ENV={\"additional_framework_parameters\":{},\"channel_input_dirs\":{\"training\":\"/opt/ml/input/data/training\",\"validation\":\"/opt/ml/input/data/validation\"},\"current_host\":\"algo-1\",\"current_instance_group\":\"homogeneousCluster\",\"current_instance_group_hosts\":[\"algo-1\"],\"current_instance_type\":\"ml.m5.2xlarge\",\"distribution_hosts\":[],\"distribution_instance_groups\":[],\"framework_module\":\"sagemaker_pytorch_container.training:main\",\"hosts\":[\"algo-1\"],\"hyperparameters\":{\"batch-size\":32,\"epochs\":100,\"hidden-size\":64,\"lr\":0.001,\"sequence-length\":100,\"sequence-stride\":50},\"input_config_dir\":\"/opt/ml/input/config\",\"input_data_config\":{\"training\":{\"RecordWrapperType\":\"None\",\"S3DistributionType\":\"FullyReplicated\",\"TrainingInputMode\":\"File\"},\"validation\":{\"RecordWrapperType\":\"None\",\"S3DistributionType\":\"FullyReplicated\",\"TrainingInputMode\":\"File\"}},\"input_dir\":\"/opt/ml/input\",\"instance_groups\":[\"homogeneousCluster\"],\"instance_groups_dict\":{\"homogeneousCluster\":{\"hosts\":[\"algo-1\"],\"instance_group_name\":\"homogeneousCluster\",\"instance_type\":\"ml.m5.2xlarge\"}},\"is_hetero\":false,\"is_master\":true,\"is_modelparallel_enabled\":null,\"is_smddpmprun_installed\":true,\"job_name\":\"lstm-ae-training-2023-10-01-09-42-36-802\",\"log_level\":20,\"master_hostname\":\"algo-1\",\"model_dir\":\"/opt/ml/model\",\"module_dir\":\"/opt/ml/code\",\"module_name\":\"training\",\"network_interface_name\":\"eth0\",\"num_cpus\":8,\"num_gpus\":0,\"num_neurons\":0,\"output_data_dir\":\"/opt/ml/output/data\",\"output_dir\":\"/opt/ml/output\",\"output_intermediate_dir\":\"/opt/ml/output/intermediate\",\"resource_config\":{\"current_group_name\":\"homogeneousCluster\",\"current_host\":\"algo-1\",\"current_instance_type\":\"ml.m5.2xlarge\",\"hosts\":[\"algo-1\"],\"instance_groups\":[{\"hosts\":[\"algo-1\"],\"instance_group_name\":\"homogeneousCluster\",\"instance_type\":\"ml.m5.2xlarge\"}],\"network_interface_name\":\"eth0\"},\"user_entry_point\":\"training.py\"}\u001b[0m\n",
      "\u001b[34mSM_USER_ARGS=[\"--batch-size\",\"32\",\"--epochs\",\"100\",\"--hidden-size\",\"64\",\"--lr\",\"0.001\",\"--sequence-length\",\"100\",\"--sequence-stride\",\"50\"]\u001b[0m\n",
      "\u001b[34mSM_OUTPUT_INTERMEDIATE_DIR=/opt/ml/output/intermediate\u001b[0m\n",
      "\u001b[34mSM_CHANNEL_TRAINING=/opt/ml/input/data/training\u001b[0m\n",
      "\u001b[34mSM_CHANNEL_VALIDATION=/opt/ml/input/data/validation\u001b[0m\n",
      "\u001b[34mSM_HP_BATCH-SIZE=32\u001b[0m\n",
      "\u001b[34mSM_HP_EPOCHS=100\u001b[0m\n",
      "\u001b[34mSM_HP_HIDDEN-SIZE=64\u001b[0m\n",
      "\u001b[34mSM_HP_LR=0.001\u001b[0m\n",
      "\u001b[34mSM_HP_SEQUENCE-LENGTH=100\u001b[0m\n",
      "\u001b[34mSM_HP_SEQUENCE-STRIDE=50\u001b[0m\n",
      "\u001b[34mPYTHONPATH=/opt/ml/code:/opt/conda/bin:/opt/conda/lib/python310.zip:/opt/conda/lib/python3.10:/opt/conda/lib/python3.10/lib-dynload:/opt/conda/lib/python3.10/site-packages\u001b[0m\n",
      "\u001b[34mInvoking script with the following command:\u001b[0m\n",
      "\u001b[34m/opt/conda/bin/python3.10 training.py --batch-size 32 --epochs 100 --hidden-size 64 --lr 0.001 --sequence-length 100 --sequence-stride 50\u001b[0m\n",
      "\u001b[34m2023-10-01 09:47:48,668 sagemaker-training-toolkit INFO     Exceptions not imported for SageMaker TF as Tensorflow is not installed.\u001b[0m\n",
      "\u001b[34m--------------------------------------\u001b[0m\n",
      "\u001b[34mTraining on 2 time series.\u001b[0m\n",
      "\u001b[34mTime series length: 15000\u001b[0m\n",
      "\u001b[34m--------------------------------------\u001b[0m\n",
      "\u001b[34m--------------------------------------\u001b[0m\n",
      "\u001b[34mValidating on 2 time series.\u001b[0m\n",
      "\u001b[34mTime series length: 5000\u001b[0m\n",
      "\u001b[34m--------------------------------------\u001b[0m\n",
      "\u001b[34m--------------------------------------\u001b[0m\n",
      "\u001b[34mTraining the model.\u001b[0m\n",
      "\u001b[34m--------------------------------------\u001b[0m\n",
      "\u001b[34mEpoch: 1, Training MSE: 1.00273228, Training MAE: 0.79782367, Validation MSE: 1.00857937, Validation MAE: 0.80074012\u001b[0m\n",
      "\u001b[34mEpoch: 2, Training MSE: 1.00060904, Training MAE: 0.79707694, Validation MSE: 1.00669086, Validation MAE: 0.79995656\u001b[0m\n",
      "\u001b[34mEpoch: 3, Training MSE: 1.11967623, Training MAE: 0.85217595, Validation MSE: 1.12817228, Validation MAE: 0.85647959\u001b[0m\n",
      "\u001b[34mEpoch: 4, Training MSE: 1.17351568, Training MAE: 0.86688870, Validation MSE: 1.17972255, Validation MAE: 0.87015027\u001b[0m\n",
      "\u001b[34mEpoch: 5, Training MSE: 1.09421468, Training MAE: 0.84873730, Validation MSE: 1.09186089, Validation MAE: 0.84885222\u001b[0m\n",
      "\u001b[34mEpoch: 6, Training MSE: 1.85367930, Training MAE: 1.09447885, Validation MSE: 1.85054886, Validation MAE: 1.09199572\u001b[0m\n",
      "\u001b[34mEpoch: 7, Training MSE: 0.87599266, Training MAE: 0.74035335, Validation MSE: 0.87653661, Validation MAE: 0.74208516\u001b[0m\n",
      "\u001b[34mEpoch: 8, Training MSE: 1.26116049, Training MAE: 0.90827364, Validation MSE: 1.25997925, Validation MAE: 0.90969068\u001b[0m\n",
      "\u001b[34mEpoch: 9, Training MSE: 0.83709639, Training MAE: 0.74183774, Validation MSE: 0.84246892, Validation MAE: 0.74674618\u001b[0m\n",
      "\u001b[34mEpoch: 10, Training MSE: 0.98869067, Training MAE: 0.82044667, Validation MSE: 0.99016601, Validation MAE: 0.82557052\u001b[0m\n",
      "\u001b[34mEpoch: 11, Training MSE: 1.03580225, Training MAE: 0.81233466, Validation MSE: 1.03942299, Validation MAE: 0.81745553\u001b[0m\n",
      "\u001b[34mEpoch: 12, Training MSE: 0.84544915, Training MAE: 0.71685350, Validation MSE: 0.84670198, Validation MAE: 0.71778578\u001b[0m\n",
      "\u001b[34mEpoch: 13, Training MSE: 1.24912584, Training MAE: 0.86287773, Validation MSE: 1.24627638, Validation MAE: 0.86179012\u001b[0m\n",
      "\u001b[34mEpoch: 14, Training MSE: 1.01817179, Training MAE: 0.77704686, Validation MSE: 1.01784623, Validation MAE: 0.77540368\u001b[0m\n",
      "\u001b[34mEpoch: 15, Training MSE: 0.94315052, Training MAE: 0.75435787, Validation MSE: 0.93513650, Validation MAE: 0.75695187\u001b[0m\n",
      "\u001b[34mEpoch: 16, Training MSE: 0.92804885, Training MAE: 0.75057453, Validation MSE: 0.91973174, Validation MAE: 0.75284076\u001b[0m\n",
      "\u001b[34mEpoch: 17, Training MSE: 0.93612570, Training MAE: 0.74625951, Validation MSE: 0.92018348, Validation MAE: 0.74651343\u001b[0m\n",
      "\u001b[34mEpoch: 18, Training MSE: 0.97686660, Training MAE: 0.75523317, Validation MSE: 0.96010780, Validation MAE: 0.75553864\u001b[0m\n",
      "\u001b[34mEpoch: 19, Training MSE: 0.95733875, Training MAE: 0.74275905, Validation MSE: 0.94116539, Validation MAE: 0.74295467\u001b[0m\n",
      "\u001b[34mEpoch: 20, Training MSE: 0.92853189, Training MAE: 0.72800100, Validation MSE: 0.91013074, Validation MAE: 0.72703874\u001b[0m\n",
      "\u001b[34mEpoch: 21, Training MSE: 0.94799972, Training MAE: 0.72663939, Validation MSE: 0.92642635, Validation MAE: 0.72434711\u001b[0m\n",
      "\u001b[34mEpoch: 22, Training MSE: 0.94673419, Training MAE: 0.72235984, Validation MSE: 0.92527753, Validation MAE: 0.71907955\u001b[0m\n",
      "\u001b[34mEpoch: 23, Training MSE: 0.96881491, Training MAE: 0.72218889, Validation MSE: 0.94502640, Validation MAE: 0.71798646\u001b[0m\n",
      "\u001b[34mEpoch: 24, Training MSE: 0.97066593, Training MAE: 0.72401726, Validation MSE: 0.94588143, Validation MAE: 0.72026336\u001b[0m\n",
      "\u001b[34mEpoch: 25, Training MSE: 0.94948614, Training MAE: 0.71253693, Validation MSE: 0.92792439, Validation MAE: 0.70978403\u001b[0m\n",
      "\u001b[34mEpoch: 26, Training MSE: 0.95719004, Training MAE: 0.70939553, Validation MSE: 0.93719804, Validation MAE: 0.70701039\u001b[0m\n",
      "\u001b[34mEpoch: 27, Training MSE: 0.97185725, Training MAE: 0.70629990, Validation MSE: 0.95462281, Validation MAE: 0.70486301\u001b[0m\n",
      "\u001b[34mEpoch: 28, Training MSE: 0.97020572, Training MAE: 0.70250523, Validation MSE: 0.95763689, Validation MAE: 0.70248717\u001b[0m\n",
      "\u001b[34mEpoch: 29, Training MSE: 1.00058556, Training MAE: 0.70878208, Validation MSE: 0.99053234, Validation MAE: 0.70913798\u001b[0m\n",
      "\u001b[34mEpoch: 30, Training MSE: 0.97476667, Training MAE: 0.69365907, Validation MSE: 0.97137743, Validation MAE: 0.69646770\u001b[0m\n",
      "\u001b[34mEpoch: 31, Training MSE: 0.99169958, Training MAE: 0.69227582, Validation MSE: 0.98959172, Validation MAE: 0.69563866\u001b[0m\n",
      "\u001b[34mEpoch: 32, Training MSE: 0.99868339, Training MAE: 0.69400442, Validation MSE: 0.99682897, Validation MAE: 0.69676608\u001b[0m\n",
      "\u001b[34mEpoch: 33, Training MSE: 0.99069852, Training MAE: 0.69087118, Validation MSE: 0.98825741, Validation MAE: 0.69400972\u001b[0m\n",
      "\u001b[34mEpoch: 34, Training MSE: 0.99925023, Training MAE: 0.69601488, Validation MSE: 0.99429291, Validation MAE: 0.69791561\u001b[0m\n",
      "\u001b[34mEpoch: 35, Training MSE: 0.96547836, Training MAE: 0.68273407, Validation MSE: 0.95785797, Validation MAE: 0.68290335\u001b[0m\n",
      "\u001b[34mEpoch: 36, Training MSE: 0.97549343, Training MAE: 0.68504941, Validation MSE: 0.96593422, Validation MAE: 0.68433374\u001b[0m\n",
      "\u001b[34mEpoch: 37, Training MSE: 0.99005812, Training MAE: 0.68327230, Validation MSE: 0.97823602, Validation MAE: 0.68124771\u001b[0m\n",
      "\u001b[34mEpoch: 38, Training MSE: 0.97654808, Training MAE: 0.68348885, Validation MSE: 0.96170968, Validation MAE: 0.67990369\u001b[0m\n",
      "\u001b[34mEpoch: 39, Training MSE: 0.94616604, Training MAE: 0.68030596, Validation MSE: 0.92793608, Validation MAE: 0.67645621\u001b[0m\n",
      "\u001b[34mEpoch: 40, Training MSE: 0.96205211, Training MAE: 0.68257231, Validation MSE: 0.94379127, Validation MAE: 0.67808139\u001b[0m\n",
      "\u001b[34mEpoch: 41, Training MSE: 0.93408793, Training MAE: 0.67497146, Validation MSE: 0.91385800, Validation MAE: 0.66946715\u001b[0m\n",
      "\u001b[34mEpoch: 42, Training MSE: 0.91697460, Training MAE: 0.67504627, Validation MSE: 0.89780754, Validation MAE: 0.66963756\u001b[0m\n",
      "\u001b[34mEpoch: 43, Training MSE: 0.91523552, Training MAE: 0.67544800, Validation MSE: 0.89653885, Validation MAE: 0.67083853\u001b[0m\n",
      "\u001b[34mEpoch: 44, Training MSE: 0.91073638, Training MAE: 0.66644853, Validation MSE: 0.89440072, Validation MAE: 0.66180140\u001b[0m\n",
      "\u001b[34mEpoch: 45, Training MSE: 0.85356939, Training MAE: 0.66157389, Validation MSE: 0.84044552, Validation MAE: 0.65858132\u001b[0m\n",
      "\u001b[34mEpoch: 46, Training MSE: 0.85593671, Training MAE: 0.63903815, Validation MSE: 0.84432018, Validation MAE: 0.63601309\u001b[0m\n",
      "\u001b[34mEpoch: 47, Training MSE: 0.79839206, Training MAE: 0.63545591, Validation MSE: 0.79092813, Validation MAE: 0.63441181\u001b[0m\n",
      "\u001b[34mEpoch: 48, Training MSE: 0.78795117, Training MAE: 0.61639339, Validation MSE: 0.78308296, Validation MAE: 0.61598802\u001b[0m\n",
      "\u001b[34mEpoch: 49, Training MSE: 0.72413391, Training MAE: 0.60383463, Validation MSE: 0.72268325, Validation MAE: 0.60585606\u001b[0m\n",
      "\u001b[34mEpoch: 50, Training MSE: 0.67012447, Training MAE: 0.58201802, Validation MSE: 0.67211193, Validation MAE: 0.58640885\u001b[0m\n",
      "\u001b[34mEpoch: 51, Training MSE: 0.62426829, Training MAE: 0.55661947, Validation MSE: 0.62564802, Validation MAE: 0.56116551\u001b[0m\n",
      "\u001b[34mEpoch: 52, Training MSE: 0.56528622, Training MAE: 0.51703471, Validation MSE: 0.56431115, Validation MAE: 0.52133238\u001b[0m\n",
      "\u001b[34mEpoch: 53, Training MSE: 0.48338580, Training MAE: 0.50044978, Validation MSE: 0.48956463, Validation MAE: 0.50744265\u001b[0m\n",
      "\u001b[34mEpoch: 54, Training MSE: 0.43553525, Training MAE: 0.47923324, Validation MSE: 0.44227555, Validation MAE: 0.48648047\u001b[0m\n",
      "\u001b[34mEpoch: 55, Training MSE: 0.35612005, Training MAE: 0.43353313, Validation MSE: 0.36068287, Validation MAE: 0.44194695\u001b[0m\n",
      "\u001b[34mEpoch: 56, Training MSE: 0.28961724, Training MAE: 0.38577509, Validation MSE: 0.28760907, Validation MAE: 0.39124274\u001b[0m\n",
      "\u001b[34mEpoch: 57, Training MSE: 0.23493281, Training MAE: 0.34434411, Validation MSE: 0.23139068, Validation MAE: 0.34903371\u001b[0m\n",
      "\u001b[34mEpoch: 58, Training MSE: 0.18824278, Training MAE: 0.31285512, Validation MSE: 0.18519247, Validation MAE: 0.31736875\u001b[0m\n",
      "\u001b[34mEpoch: 59, Training MSE: 0.13519052, Training MAE: 0.25026840, Validation MSE: 0.12697770, Validation MAE: 0.24338084\u001b[0m\n",
      "\u001b[34mEpoch: 60, Training MSE: 0.10783965, Training MAE: 0.22494504, Validation MSE: 0.10037131, Validation MAE: 0.21977110\u001b[0m\n",
      "\u001b[34mEpoch: 61, Training MSE: 0.07841540, Training MAE: 0.20215994, Validation MSE: 0.07627708, Validation MAE: 0.20460428\u001b[0m\n",
      "\u001b[34mEpoch: 62, Training MSE: 0.10607186, Training MAE: 0.23346062, Validation MSE: 0.09658352, Validation MAE: 0.21867666\u001b[0m\n",
      "\u001b[34mEpoch: 63, Training MSE: 0.04203124, Training MAE: 0.14851123, Validation MSE: 0.04000783, Validation MAE: 0.14856680\u001b[0m\n",
      "\u001b[34mEpoch: 64, Training MSE: 0.06672367, Training MAE: 0.18012488, Validation MSE: 0.06016183, Validation MAE: 0.16995212\u001b[0m\n",
      "\u001b[34mEpoch: 65, Training MSE: 0.05492795, Training MAE: 0.16586365, Validation MSE: 0.04961913, Validation MAE: 0.15760899\u001b[0m\n",
      "\u001b[34mEpoch: 66, Training MSE: 0.04318057, Training MAE: 0.15155143, Validation MSE: 0.03953049, Validation MAE: 0.14395885\u001b[0m\n",
      "\u001b[34mEpoch: 67, Training MSE: 0.04042256, Training MAE: 0.14951189, Validation MSE: 0.03764834, Validation MAE: 0.14100015\u001b[0m\n",
      "\u001b[34mEpoch: 68, Training MSE: 0.04020328, Training MAE: 0.14930299, Validation MSE: 0.03684006, Validation MAE: 0.14093764\u001b[0m\n",
      "\u001b[34mEpoch: 69, Training MSE: 0.02125447, Training MAE: 0.11240658, Validation MSE: 0.02199447, Validation MAE: 0.11499982\u001b[0m\n",
      "\u001b[34mEpoch: 70, Training MSE: 0.02247506, Training MAE: 0.11556982, Validation MSE: 0.02310467, Validation MAE: 0.11625039\u001b[0m\n",
      "\u001b[34mEpoch: 71, Training MSE: 0.02099751, Training MAE: 0.10940610, Validation MSE: 0.02273027, Validation MAE: 0.11446522\u001b[0m\n",
      "\u001b[34mEpoch: 72, Training MSE: 0.01959458, Training MAE: 0.10804821, Validation MSE: 0.02048094, Validation MAE: 0.10938440\u001b[0m\n",
      "\u001b[34mEpoch: 73, Training MSE: 0.02325620, Training MAE: 0.11631473, Validation MSE: 0.02272029, Validation MAE: 0.11484972\u001b[0m\n",
      "\u001b[34mEpoch: 74, Training MSE: 0.01897359, Training MAE: 0.10605013, Validation MSE: 0.01978584, Validation MAE: 0.10613209\u001b[0m\n",
      "\u001b[34mEpoch: 75, Training MSE: 0.01801419, Training MAE: 0.10387199, Validation MSE: 0.02141028, Validation MAE: 0.11371102\u001b[0m\n",
      "\u001b[34mEpoch: 76, Training MSE: 0.01513335, Training MAE: 0.09631745, Validation MSE: 0.01754676, Validation MAE: 0.10411418\u001b[0m\n",
      "\u001b[34mEpoch: 77, Training MSE: 0.01405459, Training MAE: 0.09326106, Validation MSE: 0.01588043, Validation MAE: 0.09911833\u001b[0m\n",
      "\u001b[34mEpoch: 78, Training MSE: 0.01692318, Training MAE: 0.10170864, Validation MSE: 0.01757255, Validation MAE: 0.10244492\u001b[0m\n",
      "\u001b[34mEpoch: 79, Training MSE: 0.01504662, Training MAE: 0.09623520, Validation MSE: 0.01591606, Validation MAE: 0.09844373\u001b[0m\n",
      "\u001b[34mEpoch: 80, Training MSE: 0.02136893, Training MAE: 0.11274619, Validation MSE: 0.02111561, Validation MAE: 0.11000717\u001b[0m\n",
      "\u001b[34mEpoch: 81, Training MSE: 0.01415767, Training MAE: 0.09419532, Validation MSE: 0.01585395, Validation MAE: 0.09930626\u001b[0m\n",
      "\u001b[34mEpoch: 82, Training MSE: 0.02870727, Training MAE: 0.12737240, Validation MSE: 0.02702734, Validation MAE: 0.11957029\u001b[0m\n",
      "\u001b[34mEpoch: 83, Training MSE: 0.01910751, Training MAE: 0.10813783, Validation MSE: 0.01789379, Validation MAE: 0.10468616\u001b[0m\n",
      "\u001b[34mEpoch: 84, Training MSE: 0.01299918, Training MAE: 0.09039167, Validation MSE: 0.01372625, Validation MAE: 0.09284689\u001b[0m\n",
      "\u001b[34mEpoch: 85, Training MSE: 0.01198198, Training MAE: 0.08727083, Validation MSE: 0.01323709, Validation MAE: 0.09180697\u001b[0m\n",
      "\u001b[34mEpoch: 86, Training MSE: 0.01503687, Training MAE: 0.09722529, Validation MSE: 0.01855136, Validation MAE: 0.10724502\u001b[0m\n",
      "\u001b[34mEpoch: 87, Training MSE: 0.01384462, Training MAE: 0.09278493, Validation MSE: 0.01528115, Validation MAE: 0.09761593\u001b[0m\n",
      "\u001b[34mEpoch: 88, Training MSE: 0.01209847, Training MAE: 0.08721094, Validation MSE: 0.01300147, Validation MAE: 0.09058747\u001b[0m\n",
      "\u001b[34mEpoch: 89, Training MSE: 0.01229398, Training MAE: 0.08803723, Validation MSE: 0.01318288, Validation MAE: 0.09092303\u001b[0m\n",
      "\u001b[34mEpoch: 90, Training MSE: 0.01312649, Training MAE: 0.09100138, Validation MSE: 0.01312210, Validation MAE: 0.09092141\u001b[0m\n",
      "\u001b[34mEpoch: 91, Training MSE: 0.01239554, Training MAE: 0.08867706, Validation MSE: 0.01261126, Validation MAE: 0.08946280\u001b[0m\n",
      "\u001b[34mEpoch: 92, Training MSE: 0.01356298, Training MAE: 0.09210184, Validation MSE: 0.01351135, Validation MAE: 0.09205007\u001b[0m\n",
      "\u001b[34mEpoch: 93, Training MSE: 0.01232221, Training MAE: 0.08793712, Validation MSE: 0.01365999, Validation MAE: 0.09270874\u001b[0m\n",
      "\u001b[34mEpoch: 94, Training MSE: 0.01349995, Training MAE: 0.09248631, Validation MSE: 0.01569413, Validation MAE: 0.09970840\u001b[0m\n",
      "\u001b[34mEpoch: 95, Training MSE: 0.01295502, Training MAE: 0.09041773, Validation MSE: 0.01430728, Validation MAE: 0.09547050\u001b[0m\n",
      "\u001b[34mEpoch: 96, Training MSE: 0.01215621, Training MAE: 0.08744032, Validation MSE: 0.01381929, Validation MAE: 0.09320491\u001b[0m\n",
      "\u001b[34mEpoch: 97, Training MSE: 0.01124957, Training MAE: 0.08463220, Validation MSE: 0.01181874, Validation MAE: 0.08685628\u001b[0m\n",
      "\u001b[34mEpoch: 98, Training MSE: 0.01214519, Training MAE: 0.08768394, Validation MSE: 0.01187096, Validation MAE: 0.08666572\u001b[0m\n",
      "\u001b[34mEpoch: 99, Training MSE: 0.01150060, Training MAE: 0.08539994, Validation MSE: 0.01179071, Validation MAE: 0.08670899\u001b[0m\n",
      "\u001b[34mEpoch: 100, Training MSE: 0.01140339, Training MAE: 0.08514836, Validation MSE: 0.01183007, Validation MAE: 0.08676928\u001b[0m\n",
      "\u001b[34m--------------------------------------\u001b[0m\n",
      "\u001b[34mScoring the model.\u001b[0m\n",
      "\u001b[34mtrain:mse 0.01140339\u001b[0m\n",
      "\u001b[34mtrain:mae 0.08514836\u001b[0m\n",
      "\u001b[34mvalid:mse 0.01183007\u001b[0m\n",
      "\u001b[34mvalid:mae 0.08676928\u001b[0m\n",
      "\u001b[34m--------------------------------------\u001b[0m\n",
      "\u001b[34m2023-10-01 09:48:44,153 sagemaker-training-toolkit INFO     Waiting for the process to finish and give a return code.\u001b[0m\n",
      "\u001b[34m2023-10-01 09:48:44,154 sagemaker-training-toolkit INFO     Done waiting for a return code. Received 0 from exiting process.\u001b[0m\n",
      "\u001b[34m2023-10-01 09:48:44,154 sagemaker-training-toolkit INFO     Reporting training SUCCESS\u001b[0m\n",
      "\n",
      "2023-10-01 09:48:58 Uploading - Uploading generated training model\n",
      "2023-10-01 09:48:58 Completed - Training job completed\n",
      "Training seconds: 312\n",
      "Billable seconds: 312\n"
     ]
    }
   ],
   "source": [
    "# run the training job\n",
    "estimator.fit({\"training\": training_data, \"validation\": validation_data})"
   ]
  },
  {
   "cell_type": "markdown",
   "metadata": {},
   "source": [
    "See this [blog-post](https://aws.amazon.com/blogs/machine-learning/easily-monitor-and-visualize-metrics-while-training-models-on-amazon-sagemaker/) for more information how to visualize metrics during the process. You can also open the training job from [Amazon SageMaker console](https://console.aws.amazon.com/sagemaker/home?#/jobs/) and monitor the metrics/logs in **Monitor** section."
   ]
  },
  {
   "cell_type": "markdown",
   "metadata": {},
   "source": [
    "## 4: Deploy model and verify results"
   ]
  },
  {
   "cell_type": "markdown",
   "metadata": {},
   "source": [
    "Now you can deploy the model for performing real-time inference."
   ]
  },
  {
   "cell_type": "markdown",
   "metadata": {},
   "source": [
    "### A. Deploy trained model"
   ]
  },
  {
   "cell_type": "code",
   "execution_count": 21,
   "metadata": {
    "tags": []
   },
   "outputs": [
    {
     "name": "stderr",
     "output_type": "stream",
     "text": [
      "INFO:sagemaker:Creating model package with name: lstm-ae-model-2023-10-01-09-49-21-747476\n"
     ]
    },
    {
     "name": "stdout",
     "output_type": "stream",
     "text": [
      "........."
     ]
    },
    {
     "name": "stderr",
     "output_type": "stream",
     "text": [
      "INFO:sagemaker:Creating model with name: lstm-ae-model-2023-10-01-09-49-21-747476\n"
     ]
    },
    {
     "name": "stdout",
     "output_type": "stream",
     "text": [
      "\n"
     ]
    },
    {
     "name": "stderr",
     "output_type": "stream",
     "text": [
      "INFO:sagemaker:Creating endpoint-config with name lstm-ae-endpoint-2023-10-01-09-49-21-747507\n",
      "INFO:sagemaker:Creating endpoint with name lstm-ae-endpoint-2023-10-01-09-49-21-747507\n"
     ]
    },
    {
     "name": "stdout",
     "output_type": "stream",
     "text": [
      "--------!"
     ]
    }
   ],
   "source": [
    "predictor = estimator.deploy(\n",
    "    initial_instance_count=1,\n",
    "    instance_type=instance_type,\n",
    "    serializer=sagemaker.serializers.CSVSerializer(content_type=\"text/csv\"),\n",
    "    model_name=f\"lstm-ae-model-{datetime.datetime.now().strftime(format='%Y-%m-%d-%H-%M-%S-%f')}\",\n",
    "    endpoint_name=f\"lstm-ae-endpoint-{datetime.datetime.now().strftime(format='%Y-%m-%d-%H-%M-%S-%f')}\",\n",
    ")"
   ]
  },
  {
   "cell_type": "markdown",
   "metadata": {},
   "source": [
    "Once the endpoint is in service, you can perform real-time inference."
   ]
  },
  {
   "cell_type": "markdown",
   "metadata": {},
   "source": [
    "### B. Create input payload"
   ]
  },
  {
   "cell_type": "markdown",
   "metadata": {},
   "source": [
    "The inference algorithm takes as input a CSV file containing the time series.\n",
    "Each column of the CSV file represents a time series, while each row represents a time step.\n",
    "The CSV file should not contain any index column or column headers.\n",
    "All the time series should have the same length and should not contain missing values."
   ]
  },
  {
   "cell_type": "markdown",
   "metadata": {},
   "source": [
    "**Test dataset:**"
   ]
  },
  {
   "cell_type": "code",
   "execution_count": 22,
   "metadata": {
    "tags": []
   },
   "outputs": [],
   "source": [
    "test_dataset = pd.read_csv(\n",
    "    \"https://raw.githubusercontent.com/fg-research/lstm-ae-sagemaker/master/data/inference/input/test.csv\",\n",
    "    header=None,\n",
    "    index_col=None\n",
    ")"
   ]
  },
  {
   "cell_type": "code",
   "execution_count": 23,
   "metadata": {
    "tags": []
   },
   "outputs": [
    {
     "data": {
      "text/plain": [
       "(5000, 2)"
      ]
     },
     "execution_count": 23,
     "metadata": {},
     "output_type": "execute_result"
    }
   ],
   "source": [
    "test_dataset.shape"
   ]
  },
  {
   "cell_type": "code",
   "execution_count": 24,
   "metadata": {
    "tags": []
   },
   "outputs": [
    {
     "data": {
      "text/html": [
       "<div>\n",
       "<style scoped>\n",
       "    .dataframe tbody tr th:only-of-type {\n",
       "        vertical-align: middle;\n",
       "    }\n",
       "\n",
       "    .dataframe tbody tr th {\n",
       "        vertical-align: top;\n",
       "    }\n",
       "\n",
       "    .dataframe thead th {\n",
       "        text-align: right;\n",
       "    }\n",
       "</style>\n",
       "<table border=\"1\" class=\"dataframe\">\n",
       "  <thead>\n",
       "    <tr style=\"text-align: right;\">\n",
       "      <th></th>\n",
       "      <th>0</th>\n",
       "      <th>1</th>\n",
       "    </tr>\n",
       "  </thead>\n",
       "  <tbody>\n",
       "    <tr>\n",
       "      <th>0</th>\n",
       "      <td>-11.013412</td>\n",
       "      <td>-11.392782</td>\n",
       "    </tr>\n",
       "    <tr>\n",
       "      <th>1</th>\n",
       "      <td>-12.690769</td>\n",
       "      <td>-13.362681</td>\n",
       "    </tr>\n",
       "    <tr>\n",
       "      <th>2</th>\n",
       "      <td>-12.638245</td>\n",
       "      <td>-10.937028</td>\n",
       "    </tr>\n",
       "    <tr>\n",
       "      <th>3</th>\n",
       "      <td>-14.549574</td>\n",
       "      <td>-13.608522</td>\n",
       "    </tr>\n",
       "    <tr>\n",
       "      <th>4</th>\n",
       "      <td>-14.831431</td>\n",
       "      <td>-14.712521</td>\n",
       "    </tr>\n",
       "  </tbody>\n",
       "</table>\n",
       "</div>"
      ],
      "text/plain": [
       "           0          1\n",
       "0 -11.013412 -11.392782\n",
       "1 -12.690769 -13.362681\n",
       "2 -12.638245 -10.937028\n",
       "3 -14.549574 -13.608522\n",
       "4 -14.831431 -14.712521"
      ]
     },
     "execution_count": 24,
     "metadata": {},
     "output_type": "execute_result"
    }
   ],
   "source": [
    "test_dataset.head()"
   ]
  },
  {
   "cell_type": "code",
   "execution_count": 25,
   "metadata": {
    "tags": []
   },
   "outputs": [
    {
     "data": {
      "image/png": "[encoded data removed]",
      "text/plain": [
       "<Figure size 640x480 with 2 Axes>"
      ]
     },
     "metadata": {},
     "output_type": "display_data"
    }
   ],
   "source": [
    "fig, axs = plt.subplots(nrows=test_dataset.shape[1], ncols=1, sharex=True)\n",
    "for i in range(test_dataset.shape[1]):\n",
    "    axs[i].plot(test_dataset.iloc[:, i], color=\"#AFB8C1\", lw=1)\n",
    "    axs[i].set_title(f\"Time Series {i + 1}\", size=10)\n",
    "    axs[i].set(xlabel=\"Time\", ylabel=\"Value\")\n",
    "    axs[i].xaxis.set_tick_params(labelbottom=True)\n",
    "    axs[i].tick_params(axis=\"both\", which=\"major\", labelsize=7)\n",
    "    axs[i].tick_params(axis=\"both\", which=\"minor\", labelsize=7)\n",
    "fig.subplots_adjust(hspace=0.75)\n",
    "fig.suptitle(\"Test Dataset\")\n",
    "fig.show()"
   ]
  },
  {
   "cell_type": "code",
   "execution_count": 26,
   "metadata": {
    "tags": []
   },
   "outputs": [],
   "source": [
    "test_data = sagemaker_session.upload_string_as_file_body(\n",
    "    body=test_dataset.to_csv(index=False, header=False),\n",
    "    bucket=bucket,\n",
    "    key=\"data/inference/input/test.csv\"\n",
    ")"
   ]
  },
  {
   "cell_type": "code",
   "execution_count": 27,
   "metadata": {
    "tags": []
   },
   "outputs": [
    {
     "data": {
      "text/plain": [
       "'s3://sagemaker-eu-west-1-661670223746/data/inference/input/test.csv'"
      ]
     },
     "execution_count": 27,
     "metadata": {},
     "output_type": "execute_result"
    }
   ],
   "source": [
    "test_data"
   ]
  },
  {
   "cell_type": "code",
   "execution_count": 28,
   "metadata": {
    "tags": []
   },
   "outputs": [],
   "source": [
    "payload = sagemaker_session.read_s3_file(\n",
    "    bucket=bucket,\n",
    "    key_prefix=\"data/inference/input/test.csv\"\n",
    ")"
   ]
  },
  {
   "cell_type": "markdown",
   "metadata": {},
   "source": [
    "### C. Perform real-time inference"
   ]
  },
  {
   "cell_type": "code",
   "execution_count": 29,
   "metadata": {
    "tags": []
   },
   "outputs": [],
   "source": [
    "response = sagemaker_session.sagemaker_runtime_client.invoke_endpoint(\n",
    "    EndpointName=predictor.endpoint_name,\n",
    "    ContentType=\"text/csv\",\n",
    "    Body=payload\n",
    ")\n",
    "\n",
    "real_time_predictions = response[\"Body\"].read().decode(\"utf-8\").split(\"\\n\")[:-1]\n",
    "real_time_predictions = pd.DataFrame([x.split(\",\") for x in real_time_predictions]).astype(float)"
   ]
  },
  {
   "cell_type": "code",
   "execution_count": 30,
   "metadata": {
    "tags": []
   },
   "outputs": [
    {
     "data": {
      "text/plain": [
       "{'ResponseMetadata': {'RequestId': 'c34894bb-9aa6-4868-9a14-052f2d953696',\n",
       "  'HTTPStatusCode': 200,\n",
       "  'HTTPHeaders': {'x-amzn-requestid': 'c34894bb-9aa6-4868-9a14-052f2d953696',\n",
       "   'x-amzn-invoked-production-variant': 'AllTraffic',\n",
       "   'date': 'Sun, 01 Oct 2023 09:54:41 GMT',\n",
       "   'content-type': 'application/json',\n",
       "   'content-length': '284762',\n",
       "   'connection': 'keep-alive'},\n",
       "  'RetryAttempts': 0},\n",
       " 'ContentType': 'application/json',\n",
       " 'InvokedProductionVariant': 'AllTraffic',\n",
       " 'Body': <botocore.response.StreamingBody at 0x7fdcedb23250>}"
      ]
     },
     "execution_count": 30,
     "metadata": {},
     "output_type": "execute_result"
    }
   ],
   "source": [
    "response"
   ]
  },
  {
   "cell_type": "code",
   "execution_count": 31,
   "metadata": {
    "tags": []
   },
   "outputs": [],
   "source": [
    "real_time_results = sagemaker_session.upload_string_as_file_body(\n",
    "    body=real_time_predictions.to_csv(index=False, header=False),\n",
    "    bucket=bucket,\n",
    "    key=\"data/inference/output/real-time/real_time_predictions.csv\"\n",
    ")"
   ]
  },
  {
   "cell_type": "code",
   "execution_count": 32,
   "metadata": {
    "tags": []
   },
   "outputs": [
    {
     "data": {
      "text/plain": [
       "'s3://sagemaker-eu-west-1-661670223746/data/inference/output/real-time/real_time_predictions.csv'"
      ]
     },
     "execution_count": 32,
     "metadata": {},
     "output_type": "execute_result"
    }
   ],
   "source": [
    "real_time_results"
   ]
  },
  {
   "cell_type": "markdown",
   "metadata": {},
   "source": [
    "### D. Visualize output"
   ]
  },
  {
   "cell_type": "markdown",
   "metadata": {},
   "source": [
    "The inference algorithm outputs the anomaly scores and the reconstructed values of the time series. The anomaly scores are included in the first column, while the reconstructed values of the time series are included in the subsequent columns."
   ]
  },
  {
   "cell_type": "code",
   "execution_count": 33,
   "metadata": {
    "tags": []
   },
   "outputs": [
    {
     "data": {
      "text/plain": [
       "(5000, 3)"
      ]
     },
     "execution_count": 33,
     "metadata": {},
     "output_type": "execute_result"
    }
   ],
   "source": [
    "real_time_predictions.shape"
   ]
  },
  {
   "cell_type": "code",
   "execution_count": 34,
   "metadata": {
    "tags": []
   },
   "outputs": [
    {
     "data": {
      "text/html": [
       "<div>\n",
       "<style scoped>\n",
       "    .dataframe tbody tr th:only-of-type {\n",
       "        vertical-align: middle;\n",
       "    }\n",
       "\n",
       "    .dataframe tbody tr th {\n",
       "        vertical-align: top;\n",
       "    }\n",
       "\n",
       "    .dataframe thead th {\n",
       "        text-align: right;\n",
       "    }\n",
       "</style>\n",
       "<table border=\"1\" class=\"dataframe\">\n",
       "  <thead>\n",
       "    <tr style=\"text-align: right;\">\n",
       "      <th></th>\n",
       "      <th>0</th>\n",
       "      <th>1</th>\n",
       "      <th>2</th>\n",
       "    </tr>\n",
       "  </thead>\n",
       "  <tbody>\n",
       "    <tr>\n",
       "      <th>0</th>\n",
       "      <td>1.769850</td>\n",
       "      <td>-11.202462</td>\n",
       "      <td>-11.087063</td>\n",
       "    </tr>\n",
       "    <tr>\n",
       "      <th>1</th>\n",
       "      <td>0.788255</td>\n",
       "      <td>-12.180664</td>\n",
       "      <td>-12.036221</td>\n",
       "    </tr>\n",
       "    <tr>\n",
       "      <th>2</th>\n",
       "      <td>3.480968</td>\n",
       "      <td>-13.106529</td>\n",
       "      <td>-12.952567</td>\n",
       "    </tr>\n",
       "    <tr>\n",
       "      <th>3</th>\n",
       "      <td>1.116996</td>\n",
       "      <td>-13.965368</td>\n",
       "      <td>-13.827373</td>\n",
       "    </tr>\n",
       "    <tr>\n",
       "      <th>4</th>\n",
       "      <td>2.885565</td>\n",
       "      <td>-14.744942</td>\n",
       "      <td>-14.648471</td>\n",
       "    </tr>\n",
       "  </tbody>\n",
       "</table>\n",
       "</div>"
      ],
      "text/plain": [
       "          0          1          2\n",
       "0  1.769850 -11.202462 -11.087063\n",
       "1  0.788255 -12.180664 -12.036221\n",
       "2  3.480968 -13.106529 -12.952567\n",
       "3  1.116996 -13.965368 -13.827373\n",
       "4  2.885565 -14.744942 -14.648471"
      ]
     },
     "execution_count": 34,
     "metadata": {},
     "output_type": "execute_result"
    }
   ],
   "source": [
    "real_time_predictions.head()"
   ]
  },
  {
   "cell_type": "code",
   "execution_count": 35,
   "metadata": {
    "tags": []
   },
   "outputs": [
    {
     "data": {
      "text/html": [
       "<div>\n",
       "<style scoped>\n",
       "    .dataframe tbody tr th:only-of-type {\n",
       "        vertical-align: middle;\n",
       "    }\n",
       "\n",
       "    .dataframe tbody tr th {\n",
       "        vertical-align: top;\n",
       "    }\n",
       "\n",
       "    .dataframe thead th {\n",
       "        text-align: right;\n",
       "    }\n",
       "</style>\n",
       "<table border=\"1\" class=\"dataframe\">\n",
       "  <thead>\n",
       "    <tr style=\"text-align: right;\">\n",
       "      <th></th>\n",
       "      <th>0</th>\n",
       "      <th>1</th>\n",
       "      <th>2</th>\n",
       "    </tr>\n",
       "  </thead>\n",
       "  <tbody>\n",
       "    <tr>\n",
       "      <th>4995</th>\n",
       "      <td>1.461864</td>\n",
       "      <td>-6.230545</td>\n",
       "      <td>-6.301252</td>\n",
       "    </tr>\n",
       "    <tr>\n",
       "      <th>4996</th>\n",
       "      <td>1.057116</td>\n",
       "      <td>-7.335648</td>\n",
       "      <td>-7.313416</td>\n",
       "    </tr>\n",
       "    <tr>\n",
       "      <th>4997</th>\n",
       "      <td>1.420708</td>\n",
       "      <td>-8.451914</td>\n",
       "      <td>-8.317782</td>\n",
       "    </tr>\n",
       "    <tr>\n",
       "      <th>4998</th>\n",
       "      <td>1.298932</td>\n",
       "      <td>-9.247356</td>\n",
       "      <td>-9.131571</td>\n",
       "    </tr>\n",
       "    <tr>\n",
       "      <th>4999</th>\n",
       "      <td>1.482934</td>\n",
       "      <td>-10.201755</td>\n",
       "      <td>-10.224044</td>\n",
       "    </tr>\n",
       "  </tbody>\n",
       "</table>\n",
       "</div>"
      ],
      "text/plain": [
       "             0          1          2\n",
       "4995  1.461864  -6.230545  -6.301252\n",
       "4996  1.057116  -7.335648  -7.313416\n",
       "4997  1.420708  -8.451914  -8.317782\n",
       "4998  1.298932  -9.247356  -9.131571\n",
       "4999  1.482934 -10.201755 -10.224044"
      ]
     },
     "execution_count": 35,
     "metadata": {},
     "output_type": "execute_result"
    }
   ],
   "source": [
    "real_time_predictions.tail()"
   ]
  },
  {
   "cell_type": "code",
   "execution_count": 36,
   "metadata": {
    "tags": []
   },
   "outputs": [
    {
     "data": {
      "image/png": "[encoded data removed]",
      "text/plain": [
       "<Figure size 600x700 with 3 Axes>"
      ]
     },
     "metadata": {},
     "output_type": "display_data"
    }
   ],
   "source": [
    "fig, axs = plt.subplots(nrows=test_dataset.shape[1] + 1, ncols=1, sharex=True, figsize=(6, 7))\n",
    "for i in range(test_dataset.shape[1]):\n",
    "    axs[i].plot(test_dataset.iloc[:, i], color=\"#AFB8C1\", lw=0.5, label=\"Actual\" if i == 0 else None)\n",
    "    axs[i].plot(real_time_predictions.iloc[:, i + 1], color=\"#009ad3\", lw=1, label=\"Reconstructed\" if i == 0 else None)\n",
    "    axs[i].set_title(f\"Time Series {i + 1}\", size=10)\n",
    "    axs[i].set(xlabel=\"Time\", ylabel=\"Value\")\n",
    "    axs[i].xaxis.set_tick_params(labelbottom=True)\n",
    "    axs[i].tick_params(axis=\"both\", which=\"major\", labelsize=7)\n",
    "    axs[i].tick_params(axis=\"both\", which=\"minor\", labelsize=7)\n",
    "i += 1\n",
    "axs[i].set_title(\"Anomaly Score\", size=10)\n",
    "axs[i].plot(real_time_predictions.iloc[:, 0], color=\"#57606a\", lw=1)\n",
    "axs[i].set(xlabel=\"Time\", ylabel=\"Value\")\n",
    "axs[i].xaxis.set_tick_params(labelbottom=True)\n",
    "axs[i].tick_params(axis=\"both\", which=\"major\", labelsize=7)\n",
    "axs[i].tick_params(axis=\"both\", which=\"minor\", labelsize=7)\n",
    "fig.subplots_adjust(hspace=0.75)\n",
    "fig.suptitle(\"Real-Time Predictions on Test Dataset\")\n",
    "fig.legend(bbox_to_anchor=(1.2, 1, 0, 0), frameon=False)\n",
    "fig.show()"
   ]
  },
  {
   "cell_type": "markdown",
   "metadata": {},
   "source": [
    "### E. Calculate relevant metrics"
   ]
  },
  {
   "cell_type": "markdown",
   "metadata": {},
   "source": [
    "If enough labelled anomalous data is available, you can estimate the optimal threshold on the anomaly score as the one that maximixes the F-beta score between the actual and predicted anomaly labels. Once the appropriate threshold has been determined, the model can be used as a binary classifier which predicts 1 (anomalous) if the anomaly score is above the threshold, and 0 (normal) if the anomaly score is below the threshold. After that the standard classification metrics (such as accuracy, precision, recall, etc.) can be computed as usual."
   ]
  },
  {
   "cell_type": "markdown",
   "metadata": {},
   "source": [
    "If [Amazon SageMaker Model Monitor](https://docs.aws.amazon.com/sagemaker/latest/dg/model-monitor.html) supports the type of problem you are trying to solve using this algorithm, use the following examples to add Model Monitor support to your product.\n",
    "For sample code to enable and monitor the model, see following notebooks:\n",
    "1. [Enable Amazon SageMaker Model Monitor](https://github.com/awslabs/amazon-sagemaker-examples/blob/master/sagemaker_model_monitor/enable_model_monitor/SageMaker-Enable-Model-Monitor.ipynb)\n",
    "2. [Amazon SageMaker Model Monitor - visualizing monitoring results](https://github.com/awslabs/amazon-sagemaker-examples/blob/master/sagemaker_model_monitor/visualization/SageMaker-Model-Monitor-Visualize.ipynb)"
   ]
  },
  {
   "cell_type": "markdown",
   "metadata": {},
   "source": [
    "### F. Delete the endpoint"
   ]
  },
  {
   "cell_type": "markdown",
   "metadata": {},
   "source": [
    "Now that you have successfully performed a real-time inference, you do not need the endpoint any more. You can terminate the same to avoid being charged."
   ]
  },
  {
   "cell_type": "code",
   "execution_count": 37,
   "metadata": {
    "tags": []
   },
   "outputs": [
    {
     "name": "stderr",
     "output_type": "stream",
     "text": [
      "INFO:sagemaker:Deleting endpoint configuration with name: lstm-ae-endpoint-2023-10-01-09-49-21-747507\n",
      "INFO:sagemaker:Deleting endpoint with name: lstm-ae-endpoint-2023-10-01-09-49-21-747507\n"
     ]
    }
   ],
   "source": [
    "predictor.delete_endpoint(delete_endpoint_config=True)"
   ]
  },
  {
   "cell_type": "markdown",
   "metadata": {},
   "source": [
    "Since this is an experiment, you do not need to run a hyperparameter tuning job. However, if you would like to see how to tune a model trained using a third-party algorithm with Amazon SageMaker's hyperparameter tuning functionality, you can run the optional tuning step."
   ]
  },
  {
   "cell_type": "markdown",
   "metadata": {},
   "source": [
    "## 5: Tune your model! (optional)"
   ]
  },
  {
   "cell_type": "markdown",
   "metadata": {},
   "source": [
    "### A. Tuning Guidelines"
   ]
  },
  {
   "cell_type": "markdown",
   "metadata": {},
   "source": [
    "The model has the following hyperparameters, all of which are tunable:\n",
    "- `sequence-length`: `int`. The length of the sequences.\n",
    "- `sequence-stride`: `int`. The period between consecutive sequences.\n",
    "- `hidden-size`: `int`. The number of hidden units of each LSTM layer.\n",
    "- `lr`: `float`. The learning rate used for training.\n",
    "- `batch-size`: `int`. The batch size used for training.\n",
    "- `epochs`: `int`. The number of training epochs."
   ]
  },
  {
   "cell_type": "markdown",
   "metadata": {},
   "source": [
    "### B. Define Tuning configuration"
   ]
  },
  {
   "cell_type": "code",
   "execution_count": 38,
   "metadata": {
    "tags": []
   },
   "outputs": [],
   "source": [
    "hyperparameter_ranges = {\n",
    "    \"hidden-size\": sagemaker.parameter.IntegerParameter(32, 512),\n",
    "    \"lr\": sagemaker.parameter.ContinuousParameter(0.0001, 0.01),\n",
    "    \"batch-size\": sagemaker.parameter.CategoricalParameter([32, 64, 128]),\n",
    "    \"epochs\": sagemaker.parameter.IntegerParameter(20, 200),\n",
    "}"
   ]
  },
  {
   "cell_type": "markdown",
   "metadata": {},
   "source": [
    "We use the validation mean absolute error (MAE) as the objective to be minimized."
   ]
  },
  {
   "cell_type": "code",
   "execution_count": 39,
   "metadata": {
    "tags": []
   },
   "outputs": [],
   "source": [
    "objective_metric_name = \"valid_mae\""
   ]
  },
  {
   "cell_type": "code",
   "execution_count": 40,
   "metadata": {
    "tags": []
   },
   "outputs": [],
   "source": [
    "objective_type = \"Minimize\""
   ]
  },
  {
   "cell_type": "markdown",
   "metadata": {},
   "source": [
    "### C. Run a model tuning job"
   ]
  },
  {
   "cell_type": "markdown",
   "metadata": {},
   "source": [
    "In the interest of time, we run the tuner only for a few iterations. "
   ]
  },
  {
   "cell_type": "code",
   "execution_count": 41,
   "metadata": {
    "tags": []
   },
   "outputs": [],
   "source": [
    "tuner = sagemaker.tuner.HyperparameterTuner(\n",
    "    estimator=estimator,\n",
    "    base_tuning_job_name=\"lstm-ae-tuning\",\n",
    "    objective_metric_name=objective_metric_name,\n",
    "    objective_type=objective_type,\n",
    "    hyperparameter_ranges=hyperparameter_ranges,\n",
    "    max_jobs=8,\n",
    "    max_parallel_jobs=4,\n",
    "    random_seed=100,\n",
    ")"
   ]
  },
  {
   "cell_type": "code",
   "execution_count": 42,
   "metadata": {
    "tags": []
   },
   "outputs": [
    {
     "name": "stderr",
     "output_type": "stream",
     "text": [
      "INFO:sagemaker:Creating hyperparameter tuning job with name: lstm-ae-tuning-231001-0954\n"
     ]
    },
    {
     "name": "stdout",
     "output_type": "stream",
     "text": [
      ".......................................................................................................................................................................................................!\n"
     ]
    }
   ],
   "source": [
    "tuner.fit({\"training\": training_data, \"validation\": validation_data})"
   ]
  },
  {
   "cell_type": "code",
   "execution_count": 43,
   "metadata": {
    "tags": []
   },
   "outputs": [
    {
     "data": {
      "text/html": [
       "<div>\n",
       "<style scoped>\n",
       "    .dataframe tbody tr th:only-of-type {\n",
       "        vertical-align: middle;\n",
       "    }\n",
       "\n",
       "    .dataframe tbody tr th {\n",
       "        vertical-align: top;\n",
       "    }\n",
       "\n",
       "    .dataframe thead th {\n",
       "        text-align: right;\n",
       "    }\n",
       "</style>\n",
       "<table border=\"1\" class=\"dataframe\">\n",
       "  <thead>\n",
       "    <tr style=\"text-align: right;\">\n",
       "      <th></th>\n",
       "      <th>batch-size</th>\n",
       "      <th>epochs</th>\n",
       "      <th>hidden-size</th>\n",
       "      <th>lr</th>\n",
       "      <th>TrainingJobName</th>\n",
       "      <th>TrainingJobStatus</th>\n",
       "      <th>FinalObjectiveValue</th>\n",
       "      <th>TrainingStartTime</th>\n",
       "      <th>TrainingEndTime</th>\n",
       "      <th>TrainingElapsedTimeSeconds</th>\n",
       "    </tr>\n",
       "  </thead>\n",
       "  <tbody>\n",
       "    <tr>\n",
       "      <th>0</th>\n",
       "      <td>32.0</td>\n",
       "      <td>126.0</td>\n",
       "      <td>459.0</td>\n",
       "      <td>0.000542</td>\n",
       "      <td>lstm-ae-tuning-231001-0954-005-c29b8412</td>\n",
       "      <td>Completed</td>\n",
       "      <td>0.084883</td>\n",
       "      <td>2023-10-01 10:01:13+00:00</td>\n",
       "      <td>2023-10-01 10:08:28+00:00</td>\n",
       "      <td>435.0</td>\n",
       "    </tr>\n",
       "    <tr>\n",
       "      <th>1</th>\n",
       "      <td>32.0</td>\n",
       "      <td>109.0</td>\n",
       "      <td>291.0</td>\n",
       "      <td>0.000316</td>\n",
       "      <td>lstm-ae-tuning-231001-0954-001-2bd320e8</td>\n",
       "      <td>Completed</td>\n",
       "      <td>0.088965</td>\n",
       "      <td>2023-10-01 09:55:55+00:00</td>\n",
       "      <td>2023-10-01 10:02:43+00:00</td>\n",
       "      <td>408.0</td>\n",
       "    </tr>\n",
       "    <tr>\n",
       "      <th>2</th>\n",
       "      <td>32.0</td>\n",
       "      <td>128.0</td>\n",
       "      <td>116.0</td>\n",
       "      <td>0.006765</td>\n",
       "      <td>lstm-ae-tuning-231001-0954-002-6a839cc7</td>\n",
       "      <td>Completed</td>\n",
       "      <td>0.092682</td>\n",
       "      <td>2023-10-01 09:55:53+00:00</td>\n",
       "      <td>2023-10-01 10:01:36+00:00</td>\n",
       "      <td>343.0</td>\n",
       "    </tr>\n",
       "    <tr>\n",
       "      <th>3</th>\n",
       "      <td>32.0</td>\n",
       "      <td>188.0</td>\n",
       "      <td>32.0</td>\n",
       "      <td>0.007326</td>\n",
       "      <td>lstm-ae-tuning-231001-0954-007-17510614</td>\n",
       "      <td>Completed</td>\n",
       "      <td>0.097734</td>\n",
       "      <td>2023-10-01 10:01:49+00:00</td>\n",
       "      <td>2023-10-01 10:03:41+00:00</td>\n",
       "      <td>112.0</td>\n",
       "    </tr>\n",
       "    <tr>\n",
       "      <th>4</th>\n",
       "      <td>32.0</td>\n",
       "      <td>156.0</td>\n",
       "      <td>510.0</td>\n",
       "      <td>0.000105</td>\n",
       "      <td>lstm-ae-tuning-231001-0954-008-a2e6d69c</td>\n",
       "      <td>Completed</td>\n",
       "      <td>0.105930</td>\n",
       "      <td>2023-10-01 10:02:59+00:00</td>\n",
       "      <td>2023-10-01 10:11:13+00:00</td>\n",
       "      <td>494.0</td>\n",
       "    </tr>\n",
       "    <tr>\n",
       "      <th>5</th>\n",
       "      <td>128.0</td>\n",
       "      <td>153.0</td>\n",
       "      <td>512.0</td>\n",
       "      <td>0.002168</td>\n",
       "      <td>lstm-ae-tuning-231001-0954-006-8cb5d5cb</td>\n",
       "      <td>Completed</td>\n",
       "      <td>0.584989</td>\n",
       "      <td>2023-10-01 10:01:33+00:00</td>\n",
       "      <td>2023-10-01 10:06:16+00:00</td>\n",
       "      <td>283.0</td>\n",
       "    </tr>\n",
       "    <tr>\n",
       "      <th>6</th>\n",
       "      <td>128.0</td>\n",
       "      <td>70.0</td>\n",
       "      <td>331.0</td>\n",
       "      <td>0.009531</td>\n",
       "      <td>lstm-ae-tuning-231001-0954-004-2d89cd4e</td>\n",
       "      <td>Completed</td>\n",
       "      <td>0.646134</td>\n",
       "      <td>2023-10-01 09:55:54+00:00</td>\n",
       "      <td>2023-10-01 10:01:22+00:00</td>\n",
       "      <td>328.0</td>\n",
       "    </tr>\n",
       "    <tr>\n",
       "      <th>7</th>\n",
       "      <td>64.0</td>\n",
       "      <td>41.0</td>\n",
       "      <td>320.0</td>\n",
       "      <td>0.006209</td>\n",
       "      <td>lstm-ae-tuning-231001-0954-003-3f4f30ad</td>\n",
       "      <td>Completed</td>\n",
       "      <td>0.876519</td>\n",
       "      <td>2023-10-01 09:55:51+00:00</td>\n",
       "      <td>2023-10-01 10:00:54+00:00</td>\n",
       "      <td>303.0</td>\n",
       "    </tr>\n",
       "  </tbody>\n",
       "</table>\n",
       "</div>"
      ],
      "text/plain": [
       "   batch-size  epochs  hidden-size        lr  \\\n",
       "0        32.0   126.0        459.0  0.000542   \n",
       "1        32.0   109.0        291.0  0.000316   \n",
       "2        32.0   128.0        116.0  0.006765   \n",
       "3        32.0   188.0         32.0  0.007326   \n",
       "4        32.0   156.0        510.0  0.000105   \n",
       "5       128.0   153.0        512.0  0.002168   \n",
       "6       128.0    70.0        331.0  0.009531   \n",
       "7        64.0    41.0        320.0  0.006209   \n",
       "\n",
       "                           TrainingJobName TrainingJobStatus  \\\n",
       "0  lstm-ae-tuning-231001-0954-005-c29b8412         Completed   \n",
       "1  lstm-ae-tuning-231001-0954-001-2bd320e8         Completed   \n",
       "2  lstm-ae-tuning-231001-0954-002-6a839cc7         Completed   \n",
       "3  lstm-ae-tuning-231001-0954-007-17510614         Completed   \n",
       "4  lstm-ae-tuning-231001-0954-008-a2e6d69c         Completed   \n",
       "5  lstm-ae-tuning-231001-0954-006-8cb5d5cb         Completed   \n",
       "6  lstm-ae-tuning-231001-0954-004-2d89cd4e         Completed   \n",
       "7  lstm-ae-tuning-231001-0954-003-3f4f30ad         Completed   \n",
       "\n",
       "   FinalObjectiveValue         TrainingStartTime           TrainingEndTime  \\\n",
       "0             0.084883 2023-10-01 10:01:13+00:00 2023-10-01 10:08:28+00:00   \n",
       "1             0.088965 2023-10-01 09:55:55+00:00 2023-10-01 10:02:43+00:00   \n",
       "2             0.092682 2023-10-01 09:55:53+00:00 2023-10-01 10:01:36+00:00   \n",
       "3             0.097734 2023-10-01 10:01:49+00:00 2023-10-01 10:03:41+00:00   \n",
       "4             0.105930 2023-10-01 10:02:59+00:00 2023-10-01 10:11:13+00:00   \n",
       "5             0.584989 2023-10-01 10:01:33+00:00 2023-10-01 10:06:16+00:00   \n",
       "6             0.646134 2023-10-01 09:55:54+00:00 2023-10-01 10:01:22+00:00   \n",
       "7             0.876519 2023-10-01 09:55:51+00:00 2023-10-01 10:00:54+00:00   \n",
       "\n",
       "   TrainingElapsedTimeSeconds  \n",
       "0                       435.0  \n",
       "1                       408.0  \n",
       "2                       343.0  \n",
       "3                       112.0  \n",
       "4                       494.0  \n",
       "5                       283.0  \n",
       "6                       328.0  \n",
       "7                       303.0  "
      ]
     },
     "execution_count": 43,
     "metadata": {},
     "output_type": "execute_result"
    }
   ],
   "source": [
    "tuner.analytics().dataframe().sort_values(by=\"FinalObjectiveValue\", ascending=True, ignore_index=True)"
   ]
  },
  {
   "cell_type": "code",
   "execution_count": 44,
   "metadata": {
    "tags": []
   },
   "outputs": [],
   "source": [
    "tuning_job_result = sagemaker_session.sagemaker_client.describe_hyper_parameter_tuning_job(\n",
    "    HyperParameterTuningJobName=tuner.latest_tuning_job.name\n",
    ")"
   ]
  },
  {
   "cell_type": "code",
   "execution_count": 45,
   "metadata": {
    "tags": []
   },
   "outputs": [
    {
     "name": "stdout",
     "output_type": "stream",
     "text": [
      "Best hyperparameters:\n"
     ]
    },
    {
     "data": {
      "text/plain": [
       "{'batch-size': '32',\n",
       " 'epochs': '126',\n",
       " 'hidden-size': '459',\n",
       " 'lr': '0.0005419493448348909'}"
      ]
     },
     "execution_count": 45,
     "metadata": {},
     "output_type": "execute_result"
    }
   ],
   "source": [
    "print(\"Best hyperparameters:\")\n",
    "tuning_job_result[\"BestTrainingJob\"][\"TunedHyperParameters\"]"
   ]
  },
  {
   "cell_type": "code",
   "execution_count": 46,
   "metadata": {
    "tags": []
   },
   "outputs": [
    {
     "name": "stdout",
     "output_type": "stream",
     "text": [
      "Best score:\n"
     ]
    },
    {
     "data": {
      "text/plain": [
       "0.08488260209560394"
      ]
     },
     "execution_count": 46,
     "metadata": {},
     "output_type": "execute_result"
    }
   ],
   "source": [
    "print(\"Best score:\")\n",
    "tuning_job_result[\"BestTrainingJob\"][\"FinalHyperParameterTuningJobObjectiveMetric\"][\"Value\"]"
   ]
  },
  {
   "cell_type": "markdown",
   "metadata": {},
   "source": [
    "Once you have completed a tuning job (or even while the job is still running), you can [clone and use this notebook](https://github.com/awslabs/amazon-sagemaker-examples/blob/master/hyperparameter_tuning/analyze_results/HPO_Analyze_TuningJob_Results.ipynb) to analyze the results to understand how each hyperparameter effects the quality of the model."
   ]
  },
  {
   "cell_type": "markdown",
   "metadata": {},
   "source": [
    "## 6. Perform Batch inference"
   ]
  },
  {
   "cell_type": "markdown",
   "metadata": {},
   "source": [
    "In this section, you will perform batch inference."
   ]
  },
  {
   "cell_type": "code",
   "execution_count": 47,
   "metadata": {
    "tags": []
   },
   "outputs": [
    {
     "name": "stderr",
     "output_type": "stream",
     "text": [
      "INFO:sagemaker:Creating model package with name: lstm-ae-algo-v1-0-2023-10-01-10-11-46-345\n"
     ]
    },
    {
     "name": "stdout",
     "output_type": "stream",
     "text": [
      "........."
     ]
    },
    {
     "name": "stderr",
     "output_type": "stream",
     "text": [
      "INFO:sagemaker:Creating model with name: lstm-ae-algo-v1-0-2023-10-01-10-11-46-3-2023-10-01-10-12-31-769\n"
     ]
    },
    {
     "name": "stdout",
     "output_type": "stream",
     "text": [
      "\n"
     ]
    }
   ],
   "source": [
    "transformer = estimator.transformer(\n",
    "    instance_count=1,\n",
    "    instance_type=instance_type,\n",
    ")"
   ]
  },
  {
   "cell_type": "code",
   "execution_count": 48,
   "metadata": {
    "tags": []
   },
   "outputs": [],
   "source": [
    "transformer.base_transform_job_name = \"lstm-ae-transform\""
   ]
  },
  {
   "cell_type": "code",
   "execution_count": 49,
   "metadata": {
    "tags": []
   },
   "outputs": [
    {
     "name": "stderr",
     "output_type": "stream",
     "text": [
      "INFO:sagemaker:Creating transform job with name: lstm-ae-transform-2023-10-01-10-12-32-451\n"
     ]
    },
    {
     "name": "stdout",
     "output_type": "stream",
     "text": [
      "............................................\u001b[34mWarning: TorchServe is using non-default JVM parameters: -XX:-UseContainerSupport\u001b[0m\n",
      "\u001b[34mWARNING: sun.reflect.Reflection.getCallerClass is not supported. This will impact performance.\u001b[0m\n",
      "\u001b[34m2023-10-01T10:19:53,888 [WARN ] main org.pytorch.serve.util.ConfigManager - Your torchserve instance can access any URL to load models. When deploying to production, make sure to limit the set of allowed_urls in config.properties\u001b[0m\n",
      "\u001b[34m2023-10-01T10:19:53,891 [INFO ] main org.pytorch.serve.servingsdk.impl.PluginsManager - Initializing plugins manager...\u001b[0m\n",
      "\u001b[34m2023-10-01T10:19:53,952 [INFO ] main org.pytorch.serve.metrics.configuration.MetricConfiguration - Successfully loaded metrics configuration from /opt/conda/lib/python3.10/site-packages/ts/configs/metrics.yaml\u001b[0m\n",
      "\u001b[34m2023-10-01T10:19:54,071 [INFO ] main org.pytorch.serve.ModelServer - \u001b[0m\n",
      "\u001b[34mTorchserve version: 0.8.2\u001b[0m\n",
      "\u001b[34mTS Home: /opt/conda/lib/python3.10/site-packages\u001b[0m\n",
      "\u001b[34mCurrent directory: /\u001b[0m\n",
      "\u001b[34mTemp directory: /home/model-server/tmp\u001b[0m\n",
      "\u001b[34mMetrics config path: /opt/conda/lib/python3.10/site-packages/ts/configs/metrics.yaml\u001b[0m\n",
      "\u001b[34mNumber of GPUs: 0\u001b[0m\n",
      "\u001b[34mNumber of CPUs: 8\u001b[0m\n",
      "\u001b[34mMax heap size: 7924 M\u001b[0m\n",
      "\u001b[34mPython executable: /opt/conda/bin/python3.10\u001b[0m\n",
      "\u001b[34mConfig file: /etc/sagemaker-ts.properties\u001b[0m\n",
      "\u001b[34mInference address: http://0.0.0.0:8080\u001b[0m\n",
      "\u001b[34mManagement address: http://0.0.0.0:8080\u001b[0m\n",
      "\u001b[34mMetrics address: http://127.0.0.1:8082\u001b[0m\n",
      "\u001b[34mModel Store: /.sagemaker/ts/models\u001b[0m\n",
      "\u001b[34mInitial Models: model=/opt/ml/model\u001b[0m\n",
      "\u001b[34mLog dir: /logs\u001b[0m\n",
      "\u001b[34mMetrics dir: /logs\u001b[0m\n",
      "\u001b[34mNetty threads: 0\u001b[0m\n",
      "\u001b[34mNetty client threads: 0\u001b[0m\n",
      "\u001b[34mDefault workers per model: 8\u001b[0m\n",
      "\u001b[34mBlacklist Regex: N/A\u001b[0m\n",
      "\u001b[34mMaximum Response Size: 6553500\u001b[0m\n",
      "\u001b[34mMaximum Request Size: 6553500\u001b[0m\n",
      "\u001b[34mLimit Maximum Image Pixels: true\u001b[0m\n",
      "\u001b[34mPrefer direct buffer: false\u001b[0m\n",
      "\u001b[34mAllowed Urls: [file://.*|http(s)?://.*]\u001b[0m\n",
      "\u001b[34mCustom python dependency for model allowed: false\u001b[0m\n",
      "\u001b[34mEnable metrics API: true\u001b[0m\n",
      "\u001b[34mMetrics mode: log\u001b[0m\n",
      "\u001b[34mDisable system metrics: true\u001b[0m\n",
      "\u001b[34mWorkflow Store: /.sagemaker/ts/models\u001b[0m\n",
      "\u001b[34mModel config: N/A\u001b[0m\n",
      "\u001b[34m2023-10-01T10:19:54,078 [INFO ] main org.pytorch.serve.servingsdk.impl.PluginsManager -  Loading snapshot serializer plugin...\u001b[0m\n",
      "\u001b[34m2023-10-01T10:19:54,099 [INFO ] main org.pytorch.serve.ModelServer - Loading initial models: /opt/ml/model\u001b[0m\n",
      "\u001b[34m2023-10-01T10:19:54,103 [WARN ] main org.pytorch.serve.archive.model.ModelArchive - Model archive version is not defined. Please upgrade to torch-model-archiver 0.2.0 or higher\u001b[0m\n",
      "\u001b[34m2023-10-01T10:19:54,104 [WARN ] main org.pytorch.serve.archive.model.ModelArchive - Model archive createdOn is not defined. Please upgrade to torch-model-archiver 0.2.0 or higher\u001b[0m\n",
      "\u001b[34m2023-10-01T10:19:54,106 [INFO ] main org.pytorch.serve.wlm.ModelManager - Model model loaded.\u001b[0m\n",
      "\u001b[34m2023-10-01T10:19:54,120 [INFO ] main org.pytorch.serve.ModelServer - Initialize Inference server with: EpollServerSocketChannel.\u001b[0m\n",
      "\u001b[34m2023-10-01T10:19:54,409 [INFO ] main org.pytorch.serve.ModelServer - Inference API bind to: http://0.0.0.0:8080\u001b[0m\n",
      "\u001b[34m2023-10-01T10:19:54,410 [INFO ] main org.pytorch.serve.ModelServer - Initialize Metrics server with: EpollServerSocketChannel.\u001b[0m\n",
      "\u001b[34m2023-10-01T10:19:54,482 [INFO ] main org.pytorch.serve.ModelServer - Metrics API bind to: http://127.0.0.1:8082\u001b[0m\n",
      "\u001b[34mModel server started.\u001b[0m\n",
      "\u001b[34m2023-10-01T10:19:56,673 [INFO ] W-9007-model_1.0-stdout MODEL_LOG - s_name_part0=/home/model-server/tmp/.ts.sock, s_name_part1=9007, pid=66\u001b[0m\n",
      "\u001b[34m2023-10-01T10:19:56,674 [INFO ] W-9007-model_1.0-stdout MODEL_LOG - Listening on port: /home/model-server/tmp/.ts.sock.9007\u001b[0m\n",
      "\u001b[34m2023-10-01T10:19:56,688 [INFO ] W-9004-model_1.0-stdout MODEL_LOG - s_name_part0=/home/model-server/tmp/.ts.sock, s_name_part1=9004, pid=67\u001b[0m\n",
      "\u001b[34m2023-10-01T10:19:56,689 [INFO ] W-9007-model_1.0-stdout MODEL_LOG - Successfully loaded /opt/conda/lib/python3.10/site-packages/ts/configs/metrics.yaml.\u001b[0m\n",
      "\u001b[34m2023-10-01T10:19:56,690 [INFO ] W-9007-model_1.0-stdout MODEL_LOG - [PID]66\u001b[0m\n",
      "\u001b[34m2023-10-01T10:19:56,691 [INFO ] W-9007-model_1.0-stdout MODEL_LOG - Torch worker started.\u001b[0m\n",
      "\u001b[34m2023-10-01T10:19:56,691 [INFO ] W-9007-model_1.0-stdout MODEL_LOG - Python runtime: 3.10.9\u001b[0m\n",
      "\u001b[34m2023-10-01T10:19:56,689 [INFO ] W-9004-model_1.0-stdout MODEL_LOG - Listening on port: /home/model-server/tmp/.ts.sock.9004\u001b[0m\n",
      "\u001b[34m2023-10-01T10:19:56,697 [INFO ] W-9007-model_1.0 org.pytorch.serve.wlm.WorkerThread - Connecting to: /home/model-server/tmp/.ts.sock.9007\u001b[0m\n",
      "\u001b[34m2023-10-01T10:19:56,705 [INFO ] W-9003-model_1.0-stdout MODEL_LOG - s_name_part0=/home/model-server/tmp/.ts.sock, s_name_part1=9003, pid=65\u001b[0m\n",
      "\u001b[34m2023-10-01T10:19:56,706 [INFO ] W-9003-model_1.0-stdout MODEL_LOG - Listening on port: /home/model-server/tmp/.ts.sock.9003\u001b[0m\n",
      "\u001b[34m2023-10-01T10:19:56,716 [INFO ] W-9003-model_1.0-stdout MODEL_LOG - Successfully loaded /opt/conda/lib/python3.10/site-packages/ts/configs/metrics.yaml.\u001b[0m\n",
      "\u001b[34m2023-10-01T10:19:56,718 [INFO ] W-9003-model_1.0-stdout MODEL_LOG - [PID]65\u001b[0m\n",
      "\u001b[34m2023-10-01T10:19:56,718 [INFO ] W-9003-model_1.0-stdout MODEL_LOG - Torch worker started.\u001b[0m\n",
      "\u001b[34m2023-10-01T10:19:56,718 [INFO ] W-9003-model_1.0-stdout MODEL_LOG - Python runtime: 3.10.9\u001b[0m\n",
      "\u001b[34m2023-10-01T10:19:56,718 [INFO ] W-9004-model_1.0-stdout MODEL_LOG - Successfully loaded /opt/conda/lib/python3.10/site-packages/ts/configs/metrics.yaml.\u001b[0m\n",
      "\u001b[34m2023-10-01T10:19:56,719 [INFO ] W-9003-model_1.0 org.pytorch.serve.wlm.WorkerThread - Connecting to: /home/model-server/tmp/.ts.sock.9003\u001b[0m\n",
      "\u001b[34m2023-10-01T10:19:56,720 [INFO ] W-9004-model_1.0-stdout MODEL_LOG - [PID]67\u001b[0m\n",
      "\u001b[34m2023-10-01T10:19:56,721 [INFO ] W-9004-model_1.0-stdout MODEL_LOG - Torch worker started.\u001b[0m\n",
      "\u001b[34m2023-10-01T10:19:56,721 [INFO ] W-9004-model_1.0-stdout MODEL_LOG - Python runtime: 3.10.9\u001b[0m\n",
      "\u001b[34m2023-10-01T10:19:56,721 [INFO ] W-9004-model_1.0 org.pytorch.serve.wlm.WorkerThread - Connecting to: /home/model-server/tmp/.ts.sock.9004\u001b[0m\n",
      "\u001b[34m2023-10-01T10:19:56,728 [INFO ] W-9007-model_1.0-stdout MODEL_LOG - Connection accepted: /home/model-server/tmp/.ts.sock.9007.\u001b[0m\n",
      "\u001b[34m2023-10-01T10:19:56,729 [INFO ] W-9004-model_1.0-stdout MODEL_LOG - Connection accepted: /home/model-server/tmp/.ts.sock.9004.\u001b[0m\n",
      "\u001b[34m2023-10-01T10:19:56,730 [INFO ] W-9003-model_1.0-stdout MODEL_LOG - Connection accepted: /home/model-server/tmp/.ts.sock.9003.\u001b[0m\n",
      "\u001b[34m2023-10-01T10:19:56,731 [INFO ] W-9004-model_1.0 org.pytorch.serve.wlm.WorkerThread - Flushing req.cmd LOAD to backend at: 1696155596731\u001b[0m\n",
      "\u001b[34m2023-10-01T10:19:56,735 [INFO ] W-9007-model_1.0 org.pytorch.serve.wlm.WorkerThread - Flushing req.cmd LOAD to backend at: 1696155596735\u001b[0m\n",
      "\u001b[34m2023-10-01T10:19:56,736 [INFO ] W-9003-model_1.0 org.pytorch.serve.wlm.WorkerThread - Flushing req.cmd LOAD to backend at: 1696155596736\u001b[0m\n",
      "\u001b[34m2023-10-01T10:19:56,801 [INFO ] W-9005-model_1.0-stdout MODEL_LOG - s_name_part0=/home/model-server/tmp/.ts.sock, s_name_part1=9005, pid=63\u001b[0m\n",
      "\u001b[34m2023-10-01T10:19:56,803 [INFO ] W-9005-model_1.0-stdout MODEL_LOG - Listening on port: /home/model-server/tmp/.ts.sock.9005\u001b[0m\n",
      "\u001b[34m2023-10-01T10:19:56,803 [INFO ] W-9000-model_1.0-stdout MODEL_LOG - s_name_part0=/home/model-server/tmp/.ts.sock, s_name_part1=9000, pid=68\u001b[0m\n",
      "\u001b[34m2023-10-01T10:19:56,804 [INFO ] W-9000-model_1.0-stdout MODEL_LOG - Listening on port: /home/model-server/tmp/.ts.sock.9000\u001b[0m\n",
      "\u001b[34m2023-10-01T10:19:56,814 [INFO ] W-9004-model_1.0-stdout MODEL_LOG - model_name: model, batchSize: 1\u001b[0m\n",
      "\u001b[34m2023-10-01T10:19:56,814 [INFO ] W-9003-model_1.0-stdout MODEL_LOG - model_name: model, batchSize: 1\u001b[0m\n",
      "\u001b[34m2023-10-01T10:19:56,825 [INFO ] W-9007-model_1.0-stdout MODEL_LOG - model_name: model, batchSize: 1\u001b[0m\n",
      "\u001b[34m2023-10-01T10:19:56,826 [INFO ] W-9005-model_1.0-stdout MODEL_LOG - Successfully loaded /opt/conda/lib/python3.10/site-packages/ts/configs/metrics.yaml.\u001b[0m\n",
      "\u001b[34m2023-10-01T10:19:56,827 [INFO ] W-9005-model_1.0-stdout MODEL_LOG - [PID]63\u001b[0m\n",
      "\u001b[34m2023-10-01T10:19:56,827 [INFO ] W-9005-model_1.0-stdout MODEL_LOG - Torch worker started.\u001b[0m\n",
      "\u001b[34m2023-10-01T10:19:56,827 [INFO ] W-9005-model_1.0-stdout MODEL_LOG - Python runtime: 3.10.9\u001b[0m\n",
      "\u001b[34m2023-10-01T10:19:56,827 [INFO ] W-9005-model_1.0 org.pytorch.serve.wlm.WorkerThread - Connecting to: /home/model-server/tmp/.ts.sock.9005\u001b[0m\n",
      "\u001b[34m2023-10-01T10:19:56,829 [INFO ] W-9001-model_1.0-stdout MODEL_LOG - s_name_part0=/home/model-server/tmp/.ts.sock, s_name_part1=9001, pid=62\u001b[0m\n",
      "\u001b[34m2023-10-01T10:19:56,830 [INFO ] W-9001-model_1.0-stdout MODEL_LOG - Listening on port: /home/model-server/tmp/.ts.sock.9001\u001b[0m\n",
      "\u001b[34m2023-10-01T10:19:56,835 [INFO ] W-9000-model_1.0-stdout MODEL_LOG - Successfully loaded /opt/conda/lib/python3.10/site-packages/ts/configs/metrics.yaml.\u001b[0m\n",
      "\u001b[34m2023-10-01T10:19:56,835 [INFO ] W-9000-model_1.0-stdout MODEL_LOG - [PID]68\u001b[0m\n",
      "\u001b[34m2023-10-01T10:19:56,836 [INFO ] W-9000-model_1.0-stdout MODEL_LOG - Torch worker started.\u001b[0m\n",
      "\u001b[34m2023-10-01T10:19:56,837 [INFO ] W-9000-model_1.0-stdout MODEL_LOG - Python runtime: 3.10.9\u001b[0m\n",
      "\u001b[34m2023-10-01T10:19:56,836 [INFO ] W-9000-model_1.0 org.pytorch.serve.wlm.WorkerThread - Connecting to: /home/model-server/tmp/.ts.sock.9000\u001b[0m\n",
      "\u001b[34m2023-10-01T10:19:56,842 [INFO ] W-9002-model_1.0-stdout MODEL_LOG - s_name_part0=/home/model-server/tmp/.ts.sock, s_name_part1=9002, pid=64\u001b[0m\n",
      "\u001b[34m2023-10-01T10:19:56,842 [INFO ] W-9002-model_1.0-stdout MODEL_LOG - Listening on port: /home/model-server/tmp/.ts.sock.9002\u001b[0m\n",
      "\u001b[34m2023-10-01T10:19:56,850 [INFO ] W-9005-model_1.0-stdout MODEL_LOG - Connection accepted: /home/model-server/tmp/.ts.sock.9005.\u001b[0m\n",
      "\u001b[34m2023-10-01T10:19:56,851 [INFO ] W-9005-model_1.0 org.pytorch.serve.wlm.WorkerThread - Flushing req.cmd LOAD to backend at: 1696155596851\u001b[0m\n",
      "\u001b[34m2023-10-01T10:19:56,862 [INFO ] W-9001-model_1.0-stdout MODEL_LOG - Successfully loaded /opt/conda/lib/python3.10/site-packages/ts/configs/metrics.yaml.\u001b[0m\n",
      "\u001b[34m2023-10-01T10:19:56,863 [INFO ] W-9001-model_1.0-stdout MODEL_LOG - [PID]62\u001b[0m\n",
      "\u001b[34m2023-10-01T10:19:56,864 [INFO ] W-9001-model_1.0-stdout MODEL_LOG - Torch worker started.\u001b[0m\n",
      "\u001b[34m2023-10-01T10:19:56,864 [INFO ] W-9001-model_1.0 org.pytorch.serve.wlm.WorkerThread - Connecting to: /home/model-server/tmp/.ts.sock.9001\u001b[0m\n",
      "\u001b[34m2023-10-01T10:19:56,865 [INFO ] W-9001-model_1.0-stdout MODEL_LOG - Python runtime: 3.10.9\u001b[0m\n",
      "\u001b[34m2023-10-01T10:19:56,876 [INFO ] W-9000-model_1.0-stdout MODEL_LOG - Connection accepted: /home/model-server/tmp/.ts.sock.9000.\u001b[0m\n",
      "\u001b[34m2023-10-01T10:19:56,876 [INFO ] W-9000-model_1.0 org.pytorch.serve.wlm.WorkerThread - Flushing req.cmd LOAD to backend at: 1696155596876\u001b[0m\n",
      "\u001b[34m2023-10-01T10:19:56,881 [INFO ] W-9002-model_1.0-stdout MODEL_LOG - Successfully loaded /opt/conda/lib/python3.10/site-packages/ts/configs/metrics.yaml.\u001b[0m\n",
      "\u001b[34m2023-10-01T10:19:56,882 [INFO ] W-9002-model_1.0-stdout MODEL_LOG - [PID]64\u001b[0m\n",
      "\u001b[34m2023-10-01T10:19:56,882 [INFO ] W-9002-model_1.0-stdout MODEL_LOG - Torch worker started.\u001b[0m\n",
      "\u001b[34m2023-10-01T10:19:56,883 [INFO ] W-9001-model_1.0-stdout MODEL_LOG - Connection accepted: /home/model-server/tmp/.ts.sock.9001.\u001b[0m\n",
      "\u001b[34m2023-10-01T10:19:56,883 [INFO ] W-9001-model_1.0 org.pytorch.serve.wlm.WorkerThread - Flushing req.cmd LOAD to backend at: 1696155596883\u001b[0m\n",
      "\u001b[34m2023-10-01T10:19:56,883 [INFO ] W-9002-model_1.0 org.pytorch.serve.wlm.WorkerThread - Connecting to: /home/model-server/tmp/.ts.sock.9002\u001b[0m\n",
      "\u001b[34m2023-10-01T10:19:56,884 [INFO ] W-9002-model_1.0-stdout MODEL_LOG - Python runtime: 3.10.9\u001b[0m\n",
      "\u001b[34m2023-10-01T10:19:56,904 [INFO ] W-9002-model_1.0-stdout MODEL_LOG - Connection accepted: /home/model-server/tmp/.ts.sock.9002.\u001b[0m\n",
      "\u001b[34m2023-10-01T10:19:56,906 [INFO ] W-9002-model_1.0 org.pytorch.serve.wlm.WorkerThread - Flushing req.cmd LOAD to backend at: 1696155596906\u001b[0m\n",
      "\u001b[34m2023-10-01T10:19:56,937 [INFO ] W-9001-model_1.0-stdout MODEL_LOG - model_name: model, batchSize: 1\u001b[0m\n",
      "\u001b[34m2023-10-01T10:19:56,937 [INFO ] W-9000-model_1.0-stdout MODEL_LOG - model_name: model, batchSize: 1\u001b[0m\n",
      "\u001b[34m2023-10-01T10:19:56,953 [INFO ] W-9005-model_1.0-stdout MODEL_LOG - model_name: model, batchSize: 1\u001b[0m\n",
      "\u001b[34m2023-10-01T10:19:56,993 [INFO ] W-9002-model_1.0-stdout MODEL_LOG - model_name: model, batchSize: 1\u001b[0m\n",
      "\u001b[34m2023-10-01T10:19:57,185 [INFO ] W-9006-model_1.0-stdout MODEL_LOG - s_name_part0=/home/model-server/tmp/.ts.sock, s_name_part1=9006, pid=69\u001b[0m\n",
      "\u001b[34m2023-10-01T10:19:57,186 [INFO ] W-9006-model_1.0-stdout MODEL_LOG - Listening on port: /home/model-server/tmp/.ts.sock.9006\u001b[0m\n",
      "\u001b[34m2023-10-01T10:19:57,225 [INFO ] W-9006-model_1.0-stdout MODEL_LOG - Successfully loaded /opt/conda/lib/python3.10/site-packages/ts/configs/metrics.yaml.\u001b[0m\n",
      "\u001b[34m2023-10-01T10:19:57,238 [INFO ] W-9006-model_1.0-stdout MODEL_LOG - [PID]69\u001b[0m\n",
      "\u001b[34m2023-10-01T10:19:57,239 [INFO ] W-9006-model_1.0-stdout MODEL_LOG - Torch worker started.\u001b[0m\n",
      "\u001b[34m2023-10-01T10:19:57,239 [INFO ] W-9006-model_1.0 org.pytorch.serve.wlm.WorkerThread - Connecting to: /home/model-server/tmp/.ts.sock.9006\u001b[0m\n",
      "\u001b[34m2023-10-01T10:19:57,245 [INFO ] W-9006-model_1.0-stdout MODEL_LOG - Python runtime: 3.10.9\u001b[0m\n",
      "\u001b[34m2023-10-01T10:19:57,246 [INFO ] W-9006-model_1.0-stdout MODEL_LOG - Connection accepted: /home/model-server/tmp/.ts.sock.9006.\u001b[0m\n",
      "\u001b[34m2023-10-01T10:19:57,247 [INFO ] W-9006-model_1.0 org.pytorch.serve.wlm.WorkerThread - Flushing req.cmd LOAD to backend at: 1696155597247\u001b[0m\n",
      "\u001b[34m2023-10-01T10:19:57,330 [INFO ] W-9006-model_1.0-stdout MODEL_LOG - model_name: model, batchSize: 1\u001b[0m\n",
      "\u001b[34m2023-10-01T10:19:57,629 [INFO ] W-9001-model_1.0 org.pytorch.serve.wlm.WorkerThread - Backend response time: 681\u001b[0m\n",
      "\u001b[34m2023-10-01T10:19:57,630 [INFO ] W-9001-model_1.0 TS_METRICS - WorkerLoadTime.Milliseconds:3515.0|#WorkerName:W-9001-model_1.0,Level:Host|#hostname:c0426ef9ae33,timestamp:1696155597\u001b[0m\n",
      "\u001b[34m2023-10-01T10:19:57,630 [INFO ] W-9001-model_1.0 TS_METRICS - WorkerThreadTime.Milliseconds:66.0|#Level:Host|#hostname:c0426ef9ae33,timestamp:1696155597\u001b[0m\n",
      "\u001b[34m2023-10-01T10:19:57,649 [INFO ] W-9002-model_1.0 org.pytorch.serve.wlm.WorkerThread - Backend response time: 634\u001b[0m\n",
      "\u001b[34m2023-10-01T10:19:57,650 [INFO ] W-9002-model_1.0 TS_METRICS - WorkerLoadTime.Milliseconds:3536.0|#WorkerName:W-9002-model_1.0,Level:Host|#hostname:c0426ef9ae33,timestamp:1696155597\u001b[0m\n",
      "\u001b[34m2023-10-01T10:19:57,650 [INFO ] W-9002-model_1.0 TS_METRICS - WorkerThreadTime.Milliseconds:110.0|#Level:Host|#hostname:c0426ef9ae33,timestamp:1696155597\u001b[0m\n",
      "\u001b[34m2023-10-01T10:19:57,714 [INFO ] W-9004-model_1.0 org.pytorch.serve.wlm.WorkerThread - Backend response time: 905\u001b[0m\n",
      "\u001b[34m2023-10-01T10:19:57,715 [INFO ] W-9004-model_1.0 TS_METRICS - WorkerLoadTime.Milliseconds:3599.0|#WorkerName:W-9004-model_1.0,Level:Host|#hostname:c0426ef9ae33,timestamp:1696155597\u001b[0m\n",
      "\u001b[34m2023-10-01T10:19:57,715 [INFO ] W-9004-model_1.0 TS_METRICS - WorkerThreadTime.Milliseconds:79.0|#Level:Host|#hostname:c0426ef9ae33,timestamp:1696155597\u001b[0m\n",
      "\u001b[34m2023-10-01T10:19:57,808 [INFO ] W-9003-model_1.0 org.pytorch.serve.wlm.WorkerThread - Backend response time: 994\u001b[0m\n",
      "\u001b[34m2023-10-01T10:19:57,808 [INFO ] W-9003-model_1.0 TS_METRICS - WorkerLoadTime.Milliseconds:3693.0|#WorkerName:W-9003-model_1.0,Level:Host|#hostname:c0426ef9ae33,timestamp:1696155597\u001b[0m\n",
      "\u001b[34m2023-10-01T10:19:57,809 [INFO ] W-9003-model_1.0 TS_METRICS - WorkerThreadTime.Milliseconds:79.0|#Level:Host|#hostname:c0426ef9ae33,timestamp:1696155597\u001b[0m\n",
      "\u001b[34m2023-10-01T10:19:57,818 [INFO ] W-9007-model_1.0 org.pytorch.serve.wlm.WorkerThread - Backend response time: 1002\u001b[0m\n",
      "\u001b[34m2023-10-01T10:19:57,819 [INFO ] W-9007-model_1.0 TS_METRICS - WorkerLoadTime.Milliseconds:3702.0|#WorkerName:W-9007-model_1.0,Level:Host|#hostname:c0426ef9ae33,timestamp:1696155597\u001b[0m\n",
      "\u001b[34m2023-10-01T10:19:57,819 [INFO ] W-9007-model_1.0 TS_METRICS - WorkerThreadTime.Milliseconds:82.0|#Level:Host|#hostname:c0426ef9ae33,timestamp:1696155597\u001b[0m\n",
      "\u001b[34m2023-10-01T10:19:57,844 [INFO ] W-9000-model_1.0 org.pytorch.serve.wlm.WorkerThread - Backend response time: 914\u001b[0m\n",
      "\u001b[34m2023-10-01T10:19:57,844 [INFO ] W-9000-model_1.0 TS_METRICS - WorkerLoadTime.Milliseconds:3732.0|#WorkerName:W-9000-model_1.0,Level:Host|#hostname:c0426ef9ae33,timestamp:1696155597\u001b[0m\n",
      "\u001b[34m2023-10-01T10:19:57,845 [INFO ] W-9000-model_1.0 TS_METRICS - WorkerThreadTime.Milliseconds:55.0|#Level:Host|#hostname:c0426ef9ae33,timestamp:1696155597\u001b[0m\n",
      "\u001b[34m2023-10-01T10:19:57,853 [INFO ] W-9005-model_1.0 org.pytorch.serve.wlm.WorkerThread - Backend response time: 905\u001b[0m\n",
      "\u001b[34m2023-10-01T10:19:57,853 [INFO ] W-9005-model_1.0 TS_METRICS - WorkerLoadTime.Milliseconds:3737.0|#WorkerName:W-9005-model_1.0,Level:Host|#hostname:c0426ef9ae33,timestamp:1696155597\u001b[0m\n",
      "\u001b[34m2023-10-01T10:19:57,854 [INFO ] W-9005-model_1.0 TS_METRICS - WorkerThreadTime.Milliseconds:98.0|#Level:Host|#hostname:c0426ef9ae33,timestamp:1696155597\u001b[0m\n",
      "\u001b[34m2023-10-01T10:19:57,963 [INFO ] W-9006-model_1.0 org.pytorch.serve.wlm.WorkerThread - Backend response time: 622\u001b[0m\n",
      "\u001b[34m2023-10-01T10:19:57,964 [INFO ] W-9006-model_1.0 TS_METRICS - WorkerLoadTime.Milliseconds:3848.0|#WorkerName:W-9006-model_1.0,Level:Host|#hostname:c0426ef9ae33,timestamp:1696155597\u001b[0m\n",
      "\u001b[34m2023-10-01T10:19:57,964 [INFO ] W-9006-model_1.0 TS_METRICS - WorkerThreadTime.Milliseconds:95.0|#Level:Host|#hostname:c0426ef9ae33,timestamp:1696155597\u001b[0m\n",
      "\u001b[34m2023-10-01T10:19:59,685 [INFO ] pool-2-thread-9 ACCESS_LOG - /169.254.255.130:49584 \"GET /ping HTTP/1.1\" 200 15\u001b[0m\n",
      "\u001b[34m2023-10-01T10:19:59,686 [INFO ] pool-2-thread-9 TS_METRICS - Requests2XX.Count:1.0|#Level:Host|#hostname:c0426ef9ae33,timestamp:1696155599\u001b[0m\n",
      "\u001b[34m2023-10-01T10:19:59,702 [INFO ] epollEventLoopGroup-3-2 ACCESS_LOG - /169.254.255.130:49588 \"GET /execution-parameters HTTP/1.1\" 404 1\u001b[0m\n",
      "\u001b[34m2023-10-01T10:19:59,703 [INFO ] epollEventLoopGroup-3-2 TS_METRICS - Requests4XX.Count:1.0|#Level:Host|#hostname:c0426ef9ae33,timestamp:1696155599\u001b[0m\n",
      "\u001b[34m2023-10-01T10:19:59,852 [INFO ] epollEventLoopGroup-3-3 TS_METRICS - ts_inference_requests_total.Count:1.0|#model_name:model,model_version:default|#hostname:c0426ef9ae33,timestamp:1696155599\u001b[0m\n",
      "\u001b[34m2023-10-01T10:19:59,853 [INFO ] W-9001-model_1.0 org.pytorch.serve.wlm.WorkerThread - Flushing req.cmd PREDICT to backend at: 1696155599853\u001b[0m\n",
      "\u001b[34m2023-10-01T10:19:59,855 [INFO ] W-9001-model_1.0-stdout MODEL_LOG - Backend received inference at: 1696155599\u001b[0m\n",
      "\u001b[34m2023-10-01T10:20:00,673 [INFO ] W-9001-model_1.0-stdout org.pytorch.serve.wlm.WorkerLifeCycle - result=[METRICS]PredictionTime.Milliseconds:818.06|#ModelName:model,Level:Model|#hostname:c0426ef9ae33,1696155600,6ba9a604-21bd-4c7c-997f-d9487591805d, pattern=[METRICS]\u001b[0m\n",
      "\u001b[34m2023-10-01T10:20:00,675 [INFO ] W-9001-model_1.0-stdout MODEL_METRICS - PredictionTime.ms:818.06|#ModelName:model,Level:Model|#hostname:c0426ef9ae33,requestID:6ba9a604-21bd-4c7c-997f-d9487591805d,timestamp:1696155600\u001b[0m\n",
      "\u001b[34m2023-10-01T10:20:00,676 [INFO ] W-9001-model_1.0 ACCESS_LOG - /169.254.255.130:49590 \"POST /invocations HTTP/1.1\" 200 826\u001b[0m\n",
      "\u001b[34m2023-10-01T10:20:00,677 [INFO ] W-9001-model_1.0 TS_METRICS - Requests2XX.Count:1.0|#Level:Host|#hostname:c0426ef9ae33,timestamp:1696155600\u001b[0m\n",
      "\u001b[34m2023-10-01T10:20:00,677 [INFO ] W-9001-model_1.0 TS_METRICS - ts_inference_latency_microseconds.Microseconds:823171.105|#model_name:model,model_version:default|#hostname:c0426ef9ae33,timestamp:1696155600\u001b[0m\n",
      "\u001b[34m2023-10-01T10:20:00,677 [INFO ] W-9001-model_1.0 TS_METRICS - ts_queue_latency_microseconds.Microseconds:231.656|#model_name:model,model_version:default|#hostname:c0426ef9ae33,timestamp:1696155600\u001b[0m\n",
      "\u001b[34m2023-10-01T10:20:00,678 [INFO ] W-9001-model_1.0 TS_METRICS - QueueTime.Milliseconds:0.0|#Level:Host|#hostname:c0426ef9ae33,timestamp:1696155600\u001b[0m\n",
      "\u001b[34m2023-10-01T10:20:00,678 [INFO ] W-9001-model_1.0 org.pytorch.serve.wlm.WorkerThread - Backend response time: 822\u001b[0m\n",
      "\u001b[34m2023-10-01T10:20:00,678 [INFO ] W-9001-model_1.0 TS_METRICS - WorkerThreadTime.Milliseconds:3.0|#Level:Host|#hostname:c0426ef9ae33,timestamp:1696155600\u001b[0m\n",
      "\n",
      "\u001b[32m2023-10-01T10:19:59.709:[sagemaker logs]: MaxConcurrentTransforms=1, MaxPayloadInMB=6, BatchStrategy=MULTI_RECORD\u001b[0m\n"
     ]
    }
   ],
   "source": [
    "transformer.transform(\n",
    "    data=test_data,\n",
    "    content_type=\"text/csv\",\n",
    ")"
   ]
  },
  {
   "cell_type": "code",
   "execution_count": 50,
   "metadata": {
    "tags": []
   },
   "outputs": [],
   "source": [
    "batch_predictions = sagemaker_session.read_s3_file(\n",
    "    bucket=bucket,\n",
    "    key_prefix=f\"{transformer.latest_transform_job.name}/test.csv.out\"\n",
    ")\n",
    "\n",
    "batch_predictions = batch_predictions.split(\"\\n\")[:-1]\n",
    "batch_predictions = pd.DataFrame([x.split(\",\") for x in batch_predictions]).astype(float)"
   ]
  },
  {
   "cell_type": "code",
   "execution_count": 51,
   "metadata": {
    "tags": []
   },
   "outputs": [
    {
     "data": {
      "text/plain": [
       "(5000, 3)"
      ]
     },
     "execution_count": 51,
     "metadata": {},
     "output_type": "execute_result"
    }
   ],
   "source": [
    "batch_predictions.shape"
   ]
  },
  {
   "cell_type": "code",
   "execution_count": 52,
   "metadata": {
    "tags": []
   },
   "outputs": [
    {
     "data": {
      "text/html": [
       "<div>\n",
       "<style scoped>\n",
       "    .dataframe tbody tr th:only-of-type {\n",
       "        vertical-align: middle;\n",
       "    }\n",
       "\n",
       "    .dataframe tbody tr th {\n",
       "        vertical-align: top;\n",
       "    }\n",
       "\n",
       "    .dataframe thead th {\n",
       "        text-align: right;\n",
       "    }\n",
       "</style>\n",
       "<table border=\"1\" class=\"dataframe\">\n",
       "  <thead>\n",
       "    <tr style=\"text-align: right;\">\n",
       "      <th></th>\n",
       "      <th>0</th>\n",
       "      <th>1</th>\n",
       "      <th>2</th>\n",
       "    </tr>\n",
       "  </thead>\n",
       "  <tbody>\n",
       "    <tr>\n",
       "      <th>0</th>\n",
       "      <td>1.769850</td>\n",
       "      <td>-11.202462</td>\n",
       "      <td>-11.087063</td>\n",
       "    </tr>\n",
       "    <tr>\n",
       "      <th>1</th>\n",
       "      <td>0.788255</td>\n",
       "      <td>-12.180664</td>\n",
       "      <td>-12.036221</td>\n",
       "    </tr>\n",
       "    <tr>\n",
       "      <th>2</th>\n",
       "      <td>3.480968</td>\n",
       "      <td>-13.106529</td>\n",
       "      <td>-12.952567</td>\n",
       "    </tr>\n",
       "    <tr>\n",
       "      <th>3</th>\n",
       "      <td>1.116996</td>\n",
       "      <td>-13.965368</td>\n",
       "      <td>-13.827373</td>\n",
       "    </tr>\n",
       "    <tr>\n",
       "      <th>4</th>\n",
       "      <td>2.885565</td>\n",
       "      <td>-14.744942</td>\n",
       "      <td>-14.648471</td>\n",
       "    </tr>\n",
       "  </tbody>\n",
       "</table>\n",
       "</div>"
      ],
      "text/plain": [
       "          0          1          2\n",
       "0  1.769850 -11.202462 -11.087063\n",
       "1  0.788255 -12.180664 -12.036221\n",
       "2  3.480968 -13.106529 -12.952567\n",
       "3  1.116996 -13.965368 -13.827373\n",
       "4  2.885565 -14.744942 -14.648471"
      ]
     },
     "execution_count": 52,
     "metadata": {},
     "output_type": "execute_result"
    }
   ],
   "source": [
    "batch_predictions.head()"
   ]
  },
  {
   "cell_type": "code",
   "execution_count": 53,
   "metadata": {
    "tags": []
   },
   "outputs": [
    {
     "data": {
      "text/html": [
       "<div>\n",
       "<style scoped>\n",
       "    .dataframe tbody tr th:only-of-type {\n",
       "        vertical-align: middle;\n",
       "    }\n",
       "\n",
       "    .dataframe tbody tr th {\n",
       "        vertical-align: top;\n",
       "    }\n",
       "\n",
       "    .dataframe thead th {\n",
       "        text-align: right;\n",
       "    }\n",
       "</style>\n",
       "<table border=\"1\" class=\"dataframe\">\n",
       "  <thead>\n",
       "    <tr style=\"text-align: right;\">\n",
       "      <th></th>\n",
       "      <th>0</th>\n",
       "      <th>1</th>\n",
       "      <th>2</th>\n",
       "    </tr>\n",
       "  </thead>\n",
       "  <tbody>\n",
       "    <tr>\n",
       "      <th>4995</th>\n",
       "      <td>1.461864</td>\n",
       "      <td>-6.230545</td>\n",
       "      <td>-6.301252</td>\n",
       "    </tr>\n",
       "    <tr>\n",
       "      <th>4996</th>\n",
       "      <td>1.057116</td>\n",
       "      <td>-7.335648</td>\n",
       "      <td>-7.313416</td>\n",
       "    </tr>\n",
       "    <tr>\n",
       "      <th>4997</th>\n",
       "      <td>1.420708</td>\n",
       "      <td>-8.451914</td>\n",
       "      <td>-8.317782</td>\n",
       "    </tr>\n",
       "    <tr>\n",
       "      <th>4998</th>\n",
       "      <td>1.298932</td>\n",
       "      <td>-9.247356</td>\n",
       "      <td>-9.131571</td>\n",
       "    </tr>\n",
       "    <tr>\n",
       "      <th>4999</th>\n",
       "      <td>1.482934</td>\n",
       "      <td>-10.201755</td>\n",
       "      <td>-10.224044</td>\n",
       "    </tr>\n",
       "  </tbody>\n",
       "</table>\n",
       "</div>"
      ],
      "text/plain": [
       "             0          1          2\n",
       "4995  1.461864  -6.230545  -6.301252\n",
       "4996  1.057116  -7.335648  -7.313416\n",
       "4997  1.420708  -8.451914  -8.317782\n",
       "4998  1.298932  -9.247356  -9.131571\n",
       "4999  1.482934 -10.201755 -10.224044"
      ]
     },
     "execution_count": 53,
     "metadata": {},
     "output_type": "execute_result"
    }
   ],
   "source": [
    "batch_predictions.tail()"
   ]
  },
  {
   "cell_type": "code",
   "execution_count": 54,
   "metadata": {
    "tags": []
   },
   "outputs": [
    {
     "data": {
      "text/plain": [
       "True"
      ]
     },
     "execution_count": 54,
     "metadata": {},
     "output_type": "execute_result"
    }
   ],
   "source": [
    "np.all(np.isclose(batch_predictions.values, real_time_predictions.values))"
   ]
  },
  {
   "cell_type": "code",
   "execution_count": 55,
   "metadata": {
    "tags": []
   },
   "outputs": [
    {
     "data": {
      "image/png": "[encoded data removed]",
      "text/plain": [
       "<Figure size 600x700 with 3 Axes>"
      ]
     },
     "metadata": {},
     "output_type": "display_data"
    }
   ],
   "source": [
    "fig, axs = plt.subplots(nrows=test_dataset.shape[1] + 1, ncols=1, sharex=True, figsize=(6, 7))\n",
    "for i in range(test_dataset.shape[1]):\n",
    "    axs[i].plot(test_dataset.iloc[:, i], color=\"#AFB8C1\", lw=0.5, label=\"Actual\" if i == 0 else None)\n",
    "    axs[i].plot(batch_predictions.iloc[:, i + 1], color=\"#009ad3\", lw=1, label=\"Reconstructed\" if i == 0 else None)\n",
    "    axs[i].set_title(f\"Time Series {i + 1}\", size=10)\n",
    "    axs[i].set(xlabel=\"Time\", ylabel=\"Value\")\n",
    "    axs[i].xaxis.set_tick_params(labelbottom=True)\n",
    "    axs[i].tick_params(axis=\"both\", which=\"major\", labelsize=7)\n",
    "    axs[i].tick_params(axis=\"both\", which=\"minor\", labelsize=7)\n",
    "i += 1\n",
    "axs[i].set_title(\"Anomaly Score\", size=10)\n",
    "axs[i].plot(batch_predictions.iloc[:, 0], color=\"#57606a\", lw=1)\n",
    "axs[i].set(xlabel=\"Time\", ylabel=\"Value\")\n",
    "axs[i].xaxis.set_tick_params(labelbottom=True)\n",
    "axs[i].tick_params(axis=\"both\", which=\"major\", labelsize=7)\n",
    "axs[i].tick_params(axis=\"both\", which=\"minor\", labelsize=7)\n",
    "fig.subplots_adjust(hspace=0.75)\n",
    "fig.suptitle(\"Batch Predictions on Test Dataset\")\n",
    "fig.legend(bbox_to_anchor=(1.2, 1, 0, 0), frameon=False)\n",
    "fig.show()"
   ]
  },
  {
   "cell_type": "code",
   "execution_count": 56,
   "metadata": {
    "tags": []
   },
   "outputs": [],
   "source": [
    "batch_results = sagemaker_session.upload_string_as_file_body(\n",
    "    body=batch_predictions.to_csv(index=False, header=False),\n",
    "    bucket=bucket,\n",
    "    key=\"data/inference/output/batch/batch_predictions.csv\"\n",
    ")"
   ]
  },
  {
   "cell_type": "code",
   "execution_count": 57,
   "metadata": {
    "tags": []
   },
   "outputs": [
    {
     "data": {
      "text/plain": [
       "'s3://sagemaker-eu-west-1-661670223746/data/inference/output/batch/batch_predictions.csv'"
      ]
     },
     "execution_count": 57,
     "metadata": {},
     "output_type": "execute_result"
    }
   ],
   "source": [
    "batch_results"
   ]
  },
  {
   "cell_type": "markdown",
   "metadata": {},
   "source": [
    "## 7. Clean-up"
   ]
  },
  {
   "cell_type": "markdown",
   "metadata": {},
   "source": [
    "### A. Delete the model"
   ]
  },
  {
   "cell_type": "code",
   "execution_count": 58,
   "metadata": {
    "tags": []
   },
   "outputs": [
    {
     "name": "stderr",
     "output_type": "stream",
     "text": [
      "INFO:sagemaker:Deleting model with name: lstm-ae-algo-v1-0-2023-10-01-10-11-46-3-2023-10-01-10-12-31-769\n"
     ]
    }
   ],
   "source": [
    "transformer.delete_model()"
   ]
  },
  {
   "cell_type": "markdown",
   "metadata": {},
   "source": [
    "### B. Unsubscribe to the listing (optional)"
   ]
  },
  {
   "cell_type": "markdown",
   "metadata": {},
   "source": [
    "If you would like to unsubscribe to the algorithm, follow these steps. Before you cancel the subscription, ensure that you do not have any [deployable model](https://console.aws.amazon.com/sagemaker/home#/models) created from the model package or using the algorithm. Note - You can find this information by looking at the container name associated with the model. \n",
    "\n",
    "**Steps to unsubscribe to product from AWS Marketplace**:\n",
    "1. Navigate to __Machine Learning__ tab on [__Your Software subscriptions page__](https://aws.amazon.com/marketplace/ai/library?productType=ml&ref_=mlmp_gitdemo_indust)\n",
    "2. Locate the listing that you want to cancel the subscription for, and then choose __Cancel Subscription__  to cancel the subscription.\n",
    "\n"
   ]
  }
 ],
 "metadata": {
  "kernelspec": {
   "display_name": "conda_python3",
   "language": "python",
   "name": "conda_python3"
  },
  "language_info": {
   "codemirror_mode": {
    "name": "ipython",
    "version": 3
   },
   "file_extension": ".py",
   "mimetype": "text/x-python",
   "name": "python",
   "nbconvert_exporter": "python",
   "pygments_lexer": "ipython3",
   "version": "3.10.12"
  }
 },
 "nbformat": 4,
 "nbformat_minor": 4
}
