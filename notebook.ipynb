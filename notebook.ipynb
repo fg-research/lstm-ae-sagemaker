{
 "cells": [
  {
   "cell_type": "markdown",
   "metadata": {},
   "source": [
    "# Train, tune, and deploy a custom ML model using the Time Series Anomaly Detection (LSTM-AE) Algorithm from AWS Marketplace"
   ]
  },
  {
   "cell_type": "markdown",
   "metadata": {},
   "source": [
    "The [Time Series Anomaly Detection (LSTM-AE) Algorithm from AWS Marketplace](https://aws.amazon.com/marketplace/pp/prodview-up2haipz3j472) performs time series anomaly detection with a Long Short-Term Memory Network Autoencoder (LSTM-AE). It implements both training and inference from CSV data and supports both CPU and GPU instances. The training and inference Docker images were built by extending the PyTorch 2.0 Python 3.10 SageMaker containers. \n",
    "\n",
    "#### Model Overview  \n",
    "The LSTM-AE model reconstructs the time series with an LSTM autoencoder.\n",
    "The encoder and decoder consist of a single LSTM layer and have the same number of hidden units.\n",
    "The encoder takes as input the time series and returns the hidden states.\n",
    "The hidden states of the encoder are used for initializing the hidden states of the decoder, which reconstructs the time series in reversed order. \n",
    "The autoencoder parameters are learned on a training set containing only normal data (i.e. without anomalies) by minimizing the mean squared error (MSE) between the actual and reconstructed values of the time series.\n",
    "\n",
    "After the model has been trained, a multivariate Gaussian distribution is fitted to the model's reconstruction errors on an independent validation set (also without anomalies) using Maximum Likelihood Estimation (MLE). \n",
    "At inference time, the model reconstructs the values of all the time series (which can now include anomalies) and calculates the squared Mahalanobis distance between the reconstruction errors and the Gaussian distribution previously estimated on normal data. \n",
    "The computed squared Mahalanobis distance is then used as an anomaly score: the larger the squared Mahalanobis distance at a given a time step, the more likely the time step is to be an anomaly.\n",
    "\n",
    "<img src=https://fg-research-assets.s3.eu-west-1.amazonaws.com/lstm-ae-diagram.png style=\"width:60%;margin-top:60px;margin-bottom:50px\"/> \n",
    "\n",
    "*LSTM-AE architecture (source: [doi: 10.48550/arXiv.1607.00148](https://doi.org/10.48550/arXiv.1607.00148))*\n",
    "\n",
    "#### Model Resources \n",
    "- **Paper:** [LSTM-based Encoder-Decoder for Multi-Sensor Anomaly Detection](https://doi.org/10.48550/arXiv.1607.00148).\n",
    "\n",
    "This sample notebook shows you how to train a custom ML model using the [Time Series Anomaly Detection (LSTM-AE) Algorithm from AWS Marketplace](https://aws.amazon.com/marketplace/pp/prodview-up2haipz3j472).\n",
    "\n",
    "**Note: This is a reference notebook and it cannot run unless you make the changes suggested in the notebook.**"
   ]
  },
  {
   "cell_type": "markdown",
   "metadata": {},
   "source": [
    "## Pre-requisites\n",
    "1. This notebook contains elements which render correctly in Jupyter interface. Open this notebook from an Amazon SageMaker Notebook Instance or Amazon SageMaker Studio.\n",
    "1. Ensure that IAM role used has **AmazonSageMakerFullAccess**\n",
    "1. Some hands-on experience using [Amazon SageMaker](https://aws.amazon.com/sagemaker/).\n",
    "1. To use this algorithm successfully, ensure that:\n",
    "    1. Either your IAM role has these three permissions and you have authority to make AWS Marketplace subscriptions in the AWS account used: \n",
    "        1. **aws-marketplace:ViewSubscriptions**\n",
    "        1. **aws-marketplace:Unsubscribe**\n",
    "        1. **aws-marketplace:Subscribe**  \n",
    "    2. or your AWS account has a subscription to the [Time Series Anomaly Detection (LSTM-AE) Algorithm from AWS Marketplace](https://aws.amazon.com/marketplace/pp/prodview-up2haipz3j472)"
   ]
  },
  {
   "cell_type": "markdown",
   "metadata": {},
   "source": [
    "## Contents\n",
    "1. [Subscribe to the algorithm](#1.-Subscribe-to-the-algorithm)\n",
    "1. [Prepare dataset](#2.-Prepare-dataset)\n",
    "\t1. [Dataset format expected by the algorithm](#A.-Dataset-format-expected-by-the-algorithm)\n",
    "\t1. [Configure and visualize train and test dataset](#B.-Configure-and-visualize-train-and-test-dataset)\n",
    "\t1. [Upload datasets to Amazon S3](#C.-Upload-datasets-to-Amazon-S3)\n",
    "1. [Train a machine learning model](#3:-Train-a-machine-learning-model)\n",
    "\t1. [Set up environment](#3.1-Set-up-environment)\n",
    "\t1. [Train a model](#3.2-Train-a-model)\n",
    "1. [Deploy model and verify results](#4:-Deploy-model-and-verify-results)\n",
    "    1. [Deploy trained model](#A.-Deploy-trained-model)\n",
    "    1. [Create input payload](#B.-Create-input-payload)\n",
    "    1. [Perform real-time inference](#C.-Perform-real-time-inference)\n",
    "    1. [Visualize output](#D.-Visualize-output)\n",
    "    1. [Calculate relevant metrics](#E.-Calculate-relevant-metrics)\n",
    "    1. [Delete the endpoint](#F.-Delete-the-endpoint)\n",
    "1. [Tune your model! (optional)](#5:-Tune-your-model!-(optional))\n",
    "\t1. [Tuning Guidelines](#A.-Tuning-Guidelines)\n",
    "\t1. [Define Tuning configuration](#B.-Define-Tuning-configuration)\n",
    "\t1. [Run a model tuning job](#C.-Run-a-model-tuning-job)\n",
    "1. [Perform Batch inference](#6.-Perform-Batch-inference)\n",
    "1. [Clean-up](#7.-Clean-up)\n",
    "\t1. [Delete the model](#A.-Delete-the-model)\n",
    "\t1. [Unsubscribe to the listing (optional)](#B.-Unsubscribe-to-the-listing-(optional))\n",
    "\n",
    "\n",
    "## Usage instructions\n",
    "You can run this notebook one cell at a time (by using Shift+Enter for running a cell)."
   ]
  },
  {
   "cell_type": "markdown",
   "metadata": {},
   "source": [
    "## 1. Subscribe to the algorithm"
   ]
  },
  {
   "cell_type": "markdown",
   "metadata": {},
   "source": [
    "To subscribe to the algorithm:\n",
    "1. Open the algorithm listing page.\n",
    "1. On the AWS Marketplace listing, click on the **Continue to subscribe** button.\n",
    "1. On the **Subscribe to this software** page, review and click on **\"Accept Offer\"** if you agree with EULA, pricing, and support terms. \n",
    "1. Once you click on the **Continue to configuration** button and then choose a **region**, you will see a **Product ARN**. This is the algorithm ARN that you need to specify while training a custom ML model. **Copy the ARN corresponding to your region and specify the same in the following cell.**"
   ]
  },
  {
   "cell_type": "code",
   "execution_count": 1,
   "metadata": {
    "tags": []
   },
   "outputs": [],
   "source": [
    "algo_arn = \"arn:aws:sagemaker:eu-west-1:661670223746:algorithm/lstm-ae-algo-v1-1\""
   ]
  },
  {
   "cell_type": "markdown",
   "metadata": {},
   "source": [
    "## 2. Prepare dataset"
   ]
  },
  {
   "cell_type": "code",
   "execution_count": 2,
   "metadata": {
    "tags": []
   },
   "outputs": [],
   "source": [
    "import io\n",
    "import datetime\n",
    "import boto3\n",
    "import sagemaker\n",
    "import pandas as pd\n",
    "import numpy as np\n",
    "import matplotlib.pyplot as plt"
   ]
  },
  {
   "cell_type": "code",
   "execution_count": 3,
   "metadata": {
    "tags": []
   },
   "outputs": [
    {
     "data": {
      "text/plain": [
       "'sagemaker-eu-west-1-661670223746'"
      ]
     },
     "execution_count": 3,
     "metadata": {},
     "output_type": "execute_result"
    }
   ],
   "source": [
    "# S3 bucket\n",
    "sagemaker_session = sagemaker.Session()\n",
    "bucket = sagemaker_session.default_bucket()\n",
    "bucket"
   ]
  },
  {
   "cell_type": "code",
   "execution_count": 4,
   "metadata": {
    "tags": []
   },
   "outputs": [],
   "source": [
    "# EC2 instance\n",
    "instance_type = \"ml.m5.2xlarge\""
   ]
  },
  {
   "cell_type": "markdown",
   "metadata": {},
   "source": [
    "### A. Dataset format expected by the algorithm"
   ]
  },
  {
   "cell_type": "markdown",
   "metadata": {},
   "source": [
    "The training and validation datasets should be provided as CSV files. \n",
    "Each column of the CSV file represents a time series, while each row represents a time step.\n",
    "All the time series should have the same length and should not contain missing values.\n",
    "The CSV file should not contain any index column or column headers. \n",
    "\n",
    "You can find more information about dataset format in the **Usage Information** section of the algorithm listing page."
   ]
  },
  {
   "cell_type": "markdown",
   "metadata": {},
   "source": [
    "### B. Configure and visualize train and test dataset"
   ]
  },
  {
   "cell_type": "markdown",
   "metadata": {},
   "source": [
    "The sample data provided in the algorithm's [GitHub repository](https://github.com/fg-research/lstm-ae-sagemaker) consists of two artificially generated time series. The training dataset contains 15000 samples, while the validation and test datasets contain 5000 samples. "
   ]
  },
  {
   "cell_type": "markdown",
   "metadata": {
    "tags": []
   },
   "source": [
    "**Training dataset:**"
   ]
  },
  {
   "cell_type": "code",
   "execution_count": 5,
   "metadata": {
    "tags": []
   },
   "outputs": [],
   "source": [
    "training_dataset = pd.read_csv(\n",
    "    \"https://raw.githubusercontent.com/fg-research/lstm-ae-sagemaker/master/data/training/train.csv\",\n",
    "    header=None,\n",
    "    index_col=None\n",
    ")"
   ]
  },
  {
   "cell_type": "code",
   "execution_count": 6,
   "metadata": {
    "tags": []
   },
   "outputs": [
    {
     "data": {
      "text/plain": [
       "(15000, 2)"
      ]
     },
     "execution_count": 6,
     "metadata": {},
     "output_type": "execute_result"
    }
   ],
   "source": [
    "training_dataset.shape"
   ]
  },
  {
   "cell_type": "code",
   "execution_count": 7,
   "metadata": {
    "tags": []
   },
   "outputs": [
    {
     "data": {
      "text/html": [
       "<div>\n",
       "<style scoped>\n",
       "    .dataframe tbody tr th:only-of-type {\n",
       "        vertical-align: middle;\n",
       "    }\n",
       "\n",
       "    .dataframe tbody tr th {\n",
       "        vertical-align: top;\n",
       "    }\n",
       "\n",
       "    .dataframe thead th {\n",
       "        text-align: right;\n",
       "    }\n",
       "</style>\n",
       "<table border=\"1\" class=\"dataframe\">\n",
       "  <thead>\n",
       "    <tr style=\"text-align: right;\">\n",
       "      <th></th>\n",
       "      <th>0</th>\n",
       "      <th>1</th>\n",
       "    </tr>\n",
       "  </thead>\n",
       "  <tbody>\n",
       "    <tr>\n",
       "      <th>0</th>\n",
       "      <td>-10.302054</td>\n",
       "      <td>-9.879548</td>\n",
       "    </tr>\n",
       "    <tr>\n",
       "      <th>1</th>\n",
       "      <td>-9.761644</td>\n",
       "      <td>-11.455176</td>\n",
       "    </tr>\n",
       "    <tr>\n",
       "      <th>2</th>\n",
       "      <td>-10.185059</td>\n",
       "      <td>-12.195165</td>\n",
       "    </tr>\n",
       "    <tr>\n",
       "      <th>3</th>\n",
       "      <td>-12.834404</td>\n",
       "      <td>-10.253211</td>\n",
       "    </tr>\n",
       "    <tr>\n",
       "      <th>4</th>\n",
       "      <td>-13.341993</td>\n",
       "      <td>-13.015417</td>\n",
       "    </tr>\n",
       "  </tbody>\n",
       "</table>\n",
       "</div>"
      ],
      "text/plain": [
       "           0          1\n",
       "0 -10.302054  -9.879548\n",
       "1  -9.761644 -11.455176\n",
       "2 -10.185059 -12.195165\n",
       "3 -12.834404 -10.253211\n",
       "4 -13.341993 -13.015417"
      ]
     },
     "execution_count": 7,
     "metadata": {},
     "output_type": "execute_result"
    }
   ],
   "source": [
    "training_dataset.head()"
   ]
  },
  {
   "cell_type": "code",
   "execution_count": 8,
   "metadata": {
    "tags": []
   },
   "outputs": [
    {
     "data": {
      "image/png": "[encoded data removed]",
      "text/plain": [
       "<Figure size 640x480 with 2 Axes>"
      ]
     },
     "metadata": {},
     "output_type": "display_data"
    }
   ],
   "source": [
    "fig, axs = plt.subplots(nrows=training_dataset.shape[1], ncols=1, sharex=True)\n",
    "for i in range(training_dataset.shape[1]):\n",
    "    axs[i].plot(training_dataset.iloc[:, i], color=\"#AFB8C1\", lw=1)\n",
    "    axs[i].set_title(f\"Time Series {i + 1}\", size=10)\n",
    "    axs[i].set(xlabel=\"Time\", ylabel=\"Value\")\n",
    "    axs[i].xaxis.set_tick_params(labelbottom=True)\n",
    "    axs[i].tick_params(axis=\"both\", which=\"major\", labelsize=7)\n",
    "    axs[i].tick_params(axis=\"both\", which=\"minor\", labelsize=7)\n",
    "fig.subplots_adjust(hspace=0.75)\n",
    "fig.suptitle(\"Training Dataset\")\n",
    "fig.show()"
   ]
  },
  {
   "cell_type": "markdown",
   "metadata": {},
   "source": [
    "**Validation dataset:**"
   ]
  },
  {
   "cell_type": "code",
   "execution_count": 9,
   "metadata": {
    "tags": []
   },
   "outputs": [],
   "source": [
    "validation_dataset = pd.read_csv(\n",
    "    \"https://raw.githubusercontent.com/fg-research/lstm-ae-sagemaker/master/data/training/valid.csv\",\n",
    "    header=None,\n",
    "    index_col=None\n",
    ")"
   ]
  },
  {
   "cell_type": "code",
   "execution_count": 10,
   "metadata": {
    "tags": []
   },
   "outputs": [
    {
     "data": {
      "text/plain": [
       "(5000, 2)"
      ]
     },
     "execution_count": 10,
     "metadata": {},
     "output_type": "execute_result"
    }
   ],
   "source": [
    "validation_dataset.shape"
   ]
  },
  {
   "cell_type": "code",
   "execution_count": 11,
   "metadata": {
    "tags": []
   },
   "outputs": [
    {
     "data": {
      "text/html": [
       "<div>\n",
       "<style scoped>\n",
       "    .dataframe tbody tr th:only-of-type {\n",
       "        vertical-align: middle;\n",
       "    }\n",
       "\n",
       "    .dataframe tbody tr th {\n",
       "        vertical-align: top;\n",
       "    }\n",
       "\n",
       "    .dataframe thead th {\n",
       "        text-align: right;\n",
       "    }\n",
       "</style>\n",
       "<table border=\"1\" class=\"dataframe\">\n",
       "  <thead>\n",
       "    <tr style=\"text-align: right;\">\n",
       "      <th></th>\n",
       "      <th>0</th>\n",
       "      <th>1</th>\n",
       "    </tr>\n",
       "  </thead>\n",
       "  <tbody>\n",
       "    <tr>\n",
       "      <th>0</th>\n",
       "      <td>-9.728953</td>\n",
       "      <td>-11.809606</td>\n",
       "    </tr>\n",
       "    <tr>\n",
       "      <th>1</th>\n",
       "      <td>-11.821012</td>\n",
       "      <td>-12.637485</td>\n",
       "    </tr>\n",
       "    <tr>\n",
       "      <th>2</th>\n",
       "      <td>-11.422567</td>\n",
       "      <td>-11.136945</td>\n",
       "    </tr>\n",
       "    <tr>\n",
       "      <th>3</th>\n",
       "      <td>-12.757596</td>\n",
       "      <td>-14.022805</td>\n",
       "    </tr>\n",
       "    <tr>\n",
       "      <th>4</th>\n",
       "      <td>-13.126208</td>\n",
       "      <td>-12.558090</td>\n",
       "    </tr>\n",
       "  </tbody>\n",
       "</table>\n",
       "</div>"
      ],
      "text/plain": [
       "           0          1\n",
       "0  -9.728953 -11.809606\n",
       "1 -11.821012 -12.637485\n",
       "2 -11.422567 -11.136945\n",
       "3 -12.757596 -14.022805\n",
       "4 -13.126208 -12.558090"
      ]
     },
     "execution_count": 11,
     "metadata": {},
     "output_type": "execute_result"
    }
   ],
   "source": [
    "validation_dataset.head()"
   ]
  },
  {
   "cell_type": "code",
   "execution_count": 12,
   "metadata": {
    "tags": []
   },
   "outputs": [
    {
     "data": {
      "image/png": "[encoded data removed]",
      "text/plain": [
       "<Figure size 640x480 with 2 Axes>"
      ]
     },
     "metadata": {},
     "output_type": "display_data"
    }
   ],
   "source": [
    "fig, axs = plt.subplots(nrows=validation_dataset.shape[1], ncols=1, sharex=True)\n",
    "for i in range(validation_dataset.shape[1]):\n",
    "    axs[i].plot(validation_dataset.iloc[:, i], color=\"#AFB8C1\", lw=1)\n",
    "    axs[i].set_title(f\"Time Series {i + 1}\", size=10)\n",
    "    axs[i].set(xlabel=\"Time\", ylabel=\"Value\")\n",
    "    axs[i].xaxis.set_tick_params(labelbottom=True)\n",
    "    axs[i].tick_params(axis=\"both\", which=\"major\", labelsize=7)\n",
    "    axs[i].tick_params(axis=\"both\", which=\"minor\", labelsize=7)\n",
    "fig.subplots_adjust(hspace=0.75)\n",
    "fig.suptitle(\"Validation Dataset\")\n",
    "fig.show()"
   ]
  },
  {
   "cell_type": "markdown",
   "metadata": {},
   "source": [
    "### C. Upload datasets to Amazon S3"
   ]
  },
  {
   "cell_type": "code",
   "execution_count": 13,
   "metadata": {
    "tags": []
   },
   "outputs": [],
   "source": [
    "training_data = sagemaker_session.upload_string_as_file_body(\n",
    "    body=training_dataset.to_csv(index=False, header=False),\n",
    "    bucket=bucket,\n",
    "    key=\"data/training/train.csv\"\n",
    ")"
   ]
  },
  {
   "cell_type": "code",
   "execution_count": 14,
   "metadata": {
    "tags": []
   },
   "outputs": [
    {
     "data": {
      "text/plain": [
       "'s3://sagemaker-eu-west-1-661670223746/data/training/train.csv'"
      ]
     },
     "execution_count": 14,
     "metadata": {},
     "output_type": "execute_result"
    }
   ],
   "source": [
    "training_data"
   ]
  },
  {
   "cell_type": "code",
   "execution_count": 15,
   "metadata": {
    "tags": []
   },
   "outputs": [],
   "source": [
    "validation_data = sagemaker_session.upload_string_as_file_body(\n",
    "    body=validation_dataset.to_csv(index=False, header=False),\n",
    "    bucket=bucket,\n",
    "    key=\"data/training/valid.csv\"\n",
    ")"
   ]
  },
  {
   "cell_type": "code",
   "execution_count": 16,
   "metadata": {
    "tags": []
   },
   "outputs": [
    {
     "data": {
      "text/plain": [
       "'s3://sagemaker-eu-west-1-661670223746/data/training/valid.csv'"
      ]
     },
     "execution_count": 16,
     "metadata": {},
     "output_type": "execute_result"
    }
   ],
   "source": [
    "validation_data"
   ]
  },
  {
   "cell_type": "markdown",
   "metadata": {},
   "source": [
    "## 3: Train a machine learning model"
   ]
  },
  {
   "cell_type": "markdown",
   "metadata": {},
   "source": [
    "Now that dataset is available in an accessible Amazon S3 bucket, we are ready to train a machine learning model. "
   ]
  },
  {
   "cell_type": "markdown",
   "metadata": {},
   "source": [
    "### 3.1 Set up environment"
   ]
  },
  {
   "cell_type": "code",
   "execution_count": 17,
   "metadata": {
    "tags": []
   },
   "outputs": [],
   "source": [
    "role = sagemaker.get_execution_role()"
   ]
  },
  {
   "cell_type": "markdown",
   "metadata": {},
   "source": [
    "### 3.2 Train a model"
   ]
  },
  {
   "cell_type": "markdown",
   "metadata": {},
   "source": [
    "You can find more information about the model's hyperparameters in the **Hyperparameters** section of the algorithm listing page."
   ]
  },
  {
   "cell_type": "code",
   "execution_count": 18,
   "metadata": {
    "tags": []
   },
   "outputs": [],
   "source": [
    "# define hyperparameters\n",
    "hyperparameters = {\n",
    "    \"sequence-length\": 100,\n",
    "    \"sequence-stride\": 50,\n",
    "    \"hidden-size\": 64,\n",
    "    \"lr\": 0.001,\n",
    "    \"batch-size\": 32,\n",
    "    \"epochs\": 100,\n",
    "}"
   ]
  },
  {
   "cell_type": "markdown",
   "metadata": {},
   "source": [
    "For information on creating an `Estimator` object, see the [documentation](https://sagemaker.readthedocs.io/en/stable/api/training/estimators.html)."
   ]
  },
  {
   "cell_type": "code",
   "execution_count": 19,
   "metadata": {
    "tags": []
   },
   "outputs": [
    {
     "name": "stderr",
     "output_type": "stream",
     "text": [
      "NOTEBOOK_METADATA_FILE detected but failed to get valid domain and user from it.\n"
     ]
    }
   ],
   "source": [
    "# create an estimator object for running a training job\n",
    "estimator = sagemaker.algorithm.AlgorithmEstimator(\n",
    "    algorithm_arn=algo_arn,\n",
    "    base_job_name=\"lstm-ae-training\",\n",
    "    role=role,\n",
    "    instance_count=1,\n",
    "    instance_type=instance_type,\n",
    "    input_mode=\"File\",\n",
    "    sagemaker_session=sagemaker_session,\n",
    "    hyperparameters=hyperparameters\n",
    ")"
   ]
  },
  {
   "cell_type": "code",
   "execution_count": 20,
   "metadata": {
    "tags": []
   },
   "outputs": [
    {
     "name": "stderr",
     "output_type": "stream",
     "text": [
      "INFO:sagemaker:Creating training-job with name: lstm-ae-training-2023-10-02-13-09-49-776\n"
     ]
    },
    {
     "name": "stdout",
     "output_type": "stream",
     "text": [
      "2023-10-02 13:09:49 Starting - Starting the training job...\n",
      "2023-10-02 13:10:05 Starting - Preparing the instances for training......\n",
      "2023-10-02 13:11:02 Downloading - Downloading input data...\n",
      "2023-10-02 13:11:21 Training - Downloading the training image.....................\n",
      "2023-10-02 13:14:53 Training - Training image download completed. Training in progress..\u001b[34mbash: cannot set terminal process group (-1): Inappropriate ioctl for device\u001b[0m\n",
      "\u001b[34mbash: no job control in this shell\u001b[0m\n",
      "\u001b[34m2023-10-02 13:15:25,189 sagemaker-training-toolkit INFO     Imported framework sagemaker_pytorch_container.training\u001b[0m\n",
      "\u001b[34m2023-10-02 13:15:25,190 sagemaker-training-toolkit INFO     No GPUs detected (normal if no gpus installed)\u001b[0m\n",
      "\u001b[34m2023-10-02 13:15:25,190 sagemaker-training-toolkit INFO     No Neurons detected (normal if no neurons installed)\u001b[0m\n",
      "\u001b[34m2023-10-02 13:15:25,199 sagemaker_pytorch_container.training INFO     Block until all host DNS lookups succeed.\u001b[0m\n",
      "\u001b[34m2023-10-02 13:15:25,201 sagemaker_pytorch_container.training INFO     Invoking user training script.\u001b[0m\n",
      "\u001b[34m2023-10-02 13:15:26,443 sagemaker-training-toolkit INFO     No GPUs detected (normal if no gpus installed)\u001b[0m\n",
      "\u001b[34m2023-10-02 13:15:26,444 sagemaker-training-toolkit INFO     No Neurons detected (normal if no neurons installed)\u001b[0m\n",
      "\u001b[34m2023-10-02 13:15:26,455 sagemaker-training-toolkit INFO     No GPUs detected (normal if no gpus installed)\u001b[0m\n",
      "\u001b[34m2023-10-02 13:15:26,456 sagemaker-training-toolkit INFO     No Neurons detected (normal if no neurons installed)\u001b[0m\n",
      "\u001b[34m2023-10-02 13:15:26,466 sagemaker-training-toolkit INFO     No GPUs detected (normal if no gpus installed)\u001b[0m\n",
      "\u001b[34m2023-10-02 13:15:26,467 sagemaker-training-toolkit INFO     No Neurons detected (normal if no neurons installed)\u001b[0m\n",
      "\u001b[34m2023-10-02 13:15:26,476 sagemaker-training-toolkit INFO     Invoking user script\u001b[0m\n",
      "\u001b[34mTraining Env:\u001b[0m\n",
      "\u001b[34m{\n",
      "    \"additional_framework_parameters\": {},\n",
      "    \"channel_input_dirs\": {\n",
      "        \"training\": \"/opt/ml/input/data/training\",\n",
      "        \"validation\": \"/opt/ml/input/data/validation\"\n",
      "    },\n",
      "    \"current_host\": \"algo-1\",\n",
      "    \"current_instance_group\": \"homogeneousCluster\",\n",
      "    \"current_instance_group_hosts\": [\n",
      "        \"algo-1\"\n",
      "    ],\n",
      "    \"current_instance_type\": \"ml.m5.2xlarge\",\n",
      "    \"distribution_hosts\": [],\n",
      "    \"distribution_instance_groups\": [],\n",
      "    \"framework_module\": \"sagemaker_pytorch_container.training:main\",\n",
      "    \"hosts\": [\n",
      "        \"algo-1\"\n",
      "    ],\n",
      "    \"hyperparameters\": {\n",
      "        \"batch-size\": 32,\n",
      "        \"epochs\": 100,\n",
      "        \"hidden-size\": 64,\n",
      "        \"lr\": 0.001,\n",
      "        \"sequence-length\": 100,\n",
      "        \"sequence-stride\": 50\n",
      "    },\n",
      "    \"input_config_dir\": \"/opt/ml/input/config\",\n",
      "    \"input_data_config\": {\n",
      "        \"training\": {\n",
      "            \"TrainingInputMode\": \"File\",\n",
      "            \"S3DistributionType\": \"FullyReplicated\",\n",
      "            \"RecordWrapperType\": \"None\"\n",
      "        },\n",
      "        \"validation\": {\n",
      "            \"TrainingInputMode\": \"File\",\n",
      "            \"S3DistributionType\": \"FullyReplicated\",\n",
      "            \"RecordWrapperType\": \"None\"\n",
      "        }\n",
      "    },\n",
      "    \"input_dir\": \"/opt/ml/input\",\n",
      "    \"instance_groups\": [\n",
      "        \"homogeneousCluster\"\n",
      "    ],\n",
      "    \"instance_groups_dict\": {\n",
      "        \"homogeneousCluster\": {\n",
      "            \"instance_group_name\": \"homogeneousCluster\",\n",
      "            \"instance_type\": \"ml.m5.2xlarge\",\n",
      "            \"hosts\": [\n",
      "                \"algo-1\"\n",
      "            ]\n",
      "        }\n",
      "    },\n",
      "    \"is_hetero\": false,\n",
      "    \"is_master\": true,\n",
      "    \"is_modelparallel_enabled\": null,\n",
      "    \"is_smddpmprun_installed\": true,\n",
      "    \"job_name\": \"lstm-ae-training-2023-10-02-13-09-49-776\",\n",
      "    \"log_level\": 20,\n",
      "    \"master_hostname\": \"algo-1\",\n",
      "    \"model_dir\": \"/opt/ml/model\",\n",
      "    \"module_dir\": \"/opt/ml/code\",\n",
      "    \"module_name\": \"training\",\n",
      "    \"network_interface_name\": \"eth0\",\n",
      "    \"num_cpus\": 8,\n",
      "    \"num_gpus\": 0,\n",
      "    \"num_neurons\": 0,\n",
      "    \"output_data_dir\": \"/opt/ml/output/data\",\n",
      "    \"output_dir\": \"/opt/ml/output\",\n",
      "    \"output_intermediate_dir\": \"/opt/ml/output/intermediate\",\n",
      "    \"resource_config\": {\n",
      "        \"current_host\": \"algo-1\",\n",
      "        \"current_instance_type\": \"ml.m5.2xlarge\",\n",
      "        \"current_group_name\": \"homogeneousCluster\",\n",
      "        \"hosts\": [\n",
      "            \"algo-1\"\n",
      "        ],\n",
      "        \"instance_groups\": [\n",
      "            {\n",
      "                \"instance_group_name\": \"homogeneousCluster\",\n",
      "                \"instance_type\": \"ml.m5.2xlarge\",\n",
      "                \"hosts\": [\n",
      "                    \"algo-1\"\n",
      "                ]\n",
      "            }\n",
      "        ],\n",
      "        \"network_interface_name\": \"eth0\"\n",
      "    },\n",
      "    \"user_entry_point\": \"training.py\"\u001b[0m\n",
      "\u001b[34m}\u001b[0m\n",
      "\u001b[34mEnvironment variables:\u001b[0m\n",
      "\u001b[34mSM_HOSTS=[\"algo-1\"]\u001b[0m\n",
      "\u001b[34mSM_NETWORK_INTERFACE_NAME=eth0\u001b[0m\n",
      "\u001b[34mSM_HPS={\"batch-size\":32,\"epochs\":100,\"hidden-size\":64,\"lr\":0.001,\"sequence-length\":100,\"sequence-stride\":50}\u001b[0m\n",
      "\u001b[34mSM_USER_ENTRY_POINT=training.py\u001b[0m\n",
      "\u001b[34mSM_FRAMEWORK_PARAMS={}\u001b[0m\n",
      "\u001b[34mSM_RESOURCE_CONFIG={\"current_group_name\":\"homogeneousCluster\",\"current_host\":\"algo-1\",\"current_instance_type\":\"ml.m5.2xlarge\",\"hosts\":[\"algo-1\"],\"instance_groups\":[{\"hosts\":[\"algo-1\"],\"instance_group_name\":\"homogeneousCluster\",\"instance_type\":\"ml.m5.2xlarge\"}],\"network_interface_name\":\"eth0\"}\u001b[0m\n",
      "\u001b[34mSM_INPUT_DATA_CONFIG={\"training\":{\"RecordWrapperType\":\"None\",\"S3DistributionType\":\"FullyReplicated\",\"TrainingInputMode\":\"File\"},\"validation\":{\"RecordWrapperType\":\"None\",\"S3DistributionType\":\"FullyReplicated\",\"TrainingInputMode\":\"File\"}}\u001b[0m\n",
      "\u001b[34mSM_OUTPUT_DATA_DIR=/opt/ml/output/data\u001b[0m\n",
      "\u001b[34mSM_CHANNELS=[\"training\",\"validation\"]\u001b[0m\n",
      "\u001b[34mSM_CURRENT_HOST=algo-1\u001b[0m\n",
      "\u001b[34mSM_CURRENT_INSTANCE_TYPE=ml.m5.2xlarge\u001b[0m\n",
      "\u001b[34mSM_CURRENT_INSTANCE_GROUP=homogeneousCluster\u001b[0m\n",
      "\u001b[34mSM_CURRENT_INSTANCE_GROUP_HOSTS=[\"algo-1\"]\u001b[0m\n",
      "\u001b[34mSM_INSTANCE_GROUPS=[\"homogeneousCluster\"]\u001b[0m\n",
      "\u001b[34mSM_INSTANCE_GROUPS_DICT={\"homogeneousCluster\":{\"hosts\":[\"algo-1\"],\"instance_group_name\":\"homogeneousCluster\",\"instance_type\":\"ml.m5.2xlarge\"}}\u001b[0m\n",
      "\u001b[34mSM_DISTRIBUTION_INSTANCE_GROUPS=[]\u001b[0m\n",
      "\u001b[34mSM_IS_HETERO=false\u001b[0m\n",
      "\u001b[34mSM_MODULE_NAME=training\u001b[0m\n",
      "\u001b[34mSM_LOG_LEVEL=20\u001b[0m\n",
      "\u001b[34mSM_FRAMEWORK_MODULE=sagemaker_pytorch_container.training:main\u001b[0m\n",
      "\u001b[34mSM_INPUT_DIR=/opt/ml/input\u001b[0m\n",
      "\u001b[34mSM_INPUT_CONFIG_DIR=/opt/ml/input/config\u001b[0m\n",
      "\u001b[34mSM_OUTPUT_DIR=/opt/ml/output\u001b[0m\n",
      "\u001b[34mSM_NUM_CPUS=8\u001b[0m\n",
      "\u001b[34mSM_NUM_GPUS=0\u001b[0m\n",
      "\u001b[34mSM_NUM_NEURONS=0\u001b[0m\n",
      "\u001b[34mSM_MODEL_DIR=/opt/ml/model\u001b[0m\n",
      "\u001b[34mSM_MODULE_DIR=/opt/ml/code\u001b[0m\n",
      "\u001b[34mSM_TRAINING_ENV={\"additional_framework_parameters\":{},\"channel_input_dirs\":{\"training\":\"/opt/ml/input/data/training\",\"validation\":\"/opt/ml/input/data/validation\"},\"current_host\":\"algo-1\",\"current_instance_group\":\"homogeneousCluster\",\"current_instance_group_hosts\":[\"algo-1\"],\"current_instance_type\":\"ml.m5.2xlarge\",\"distribution_hosts\":[],\"distribution_instance_groups\":[],\"framework_module\":\"sagemaker_pytorch_container.training:main\",\"hosts\":[\"algo-1\"],\"hyperparameters\":{\"batch-size\":32,\"epochs\":100,\"hidden-size\":64,\"lr\":0.001,\"sequence-length\":100,\"sequence-stride\":50},\"input_config_dir\":\"/opt/ml/input/config\",\"input_data_config\":{\"training\":{\"RecordWrapperType\":\"None\",\"S3DistributionType\":\"FullyReplicated\",\"TrainingInputMode\":\"File\"},\"validation\":{\"RecordWrapperType\":\"None\",\"S3DistributionType\":\"FullyReplicated\",\"TrainingInputMode\":\"File\"}},\"input_dir\":\"/opt/ml/input\",\"instance_groups\":[\"homogeneousCluster\"],\"instance_groups_dict\":{\"homogeneousCluster\":{\"hosts\":[\"algo-1\"],\"instance_group_name\":\"homogeneousCluster\",\"instance_type\":\"ml.m5.2xlarge\"}},\"is_hetero\":false,\"is_master\":true,\"is_modelparallel_enabled\":null,\"is_smddpmprun_installed\":true,\"job_name\":\"lstm-ae-training-2023-10-02-13-09-49-776\",\"log_level\":20,\"master_hostname\":\"algo-1\",\"model_dir\":\"/opt/ml/model\",\"module_dir\":\"/opt/ml/code\",\"module_name\":\"training\",\"network_interface_name\":\"eth0\",\"num_cpus\":8,\"num_gpus\":0,\"num_neurons\":0,\"output_data_dir\":\"/opt/ml/output/data\",\"output_dir\":\"/opt/ml/output\",\"output_intermediate_dir\":\"/opt/ml/output/intermediate\",\"resource_config\":{\"current_group_name\":\"homogeneousCluster\",\"current_host\":\"algo-1\",\"current_instance_type\":\"ml.m5.2xlarge\",\"hosts\":[\"algo-1\"],\"instance_groups\":[{\"hosts\":[\"algo-1\"],\"instance_group_name\":\"homogeneousCluster\",\"instance_type\":\"ml.m5.2xlarge\"}],\"network_interface_name\":\"eth0\"},\"user_entry_point\":\"training.py\"}\u001b[0m\n",
      "\u001b[34mSM_USER_ARGS=[\"--batch-size\",\"32\",\"--epochs\",\"100\",\"--hidden-size\",\"64\",\"--lr\",\"0.001\",\"--sequence-length\",\"100\",\"--sequence-stride\",\"50\"]\u001b[0m\n",
      "\u001b[34mSM_OUTPUT_INTERMEDIATE_DIR=/opt/ml/output/intermediate\u001b[0m\n",
      "\u001b[34mSM_CHANNEL_TRAINING=/opt/ml/input/data/training\u001b[0m\n",
      "\u001b[34mSM_CHANNEL_VALIDATION=/opt/ml/input/data/validation\u001b[0m\n",
      "\u001b[34mSM_HP_BATCH-SIZE=32\u001b[0m\n",
      "\u001b[34mSM_HP_EPOCHS=100\u001b[0m\n",
      "\u001b[34mSM_HP_HIDDEN-SIZE=64\u001b[0m\n",
      "\u001b[34mSM_HP_LR=0.001\u001b[0m\n",
      "\u001b[34mSM_HP_SEQUENCE-LENGTH=100\u001b[0m\n",
      "\u001b[34mSM_HP_SEQUENCE-STRIDE=50\u001b[0m\n",
      "\u001b[34mPYTHONPATH=/opt/ml/code:/opt/conda/bin:/opt/conda/lib/python310.zip:/opt/conda/lib/python3.10:/opt/conda/lib/python3.10/lib-dynload:/opt/conda/lib/python3.10/site-packages\u001b[0m\n",
      "\u001b[34mInvoking script with the following command:\u001b[0m\n",
      "\u001b[34m/opt/conda/bin/python3.10 training.py --batch-size 32 --epochs 100 --hidden-size 64 --lr 0.001 --sequence-length 100 --sequence-stride 50\u001b[0m\n",
      "\u001b[34m2023-10-02 13:15:26,513 sagemaker-training-toolkit INFO     Exceptions not imported for SageMaker TF as Tensorflow is not installed.\u001b[0m\n",
      "\u001b[34m--------------------------------------\u001b[0m\n",
      "\u001b[34mTraining on 2 time series.\u001b[0m\n",
      "\u001b[34mTime series length: 15000\u001b[0m\n",
      "\u001b[34m--------------------------------------\u001b[0m\n",
      "\u001b[34m--------------------------------------\u001b[0m\n",
      "\u001b[34mValidating on 2 time series.\u001b[0m\n",
      "\u001b[34mTime series length: 5000\u001b[0m\n",
      "\u001b[34m--------------------------------------\u001b[0m\n",
      "\u001b[34m--------------------------------------\u001b[0m\n",
      "\u001b[34mTraining the model.\u001b[0m\n",
      "\u001b[34m--------------------------------------\u001b[0m\n",
      "\u001b[34mEpoch: 1, Training MSE: 1.00266552, Training MAE: 0.79779714, Validation MSE: 1.00851214, Validation MAE: 0.80071342\u001b[0m\n",
      "\u001b[34mEpoch: 2, Training MSE: 1.00054240, Training MAE: 0.79705048, Validation MSE: 1.00662374, Validation MAE: 0.79992992\u001b[0m\n",
      "\u001b[34mEpoch: 3, Training MSE: 1.11960840, Training MAE: 0.85215092, Validation MSE: 1.12810433, Validation MAE: 0.85645449\u001b[0m\n",
      "\u001b[34mEpoch: 4, Training MSE: 1.17339122, Training MAE: 0.86684030, Validation MSE: 1.17959702, Validation MAE: 0.87010145\u001b[0m\n",
      "\u001b[34mEpoch: 5, Training MSE: 1.09416008, Training MAE: 0.84871769, Validation MSE: 1.09180629, Validation MAE: 0.84883249\u001b[0m\n",
      "\u001b[34mEpoch: 6, Training MSE: 1.85356474, Training MAE: 1.09444058, Validation MSE: 1.85043502, Validation MAE: 1.09195757\u001b[0m\n",
      "\u001b[34mEpoch: 7, Training MSE: 0.87593371, Training MAE: 0.74032831, Validation MSE: 0.87647778, Validation MAE: 0.74206042\u001b[0m\n",
      "\u001b[34mEpoch: 8, Training MSE: 1.26106286, Training MAE: 0.90823901, Validation MSE: 1.25988197, Validation MAE: 0.90965623\u001b[0m\n",
      "\u001b[34mEpoch: 9, Training MSE: 0.83703649, Training MAE: 0.74181461, Validation MSE: 0.84241062, Validation MAE: 0.74672461\u001b[0m\n",
      "\u001b[34mEpoch: 10, Training MSE: 0.98861343, Training MAE: 0.82041270, Validation MSE: 0.99008697, Validation MAE: 0.82553560\u001b[0m\n",
      "\u001b[34mEpoch: 11, Training MSE: 1.03563178, Training MAE: 0.81227803, Validation MSE: 1.03925169, Validation MAE: 0.81739843\u001b[0m\n",
      "\u001b[34mEpoch: 12, Training MSE: 0.84520417, Training MAE: 0.71677363, Validation MSE: 0.84645009, Validation MAE: 0.71770281\u001b[0m\n",
      "\u001b[34mEpoch: 13, Training MSE: 1.24899626, Training MAE: 0.86283517, Validation MSE: 1.24614692, Validation MAE: 0.86174667\u001b[0m\n",
      "\u001b[34mEpoch: 14, Training MSE: 1.01820529, Training MAE: 0.77703691, Validation MSE: 1.01788580, Validation MAE: 0.77539128\u001b[0m\n",
      "\u001b[34mEpoch: 15, Training MSE: 0.94309080, Training MAE: 0.75432765, Validation MSE: 0.93507743, Validation MAE: 0.75692105\u001b[0m\n",
      "\u001b[34mEpoch: 16, Training MSE: 0.92799687, Training MAE: 0.75055057, Validation MSE: 0.91968042, Validation MAE: 0.75281626\u001b[0m\n",
      "\u001b[34mEpoch: 17, Training MSE: 0.93604642, Training MAE: 0.74623138, Validation MSE: 0.92010462, Validation MAE: 0.74648410\u001b[0m\n",
      "\u001b[34mEpoch: 18, Training MSE: 0.97677785, Training MAE: 0.75520486, Validation MSE: 0.96001846, Validation MAE: 0.75550920\u001b[0m\n",
      "\u001b[34mEpoch: 19, Training MSE: 0.95726556, Training MAE: 0.74273378, Validation MSE: 0.94109225, Validation MAE: 0.74292856\u001b[0m\n",
      "\u001b[34mEpoch: 20, Training MSE: 0.92846012, Training MAE: 0.72797513, Validation MSE: 0.91005999, Validation MAE: 0.72701234\u001b[0m\n",
      "\u001b[34mEpoch: 21, Training MSE: 0.94791877, Training MAE: 0.72661167, Validation MSE: 0.92634743, Validation MAE: 0.72431922\u001b[0m\n",
      "\u001b[34mEpoch: 22, Training MSE: 0.94665253, Training MAE: 0.72233069, Validation MSE: 0.92519861, Validation MAE: 0.71905017\u001b[0m\n",
      "\u001b[34mEpoch: 23, Training MSE: 0.96872675, Training MAE: 0.72215921, Validation MSE: 0.94494122, Validation MAE: 0.71795732\u001b[0m\n",
      "\u001b[34mEpoch: 24, Training MSE: 0.97056699, Training MAE: 0.72398168, Validation MSE: 0.94578582, Validation MAE: 0.72022837\u001b[0m\n",
      "\u001b[34mEpoch: 25, Training MSE: 0.94939733, Training MAE: 0.71250528, Validation MSE: 0.92783809, Validation MAE: 0.70975262\u001b[0m\n",
      "\u001b[34mEpoch: 26, Training MSE: 0.95709985, Training MAE: 0.70936370, Validation MSE: 0.93710959, Validation MAE: 0.70697856\u001b[0m\n",
      "\u001b[34mEpoch: 27, Training MSE: 0.97176915, Training MAE: 0.70626771, Validation MSE: 0.95453376, Validation MAE: 0.70482987\u001b[0m\n",
      "\u001b[34mEpoch: 28, Training MSE: 0.97012055, Training MAE: 0.70247471, Validation MSE: 0.95754772, Validation MAE: 0.70245469\u001b[0m\n",
      "\u001b[34mEpoch: 29, Training MSE: 1.00049734, Training MAE: 0.70875150, Validation MSE: 0.99043846, Validation MAE: 0.70910501\u001b[0m\n",
      "\u001b[34mEpoch: 30, Training MSE: 0.97467995, Training MAE: 0.69363075, Validation MSE: 0.97128630, Validation MAE: 0.69643736\u001b[0m\n",
      "\u001b[34mEpoch: 31, Training MSE: 0.99161232, Training MAE: 0.69224888, Validation MSE: 0.98950237, Validation MAE: 0.69561064\u001b[0m\n",
      "\u001b[34mEpoch: 32, Training MSE: 0.99859029, Training MAE: 0.69397569, Validation MSE: 0.99673432, Validation MAE: 0.69673681\u001b[0m\n",
      "\u001b[34mEpoch: 33, Training MSE: 0.99061406, Training MAE: 0.69084567, Validation MSE: 0.98817414, Validation MAE: 0.69398427\u001b[0m\n",
      "\u001b[34mEpoch: 34, Training MSE: 0.99916768, Training MAE: 0.69598967, Validation MSE: 0.99421334, Validation MAE: 0.69789129\u001b[0m\n",
      "\u001b[34mEpoch: 35, Training MSE: 0.96540344, Training MAE: 0.68271065, Validation MSE: 0.95778757, Validation MAE: 0.68288147\u001b[0m\n",
      "\u001b[34mEpoch: 36, Training MSE: 0.97540981, Training MAE: 0.68502522, Validation MSE: 0.96585548, Validation MAE: 0.68431109\u001b[0m\n",
      "\u001b[34mEpoch: 37, Training MSE: 0.98998350, Training MAE: 0.68324864, Validation MSE: 0.97816807, Validation MAE: 0.68122619\u001b[0m\n",
      "\u001b[34mEpoch: 38, Training MSE: 0.97648817, Training MAE: 0.68346488, Validation MSE: 0.96165794, Validation MAE: 0.67988157\u001b[0m\n",
      "\u001b[34mEpoch: 39, Training MSE: 0.94610244, Training MAE: 0.68028361, Validation MSE: 0.92787939, Validation MAE: 0.67643577\u001b[0m\n",
      "\u001b[34mEpoch: 40, Training MSE: 0.96196765, Training MAE: 0.68255097, Validation MSE: 0.94371295, Validation MAE: 0.67806220\u001b[0m\n",
      "\u001b[34mEpoch: 41, Training MSE: 0.93403655, Training MAE: 0.67494959, Validation MSE: 0.91381180, Validation MAE: 0.66944683\u001b[0m\n",
      "\u001b[34mEpoch: 42, Training MSE: 0.91691059, Training MAE: 0.67502558, Validation MSE: 0.89774704, Validation MAE: 0.66961795\u001b[0m\n",
      "\u001b[34mEpoch: 43, Training MSE: 0.91519392, Training MAE: 0.67543387, Validation MSE: 0.89649934, Validation MAE: 0.67082417\u001b[0m\n",
      "\u001b[34mEpoch: 44, Training MSE: 0.91068393, Training MAE: 0.66643870, Validation MSE: 0.89434922, Validation MAE: 0.66179162\u001b[0m\n",
      "\u001b[34mEpoch: 45, Training MSE: 0.85354877, Training MAE: 0.66156459, Validation MSE: 0.84042352, Validation MAE: 0.65857095\u001b[0m\n",
      "\u001b[34mEpoch: 46, Training MSE: 0.85592157, Training MAE: 0.63904119, Validation MSE: 0.84430462, Validation MAE: 0.63601500\u001b[0m\n",
      "\u001b[34mEpoch: 47, Training MSE: 0.79839164, Training MAE: 0.63546264, Validation MSE: 0.79092616, Validation MAE: 0.63441718\u001b[0m\n",
      "\u001b[34mEpoch: 48, Training MSE: 0.78798133, Training MAE: 0.61640471, Validation MSE: 0.78311086, Validation MAE: 0.61599696\u001b[0m\n",
      "\u001b[34mEpoch: 49, Training MSE: 0.72416395, Training MAE: 0.60386008, Validation MSE: 0.72271293, Validation MAE: 0.60587966\u001b[0m\n",
      "\u001b[34mEpoch: 50, Training MSE: 0.67017972, Training MAE: 0.58205593, Validation MSE: 0.67216802, Validation MAE: 0.58644420\u001b[0m\n",
      "\u001b[34mEpoch: 51, Training MSE: 0.62433559, Training MAE: 0.55666226, Validation MSE: 0.62571800, Validation MAE: 0.56120712\u001b[0m\n",
      "\u001b[34mEpoch: 52, Training MSE: 0.56536192, Training MAE: 0.51708829, Validation MSE: 0.56439179, Validation MAE: 0.52138555\u001b[0m\n",
      "\u001b[34mEpoch: 53, Training MSE: 0.48347801, Training MAE: 0.50050193, Validation MSE: 0.48966029, Validation MAE: 0.50749350\u001b[0m\n",
      "\u001b[34mEpoch: 54, Training MSE: 0.43563390, Training MAE: 0.47928953, Validation MSE: 0.44237867, Validation MAE: 0.48653629\u001b[0m\n",
      "\u001b[34mEpoch: 55, Training MSE: 0.35621947, Training MAE: 0.43359646, Validation MSE: 0.36078829, Validation MAE: 0.44201082\u001b[0m\n",
      "\u001b[34mEpoch: 56, Training MSE: 0.28972444, Training MAE: 0.38585371, Validation MSE: 0.28772441, Validation MAE: 0.39132538\u001b[0m\n",
      "\u001b[34mEpoch: 57, Training MSE: 0.23503184, Training MAE: 0.34442437, Validation MSE: 0.23149666, Validation MAE: 0.34911898\u001b[0m\n",
      "\u001b[34mEpoch: 58, Training MSE: 0.18834171, Training MAE: 0.31293958, Validation MSE: 0.18529598, Validation MAE: 0.31745794\u001b[0m\n",
      "\u001b[34mEpoch: 59, Training MSE: 0.13524580, Training MAE: 0.25031775, Validation MSE: 0.12702917, Validation MAE: 0.24342996\u001b[0m\n",
      "\u001b[34mEpoch: 60, Training MSE: 0.10788682, Training MAE: 0.22499056, Validation MSE: 0.10041473, Validation MAE: 0.21981308\u001b[0m\n",
      "\u001b[34mEpoch: 61, Training MSE: 0.07847175, Training MAE: 0.20223151, Validation MSE: 0.07632937, Validation MAE: 0.20467693\u001b[0m\n",
      "\u001b[34mEpoch: 62, Training MSE: 0.10611451, Training MAE: 0.23350984, Validation MSE: 0.09662157, Validation MAE: 0.21872349\u001b[0m\n",
      "\u001b[34mEpoch: 63, Training MSE: 0.04203526, Training MAE: 0.14851804, Validation MSE: 0.04001213, Validation MAE: 0.14857370\u001b[0m\n",
      "\u001b[34mEpoch: 64, Training MSE: 0.06662741, Training MAE: 0.18000290, Validation MSE: 0.06007871, Validation MAE: 0.16985172\u001b[0m\n",
      "\u001b[34mEpoch: 65, Training MSE: 0.05484047, Training MAE: 0.16574433, Validation MSE: 0.04954321, Validation MAE: 0.15751335\u001b[0m\n",
      "\u001b[34mEpoch: 66, Training MSE: 0.04318988, Training MAE: 0.15156519, Validation MSE: 0.03953799, Validation MAE: 0.14396892\u001b[0m\n",
      "\u001b[34mEpoch: 67, Training MSE: 0.04041434, Training MAE: 0.14949779, Validation MSE: 0.03764006, Validation MAE: 0.14098716\u001b[0m\n",
      "\u001b[34mEpoch: 68, Training MSE: 0.04020855, Training MAE: 0.14930958, Validation MSE: 0.03684612, Validation MAE: 0.14094396\u001b[0m\n",
      "\u001b[34mEpoch: 69, Training MSE: 0.02121462, Training MAE: 0.11230842, Validation MSE: 0.02196899, Validation MAE: 0.11495347\u001b[0m\n",
      "\u001b[34mEpoch: 70, Training MSE: 0.02243891, Training MAE: 0.11548524, Validation MSE: 0.02307737, Validation MAE: 0.11620177\u001b[0m\n",
      "\u001b[34mEpoch: 71, Training MSE: 0.02100052, Training MAE: 0.10941398, Validation MSE: 0.02273031, Validation MAE: 0.11446132\u001b[0m\n",
      "\u001b[34mEpoch: 72, Training MSE: 0.01962280, Training MAE: 0.10812337, Validation MSE: 0.02049891, Validation MAE: 0.10941571\u001b[0m\n",
      "\u001b[34mEpoch: 73, Training MSE: 0.02318621, Training MAE: 0.11616247, Validation MSE: 0.02266772, Validation MAE: 0.11475165\u001b[0m\n",
      "\u001b[34mEpoch: 74, Training MSE: 0.01896713, Training MAE: 0.10603397, Validation MSE: 0.01978214, Validation MAE: 0.10612568\u001b[0m\n",
      "\u001b[34mEpoch: 75, Training MSE: 0.01795847, Training MAE: 0.10370347, Validation MSE: 0.02133835, Validation MAE: 0.11352964\u001b[0m\n",
      "\u001b[34mEpoch: 76, Training MSE: 0.01511405, Training MAE: 0.09625677, Validation MSE: 0.01756794, Validation MAE: 0.10420303\u001b[0m\n",
      "\u001b[34mEpoch: 77, Training MSE: 0.01407975, Training MAE: 0.09333642, Validation MSE: 0.01588134, Validation MAE: 0.09909984\u001b[0m\n",
      "\u001b[34mEpoch: 78, Training MSE: 0.01680217, Training MAE: 0.10136788, Validation MSE: 0.01750049, Validation MAE: 0.10229870\u001b[0m\n",
      "\u001b[34mEpoch: 79, Training MSE: 0.01509749, Training MAE: 0.09638467, Validation MSE: 0.01593609, Validation MAE: 0.09848398\u001b[0m\n",
      "\u001b[34mEpoch: 80, Training MSE: 0.02160225, Training MAE: 0.11329573, Validation MSE: 0.02128133, Validation MAE: 0.11038376\u001b[0m\n",
      "\u001b[34mEpoch: 81, Training MSE: 0.01388763, Training MAE: 0.09335765, Validation MSE: 0.01538074, Validation MAE: 0.09794556\u001b[0m\n",
      "\u001b[34mEpoch: 82, Training MSE: 0.03034825, Training MAE: 0.13067764, Validation MSE: 0.02837574, Validation MAE: 0.12227965\u001b[0m\n",
      "\u001b[34mEpoch: 83, Training MSE: 0.01943176, Training MAE: 0.10893992, Validation MSE: 0.01810234, Validation MAE: 0.10527758\u001b[0m\n",
      "\u001b[34mEpoch: 84, Training MSE: 0.01268244, Training MAE: 0.08934660, Validation MSE: 0.01359792, Validation MAE: 0.09258314\u001b[0m\n",
      "\u001b[34mEpoch: 85, Training MSE: 0.01236396, Training MAE: 0.08861107, Validation MSE: 0.01392647, Validation MAE: 0.09408880\u001b[0m\n",
      "\u001b[34mEpoch: 86, Training MSE: 0.01561762, Training MAE: 0.09896983, Validation MSE: 0.01925807, Validation MAE: 0.10902168\u001b[0m\n",
      "\u001b[34mEpoch: 87, Training MSE: 0.01386023, Training MAE: 0.09283170, Validation MSE: 0.01520577, Validation MAE: 0.09730227\u001b[0m\n",
      "\u001b[34mEpoch: 88, Training MSE: 0.01236352, Training MAE: 0.08809952, Validation MSE: 0.01293800, Validation MAE: 0.09022915\u001b[0m\n",
      "\u001b[34mEpoch: 89, Training MSE: 0.01237708, Training MAE: 0.08826195, Validation MSE: 0.01309957, Validation MAE: 0.09056742\u001b[0m\n",
      "\u001b[34mEpoch: 90, Training MSE: 0.01397399, Training MAE: 0.09374376, Validation MSE: 0.01360967, Validation MAE: 0.09239545\u001b[0m\n",
      "\u001b[34mEpoch: 91, Training MSE: 0.01346753, Training MAE: 0.09217007, Validation MSE: 0.01317945, Validation MAE: 0.09130199\u001b[0m\n",
      "\u001b[34mEpoch: 92, Training MSE: 0.01502367, Training MAE: 0.09661866, Validation MSE: 0.01443329, Validation MAE: 0.09485382\u001b[0m\n",
      "\u001b[34mEpoch: 93, Training MSE: 0.01289144, Training MAE: 0.08964031, Validation MSE: 0.01353062, Validation MAE: 0.09171361\u001b[0m\n",
      "\u001b[34mEpoch: 94, Training MSE: 0.01226152, Training MAE: 0.08834215, Validation MSE: 0.01388156, Validation MAE: 0.09408940\u001b[0m\n",
      "\u001b[34mEpoch: 95, Training MSE: 0.01276346, Training MAE: 0.08980789, Validation MSE: 0.01402159, Validation MAE: 0.09453930\u001b[0m\n",
      "\u001b[34mEpoch: 96, Training MSE: 0.01248517, Training MAE: 0.08877195, Validation MSE: 0.01471591, Validation MAE: 0.09621498\u001b[0m\n",
      "\u001b[34mEpoch: 97, Training MSE: 0.01138754, Training MAE: 0.08512135, Validation MSE: 0.01235979, Validation MAE: 0.08890481\u001b[0m\n",
      "\u001b[34mEpoch: 98, Training MSE: 0.01164805, Training MAE: 0.08596682, Validation MSE: 0.01179379, Validation MAE: 0.08660095\u001b[0m\n",
      "\u001b[34mEpoch: 99, Training MSE: 0.01152578, Training MAE: 0.08549849, Validation MSE: 0.01176667, Validation MAE: 0.08663601\u001b[0m\n",
      "\u001b[34mEpoch: 100, Training MSE: 0.01149366, Training MAE: 0.08547482, Validation MSE: 0.01189912, Validation MAE: 0.08700453\u001b[0m\n",
      "\u001b[34m--------------------------------------\u001b[0m\n",
      "\u001b[34mScoring the model.\u001b[0m\n",
      "\u001b[34mtrain:mse 0.01149366\u001b[0m\n",
      "\u001b[34mtrain:mae 0.08547482\u001b[0m\n",
      "\u001b[34mvalid:mse 0.01189912\u001b[0m\n",
      "\u001b[34mvalid:mae 0.08700453\u001b[0m\n",
      "\u001b[34m--------------------------------------\u001b[0m\n",
      "\u001b[34m2023-10-02 13:16:20,590 sagemaker-training-toolkit INFO     Waiting for the process to finish and give a return code.\u001b[0m\n",
      "\u001b[34m2023-10-02 13:16:20,590 sagemaker-training-toolkit INFO     Done waiting for a return code. Received 0 from exiting process.\u001b[0m\n",
      "\u001b[34m2023-10-02 13:16:20,590 sagemaker-training-toolkit INFO     Reporting training SUCCESS\u001b[0m\n",
      "\n",
      "2023-10-02 13:16:39 Uploading - Uploading generated training model\n",
      "2023-10-02 13:16:39 Completed - Training job completed\n",
      "Training seconds: 338\n",
      "Billable seconds: 338\n"
     ]
    }
   ],
   "source": [
    "# run the training job\n",
    "estimator.fit({\"training\": training_data, \"validation\": validation_data})"
   ]
  },
  {
   "cell_type": "markdown",
   "metadata": {},
   "source": [
    "See this [blog-post](https://aws.amazon.com/blogs/machine-learning/easily-monitor-and-visualize-metrics-while-training-models-on-amazon-sagemaker/) for more information how to visualize metrics during the process. You can also open the training job from [Amazon SageMaker console](https://console.aws.amazon.com/sagemaker/home?#/jobs/) and monitor the metrics/logs in **Monitor** section."
   ]
  },
  {
   "cell_type": "markdown",
   "metadata": {},
   "source": [
    "## 4: Deploy model and verify results"
   ]
  },
  {
   "cell_type": "markdown",
   "metadata": {},
   "source": [
    "Now you can deploy the model for performing real-time inference."
   ]
  },
  {
   "cell_type": "markdown",
   "metadata": {},
   "source": [
    "### A. Deploy trained model"
   ]
  },
  {
   "cell_type": "code",
   "execution_count": 21,
   "metadata": {
    "tags": []
   },
   "outputs": [
    {
     "name": "stderr",
     "output_type": "stream",
     "text": [
      "INFO:sagemaker:Creating model package with name: lstm-ae-model-2023-10-02-13-17-06-166640\n"
     ]
    },
    {
     "name": "stdout",
     "output_type": "stream",
     "text": [
      "........."
     ]
    },
    {
     "name": "stderr",
     "output_type": "stream",
     "text": [
      "INFO:sagemaker:Creating model with name: lstm-ae-model-2023-10-02-13-17-06-166640\n"
     ]
    },
    {
     "name": "stdout",
     "output_type": "stream",
     "text": [
      "\n"
     ]
    },
    {
     "name": "stderr",
     "output_type": "stream",
     "text": [
      "INFO:sagemaker:Creating endpoint-config with name lstm-ae-endpoint-2023-10-02-13-17-06-166675\n",
      "INFO:sagemaker:Creating endpoint with name lstm-ae-endpoint-2023-10-02-13-17-06-166675\n"
     ]
    },
    {
     "name": "stdout",
     "output_type": "stream",
     "text": [
      "---------!"
     ]
    }
   ],
   "source": [
    "predictor = estimator.deploy(\n",
    "    initial_instance_count=1,\n",
    "    instance_type=instance_type,\n",
    "    serializer=sagemaker.serializers.CSVSerializer(content_type=\"text/csv\"),\n",
    "    model_name=f\"lstm-ae-model-{datetime.datetime.now().strftime(format='%Y-%m-%d-%H-%M-%S-%f')}\",\n",
    "    endpoint_name=f\"lstm-ae-endpoint-{datetime.datetime.now().strftime(format='%Y-%m-%d-%H-%M-%S-%f')}\",\n",
    ")"
   ]
  },
  {
   "cell_type": "markdown",
   "metadata": {},
   "source": [
    "Once the endpoint is in service, you can perform real-time inference."
   ]
  },
  {
   "cell_type": "markdown",
   "metadata": {},
   "source": [
    "### B. Create input payload"
   ]
  },
  {
   "cell_type": "markdown",
   "metadata": {},
   "source": [
    "The inference algorithm takes as input a CSV file containing the time series.\n",
    "Each column of the CSV file represents a time series, while each row represents a time step.\n",
    "The CSV file should not contain any index column or column headers.\n",
    "All the time series should have the same length and should not contain missing values."
   ]
  },
  {
   "cell_type": "markdown",
   "metadata": {},
   "source": [
    "**Test dataset:**"
   ]
  },
  {
   "cell_type": "code",
   "execution_count": 22,
   "metadata": {
    "tags": []
   },
   "outputs": [],
   "source": [
    "test_dataset = pd.read_csv(\n",
    "    \"https://raw.githubusercontent.com/fg-research/lstm-ae-sagemaker/master/data/inference/input/test.csv\",\n",
    "    header=None,\n",
    "    index_col=None\n",
    ")"
   ]
  },
  {
   "cell_type": "code",
   "execution_count": 23,
   "metadata": {
    "tags": []
   },
   "outputs": [
    {
     "data": {
      "text/plain": [
       "(5000, 2)"
      ]
     },
     "execution_count": 23,
     "metadata": {},
     "output_type": "execute_result"
    }
   ],
   "source": [
    "test_dataset.shape"
   ]
  },
  {
   "cell_type": "code",
   "execution_count": 24,
   "metadata": {
    "tags": []
   },
   "outputs": [
    {
     "data": {
      "text/html": [
       "<div>\n",
       "<style scoped>\n",
       "    .dataframe tbody tr th:only-of-type {\n",
       "        vertical-align: middle;\n",
       "    }\n",
       "\n",
       "    .dataframe tbody tr th {\n",
       "        vertical-align: top;\n",
       "    }\n",
       "\n",
       "    .dataframe thead th {\n",
       "        text-align: right;\n",
       "    }\n",
       "</style>\n",
       "<table border=\"1\" class=\"dataframe\">\n",
       "  <thead>\n",
       "    <tr style=\"text-align: right;\">\n",
       "      <th></th>\n",
       "      <th>0</th>\n",
       "      <th>1</th>\n",
       "    </tr>\n",
       "  </thead>\n",
       "  <tbody>\n",
       "    <tr>\n",
       "      <th>0</th>\n",
       "      <td>-11.013412</td>\n",
       "      <td>-11.392782</td>\n",
       "    </tr>\n",
       "    <tr>\n",
       "      <th>1</th>\n",
       "      <td>-12.690769</td>\n",
       "      <td>-13.362681</td>\n",
       "    </tr>\n",
       "    <tr>\n",
       "      <th>2</th>\n",
       "      <td>-12.638245</td>\n",
       "      <td>-10.937028</td>\n",
       "    </tr>\n",
       "    <tr>\n",
       "      <th>3</th>\n",
       "      <td>-14.549574</td>\n",
       "      <td>-13.608522</td>\n",
       "    </tr>\n",
       "    <tr>\n",
       "      <th>4</th>\n",
       "      <td>-14.831431</td>\n",
       "      <td>-14.712521</td>\n",
       "    </tr>\n",
       "  </tbody>\n",
       "</table>\n",
       "</div>"
      ],
      "text/plain": [
       "           0          1\n",
       "0 -11.013412 -11.392782\n",
       "1 -12.690769 -13.362681\n",
       "2 -12.638245 -10.937028\n",
       "3 -14.549574 -13.608522\n",
       "4 -14.831431 -14.712521"
      ]
     },
     "execution_count": 24,
     "metadata": {},
     "output_type": "execute_result"
    }
   ],
   "source": [
    "test_dataset.head()"
   ]
  },
  {
   "cell_type": "code",
   "execution_count": 25,
   "metadata": {
    "tags": []
   },
   "outputs": [
    {
     "data": {
      "image/png": "[encoded data removed]",
      "text/plain": [
       "<Figure size 640x480 with 2 Axes>"
      ]
     },
     "metadata": {},
     "output_type": "display_data"
    }
   ],
   "source": [
    "fig, axs = plt.subplots(nrows=test_dataset.shape[1], ncols=1, sharex=True)\n",
    "for i in range(test_dataset.shape[1]):\n",
    "    axs[i].plot(test_dataset.iloc[:, i], color=\"#AFB8C1\", lw=1)\n",
    "    axs[i].set_title(f\"Time Series {i + 1}\", size=10)\n",
    "    axs[i].set(xlabel=\"Time\", ylabel=\"Value\")\n",
    "    axs[i].xaxis.set_tick_params(labelbottom=True)\n",
    "    axs[i].tick_params(axis=\"both\", which=\"major\", labelsize=7)\n",
    "    axs[i].tick_params(axis=\"both\", which=\"minor\", labelsize=7)\n",
    "fig.subplots_adjust(hspace=0.75)\n",
    "fig.suptitle(\"Test Dataset\")\n",
    "fig.show()"
   ]
  },
  {
   "cell_type": "code",
   "execution_count": 26,
   "metadata": {
    "tags": []
   },
   "outputs": [],
   "source": [
    "test_data = sagemaker_session.upload_string_as_file_body(\n",
    "    body=test_dataset.to_csv(index=False, header=False),\n",
    "    bucket=bucket,\n",
    "    key=\"data/inference/input/test.csv\"\n",
    ")"
   ]
  },
  {
   "cell_type": "code",
   "execution_count": 27,
   "metadata": {
    "tags": []
   },
   "outputs": [
    {
     "data": {
      "text/plain": [
       "'s3://sagemaker-eu-west-1-661670223746/data/inference/input/test.csv'"
      ]
     },
     "execution_count": 27,
     "metadata": {},
     "output_type": "execute_result"
    }
   ],
   "source": [
    "test_data"
   ]
  },
  {
   "cell_type": "code",
   "execution_count": 28,
   "metadata": {
    "tags": []
   },
   "outputs": [],
   "source": [
    "payload = sagemaker_session.read_s3_file(\n",
    "    bucket=bucket,\n",
    "    key_prefix=\"data/inference/input/test.csv\"\n",
    ")"
   ]
  },
  {
   "cell_type": "markdown",
   "metadata": {},
   "source": [
    "### C. Perform real-time inference"
   ]
  },
  {
   "cell_type": "code",
   "execution_count": 29,
   "metadata": {
    "tags": []
   },
   "outputs": [],
   "source": [
    "response = sagemaker_session.sagemaker_runtime_client.invoke_endpoint(\n",
    "    EndpointName=predictor.endpoint_name,\n",
    "    ContentType=\"text/csv\",\n",
    "    Body=payload\n",
    ")\n",
    "\n",
    "real_time_predictions = response[\"Body\"].read().decode(\"utf-8\").split(\"\\n\")[:-1]\n",
    "real_time_predictions = pd.DataFrame([x.split(\",\") for x in real_time_predictions]).astype(float)"
   ]
  },
  {
   "cell_type": "code",
   "execution_count": 30,
   "metadata": {
    "tags": []
   },
   "outputs": [
    {
     "data": {
      "text/plain": [
       "{'ResponseMetadata': {'RequestId': '93ca6275-9d75-4eb0-afc0-c96a528e01dc',\n",
       "  'HTTPStatusCode': 200,\n",
       "  'HTTPHeaders': {'x-amzn-requestid': '93ca6275-9d75-4eb0-afc0-c96a528e01dc',\n",
       "   'x-amzn-invoked-production-variant': 'AllTraffic',\n",
       "   'date': 'Mon, 02 Oct 2023 13:22:59 GMT',\n",
       "   'content-type': 'application/json',\n",
       "   'content-length': '284872',\n",
       "   'connection': 'keep-alive'},\n",
       "  'RetryAttempts': 0},\n",
       " 'ContentType': 'application/json',\n",
       " 'InvokedProductionVariant': 'AllTraffic',\n",
       " 'Body': <botocore.response.StreamingBody at 0x7fc25f032e60>}"
      ]
     },
     "execution_count": 30,
     "metadata": {},
     "output_type": "execute_result"
    }
   ],
   "source": [
    "response"
   ]
  },
  {
   "cell_type": "code",
   "execution_count": 31,
   "metadata": {
    "tags": []
   },
   "outputs": [],
   "source": [
    "real_time_results = sagemaker_session.upload_string_as_file_body(\n",
    "    body=real_time_predictions.to_csv(index=False, header=False),\n",
    "    bucket=bucket,\n",
    "    key=\"data/inference/output/real-time/real_time_predictions.csv\"\n",
    ")"
   ]
  },
  {
   "cell_type": "code",
   "execution_count": 32,
   "metadata": {
    "tags": []
   },
   "outputs": [
    {
     "data": {
      "text/plain": [
       "'s3://sagemaker-eu-west-1-661670223746/data/inference/output/real-time/real_time_predictions.csv'"
      ]
     },
     "execution_count": 32,
     "metadata": {},
     "output_type": "execute_result"
    }
   ],
   "source": [
    "real_time_results"
   ]
  },
  {
   "cell_type": "markdown",
   "metadata": {},
   "source": [
    "### D. Visualize output"
   ]
  },
  {
   "cell_type": "markdown",
   "metadata": {},
   "source": [
    "The inference algorithm outputs the anomaly scores and the reconstructed values of the time series. The anomaly scores are included in the first column, while the reconstructed values of the time series are included in the subsequent columns."
   ]
  },
  {
   "cell_type": "code",
   "execution_count": 33,
   "metadata": {
    "tags": []
   },
   "outputs": [
    {
     "data": {
      "text/plain": [
       "(5000, 3)"
      ]
     },
     "execution_count": 33,
     "metadata": {},
     "output_type": "execute_result"
    }
   ],
   "source": [
    "real_time_predictions.shape"
   ]
  },
  {
   "cell_type": "code",
   "execution_count": 34,
   "metadata": {
    "tags": []
   },
   "outputs": [
    {
     "data": {
      "text/html": [
       "<div>\n",
       "<style scoped>\n",
       "    .dataframe tbody tr th:only-of-type {\n",
       "        vertical-align: middle;\n",
       "    }\n",
       "\n",
       "    .dataframe tbody tr th {\n",
       "        vertical-align: top;\n",
       "    }\n",
       "\n",
       "    .dataframe thead th {\n",
       "        text-align: right;\n",
       "    }\n",
       "</style>\n",
       "<table border=\"1\" class=\"dataframe\">\n",
       "  <thead>\n",
       "    <tr style=\"text-align: right;\">\n",
       "      <th></th>\n",
       "      <th>0</th>\n",
       "      <th>1</th>\n",
       "      <th>2</th>\n",
       "    </tr>\n",
       "  </thead>\n",
       "  <tbody>\n",
       "    <tr>\n",
       "      <th>0</th>\n",
       "      <td>1.720098</td>\n",
       "      <td>-11.295166</td>\n",
       "      <td>-11.175629</td>\n",
       "    </tr>\n",
       "    <tr>\n",
       "      <th>1</th>\n",
       "      <td>0.791739</td>\n",
       "      <td>-12.269495</td>\n",
       "      <td>-12.122286</td>\n",
       "    </tr>\n",
       "    <tr>\n",
       "      <th>2</th>\n",
       "      <td>3.830649</td>\n",
       "      <td>-13.189990</td>\n",
       "      <td>-13.035366</td>\n",
       "    </tr>\n",
       "    <tr>\n",
       "      <th>3</th>\n",
       "      <td>1.000558</td>\n",
       "      <td>-14.042118</td>\n",
       "      <td>-13.905904</td>\n",
       "    </tr>\n",
       "    <tr>\n",
       "      <th>4</th>\n",
       "      <td>3.340679</td>\n",
       "      <td>-14.813971</td>\n",
       "      <td>-14.721393</td>\n",
       "    </tr>\n",
       "  </tbody>\n",
       "</table>\n",
       "</div>"
      ],
      "text/plain": [
       "          0          1          2\n",
       "0  1.720098 -11.295166 -11.175629\n",
       "1  0.791739 -12.269495 -12.122286\n",
       "2  3.830649 -13.189990 -13.035366\n",
       "3  1.000558 -14.042118 -13.905904\n",
       "4  3.340679 -14.813971 -14.721393"
      ]
     },
     "execution_count": 34,
     "metadata": {},
     "output_type": "execute_result"
    }
   ],
   "source": [
    "real_time_predictions.head()"
   ]
  },
  {
   "cell_type": "code",
   "execution_count": 35,
   "metadata": {
    "tags": []
   },
   "outputs": [
    {
     "data": {
      "text/html": [
       "<div>\n",
       "<style scoped>\n",
       "    .dataframe tbody tr th:only-of-type {\n",
       "        vertical-align: middle;\n",
       "    }\n",
       "\n",
       "    .dataframe tbody tr th {\n",
       "        vertical-align: top;\n",
       "    }\n",
       "\n",
       "    .dataframe thead th {\n",
       "        text-align: right;\n",
       "    }\n",
       "</style>\n",
       "<table border=\"1\" class=\"dataframe\">\n",
       "  <thead>\n",
       "    <tr style=\"text-align: right;\">\n",
       "      <th></th>\n",
       "      <th>0</th>\n",
       "      <th>1</th>\n",
       "      <th>2</th>\n",
       "    </tr>\n",
       "  </thead>\n",
       "  <tbody>\n",
       "    <tr>\n",
       "      <th>4995</th>\n",
       "      <td>1.472707</td>\n",
       "      <td>-6.230379</td>\n",
       "      <td>-6.300594</td>\n",
       "    </tr>\n",
       "    <tr>\n",
       "      <th>4996</th>\n",
       "      <td>1.060842</td>\n",
       "      <td>-7.335543</td>\n",
       "      <td>-7.312727</td>\n",
       "    </tr>\n",
       "    <tr>\n",
       "      <th>4997</th>\n",
       "      <td>1.408707</td>\n",
       "      <td>-8.451926</td>\n",
       "      <td>-8.317228</td>\n",
       "    </tr>\n",
       "    <tr>\n",
       "      <th>4998</th>\n",
       "      <td>1.303772</td>\n",
       "      <td>-9.247521</td>\n",
       "      <td>-9.131596</td>\n",
       "    </tr>\n",
       "    <tr>\n",
       "      <th>4999</th>\n",
       "      <td>1.488168</td>\n",
       "      <td>-10.202006</td>\n",
       "      <td>-10.223300</td>\n",
       "    </tr>\n",
       "  </tbody>\n",
       "</table>\n",
       "</div>"
      ],
      "text/plain": [
       "             0          1          2\n",
       "4995  1.472707  -6.230379  -6.300594\n",
       "4996  1.060842  -7.335543  -7.312727\n",
       "4997  1.408707  -8.451926  -8.317228\n",
       "4998  1.303772  -9.247521  -9.131596\n",
       "4999  1.488168 -10.202006 -10.223300"
      ]
     },
     "execution_count": 35,
     "metadata": {},
     "output_type": "execute_result"
    }
   ],
   "source": [
    "real_time_predictions.tail()"
   ]
  },
  {
   "cell_type": "code",
   "execution_count": 36,
   "metadata": {
    "tags": []
   },
   "outputs": [
    {
     "data": {
      "image/png": "[encoded data removed]",
      "text/plain": [
       "<Figure size 600x700 with 3 Axes>"
      ]
     },
     "metadata": {},
     "output_type": "display_data"
    }
   ],
   "source": [
    "fig, axs = plt.subplots(nrows=test_dataset.shape[1] + 1, ncols=1, sharex=True, figsize=(6, 7))\n",
    "for i in range(test_dataset.shape[1]):\n",
    "    axs[i].plot(test_dataset.iloc[:, i], color=\"#AFB8C1\", lw=0.5, label=\"Actual\" if i == 0 else None)\n",
    "    axs[i].plot(real_time_predictions.iloc[:, i + 1], color=\"#009ad3\", lw=1, label=\"Reconstructed\" if i == 0 else None)\n",
    "    axs[i].set_title(f\"Time Series {i + 1}\", size=10)\n",
    "    axs[i].set(xlabel=\"Time\", ylabel=\"Value\")\n",
    "    axs[i].xaxis.set_tick_params(labelbottom=True)\n",
    "    axs[i].tick_params(axis=\"both\", which=\"major\", labelsize=7)\n",
    "    axs[i].tick_params(axis=\"both\", which=\"minor\", labelsize=7)\n",
    "i += 1\n",
    "axs[i].set_title(\"Anomaly Score\", size=10)\n",
    "axs[i].plot(real_time_predictions.iloc[:, 0], color=\"#57606a\", lw=1)\n",
    "axs[i].set(xlabel=\"Time\", ylabel=\"Value\")\n",
    "axs[i].xaxis.set_tick_params(labelbottom=True)\n",
    "axs[i].tick_params(axis=\"both\", which=\"major\", labelsize=7)\n",
    "axs[i].tick_params(axis=\"both\", which=\"minor\", labelsize=7)\n",
    "fig.subplots_adjust(hspace=0.75)\n",
    "fig.suptitle(\"Real-Time Predictions on Test Dataset\")\n",
    "fig.legend(bbox_to_anchor=(1.2, 1, 0, 0), frameon=False)\n",
    "fig.show()"
   ]
  },
  {
   "cell_type": "markdown",
   "metadata": {},
   "source": [
    "### E. Calculate relevant metrics"
   ]
  },
  {
   "cell_type": "markdown",
   "metadata": {},
   "source": [
    "If enough labelled anomalous data is available, you can estimate the optimal threshold on the anomaly score as the one that maximixes the F-beta score between the actual and predicted anomaly labels. Once the appropriate threshold has been determined, the model can be used as a binary classifier which predicts 1 (anomalous) if the anomaly score is above the threshold, and 0 (normal) if the anomaly score is below the threshold. After that the standard classification metrics (such as accuracy, precision, recall, etc.) can be computed as usual."
   ]
  },
  {
   "cell_type": "markdown",
   "metadata": {},
   "source": [
    "If [Amazon SageMaker Model Monitor](https://docs.aws.amazon.com/sagemaker/latest/dg/model-monitor.html) supports the type of problem you are trying to solve using this algorithm, use the following examples to add Model Monitor support to your product.\n",
    "For sample code to enable and monitor the model, see following notebooks:\n",
    "1. [Enable Amazon SageMaker Model Monitor](https://github.com/awslabs/amazon-sagemaker-examples/blob/master/sagemaker_model_monitor/enable_model_monitor/SageMaker-Enable-Model-Monitor.ipynb)\n",
    "2. [Amazon SageMaker Model Monitor - visualizing monitoring results](https://github.com/awslabs/amazon-sagemaker-examples/blob/master/sagemaker_model_monitor/visualization/SageMaker-Model-Monitor-Visualize.ipynb)"
   ]
  },
  {
   "cell_type": "markdown",
   "metadata": {},
   "source": [
    "### F. Delete the endpoint"
   ]
  },
  {
   "cell_type": "markdown",
   "metadata": {},
   "source": [
    "Now that you have successfully performed a real-time inference, you do not need the endpoint any more. You can terminate the same to avoid being charged."
   ]
  },
  {
   "cell_type": "code",
   "execution_count": 37,
   "metadata": {
    "tags": []
   },
   "outputs": [
    {
     "name": "stderr",
     "output_type": "stream",
     "text": [
      "INFO:sagemaker:Deleting endpoint configuration with name: lstm-ae-endpoint-2023-10-02-13-17-06-166675\n",
      "INFO:sagemaker:Deleting endpoint with name: lstm-ae-endpoint-2023-10-02-13-17-06-166675\n"
     ]
    }
   ],
   "source": [
    "predictor.delete_endpoint(delete_endpoint_config=True)"
   ]
  },
  {
   "cell_type": "markdown",
   "metadata": {},
   "source": [
    "Since this is an experiment, you do not need to run a hyperparameter tuning job. However, if you would like to see how to tune a model trained using a third-party algorithm with Amazon SageMaker's hyperparameter tuning functionality, you can run the optional tuning step."
   ]
  },
  {
   "cell_type": "markdown",
   "metadata": {},
   "source": [
    "## 5: Tune your model! (optional)"
   ]
  },
  {
   "cell_type": "markdown",
   "metadata": {},
   "source": [
    "### A. Tuning Guidelines"
   ]
  },
  {
   "cell_type": "markdown",
   "metadata": {},
   "source": [
    "The model has the following hyperparameters, all of which are tunable:\n",
    "- `sequence-length`: `int`. The length of the sequences.\n",
    "- `sequence-stride`: `int`. The period between consecutive sequences.\n",
    "- `hidden-size`: `int`. The number of hidden units of each LSTM layer.\n",
    "- `lr`: `float`. The learning rate used for training.\n",
    "- `batch-size`: `int`. The batch size used for training.\n",
    "- `epochs`: `int`. The number of training epochs."
   ]
  },
  {
   "cell_type": "markdown",
   "metadata": {},
   "source": [
    "### B. Define Tuning configuration"
   ]
  },
  {
   "cell_type": "code",
   "execution_count": 38,
   "metadata": {
    "tags": []
   },
   "outputs": [],
   "source": [
    "hyperparameter_ranges = {\n",
    "    \"hidden-size\": sagemaker.parameter.IntegerParameter(32, 128),\n",
    "    \"lr\": sagemaker.parameter.ContinuousParameter(0.001, 0.01),\n",
    "    \"batch-size\": sagemaker.parameter.CategoricalParameter([32, 64]),\n",
    "    \"epochs\": sagemaker.parameter.IntegerParameter(100, 200),\n",
    "}"
   ]
  },
  {
   "cell_type": "markdown",
   "metadata": {},
   "source": [
    "We use the validation mean absolute error (MAE) as the objective to be minimized."
   ]
  },
  {
   "cell_type": "code",
   "execution_count": 39,
   "metadata": {
    "tags": []
   },
   "outputs": [],
   "source": [
    "objective_metric_name = \"valid_mae\""
   ]
  },
  {
   "cell_type": "code",
   "execution_count": 40,
   "metadata": {
    "tags": []
   },
   "outputs": [],
   "source": [
    "objective_type = \"Minimize\""
   ]
  },
  {
   "cell_type": "markdown",
   "metadata": {},
   "source": [
    "### C. Run a model tuning job"
   ]
  },
  {
   "cell_type": "markdown",
   "metadata": {},
   "source": [
    "In the interest of time, we run the tuner only for a few iterations. "
   ]
  },
  {
   "cell_type": "code",
   "execution_count": 41,
   "metadata": {
    "tags": []
   },
   "outputs": [],
   "source": [
    "tuner = sagemaker.tuner.HyperparameterTuner(\n",
    "    estimator=estimator,\n",
    "    base_tuning_job_name=\"lstm-ae-tuning\",\n",
    "    objective_metric_name=objective_metric_name,\n",
    "    objective_type=objective_type,\n",
    "    hyperparameter_ranges=hyperparameter_ranges,\n",
    "    max_jobs=4,\n",
    "    max_parallel_jobs=4,\n",
    "    random_seed=100,\n",
    ")"
   ]
  },
  {
   "cell_type": "code",
   "execution_count": 42,
   "metadata": {
    "tags": []
   },
   "outputs": [
    {
     "name": "stderr",
     "output_type": "stream",
     "text": [
      "INFO:sagemaker:Creating hyperparameter tuning job with name: lstm-ae-tuning-231002-1323\n"
     ]
    },
    {
     "name": "stdout",
     "output_type": "stream",
     "text": [
      "........................................................................................................!\n"
     ]
    }
   ],
   "source": [
    "tuner.fit({\"training\": training_data, \"validation\": validation_data})"
   ]
  },
  {
   "cell_type": "code",
   "execution_count": 43,
   "metadata": {
    "tags": []
   },
   "outputs": [
    {
     "data": {
      "text/html": [
       "<div>\n",
       "<style scoped>\n",
       "    .dataframe tbody tr th:only-of-type {\n",
       "        vertical-align: middle;\n",
       "    }\n",
       "\n",
       "    .dataframe tbody tr th {\n",
       "        vertical-align: top;\n",
       "    }\n",
       "\n",
       "    .dataframe thead th {\n",
       "        text-align: right;\n",
       "    }\n",
       "</style>\n",
       "<table border=\"1\" class=\"dataframe\">\n",
       "  <thead>\n",
       "    <tr style=\"text-align: right;\">\n",
       "      <th></th>\n",
       "      <th>batch-size</th>\n",
       "      <th>epochs</th>\n",
       "      <th>hidden-size</th>\n",
       "      <th>lr</th>\n",
       "      <th>TrainingJobName</th>\n",
       "      <th>TrainingJobStatus</th>\n",
       "      <th>FinalObjectiveValue</th>\n",
       "      <th>TrainingStartTime</th>\n",
       "      <th>TrainingEndTime</th>\n",
       "      <th>TrainingElapsedTimeSeconds</th>\n",
       "    </tr>\n",
       "  </thead>\n",
       "  <tbody>\n",
       "    <tr>\n",
       "      <th>0</th>\n",
       "      <td>32.0</td>\n",
       "      <td>189.0</td>\n",
       "      <td>35.0</td>\n",
       "      <td>0.007927</td>\n",
       "      <td>lstm-ae-tuning-231002-1323-002-ca8ac9ca</td>\n",
       "      <td>Completed</td>\n",
       "      <td>0.082173</td>\n",
       "      <td>2023-10-02 13:24:15+00:00</td>\n",
       "      <td>2023-10-02 13:30:23+00:00</td>\n",
       "      <td>368.0</td>\n",
       "    </tr>\n",
       "    <tr>\n",
       "      <th>1</th>\n",
       "      <td>32.0</td>\n",
       "      <td>184.0</td>\n",
       "      <td>79.0</td>\n",
       "      <td>0.002332</td>\n",
       "      <td>lstm-ae-tuning-231002-1323-001-1eab309e</td>\n",
       "      <td>Completed</td>\n",
       "      <td>0.082680</td>\n",
       "      <td>2023-10-02 13:24:18+00:00</td>\n",
       "      <td>2023-10-02 13:30:40+00:00</td>\n",
       "      <td>382.0</td>\n",
       "    </tr>\n",
       "    <tr>\n",
       "      <th>2</th>\n",
       "      <td>64.0</td>\n",
       "      <td>197.0</td>\n",
       "      <td>75.0</td>\n",
       "      <td>0.009906</td>\n",
       "      <td>lstm-ae-tuning-231002-1323-004-f40153ce</td>\n",
       "      <td>Completed</td>\n",
       "      <td>0.089600</td>\n",
       "      <td>2023-10-02 13:24:24+00:00</td>\n",
       "      <td>2023-10-02 13:30:17+00:00</td>\n",
       "      <td>353.0</td>\n",
       "    </tr>\n",
       "    <tr>\n",
       "      <th>3</th>\n",
       "      <td>64.0</td>\n",
       "      <td>121.0</td>\n",
       "      <td>64.0</td>\n",
       "      <td>0.009069</td>\n",
       "      <td>lstm-ae-tuning-231002-1323-003-307914b0</td>\n",
       "      <td>Completed</td>\n",
       "      <td>0.096716</td>\n",
       "      <td>2023-10-02 13:24:17+00:00</td>\n",
       "      <td>2023-10-02 13:29:35+00:00</td>\n",
       "      <td>318.0</td>\n",
       "    </tr>\n",
       "  </tbody>\n",
       "</table>\n",
       "</div>"
      ],
      "text/plain": [
       "   batch-size  epochs  hidden-size        lr  \\\n",
       "0        32.0   189.0         35.0  0.007927   \n",
       "1        32.0   184.0         79.0  0.002332   \n",
       "2        64.0   197.0         75.0  0.009906   \n",
       "3        64.0   121.0         64.0  0.009069   \n",
       "\n",
       "                           TrainingJobName TrainingJobStatus  \\\n",
       "0  lstm-ae-tuning-231002-1323-002-ca8ac9ca         Completed   \n",
       "1  lstm-ae-tuning-231002-1323-001-1eab309e         Completed   \n",
       "2  lstm-ae-tuning-231002-1323-004-f40153ce         Completed   \n",
       "3  lstm-ae-tuning-231002-1323-003-307914b0         Completed   \n",
       "\n",
       "   FinalObjectiveValue         TrainingStartTime           TrainingEndTime  \\\n",
       "0             0.082173 2023-10-02 13:24:15+00:00 2023-10-02 13:30:23+00:00   \n",
       "1             0.082680 2023-10-02 13:24:18+00:00 2023-10-02 13:30:40+00:00   \n",
       "2             0.089600 2023-10-02 13:24:24+00:00 2023-10-02 13:30:17+00:00   \n",
       "3             0.096716 2023-10-02 13:24:17+00:00 2023-10-02 13:29:35+00:00   \n",
       "\n",
       "   TrainingElapsedTimeSeconds  \n",
       "0                       368.0  \n",
       "1                       382.0  \n",
       "2                       353.0  \n",
       "3                       318.0  "
      ]
     },
     "execution_count": 43,
     "metadata": {},
     "output_type": "execute_result"
    }
   ],
   "source": [
    "tuner.analytics().dataframe().sort_values(by=\"FinalObjectiveValue\", ascending=True, ignore_index=True)"
   ]
  },
  {
   "cell_type": "code",
   "execution_count": 44,
   "metadata": {
    "tags": []
   },
   "outputs": [],
   "source": [
    "tuning_job_result = sagemaker_session.sagemaker_client.describe_hyper_parameter_tuning_job(\n",
    "    HyperParameterTuningJobName=tuner.latest_tuning_job.name\n",
    ")"
   ]
  },
  {
   "cell_type": "code",
   "execution_count": 45,
   "metadata": {
    "tags": []
   },
   "outputs": [
    {
     "name": "stdout",
     "output_type": "stream",
     "text": [
      "Best hyperparameters:\n"
     ]
    },
    {
     "data": {
      "text/plain": [
       "{'batch-size': '32',\n",
       " 'epochs': '189',\n",
       " 'hidden-size': '35',\n",
       " 'lr': '0.007927110904797342'}"
      ]
     },
     "execution_count": 45,
     "metadata": {},
     "output_type": "execute_result"
    }
   ],
   "source": [
    "print(\"Best hyperparameters:\")\n",
    "tuning_job_result[\"BestTrainingJob\"][\"TunedHyperParameters\"]"
   ]
  },
  {
   "cell_type": "code",
   "execution_count": 46,
   "metadata": {
    "tags": []
   },
   "outputs": [
    {
     "name": "stdout",
     "output_type": "stream",
     "text": [
      "Best score:\n"
     ]
    },
    {
     "data": {
      "text/plain": [
       "0.08217307925224304"
      ]
     },
     "execution_count": 46,
     "metadata": {},
     "output_type": "execute_result"
    }
   ],
   "source": [
    "print(\"Best score:\")\n",
    "tuning_job_result[\"BestTrainingJob\"][\"FinalHyperParameterTuningJobObjectiveMetric\"][\"Value\"]"
   ]
  },
  {
   "cell_type": "markdown",
   "metadata": {},
   "source": [
    "Once you have completed a tuning job (or even while the job is still running), you can [clone and use this notebook](https://github.com/awslabs/amazon-sagemaker-examples/blob/master/hyperparameter_tuning/analyze_results/HPO_Analyze_TuningJob_Results.ipynb) to analyze the results to understand how each hyperparameter effects the quality of the model."
   ]
  },
  {
   "cell_type": "markdown",
   "metadata": {},
   "source": [
    "## 6. Perform Batch inference"
   ]
  },
  {
   "cell_type": "markdown",
   "metadata": {},
   "source": [
    "In this section, you will perform batch inference."
   ]
  },
  {
   "cell_type": "code",
   "execution_count": 47,
   "metadata": {
    "tags": []
   },
   "outputs": [
    {
     "name": "stderr",
     "output_type": "stream",
     "text": [
      "INFO:sagemaker:Creating model package with name: lstm-ae-algo-v1-1-2023-10-02-13-31-58-758\n"
     ]
    },
    {
     "name": "stdout",
     "output_type": "stream",
     "text": [
      "........."
     ]
    },
    {
     "name": "stderr",
     "output_type": "stream",
     "text": [
      "INFO:sagemaker:Creating model with name: lstm-ae-algo-v1-1-2023-10-02-13-31-58-7-2023-10-02-13-32-44-208\n"
     ]
    },
    {
     "name": "stdout",
     "output_type": "stream",
     "text": [
      "\n"
     ]
    }
   ],
   "source": [
    "transformer = estimator.transformer(\n",
    "    instance_count=1,\n",
    "    instance_type=instance_type,\n",
    ")"
   ]
  },
  {
   "cell_type": "code",
   "execution_count": 48,
   "metadata": {
    "tags": []
   },
   "outputs": [],
   "source": [
    "transformer.base_transform_job_name = \"lstm-ae-transform\""
   ]
  },
  {
   "cell_type": "code",
   "execution_count": 49,
   "metadata": {
    "tags": []
   },
   "outputs": [
    {
     "name": "stderr",
     "output_type": "stream",
     "text": [
      "INFO:sagemaker:Creating transform job with name: lstm-ae-transform-2023-10-02-13-32-47-111\n"
     ]
    },
    {
     "name": "stdout",
     "output_type": "stream",
     "text": [
      "................................................\n",
      "\u001b[34mWarning: TorchServe is using non-default JVM parameters: -XX:-UseContainerSupport\u001b[0m\n",
      "\u001b[34mWARNING: sun.reflect.Reflection.getCallerClass is not supported. This will impact performance.\u001b[0m\n",
      "\u001b[34m2023-10-02T13:40:52,098 [WARN ] main org.pytorch.serve.util.ConfigManager - Your torchserve instance can access any URL to load models. When deploying to production, make sure to limit the set of allowed_urls in config.properties\u001b[0m\n",
      "\u001b[34m2023-10-02T13:40:52,101 [INFO ] main org.pytorch.serve.servingsdk.impl.PluginsManager - Initializing plugins manager...\u001b[0m\n",
      "\u001b[34m2023-10-02T13:40:52,172 [INFO ] main org.pytorch.serve.metrics.configuration.MetricConfiguration - Successfully loaded metrics configuration from /opt/conda/lib/python3.10/site-packages/ts/configs/metrics.yaml\u001b[0m\n",
      "\u001b[34m2023-10-02T13:40:52,280 [INFO ] main org.pytorch.serve.ModelServer - \u001b[0m\n",
      "\u001b[34mTorchserve version: 0.8.2\u001b[0m\n",
      "\u001b[34mTS Home: /opt/conda/lib/python3.10/site-packages\u001b[0m\n",
      "\u001b[34mCurrent directory: /\u001b[0m\n",
      "\u001b[34mTemp directory: /home/model-server/tmp\u001b[0m\n",
      "\u001b[34mMetrics config path: /opt/conda/lib/python3.10/site-packages/ts/configs/metrics.yaml\u001b[0m\n",
      "\u001b[34mNumber of GPUs: 0\u001b[0m\n",
      "\u001b[34mNumber of CPUs: 8\u001b[0m\n",
      "\u001b[34mMax heap size: 7840 M\u001b[0m\n",
      "\u001b[34mPython executable: /opt/conda/bin/python3.10\u001b[0m\n",
      "\u001b[34mConfig file: /etc/sagemaker-ts.properties\u001b[0m\n",
      "\u001b[34mInference address: http://0.0.0.0:8080\u001b[0m\n",
      "\u001b[34mManagement address: http://0.0.0.0:8080\u001b[0m\n",
      "\u001b[34mMetrics address: http://127.0.0.1:8082\u001b[0m\n",
      "\u001b[34mModel Store: /.sagemaker/ts/models\u001b[0m\n",
      "\u001b[34mInitial Models: model=/opt/ml/model\u001b[0m\n",
      "\u001b[34mLog dir: /logs\u001b[0m\n",
      "\u001b[34mMetrics dir: /logs\u001b[0m\n",
      "\u001b[34mNetty threads: 0\u001b[0m\n",
      "\u001b[34mNetty client threads: 0\u001b[0m\n",
      "\u001b[34mDefault workers per model: 8\u001b[0m\n",
      "\u001b[34mBlacklist Regex: N/A\u001b[0m\n",
      "\u001b[34mMaximum Response Size: 6553500\u001b[0m\n",
      "\u001b[34mMaximum Request Size: 6553500\u001b[0m\n",
      "\u001b[34mLimit Maximum Image Pixels: true\u001b[0m\n",
      "\u001b[34mPrefer direct buffer: false\u001b[0m\n",
      "\u001b[34mAllowed Urls: [file://.*|http(s)?://.*]\u001b[0m\n",
      "\u001b[34mCustom python dependency for model allowed: false\u001b[0m\n",
      "\u001b[34mEnable metrics API: true\u001b[0m\n",
      "\u001b[34mMetrics mode: log\u001b[0m\n",
      "\u001b[34mDisable system metrics: true\u001b[0m\n",
      "\u001b[34mWorkflow Store: /.sagemaker/ts/models\u001b[0m\n",
      "\u001b[34mModel config: N/A\u001b[0m\n",
      "\u001b[34m2023-10-02T13:40:52,289 [INFO ] main org.pytorch.serve.servingsdk.impl.PluginsManager -  Loading snapshot serializer plugin...\u001b[0m\n",
      "\u001b[34m2023-10-02T13:40:52,311 [INFO ] main org.pytorch.serve.ModelServer - Loading initial models: /opt/ml/model\u001b[0m\n",
      "\u001b[34m2023-10-02T13:40:52,314 [WARN ] main org.pytorch.serve.archive.model.ModelArchive - Model archive version is not defined. Please upgrade to torch-model-archiver 0.2.0 or higher\u001b[0m\n",
      "\u001b[34m2023-10-02T13:40:52,315 [WARN ] main org.pytorch.serve.archive.model.ModelArchive - Model archive createdOn is not defined. Please upgrade to torch-model-archiver 0.2.0 or higher\u001b[0m\n",
      "\u001b[34m2023-10-02T13:40:52,317 [INFO ] main org.pytorch.serve.wlm.ModelManager - Model model loaded.\u001b[0m\n",
      "\u001b[34m2023-10-02T13:40:52,329 [INFO ] main org.pytorch.serve.ModelServer - Initialize Inference server with: EpollServerSocketChannel.\u001b[0m\n",
      "\u001b[34m2023-10-02T13:40:52,575 [INFO ] main org.pytorch.serve.ModelServer - Inference API bind to: http://0.0.0.0:8080\u001b[0m\n",
      "\u001b[34m2023-10-02T13:40:52,575 [INFO ] main org.pytorch.serve.ModelServer - Initialize Metrics server with: EpollServerSocketChannel.\u001b[0m\n",
      "\u001b[34m2023-10-02T13:40:52,647 [INFO ] main org.pytorch.serve.ModelServer - Metrics API bind to: http://127.0.0.1:8082\u001b[0m\n",
      "\u001b[34mModel server started.\u001b[0m\n",
      "\u001b[34m2023-10-02T13:40:54,871 [INFO ] W-9001-model_1.0-stdout MODEL_LOG - s_name_part0=/home/model-server/tmp/.ts.sock, s_name_part1=9001, pid=69\u001b[0m\n",
      "\u001b[34m2023-10-02T13:40:54,872 [INFO ] W-9001-model_1.0-stdout MODEL_LOG - Listening on port: /home/model-server/tmp/.ts.sock.9001\u001b[0m\n",
      "\u001b[34m2023-10-02T13:40:54,888 [INFO ] W-9001-model_1.0-stdout MODEL_LOG - Successfully loaded /opt/conda/lib/python3.10/site-packages/ts/configs/metrics.yaml.\u001b[0m\n",
      "\u001b[34m2023-10-02T13:40:54,890 [INFO ] W-9001-model_1.0-stdout MODEL_LOG - [PID]69\u001b[0m\n",
      "\u001b[34m2023-10-02T13:40:54,891 [INFO ] W-9001-model_1.0-stdout MODEL_LOG - Torch worker started.\u001b[0m\n",
      "\u001b[34m2023-10-02T13:40:54,898 [INFO ] W-9001-model_1.0 org.pytorch.serve.wlm.WorkerThread - Connecting to: /home/model-server/tmp/.ts.sock.9001\u001b[0m\n",
      "\u001b[34m2023-10-02T13:40:54,906 [INFO ] W-9001-model_1.0-stdout MODEL_LOG - Python runtime: 3.10.9\u001b[0m\n",
      "\u001b[34m2023-10-02T13:40:54,913 [INFO ] W-9004-model_1.0-stdout MODEL_LOG - s_name_part0=/home/model-server/tmp/.ts.sock, s_name_part1=9004, pid=64\u001b[0m\n",
      "\u001b[34m2023-10-02T13:40:54,914 [INFO ] W-9004-model_1.0-stdout MODEL_LOG - Listening on port: /home/model-server/tmp/.ts.sock.9004\u001b[0m\n",
      "\u001b[34m2023-10-02T13:40:54,915 [INFO ] W-9001-model_1.0-stdout MODEL_LOG - Connection accepted: /home/model-server/tmp/.ts.sock.9001.\u001b[0m\n",
      "\u001b[34m2023-10-02T13:40:54,919 [INFO ] W-9001-model_1.0 org.pytorch.serve.wlm.WorkerThread - Flushing req.cmd LOAD to backend at: 1696254054919\u001b[0m\n",
      "\u001b[34m2023-10-02T13:40:54,930 [INFO ] W-9004-model_1.0-stdout MODEL_LOG - Successfully loaded /opt/conda/lib/python3.10/site-packages/ts/configs/metrics.yaml.\u001b[0m\n",
      "\u001b[34m2023-10-02T13:40:54,932 [INFO ] W-9004-model_1.0-stdout MODEL_LOG - [PID]64\u001b[0m\n",
      "\u001b[34m2023-10-02T13:40:54,933 [INFO ] W-9004-model_1.0-stdout MODEL_LOG - Torch worker started.\u001b[0m\n",
      "\u001b[34m2023-10-02T13:40:54,934 [INFO ] W-9004-model_1.0 org.pytorch.serve.wlm.WorkerThread - Connecting to: /home/model-server/tmp/.ts.sock.9004\u001b[0m\n",
      "\u001b[34m2023-10-02T13:40:54,936 [INFO ] W-9004-model_1.0-stdout MODEL_LOG - Python runtime: 3.10.9\u001b[0m\n",
      "\u001b[34m2023-10-02T13:40:54,963 [INFO ] W-9004-model_1.0-stdout MODEL_LOG - Connection accepted: /home/model-server/tmp/.ts.sock.9004.\u001b[0m\n",
      "\u001b[34m2023-10-02T13:40:54,963 [INFO ] W-9004-model_1.0 org.pytorch.serve.wlm.WorkerThread - Flushing req.cmd LOAD to backend at: 1696254054963\u001b[0m\n",
      "\u001b[34m2023-10-02T13:40:54,964 [INFO ] W-9001-model_1.0-stdout MODEL_LOG - model_name: model, batchSize: 1\u001b[0m\n",
      "\u001b[34m2023-10-02T13:40:54,993 [INFO ] W-9004-model_1.0-stdout MODEL_LOG - model_name: model, batchSize: 1\u001b[0m\n",
      "\u001b[34m2023-10-02T13:40:55,041 [INFO ] W-9006-model_1.0-stdout MODEL_LOG - s_name_part0=/home/model-server/tmp/.ts.sock, s_name_part1=9006, pid=65\u001b[0m\n",
      "\u001b[34m2023-10-02T13:40:55,043 [INFO ] W-9006-model_1.0-stdout MODEL_LOG - Listening on port: /home/model-server/tmp/.ts.sock.9006\u001b[0m\n",
      "\u001b[34m2023-10-02T13:40:55,047 [INFO ] W-9000-model_1.0-stdout MODEL_LOG - s_name_part0=/home/model-server/tmp/.ts.sock, s_name_part1=9000, pid=67\u001b[0m\n",
      "\u001b[34m2023-10-02T13:40:55,049 [INFO ] W-9000-model_1.0-stdout MODEL_LOG - Listening on port: /home/model-server/tmp/.ts.sock.9000\u001b[0m\n",
      "\u001b[34m2023-10-02T13:40:55,058 [INFO ] W-9006-model_1.0-stdout MODEL_LOG - Successfully loaded /opt/conda/lib/python3.10/site-packages/ts/configs/metrics.yaml.\u001b[0m\n",
      "\u001b[34m2023-10-02T13:40:55,059 [INFO ] W-9006-model_1.0-stdout MODEL_LOG - [PID]65\u001b[0m\n",
      "\u001b[34m2023-10-02T13:40:55,060 [INFO ] W-9006-model_1.0-stdout MODEL_LOG - Torch worker started.\u001b[0m\n",
      "\u001b[34m2023-10-02T13:40:55,061 [INFO ] W-9006-model_1.0-stdout MODEL_LOG - Python runtime: 3.10.9\u001b[0m\n",
      "\u001b[34m2023-10-02T13:40:55,060 [INFO ] W-9006-model_1.0 org.pytorch.serve.wlm.WorkerThread - Connecting to: /home/model-server/tmp/.ts.sock.9006\u001b[0m\n",
      "\u001b[34m2023-10-02T13:40:55,065 [INFO ] W-9000-model_1.0-stdout MODEL_LOG - Successfully loaded /opt/conda/lib/python3.10/site-packages/ts/configs/metrics.yaml.\u001b[0m\n",
      "\u001b[34m2023-10-02T13:40:55,066 [INFO ] W-9000-model_1.0-stdout MODEL_LOG - [PID]67\u001b[0m\n",
      "\u001b[34m2023-10-02T13:40:55,067 [INFO ] W-9006-model_1.0-stdout MODEL_LOG - Connection accepted: /home/model-server/tmp/.ts.sock.9006.\u001b[0m\n",
      "\u001b[34m2023-10-02T13:40:55,067 [INFO ] W-9000-model_1.0-stdout MODEL_LOG - Torch worker started.\u001b[0m\n",
      "\u001b[34m2023-10-02T13:40:55,069 [INFO ] W-9000-model_1.0-stdout MODEL_LOG - Python runtime: 3.10.9\u001b[0m\n",
      "\u001b[34m2023-10-02T13:40:55,068 [INFO ] W-9000-model_1.0 org.pytorch.serve.wlm.WorkerThread - Connecting to: /home/model-server/tmp/.ts.sock.9000\u001b[0m\n",
      "\u001b[34m2023-10-02T13:40:55,071 [INFO ] W-9002-model_1.0-stdout MODEL_LOG - s_name_part0=/home/model-server/tmp/.ts.sock, s_name_part1=9002, pid=62\u001b[0m\n",
      "\u001b[34m2023-10-02T13:40:55,072 [INFO ] W-9002-model_1.0-stdout MODEL_LOG - Listening on port: /home/model-server/tmp/.ts.sock.9002\u001b[0m\n",
      "\u001b[34m2023-10-02T13:40:55,076 [INFO ] W-9000-model_1.0-stdout MODEL_LOG - Connection accepted: /home/model-server/tmp/.ts.sock.9000.\u001b[0m\n",
      "\u001b[34m2023-10-02T13:40:55,076 [INFO ] W-9000-model_1.0 org.pytorch.serve.wlm.WorkerThread - Flushing req.cmd LOAD to backend at: 1696254055076\u001b[0m\n",
      "\u001b[34m2023-10-02T13:40:55,067 [INFO ] W-9006-model_1.0 org.pytorch.serve.wlm.WorkerThread - Flushing req.cmd LOAD to backend at: 1696254055067\u001b[0m\n",
      "\u001b[34m2023-10-02T13:40:55,089 [INFO ] W-9002-model_1.0-stdout MODEL_LOG - Successfully loaded /opt/conda/lib/python3.10/site-packages/ts/configs/metrics.yaml.\u001b[0m\n",
      "\u001b[34m2023-10-02T13:40:55,090 [INFO ] W-9002-model_1.0-stdout MODEL_LOG - [PID]62\u001b[0m\n",
      "\u001b[34m2023-10-02T13:40:55,090 [INFO ] W-9002-model_1.0-stdout MODEL_LOG - Torch worker started.\u001b[0m\n",
      "\u001b[34m2023-10-02T13:40:55,091 [INFO ] W-9002-model_1.0-stdout MODEL_LOG - Python runtime: 3.10.9\u001b[0m\n",
      "\u001b[34m2023-10-02T13:40:55,091 [INFO ] W-9002-model_1.0 org.pytorch.serve.wlm.WorkerThread - Connecting to: /home/model-server/tmp/.ts.sock.9002\u001b[0m\n",
      "\u001b[34m2023-10-02T13:40:55,115 [INFO ] W-9002-model_1.0-stdout MODEL_LOG - Connection accepted: /home/model-server/tmp/.ts.sock.9002.\u001b[0m\n",
      "\u001b[34m2023-10-02T13:40:55,115 [INFO ] W-9002-model_1.0 org.pytorch.serve.wlm.WorkerThread - Flushing req.cmd LOAD to backend at: 1696254055115\u001b[0m\n",
      "\u001b[34m2023-10-02T13:40:55,132 [INFO ] W-9000-model_1.0-stdout MODEL_LOG - model_name: model, batchSize: 1\u001b[0m\n",
      "\u001b[34m2023-10-02T13:40:55,150 [INFO ] W-9006-model_1.0-stdout MODEL_LOG - model_name: model, batchSize: 1\u001b[0m\n",
      "\u001b[34m2023-10-02T13:40:55,174 [INFO ] W-9002-model_1.0-stdout MODEL_LOG - model_name: model, batchSize: 1\u001b[0m\n",
      "\u001b[34m2023-10-02T13:40:55,250 [INFO ] W-9007-model_1.0-stdout MODEL_LOG - s_name_part0=/home/model-server/tmp/.ts.sock, s_name_part1=9007, pid=68\u001b[0m\n",
      "\u001b[34m2023-10-02T13:40:55,251 [INFO ] W-9007-model_1.0-stdout MODEL_LOG - Listening on port: /home/model-server/tmp/.ts.sock.9007\u001b[0m\n",
      "\u001b[34m2023-10-02T13:40:55,279 [INFO ] W-9007-model_1.0-stdout MODEL_LOG - Successfully loaded /opt/conda/lib/python3.10/site-packages/ts/configs/metrics.yaml.\u001b[0m\n",
      "\u001b[34m2023-10-02T13:40:55,281 [INFO ] W-9007-model_1.0-stdout MODEL_LOG - [PID]68\u001b[0m\n",
      "\u001b[34m2023-10-02T13:40:55,281 [INFO ] W-9007-model_1.0-stdout MODEL_LOG - Torch worker started.\u001b[0m\n",
      "\u001b[34m2023-10-02T13:40:55,282 [INFO ] W-9007-model_1.0 org.pytorch.serve.wlm.WorkerThread - Connecting to: /home/model-server/tmp/.ts.sock.9007\u001b[0m\n",
      "\u001b[34m2023-10-02T13:40:55,291 [INFO ] W-9007-model_1.0-stdout MODEL_LOG - Python runtime: 3.10.9\u001b[0m\n",
      "\u001b[34m2023-10-02T13:40:55,299 [INFO ] W-9007-model_1.0 org.pytorch.serve.wlm.WorkerThread - Flushing req.cmd LOAD to backend at: 1696254055299\u001b[0m\n",
      "\u001b[34m2023-10-02T13:40:55,299 [INFO ] W-9007-model_1.0-stdout MODEL_LOG - Connection accepted: /home/model-server/tmp/.ts.sock.9007.\u001b[0m\n",
      "\u001b[34m2023-10-02T13:40:55,356 [INFO ] W-9007-model_1.0-stdout MODEL_LOG - model_name: model, batchSize: 1\u001b[0m\n",
      "\u001b[34m2023-10-02T13:40:55,682 [INFO ] W-9003-model_1.0-stdout MODEL_LOG - s_name_part0=/home/model-server/tmp/.ts.sock, s_name_part1=9003, pid=63\u001b[0m\n",
      "\u001b[34m2023-10-02T13:40:55,684 [INFO ] W-9003-model_1.0-stdout MODEL_LOG - Listening on port: /home/model-server/tmp/.ts.sock.9003\u001b[0m\n",
      "\u001b[34m2023-10-02T13:40:55,734 [INFO ] W-9003-model_1.0-stdout MODEL_LOG - Successfully loaded /opt/conda/lib/python3.10/site-packages/ts/configs/metrics.yaml.\u001b[0m\n",
      "\u001b[34m2023-10-02T13:40:55,735 [INFO ] W-9003-model_1.0-stdout MODEL_LOG - [PID]63\u001b[0m\n",
      "\u001b[34m2023-10-02T13:40:55,736 [INFO ] W-9003-model_1.0-stdout MODEL_LOG - Torch worker started.\u001b[0m\n",
      "\u001b[34m2023-10-02T13:40:55,740 [INFO ] W-9003-model_1.0-stdout MODEL_LOG - Python runtime: 3.10.9\u001b[0m\n",
      "\u001b[34m2023-10-02T13:40:55,737 [INFO ] W-9003-model_1.0 org.pytorch.serve.wlm.WorkerThread - Connecting to: /home/model-server/tmp/.ts.sock.9003\u001b[0m\n",
      "\u001b[34m2023-10-02T13:40:55,742 [INFO ] W-9003-model_1.0-stdout MODEL_LOG - Connection accepted: /home/model-server/tmp/.ts.sock.9003.\u001b[0m\n",
      "\u001b[34m2023-10-02T13:40:55,751 [INFO ] W-9003-model_1.0 org.pytorch.serve.wlm.WorkerThread - Flushing req.cmd LOAD to backend at: 1696254055751\u001b[0m\n",
      "\u001b[34m2023-10-02T13:40:55,797 [INFO ] W-9005-model_1.0-stdout MODEL_LOG - s_name_part0=/home/model-server/tmp/.ts.sock, s_name_part1=9005, pid=66\u001b[0m\n",
      "\u001b[34m2023-10-02T13:40:55,798 [INFO ] W-9005-model_1.0-stdout MODEL_LOG - Listening on port: /home/model-server/tmp/.ts.sock.9005\u001b[0m\n",
      "\u001b[34m2023-10-02T13:40:55,799 [INFO ] W-9003-model_1.0-stdout MODEL_LOG - model_name: model, batchSize: 1\u001b[0m\n",
      "\u001b[34m2023-10-02T13:40:55,821 [INFO ] W-9005-model_1.0-stdout MODEL_LOG - Successfully loaded /opt/conda/lib/python3.10/site-packages/ts/configs/metrics.yaml.\u001b[0m\n",
      "\u001b[34m2023-10-02T13:40:55,826 [INFO ] W-9005-model_1.0-stdout MODEL_LOG - [PID]66\u001b[0m\n",
      "\u001b[34m2023-10-02T13:40:55,827 [INFO ] W-9005-model_1.0 org.pytorch.serve.wlm.WorkerThread - Connecting to: /home/model-server/tmp/.ts.sock.9005\u001b[0m\n",
      "\u001b[34m2023-10-02T13:40:55,826 [INFO ] W-9005-model_1.0-stdout MODEL_LOG - Torch worker started.\u001b[0m\n",
      "\u001b[34m2023-10-02T13:40:55,829 [INFO ] W-9005-model_1.0-stdout MODEL_LOG - Python runtime: 3.10.9\u001b[0m\n",
      "\u001b[34m2023-10-02T13:40:55,851 [INFO ] W-9005-model_1.0 org.pytorch.serve.wlm.WorkerThread - Flushing req.cmd LOAD to backend at: 1696254055851\u001b[0m\n",
      "\u001b[34m2023-10-02T13:40:55,853 [INFO ] W-9005-model_1.0-stdout MODEL_LOG - Connection accepted: /home/model-server/tmp/.ts.sock.9005.\u001b[0m\n",
      "\u001b[34m2023-10-02T13:40:55,905 [INFO ] W-9004-model_1.0 org.pytorch.serve.wlm.WorkerThread - Backend response time: 912\u001b[0m\n",
      "\u001b[34m2023-10-02T13:40:55,906 [INFO ] W-9006-model_1.0 org.pytorch.serve.wlm.WorkerThread - Backend response time: 756\u001b[0m\n",
      "\u001b[34m2023-10-02T13:40:55,908 [INFO ] W-9006-model_1.0 TS_METRICS - WorkerLoadTime.Milliseconds:3582.0|#WorkerName:W-9006-model_1.0,Level:Host|#hostname:2cad791fb9a4,timestamp:1696254055\u001b[0m\n",
      "\u001b[34m2023-10-02T13:40:55,909 [INFO ] W-9006-model_1.0 TS_METRICS - WorkerThreadTime.Milliseconds:85.0|#Level:Host|#hostname:2cad791fb9a4,timestamp:1696254055\u001b[0m\n",
      "\u001b[34m2023-10-02T13:40:55,907 [INFO ] W-9004-model_1.0 TS_METRICS - WorkerLoadTime.Milliseconds:3582.0|#WorkerName:W-9004-model_1.0,Level:Host|#hostname:2cad791fb9a4,timestamp:1696254055\u001b[0m\n",
      "\u001b[34m2023-10-02T13:40:55,910 [INFO ] W-9004-model_1.0 TS_METRICS - WorkerThreadTime.Milliseconds:35.0|#Level:Host|#hostname:2cad791fb9a4,timestamp:1696254055\u001b[0m\n",
      "\u001b[34m2023-10-02T13:40:55,915 [INFO ] W-9005-model_1.0-stdout MODEL_LOG - model_name: model, batchSize: 1\u001b[0m\n",
      "\u001b[34m2023-10-02T13:40:56,008 [INFO ] W-9002-model_1.0 org.pytorch.serve.wlm.WorkerThread - Backend response time: 841\u001b[0m\n",
      "\u001b[34m2023-10-02T13:40:56,008 [INFO ] W-9002-model_1.0 TS_METRICS - WorkerLoadTime.Milliseconds:3684.0|#WorkerName:W-9002-model_1.0,Level:Host|#hostname:2cad791fb9a4,timestamp:1696254056\u001b[0m\n",
      "\u001b[34m2023-10-02T13:40:56,008 [INFO ] W-9002-model_1.0 TS_METRICS - WorkerThreadTime.Milliseconds:52.0|#Level:Host|#hostname:2cad791fb9a4,timestamp:1696254056\u001b[0m\n",
      "\u001b[34m2023-10-02T13:40:56,053 [INFO ] W-9001-model_1.0 org.pytorch.serve.wlm.WorkerThread - Backend response time: 1075\u001b[0m\n",
      "\u001b[34m2023-10-02T13:40:56,053 [INFO ] W-9001-model_1.0 TS_METRICS - WorkerLoadTime.Milliseconds:3729.0|#WorkerName:W-9001-model_1.0,Level:Host|#hostname:2cad791fb9a4,timestamp:1696254056\u001b[0m\n",
      "\u001b[34m2023-10-02T13:40:56,054 [INFO ] W-9001-model_1.0 TS_METRICS - WorkerThreadTime.Milliseconds:60.0|#Level:Host|#hostname:2cad791fb9a4,timestamp:1696254056\u001b[0m\n",
      "\u001b[34m2023-10-02T13:40:56,063 [INFO ] W-9000-model_1.0 org.pytorch.serve.wlm.WorkerThread - Backend response time: 920\u001b[0m\n",
      "\u001b[34m2023-10-02T13:40:56,064 [INFO ] W-9000-model_1.0 TS_METRICS - WorkerLoadTime.Milliseconds:3741.0|#WorkerName:W-9000-model_1.0,Level:Host|#hostname:2cad791fb9a4,timestamp:1696254056\u001b[0m\n",
      "\u001b[34m2023-10-02T13:40:56,064 [INFO ] W-9000-model_1.0 TS_METRICS - WorkerThreadTime.Milliseconds:68.0|#Level:Host|#hostname:2cad791fb9a4,timestamp:1696254056\u001b[0m\n",
      "\u001b[34m2023-10-02T13:40:56,158 [INFO ] W-9007-model_1.0 org.pytorch.serve.wlm.WorkerThread - Backend response time: 804\u001b[0m\n",
      "\u001b[34m2023-10-02T13:40:56,159 [INFO ] W-9007-model_1.0 TS_METRICS - WorkerLoadTime.Milliseconds:3833.0|#WorkerName:W-9007-model_1.0,Level:Host|#hostname:2cad791fb9a4,timestamp:1696254056\u001b[0m\n",
      "\u001b[34m2023-10-02T13:40:56,159 [INFO ] W-9007-model_1.0 TS_METRICS - WorkerThreadTime.Milliseconds:56.0|#Level:Host|#hostname:2cad791fb9a4,timestamp:1696254056\u001b[0m\n",
      "\u001b[34m2023-10-02T13:40:56,349 [INFO ] W-9005-model_1.0 org.pytorch.serve.wlm.WorkerThread - Backend response time: 434\u001b[0m\n",
      "\u001b[34m2023-10-02T13:40:56,349 [INFO ] W-9005-model_1.0 TS_METRICS - WorkerLoadTime.Milliseconds:4024.0|#WorkerName:W-9005-model_1.0,Level:Host|#hostname:2cad791fb9a4,timestamp:1696254056\u001b[0m\n",
      "\u001b[34m2023-10-02T13:40:56,350 [INFO ] W-9005-model_1.0 TS_METRICS - WorkerThreadTime.Milliseconds:64.0|#Level:Host|#hostname:2cad791fb9a4,timestamp:1696254056\u001b[0m\n",
      "\u001b[34m2023-10-02T13:40:56,355 [INFO ] W-9003-model_1.0 org.pytorch.serve.wlm.WorkerThread - Backend response time: 549\u001b[0m\n",
      "\u001b[34m2023-10-02T13:40:56,355 [INFO ] W-9003-model_1.0 TS_METRICS - WorkerLoadTime.Milliseconds:4031.0|#WorkerName:W-9003-model_1.0,Level:Host|#hostname:2cad791fb9a4,timestamp:1696254056\u001b[0m\n",
      "\u001b[34m2023-10-02T13:40:56,355 [INFO ] W-9003-model_1.0 TS_METRICS - WorkerThreadTime.Milliseconds:55.0|#Level:Host|#hostname:2cad791fb9a4,timestamp:1696254056\u001b[0m\n",
      "\u001b[35m2023-10-02T13:40:56,008 [INFO ] W-9002-model_1.0 org.pytorch.serve.wlm.WorkerThread - Backend response time: 841\u001b[0m\n",
      "\u001b[35m2023-10-02T13:40:56,008 [INFO ] W-9002-model_1.0 TS_METRICS - WorkerLoadTime.Milliseconds:3684.0|#WorkerName:W-9002-model_1.0,Level:Host|#hostname:2cad791fb9a4,timestamp:1696254056\u001b[0m\n",
      "\u001b[35m2023-10-02T13:40:56,008 [INFO ] W-9002-model_1.0 TS_METRICS - WorkerThreadTime.Milliseconds:52.0|#Level:Host|#hostname:2cad791fb9a4,timestamp:1696254056\u001b[0m\n",
      "\u001b[35m2023-10-02T13:40:56,053 [INFO ] W-9001-model_1.0 org.pytorch.serve.wlm.WorkerThread - Backend response time: 1075\u001b[0m\n",
      "\u001b[35m2023-10-02T13:40:56,053 [INFO ] W-9001-model_1.0 TS_METRICS - WorkerLoadTime.Milliseconds:3729.0|#WorkerName:W-9001-model_1.0,Level:Host|#hostname:2cad791fb9a4,timestamp:1696254056\u001b[0m\n",
      "\u001b[35m2023-10-02T13:40:56,054 [INFO ] W-9001-model_1.0 TS_METRICS - WorkerThreadTime.Milliseconds:60.0|#Level:Host|#hostname:2cad791fb9a4,timestamp:1696254056\u001b[0m\n",
      "\u001b[35m2023-10-02T13:40:56,063 [INFO ] W-9000-model_1.0 org.pytorch.serve.wlm.WorkerThread - Backend response time: 920\u001b[0m\n",
      "\u001b[35m2023-10-02T13:40:56,064 [INFO ] W-9000-model_1.0 TS_METRICS - WorkerLoadTime.Milliseconds:3741.0|#WorkerName:W-9000-model_1.0,Level:Host|#hostname:2cad791fb9a4,timestamp:1696254056\u001b[0m\n",
      "\u001b[35m2023-10-02T13:40:56,064 [INFO ] W-9000-model_1.0 TS_METRICS - WorkerThreadTime.Milliseconds:68.0|#Level:Host|#hostname:2cad791fb9a4,timestamp:1696254056\u001b[0m\n",
      "\u001b[35m2023-10-02T13:40:56,158 [INFO ] W-9007-model_1.0 org.pytorch.serve.wlm.WorkerThread - Backend response time: 804\u001b[0m\n",
      "\u001b[35m2023-10-02T13:40:56,159 [INFO ] W-9007-model_1.0 TS_METRICS - WorkerLoadTime.Milliseconds:3833.0|#WorkerName:W-9007-model_1.0,Level:Host|#hostname:2cad791fb9a4,timestamp:1696254056\u001b[0m\n",
      "\u001b[35m2023-10-02T13:40:56,159 [INFO ] W-9007-model_1.0 TS_METRICS - WorkerThreadTime.Milliseconds:56.0|#Level:Host|#hostname:2cad791fb9a4,timestamp:1696254056\u001b[0m\n",
      "\u001b[35m2023-10-02T13:40:56,349 [INFO ] W-9005-model_1.0 org.pytorch.serve.wlm.WorkerThread - Backend response time: 434\u001b[0m\n",
      "\u001b[35m2023-10-02T13:40:56,349 [INFO ] W-9005-model_1.0 TS_METRICS - WorkerLoadTime.Milliseconds:4024.0|#WorkerName:W-9005-model_1.0,Level:Host|#hostname:2cad791fb9a4,timestamp:1696254056\u001b[0m\n",
      "\u001b[35m2023-10-02T13:40:56,350 [INFO ] W-9005-model_1.0 TS_METRICS - WorkerThreadTime.Milliseconds:64.0|#Level:Host|#hostname:2cad791fb9a4,timestamp:1696254056\u001b[0m\n",
      "\u001b[35m2023-10-02T13:40:56,355 [INFO ] W-9003-model_1.0 org.pytorch.serve.wlm.WorkerThread - Backend response time: 549\u001b[0m\n",
      "\u001b[35m2023-10-02T13:40:56,355 [INFO ] W-9003-model_1.0 TS_METRICS - WorkerLoadTime.Milliseconds:4031.0|#WorkerName:W-9003-model_1.0,Level:Host|#hostname:2cad791fb9a4,timestamp:1696254056\u001b[0m\n",
      "\u001b[35m2023-10-02T13:40:56,355 [INFO ] W-9003-model_1.0 TS_METRICS - WorkerThreadTime.Milliseconds:55.0|#Level:Host|#hostname:2cad791fb9a4,timestamp:1696254056\u001b[0m\n",
      "\u001b[34m2023-10-02T13:40:57,813 [INFO ] pool-2-thread-9 ACCESS_LOG - /169.254.255.130:39166 \"GET /ping HTTP/1.1\" 200 9\u001b[0m\n",
      "\u001b[34m2023-10-02T13:40:57,813 [INFO ] pool-2-thread-9 TS_METRICS - Requests2XX.Count:1.0|#Level:Host|#hostname:2cad791fb9a4,timestamp:1696254057\u001b[0m\n",
      "\u001b[34m2023-10-02T13:40:57,830 [INFO ] epollEventLoopGroup-3-2 ACCESS_LOG - /169.254.255.130:39170 \"GET /execution-parameters HTTP/1.1\" 404 1\u001b[0m\n",
      "\u001b[34m2023-10-02T13:40:57,831 [INFO ] epollEventLoopGroup-3-2 TS_METRICS - Requests4XX.Count:1.0|#Level:Host|#hostname:2cad791fb9a4,timestamp:1696254057\u001b[0m\n",
      "\u001b[34m2023-10-02T13:40:57,907 [INFO ] epollEventLoopGroup-3-3 TS_METRICS - ts_inference_requests_total.Count:1.0|#model_name:model,model_version:default|#hostname:2cad791fb9a4,timestamp:1696254057\u001b[0m\n",
      "\u001b[34m2023-10-02T13:40:57,908 [INFO ] W-9006-model_1.0 org.pytorch.serve.wlm.WorkerThread - Flushing req.cmd PREDICT to backend at: 1696254057908\u001b[0m\n",
      "\u001b[34m2023-10-02T13:40:57,910 [INFO ] W-9006-model_1.0-stdout MODEL_LOG - Backend received inference at: 1696254057\u001b[0m\n",
      "\u001b[35m2023-10-02T13:40:57,813 [INFO ] pool-2-thread-9 ACCESS_LOG - /169.254.255.130:39166 \"GET /ping HTTP/1.1\" 200 9\u001b[0m\n",
      "\u001b[35m2023-10-02T13:40:57,813 [INFO ] pool-2-thread-9 TS_METRICS - Requests2XX.Count:1.0|#Level:Host|#hostname:2cad791fb9a4,timestamp:1696254057\u001b[0m\n",
      "\u001b[35m2023-10-02T13:40:57,830 [INFO ] epollEventLoopGroup-3-2 ACCESS_LOG - /169.254.255.130:39170 \"GET /execution-parameters HTTP/1.1\" 404 1\u001b[0m\n",
      "\u001b[35m2023-10-02T13:40:57,831 [INFO ] epollEventLoopGroup-3-2 TS_METRICS - Requests4XX.Count:1.0|#Level:Host|#hostname:2cad791fb9a4,timestamp:1696254057\u001b[0m\n",
      "\u001b[35m2023-10-02T13:40:57,907 [INFO ] epollEventLoopGroup-3-3 TS_METRICS - ts_inference_requests_total.Count:1.0|#model_name:model,model_version:default|#hostname:2cad791fb9a4,timestamp:1696254057\u001b[0m\n",
      "\u001b[35m2023-10-02T13:40:57,908 [INFO ] W-9006-model_1.0 org.pytorch.serve.wlm.WorkerThread - Flushing req.cmd PREDICT to backend at: 1696254057908\u001b[0m\n",
      "\u001b[35m2023-10-02T13:40:57,910 [INFO ] W-9006-model_1.0-stdout MODEL_LOG - Backend received inference at: 1696254057\u001b[0m\n",
      "\u001b[34m2023-10-02T13:40:58,641 [INFO ] W-9006-model_1.0-stdout org.pytorch.serve.wlm.WorkerLifeCycle - result=[METRICS]PredictionTime.Milliseconds:730.3|#ModelName:model,Level:Model|#hostname:2cad791fb9a4,1696254058,8a195830-ed2e-4072-b591-6c51cd280047, pattern=[METRICS]\u001b[0m\n",
      "\u001b[34m2023-10-02T13:40:58,642 [INFO ] W-9006-model_1.0-stdout MODEL_METRICS - PredictionTime.ms:730.3|#ModelName:model,Level:Model|#hostname:2cad791fb9a4,requestID:8a195830-ed2e-4072-b591-6c51cd280047,timestamp:1696254058\u001b[0m\n",
      "\u001b[34m2023-10-02T13:40:58,644 [INFO ] W-9006-model_1.0 ACCESS_LOG - /169.254.255.130:39186 \"POST /invocations HTTP/1.1\" 200 739\u001b[0m\n",
      "\u001b[34m2023-10-02T13:40:58,645 [INFO ] W-9006-model_1.0 TS_METRICS - Requests2XX.Count:1.0|#Level:Host|#hostname:2cad791fb9a4,timestamp:1696254058\u001b[0m\n",
      "\u001b[34m2023-10-02T13:40:58,645 [INFO ] W-9006-model_1.0 TS_METRICS - ts_inference_latency_microseconds.Microseconds:736056.174|#model_name:model,model_version:default|#hostname:2cad791fb9a4,timestamp:1696254058\u001b[0m\n",
      "\u001b[34m2023-10-02T13:40:58,646 [INFO ] W-9006-model_1.0 TS_METRICS - ts_queue_latency_microseconds.Microseconds:226.642|#model_name:model,model_version:default|#hostname:2cad791fb9a4,timestamp:1696254058\u001b[0m\n",
      "\u001b[34m2023-10-02T13:40:58,646 [INFO ] W-9006-model_1.0 TS_METRICS - QueueTime.Milliseconds:0.0|#Level:Host|#hostname:2cad791fb9a4,timestamp:1696254058\u001b[0m\n",
      "\u001b[34m2023-10-02T13:40:58,646 [INFO ] W-9006-model_1.0 org.pytorch.serve.wlm.WorkerThread - Backend response time: 734\u001b[0m\n",
      "\u001b[34m2023-10-02T13:40:58,646 [INFO ] W-9006-model_1.0 TS_METRICS - WorkerThreadTime.Milliseconds:4.0|#Level:Host|#hostname:2cad791fb9a4,timestamp:1696254058\u001b[0m\n",
      "\u001b[35m2023-10-02T13:40:58,641 [INFO ] W-9006-model_1.0-stdout org.pytorch.serve.wlm.WorkerLifeCycle - result=[METRICS]PredictionTime.Milliseconds:730.3|#ModelName:model,Level:Model|#hostname:2cad791fb9a4,1696254058,8a195830-ed2e-4072-b591-6c51cd280047, pattern=[METRICS]\u001b[0m\n",
      "\u001b[35m2023-10-02T13:40:58,642 [INFO ] W-9006-model_1.0-stdout MODEL_METRICS - PredictionTime.ms:730.3|#ModelName:model,Level:Model|#hostname:2cad791fb9a4,requestID:8a195830-ed2e-4072-b591-6c51cd280047,timestamp:1696254058\u001b[0m\n",
      "\u001b[35m2023-10-02T13:40:58,644 [INFO ] W-9006-model_1.0 ACCESS_LOG - /169.254.255.130:39186 \"POST /invocations HTTP/1.1\" 200 739\u001b[0m\n",
      "\u001b[35m2023-10-02T13:40:58,645 [INFO ] W-9006-model_1.0 TS_METRICS - Requests2XX.Count:1.0|#Level:Host|#hostname:2cad791fb9a4,timestamp:1696254058\u001b[0m\n",
      "\u001b[35m2023-10-02T13:40:58,645 [INFO ] W-9006-model_1.0 TS_METRICS - ts_inference_latency_microseconds.Microseconds:736056.174|#model_name:model,model_version:default|#hostname:2cad791fb9a4,timestamp:1696254058\u001b[0m\n",
      "\u001b[35m2023-10-02T13:40:58,646 [INFO ] W-9006-model_1.0 TS_METRICS - ts_queue_latency_microseconds.Microseconds:226.642|#model_name:model,model_version:default|#hostname:2cad791fb9a4,timestamp:1696254058\u001b[0m\n",
      "\u001b[35m2023-10-02T13:40:58,646 [INFO ] W-9006-model_1.0 TS_METRICS - QueueTime.Milliseconds:0.0|#Level:Host|#hostname:2cad791fb9a4,timestamp:1696254058\u001b[0m\n",
      "\u001b[35m2023-10-02T13:40:58,646 [INFO ] W-9006-model_1.0 org.pytorch.serve.wlm.WorkerThread - Backend response time: 734\u001b[0m\n",
      "\u001b[35m2023-10-02T13:40:58,646 [INFO ] W-9006-model_1.0 TS_METRICS - WorkerThreadTime.Milliseconds:4.0|#Level:Host|#hostname:2cad791fb9a4,timestamp:1696254058\u001b[0m\n",
      "\u001b[32m2023-10-02T13:40:57.838:[sagemaker logs]: MaxConcurrentTransforms=1, MaxPayloadInMB=6, BatchStrategy=MULTI_RECORD\u001b[0m\n"
     ]
    }
   ],
   "source": [
    "transformer.transform(\n",
    "    data=test_data,\n",
    "    content_type=\"text/csv\",\n",
    ")"
   ]
  },
  {
   "cell_type": "code",
   "execution_count": 50,
   "metadata": {
    "tags": []
   },
   "outputs": [],
   "source": [
    "batch_predictions = sagemaker_session.read_s3_file(\n",
    "    bucket=bucket,\n",
    "    key_prefix=f\"{transformer.latest_transform_job.name}/test.csv.out\"\n",
    ")\n",
    "\n",
    "batch_predictions = batch_predictions.split(\"\\n\")[:-1]\n",
    "batch_predictions = pd.DataFrame([x.split(\",\") for x in batch_predictions]).astype(float)"
   ]
  },
  {
   "cell_type": "code",
   "execution_count": 51,
   "metadata": {
    "tags": []
   },
   "outputs": [
    {
     "data": {
      "text/plain": [
       "(5000, 3)"
      ]
     },
     "execution_count": 51,
     "metadata": {},
     "output_type": "execute_result"
    }
   ],
   "source": [
    "batch_predictions.shape"
   ]
  },
  {
   "cell_type": "code",
   "execution_count": 52,
   "metadata": {
    "tags": []
   },
   "outputs": [
    {
     "data": {
      "text/html": [
       "<div>\n",
       "<style scoped>\n",
       "    .dataframe tbody tr th:only-of-type {\n",
       "        vertical-align: middle;\n",
       "    }\n",
       "\n",
       "    .dataframe tbody tr th {\n",
       "        vertical-align: top;\n",
       "    }\n",
       "\n",
       "    .dataframe thead th {\n",
       "        text-align: right;\n",
       "    }\n",
       "</style>\n",
       "<table border=\"1\" class=\"dataframe\">\n",
       "  <thead>\n",
       "    <tr style=\"text-align: right;\">\n",
       "      <th></th>\n",
       "      <th>0</th>\n",
       "      <th>1</th>\n",
       "      <th>2</th>\n",
       "    </tr>\n",
       "  </thead>\n",
       "  <tbody>\n",
       "    <tr>\n",
       "      <th>0</th>\n",
       "      <td>1.720098</td>\n",
       "      <td>-11.295166</td>\n",
       "      <td>-11.175629</td>\n",
       "    </tr>\n",
       "    <tr>\n",
       "      <th>1</th>\n",
       "      <td>0.791739</td>\n",
       "      <td>-12.269495</td>\n",
       "      <td>-12.122286</td>\n",
       "    </tr>\n",
       "    <tr>\n",
       "      <th>2</th>\n",
       "      <td>3.830649</td>\n",
       "      <td>-13.189990</td>\n",
       "      <td>-13.035366</td>\n",
       "    </tr>\n",
       "    <tr>\n",
       "      <th>3</th>\n",
       "      <td>1.000558</td>\n",
       "      <td>-14.042118</td>\n",
       "      <td>-13.905904</td>\n",
       "    </tr>\n",
       "    <tr>\n",
       "      <th>4</th>\n",
       "      <td>3.340679</td>\n",
       "      <td>-14.813971</td>\n",
       "      <td>-14.721393</td>\n",
       "    </tr>\n",
       "  </tbody>\n",
       "</table>\n",
       "</div>"
      ],
      "text/plain": [
       "          0          1          2\n",
       "0  1.720098 -11.295166 -11.175629\n",
       "1  0.791739 -12.269495 -12.122286\n",
       "2  3.830649 -13.189990 -13.035366\n",
       "3  1.000558 -14.042118 -13.905904\n",
       "4  3.340679 -14.813971 -14.721393"
      ]
     },
     "execution_count": 52,
     "metadata": {},
     "output_type": "execute_result"
    }
   ],
   "source": [
    "batch_predictions.head()"
   ]
  },
  {
   "cell_type": "code",
   "execution_count": 53,
   "metadata": {
    "tags": []
   },
   "outputs": [
    {
     "data": {
      "text/html": [
       "<div>\n",
       "<style scoped>\n",
       "    .dataframe tbody tr th:only-of-type {\n",
       "        vertical-align: middle;\n",
       "    }\n",
       "\n",
       "    .dataframe tbody tr th {\n",
       "        vertical-align: top;\n",
       "    }\n",
       "\n",
       "    .dataframe thead th {\n",
       "        text-align: right;\n",
       "    }\n",
       "</style>\n",
       "<table border=\"1\" class=\"dataframe\">\n",
       "  <thead>\n",
       "    <tr style=\"text-align: right;\">\n",
       "      <th></th>\n",
       "      <th>0</th>\n",
       "      <th>1</th>\n",
       "      <th>2</th>\n",
       "    </tr>\n",
       "  </thead>\n",
       "  <tbody>\n",
       "    <tr>\n",
       "      <th>4995</th>\n",
       "      <td>1.472707</td>\n",
       "      <td>-6.230379</td>\n",
       "      <td>-6.300594</td>\n",
       "    </tr>\n",
       "    <tr>\n",
       "      <th>4996</th>\n",
       "      <td>1.060842</td>\n",
       "      <td>-7.335543</td>\n",
       "      <td>-7.312727</td>\n",
       "    </tr>\n",
       "    <tr>\n",
       "      <th>4997</th>\n",
       "      <td>1.408707</td>\n",
       "      <td>-8.451926</td>\n",
       "      <td>-8.317228</td>\n",
       "    </tr>\n",
       "    <tr>\n",
       "      <th>4998</th>\n",
       "      <td>1.303772</td>\n",
       "      <td>-9.247521</td>\n",
       "      <td>-9.131596</td>\n",
       "    </tr>\n",
       "    <tr>\n",
       "      <th>4999</th>\n",
       "      <td>1.488168</td>\n",
       "      <td>-10.202006</td>\n",
       "      <td>-10.223300</td>\n",
       "    </tr>\n",
       "  </tbody>\n",
       "</table>\n",
       "</div>"
      ],
      "text/plain": [
       "             0          1          2\n",
       "4995  1.472707  -6.230379  -6.300594\n",
       "4996  1.060842  -7.335543  -7.312727\n",
       "4997  1.408707  -8.451926  -8.317228\n",
       "4998  1.303772  -9.247521  -9.131596\n",
       "4999  1.488168 -10.202006 -10.223300"
      ]
     },
     "execution_count": 53,
     "metadata": {},
     "output_type": "execute_result"
    }
   ],
   "source": [
    "batch_predictions.tail()"
   ]
  },
  {
   "cell_type": "code",
   "execution_count": 54,
   "metadata": {
    "tags": []
   },
   "outputs": [
    {
     "data": {
      "text/plain": [
       "True"
      ]
     },
     "execution_count": 54,
     "metadata": {},
     "output_type": "execute_result"
    }
   ],
   "source": [
    "np.all(np.isclose(batch_predictions.values, real_time_predictions.values))"
   ]
  },
  {
   "cell_type": "code",
   "execution_count": 55,
   "metadata": {
    "tags": []
   },
   "outputs": [
    {
     "data": {
      "image/png": "[encoded data removed]",
      "text/plain": [
       "<Figure size 600x700 with 3 Axes>"
      ]
     },
     "metadata": {},
     "output_type": "display_data"
    }
   ],
   "source": [
    "fig, axs = plt.subplots(nrows=test_dataset.shape[1] + 1, ncols=1, sharex=True, figsize=(6, 7))\n",
    "for i in range(test_dataset.shape[1]):\n",
    "    axs[i].plot(test_dataset.iloc[:, i], color=\"#AFB8C1\", lw=0.5, label=\"Actual\" if i == 0 else None)\n",
    "    axs[i].plot(batch_predictions.iloc[:, i + 1], color=\"#009ad3\", lw=1, label=\"Reconstructed\" if i == 0 else None)\n",
    "    axs[i].set_title(f\"Time Series {i + 1}\", size=10)\n",
    "    axs[i].set(xlabel=\"Time\", ylabel=\"Value\")\n",
    "    axs[i].xaxis.set_tick_params(labelbottom=True)\n",
    "    axs[i].tick_params(axis=\"both\", which=\"major\", labelsize=7)\n",
    "    axs[i].tick_params(axis=\"both\", which=\"minor\", labelsize=7)\n",
    "i += 1\n",
    "axs[i].set_title(\"Anomaly Score\", size=10)\n",
    "axs[i].plot(batch_predictions.iloc[:, 0], color=\"#57606a\", lw=1)\n",
    "axs[i].set(xlabel=\"Time\", ylabel=\"Value\")\n",
    "axs[i].xaxis.set_tick_params(labelbottom=True)\n",
    "axs[i].tick_params(axis=\"both\", which=\"major\", labelsize=7)\n",
    "axs[i].tick_params(axis=\"both\", which=\"minor\", labelsize=7)\n",
    "fig.subplots_adjust(hspace=0.75)\n",
    "fig.suptitle(\"Batch Predictions on Test Dataset\")\n",
    "fig.legend(bbox_to_anchor=(1.2, 1, 0, 0), frameon=False)\n",
    "fig.show()"
   ]
  },
  {
   "cell_type": "code",
   "execution_count": 56,
   "metadata": {
    "tags": []
   },
   "outputs": [],
   "source": [
    "batch_results = sagemaker_session.upload_string_as_file_body(\n",
    "    body=batch_predictions.to_csv(index=False, header=False),\n",
    "    bucket=bucket,\n",
    "    key=\"data/inference/output/batch/batch_predictions.csv\"\n",
    ")"
   ]
  },
  {
   "cell_type": "code",
   "execution_count": 57,
   "metadata": {
    "tags": []
   },
   "outputs": [
    {
     "data": {
      "text/plain": [
       "'s3://sagemaker-eu-west-1-661670223746/data/inference/output/batch/batch_predictions.csv'"
      ]
     },
     "execution_count": 57,
     "metadata": {},
     "output_type": "execute_result"
    }
   ],
   "source": [
    "batch_results"
   ]
  },
  {
   "cell_type": "markdown",
   "metadata": {},
   "source": [
    "## 7. Clean-up"
   ]
  },
  {
   "cell_type": "markdown",
   "metadata": {},
   "source": [
    "### A. Delete the model"
   ]
  },
  {
   "cell_type": "code",
   "execution_count": 58,
   "metadata": {
    "tags": []
   },
   "outputs": [
    {
     "name": "stderr",
     "output_type": "stream",
     "text": [
      "INFO:sagemaker:Deleting model with name: lstm-ae-algo-v1-1-2023-10-02-13-31-58-7-2023-10-02-13-32-44-208\n"
     ]
    }
   ],
   "source": [
    "transformer.delete_model()"
   ]
  },
  {
   "cell_type": "markdown",
   "metadata": {},
   "source": [
    "### B. Unsubscribe to the listing (optional)"
   ]
  },
  {
   "cell_type": "markdown",
   "metadata": {},
   "source": [
    "If you would like to unsubscribe to the algorithm, follow these steps. Before you cancel the subscription, ensure that you do not have any [deployable model](https://console.aws.amazon.com/sagemaker/home#/models) created from the model package or using the algorithm. Note - You can find this information by looking at the container name associated with the model. \n",
    "\n",
    "**Steps to unsubscribe to product from AWS Marketplace**:\n",
    "1. Navigate to __Machine Learning__ tab on [__Your Software subscriptions page__](https://aws.amazon.com/marketplace/ai/library?productType=ml&ref_=mlmp_gitdemo_indust)\n",
    "2. Locate the listing that you want to cancel the subscription for, and then choose __Cancel Subscription__  to cancel the subscription.\n",
    "\n"
   ]
  }
 ],
 "metadata": {
  "kernelspec": {
   "display_name": "conda_python3",
   "language": "python",
   "name": "conda_python3"
  },
  "language_info": {
   "codemirror_mode": {
    "name": "ipython",
    "version": 3
   },
   "file_extension": ".py",
   "mimetype": "text/x-python",
   "name": "python",
   "nbconvert_exporter": "python",
   "pygments_lexer": "ipython3",
   "version": "3.10.12"
  }
 },
 "nbformat": 4,
 "nbformat_minor": 4
}
