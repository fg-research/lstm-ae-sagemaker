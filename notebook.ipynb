{
 "cells": [
  {
   "cell_type": "markdown",
   "metadata": {},
   "source": [
    "# Train, tune, and deploy a custom ML model using the Time Series Anomaly Detection (LSTM-AE) Algorithm from AWS Marketplace"
   ]
  },
  {
   "cell_type": "markdown",
   "metadata": {},
   "source": [
    "The [Time Series Anomaly Detection (LSTM-AE) Algorithm from AWS Marketplace](https://aws.amazon.com/marketplace/pp/prodview-up2haipz3j472) performs time series anomaly detection with a Long Short-Term Memory Network Autoencoder (LSTM-AE). It implements both training and inference from CSV data and supports both CPU and GPU instances. The training and inference Docker images were built by extending the PyTorch 2.1.0 Python 3.10 SageMaker containers. \n",
    "\n",
    "**Model Overview**\n",
    "\n",
    "The LSTM-AE model reconstructs the time series with an LSTM autoencoder.\n",
    "The encoder and decoder consist of a single LSTM layer and have the same number of hidden units.\n",
    "The encoder takes as input the time series and returns the hidden states.\n",
    "The hidden states of the encoder are used for initializing the hidden states of the decoder, which reconstructs the time series in reversed order. \n",
    "The autoencoder parameters are learned on a training set containing only normal data (i.e. without anomalies) by minimizing the mean squared error (MSE) between the actual and reconstructed values of the time series.\n",
    "\n",
    "After the model has been trained, a multivariate Gaussian distribution is fitted to the model's reconstruction errors on an independent validation set (also without anomalies) using Maximum Likelihood Estimation (MLE). \n",
    "At inference time, the model reconstructs the values of all the time series (which can now include anomalies) and calculates the squared Mahalanobis distance between the reconstruction errors and the Gaussian distribution previously estimated on normal data. \n",
    "The computed squared Mahalanobis distance is then used as an anomaly score: the larger the squared Mahalanobis distance at a given a time step, the more likely the time step is to be an anomaly.\n",
    "\n",
    "<img src=https://fg-research-assets.s3.eu-west-1.amazonaws.com/lstm-ae-diagram.png style=\"width:80%;margin-top:60px;margin-bottom:50px\"/> \n",
    "\n",
    "*LSTM-AE architecture (source: [doi: 10.48550/arXiv.1607.00148](https://doi.org/10.48550/arXiv.1607.00148))*\n",
    "\n",
    "**Model Resources**\n",
    "\n",
    "- **Paper:** [LSTM-based Encoder-Decoder for Multi-Sensor Anomaly Detection](https://doi.org/10.48550/arXiv.1607.00148).\n",
    "\n",
    "This sample notebook shows you how to train a custom ML model using the [Time Series Anomaly Detection (LSTM-AE) Algorithm from AWS Marketplace](https://aws.amazon.com/marketplace/pp/prodview-up2haipz3j472).\n",
    "\n",
    "**Note: This is a reference notebook and it cannot run unless you make the changes suggested in the notebook.**"
   ]
  },
  {
   "cell_type": "markdown",
   "metadata": {},
   "source": [
    "## Pre-requisites\n",
    "1. This notebook contains elements which render correctly in Jupyter interface. Open this notebook from an Amazon SageMaker Notebook Instance or Amazon SageMaker Studio.\n",
    "1. Ensure that IAM role used has **AmazonSageMakerFullAccess**\n",
    "1. Some hands-on experience using [Amazon SageMaker](https://aws.amazon.com/sagemaker/).\n",
    "1. To use this algorithm successfully, ensure that:\n",
    "    1. Either your IAM role has these three permissions and you have authority to make AWS Marketplace subscriptions in the AWS account used: \n",
    "        1. **aws-marketplace:ViewSubscriptions**\n",
    "        1. **aws-marketplace:Unsubscribe**\n",
    "        1. **aws-marketplace:Subscribe**  \n",
    "    2. or your AWS account has a subscription to the [Time Series Anomaly Detection (LSTM-AE) Algorithm from AWS Marketplace](https://aws.amazon.com/marketplace/pp/prodview-up2haipz3j472)"
   ]
  },
  {
   "cell_type": "markdown",
   "metadata": {},
   "source": [
    "## Contents\n",
    "1. [Subscribe to the algorithm](#1.-Subscribe-to-the-algorithm)\n",
    "1. [Prepare dataset](#2.-Prepare-dataset)\n",
    "\t1. [Dataset format expected by the algorithm](#A.-Dataset-format-expected-by-the-algorithm)\n",
    "\t1. [Configure and visualize train and test dataset](#B.-Configure-and-visualize-train-and-test-dataset)\n",
    "\t1. [Upload datasets to Amazon S3](#C.-Upload-datasets-to-Amazon-S3)\n",
    "1. [Train a machine learning model](#3:-Train-a-machine-learning-model)\n",
    "\t1. [Set up environment](#3.1-Set-up-environment)\n",
    "\t1. [Train a model](#3.2-Train-a-model)\n",
    "1. [Deploy model and verify results](#4:-Deploy-model-and-verify-results)\n",
    "    1. [Deploy trained model](#A.-Deploy-trained-model)\n",
    "    1. [Create input payload](#B.-Create-input-payload)\n",
    "    1. [Perform real-time inference](#C.-Perform-real-time-inference)\n",
    "    1. [Visualize output](#D.-Visualize-output)\n",
    "    1. [Calculate relevant metrics](#E.-Calculate-relevant-metrics)\n",
    "    1. [Delete the endpoint](#F.-Delete-the-endpoint)\n",
    "1. [Tune your model! (optional)](#5:-Tune-your-model!-(optional))\n",
    "\t1. [Tuning Guidelines](#A.-Tuning-Guidelines)\n",
    "\t1. [Define Tuning configuration](#B.-Define-Tuning-configuration)\n",
    "\t1. [Run a model tuning job](#C.-Run-a-model-tuning-job)\n",
    "1. [Perform Batch inference](#6.-Perform-Batch-inference)\n",
    "1. [Clean-up](#7.-Clean-up)\n",
    "\t1. [Delete the model](#A.-Delete-the-model)\n",
    "\t1. [Unsubscribe to the listing (optional)](#B.-Unsubscribe-to-the-listing-(optional))\n",
    "\n",
    "\n",
    "## Usage instructions\n",
    "You can run this notebook one cell at a time (by using Shift+Enter for running a cell)."
   ]
  },
  {
   "cell_type": "markdown",
   "metadata": {},
   "source": [
    "## 1. Subscribe to the algorithm"
   ]
  },
  {
   "cell_type": "markdown",
   "metadata": {},
   "source": [
    "To subscribe to the algorithm:\n",
    "1. Open the algorithm listing page.\n",
    "1. On the AWS Marketplace listing, click on the **Continue to subscribe** button.\n",
    "1. On the **Subscribe to this software** page, review and click on **\"Accept Offer\"** if you agree with EULA, pricing, and support terms. \n",
    "1. Once you click on the **Continue to configuration** button and then choose a **region**, you will see a **Product ARN**. This is the algorithm ARN that you need to specify while training a custom ML model. **Copy the ARN corresponding to your region and specify the same in the following cell.**"
   ]
  },
  {
   "cell_type": "code",
   "execution_count": 1,
   "metadata": {
    "tags": []
   },
   "outputs": [],
   "source": [
    "algo_arn = \"arn:aws:sagemaker:<...>\""
   ]
  },
  {
   "cell_type": "markdown",
   "metadata": {},
   "source": [
    "## 2. Prepare dataset"
   ]
  },
  {
   "cell_type": "code",
   "execution_count": 2,
   "metadata": {
    "tags": []
   },
   "outputs": [
    {
     "name": "stderr",
     "output_type": "stream",
     "text": [
      "/home/ec2-user/anaconda3/envs/python3/lib/python3.10/site-packages/pandas/core/computation/expressions.py:21: UserWarning: Pandas requires version '2.8.0' or newer of 'numexpr' (version '2.7.3' currently installed).\n",
      "  from pandas.core.computation.check import NUMEXPR_INSTALLED\n"
     ]
    },
    {
     "name": "stdout",
     "output_type": "stream",
     "text": [
      "sagemaker.config INFO - Not applying SDK defaults from location: /etc/xdg/sagemaker/config.yaml\n",
      "sagemaker.config INFO - Not applying SDK defaults from location: /home/ec2-user/.config/sagemaker/config.yaml\n"
     ]
    }
   ],
   "source": [
    "import io\n",
    "import datetime\n",
    "import boto3\n",
    "import sagemaker\n",
    "import pandas as pd\n",
    "import numpy as np\n",
    "import matplotlib.pyplot as plt"
   ]
  },
  {
   "cell_type": "code",
   "execution_count": 3,
   "metadata": {
    "tags": []
   },
   "outputs": [
    {
     "name": "stdout",
     "output_type": "stream",
     "text": [
      "sagemaker.config INFO - Not applying SDK defaults from location: /etc/xdg/sagemaker/config.yaml\n",
      "sagemaker.config INFO - Not applying SDK defaults from location: /home/ec2-user/.config/sagemaker/config.yaml\n"
     ]
    }
   ],
   "source": [
    "# SageMaker session\n",
    "sagemaker_session = sagemaker.Session()\n",
    "\n",
    "# S3 bucket\n",
    "bucket = sagemaker_session.default_bucket()\n",
    "\n",
    "# EC2 instance\n",
    "instance_type = \"ml.m5.2xlarge\""
   ]
  },
  {
   "cell_type": "markdown",
   "metadata": {},
   "source": [
    "### A. Dataset format expected by the algorithm"
   ]
  },
  {
   "cell_type": "markdown",
   "metadata": {},
   "source": [
    "The training and validation datasets should be provided as CSV files. \n",
    "Each column of the CSV file represents a time series, while each row represents a time step.\n",
    "All the time series should have the same length and should not contain missing values.\n",
    "The CSV file should not contain any index column or column headers. \n",
    "\n",
    "You can find more information about dataset format in the **Usage Information** section of the algorithm listing page."
   ]
  },
  {
   "cell_type": "markdown",
   "metadata": {},
   "source": [
    "### B. Configure and visualize train and test dataset"
   ]
  },
  {
   "cell_type": "markdown",
   "metadata": {},
   "source": [
    "The sample data provided in the algorithm's [GitHub repository](https://github.com/fg-research/lstm-ae-sagemaker) consists of two artificially generated time series. The training dataset contains 15000 samples, while the validation and test datasets contain 5000 samples. "
   ]
  },
  {
   "cell_type": "markdown",
   "metadata": {
    "tags": []
   },
   "source": [
    "**Training dataset:**"
   ]
  },
  {
   "cell_type": "code",
   "execution_count": 4,
   "metadata": {
    "tags": []
   },
   "outputs": [],
   "source": [
    "training_dataset = pd.read_csv(\n",
    "    \"https://raw.githubusercontent.com/fg-research/lstm-ae-sagemaker/master/data/training/train.csv\",\n",
    "    header=None,\n",
    "    index_col=None\n",
    ")"
   ]
  },
  {
   "cell_type": "code",
   "execution_count": 5,
   "metadata": {
    "tags": []
   },
   "outputs": [
    {
     "data": {
      "text/plain": [
       "(15000, 2)"
      ]
     },
     "execution_count": 5,
     "metadata": {},
     "output_type": "execute_result"
    }
   ],
   "source": [
    "training_dataset.shape"
   ]
  },
  {
   "cell_type": "code",
   "execution_count": 6,
   "metadata": {
    "tags": []
   },
   "outputs": [
    {
     "data": {
      "text/html": [
       "<div>\n",
       "<style scoped>\n",
       "    .dataframe tbody tr th:only-of-type {\n",
       "        vertical-align: middle;\n",
       "    }\n",
       "\n",
       "    .dataframe tbody tr th {\n",
       "        vertical-align: top;\n",
       "    }\n",
       "\n",
       "    .dataframe thead th {\n",
       "        text-align: right;\n",
       "    }\n",
       "</style>\n",
       "<table border=\"1\" class=\"dataframe\">\n",
       "  <thead>\n",
       "    <tr style=\"text-align: right;\">\n",
       "      <th></th>\n",
       "      <th>0</th>\n",
       "      <th>1</th>\n",
       "    </tr>\n",
       "  </thead>\n",
       "  <tbody>\n",
       "    <tr>\n",
       "      <th>0</th>\n",
       "      <td>-10.302054</td>\n",
       "      <td>-9.879548</td>\n",
       "    </tr>\n",
       "    <tr>\n",
       "      <th>1</th>\n",
       "      <td>-9.761644</td>\n",
       "      <td>-11.455176</td>\n",
       "    </tr>\n",
       "    <tr>\n",
       "      <th>2</th>\n",
       "      <td>-10.185059</td>\n",
       "      <td>-12.195165</td>\n",
       "    </tr>\n",
       "    <tr>\n",
       "      <th>3</th>\n",
       "      <td>-12.834404</td>\n",
       "      <td>-10.253211</td>\n",
       "    </tr>\n",
       "    <tr>\n",
       "      <th>4</th>\n",
       "      <td>-13.341993</td>\n",
       "      <td>-13.015417</td>\n",
       "    </tr>\n",
       "  </tbody>\n",
       "</table>\n",
       "</div>"
      ],
      "text/plain": [
       "           0          1\n",
       "0 -10.302054  -9.879548\n",
       "1  -9.761644 -11.455176\n",
       "2 -10.185059 -12.195165\n",
       "3 -12.834404 -10.253211\n",
       "4 -13.341993 -13.015417"
      ]
     },
     "execution_count": 6,
     "metadata": {},
     "output_type": "execute_result"
    }
   ],
   "source": [
    "training_dataset.head()"
   ]
  },
  {
   "cell_type": "code",
   "execution_count": 7,
   "metadata": {
    "tags": []
   },
   "outputs": [
    {
     "data": {
      "image/png": "[encoded data removed]",
      "text/plain": [
       "<Figure size 640x480 with 2 Axes>"
      ]
     },
     "metadata": {},
     "output_type": "display_data"
    }
   ],
   "source": [
    "fig, axs = plt.subplots(nrows=training_dataset.shape[1], ncols=1, sharex=True)\n",
    "for i in range(training_dataset.shape[1]):\n",
    "    axs[i].plot(training_dataset.iloc[:, i], color=\"#AFB8C1\", lw=1)\n",
    "    axs[i].set_title(f\"Time Series {i + 1}\", size=10)\n",
    "    axs[i].set(xlabel=\"Time\", ylabel=\"Value\")\n",
    "    axs[i].xaxis.set_tick_params(labelbottom=True)\n",
    "    axs[i].tick_params(axis=\"both\", which=\"major\", labelsize=7)\n",
    "    axs[i].tick_params(axis=\"both\", which=\"minor\", labelsize=7)\n",
    "fig.subplots_adjust(hspace=0.75)\n",
    "fig.suptitle(\"Training Dataset\")\n",
    "fig.show()"
   ]
  },
  {
   "cell_type": "markdown",
   "metadata": {},
   "source": [
    "**Validation dataset:**"
   ]
  },
  {
   "cell_type": "code",
   "execution_count": 8,
   "metadata": {
    "tags": []
   },
   "outputs": [],
   "source": [
    "validation_dataset = pd.read_csv(\n",
    "    \"https://raw.githubusercontent.com/fg-research/lstm-ae-sagemaker/master/data/training/valid.csv\",\n",
    "    header=None,\n",
    "    index_col=None\n",
    ")"
   ]
  },
  {
   "cell_type": "code",
   "execution_count": 9,
   "metadata": {
    "tags": []
   },
   "outputs": [
    {
     "data": {
      "text/plain": [
       "(5000, 2)"
      ]
     },
     "execution_count": 9,
     "metadata": {},
     "output_type": "execute_result"
    }
   ],
   "source": [
    "validation_dataset.shape"
   ]
  },
  {
   "cell_type": "code",
   "execution_count": 10,
   "metadata": {
    "tags": []
   },
   "outputs": [
    {
     "data": {
      "text/html": [
       "<div>\n",
       "<style scoped>\n",
       "    .dataframe tbody tr th:only-of-type {\n",
       "        vertical-align: middle;\n",
       "    }\n",
       "\n",
       "    .dataframe tbody tr th {\n",
       "        vertical-align: top;\n",
       "    }\n",
       "\n",
       "    .dataframe thead th {\n",
       "        text-align: right;\n",
       "    }\n",
       "</style>\n",
       "<table border=\"1\" class=\"dataframe\">\n",
       "  <thead>\n",
       "    <tr style=\"text-align: right;\">\n",
       "      <th></th>\n",
       "      <th>0</th>\n",
       "      <th>1</th>\n",
       "    </tr>\n",
       "  </thead>\n",
       "  <tbody>\n",
       "    <tr>\n",
       "      <th>0</th>\n",
       "      <td>-9.728953</td>\n",
       "      <td>-11.809606</td>\n",
       "    </tr>\n",
       "    <tr>\n",
       "      <th>1</th>\n",
       "      <td>-11.821012</td>\n",
       "      <td>-12.637485</td>\n",
       "    </tr>\n",
       "    <tr>\n",
       "      <th>2</th>\n",
       "      <td>-11.422567</td>\n",
       "      <td>-11.136945</td>\n",
       "    </tr>\n",
       "    <tr>\n",
       "      <th>3</th>\n",
       "      <td>-12.757596</td>\n",
       "      <td>-14.022805</td>\n",
       "    </tr>\n",
       "    <tr>\n",
       "      <th>4</th>\n",
       "      <td>-13.126208</td>\n",
       "      <td>-12.558090</td>\n",
       "    </tr>\n",
       "  </tbody>\n",
       "</table>\n",
       "</div>"
      ],
      "text/plain": [
       "           0          1\n",
       "0  -9.728953 -11.809606\n",
       "1 -11.821012 -12.637485\n",
       "2 -11.422567 -11.136945\n",
       "3 -12.757596 -14.022805\n",
       "4 -13.126208 -12.558090"
      ]
     },
     "execution_count": 10,
     "metadata": {},
     "output_type": "execute_result"
    }
   ],
   "source": [
    "validation_dataset.head()"
   ]
  },
  {
   "cell_type": "code",
   "execution_count": 11,
   "metadata": {
    "tags": []
   },
   "outputs": [
    {
     "data": {
      "image/png": "[encoded data removed]",
      "text/plain": [
       "<Figure size 640x480 with 2 Axes>"
      ]
     },
     "metadata": {},
     "output_type": "display_data"
    }
   ],
   "source": [
    "fig, axs = plt.subplots(nrows=validation_dataset.shape[1], ncols=1, sharex=True)\n",
    "for i in range(validation_dataset.shape[1]):\n",
    "    axs[i].plot(validation_dataset.iloc[:, i], color=\"#AFB8C1\", lw=1)\n",
    "    axs[i].set_title(f\"Time Series {i + 1}\", size=10)\n",
    "    axs[i].set(xlabel=\"Time\", ylabel=\"Value\")\n",
    "    axs[i].xaxis.set_tick_params(labelbottom=True)\n",
    "    axs[i].tick_params(axis=\"both\", which=\"major\", labelsize=7)\n",
    "    axs[i].tick_params(axis=\"both\", which=\"minor\", labelsize=7)\n",
    "fig.subplots_adjust(hspace=0.75)\n",
    "fig.suptitle(\"Validation Dataset\")\n",
    "fig.show()"
   ]
  },
  {
   "cell_type": "markdown",
   "metadata": {},
   "source": [
    "### C. Upload datasets to Amazon S3"
   ]
  },
  {
   "cell_type": "code",
   "execution_count": 12,
   "metadata": {
    "tags": []
   },
   "outputs": [],
   "source": [
    "training_data = sagemaker_session.upload_string_as_file_body(\n",
    "    body=training_dataset.to_csv(index=False, header=False),\n",
    "    bucket=bucket,\n",
    "    key=\"data/training/train.csv\"\n",
    ")"
   ]
  },
  {
   "cell_type": "code",
   "execution_count": 13,
   "metadata": {
    "tags": []
   },
   "outputs": [
    {
     "data": {
      "text/plain": [
       "'s3://sagemaker-eu-west-1-661670223746/data/training/train.csv'"
      ]
     },
     "execution_count": 13,
     "metadata": {},
     "output_type": "execute_result"
    }
   ],
   "source": [
    "training_data"
   ]
  },
  {
   "cell_type": "code",
   "execution_count": 14,
   "metadata": {
    "tags": []
   },
   "outputs": [],
   "source": [
    "validation_data = sagemaker_session.upload_string_as_file_body(\n",
    "    body=validation_dataset.to_csv(index=False, header=False),\n",
    "    bucket=bucket,\n",
    "    key=\"data/training/valid.csv\"\n",
    ")"
   ]
  },
  {
   "cell_type": "code",
   "execution_count": 15,
   "metadata": {
    "tags": []
   },
   "outputs": [
    {
     "data": {
      "text/plain": [
       "'s3://sagemaker-eu-west-1-661670223746/data/training/valid.csv'"
      ]
     },
     "execution_count": 15,
     "metadata": {},
     "output_type": "execute_result"
    }
   ],
   "source": [
    "validation_data"
   ]
  },
  {
   "cell_type": "markdown",
   "metadata": {},
   "source": [
    "## 3. Train a machine learning model"
   ]
  },
  {
   "cell_type": "markdown",
   "metadata": {},
   "source": [
    "Now that dataset is available in an accessible Amazon S3 bucket, we are ready to train a machine learning model. "
   ]
  },
  {
   "cell_type": "markdown",
   "metadata": {},
   "source": [
    "### 3.1 Set up environment"
   ]
  },
  {
   "cell_type": "code",
   "execution_count": 16,
   "metadata": {
    "tags": []
   },
   "outputs": [
    {
     "name": "stdout",
     "output_type": "stream",
     "text": [
      "sagemaker.config INFO - Not applying SDK defaults from location: /etc/xdg/sagemaker/config.yaml\n",
      "sagemaker.config INFO - Not applying SDK defaults from location: /home/ec2-user/.config/sagemaker/config.yaml\n"
     ]
    }
   ],
   "source": [
    "role = sagemaker.get_execution_role()"
   ]
  },
  {
   "cell_type": "markdown",
   "metadata": {},
   "source": [
    "### 3.2 Train a model"
   ]
  },
  {
   "cell_type": "markdown",
   "metadata": {},
   "source": [
    "You can find more information about the model's hyperparameters in the **Hyperparameters** section of the algorithm listing page."
   ]
  },
  {
   "cell_type": "code",
   "execution_count": 17,
   "metadata": {
    "tags": []
   },
   "outputs": [],
   "source": [
    "hyperparameters = {\n",
    "    \"sequence-length\": 100,\n",
    "    \"sequence-stride\": 50,\n",
    "    \"hidden-size\": 64,\n",
    "    \"lr\": 0.001,\n",
    "    \"batch-size\": 32,\n",
    "    \"epochs\": 100,\n",
    "}"
   ]
  },
  {
   "cell_type": "markdown",
   "metadata": {},
   "source": [
    "For information on creating an `Estimator` object, see the [documentation](https://sagemaker.readthedocs.io/en/stable/api/training/estimators.html)."
   ]
  },
  {
   "cell_type": "code",
   "execution_count": 18,
   "metadata": {
    "tags": []
   },
   "outputs": [
    {
     "name": "stderr",
     "output_type": "stream",
     "text": [
      "INFO:sagemaker:Creating training-job with name: lstm-ae-training-2023-12-13-06-21-20-347\n"
     ]
    },
    {
     "name": "stdout",
     "output_type": "stream",
     "text": [
      "2023-12-13 06:21:20 Starting - Starting the training job...\n",
      "2023-12-13 06:21:35 Starting - Preparing the instances for training......\n",
      "2023-12-13 06:22:31 Downloading - Downloading input data......\n",
      "2023-12-13 06:23:26 Training - Downloading the training image.........\n",
      "2023-12-13 06:25:17 Training - Training image download completed. Training in progress.....\u001b[34mbash: cannot set terminal process group (-1): Inappropriate ioctl for device\u001b[0m\n",
      "\u001b[34mbash: no job control in this shell\u001b[0m\n",
      "\u001b[34m2023-12-13 06:25:44,115 sagemaker-training-toolkit INFO     Imported framework sagemaker_pytorch_container.training\u001b[0m\n",
      "\u001b[34m2023-12-13 06:25:44,116 sagemaker-training-toolkit INFO     No GPUs detected (normal if no gpus installed)\u001b[0m\n",
      "\u001b[34m2023-12-13 06:25:44,116 sagemaker-training-toolkit INFO     No Neurons detected (normal if no neurons installed)\u001b[0m\n",
      "\u001b[34m2023-12-13 06:25:44,127 sagemaker_pytorch_container.training INFO     Block until all host DNS lookups succeed.\u001b[0m\n",
      "\u001b[34m2023-12-13 06:25:44,129 sagemaker_pytorch_container.training INFO     Invoking user training script.\u001b[0m\n",
      "\u001b[34m2023-12-13 06:25:45,615 sagemaker-training-toolkit INFO     No GPUs detected (normal if no gpus installed)\u001b[0m\n",
      "\u001b[34m2023-12-13 06:25:45,616 sagemaker-training-toolkit INFO     No Neurons detected (normal if no neurons installed)\u001b[0m\n",
      "\u001b[34m2023-12-13 06:25:45,628 sagemaker-training-toolkit INFO     No GPUs detected (normal if no gpus installed)\u001b[0m\n",
      "\u001b[34m2023-12-13 06:25:45,628 sagemaker-training-toolkit INFO     No Neurons detected (normal if no neurons installed)\u001b[0m\n",
      "\u001b[34m2023-12-13 06:25:45,640 sagemaker-training-toolkit INFO     No GPUs detected (normal if no gpus installed)\u001b[0m\n",
      "\u001b[34m2023-12-13 06:25:45,641 sagemaker-training-toolkit INFO     No Neurons detected (normal if no neurons installed)\u001b[0m\n",
      "\u001b[34m2023-12-13 06:25:45,653 sagemaker-training-toolkit INFO     Invoking user script\u001b[0m\n",
      "\u001b[34mTraining Env:\u001b[0m\n",
      "\u001b[34m{\n",
      "    \"additional_framework_parameters\": {},\n",
      "    \"channel_input_dirs\": {\n",
      "        \"training\": \"/opt/ml/input/data/training\",\n",
      "        \"validation\": \"/opt/ml/input/data/validation\"\n",
      "    },\n",
      "    \"current_host\": \"algo-1\",\n",
      "    \"current_instance_group\": \"homogeneousCluster\",\n",
      "    \"current_instance_group_hosts\": [\n",
      "        \"algo-1\"\n",
      "    ],\n",
      "    \"current_instance_type\": \"ml.m5.2xlarge\",\n",
      "    \"distribution_hosts\": [],\n",
      "    \"distribution_instance_groups\": [],\n",
      "    \"framework_module\": \"sagemaker_pytorch_container.training:main\",\n",
      "    \"hosts\": [\n",
      "        \"algo-1\"\n",
      "    ],\n",
      "    \"hyperparameters\": {\n",
      "        \"batch-size\": 32,\n",
      "        \"epochs\": 100,\n",
      "        \"hidden-size\": 64,\n",
      "        \"lr\": 0.001,\n",
      "        \"sequence-length\": 100,\n",
      "        \"sequence-stride\": 50\n",
      "    },\n",
      "    \"input_config_dir\": \"/opt/ml/input/config\",\n",
      "    \"input_data_config\": {\n",
      "        \"training\": {\n",
      "            \"TrainingInputMode\": \"File\",\n",
      "            \"S3DistributionType\": \"FullyReplicated\",\n",
      "            \"RecordWrapperType\": \"None\"\n",
      "        },\n",
      "        \"validation\": {\n",
      "            \"TrainingInputMode\": \"File\",\n",
      "            \"S3DistributionType\": \"FullyReplicated\",\n",
      "            \"RecordWrapperType\": \"None\"\n",
      "        }\n",
      "    },\n",
      "    \"input_dir\": \"/opt/ml/input\",\n",
      "    \"instance_groups\": [\n",
      "        \"homogeneousCluster\"\n",
      "    ],\n",
      "    \"instance_groups_dict\": {\n",
      "        \"homogeneousCluster\": {\n",
      "            \"instance_group_name\": \"homogeneousCluster\",\n",
      "            \"instance_type\": \"ml.m5.2xlarge\",\n",
      "            \"hosts\": [\n",
      "                \"algo-1\"\n",
      "            ]\n",
      "        }\n",
      "    },\n",
      "    \"is_hetero\": false,\n",
      "    \"is_master\": true,\n",
      "    \"is_modelparallel_enabled\": null,\n",
      "    \"is_smddpmprun_installed\": false,\n",
      "    \"is_smddprun_installed\": false,\n",
      "    \"job_name\": \"lstm-ae-training-2023-12-13-06-21-20-347\",\n",
      "    \"log_level\": 20,\n",
      "    \"master_hostname\": \"algo-1\",\n",
      "    \"model_dir\": \"/opt/ml/model\",\n",
      "    \"module_dir\": \"/opt/ml/code\",\n",
      "    \"module_name\": \"training\",\n",
      "    \"network_interface_name\": \"eth0\",\n",
      "    \"num_cpus\": 8,\n",
      "    \"num_gpus\": 0,\n",
      "    \"num_neurons\": 0,\n",
      "    \"output_data_dir\": \"/opt/ml/output/data\",\n",
      "    \"output_dir\": \"/opt/ml/output\",\n",
      "    \"output_intermediate_dir\": \"/opt/ml/output/intermediate\",\n",
      "    \"resource_config\": {\n",
      "        \"current_host\": \"algo-1\",\n",
      "        \"current_instance_type\": \"ml.m5.2xlarge\",\n",
      "        \"current_group_name\": \"homogeneousCluster\",\n",
      "        \"hosts\": [\n",
      "            \"algo-1\"\n",
      "        ],\n",
      "        \"instance_groups\": [\n",
      "            {\n",
      "                \"instance_group_name\": \"homogeneousCluster\",\n",
      "                \"instance_type\": \"ml.m5.2xlarge\",\n",
      "                \"hosts\": [\n",
      "                    \"algo-1\"\n",
      "                ]\n",
      "            }\n",
      "        ],\n",
      "        \"network_interface_name\": \"eth0\"\n",
      "    },\n",
      "    \"user_entry_point\": \"training.py\"\u001b[0m\n",
      "\u001b[34m}\u001b[0m\n",
      "\u001b[34mEnvironment variables:\u001b[0m\n",
      "\u001b[34mSM_HOSTS=[\"algo-1\"]\u001b[0m\n",
      "\u001b[34mSM_NETWORK_INTERFACE_NAME=eth0\u001b[0m\n",
      "\u001b[34mSM_HPS={\"batch-size\":32,\"epochs\":100,\"hidden-size\":64,\"lr\":0.001,\"sequence-length\":100,\"sequence-stride\":50}\u001b[0m\n",
      "\u001b[34mSM_USER_ENTRY_POINT=training.py\u001b[0m\n",
      "\u001b[34mSM_FRAMEWORK_PARAMS={}\u001b[0m\n",
      "\u001b[34mSM_RESOURCE_CONFIG={\"current_group_name\":\"homogeneousCluster\",\"current_host\":\"algo-1\",\"current_instance_type\":\"ml.m5.2xlarge\",\"hosts\":[\"algo-1\"],\"instance_groups\":[{\"hosts\":[\"algo-1\"],\"instance_group_name\":\"homogeneousCluster\",\"instance_type\":\"ml.m5.2xlarge\"}],\"network_interface_name\":\"eth0\"}\u001b[0m\n",
      "\u001b[34mSM_INPUT_DATA_CONFIG={\"training\":{\"RecordWrapperType\":\"None\",\"S3DistributionType\":\"FullyReplicated\",\"TrainingInputMode\":\"File\"},\"validation\":{\"RecordWrapperType\":\"None\",\"S3DistributionType\":\"FullyReplicated\",\"TrainingInputMode\":\"File\"}}\u001b[0m\n",
      "\u001b[34mSM_OUTPUT_DATA_DIR=/opt/ml/output/data\u001b[0m\n",
      "\u001b[34mSM_CHANNELS=[\"training\",\"validation\"]\u001b[0m\n",
      "\u001b[34mSM_CURRENT_HOST=algo-1\u001b[0m\n",
      "\u001b[34mSM_CURRENT_INSTANCE_TYPE=ml.m5.2xlarge\u001b[0m\n",
      "\u001b[34mSM_CURRENT_INSTANCE_GROUP=homogeneousCluster\u001b[0m\n",
      "\u001b[34mSM_CURRENT_INSTANCE_GROUP_HOSTS=[\"algo-1\"]\u001b[0m\n",
      "\u001b[34mSM_INSTANCE_GROUPS=[\"homogeneousCluster\"]\u001b[0m\n",
      "\u001b[34mSM_INSTANCE_GROUPS_DICT={\"homogeneousCluster\":{\"hosts\":[\"algo-1\"],\"instance_group_name\":\"homogeneousCluster\",\"instance_type\":\"ml.m5.2xlarge\"}}\u001b[0m\n",
      "\u001b[34mSM_DISTRIBUTION_INSTANCE_GROUPS=[]\u001b[0m\n",
      "\u001b[34mSM_IS_HETERO=false\u001b[0m\n",
      "\u001b[34mSM_MODULE_NAME=training\u001b[0m\n",
      "\u001b[34mSM_LOG_LEVEL=20\u001b[0m\n",
      "\u001b[34mSM_FRAMEWORK_MODULE=sagemaker_pytorch_container.training:main\u001b[0m\n",
      "\u001b[34mSM_INPUT_DIR=/opt/ml/input\u001b[0m\n",
      "\u001b[34mSM_INPUT_CONFIG_DIR=/opt/ml/input/config\u001b[0m\n",
      "\u001b[34mSM_OUTPUT_DIR=/opt/ml/output\u001b[0m\n",
      "\u001b[34mSM_NUM_CPUS=8\u001b[0m\n",
      "\u001b[34mSM_NUM_GPUS=0\u001b[0m\n",
      "\u001b[34mSM_NUM_NEURONS=0\u001b[0m\n",
      "\u001b[34mSM_MODEL_DIR=/opt/ml/model\u001b[0m\n",
      "\u001b[34mSM_MODULE_DIR=/opt/ml/code\u001b[0m\n",
      "\u001b[34mSM_TRAINING_ENV={\"additional_framework_parameters\":{},\"channel_input_dirs\":{\"training\":\"/opt/ml/input/data/training\",\"validation\":\"/opt/ml/input/data/validation\"},\"current_host\":\"algo-1\",\"current_instance_group\":\"homogeneousCluster\",\"current_instance_group_hosts\":[\"algo-1\"],\"current_instance_type\":\"ml.m5.2xlarge\",\"distribution_hosts\":[],\"distribution_instance_groups\":[],\"framework_module\":\"sagemaker_pytorch_container.training:main\",\"hosts\":[\"algo-1\"],\"hyperparameters\":{\"batch-size\":32,\"epochs\":100,\"hidden-size\":64,\"lr\":0.001,\"sequence-length\":100,\"sequence-stride\":50},\"input_config_dir\":\"/opt/ml/input/config\",\"input_data_config\":{\"training\":{\"RecordWrapperType\":\"None\",\"S3DistributionType\":\"FullyReplicated\",\"TrainingInputMode\":\"File\"},\"validation\":{\"RecordWrapperType\":\"None\",\"S3DistributionType\":\"FullyReplicated\",\"TrainingInputMode\":\"File\"}},\"input_dir\":\"/opt/ml/input\",\"instance_groups\":[\"homogeneousCluster\"],\"instance_groups_dict\":{\"homogeneousCluster\":{\"hosts\":[\"algo-1\"],\"instance_group_name\":\"homogeneousCluster\",\"instance_type\":\"ml.m5.2xlarge\"}},\"is_hetero\":false,\"is_master\":true,\"is_modelparallel_enabled\":null,\"is_smddpmprun_installed\":false,\"is_smddprun_installed\":false,\"job_name\":\"lstm-ae-training-2023-12-13-06-21-20-347\",\"log_level\":20,\"master_hostname\":\"algo-1\",\"model_dir\":\"/opt/ml/model\",\"module_dir\":\"/opt/ml/code\",\"module_name\":\"training\",\"network_interface_name\":\"eth0\",\"num_cpus\":8,\"num_gpus\":0,\"num_neurons\":0,\"output_data_dir\":\"/opt/ml/output/data\",\"output_dir\":\"/opt/ml/output\",\"output_intermediate_dir\":\"/opt/ml/output/intermediate\",\"resource_config\":{\"current_group_name\":\"homogeneousCluster\",\"current_host\":\"algo-1\",\"current_instance_type\":\"ml.m5.2xlarge\",\"hosts\":[\"algo-1\"],\"instance_groups\":[{\"hosts\":[\"algo-1\"],\"instance_group_name\":\"homogeneousCluster\",\"instance_type\":\"ml.m5.2xlarge\"}],\"network_interface_name\":\"eth0\"},\"user_entry_point\":\"training.py\"}\u001b[0m\n",
      "\u001b[34mSM_USER_ARGS=[\"--batch-size\",\"32\",\"--epochs\",\"100\",\"--hidden-size\",\"64\",\"--lr\",\"0.001\",\"--sequence-length\",\"100\",\"--sequence-stride\",\"50\"]\u001b[0m\n",
      "\u001b[34mSM_OUTPUT_INTERMEDIATE_DIR=/opt/ml/output/intermediate\u001b[0m\n",
      "\u001b[34mSM_CHANNEL_TRAINING=/opt/ml/input/data/training\u001b[0m\n",
      "\u001b[34mSM_CHANNEL_VALIDATION=/opt/ml/input/data/validation\u001b[0m\n",
      "\u001b[34mSM_HP_BATCH-SIZE=32\u001b[0m\n",
      "\u001b[34mSM_HP_EPOCHS=100\u001b[0m\n",
      "\u001b[34mSM_HP_HIDDEN-SIZE=64\u001b[0m\n",
      "\u001b[34mSM_HP_LR=0.001\u001b[0m\n",
      "\u001b[34mSM_HP_SEQUENCE-LENGTH=100\u001b[0m\n",
      "\u001b[34mSM_HP_SEQUENCE-STRIDE=50\u001b[0m\n",
      "\u001b[34mPYTHONPATH=/opt/ml/code:/opt/conda/bin:/opt/conda/lib/python310.zip:/opt/conda/lib/python3.10:/opt/conda/lib/python3.10/lib-dynload:/opt/conda/lib/python3.10/site-packages\u001b[0m\n",
      "\u001b[34mInvoking script with the following command:\u001b[0m\n",
      "\u001b[34m/opt/conda/bin/python3.10 training.py --batch-size 32 --epochs 100 --hidden-size 64 --lr 0.001 --sequence-length 100 --sequence-stride 50\u001b[0m\n",
      "\u001b[34m2023-12-13 06:25:45,653 sagemaker-training-toolkit INFO     Exceptions not imported for SageMaker Debugger as it is not installed.\u001b[0m\n",
      "\u001b[34m2023-12-13 06:25:45,653 sagemaker-training-toolkit INFO     Exceptions not imported for SageMaker TF as Tensorflow is not installed.\u001b[0m\n",
      "\u001b[34m--------------------------------------\u001b[0m\n",
      "\u001b[34mTraining on 2 time series.\u001b[0m\n",
      "\u001b[34mTime series length: 15000\u001b[0m\n",
      "\u001b[34m--------------------------------------\u001b[0m\n",
      "\u001b[34m--------------------------------------\u001b[0m\n",
      "\u001b[34mValidating on 2 time series.\u001b[0m\n",
      "\u001b[34mTime series length: 5000\u001b[0m\n",
      "\u001b[34m--------------------------------------\u001b[0m\n",
      "\u001b[34m--------------------------------------\u001b[0m\n",
      "\u001b[34mTraining the model.\u001b[0m\n",
      "\u001b[34mepoch: 1 train_mse: 1.00045943 train_mae: 0.79651541 valid_mse: 1.00223613 valid_mae: 0.79730749\u001b[0m\n",
      "\u001b[34mepoch: 2 train_mse: 0.99848354 train_mae: 0.79585826 valid_mse: 1.00006580 valid_mae: 0.79647738\u001b[0m\n",
      "\u001b[34mepoch: 3 train_mse: 1.12252843 train_mae: 0.85358328 valid_mse: 1.12314272 valid_mae: 0.85449368\u001b[0m\n",
      "\u001b[34mepoch: 4 train_mse: 1.12007248 train_mae: 0.84489191 valid_mse: 1.11874187 valid_mae: 0.84473133\u001b[0m\n",
      "\u001b[34mepoch: 5 train_mse: 1.08779335 train_mae: 0.84563744 valid_mse: 1.08738089 valid_mae: 0.84608811\u001b[0m\n",
      "\u001b[34mepoch: 6 train_mse: 1.88584256 train_mae: 1.10168099 valid_mse: 1.88932717 valid_mae: 1.10219264\u001b[0m\n",
      "\u001b[34mepoch: 7 train_mse: 0.88181591 train_mae: 0.74215633 valid_mse: 0.88034987 valid_mae: 0.74284494\u001b[0m\n",
      "\u001b[34mepoch: 8 train_mse: 1.12753356 train_mae: 0.85342747 valid_mse: 1.12063205 valid_mae: 0.85327929\u001b[0m\n",
      "\u001b[34mepoch: 9 train_mse: 0.83768040 train_mae: 0.74435711 valid_mse: 0.83920813 valid_mae: 0.74804807\u001b[0m\n",
      "\u001b[34mepoch: 10 train_mse: 1.03073013 train_mae: 0.84164423 valid_mse: 1.02851796 valid_mae: 0.84561533\u001b[0m\n",
      "\u001b[34mepoch: 11 train_mse: 1.15420318 train_mae: 0.84891176 valid_mse: 1.15036249 valid_mae: 0.85107177\u001b[0m\n",
      "\u001b[34mepoch: 12 train_mse: 0.74752814 train_mae: 0.67899978 valid_mse: 0.74248058 valid_mae: 0.67636520\u001b[0m\n",
      "\u001b[34mepoch: 13 train_mse: 1.40323126 train_mae: 0.92147511 valid_mse: 1.39156830 valid_mae: 0.91770363\u001b[0m\n",
      "\u001b[34mepoch: 14 train_mse: 1.07956719 train_mae: 0.80422527 valid_mse: 1.08181548 valid_mae: 0.80119908\u001b[0m\n",
      "\u001b[34mepoch: 15 train_mse: 0.94424349 train_mae: 0.76293725 valid_mse: 0.93623567 valid_mae: 0.76560289\u001b[0m\n",
      "\u001b[34mepoch: 16 train_mse: 0.97266001 train_mae: 0.77049440 valid_mse: 0.96793514 valid_mae: 0.77450210\u001b[0m\n",
      "\u001b[34mepoch: 17 train_mse: 0.98336369 train_mae: 0.76826441 valid_mse: 0.97721112 valid_mae: 0.77235007\u001b[0m\n",
      "\u001b[34mepoch: 18 train_mse: 1.02946067 train_mae: 0.76809275 valid_mse: 1.02461708 valid_mae: 0.77335286\u001b[0m\n",
      "\u001b[34mepoch: 19 train_mse: 1.00017285 train_mae: 0.75709641 valid_mse: 0.99552888 valid_mae: 0.76204336\u001b[0m\n",
      "\u001b[34mepoch: 20 train_mse: 0.96744925 train_mae: 0.74333805 valid_mse: 0.96017784 valid_mae: 0.74707961\u001b[0m\n",
      "\u001b[34mepoch: 21 train_mse: 0.96414715 train_mae: 0.73455763 valid_mse: 0.95319337 valid_mae: 0.73661929\u001b[0m\n",
      "\u001b[34mepoch: 22 train_mse: 0.95839608 train_mae: 0.72895801 valid_mse: 0.94949836 valid_mae: 0.73142183\u001b[0m\n",
      "\u001b[34mepoch: 23 train_mse: 0.96803498 train_mae: 0.73348969 valid_mse: 0.95652556 valid_mae: 0.73456925\u001b[0m\n",
      "\u001b[34mepoch: 24 train_mse: 0.98968434 train_mae: 0.73398250 valid_mse: 0.97556365 valid_mae: 0.73393309\u001b[0m\n",
      "\u001b[34mepoch: 25 train_mse: 0.97485757 train_mae: 0.72460210 valid_mse: 0.96308535 valid_mae: 0.72539806\u001b[0m\n",
      "\u001b[34mepoch: 26 train_mse: 0.99651527 train_mae: 0.72355372 valid_mse: 0.98591679 valid_mae: 0.72451872\u001b[0m\n",
      "\u001b[34mepoch: 27 train_mse: 0.99166310 train_mae: 0.72338080 valid_mse: 0.98505449 valid_mae: 0.72627068\u001b[0m\n",
      "\u001b[34mepoch: 28 train_mse: 0.99640155 train_mae: 0.71434617 valid_mse: 0.99042791 valid_mae: 0.71605539\u001b[0m\n",
      "\u001b[34mepoch: 29 train_mse: 1.00637090 train_mae: 0.71261078 valid_mse: 1.00943589 valid_mae: 0.71763766\u001b[0m\n",
      "\u001b[34mepoch: 30 train_mse: 1.01156378 train_mae: 0.70794654 valid_mse: 1.01741076 valid_mae: 0.71362859\u001b[0m\n",
      "\u001b[34mepoch: 31 train_mse: 1.00040281 train_mae: 0.69647950 valid_mse: 1.01109064 valid_mae: 0.70439041\u001b[0m\n",
      "\u001b[34mepoch: 32 train_mse: 1.00656712 train_mae: 0.69971728 valid_mse: 1.01790965 valid_mae: 0.70740378\u001b[0m\n",
      "\u001b[34mepoch: 33 train_mse: 1.00442135 train_mae: 0.69808626 valid_mse: 1.01614761 valid_mae: 0.70547283\u001b[0m\n",
      "\u001b[34mepoch: 34 train_mse: 0.99447364 train_mae: 0.69341648 valid_mse: 1.00242734 valid_mae: 0.70003968\u001b[0m\n",
      "\u001b[34mepoch: 35 train_mse: 0.97671580 train_mae: 0.68419290 valid_mse: 0.98205262 valid_mae: 0.68893719\u001b[0m\n",
      "\u001b[34mepoch: 36 train_mse: 0.98784524 train_mae: 0.68414307 valid_mse: 0.99051094 valid_mae: 0.68799841\u001b[0m\n",
      "\u001b[34mepoch: 37 train_mse: 0.97361594 train_mae: 0.68229407 valid_mse: 0.97354531 valid_mae: 0.68457454\u001b[0m\n",
      "\u001b[34mepoch: 38 train_mse: 0.98465294 train_mae: 0.67926329 valid_mse: 0.98446661 valid_mae: 0.68160194\u001b[0m\n",
      "\u001b[34mepoch: 39 train_mse: 0.97195053 train_mae: 0.67662030 valid_mse: 0.96769845 valid_mae: 0.67706472\u001b[0m\n",
      "\u001b[34mepoch: 40 train_mse: 0.94784129 train_mae: 0.68111634 valid_mse: 0.93891096 valid_mae: 0.68042547\u001b[0m\n",
      "\u001b[34mepoch: 41 train_mse: 0.94407636 train_mae: 0.67407310 valid_mse: 0.93481797 valid_mae: 0.67226940\u001b[0m\n",
      "\u001b[34mepoch: 42 train_mse: 0.97538549 train_mae: 0.67405820 valid_mse: 0.96784180 valid_mae: 0.67305708\u001b[0m\n",
      "\u001b[34mepoch: 43 train_mse: 0.87302792 train_mae: 0.67056626 valid_mse: 0.86254591 valid_mae: 0.66922528\u001b[0m\n",
      "\u001b[34mepoch: 44 train_mse: 0.92375356 train_mae: 0.65357828 valid_mse: 0.91728103 valid_mae: 0.65247273\u001b[0m\n",
      "\u001b[34mepoch: 45 train_mse: 0.85954934 train_mae: 0.66171449 valid_mse: 0.85276824 valid_mae: 0.66168624\u001b[0m\n",
      "\u001b[34mepoch: 46 train_mse: 0.82607186 train_mae: 0.63920444 valid_mse: 0.82192451 valid_mae: 0.63968194\u001b[0m\n",
      "\u001b[34mepoch: 47 train_mse: 0.81521475 train_mae: 0.62946451 valid_mse: 0.81485456 valid_mae: 0.63175052\u001b[0m\n",
      "\u001b[34mepoch: 48 train_mse: 0.74179661 train_mae: 0.62253052 valid_mse: 0.74259865 valid_mae: 0.62567914\u001b[0m\n",
      "\u001b[34mepoch: 49 train_mse: 0.69600624 train_mae: 0.59255046 valid_mse: 0.69893777 valid_mae: 0.59626752\u001b[0m\n",
      "\u001b[34mepoch: 50 train_mse: 0.64892292 train_mae: 0.55970263 valid_mse: 0.65346265 valid_mae: 0.56543690\u001b[0m\n",
      "\u001b[34mepoch: 51 train_mse: 0.57364756 train_mae: 0.54697114 valid_mse: 0.57962102 valid_mae: 0.55274379\u001b[0m\n",
      "\u001b[34mepoch: 52 train_mse: 0.50385416 train_mae: 0.51868081 valid_mse: 0.51175100 valid_mae: 0.52626526\u001b[0m\n",
      "\u001b[34mepoch: 53 train_mse: 0.43424156 train_mae: 0.48074853 valid_mse: 0.43967164 valid_mae: 0.48795387\u001b[0m\n",
      "\u001b[34mepoch: 54 train_mse: 0.35976675 train_mae: 0.39572445 valid_mse: 0.35837147 valid_mae: 0.40093285\u001b[0m\n",
      "\u001b[34mepoch: 55 train_mse: 0.29209858 train_mae: 0.35645702 valid_mse: 0.28691182 valid_mae: 0.35810202\u001b[0m\n",
      "\u001b[34mepoch: 56 train_mse: 0.24055642 train_mae: 0.33067557 valid_mse: 0.23616876 valid_mae: 0.33353510\u001b[0m\n",
      "\u001b[34mepoch: 57 train_mse: 0.18299955 train_mae: 0.30811772 valid_mse: 0.17862849 valid_mae: 0.31192061\u001b[0m\n",
      "\u001b[34mepoch: 58 train_mse: 0.12802066 train_mae: 0.24887593 valid_mse: 0.12199142 valid_mae: 0.24832447\u001b[0m\n",
      "\u001b[34mepoch: 59 train_mse: 0.09766767 train_mae: 0.21647461 valid_mse: 0.09274765 valid_mae: 0.21393855\u001b[0m\n",
      "\u001b[34mepoch: 60 train_mse: 0.07630240 train_mae: 0.19855534 valid_mse: 0.07146026 valid_mae: 0.19598715\u001b[0m\n",
      "\u001b[34mepoch: 61 train_mse: 0.06935829 train_mae: 0.18870053 valid_mse: 0.06513374 valid_mae: 0.18736224\u001b[0m\n",
      "\u001b[34mepoch: 62 train_mse: 0.04017802 train_mae: 0.14547075 valid_mse: 0.03814579 valid_mae: 0.14493172\u001b[0m\n",
      "\u001b[34mepoch: 63 train_mse: 0.04273228 train_mae: 0.15267496 valid_mse: 0.04051272 valid_mae: 0.14709187\u001b[0m\n",
      "\u001b[34mepoch: 64 train_mse: 0.03543373 train_mae: 0.14226031 valid_mse: 0.03738799 valid_mae: 0.14621323\u001b[0m\n",
      "\u001b[34mepoch: 65 train_mse: 0.02506351 train_mae: 0.11954875 valid_mse: 0.02483580 valid_mae: 0.11960231\u001b[0m\n",
      "\u001b[34mepoch: 66 train_mse: 0.02551653 train_mae: 0.12276426 valid_mse: 0.02727273 valid_mae: 0.12827370\u001b[0m\n",
      "\u001b[34mepoch: 67 train_mse: 0.02401504 train_mae: 0.11821416 valid_mse: 0.02731576 valid_mae: 0.12672590\u001b[0m\n",
      "\u001b[34mepoch: 68 train_mse: 0.06447767 train_mae: 0.18476173 valid_mse: 0.05983037 valid_mae: 0.17537138\u001b[0m\n",
      "\u001b[34mepoch: 69 train_mse: 0.02449455 train_mae: 0.12038510 valid_mse: 0.02331867 valid_mae: 0.11679546\u001b[0m\n",
      "\u001b[34mepoch: 70 train_mse: 0.02111271 train_mae: 0.11194416 valid_mse: 0.02197319 valid_mae: 0.11429676\u001b[0m\n",
      "\u001b[34mepoch: 71 train_mse: 0.02243618 train_mae: 0.11185556 valid_mse: 0.02466299 valid_mae: 0.11693485\u001b[0m\n",
      "\u001b[34mepoch: 72 train_mse: 0.02121496 train_mae: 0.11167198 valid_mse: 0.02455137 valid_mae: 0.12035752\u001b[0m\n",
      "\u001b[34mepoch: 73 train_mse: 0.01745169 train_mae: 0.10312110 valid_mse: 0.02104696 valid_mae: 0.11400731\u001b[0m\n",
      "\u001b[34mepoch: 74 train_mse: 0.01896688 train_mae: 0.10662605 valid_mse: 0.02008745 valid_mae: 0.10775227\u001b[0m\n",
      "\u001b[34mepoch: 75 train_mse: 0.01963972 train_mae: 0.10774396 valid_mse: 0.02071573 valid_mae: 0.10777275\u001b[0m\n",
      "\u001b[34mepoch: 76 train_mse: 0.01693312 train_mae: 0.10077831 valid_mse: 0.02040422 valid_mae: 0.11104781\u001b[0m\n",
      "\u001b[34mepoch: 77 train_mse: 0.01679903 train_mae: 0.10191742 valid_mse: 0.01794191 valid_mae: 0.10403854\u001b[0m\n",
      "\u001b[34mepoch: 78 train_mse: 0.01593244 train_mae: 0.09941862 valid_mse: 0.01759786 valid_mae: 0.10322356\u001b[0m\n",
      "\u001b[34mepoch: 79 train_mse: 0.01634203 train_mae: 0.09954207 valid_mse: 0.01922976 valid_mae: 0.10867969\u001b[0m\n",
      "\u001b[34mepoch: 80 train_mse: 0.01781951 train_mae: 0.10420118 valid_mse: 0.02228111 valid_mae: 0.11536185\u001b[0m\n",
      "\u001b[34mepoch: 81 train_mse: 0.01435882 train_mae: 0.09400703 valid_mse: 0.01700824 valid_mae: 0.10276312\u001b[0m\n",
      "\u001b[34mepoch: 82 train_mse: 0.01682332 train_mae: 0.10094636 valid_mse: 0.01756923 valid_mae: 0.10170469\u001b[0m\n",
      "\u001b[34mepoch: 83 train_mse: 0.01982033 train_mae: 0.10972960 valid_mse: 0.02019874 valid_mae: 0.10942217\u001b[0m\n",
      "\u001b[34mepoch: 84 train_mse: 0.01852209 train_mae: 0.10721336 valid_mse: 0.01810851 valid_mae: 0.10528333\u001b[0m\n",
      "\u001b[34mepoch: 85 train_mse: 0.01488105 train_mae: 0.09633033 valid_mse: 0.01514511 valid_mae: 0.09672418\u001b[0m\n",
      "\u001b[34mepoch: 86 train_mse: 0.01564167 train_mae: 0.09847346 valid_mse: 0.01550791 valid_mae: 0.09755352\u001b[0m\n",
      "\u001b[34mepoch: 87 train_mse: 0.01371099 train_mae: 0.09243388 valid_mse: 0.01428829 valid_mae: 0.09392713\u001b[0m\n",
      "\u001b[34mepoch: 88 train_mse: 0.01313181 train_mae: 0.09048874 valid_mse: 0.01352572 valid_mae: 0.09159944\u001b[0m\n",
      "\u001b[34mepoch: 89 train_mse: 0.01233698 train_mae: 0.08842079 valid_mse: 0.01251173 valid_mae: 0.08864938\u001b[0m\n",
      "\u001b[34mepoch: 90 train_mse: 0.01216926 train_mae: 0.08777129 valid_mse: 0.01387727 valid_mae: 0.09407166\u001b[0m\n",
      "\u001b[34mepoch: 91 train_mse: 0.01154155 train_mae: 0.08563055 valid_mse: 0.01258541 valid_mae: 0.08947488\u001b[0m\n",
      "\u001b[34mepoch: 92 train_mse: 0.01209588 train_mae: 0.08727050 valid_mse: 0.01335910 valid_mae: 0.09182288\u001b[0m\n",
      "\n",
      "2023-12-13 06:26:53 Uploading - Uploading generated training model\u001b[34mepoch: 93 train_mse: 0.01147679 train_mae: 0.08532304 valid_mse: 0.01196131 valid_mae: 0.08749264\u001b[0m\n",
      "\u001b[34mepoch: 94 train_mse: 0.01187682 train_mae: 0.08671585 valid_mse: 0.01293318 valid_mae: 0.09056277\u001b[0m\n",
      "\u001b[34mepoch: 95 train_mse: 0.01233012 train_mae: 0.08855098 valid_mse: 0.01383491 valid_mae: 0.09407326\u001b[0m\n",
      "\u001b[34mepoch: 96 train_mse: 0.01333873 train_mae: 0.09178452 valid_mse: 0.01245139 valid_mae: 0.08875889\u001b[0m\n",
      "\u001b[34mepoch: 97 train_mse: 0.01434209 train_mae: 0.09512638 valid_mse: 0.01707652 valid_mae: 0.10371961\u001b[0m\n",
      "\u001b[34mepoch: 98 train_mse: 0.01132453 train_mae: 0.08478279 valid_mse: 0.01184734 valid_mae: 0.08701936\u001b[0m\n",
      "\u001b[34mepoch: 99 train_mse: 0.01171250 train_mae: 0.08616092 valid_mse: 0.01271473 valid_mae: 0.09016796\u001b[0m\n",
      "\u001b[34mepoch: 100 train_mse: 0.01498421 train_mae: 0.09657495 valid_mse: 0.01757639 valid_mae: 0.10489224\u001b[0m\n",
      "\u001b[34m--------------------------------------\u001b[0m\n",
      "\u001b[34mScoring the model.\u001b[0m\n",
      "\u001b[34mtrain:mse 0.01498421\u001b[0m\n",
      "\u001b[34mtrain:mae 0.09657495\u001b[0m\n",
      "\u001b[34mvalid:mse 0.01757639\u001b[0m\n",
      "\u001b[34mvalid:mae 0.10489224\u001b[0m\n",
      "\u001b[34m--------------------------------------\u001b[0m\n",
      "\u001b[34m2023-12-13 06:26:46,113 sagemaker-training-toolkit INFO     Waiting for the process to finish and give a return code.\u001b[0m\n",
      "\u001b[34m2023-12-13 06:26:46,113 sagemaker-training-toolkit INFO     Done waiting for a return code. Received 0 from exiting process.\u001b[0m\n",
      "\u001b[34m2023-12-13 06:26:46,113 sagemaker-training-toolkit INFO     Reporting training SUCCESS\u001b[0m\n",
      "\n",
      "2023-12-13 06:27:04 Completed - Training job completed\n",
      "Training seconds: 272\n",
      "Billable seconds: 272\n"
     ]
    }
   ],
   "source": [
    "estimator = sagemaker.algorithm.AlgorithmEstimator(\n",
    "    algorithm_arn=algo_arn,\n",
    "    base_job_name=\"lstm-ae-training\",\n",
    "    role=role,\n",
    "    instance_count=1,\n",
    "    instance_type=instance_type,\n",
    "    input_mode=\"File\",\n",
    "    sagemaker_session=sagemaker_session,\n",
    "    hyperparameters=hyperparameters\n",
    ")\n",
    "\n",
    "estimator.fit({\"training\": training_data, \"validation\": validation_data})"
   ]
  },
  {
   "cell_type": "markdown",
   "metadata": {},
   "source": [
    "See this [blog-post](https://aws.amazon.com/blogs/machine-learning/easily-monitor-and-visualize-metrics-while-training-models-on-amazon-sagemaker/) for more information how to visualize metrics during the process. You can also open the training job from [Amazon SageMaker console](https://console.aws.amazon.com/sagemaker/home?#/jobs/) and monitor the metrics/logs in **Monitor** section."
   ]
  },
  {
   "cell_type": "markdown",
   "metadata": {},
   "source": [
    "## 4. Deploy model and verify results"
   ]
  },
  {
   "cell_type": "markdown",
   "metadata": {},
   "source": [
    "Now you can deploy the model for performing real-time inference."
   ]
  },
  {
   "cell_type": "code",
   "execution_count": 19,
   "metadata": {},
   "outputs": [],
   "source": [
    "serializer = sagemaker.serializers.CSVSerializer(content_type=\"text/csv\")\n",
    "deserializer = sagemaker.deserializers.CSVDeserializer(accept=\"text/csv\")"
   ]
  },
  {
   "cell_type": "markdown",
   "metadata": {},
   "source": [
    "### A. Deploy trained model"
   ]
  },
  {
   "cell_type": "code",
   "execution_count": 20,
   "metadata": {
    "tags": []
   },
   "outputs": [
    {
     "name": "stderr",
     "output_type": "stream",
     "text": [
      "INFO:sagemaker:Creating model package with name: lstm-ae-model-2023-12-13-06-27-35-851835\n"
     ]
    },
    {
     "name": "stdout",
     "output_type": "stream",
     "text": [
      "........."
     ]
    },
    {
     "name": "stderr",
     "output_type": "stream",
     "text": [
      "INFO:sagemaker:Creating model with name: lstm-ae-model-2023-12-13-06-27-35-851835\n"
     ]
    },
    {
     "name": "stdout",
     "output_type": "stream",
     "text": [
      "\n"
     ]
    },
    {
     "name": "stderr",
     "output_type": "stream",
     "text": [
      "INFO:sagemaker:Creating endpoint-config with name lstm-ae-endpoint-2023-12-13-06-27-35-851865\n",
      "INFO:sagemaker:Creating endpoint with name lstm-ae-endpoint-2023-12-13-06-27-35-851865\n"
     ]
    },
    {
     "name": "stdout",
     "output_type": "stream",
     "text": [
      "--------!"
     ]
    }
   ],
   "source": [
    "predictor = estimator.deploy(\n",
    "    initial_instance_count=1,\n",
    "    instance_type=instance_type,\n",
    "    serializer=serializer,\n",
    "    deserializer=deserializer,\n",
    "    model_name=f\"lstm-ae-model-{datetime.datetime.now().strftime(format='%Y-%m-%d-%H-%M-%S-%f')}\",\n",
    "    endpoint_name=f\"lstm-ae-endpoint-{datetime.datetime.now().strftime(format='%Y-%m-%d-%H-%M-%S-%f')}\",\n",
    ")"
   ]
  },
  {
   "cell_type": "markdown",
   "metadata": {},
   "source": [
    "Once the endpoint is in service, you can perform real-time inference."
   ]
  },
  {
   "cell_type": "markdown",
   "metadata": {},
   "source": [
    "### B. Create input payload"
   ]
  },
  {
   "cell_type": "markdown",
   "metadata": {},
   "source": [
    "The inference algorithm takes as input a CSV file containing the time series.\n",
    "Each column of the CSV file represents a time series, while each row represents a time step.\n",
    "The CSV file should not contain any index column or column headers.\n",
    "All the time series should have the same length and should not contain missing values.\n",
    "\n",
    "**Note:** The algorithm does not support variable length sequences, and therefore the length of the input time series should be a multiple of the sequence length."
   ]
  },
  {
   "cell_type": "markdown",
   "metadata": {},
   "source": [
    "**Test dataset:**"
   ]
  },
  {
   "cell_type": "code",
   "execution_count": 21,
   "metadata": {
    "tags": []
   },
   "outputs": [],
   "source": [
    "test_dataset = pd.read_csv(\n",
    "    \"https://raw.githubusercontent.com/fg-research/lstm-ae-sagemaker/master/data/inference/input/test.csv\",\n",
    "    header=None,\n",
    "    index_col=None\n",
    ")"
   ]
  },
  {
   "cell_type": "code",
   "execution_count": 22,
   "metadata": {
    "tags": []
   },
   "outputs": [
    {
     "data": {
      "text/plain": [
       "(5000, 2)"
      ]
     },
     "execution_count": 22,
     "metadata": {},
     "output_type": "execute_result"
    }
   ],
   "source": [
    "test_dataset.shape"
   ]
  },
  {
   "cell_type": "code",
   "execution_count": 23,
   "metadata": {
    "tags": []
   },
   "outputs": [
    {
     "data": {
      "text/html": [
       "<div>\n",
       "<style scoped>\n",
       "    .dataframe tbody tr th:only-of-type {\n",
       "        vertical-align: middle;\n",
       "    }\n",
       "\n",
       "    .dataframe tbody tr th {\n",
       "        vertical-align: top;\n",
       "    }\n",
       "\n",
       "    .dataframe thead th {\n",
       "        text-align: right;\n",
       "    }\n",
       "</style>\n",
       "<table border=\"1\" class=\"dataframe\">\n",
       "  <thead>\n",
       "    <tr style=\"text-align: right;\">\n",
       "      <th></th>\n",
       "      <th>0</th>\n",
       "      <th>1</th>\n",
       "    </tr>\n",
       "  </thead>\n",
       "  <tbody>\n",
       "    <tr>\n",
       "      <th>0</th>\n",
       "      <td>-11.013412</td>\n",
       "      <td>-11.392782</td>\n",
       "    </tr>\n",
       "    <tr>\n",
       "      <th>1</th>\n",
       "      <td>-12.690769</td>\n",
       "      <td>-13.362681</td>\n",
       "    </tr>\n",
       "    <tr>\n",
       "      <th>2</th>\n",
       "      <td>-12.638245</td>\n",
       "      <td>-10.937028</td>\n",
       "    </tr>\n",
       "    <tr>\n",
       "      <th>3</th>\n",
       "      <td>-14.549574</td>\n",
       "      <td>-13.608522</td>\n",
       "    </tr>\n",
       "    <tr>\n",
       "      <th>4</th>\n",
       "      <td>-14.831431</td>\n",
       "      <td>-14.712521</td>\n",
       "    </tr>\n",
       "  </tbody>\n",
       "</table>\n",
       "</div>"
      ],
      "text/plain": [
       "           0          1\n",
       "0 -11.013412 -11.392782\n",
       "1 -12.690769 -13.362681\n",
       "2 -12.638245 -10.937028\n",
       "3 -14.549574 -13.608522\n",
       "4 -14.831431 -14.712521"
      ]
     },
     "execution_count": 23,
     "metadata": {},
     "output_type": "execute_result"
    }
   ],
   "source": [
    "test_dataset.head()"
   ]
  },
  {
   "cell_type": "code",
   "execution_count": 24,
   "metadata": {
    "tags": []
   },
   "outputs": [
    {
     "data": {
      "image/png": "[encoded data removed]",
      "text/plain": [
       "<Figure size 640x480 with 2 Axes>"
      ]
     },
     "metadata": {},
     "output_type": "display_data"
    }
   ],
   "source": [
    "fig, axs = plt.subplots(nrows=test_dataset.shape[1], ncols=1, sharex=True)\n",
    "for i in range(test_dataset.shape[1]):\n",
    "    axs[i].plot(test_dataset.iloc[:, i], color=\"#AFB8C1\", lw=1)\n",
    "    axs[i].set_title(f\"Time Series {i + 1}\", size=10)\n",
    "    axs[i].set(xlabel=\"Time\", ylabel=\"Value\")\n",
    "    axs[i].xaxis.set_tick_params(labelbottom=True)\n",
    "    axs[i].tick_params(axis=\"both\", which=\"major\", labelsize=7)\n",
    "    axs[i].tick_params(axis=\"both\", which=\"minor\", labelsize=7)\n",
    "fig.subplots_adjust(hspace=0.75)\n",
    "fig.suptitle(\"Test Dataset\")\n",
    "fig.show()"
   ]
  },
  {
   "cell_type": "code",
   "execution_count": 25,
   "metadata": {
    "tags": []
   },
   "outputs": [],
   "source": [
    "test_data = sagemaker_session.upload_string_as_file_body(\n",
    "    body=test_dataset.to_csv(index=False, header=False),\n",
    "    bucket=bucket,\n",
    "    key=\"data/inference/input/test.csv\"\n",
    ")"
   ]
  },
  {
   "cell_type": "code",
   "execution_count": 26,
   "metadata": {
    "tags": []
   },
   "outputs": [
    {
     "data": {
      "text/plain": [
       "'s3://sagemaker-eu-west-1-661670223746/data/inference/input/test.csv'"
      ]
     },
     "execution_count": 26,
     "metadata": {},
     "output_type": "execute_result"
    }
   ],
   "source": [
    "test_data"
   ]
  },
  {
   "cell_type": "markdown",
   "metadata": {},
   "source": [
    "Given that the test dataset used in this experiment is relatively small, we invoke the endpoint using all the data."
   ]
  },
  {
   "cell_type": "code",
   "execution_count": 27,
   "metadata": {
    "tags": []
   },
   "outputs": [],
   "source": [
    "payload = serializer.serialize(test_dataset.to_csv(index=False, header=False))"
   ]
  },
  {
   "cell_type": "markdown",
   "metadata": {},
   "source": [
    "### C. Perform real-time inference"
   ]
  },
  {
   "cell_type": "code",
   "execution_count": 28,
   "metadata": {
    "tags": []
   },
   "outputs": [],
   "source": [
    "response = sagemaker_session.sagemaker_runtime_client.invoke_endpoint(\n",
    "    EndpointName=predictor.endpoint_name,\n",
    "    ContentType=\"text/csv\",\n",
    "    Body=payload\n",
    ")\n",
    "\n",
    "real_time_predictions = pd.DataFrame(data=deserializer.deserialize(response[\"Body\"], content_type=\"text/csv\")).replace(\"\", None).astype(float)"
   ]
  },
  {
   "cell_type": "code",
   "execution_count": 29,
   "metadata": {
    "tags": []
   },
   "outputs": [
    {
     "data": {
      "text/plain": [
       "{'ResponseMetadata': {'RequestId': 'e8c3fdc7-c373-43fa-b1ea-3656ba707bd4',\n",
       "  'HTTPStatusCode': 200,\n",
       "  'HTTPHeaders': {'x-amzn-requestid': 'e8c3fdc7-c373-43fa-b1ea-3656ba707bd4',\n",
       "   'x-amzn-invoked-production-variant': 'AllTraffic',\n",
       "   'date': 'Wed, 13 Dec 2023 06:32:55 GMT',\n",
       "   'content-type': 'application/json',\n",
       "   'content-length': '284995',\n",
       "   'connection': 'keep-alive'},\n",
       "  'RetryAttempts': 0},\n",
       " 'ContentType': 'application/json',\n",
       " 'InvokedProductionVariant': 'AllTraffic',\n",
       " 'Body': <botocore.response.StreamingBody at 0x7fc1e2141f30>}"
      ]
     },
     "execution_count": 29,
     "metadata": {},
     "output_type": "execute_result"
    }
   ],
   "source": [
    "response"
   ]
  },
  {
   "cell_type": "code",
   "execution_count": 30,
   "metadata": {
    "tags": []
   },
   "outputs": [],
   "source": [
    "real_time_results = sagemaker_session.upload_string_as_file_body(\n",
    "    body=real_time_predictions.to_csv(index=False, header=False),\n",
    "    bucket=bucket,\n",
    "    key=\"data/inference/output/real-time/real_time_predictions.csv\"\n",
    ")"
   ]
  },
  {
   "cell_type": "code",
   "execution_count": 31,
   "metadata": {
    "tags": []
   },
   "outputs": [
    {
     "data": {
      "text/plain": [
       "'s3://sagemaker-eu-west-1-661670223746/data/inference/output/real-time/real_time_predictions.csv'"
      ]
     },
     "execution_count": 31,
     "metadata": {},
     "output_type": "execute_result"
    }
   ],
   "source": [
    "real_time_results"
   ]
  },
  {
   "cell_type": "markdown",
   "metadata": {},
   "source": [
    "### D. Visualize output"
   ]
  },
  {
   "cell_type": "markdown",
   "metadata": {},
   "source": [
    "The inference algorithm outputs the anomaly scores and the reconstructed values of the time series. The anomaly scores are included in the first column, while the reconstructed values of the time series are included in the subsequent columns."
   ]
  },
  {
   "cell_type": "code",
   "execution_count": 32,
   "metadata": {
    "tags": []
   },
   "outputs": [
    {
     "data": {
      "text/plain": [
       "(5000, 3)"
      ]
     },
     "execution_count": 32,
     "metadata": {},
     "output_type": "execute_result"
    }
   ],
   "source": [
    "real_time_predictions.shape"
   ]
  },
  {
   "cell_type": "code",
   "execution_count": 33,
   "metadata": {
    "tags": []
   },
   "outputs": [
    {
     "data": {
      "text/html": [
       "<div>\n",
       "<style scoped>\n",
       "    .dataframe tbody tr th:only-of-type {\n",
       "        vertical-align: middle;\n",
       "    }\n",
       "\n",
       "    .dataframe tbody tr th {\n",
       "        vertical-align: top;\n",
       "    }\n",
       "\n",
       "    .dataframe thead th {\n",
       "        text-align: right;\n",
       "    }\n",
       "</style>\n",
       "<table border=\"1\" class=\"dataframe\">\n",
       "  <thead>\n",
       "    <tr style=\"text-align: right;\">\n",
       "      <th></th>\n",
       "      <th>0</th>\n",
       "      <th>1</th>\n",
       "      <th>2</th>\n",
       "    </tr>\n",
       "  </thead>\n",
       "  <tbody>\n",
       "    <tr>\n",
       "      <th>0</th>\n",
       "      <td>0.213033</td>\n",
       "      <td>-10.082997</td>\n",
       "      <td>-10.008846</td>\n",
       "    </tr>\n",
       "    <tr>\n",
       "      <th>1</th>\n",
       "      <td>2.609459</td>\n",
       "      <td>-11.104548</td>\n",
       "      <td>-10.988354</td>\n",
       "    </tr>\n",
       "    <tr>\n",
       "      <th>2</th>\n",
       "      <td>0.374179</td>\n",
       "      <td>-12.088655</td>\n",
       "      <td>-11.942144</td>\n",
       "    </tr>\n",
       "    <tr>\n",
       "      <th>3</th>\n",
       "      <td>0.674115</td>\n",
       "      <td>-13.018567</td>\n",
       "      <td>-12.862983</td>\n",
       "    </tr>\n",
       "    <tr>\n",
       "      <th>4</th>\n",
       "      <td>0.016431</td>\n",
       "      <td>-13.878198</td>\n",
       "      <td>-13.741350</td>\n",
       "    </tr>\n",
       "  </tbody>\n",
       "</table>\n",
       "</div>"
      ],
      "text/plain": [
       "          0          1          2\n",
       "0  0.213033 -10.082997 -10.008846\n",
       "1  2.609459 -11.104548 -10.988354\n",
       "2  0.374179 -12.088655 -11.942144\n",
       "3  0.674115 -13.018567 -12.862983\n",
       "4  0.016431 -13.878198 -13.741350"
      ]
     },
     "execution_count": 33,
     "metadata": {},
     "output_type": "execute_result"
    }
   ],
   "source": [
    "real_time_predictions.head()"
   ]
  },
  {
   "cell_type": "code",
   "execution_count": 34,
   "metadata": {
    "tags": []
   },
   "outputs": [
    {
     "data": {
      "text/html": [
       "<div>\n",
       "<style scoped>\n",
       "    .dataframe tbody tr th:only-of-type {\n",
       "        vertical-align: middle;\n",
       "    }\n",
       "\n",
       "    .dataframe tbody tr th {\n",
       "        vertical-align: top;\n",
       "    }\n",
       "\n",
       "    .dataframe thead th {\n",
       "        text-align: right;\n",
       "    }\n",
       "</style>\n",
       "<table border=\"1\" class=\"dataframe\">\n",
       "  <thead>\n",
       "    <tr style=\"text-align: right;\">\n",
       "      <th></th>\n",
       "      <th>0</th>\n",
       "      <th>1</th>\n",
       "      <th>2</th>\n",
       "    </tr>\n",
       "  </thead>\n",
       "  <tbody>\n",
       "    <tr>\n",
       "      <th>4995</th>\n",
       "      <td>0.569651</td>\n",
       "      <td>-6.276928</td>\n",
       "      <td>-6.373891</td>\n",
       "    </tr>\n",
       "    <tr>\n",
       "      <th>4996</th>\n",
       "      <td>0.951659</td>\n",
       "      <td>-7.366018</td>\n",
       "      <td>-7.371435</td>\n",
       "    </tr>\n",
       "    <tr>\n",
       "      <th>4997</th>\n",
       "      <td>1.287507</td>\n",
       "      <td>-8.471177</td>\n",
       "      <td>-8.356642</td>\n",
       "    </tr>\n",
       "    <tr>\n",
       "      <th>4998</th>\n",
       "      <td>1.147516</td>\n",
       "      <td>-9.265017</td>\n",
       "      <td>-9.136204</td>\n",
       "    </tr>\n",
       "    <tr>\n",
       "      <th>4999</th>\n",
       "      <td>1.174829</td>\n",
       "      <td>-10.226036</td>\n",
       "      <td>-10.182626</td>\n",
       "    </tr>\n",
       "  </tbody>\n",
       "</table>\n",
       "</div>"
      ],
      "text/plain": [
       "             0          1          2\n",
       "4995  0.569651  -6.276928  -6.373891\n",
       "4996  0.951659  -7.366018  -7.371435\n",
       "4997  1.287507  -8.471177  -8.356642\n",
       "4998  1.147516  -9.265017  -9.136204\n",
       "4999  1.174829 -10.226036 -10.182626"
      ]
     },
     "execution_count": 34,
     "metadata": {},
     "output_type": "execute_result"
    }
   ],
   "source": [
    "real_time_predictions.tail()"
   ]
  },
  {
   "cell_type": "code",
   "execution_count": 35,
   "metadata": {
    "tags": []
   },
   "outputs": [
    {
     "data": {
      "image/png": "[encoded data removed]",
      "text/plain": [
       "<Figure size 600x700 with 3 Axes>"
      ]
     },
     "metadata": {},
     "output_type": "display_data"
    }
   ],
   "source": [
    "fig, axs = plt.subplots(nrows=test_dataset.shape[1] + 1, ncols=1, sharex=True, figsize=(6, 7))\n",
    "for i in range(test_dataset.shape[1]):\n",
    "    axs[i].plot(test_dataset.iloc[:, i], color=\"#AFB8C1\", lw=0.5, label=\"Actual\" if i == 0 else None)\n",
    "    axs[i].plot(real_time_predictions.iloc[:, i + 1], color=\"#009ad3\", lw=1, label=\"Reconstructed\" if i == 0 else None)\n",
    "    axs[i].set_title(f\"Time Series {i + 1}\", size=10)\n",
    "    axs[i].set(xlabel=\"Time\", ylabel=\"Value\")\n",
    "    axs[i].xaxis.set_tick_params(labelbottom=True)\n",
    "    axs[i].tick_params(axis=\"both\", which=\"major\", labelsize=7)\n",
    "    axs[i].tick_params(axis=\"both\", which=\"minor\", labelsize=7)\n",
    "i += 1\n",
    "axs[i].set_title(\"Anomaly Score\", size=10)\n",
    "axs[i].plot(real_time_predictions.iloc[:, 0], color=\"#57606a\", lw=1)\n",
    "axs[i].set(xlabel=\"Time\", ylabel=\"Value\")\n",
    "axs[i].xaxis.set_tick_params(labelbottom=True)\n",
    "axs[i].tick_params(axis=\"both\", which=\"major\", labelsize=7)\n",
    "axs[i].tick_params(axis=\"both\", which=\"minor\", labelsize=7)\n",
    "fig.subplots_adjust(hspace=0.75)\n",
    "fig.suptitle(\"Real-Time Predictions on Test Dataset\")\n",
    "fig.legend(bbox_to_anchor=(1.2, 1, 0, 0), frameon=False)\n",
    "fig.show()"
   ]
  },
  {
   "cell_type": "markdown",
   "metadata": {},
   "source": [
    "### E. Calculate relevant metrics"
   ]
  },
  {
   "cell_type": "markdown",
   "metadata": {},
   "source": [
    "If enough labelled anomalous data is available, you can estimate the optimal threshold on the anomaly score as the one that maximixes the F-beta score between the actual and predicted anomaly labels. Once the appropriate threshold has been determined, the model can be used as a binary classifier which predicts 1 (anomalous) if the anomaly score is above the threshold, and 0 (normal) if the anomaly score is below the threshold. After that the standard classification metrics (such as accuracy, precision, recall, etc.) can be computed as usual."
   ]
  },
  {
   "cell_type": "markdown",
   "metadata": {},
   "source": [
    "If [Amazon SageMaker Model Monitor](https://docs.aws.amazon.com/sagemaker/latest/dg/model-monitor.html) supports the type of problem you are trying to solve using this algorithm, use the following examples to add Model Monitor support to your product.\n",
    "For sample code to enable and monitor the model, see following notebooks:\n",
    "1. [Enable Amazon SageMaker Model Monitor](https://github.com/awslabs/amazon-sagemaker-examples/blob/master/sagemaker_model_monitor/enable_model_monitor/SageMaker-Enable-Model-Monitor.ipynb)\n",
    "2. [Amazon SageMaker Model Monitor - visualizing monitoring results](https://github.com/awslabs/amazon-sagemaker-examples/blob/master/sagemaker_model_monitor/visualization/SageMaker-Model-Monitor-Visualize.ipynb)"
   ]
  },
  {
   "cell_type": "markdown",
   "metadata": {},
   "source": [
    "### F. Delete the endpoint"
   ]
  },
  {
   "cell_type": "markdown",
   "metadata": {},
   "source": [
    "Now that you have successfully performed a real-time inference, you do not need the endpoint any more. You can terminate the same to avoid being charged."
   ]
  },
  {
   "cell_type": "code",
   "execution_count": 36,
   "metadata": {
    "tags": []
   },
   "outputs": [
    {
     "name": "stderr",
     "output_type": "stream",
     "text": [
      "INFO:sagemaker:Deleting endpoint configuration with name: lstm-ae-endpoint-2023-12-13-06-27-35-851865\n",
      "INFO:sagemaker:Deleting endpoint with name: lstm-ae-endpoint-2023-12-13-06-27-35-851865\n"
     ]
    }
   ],
   "source": [
    "predictor.delete_endpoint(delete_endpoint_config=True)"
   ]
  },
  {
   "cell_type": "markdown",
   "metadata": {},
   "source": [
    "Since this is an experiment, you do not need to run a hyperparameter tuning job. However, if you would like to see how to tune a model trained using a third-party algorithm with Amazon SageMaker's hyperparameter tuning functionality, you can run the optional tuning step."
   ]
  },
  {
   "cell_type": "markdown",
   "metadata": {},
   "source": [
    "## 5. Tune your model! (optional)"
   ]
  },
  {
   "cell_type": "markdown",
   "metadata": {},
   "source": [
    "### A. Tuning Guidelines"
   ]
  },
  {
   "cell_type": "markdown",
   "metadata": {},
   "source": [
    "The model has the following hyperparameters, all of which are tunable:\n",
    "- `sequence-length`: `int`. The length of the sequences.\n",
    "- `sequence-stride`: `int`. The period between consecutive sequences.\n",
    "- `hidden-size`: `int`. The number of hidden units of each LSTM layer.\n",
    "- `lr`: `float`. The learning rate used for training.\n",
    "- `batch-size`: `int`. The batch size used for training.\n",
    "- `epochs`: `int`. The number of training epochs."
   ]
  },
  {
   "cell_type": "markdown",
   "metadata": {},
   "source": [
    "### B. Define Tuning configuration"
   ]
  },
  {
   "cell_type": "code",
   "execution_count": 37,
   "metadata": {
    "tags": []
   },
   "outputs": [],
   "source": [
    "hyperparameter_ranges = {\n",
    "    \"hidden-size\": sagemaker.parameter.IntegerParameter(32, 128),\n",
    "    \"lr\": sagemaker.parameter.ContinuousParameter(0.001, 0.01),\n",
    "    \"batch-size\": sagemaker.parameter.CategoricalParameter([32, 64]),\n",
    "    \"epochs\": sagemaker.parameter.IntegerParameter(100, 200),\n",
    "}"
   ]
  },
  {
   "cell_type": "markdown",
   "metadata": {},
   "source": [
    "We use the validation mean absolute error (MAE) as the objective to be minimized."
   ]
  },
  {
   "cell_type": "code",
   "execution_count": 38,
   "metadata": {
    "tags": []
   },
   "outputs": [],
   "source": [
    "objective_metric_name = \"valid_mae\""
   ]
  },
  {
   "cell_type": "code",
   "execution_count": 39,
   "metadata": {
    "tags": []
   },
   "outputs": [],
   "source": [
    "objective_type = \"Minimize\""
   ]
  },
  {
   "cell_type": "markdown",
   "metadata": {},
   "source": [
    "### C. Run a model tuning job"
   ]
  },
  {
   "cell_type": "markdown",
   "metadata": {},
   "source": [
    "In the interest of time, we run the tuner only for a few iterations. "
   ]
  },
  {
   "cell_type": "code",
   "execution_count": 40,
   "metadata": {
    "tags": []
   },
   "outputs": [],
   "source": [
    "tuner = sagemaker.tuner.HyperparameterTuner(\n",
    "    estimator=estimator,\n",
    "    base_tuning_job_name=\"lstm-ae-tuning\",\n",
    "    objective_metric_name=objective_metric_name,\n",
    "    objective_type=objective_type,\n",
    "    hyperparameter_ranges=hyperparameter_ranges,\n",
    "    max_jobs=4,\n",
    "    max_parallel_jobs=4,\n",
    "    random_seed=100,\n",
    ")"
   ]
  },
  {
   "cell_type": "code",
   "execution_count": 41,
   "metadata": {
    "tags": []
   },
   "outputs": [
    {
     "name": "stderr",
     "output_type": "stream",
     "text": [
      "INFO:sagemaker:Creating hyperparameter tuning job with name: lstm-ae-tuning-231213-0632\n"
     ]
    },
    {
     "name": "stdout",
     "output_type": "stream",
     "text": [
      "........................................................................................!\n"
     ]
    }
   ],
   "source": [
    "tuner.fit({\"training\": training_data, \"validation\": validation_data})"
   ]
  },
  {
   "cell_type": "code",
   "execution_count": 42,
   "metadata": {
    "tags": []
   },
   "outputs": [
    {
     "data": {
      "text/html": [
       "<div>\n",
       "<style scoped>\n",
       "    .dataframe tbody tr th:only-of-type {\n",
       "        vertical-align: middle;\n",
       "    }\n",
       "\n",
       "    .dataframe tbody tr th {\n",
       "        vertical-align: top;\n",
       "    }\n",
       "\n",
       "    .dataframe thead th {\n",
       "        text-align: right;\n",
       "    }\n",
       "</style>\n",
       "<table border=\"1\" class=\"dataframe\">\n",
       "  <thead>\n",
       "    <tr style=\"text-align: right;\">\n",
       "      <th></th>\n",
       "      <th>batch-size</th>\n",
       "      <th>epochs</th>\n",
       "      <th>hidden-size</th>\n",
       "      <th>lr</th>\n",
       "      <th>TrainingJobName</th>\n",
       "      <th>TrainingJobStatus</th>\n",
       "      <th>FinalObjectiveValue</th>\n",
       "      <th>TrainingStartTime</th>\n",
       "      <th>TrainingEndTime</th>\n",
       "      <th>TrainingElapsedTimeSeconds</th>\n",
       "    </tr>\n",
       "  </thead>\n",
       "  <tbody>\n",
       "    <tr>\n",
       "      <th>0</th>\n",
       "      <td>32.0</td>\n",
       "      <td>184.0</td>\n",
       "      <td>79.0</td>\n",
       "      <td>0.002332</td>\n",
       "      <td>lstm-ae-tuning-231213-0632-001-e589bb78</td>\n",
       "      <td>Completed</td>\n",
       "      <td>0.080649</td>\n",
       "      <td>2023-12-13 06:34:20+00:00</td>\n",
       "      <td>2023-12-13 06:39:53+00:00</td>\n",
       "      <td>333.0</td>\n",
       "    </tr>\n",
       "    <tr>\n",
       "      <th>1</th>\n",
       "      <td>32.0</td>\n",
       "      <td>189.0</td>\n",
       "      <td>35.0</td>\n",
       "      <td>0.007927</td>\n",
       "      <td>lstm-ae-tuning-231213-0632-002-ecea7081</td>\n",
       "      <td>Completed</td>\n",
       "      <td>0.094749</td>\n",
       "      <td>2023-12-13 06:34:10+00:00</td>\n",
       "      <td>2023-12-13 06:39:23+00:00</td>\n",
       "      <td>313.0</td>\n",
       "    </tr>\n",
       "    <tr>\n",
       "      <th>2</th>\n",
       "      <td>64.0</td>\n",
       "      <td>197.0</td>\n",
       "      <td>75.0</td>\n",
       "      <td>0.009906</td>\n",
       "      <td>lstm-ae-tuning-231213-0632-004-384437a7</td>\n",
       "      <td>Completed</td>\n",
       "      <td>0.104588</td>\n",
       "      <td>2023-12-13 06:34:19+00:00</td>\n",
       "      <td>2023-12-13 06:39:12+00:00</td>\n",
       "      <td>293.0</td>\n",
       "    </tr>\n",
       "    <tr>\n",
       "      <th>3</th>\n",
       "      <td>64.0</td>\n",
       "      <td>121.0</td>\n",
       "      <td>64.0</td>\n",
       "      <td>0.009069</td>\n",
       "      <td>lstm-ae-tuning-231213-0632-003-553eb0ba</td>\n",
       "      <td>Completed</td>\n",
       "      <td>0.122665</td>\n",
       "      <td>2023-12-13 06:34:17+00:00</td>\n",
       "      <td>2023-12-13 06:38:29+00:00</td>\n",
       "      <td>252.0</td>\n",
       "    </tr>\n",
       "  </tbody>\n",
       "</table>\n",
       "</div>"
      ],
      "text/plain": [
       "   batch-size  epochs  hidden-size        lr  \\\n",
       "0        32.0   184.0         79.0  0.002332   \n",
       "1        32.0   189.0         35.0  0.007927   \n",
       "2        64.0   197.0         75.0  0.009906   \n",
       "3        64.0   121.0         64.0  0.009069   \n",
       "\n",
       "                           TrainingJobName TrainingJobStatus  \\\n",
       "0  lstm-ae-tuning-231213-0632-001-e589bb78         Completed   \n",
       "1  lstm-ae-tuning-231213-0632-002-ecea7081         Completed   \n",
       "2  lstm-ae-tuning-231213-0632-004-384437a7         Completed   \n",
       "3  lstm-ae-tuning-231213-0632-003-553eb0ba         Completed   \n",
       "\n",
       "   FinalObjectiveValue         TrainingStartTime           TrainingEndTime  \\\n",
       "0             0.080649 2023-12-13 06:34:20+00:00 2023-12-13 06:39:53+00:00   \n",
       "1             0.094749 2023-12-13 06:34:10+00:00 2023-12-13 06:39:23+00:00   \n",
       "2             0.104588 2023-12-13 06:34:19+00:00 2023-12-13 06:39:12+00:00   \n",
       "3             0.122665 2023-12-13 06:34:17+00:00 2023-12-13 06:38:29+00:00   \n",
       "\n",
       "   TrainingElapsedTimeSeconds  \n",
       "0                       333.0  \n",
       "1                       313.0  \n",
       "2                       293.0  \n",
       "3                       252.0  "
      ]
     },
     "execution_count": 42,
     "metadata": {},
     "output_type": "execute_result"
    }
   ],
   "source": [
    "tuner.analytics().dataframe().sort_values(by=\"FinalObjectiveValue\", ascending=True, ignore_index=True)"
   ]
  },
  {
   "cell_type": "code",
   "execution_count": 43,
   "metadata": {
    "tags": []
   },
   "outputs": [],
   "source": [
    "tuning_job_result = sagemaker_session.sagemaker_client.describe_hyper_parameter_tuning_job(\n",
    "    HyperParameterTuningJobName=tuner.latest_tuning_job.name\n",
    ")"
   ]
  },
  {
   "cell_type": "code",
   "execution_count": 44,
   "metadata": {
    "tags": []
   },
   "outputs": [
    {
     "name": "stdout",
     "output_type": "stream",
     "text": [
      "Best hyperparameters:\n"
     ]
    },
    {
     "data": {
      "text/plain": [
       "{'batch-size': '32',\n",
       " 'epochs': '184',\n",
       " 'hidden-size': '79',\n",
       " 'lr': '0.002332046610717271'}"
      ]
     },
     "execution_count": 44,
     "metadata": {},
     "output_type": "execute_result"
    }
   ],
   "source": [
    "print(\"Best hyperparameters:\")\n",
    "tuning_job_result[\"BestTrainingJob\"][\"TunedHyperParameters\"]"
   ]
  },
  {
   "cell_type": "code",
   "execution_count": 45,
   "metadata": {
    "tags": []
   },
   "outputs": [
    {
     "name": "stdout",
     "output_type": "stream",
     "text": [
      "Best score:\n"
     ]
    },
    {
     "data": {
      "text/plain": [
       "0.08064883947372437"
      ]
     },
     "execution_count": 45,
     "metadata": {},
     "output_type": "execute_result"
    }
   ],
   "source": [
    "print(\"Best score:\")\n",
    "tuning_job_result[\"BestTrainingJob\"][\"FinalHyperParameterTuningJobObjectiveMetric\"][\"Value\"]"
   ]
  },
  {
   "cell_type": "markdown",
   "metadata": {},
   "source": [
    "Once you have completed a tuning job (or even while the job is still running), you can [clone and use this notebook](https://github.com/awslabs/amazon-sagemaker-examples/blob/master/hyperparameter_tuning/analyze_results/HPO_Analyze_TuningJob_Results.ipynb) to analyze the results to understand how each hyperparameter effects the quality of the model."
   ]
  },
  {
   "cell_type": "markdown",
   "metadata": {},
   "source": [
    "## 6. Perform Batch inference"
   ]
  },
  {
   "cell_type": "markdown",
   "metadata": {},
   "source": [
    "In this section, you will perform batch inference."
   ]
  },
  {
   "cell_type": "code",
   "execution_count": 46,
   "metadata": {
    "tags": []
   },
   "outputs": [
    {
     "name": "stderr",
     "output_type": "stream",
     "text": [
      "INFO:sagemaker:Creating model package with name: lstm-ae-v1-4-2023-12-13-06-40-31-283\n"
     ]
    },
    {
     "name": "stdout",
     "output_type": "stream",
     "text": [
      "........."
     ]
    },
    {
     "name": "stderr",
     "output_type": "stream",
     "text": [
      "INFO:sagemaker:Creating model with name: lstm-ae-v1-4-2023-12-13-06-40-31-283-2023-12-13-06-41-16-746\n"
     ]
    },
    {
     "name": "stdout",
     "output_type": "stream",
     "text": [
      "\n"
     ]
    }
   ],
   "source": [
    "transformer = estimator.transformer(\n",
    "    instance_count=1,\n",
    "    instance_type=instance_type,\n",
    ")"
   ]
  },
  {
   "cell_type": "code",
   "execution_count": 47,
   "metadata": {
    "tags": []
   },
   "outputs": [],
   "source": [
    "transformer.base_transform_job_name = \"lstm-ae-transform\""
   ]
  },
  {
   "cell_type": "code",
   "execution_count": 48,
   "metadata": {
    "tags": []
   },
   "outputs": [
    {
     "name": "stderr",
     "output_type": "stream",
     "text": [
      "INFO:sagemaker:Creating transform job with name: lstm-ae-transform-2023-12-13-06-41-17-485\n"
     ]
    },
    {
     "name": "stdout",
     "output_type": "stream",
     "text": [
      "...........................................\u001b[34mWarning: TorchServe is using non-default JVM parameters: -XX:-UseContainerSupport\u001b[0m\n",
      "\u001b[34mWARNING: sun.reflect.Reflection.getCallerClass is not supported. This will impact performance.\u001b[0m\n",
      "\u001b[34m2023-12-13T06:48:30,946 [WARN ] main org.pytorch.serve.util.ConfigManager - Your torchserve instance can access any URL to load models. When deploying to production, make sure to limit the set of allowed_urls in config.properties\u001b[0m\n",
      "\u001b[34m2023-12-13T06:48:30,949 [INFO ] main org.pytorch.serve.servingsdk.impl.PluginsManager - Initializing plugins manager...\u001b[0m\n",
      "\u001b[34m2023-12-13T06:48:31,011 [INFO ] main org.pytorch.serve.metrics.configuration.MetricConfiguration - Successfully loaded metrics configuration from /opt/conda/lib/python3.10/site-packages/ts/configs/metrics.yaml\u001b[0m\n",
      "\u001b[34m2023-12-13T06:48:31,116 [INFO ] main org.pytorch.serve.ModelServer - \u001b[0m\n",
      "\u001b[34mTorchserve version: 0.8.2\u001b[0m\n",
      "\u001b[34mTS Home: /opt/conda/lib/python3.10/site-packages\u001b[0m\n",
      "\u001b[34mCurrent directory: /\u001b[0m\n",
      "\u001b[34mTemp directory: /home/model-server/tmp\u001b[0m\n",
      "\u001b[34mMetrics config path: /opt/conda/lib/python3.10/site-packages/ts/configs/metrics.yaml\u001b[0m\n",
      "\u001b[34mNumber of GPUs: 0\u001b[0m\n",
      "\u001b[34mNumber of CPUs: 8\u001b[0m\n",
      "\u001b[34mMax heap size: 7924 M\u001b[0m\n",
      "\u001b[34mPython executable: /opt/conda/bin/python3.10\u001b[0m\n",
      "\u001b[34mConfig file: /etc/sagemaker-ts.properties\u001b[0m\n",
      "\u001b[34mInference address: http://0.0.0.0:8080\u001b[0m\n",
      "\u001b[34mManagement address: http://0.0.0.0:8080\u001b[0m\n",
      "\u001b[34mMetrics address: http://127.0.0.1:8082\u001b[0m\n",
      "\u001b[34mModel Store: /.sagemaker/ts/models\u001b[0m\n",
      "\u001b[34mInitial Models: model=/opt/ml/model\u001b[0m\n",
      "\u001b[34mLog dir: /logs\u001b[0m\n",
      "\u001b[34mMetrics dir: /logs\u001b[0m\n",
      "\u001b[34mNetty threads: 0\u001b[0m\n",
      "\u001b[34mNetty client threads: 0\u001b[0m\n",
      "\u001b[34mDefault workers per model: 8\u001b[0m\n",
      "\u001b[34mBlacklist Regex: N/A\u001b[0m\n",
      "\u001b[34mMaximum Response Size: 6553500\u001b[0m\n",
      "\u001b[34mMaximum Request Size: 6553500\u001b[0m\n",
      "\u001b[34mLimit Maximum Image Pixels: true\u001b[0m\n",
      "\u001b[34mPrefer direct buffer: false\u001b[0m\n",
      "\u001b[34mAllowed Urls: [file://.*|http(s)?://.*]\u001b[0m\n",
      "\u001b[34mCustom python dependency for model allowed: false\u001b[0m\n",
      "\u001b[34mEnable metrics API: true\u001b[0m\n",
      "\u001b[34mMetrics mode: log\u001b[0m\n",
      "\u001b[34mDisable system metrics: true\u001b[0m\n",
      "\u001b[34mWorkflow Store: /.sagemaker/ts/models\u001b[0m\n",
      "\u001b[34mModel config: N/A\u001b[0m\n",
      "\u001b[34m2023-12-13T06:48:31,123 [INFO ] main org.pytorch.serve.servingsdk.impl.PluginsManager -  Loading snapshot serializer plugin...\u001b[0m\n",
      "\u001b[34m2023-12-13T06:48:31,143 [INFO ] main org.pytorch.serve.ModelServer - Loading initial models: /opt/ml/model\u001b[0m\n",
      "\u001b[34m2023-12-13T06:48:31,148 [WARN ] main org.pytorch.serve.archive.model.ModelArchive - Model archive version is not defined. Please upgrade to torch-model-archiver 0.2.0 or higher\u001b[0m\n",
      "\u001b[34m2023-12-13T06:48:31,149 [WARN ] main org.pytorch.serve.archive.model.ModelArchive - Model archive createdOn is not defined. Please upgrade to torch-model-archiver 0.2.0 or higher\u001b[0m\n",
      "\u001b[34m2023-12-13T06:48:31,152 [INFO ] main org.pytorch.serve.wlm.ModelManager - Model model loaded.\u001b[0m\n",
      "\u001b[34m2023-12-13T06:48:31,168 [INFO ] main org.pytorch.serve.ModelServer - Initialize Inference server with: EpollServerSocketChannel.\u001b[0m\n",
      "\u001b[34m2023-12-13T06:48:31,415 [INFO ] main org.pytorch.serve.ModelServer - Inference API bind to: http://0.0.0.0:8080\u001b[0m\n",
      "\u001b[34m2023-12-13T06:48:31,415 [INFO ] main org.pytorch.serve.ModelServer - Initialize Metrics server with: EpollServerSocketChannel.\u001b[0m\n",
      "\u001b[34m2023-12-13T06:48:31,461 [INFO ] main org.pytorch.serve.ModelServer - Metrics API bind to: http://127.0.0.1:8082\u001b[0m\n",
      "\u001b[34mModel server started.\u001b[0m\n",
      "\u001b[34m2023-12-13T06:48:33,948 [INFO ] W-9003-model_1.0-stdout MODEL_LOG - s_name_part0=/home/model-server/tmp/.ts.sock, s_name_part1=9003, pid=63\u001b[0m\n",
      "\u001b[34m2023-12-13T06:48:33,952 [INFO ] W-9003-model_1.0-stdout MODEL_LOG - Listening on port: /home/model-server/tmp/.ts.sock.9003\u001b[0m\n",
      "\u001b[34m2023-12-13T06:48:33,970 [INFO ] W-9007-model_1.0-stdout MODEL_LOG - s_name_part0=/home/model-server/tmp/.ts.sock, s_name_part1=9007, pid=68\u001b[0m\n",
      "\u001b[34m2023-12-13T06:48:33,972 [INFO ] W-9007-model_1.0-stdout MODEL_LOG - Listening on port: /home/model-server/tmp/.ts.sock.9007\u001b[0m\n",
      "\u001b[34m2023-12-13T06:48:33,983 [INFO ] W-9004-model_1.0-stdout MODEL_LOG - s_name_part0=/home/model-server/tmp/.ts.sock, s_name_part1=9004, pid=64\u001b[0m\n",
      "\u001b[34m2023-12-13T06:48:33,984 [INFO ] W-9004-model_1.0-stdout MODEL_LOG - Listening on port: /home/model-server/tmp/.ts.sock.9004\u001b[0m\n",
      "\u001b[34m2023-12-13T06:48:34,029 [INFO ] W-9001-model_1.0-stdout MODEL_LOG - s_name_part0=/home/model-server/tmp/.ts.sock, s_name_part1=9001, pid=65\u001b[0m\n",
      "\u001b[34m2023-12-13T06:48:34,030 [INFO ] W-9001-model_1.0-stdout MODEL_LOG - Listening on port: /home/model-server/tmp/.ts.sock.9001\u001b[0m\n",
      "\u001b[34m2023-12-13T06:48:34,045 [INFO ] W-9003-model_1.0-stdout MODEL_LOG - Successfully loaded /opt/conda/lib/python3.10/site-packages/ts/configs/metrics.yaml.\u001b[0m\n",
      "\u001b[34m2023-12-13T06:48:34,046 [INFO ] W-9003-model_1.0-stdout MODEL_LOG - [PID]63\u001b[0m\n",
      "\u001b[34m2023-12-13T06:48:34,046 [INFO ] W-9003-model_1.0-stdout MODEL_LOG - Torch worker started.\u001b[0m\n",
      "\u001b[34m2023-12-13T06:48:34,047 [INFO ] W-9002-model_1.0-stdout MODEL_LOG - s_name_part0=/home/model-server/tmp/.ts.sock, s_name_part1=9002, pid=66\u001b[0m\n",
      "\u001b[34m2023-12-13T06:48:34,048 [INFO ] W-9002-model_1.0-stdout MODEL_LOG - Listening on port: /home/model-server/tmp/.ts.sock.9002\u001b[0m\n",
      "\u001b[34m2023-12-13T06:48:34,047 [INFO ] W-9003-model_1.0-stdout MODEL_LOG - Python runtime: 3.10.9\u001b[0m\n",
      "\u001b[34m2023-12-13T06:48:34,052 [INFO ] W-9003-model_1.0 org.pytorch.serve.wlm.WorkerThread - Connecting to: /home/model-server/tmp/.ts.sock.9003\u001b[0m\n",
      "\u001b[34m2023-12-13T06:48:34,076 [INFO ] W-9003-model_1.0-stdout MODEL_LOG - Connection accepted: /home/model-server/tmp/.ts.sock.9003.\u001b[0m\n",
      "\u001b[34m2023-12-13T06:48:34,085 [INFO ] W-9003-model_1.0 org.pytorch.serve.wlm.WorkerThread - Flushing req.cmd LOAD to backend at: 1702450114085\u001b[0m\n",
      "\u001b[34m2023-12-13T06:48:34,108 [INFO ] W-9007-model_1.0-stdout MODEL_LOG - Successfully loaded /opt/conda/lib/python3.10/site-packages/ts/configs/metrics.yaml.\u001b[0m\n",
      "\u001b[34m2023-12-13T06:48:34,112 [INFO ] W-9006-model_1.0-stdout MODEL_LOG - s_name_part0=/home/model-server/tmp/.ts.sock, s_name_part1=9006, pid=67\u001b[0m\n",
      "\u001b[34m2023-12-13T06:48:34,113 [INFO ] W-9006-model_1.0-stdout MODEL_LOG - Listening on port: /home/model-server/tmp/.ts.sock.9006\u001b[0m\n",
      "\u001b[34m2023-12-13T06:48:34,125 [INFO ] W-9004-model_1.0-stdout MODEL_LOG - Successfully loaded /opt/conda/lib/python3.10/site-packages/ts/configs/metrics.yaml.\u001b[0m\n",
      "\u001b[34m2023-12-13T06:48:34,126 [INFO ] W-9007-model_1.0-stdout MODEL_LOG - [PID]68\u001b[0m\n",
      "\u001b[34m2023-12-13T06:48:34,126 [INFO ] W-9007-model_1.0-stdout MODEL_LOG - Torch worker started.\u001b[0m\n",
      "\u001b[34m2023-12-13T06:48:34,126 [INFO ] W-9004-model_1.0-stdout MODEL_LOG - [PID]64\u001b[0m\n",
      "\u001b[34m2023-12-13T06:48:34,127 [INFO ] W-9004-model_1.0-stdout MODEL_LOG - Torch worker started.\u001b[0m\n",
      "\u001b[34m2023-12-13T06:48:34,127 [INFO ] W-9007-model_1.0 org.pytorch.serve.wlm.WorkerThread - Connecting to: /home/model-server/tmp/.ts.sock.9007\u001b[0m\n",
      "\u001b[34m2023-12-13T06:48:34,127 [INFO ] W-9004-model_1.0 org.pytorch.serve.wlm.WorkerThread - Connecting to: /home/model-server/tmp/.ts.sock.9004\u001b[0m\n",
      "\u001b[34m2023-12-13T06:48:34,128 [INFO ] W-9007-model_1.0-stdout MODEL_LOG - Python runtime: 3.10.9\u001b[0m\n",
      "\u001b[34m2023-12-13T06:48:34,129 [INFO ] W-9004-model_1.0-stdout MODEL_LOG - Python runtime: 3.10.9\u001b[0m\n",
      "\u001b[34m2023-12-13T06:48:34,151 [INFO ] W-9002-model_1.0-stdout MODEL_LOG - Successfully loaded /opt/conda/lib/python3.10/site-packages/ts/configs/metrics.yaml.\u001b[0m\n",
      "\u001b[34m2023-12-13T06:48:34,152 [INFO ] W-9007-model_1.0-stdout MODEL_LOG - Connection accepted: /home/model-server/tmp/.ts.sock.9007.\u001b[0m\n",
      "\u001b[34m2023-12-13T06:48:34,152 [INFO ] W-9002-model_1.0-stdout MODEL_LOG - [PID]66\u001b[0m\n",
      "\u001b[34m2023-12-13T06:48:34,153 [INFO ] W-9007-model_1.0 org.pytorch.serve.wlm.WorkerThread - Flushing req.cmd LOAD to backend at: 1702450114153\u001b[0m\n",
      "\u001b[34m2023-12-13T06:48:34,153 [INFO ] W-9002-model_1.0-stdout MODEL_LOG - Torch worker started.\u001b[0m\n",
      "\u001b[34m2023-12-13T06:48:34,154 [INFO ] W-9002-model_1.0 org.pytorch.serve.wlm.WorkerThread - Connecting to: /home/model-server/tmp/.ts.sock.9002\u001b[0m\n",
      "\u001b[34m2023-12-13T06:48:34,155 [INFO ] W-9002-model_1.0-stdout MODEL_LOG - Python runtime: 3.10.9\u001b[0m\n",
      "\u001b[34m2023-12-13T06:48:34,158 [INFO ] W-9001-model_1.0-stdout MODEL_LOG - Successfully loaded /opt/conda/lib/python3.10/site-packages/ts/configs/metrics.yaml.\u001b[0m\n",
      "\u001b[34m2023-12-13T06:48:34,161 [INFO ] W-9001-model_1.0-stdout MODEL_LOG - [PID]65\u001b[0m\n",
      "\u001b[34m2023-12-13T06:48:34,161 [INFO ] W-9001-model_1.0-stdout MODEL_LOG - Torch worker started.\u001b[0m\n",
      "\u001b[34m2023-12-13T06:48:34,162 [INFO ] W-9001-model_1.0-stdout MODEL_LOG - Python runtime: 3.10.9\u001b[0m\n",
      "\u001b[34m2023-12-13T06:48:34,161 [INFO ] W-9001-model_1.0 org.pytorch.serve.wlm.WorkerThread - Connecting to: /home/model-server/tmp/.ts.sock.9001\u001b[0m\n",
      "\u001b[34m2023-12-13T06:48:34,166 [INFO ] W-9003-model_1.0-stdout MODEL_LOG - model_name: model, batchSize: 1\u001b[0m\n",
      "\u001b[34m2023-12-13T06:48:34,177 [INFO ] W-9004-model_1.0 org.pytorch.serve.wlm.WorkerThread - Flushing req.cmd LOAD to backend at: 1702450114177\u001b[0m\n",
      "\u001b[34m2023-12-13T06:48:34,177 [INFO ] W-9004-model_1.0-stdout MODEL_LOG - Connection accepted: /home/model-server/tmp/.ts.sock.9004.\u001b[0m\n",
      "\u001b[34m2023-12-13T06:48:34,177 [INFO ] W-9002-model_1.0 org.pytorch.serve.wlm.WorkerThread - Flushing req.cmd LOAD to backend at: 1702450114177\u001b[0m\n",
      "\u001b[34m2023-12-13T06:48:34,177 [INFO ] W-9002-model_1.0-stdout MODEL_LOG - Connection accepted: /home/model-server/tmp/.ts.sock.9002.\u001b[0m\n",
      "\u001b[34m2023-12-13T06:48:34,182 [INFO ] W-9005-model_1.0-stdout MODEL_LOG - s_name_part0=/home/model-server/tmp/.ts.sock, s_name_part1=9005, pid=69\u001b[0m\n",
      "\u001b[34m2023-12-13T06:48:34,183 [INFO ] W-9005-model_1.0-stdout MODEL_LOG - Listening on port: /home/model-server/tmp/.ts.sock.9005\u001b[0m\n",
      "\u001b[34m2023-12-13T06:48:34,195 [INFO ] W-9001-model_1.0 org.pytorch.serve.wlm.WorkerThread - Flushing req.cmd LOAD to backend at: 1702450114195\u001b[0m\n",
      "\u001b[34m2023-12-13T06:48:34,200 [INFO ] W-9001-model_1.0-stdout MODEL_LOG - Connection accepted: /home/model-server/tmp/.ts.sock.9001.\u001b[0m\n",
      "\u001b[34m2023-12-13T06:48:34,222 [INFO ] W-9004-model_1.0-stdout MODEL_LOG - model_name: model, batchSize: 1\u001b[0m\n",
      "\u001b[34m2023-12-13T06:48:34,227 [INFO ] W-9007-model_1.0-stdout MODEL_LOG - model_name: model, batchSize: 1\u001b[0m\n",
      "\u001b[34m2023-12-13T06:48:34,234 [INFO ] W-9002-model_1.0-stdout MODEL_LOG - model_name: model, batchSize: 1\u001b[0m\n",
      "\u001b[34m2023-12-13T06:48:34,258 [INFO ] W-9001-model_1.0-stdout MODEL_LOG - model_name: model, batchSize: 1\u001b[0m\n",
      "\u001b[34m2023-12-13T06:48:34,304 [INFO ] W-9006-model_1.0-stdout MODEL_LOG - Successfully loaded /opt/conda/lib/python3.10/site-packages/ts/configs/metrics.yaml.\u001b[0m\n",
      "\u001b[34m2023-12-13T06:48:34,306 [INFO ] W-9006-model_1.0-stdout MODEL_LOG - [PID]67\u001b[0m\n",
      "\u001b[34m2023-12-13T06:48:34,307 [INFO ] W-9006-model_1.0-stdout MODEL_LOG - Torch worker started.\u001b[0m\n",
      "\u001b[34m2023-12-13T06:48:34,307 [INFO ] W-9006-model_1.0 org.pytorch.serve.wlm.WorkerThread - Connecting to: /home/model-server/tmp/.ts.sock.9006\u001b[0m\n",
      "\u001b[34m2023-12-13T06:48:34,311 [INFO ] W-9006-model_1.0-stdout MODEL_LOG - Python runtime: 3.10.9\u001b[0m\n",
      "\u001b[34m2023-12-13T06:48:34,319 [INFO ] W-9006-model_1.0-stdout MODEL_LOG - Connection accepted: /home/model-server/tmp/.ts.sock.9006.\u001b[0m\n",
      "\u001b[34m2023-12-13T06:48:34,321 [INFO ] W-9006-model_1.0 org.pytorch.serve.wlm.WorkerThread - Flushing req.cmd LOAD to backend at: 1702450114321\u001b[0m\n",
      "\u001b[34m2023-12-13T06:48:34,369 [INFO ] W-9006-model_1.0-stdout MODEL_LOG - model_name: model, batchSize: 1\u001b[0m\n",
      "\u001b[34m2023-12-13T06:48:34,417 [INFO ] W-9000-model_1.0-stdout MODEL_LOG - s_name_part0=/home/model-server/tmp/.ts.sock, s_name_part1=9000, pid=62\u001b[0m\n",
      "\u001b[34m2023-12-13T06:48:34,418 [INFO ] W-9000-model_1.0-stdout MODEL_LOG - Listening on port: /home/model-server/tmp/.ts.sock.9000\u001b[0m\n",
      "\u001b[34m2023-12-13T06:48:34,434 [INFO ] W-9005-model_1.0-stdout MODEL_LOG - Successfully loaded /opt/conda/lib/python3.10/site-packages/ts/configs/metrics.yaml.\u001b[0m\n",
      "\u001b[34m2023-12-13T06:48:34,438 [INFO ] W-9005-model_1.0-stdout MODEL_LOG - [PID]69\u001b[0m\n",
      "\u001b[34m2023-12-13T06:48:34,439 [INFO ] W-9005-model_1.0-stdout MODEL_LOG - Torch worker started.\u001b[0m\n",
      "\u001b[34m2023-12-13T06:48:34,440 [INFO ] W-9005-model_1.0 org.pytorch.serve.wlm.WorkerThread - Connecting to: /home/model-server/tmp/.ts.sock.9005\u001b[0m\n",
      "\u001b[34m2023-12-13T06:48:34,443 [INFO ] W-9005-model_1.0-stdout MODEL_LOG - Python runtime: 3.10.9\u001b[0m\n",
      "\u001b[34m2023-12-13T06:48:34,447 [INFO ] W-9005-model_1.0-stdout MODEL_LOG - Connection accepted: /home/model-server/tmp/.ts.sock.9005.\u001b[0m\n",
      "\u001b[34m2023-12-13T06:48:34,451 [INFO ] W-9005-model_1.0 org.pytorch.serve.wlm.WorkerThread - Flushing req.cmd LOAD to backend at: 1702450114451\u001b[0m\n",
      "\u001b[34m2023-12-13T06:48:34,546 [INFO ] W-9005-model_1.0-stdout MODEL_LOG - model_name: model, batchSize: 1\u001b[0m\n",
      "\u001b[34m2023-12-13T06:48:34,680 [INFO ] W-9000-model_1.0-stdout MODEL_LOG - Successfully loaded /opt/conda/lib/python3.10/site-packages/ts/configs/metrics.yaml.\u001b[0m\n",
      "\u001b[34m2023-12-13T06:48:34,684 [INFO ] W-9000-model_1.0-stdout MODEL_LOG - [PID]62\u001b[0m\n",
      "\u001b[34m2023-12-13T06:48:34,685 [INFO ] W-9000-model_1.0-stdout MODEL_LOG - Torch worker started.\u001b[0m\n",
      "\u001b[34m2023-12-13T06:48:34,685 [INFO ] W-9000-model_1.0 org.pytorch.serve.wlm.WorkerThread - Connecting to: /home/model-server/tmp/.ts.sock.9000\u001b[0m\n",
      "\u001b[34m2023-12-13T06:48:34,686 [INFO ] W-9000-model_1.0-stdout MODEL_LOG - Python runtime: 3.10.9\u001b[0m\n",
      "\u001b[34m2023-12-13T06:48:34,703 [INFO ] W-9000-model_1.0-stdout MODEL_LOG - Connection accepted: /home/model-server/tmp/.ts.sock.9000.\u001b[0m\n",
      "\u001b[34m2023-12-13T06:48:34,705 [INFO ] W-9000-model_1.0 org.pytorch.serve.wlm.WorkerThread - Flushing req.cmd LOAD to backend at: 1702450114705\u001b[0m\n",
      "\u001b[34m2023-12-13T06:48:34,752 [INFO ] W-9000-model_1.0-stdout MODEL_LOG - model_name: model, batchSize: 1\u001b[0m\n",
      "\u001b[34m2023-12-13T06:48:35,009 [INFO ] W-9003-model_1.0 org.pytorch.serve.wlm.WorkerThread - Backend response time: 842\u001b[0m\n",
      "\u001b[34m2023-12-13T06:48:35,012 [INFO ] W-9003-model_1.0 TS_METRICS - WorkerLoadTime.Milliseconds:3848.0|#WorkerName:W-9003-model_1.0,Level:Host|#hostname:efc523b52c12,timestamp:1702450115\u001b[0m\n",
      "\u001b[34m2023-12-13T06:48:35,013 [INFO ] W-9003-model_1.0 TS_METRICS - WorkerThreadTime.Milliseconds:85.0|#Level:Host|#hostname:efc523b52c12,timestamp:1702450115\u001b[0m\n",
      "\u001b[34m2023-12-13T06:48:35,055 [INFO ] W-9001-model_1.0 org.pytorch.serve.wlm.WorkerThread - Backend response time: 789\u001b[0m\n",
      "\u001b[34m2023-12-13T06:48:35,055 [INFO ] W-9001-model_1.0 TS_METRICS - WorkerLoadTime.Milliseconds:3892.0|#WorkerName:W-9001-model_1.0,Level:Host|#hostname:efc523b52c12,timestamp:1702450115\u001b[0m\n",
      "\u001b[34m2023-12-13T06:48:35,056 [INFO ] W-9001-model_1.0 TS_METRICS - WorkerThreadTime.Milliseconds:72.0|#Level:Host|#hostname:efc523b52c12,timestamp:1702450115\u001b[0m\n",
      "\u001b[34m2023-12-13T06:48:35,087 [INFO ] W-9004-model_1.0 org.pytorch.serve.wlm.WorkerThread - Backend response time: 840\u001b[0m\n",
      "\u001b[34m2023-12-13T06:48:35,087 [INFO ] W-9004-model_1.0 TS_METRICS - WorkerLoadTime.Milliseconds:3923.0|#WorkerName:W-9004-model_1.0,Level:Host|#hostname:efc523b52c12,timestamp:1702450115\u001b[0m\n",
      "\u001b[34m2023-12-13T06:48:35,088 [INFO ] W-9004-model_1.0 TS_METRICS - WorkerThreadTime.Milliseconds:71.0|#Level:Host|#hostname:efc523b52c12,timestamp:1702450115\u001b[0m\n",
      "\u001b[34m2023-12-13T06:48:35,091 [INFO ] W-9007-model_1.0 org.pytorch.serve.wlm.WorkerThread - Backend response time: 864\u001b[0m\n",
      "\u001b[34m2023-12-13T06:48:35,091 [INFO ] W-9007-model_1.0 TS_METRICS - WorkerLoadTime.Milliseconds:3926.0|#WorkerName:W-9007-model_1.0,Level:Host|#hostname:efc523b52c12,timestamp:1702450115\u001b[0m\n",
      "\u001b[34m2023-12-13T06:48:35,092 [INFO ] W-9007-model_1.0 TS_METRICS - WorkerThreadTime.Milliseconds:75.0|#Level:Host|#hostname:efc523b52c12,timestamp:1702450115\u001b[0m\n",
      "\u001b[34m2023-12-13T06:48:35,101 [INFO ] W-9002-model_1.0 org.pytorch.serve.wlm.WorkerThread - Backend response time: 854\u001b[0m\n",
      "\u001b[34m2023-12-13T06:48:35,101 [INFO ] W-9002-model_1.0 TS_METRICS - WorkerLoadTime.Milliseconds:3938.0|#WorkerName:W-9002-model_1.0,Level:Host|#hostname:efc523b52c12,timestamp:1702450115\u001b[0m\n",
      "\u001b[34m2023-12-13T06:48:35,102 [INFO ] W-9002-model_1.0 TS_METRICS - WorkerThreadTime.Milliseconds:71.0|#Level:Host|#hostname:efc523b52c12,timestamp:1702450115\u001b[0m\n",
      "\u001b[34m2023-12-13T06:48:35,143 [INFO ] W-9005-model_1.0 org.pytorch.serve.wlm.WorkerThread - Backend response time: 597\u001b[0m\n",
      "\u001b[34m2023-12-13T06:48:35,143 [INFO ] W-9005-model_1.0 TS_METRICS - WorkerLoadTime.Milliseconds:3979.0|#WorkerName:W-9005-model_1.0,Level:Host|#hostname:efc523b52c12,timestamp:1702450115\u001b[0m\n",
      "\u001b[34m2023-12-13T06:48:35,144 [INFO ] W-9005-model_1.0 TS_METRICS - WorkerThreadTime.Milliseconds:96.0|#Level:Host|#hostname:efc523b52c12,timestamp:1702450115\u001b[0m\n",
      "\u001b[34m2023-12-13T06:48:35,190 [INFO ] W-9006-model_1.0 org.pytorch.serve.wlm.WorkerThread - Backend response time: 776\u001b[0m\n",
      "\u001b[34m2023-12-13T06:48:35,191 [INFO ] W-9006-model_1.0 TS_METRICS - WorkerLoadTime.Milliseconds:4026.0|#WorkerName:W-9006-model_1.0,Level:Host|#hostname:efc523b52c12,timestamp:1702450115\u001b[0m\n",
      "\u001b[34m2023-12-13T06:48:35,191 [INFO ] W-9006-model_1.0 TS_METRICS - WorkerThreadTime.Milliseconds:94.0|#Level:Host|#hostname:efc523b52c12,timestamp:1702450115\u001b[0m\n",
      "\u001b[34m2023-12-13T06:48:35,206 [INFO ] W-9000-model_1.0 org.pytorch.serve.wlm.WorkerThread - Backend response time: 441\u001b[0m\n",
      "\u001b[34m2023-12-13T06:48:35,207 [INFO ] W-9000-model_1.0 TS_METRICS - WorkerLoadTime.Milliseconds:4045.0|#WorkerName:W-9000-model_1.0,Level:Host|#hostname:efc523b52c12,timestamp:1702450115\u001b[0m\n",
      "\u001b[34m2023-12-13T06:48:35,207 [INFO ] W-9000-model_1.0 TS_METRICS - WorkerThreadTime.Milliseconds:61.0|#Level:Host|#hostname:efc523b52c12,timestamp:1702450115\u001b[0m\n",
      "\u001b[34m2023-12-13T06:48:36,646 [INFO ] pool-2-thread-9 ACCESS_LOG - /169.254.255.130:59834 \"GET /ping HTTP/1.1\" 200 11\u001b[0m\n",
      "\u001b[34m2023-12-13T06:48:36,646 [INFO ] pool-2-thread-9 TS_METRICS - Requests2XX.Count:1.0|#Level:Host|#hostname:efc523b52c12,timestamp:1702450116\u001b[0m\n",
      "\u001b[34m2023-12-13T06:48:36,666 [INFO ] epollEventLoopGroup-3-2 ACCESS_LOG - /169.254.255.130:59840 \"GET /execution-parameters HTTP/1.1\" 404 2\u001b[0m\n",
      "\u001b[34m2023-12-13T06:48:36,667 [INFO ] epollEventLoopGroup-3-2 TS_METRICS - Requests4XX.Count:1.0|#Level:Host|#hostname:efc523b52c12,timestamp:1702450116\u001b[0m\n",
      "\u001b[34m2023-12-13T06:48:36,732 [INFO ] epollEventLoopGroup-3-3 TS_METRICS - ts_inference_requests_total.Count:1.0|#model_name:model,model_version:default|#hostname:efc523b52c12,timestamp:1702450116\u001b[0m\n",
      "\u001b[34m2023-12-13T06:48:36,733 [INFO ] W-9003-model_1.0 org.pytorch.serve.wlm.WorkerThread - Flushing req.cmd PREDICT to backend at: 1702450116733\u001b[0m\n",
      "\u001b[34m2023-12-13T06:48:36,735 [INFO ] W-9003-model_1.0-stdout MODEL_LOG - Backend received inference at: 1702450116\u001b[0m\n",
      "\u001b[34m2023-12-13T06:48:36,906 [INFO ] W-9003-model_1.0-stdout org.pytorch.serve.wlm.WorkerLifeCycle - result=[METRICS]PredictionTime.Milliseconds:170.09|#ModelName:model,Level:Model|#hostname:efc523b52c12,1702450116,8e7c6160-864b-423f-ad97-65c1da3d91e0, pattern=[METRICS]\u001b[0m\n",
      "\u001b[34m2023-12-13T06:48:36,907 [INFO ] W-9003-model_1.0-stdout MODEL_METRICS - PredictionTime.ms:170.09|#ModelName:model,Level:Model|#hostname:efc523b52c12,requestID:8e7c6160-864b-423f-ad97-65c1da3d91e0,timestamp:1702450116\u001b[0m\n",
      "\u001b[34m2023-12-13T06:48:36,908 [INFO ] W-9003-model_1.0 ACCESS_LOG - /169.254.255.130:59850 \"POST /invocations HTTP/1.1\" 200 178\u001b[0m\n",
      "\u001b[34m2023-12-13T06:48:36,909 [INFO ] W-9003-model_1.0 TS_METRICS - Requests2XX.Count:1.0|#Level:Host|#hostname:efc523b52c12,timestamp:1702450116\u001b[0m\n",
      "\u001b[34m2023-12-13T06:48:36,909 [INFO ] W-9003-model_1.0 TS_METRICS - ts_inference_latency_microseconds.Microseconds:175495.867|#model_name:model,model_version:default|#hostname:efc523b52c12,timestamp:1702450116\u001b[0m\n",
      "\u001b[34m2023-12-13T06:48:36,910 [INFO ] W-9003-model_1.0 TS_METRICS - ts_queue_latency_microseconds.Microseconds:252.54|#model_name:model,model_version:default|#hostname:efc523b52c12,timestamp:1702450116\u001b[0m\n",
      "\u001b[34m2023-12-13T06:48:36,910 [INFO ] W-9003-model_1.0 TS_METRICS - QueueTime.Milliseconds:0.0|#Level:Host|#hostname:efc523b52c12,timestamp:1702450116\u001b[0m\n",
      "\u001b[34m2023-12-13T06:48:36,910 [INFO ] W-9003-model_1.0 org.pytorch.serve.wlm.WorkerThread - Backend response time: 174\u001b[0m\n",
      "\u001b[34m2023-12-13T06:48:36,911 [INFO ] W-9003-model_1.0 TS_METRICS - WorkerThreadTime.Milliseconds:4.0|#Level:Host|#hostname:efc523b52c12,timestamp:1702450116\u001b[0m\n",
      "\u001b[32m2023-12-13T06:48:36.672:[sagemaker logs]: MaxConcurrentTransforms=1, MaxPayloadInMB=6, BatchStrategy=MULTI_RECORD\u001b[0m\n",
      "\n"
     ]
    }
   ],
   "source": [
    "transformer.transform(\n",
    "    data=test_data,\n",
    "    content_type=\"text/csv\",\n",
    ")"
   ]
  },
  {
   "cell_type": "code",
   "execution_count": 49,
   "metadata": {
    "tags": []
   },
   "outputs": [],
   "source": [
    "batch_predictions = sagemaker_session.read_s3_file(\n",
    "    bucket=bucket,\n",
    "    key_prefix=f\"{transformer.latest_transform_job.name}/test.csv.out\"\n",
    ")\n",
    "\n",
    "batch_predictions = pd.read_csv(io.StringIO(batch_predictions), header=None, dtype=float)"
   ]
  },
  {
   "cell_type": "code",
   "execution_count": 50,
   "metadata": {
    "tags": []
   },
   "outputs": [
    {
     "data": {
      "text/plain": [
       "(5000, 3)"
      ]
     },
     "execution_count": 50,
     "metadata": {},
     "output_type": "execute_result"
    }
   ],
   "source": [
    "batch_predictions.shape"
   ]
  },
  {
   "cell_type": "code",
   "execution_count": 51,
   "metadata": {
    "tags": []
   },
   "outputs": [
    {
     "data": {
      "text/html": [
       "<div>\n",
       "<style scoped>\n",
       "    .dataframe tbody tr th:only-of-type {\n",
       "        vertical-align: middle;\n",
       "    }\n",
       "\n",
       "    .dataframe tbody tr th {\n",
       "        vertical-align: top;\n",
       "    }\n",
       "\n",
       "    .dataframe thead th {\n",
       "        text-align: right;\n",
       "    }\n",
       "</style>\n",
       "<table border=\"1\" class=\"dataframe\">\n",
       "  <thead>\n",
       "    <tr style=\"text-align: right;\">\n",
       "      <th></th>\n",
       "      <th>0</th>\n",
       "      <th>1</th>\n",
       "      <th>2</th>\n",
       "    </tr>\n",
       "  </thead>\n",
       "  <tbody>\n",
       "    <tr>\n",
       "      <th>0</th>\n",
       "      <td>0.213033</td>\n",
       "      <td>-10.082997</td>\n",
       "      <td>-10.008846</td>\n",
       "    </tr>\n",
       "    <tr>\n",
       "      <th>1</th>\n",
       "      <td>2.609459</td>\n",
       "      <td>-11.104548</td>\n",
       "      <td>-10.988354</td>\n",
       "    </tr>\n",
       "    <tr>\n",
       "      <th>2</th>\n",
       "      <td>0.374179</td>\n",
       "      <td>-12.088655</td>\n",
       "      <td>-11.942144</td>\n",
       "    </tr>\n",
       "    <tr>\n",
       "      <th>3</th>\n",
       "      <td>0.674115</td>\n",
       "      <td>-13.018567</td>\n",
       "      <td>-12.862983</td>\n",
       "    </tr>\n",
       "    <tr>\n",
       "      <th>4</th>\n",
       "      <td>0.016431</td>\n",
       "      <td>-13.878198</td>\n",
       "      <td>-13.741350</td>\n",
       "    </tr>\n",
       "  </tbody>\n",
       "</table>\n",
       "</div>"
      ],
      "text/plain": [
       "          0          1          2\n",
       "0  0.213033 -10.082997 -10.008846\n",
       "1  2.609459 -11.104548 -10.988354\n",
       "2  0.374179 -12.088655 -11.942144\n",
       "3  0.674115 -13.018567 -12.862983\n",
       "4  0.016431 -13.878198 -13.741350"
      ]
     },
     "execution_count": 51,
     "metadata": {},
     "output_type": "execute_result"
    }
   ],
   "source": [
    "batch_predictions.head()"
   ]
  },
  {
   "cell_type": "code",
   "execution_count": 52,
   "metadata": {
    "tags": []
   },
   "outputs": [
    {
     "data": {
      "text/html": [
       "<div>\n",
       "<style scoped>\n",
       "    .dataframe tbody tr th:only-of-type {\n",
       "        vertical-align: middle;\n",
       "    }\n",
       "\n",
       "    .dataframe tbody tr th {\n",
       "        vertical-align: top;\n",
       "    }\n",
       "\n",
       "    .dataframe thead th {\n",
       "        text-align: right;\n",
       "    }\n",
       "</style>\n",
       "<table border=\"1\" class=\"dataframe\">\n",
       "  <thead>\n",
       "    <tr style=\"text-align: right;\">\n",
       "      <th></th>\n",
       "      <th>0</th>\n",
       "      <th>1</th>\n",
       "      <th>2</th>\n",
       "    </tr>\n",
       "  </thead>\n",
       "  <tbody>\n",
       "    <tr>\n",
       "      <th>4995</th>\n",
       "      <td>0.569651</td>\n",
       "      <td>-6.276928</td>\n",
       "      <td>-6.373891</td>\n",
       "    </tr>\n",
       "    <tr>\n",
       "      <th>4996</th>\n",
       "      <td>0.951659</td>\n",
       "      <td>-7.366018</td>\n",
       "      <td>-7.371435</td>\n",
       "    </tr>\n",
       "    <tr>\n",
       "      <th>4997</th>\n",
       "      <td>1.287507</td>\n",
       "      <td>-8.471177</td>\n",
       "      <td>-8.356642</td>\n",
       "    </tr>\n",
       "    <tr>\n",
       "      <th>4998</th>\n",
       "      <td>1.147516</td>\n",
       "      <td>-9.265017</td>\n",
       "      <td>-9.136204</td>\n",
       "    </tr>\n",
       "    <tr>\n",
       "      <th>4999</th>\n",
       "      <td>1.174829</td>\n",
       "      <td>-10.226036</td>\n",
       "      <td>-10.182626</td>\n",
       "    </tr>\n",
       "  </tbody>\n",
       "</table>\n",
       "</div>"
      ],
      "text/plain": [
       "             0          1          2\n",
       "4995  0.569651  -6.276928  -6.373891\n",
       "4996  0.951659  -7.366018  -7.371435\n",
       "4997  1.287507  -8.471177  -8.356642\n",
       "4998  1.147516  -9.265017  -9.136204\n",
       "4999  1.174829 -10.226036 -10.182626"
      ]
     },
     "execution_count": 52,
     "metadata": {},
     "output_type": "execute_result"
    }
   ],
   "source": [
    "batch_predictions.tail()"
   ]
  },
  {
   "cell_type": "code",
   "execution_count": 53,
   "metadata": {
    "tags": []
   },
   "outputs": [
    {
     "data": {
      "text/plain": [
       "True"
      ]
     },
     "execution_count": 53,
     "metadata": {},
     "output_type": "execute_result"
    }
   ],
   "source": [
    "np.all(np.isclose(batch_predictions.values, real_time_predictions.values))"
   ]
  },
  {
   "cell_type": "code",
   "execution_count": 54,
   "metadata": {
    "tags": []
   },
   "outputs": [
    {
     "data": {
      "image/png": "[encoded data removed]",
      "text/plain": [
       "<Figure size 600x700 with 3 Axes>"
      ]
     },
     "metadata": {},
     "output_type": "display_data"
    }
   ],
   "source": [
    "fig, axs = plt.subplots(nrows=test_dataset.shape[1] + 1, ncols=1, sharex=True, figsize=(6, 7))\n",
    "for i in range(test_dataset.shape[1]):\n",
    "    axs[i].plot(test_dataset.iloc[:, i], color=\"#AFB8C1\", lw=0.5, label=\"Actual\" if i == 0 else None)\n",
    "    axs[i].plot(batch_predictions.iloc[:, i + 1], color=\"#009ad3\", lw=1, label=\"Reconstructed\" if i == 0 else None)\n",
    "    axs[i].set_title(f\"Time Series {i + 1}\", size=10)\n",
    "    axs[i].set(xlabel=\"Time\", ylabel=\"Value\")\n",
    "    axs[i].xaxis.set_tick_params(labelbottom=True)\n",
    "    axs[i].tick_params(axis=\"both\", which=\"major\", labelsize=7)\n",
    "    axs[i].tick_params(axis=\"both\", which=\"minor\", labelsize=7)\n",
    "i += 1\n",
    "axs[i].set_title(\"Anomaly Score\", size=10)\n",
    "axs[i].plot(batch_predictions.iloc[:, 0], color=\"#57606a\", lw=1)\n",
    "axs[i].set(xlabel=\"Time\", ylabel=\"Value\")\n",
    "axs[i].xaxis.set_tick_params(labelbottom=True)\n",
    "axs[i].tick_params(axis=\"both\", which=\"major\", labelsize=7)\n",
    "axs[i].tick_params(axis=\"both\", which=\"minor\", labelsize=7)\n",
    "fig.subplots_adjust(hspace=0.75)\n",
    "fig.suptitle(\"Batch Predictions on Test Dataset\")\n",
    "fig.legend(bbox_to_anchor=(1.2, 1, 0, 0), frameon=False)\n",
    "fig.show()"
   ]
  },
  {
   "cell_type": "code",
   "execution_count": 55,
   "metadata": {
    "tags": []
   },
   "outputs": [],
   "source": [
    "batch_results = sagemaker_session.upload_string_as_file_body(\n",
    "    body=batch_predictions.to_csv(index=False, header=False),\n",
    "    bucket=bucket,\n",
    "    key=\"data/inference/output/batch/batch_predictions.csv\"\n",
    ")"
   ]
  },
  {
   "cell_type": "code",
   "execution_count": 56,
   "metadata": {
    "tags": []
   },
   "outputs": [
    {
     "data": {
      "text/plain": [
       "'s3://sagemaker-eu-west-1-661670223746/data/inference/output/batch/batch_predictions.csv'"
      ]
     },
     "execution_count": 56,
     "metadata": {},
     "output_type": "execute_result"
    }
   ],
   "source": [
    "batch_results"
   ]
  },
  {
   "cell_type": "markdown",
   "metadata": {},
   "source": [
    "## 7. Clean-up"
   ]
  },
  {
   "cell_type": "markdown",
   "metadata": {},
   "source": [
    "### A. Delete the model"
   ]
  },
  {
   "cell_type": "code",
   "execution_count": 57,
   "metadata": {
    "tags": []
   },
   "outputs": [
    {
     "name": "stderr",
     "output_type": "stream",
     "text": [
      "INFO:sagemaker:Deleting model with name: lstm-ae-v1-4-2023-12-13-06-40-31-283-2023-12-13-06-41-16-746\n"
     ]
    }
   ],
   "source": [
    "transformer.delete_model()"
   ]
  },
  {
   "cell_type": "markdown",
   "metadata": {},
   "source": [
    "### B. Unsubscribe to the listing (optional)"
   ]
  },
  {
   "cell_type": "markdown",
   "metadata": {},
   "source": [
    "If you would like to unsubscribe to the algorithm, follow these steps. Before you cancel the subscription, ensure that you do not have any [deployable model](https://console.aws.amazon.com/sagemaker/home#/models) created from the model package or using the algorithm. Note - You can find this information by looking at the container name associated with the model. \n",
    "\n",
    "**Steps to unsubscribe to product from AWS Marketplace**:\n",
    "1. Navigate to __Machine Learning__ tab on [__Your Software subscriptions page__](https://aws.amazon.com/marketplace/ai/library?productType=ml&ref_=mlmp_gitdemo_indust)\n",
    "2. Locate the listing that you want to cancel the subscription for, and then choose __Cancel Subscription__  to cancel the subscription.\n",
    "\n"
   ]
  }
 ],
 "metadata": {
  "kernelspec": {
   "display_name": "Python 3 (ipykernel)",
   "language": "python",
   "name": "python3"
  },
  "language_info": {
   "codemirror_mode": {
    "name": "ipython",
    "version": 3
   },
   "file_extension": ".py",
   "mimetype": "text/x-python",
   "name": "python",
   "nbconvert_exporter": "python",
   "pygments_lexer": "ipython3",
   "version": "3.8.0"
  }
 },
 "nbformat": 4,
 "nbformat_minor": 4
}
