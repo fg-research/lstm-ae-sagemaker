{
 "cells": [
  {
   "cell_type": "markdown",
   "metadata": {},
   "source": [
    "# Train, tune, and deploy a custom ML model using the Time Series Anomaly Detection (LSTM-AE) Algorithm from AWS Marketplace"
   ]
  },
  {
   "cell_type": "markdown",
   "metadata": {},
   "source": [
    "The [Time Series Anomaly Detection (LSTM-AE) Algorithm from AWS Marketplace](https://aws.amazon.com/marketplace/pp/prodview-up2haipz3j472) performs time series anomaly detection with a Long Short-Term Memory Network Autoencoder (LSTM-AE). It implements both training and inference from CSV data and supports both CPU and GPU instances. The training and inference Docker images were built by extending the PyTorch 2.0 Python 3.10 SageMaker containers. \n",
    "\n",
    "#### Model Overview  \n",
    "The LSTM-AE model reconstructs the time series with an LSTM autoencoder.\n",
    "The encoder and decoder consist of a single LSTM layer and have the same number of hidden units.\n",
    "The encoder takes as input the time series and returns the hidden states.\n",
    "The hidden states of the encoder are used for initializing the hidden states of the decoder, which reconstructs the time series in reversed order. \n",
    "The autoencoder parameters are learned on a training set containing only normal data (i.e. without anomalies) by minimizing the mean squared error (MSE) between the actual and reconstructed values of the time series.\n",
    "\n",
    "After the model has been trained, a multivariate Gaussian distribution is fitted to the model's reconstruction errors on an independent validation set (also without anomalies) using Maximum Likelihood Estimation (MLE). \n",
    "At inference time, the model reconstructs the values of all the time series (which can now include anomalies) and calculates the squared Mahalanobis distance between the reconstruction errors and the Gaussian distribution previously estimated on normal data. \n",
    "The computed squared Mahalanobis distance is then used as an anomaly score: the larger the squared Mahalanobis distance at a given a time step, the more likely the time step is to be an anomaly.\n",
    "\n",
    "<img src=https://fg-research-assets.s3.eu-west-1.amazonaws.com/lstm-ae-diagram.png style=\"width:60%;margin-top:60px;margin-bottom:50px\"/> \n",
    "\n",
    "*LSTM-AE architecture (source: [doi: 10.48550/arXiv.1607.00148](https://doi.org/10.48550/arXiv.1607.00148))*\n",
    "\n",
    "#### Model Resources \n",
    "- **Paper:** [LSTM-based Encoder-Decoder for Multi-Sensor Anomaly Detection](https://doi.org/10.48550/arXiv.1607.00148).\n",
    "\n",
    "This sample notebook shows you how to train a custom ML model using the [Time Series Anomaly Detection (LSTM-AE) Algorithm from AWS Marketplace](https://aws.amazon.com/marketplace/pp/prodview-up2haipz3j472).\n",
    "\n",
    "**Note: This is a reference notebook and it cannot run unless you make the changes suggested in the notebook.**"
   ]
  },
  {
   "cell_type": "markdown",
   "metadata": {},
   "source": [
    "## Pre-requisites\n",
    "1. This notebook contains elements which render correctly in Jupyter interface. Open this notebook from an Amazon SageMaker Notebook Instance or Amazon SageMaker Studio.\n",
    "1. Ensure that IAM role used has **AmazonSageMakerFullAccess**\n",
    "1. Some hands-on experience using [Amazon SageMaker](https://aws.amazon.com/sagemaker/).\n",
    "1. To use this algorithm successfully, ensure that:\n",
    "    1. Either your IAM role has these three permissions and you have authority to make AWS Marketplace subscriptions in the AWS account used: \n",
    "        1. **aws-marketplace:ViewSubscriptions**\n",
    "        1. **aws-marketplace:Unsubscribe**\n",
    "        1. **aws-marketplace:Subscribe**  \n",
    "    2. or your AWS account has a subscription to the [Time Series Anomaly Detection (LSTM-AE) Algorithm from AWS Marketplace](https://aws.amazon.com/marketplace/pp/prodview-up2haipz3j472)"
   ]
  },
  {
   "cell_type": "markdown",
   "metadata": {},
   "source": [
    "## Contents\n",
    "1. [Subscribe to the algorithm](#1.-Subscribe-to-the-algorithm)\n",
    "1. [Prepare dataset](#2.-Prepare-dataset)\n",
    "\t1. [Dataset format expected by the algorithm](#A.-Dataset-format-expected-by-the-algorithm)\n",
    "\t1. [Configure and visualize train and test dataset](#B.-Configure-and-visualize-train-and-test-dataset)\n",
    "\t1. [Upload datasets to Amazon S3](#C.-Upload-datasets-to-Amazon-S3)\n",
    "1. [Train a machine learning model](#3:-Train-a-machine-learning-model)\n",
    "\t1. [Set up environment](#3.1-Set-up-environment)\n",
    "\t1. [Train a model](#3.2-Train-a-model)\n",
    "1. [Deploy model and verify results](#4:-Deploy-model-and-verify-results)\n",
    "    1. [Deploy trained model](#A.-Deploy-trained-model)\n",
    "    1. [Create input payload](#B.-Create-input-payload)\n",
    "    1. [Perform real-time inference](#C.-Perform-real-time-inference)\n",
    "    1. [Visualize output](#D.-Visualize-output)\n",
    "    1. [Calculate relevant metrics](#E.-Calculate-relevant-metrics)\n",
    "    1. [Delete the endpoint](#F.-Delete-the-endpoint)\n",
    "1. [Tune your model! (optional)](#5:-Tune-your-model!-(optional))\n",
    "\t1. [Tuning Guidelines](#A.-Tuning-Guidelines)\n",
    "\t1. [Define Tuning configuration](#B.-Define-Tuning-configuration)\n",
    "\t1. [Run a model tuning job](#C.-Run-a-model-tuning-job)\n",
    "1. [Perform Batch inference](#6.-Perform-Batch-inference)\n",
    "1. [Clean-up](#7.-Clean-up)\n",
    "\t1. [Delete the model](#A.-Delete-the-model)\n",
    "\t1. [Unsubscribe to the listing (optional)](#B.-Unsubscribe-to-the-listing-(optional))\n",
    "\n",
    "\n",
    "## Usage instructions\n",
    "You can run this notebook one cell at a time (by using Shift+Enter for running a cell)."
   ]
  },
  {
   "cell_type": "markdown",
   "metadata": {},
   "source": [
    "## 1. Subscribe to the algorithm"
   ]
  },
  {
   "cell_type": "markdown",
   "metadata": {},
   "source": [
    "To subscribe to the algorithm:\n",
    "1. Open the algorithm listing page.\n",
    "1. On the AWS Marketplace listing, click on the **Continue to subscribe** button.\n",
    "1. On the **Subscribe to this software** page, review and click on **\"Accept Offer\"** if you agree with EULA, pricing, and support terms. \n",
    "1. Once you click on the **Continue to configuration** button and then choose a **region**, you will see a **Product ARN**. This is the algorithm ARN that you need to specify while training a custom ML model. **Copy the ARN corresponding to your region and specify the same in the following cell.**"
   ]
  },
  {
   "cell_type": "code",
   "execution_count": 1,
   "metadata": {
    "tags": []
   },
   "outputs": [],
   "source": [
    "algo_arn = \"arn:aws:sagemaker:eu-west-1:661670223746:algorithm/lstm-ae-algo-v1-2\""
   ]
  },
  {
   "cell_type": "markdown",
   "metadata": {},
   "source": [
    "## 2. Prepare dataset"
   ]
  },
  {
   "cell_type": "code",
   "execution_count": 2,
   "metadata": {
    "tags": []
   },
   "outputs": [],
   "source": [
    "import io\n",
    "import datetime\n",
    "import boto3\n",
    "import sagemaker\n",
    "import pandas as pd\n",
    "import numpy as np\n",
    "import matplotlib.pyplot as plt"
   ]
  },
  {
   "cell_type": "code",
   "execution_count": 3,
   "metadata": {
    "tags": []
   },
   "outputs": [
    {
     "data": {
      "text/plain": [
       "'sagemaker-eu-west-1-661670223746'"
      ]
     },
     "execution_count": 3,
     "metadata": {},
     "output_type": "execute_result"
    }
   ],
   "source": [
    "# S3 bucket\n",
    "sagemaker_session = sagemaker.Session()\n",
    "bucket = sagemaker_session.default_bucket()\n",
    "bucket"
   ]
  },
  {
   "cell_type": "code",
   "execution_count": 4,
   "metadata": {
    "tags": []
   },
   "outputs": [],
   "source": [
    "# EC2 instance\n",
    "instance_type = \"ml.m5.2xlarge\""
   ]
  },
  {
   "cell_type": "markdown",
   "metadata": {},
   "source": [
    "### A. Dataset format expected by the algorithm"
   ]
  },
  {
   "cell_type": "markdown",
   "metadata": {},
   "source": [
    "The training and validation datasets should be provided as CSV files. \n",
    "Each column of the CSV file represents a time series, while each row represents a time step.\n",
    "All the time series should have the same length and should not contain missing values.\n",
    "The CSV file should not contain any index column or column headers. \n",
    "\n",
    "You can find more information about dataset format in the **Usage Information** section of the algorithm listing page."
   ]
  },
  {
   "cell_type": "markdown",
   "metadata": {},
   "source": [
    "### B. Configure and visualize train and test dataset"
   ]
  },
  {
   "cell_type": "markdown",
   "metadata": {},
   "source": [
    "The sample data provided in the algorithm's [GitHub repository](https://github.com/fg-research/lstm-ae-sagemaker) consists of two artificially generated time series. The training dataset contains 15000 samples, while the validation and test datasets contain 5000 samples. "
   ]
  },
  {
   "cell_type": "markdown",
   "metadata": {
    "tags": []
   },
   "source": [
    "**Training dataset:**"
   ]
  },
  {
   "cell_type": "code",
   "execution_count": 5,
   "metadata": {
    "tags": []
   },
   "outputs": [],
   "source": [
    "training_dataset = pd.read_csv(\n",
    "    \"https://raw.githubusercontent.com/fg-research/lstm-ae-sagemaker/master/data/training/train.csv\",\n",
    "    header=None,\n",
    "    index_col=None\n",
    ")"
   ]
  },
  {
   "cell_type": "code",
   "execution_count": 6,
   "metadata": {
    "tags": []
   },
   "outputs": [
    {
     "data": {
      "text/plain": [
       "(15000, 2)"
      ]
     },
     "execution_count": 6,
     "metadata": {},
     "output_type": "execute_result"
    }
   ],
   "source": [
    "training_dataset.shape"
   ]
  },
  {
   "cell_type": "code",
   "execution_count": 7,
   "metadata": {
    "tags": []
   },
   "outputs": [
    {
     "data": {
      "text/html": [
       "<div>\n",
       "<style scoped>\n",
       "    .dataframe tbody tr th:only-of-type {\n",
       "        vertical-align: middle;\n",
       "    }\n",
       "\n",
       "    .dataframe tbody tr th {\n",
       "        vertical-align: top;\n",
       "    }\n",
       "\n",
       "    .dataframe thead th {\n",
       "        text-align: right;\n",
       "    }\n",
       "</style>\n",
       "<table border=\"1\" class=\"dataframe\">\n",
       "  <thead>\n",
       "    <tr style=\"text-align: right;\">\n",
       "      <th></th>\n",
       "      <th>0</th>\n",
       "      <th>1</th>\n",
       "    </tr>\n",
       "  </thead>\n",
       "  <tbody>\n",
       "    <tr>\n",
       "      <th>0</th>\n",
       "      <td>-10.302054</td>\n",
       "      <td>-9.879548</td>\n",
       "    </tr>\n",
       "    <tr>\n",
       "      <th>1</th>\n",
       "      <td>-9.761644</td>\n",
       "      <td>-11.455176</td>\n",
       "    </tr>\n",
       "    <tr>\n",
       "      <th>2</th>\n",
       "      <td>-10.185059</td>\n",
       "      <td>-12.195165</td>\n",
       "    </tr>\n",
       "    <tr>\n",
       "      <th>3</th>\n",
       "      <td>-12.834404</td>\n",
       "      <td>-10.253211</td>\n",
       "    </tr>\n",
       "    <tr>\n",
       "      <th>4</th>\n",
       "      <td>-13.341993</td>\n",
       "      <td>-13.015417</td>\n",
       "    </tr>\n",
       "  </tbody>\n",
       "</table>\n",
       "</div>"
      ],
      "text/plain": [
       "           0          1\n",
       "0 -10.302054  -9.879548\n",
       "1  -9.761644 -11.455176\n",
       "2 -10.185059 -12.195165\n",
       "3 -12.834404 -10.253211\n",
       "4 -13.341993 -13.015417"
      ]
     },
     "execution_count": 7,
     "metadata": {},
     "output_type": "execute_result"
    }
   ],
   "source": [
    "training_dataset.head()"
   ]
  },
  {
   "cell_type": "code",
   "execution_count": 8,
   "metadata": {
    "tags": []
   },
   "outputs": [
    {
     "data": {
      "image/png": "[encoded data removed]",
      "text/plain": [
       "<Figure size 640x480 with 2 Axes>"
      ]
     },
     "metadata": {},
     "output_type": "display_data"
    }
   ],
   "source": [
    "fig, axs = plt.subplots(nrows=training_dataset.shape[1], ncols=1, sharex=True)\n",
    "for i in range(training_dataset.shape[1]):\n",
    "    axs[i].plot(training_dataset.iloc[:, i], color=\"#AFB8C1\", lw=1)\n",
    "    axs[i].set_title(f\"Time Series {i + 1}\", size=10)\n",
    "    axs[i].set(xlabel=\"Time\", ylabel=\"Value\")\n",
    "    axs[i].xaxis.set_tick_params(labelbottom=True)\n",
    "    axs[i].tick_params(axis=\"both\", which=\"major\", labelsize=7)\n",
    "    axs[i].tick_params(axis=\"both\", which=\"minor\", labelsize=7)\n",
    "fig.subplots_adjust(hspace=0.75)\n",
    "fig.suptitle(\"Training Dataset\")\n",
    "fig.show()"
   ]
  },
  {
   "cell_type": "markdown",
   "metadata": {},
   "source": [
    "**Validation dataset:**"
   ]
  },
  {
   "cell_type": "code",
   "execution_count": 9,
   "metadata": {
    "tags": []
   },
   "outputs": [],
   "source": [
    "validation_dataset = pd.read_csv(\n",
    "    \"https://raw.githubusercontent.com/fg-research/lstm-ae-sagemaker/master/data/training/valid.csv\",\n",
    "    header=None,\n",
    "    index_col=None\n",
    ")"
   ]
  },
  {
   "cell_type": "code",
   "execution_count": 10,
   "metadata": {
    "tags": []
   },
   "outputs": [
    {
     "data": {
      "text/plain": [
       "(5000, 2)"
      ]
     },
     "execution_count": 10,
     "metadata": {},
     "output_type": "execute_result"
    }
   ],
   "source": [
    "validation_dataset.shape"
   ]
  },
  {
   "cell_type": "code",
   "execution_count": 11,
   "metadata": {
    "tags": []
   },
   "outputs": [
    {
     "data": {
      "text/html": [
       "<div>\n",
       "<style scoped>\n",
       "    .dataframe tbody tr th:only-of-type {\n",
       "        vertical-align: middle;\n",
       "    }\n",
       "\n",
       "    .dataframe tbody tr th {\n",
       "        vertical-align: top;\n",
       "    }\n",
       "\n",
       "    .dataframe thead th {\n",
       "        text-align: right;\n",
       "    }\n",
       "</style>\n",
       "<table border=\"1\" class=\"dataframe\">\n",
       "  <thead>\n",
       "    <tr style=\"text-align: right;\">\n",
       "      <th></th>\n",
       "      <th>0</th>\n",
       "      <th>1</th>\n",
       "    </tr>\n",
       "  </thead>\n",
       "  <tbody>\n",
       "    <tr>\n",
       "      <th>0</th>\n",
       "      <td>-9.728953</td>\n",
       "      <td>-11.809606</td>\n",
       "    </tr>\n",
       "    <tr>\n",
       "      <th>1</th>\n",
       "      <td>-11.821012</td>\n",
       "      <td>-12.637485</td>\n",
       "    </tr>\n",
       "    <tr>\n",
       "      <th>2</th>\n",
       "      <td>-11.422567</td>\n",
       "      <td>-11.136945</td>\n",
       "    </tr>\n",
       "    <tr>\n",
       "      <th>3</th>\n",
       "      <td>-12.757596</td>\n",
       "      <td>-14.022805</td>\n",
       "    </tr>\n",
       "    <tr>\n",
       "      <th>4</th>\n",
       "      <td>-13.126208</td>\n",
       "      <td>-12.558090</td>\n",
       "    </tr>\n",
       "  </tbody>\n",
       "</table>\n",
       "</div>"
      ],
      "text/plain": [
       "           0          1\n",
       "0  -9.728953 -11.809606\n",
       "1 -11.821012 -12.637485\n",
       "2 -11.422567 -11.136945\n",
       "3 -12.757596 -14.022805\n",
       "4 -13.126208 -12.558090"
      ]
     },
     "execution_count": 11,
     "metadata": {},
     "output_type": "execute_result"
    }
   ],
   "source": [
    "validation_dataset.head()"
   ]
  },
  {
   "cell_type": "code",
   "execution_count": 12,
   "metadata": {
    "tags": []
   },
   "outputs": [
    {
     "data": {
      "image/png": "[encoded data removed]",
      "text/plain": [
       "<Figure size 640x480 with 2 Axes>"
      ]
     },
     "metadata": {},
     "output_type": "display_data"
    }
   ],
   "source": [
    "fig, axs = plt.subplots(nrows=validation_dataset.shape[1], ncols=1, sharex=True)\n",
    "for i in range(validation_dataset.shape[1]):\n",
    "    axs[i].plot(validation_dataset.iloc[:, i], color=\"#AFB8C1\", lw=1)\n",
    "    axs[i].set_title(f\"Time Series {i + 1}\", size=10)\n",
    "    axs[i].set(xlabel=\"Time\", ylabel=\"Value\")\n",
    "    axs[i].xaxis.set_tick_params(labelbottom=True)\n",
    "    axs[i].tick_params(axis=\"both\", which=\"major\", labelsize=7)\n",
    "    axs[i].tick_params(axis=\"both\", which=\"minor\", labelsize=7)\n",
    "fig.subplots_adjust(hspace=0.75)\n",
    "fig.suptitle(\"Validation Dataset\")\n",
    "fig.show()"
   ]
  },
  {
   "cell_type": "markdown",
   "metadata": {},
   "source": [
    "### C. Upload datasets to Amazon S3"
   ]
  },
  {
   "cell_type": "code",
   "execution_count": 13,
   "metadata": {
    "tags": []
   },
   "outputs": [],
   "source": [
    "training_data = sagemaker_session.upload_string_as_file_body(\n",
    "    body=training_dataset.to_csv(index=False, header=False),\n",
    "    bucket=bucket,\n",
    "    key=\"data/training/train.csv\"\n",
    ")"
   ]
  },
  {
   "cell_type": "code",
   "execution_count": 14,
   "metadata": {
    "tags": []
   },
   "outputs": [
    {
     "data": {
      "text/plain": [
       "'s3://sagemaker-eu-west-1-661670223746/data/training/train.csv'"
      ]
     },
     "execution_count": 14,
     "metadata": {},
     "output_type": "execute_result"
    }
   ],
   "source": [
    "training_data"
   ]
  },
  {
   "cell_type": "code",
   "execution_count": 15,
   "metadata": {
    "tags": []
   },
   "outputs": [],
   "source": [
    "validation_data = sagemaker_session.upload_string_as_file_body(\n",
    "    body=validation_dataset.to_csv(index=False, header=False),\n",
    "    bucket=bucket,\n",
    "    key=\"data/training/valid.csv\"\n",
    ")"
   ]
  },
  {
   "cell_type": "code",
   "execution_count": 16,
   "metadata": {
    "tags": []
   },
   "outputs": [
    {
     "data": {
      "text/plain": [
       "'s3://sagemaker-eu-west-1-661670223746/data/training/valid.csv'"
      ]
     },
     "execution_count": 16,
     "metadata": {},
     "output_type": "execute_result"
    }
   ],
   "source": [
    "validation_data"
   ]
  },
  {
   "cell_type": "markdown",
   "metadata": {},
   "source": [
    "## 3: Train a machine learning model"
   ]
  },
  {
   "cell_type": "markdown",
   "metadata": {},
   "source": [
    "Now that dataset is available in an accessible Amazon S3 bucket, we are ready to train a machine learning model. "
   ]
  },
  {
   "cell_type": "markdown",
   "metadata": {},
   "source": [
    "### 3.1 Set up environment"
   ]
  },
  {
   "cell_type": "code",
   "execution_count": 17,
   "metadata": {
    "tags": []
   },
   "outputs": [],
   "source": [
    "role = sagemaker.get_execution_role()"
   ]
  },
  {
   "cell_type": "markdown",
   "metadata": {},
   "source": [
    "### 3.2 Train a model"
   ]
  },
  {
   "cell_type": "markdown",
   "metadata": {},
   "source": [
    "You can find more information about the model's hyperparameters in the **Hyperparameters** section of the algorithm listing page."
   ]
  },
  {
   "cell_type": "code",
   "execution_count": 18,
   "metadata": {
    "tags": []
   },
   "outputs": [],
   "source": [
    "# define hyperparameters\n",
    "hyperparameters = {\n",
    "    \"sequence-length\": 100,\n",
    "    \"sequence-stride\": 50,\n",
    "    \"hidden-size\": 64,\n",
    "    \"lr\": 0.001,\n",
    "    \"batch-size\": 32,\n",
    "    \"epochs\": 100,\n",
    "}"
   ]
  },
  {
   "cell_type": "markdown",
   "metadata": {},
   "source": [
    "For information on creating an `Estimator` object, see the [documentation](https://sagemaker.readthedocs.io/en/stable/api/training/estimators.html)."
   ]
  },
  {
   "cell_type": "code",
   "execution_count": 19,
   "metadata": {
    "tags": []
   },
   "outputs": [
    {
     "name": "stderr",
     "output_type": "stream",
     "text": [
      "NOTEBOOK_METADATA_FILE detected but failed to get valid domain and user from it.\n"
     ]
    }
   ],
   "source": [
    "# create an estimator object for running a training job\n",
    "estimator = sagemaker.algorithm.AlgorithmEstimator(\n",
    "    algorithm_arn=algo_arn,\n",
    "    base_job_name=\"lstm-ae-training\",\n",
    "    role=role,\n",
    "    instance_count=1,\n",
    "    instance_type=instance_type,\n",
    "    input_mode=\"File\",\n",
    "    sagemaker_session=sagemaker_session,\n",
    "    hyperparameters=hyperparameters\n",
    ")"
   ]
  },
  {
   "cell_type": "code",
   "execution_count": 20,
   "metadata": {
    "tags": []
   },
   "outputs": [
    {
     "name": "stderr",
     "output_type": "stream",
     "text": [
      "INFO:sagemaker:Creating training-job with name: lstm-ae-training-2023-10-03-14-46-09-004\n"
     ]
    },
    {
     "name": "stdout",
     "output_type": "stream",
     "text": [
      "2023-10-03 14:46:09 Starting - Starting the training job...\n",
      "2023-10-03 14:46:24 Starting - Preparing the instances for training......\n",
      "2023-10-03 14:47:18 Downloading - Downloading input data...\n",
      "2023-10-03 14:47:43 Training - Downloading the training image..................\n",
      "2023-10-03 14:51:04 Training - Training image download completed. Training in progress.....\u001b[34mbash: cannot set terminal process group (-1): Inappropriate ioctl for device\u001b[0m\n",
      "\u001b[34mbash: no job control in this shell\u001b[0m\n",
      "\u001b[34m2023-10-03 14:51:36,902 sagemaker-training-toolkit INFO     Imported framework sagemaker_pytorch_container.training\u001b[0m\n",
      "\u001b[34m2023-10-03 14:51:36,903 sagemaker-training-toolkit INFO     No GPUs detected (normal if no gpus installed)\u001b[0m\n",
      "\u001b[34m2023-10-03 14:51:36,904 sagemaker-training-toolkit INFO     No Neurons detected (normal if no neurons installed)\u001b[0m\n",
      "\u001b[34m2023-10-03 14:51:36,913 sagemaker_pytorch_container.training INFO     Block until all host DNS lookups succeed.\u001b[0m\n",
      "\u001b[34m2023-10-03 14:51:36,915 sagemaker_pytorch_container.training INFO     Invoking user training script.\u001b[0m\n",
      "\u001b[34m2023-10-03 14:51:38,221 sagemaker-training-toolkit INFO     No GPUs detected (normal if no gpus installed)\u001b[0m\n",
      "\u001b[34m2023-10-03 14:51:38,222 sagemaker-training-toolkit INFO     No Neurons detected (normal if no neurons installed)\u001b[0m\n",
      "\u001b[34m2023-10-03 14:51:38,234 sagemaker-training-toolkit INFO     No GPUs detected (normal if no gpus installed)\u001b[0m\n",
      "\u001b[34m2023-10-03 14:51:38,234 sagemaker-training-toolkit INFO     No Neurons detected (normal if no neurons installed)\u001b[0m\n",
      "\u001b[34m2023-10-03 14:51:38,244 sagemaker-training-toolkit INFO     No GPUs detected (normal if no gpus installed)\u001b[0m\n",
      "\u001b[34m2023-10-03 14:51:38,245 sagemaker-training-toolkit INFO     No Neurons detected (normal if no neurons installed)\u001b[0m\n",
      "\u001b[34m2023-10-03 14:51:38,255 sagemaker-training-toolkit INFO     Invoking user script\u001b[0m\n",
      "\u001b[34mTraining Env:\u001b[0m\n",
      "\u001b[34m{\n",
      "    \"additional_framework_parameters\": {},\n",
      "    \"channel_input_dirs\": {\n",
      "        \"training\": \"/opt/ml/input/data/training\",\n",
      "        \"validation\": \"/opt/ml/input/data/validation\"\n",
      "    },\n",
      "    \"current_host\": \"algo-1\",\n",
      "    \"current_instance_group\": \"homogeneousCluster\",\n",
      "    \"current_instance_group_hosts\": [\n",
      "        \"algo-1\"\n",
      "    ],\n",
      "    \"current_instance_type\": \"ml.m5.2xlarge\",\n",
      "    \"distribution_hosts\": [],\n",
      "    \"distribution_instance_groups\": [],\n",
      "    \"framework_module\": \"sagemaker_pytorch_container.training:main\",\n",
      "    \"hosts\": [\n",
      "        \"algo-1\"\n",
      "    ],\n",
      "    \"hyperparameters\": {\n",
      "        \"batch-size\": 32,\n",
      "        \"epochs\": 100,\n",
      "        \"hidden-size\": 64,\n",
      "        \"lr\": 0.001,\n",
      "        \"sequence-length\": 100,\n",
      "        \"sequence-stride\": 50\n",
      "    },\n",
      "    \"input_config_dir\": \"/opt/ml/input/config\",\n",
      "    \"input_data_config\": {\n",
      "        \"training\": {\n",
      "            \"TrainingInputMode\": \"File\",\n",
      "            \"S3DistributionType\": \"FullyReplicated\",\n",
      "            \"RecordWrapperType\": \"None\"\n",
      "        },\n",
      "        \"validation\": {\n",
      "            \"TrainingInputMode\": \"File\",\n",
      "            \"S3DistributionType\": \"FullyReplicated\",\n",
      "            \"RecordWrapperType\": \"None\"\n",
      "        }\n",
      "    },\n",
      "    \"input_dir\": \"/opt/ml/input\",\n",
      "    \"instance_groups\": [\n",
      "        \"homogeneousCluster\"\n",
      "    ],\n",
      "    \"instance_groups_dict\": {\n",
      "        \"homogeneousCluster\": {\n",
      "            \"instance_group_name\": \"homogeneousCluster\",\n",
      "            \"instance_type\": \"ml.m5.2xlarge\",\n",
      "            \"hosts\": [\n",
      "                \"algo-1\"\n",
      "            ]\n",
      "        }\n",
      "    },\n",
      "    \"is_hetero\": false,\n",
      "    \"is_master\": true,\n",
      "    \"is_modelparallel_enabled\": null,\n",
      "    \"is_smddpmprun_installed\": true,\n",
      "    \"job_name\": \"lstm-ae-training-2023-10-03-14-46-09-004\",\n",
      "    \"log_level\": 20,\n",
      "    \"master_hostname\": \"algo-1\",\n",
      "    \"model_dir\": \"/opt/ml/model\",\n",
      "    \"module_dir\": \"/opt/ml/code\",\n",
      "    \"module_name\": \"training\",\n",
      "    \"network_interface_name\": \"eth0\",\n",
      "    \"num_cpus\": 8,\n",
      "    \"num_gpus\": 0,\n",
      "    \"num_neurons\": 0,\n",
      "    \"output_data_dir\": \"/opt/ml/output/data\",\n",
      "    \"output_dir\": \"/opt/ml/output\",\n",
      "    \"output_intermediate_dir\": \"/opt/ml/output/intermediate\",\n",
      "    \"resource_config\": {\n",
      "        \"current_host\": \"algo-1\",\n",
      "        \"current_instance_type\": \"ml.m5.2xlarge\",\n",
      "        \"current_group_name\": \"homogeneousCluster\",\n",
      "        \"hosts\": [\n",
      "            \"algo-1\"\n",
      "        ],\n",
      "        \"instance_groups\": [\n",
      "            {\n",
      "                \"instance_group_name\": \"homogeneousCluster\",\n",
      "                \"instance_type\": \"ml.m5.2xlarge\",\n",
      "                \"hosts\": [\n",
      "                    \"algo-1\"\n",
      "                ]\n",
      "            }\n",
      "        ],\n",
      "        \"network_interface_name\": \"eth0\"\n",
      "    },\n",
      "    \"user_entry_point\": \"training.py\"\u001b[0m\n",
      "\u001b[34m}\u001b[0m\n",
      "\u001b[34mEnvironment variables:\u001b[0m\n",
      "\u001b[34mSM_HOSTS=[\"algo-1\"]\u001b[0m\n",
      "\u001b[34mSM_NETWORK_INTERFACE_NAME=eth0\u001b[0m\n",
      "\u001b[34mSM_HPS={\"batch-size\":32,\"epochs\":100,\"hidden-size\":64,\"lr\":0.001,\"sequence-length\":100,\"sequence-stride\":50}\u001b[0m\n",
      "\u001b[34mSM_USER_ENTRY_POINT=training.py\u001b[0m\n",
      "\u001b[34mSM_FRAMEWORK_PARAMS={}\u001b[0m\n",
      "\u001b[34mSM_RESOURCE_CONFIG={\"current_group_name\":\"homogeneousCluster\",\"current_host\":\"algo-1\",\"current_instance_type\":\"ml.m5.2xlarge\",\"hosts\":[\"algo-1\"],\"instance_groups\":[{\"hosts\":[\"algo-1\"],\"instance_group_name\":\"homogeneousCluster\",\"instance_type\":\"ml.m5.2xlarge\"}],\"network_interface_name\":\"eth0\"}\u001b[0m\n",
      "\u001b[34mSM_INPUT_DATA_CONFIG={\"training\":{\"RecordWrapperType\":\"None\",\"S3DistributionType\":\"FullyReplicated\",\"TrainingInputMode\":\"File\"},\"validation\":{\"RecordWrapperType\":\"None\",\"S3DistributionType\":\"FullyReplicated\",\"TrainingInputMode\":\"File\"}}\u001b[0m\n",
      "\u001b[34mSM_OUTPUT_DATA_DIR=/opt/ml/output/data\u001b[0m\n",
      "\u001b[34mSM_CHANNELS=[\"training\",\"validation\"]\u001b[0m\n",
      "\u001b[34mSM_CURRENT_HOST=algo-1\u001b[0m\n",
      "\u001b[34mSM_CURRENT_INSTANCE_TYPE=ml.m5.2xlarge\u001b[0m\n",
      "\u001b[34mSM_CURRENT_INSTANCE_GROUP=homogeneousCluster\u001b[0m\n",
      "\u001b[34mSM_CURRENT_INSTANCE_GROUP_HOSTS=[\"algo-1\"]\u001b[0m\n",
      "\u001b[34mSM_INSTANCE_GROUPS=[\"homogeneousCluster\"]\u001b[0m\n",
      "\u001b[34mSM_INSTANCE_GROUPS_DICT={\"homogeneousCluster\":{\"hosts\":[\"algo-1\"],\"instance_group_name\":\"homogeneousCluster\",\"instance_type\":\"ml.m5.2xlarge\"}}\u001b[0m\n",
      "\u001b[34mSM_DISTRIBUTION_INSTANCE_GROUPS=[]\u001b[0m\n",
      "\u001b[34mSM_IS_HETERO=false\u001b[0m\n",
      "\u001b[34mSM_MODULE_NAME=training\u001b[0m\n",
      "\u001b[34mSM_LOG_LEVEL=20\u001b[0m\n",
      "\u001b[34mSM_FRAMEWORK_MODULE=sagemaker_pytorch_container.training:main\u001b[0m\n",
      "\u001b[34mSM_INPUT_DIR=/opt/ml/input\u001b[0m\n",
      "\u001b[34mSM_INPUT_CONFIG_DIR=/opt/ml/input/config\u001b[0m\n",
      "\u001b[34mSM_OUTPUT_DIR=/opt/ml/output\u001b[0m\n",
      "\u001b[34mSM_NUM_CPUS=8\u001b[0m\n",
      "\u001b[34mSM_NUM_GPUS=0\u001b[0m\n",
      "\u001b[34mSM_NUM_NEURONS=0\u001b[0m\n",
      "\u001b[34mSM_MODEL_DIR=/opt/ml/model\u001b[0m\n",
      "\u001b[34mSM_MODULE_DIR=/opt/ml/code\u001b[0m\n",
      "\u001b[34mSM_TRAINING_ENV={\"additional_framework_parameters\":{},\"channel_input_dirs\":{\"training\":\"/opt/ml/input/data/training\",\"validation\":\"/opt/ml/input/data/validation\"},\"current_host\":\"algo-1\",\"current_instance_group\":\"homogeneousCluster\",\"current_instance_group_hosts\":[\"algo-1\"],\"current_instance_type\":\"ml.m5.2xlarge\",\"distribution_hosts\":[],\"distribution_instance_groups\":[],\"framework_module\":\"sagemaker_pytorch_container.training:main\",\"hosts\":[\"algo-1\"],\"hyperparameters\":{\"batch-size\":32,\"epochs\":100,\"hidden-size\":64,\"lr\":0.001,\"sequence-length\":100,\"sequence-stride\":50},\"input_config_dir\":\"/opt/ml/input/config\",\"input_data_config\":{\"training\":{\"RecordWrapperType\":\"None\",\"S3DistributionType\":\"FullyReplicated\",\"TrainingInputMode\":\"File\"},\"validation\":{\"RecordWrapperType\":\"None\",\"S3DistributionType\":\"FullyReplicated\",\"TrainingInputMode\":\"File\"}},\"input_dir\":\"/opt/ml/input\",\"instance_groups\":[\"homogeneousCluster\"],\"instance_groups_dict\":{\"homogeneousCluster\":{\"hosts\":[\"algo-1\"],\"instance_group_name\":\"homogeneousCluster\",\"instance_type\":\"ml.m5.2xlarge\"}},\"is_hetero\":false,\"is_master\":true,\"is_modelparallel_enabled\":null,\"is_smddpmprun_installed\":true,\"job_name\":\"lstm-ae-training-2023-10-03-14-46-09-004\",\"log_level\":20,\"master_hostname\":\"algo-1\",\"model_dir\":\"/opt/ml/model\",\"module_dir\":\"/opt/ml/code\",\"module_name\":\"training\",\"network_interface_name\":\"eth0\",\"num_cpus\":8,\"num_gpus\":0,\"num_neurons\":0,\"output_data_dir\":\"/opt/ml/output/data\",\"output_dir\":\"/opt/ml/output\",\"output_intermediate_dir\":\"/opt/ml/output/intermediate\",\"resource_config\":{\"current_group_name\":\"homogeneousCluster\",\"current_host\":\"algo-1\",\"current_instance_type\":\"ml.m5.2xlarge\",\"hosts\":[\"algo-1\"],\"instance_groups\":[{\"hosts\":[\"algo-1\"],\"instance_group_name\":\"homogeneousCluster\",\"instance_type\":\"ml.m5.2xlarge\"}],\"network_interface_name\":\"eth0\"},\"user_entry_point\":\"training.py\"}\u001b[0m\n",
      "\u001b[34mSM_USER_ARGS=[\"--batch-size\",\"32\",\"--epochs\",\"100\",\"--hidden-size\",\"64\",\"--lr\",\"0.001\",\"--sequence-length\",\"100\",\"--sequence-stride\",\"50\"]\u001b[0m\n",
      "\u001b[34mSM_OUTPUT_INTERMEDIATE_DIR=/opt/ml/output/intermediate\u001b[0m\n",
      "\u001b[34mSM_CHANNEL_TRAINING=/opt/ml/input/data/training\u001b[0m\n",
      "\u001b[34mSM_CHANNEL_VALIDATION=/opt/ml/input/data/validation\u001b[0m\n",
      "\u001b[34mSM_HP_BATCH-SIZE=32\u001b[0m\n",
      "\u001b[34mSM_HP_EPOCHS=100\u001b[0m\n",
      "\u001b[34mSM_HP_HIDDEN-SIZE=64\u001b[0m\n",
      "\u001b[34mSM_HP_LR=0.001\u001b[0m\n",
      "\u001b[34mSM_HP_SEQUENCE-LENGTH=100\u001b[0m\n",
      "\u001b[34mSM_HP_SEQUENCE-STRIDE=50\u001b[0m\n",
      "\u001b[34mPYTHONPATH=/opt/ml/code:/opt/conda/bin:/opt/conda/lib/python310.zip:/opt/conda/lib/python3.10:/opt/conda/lib/python3.10/lib-dynload:/opt/conda/lib/python3.10/site-packages\u001b[0m\n",
      "\u001b[34mInvoking script with the following command:\u001b[0m\n",
      "\u001b[34m/opt/conda/bin/python3.10 training.py --batch-size 32 --epochs 100 --hidden-size 64 --lr 0.001 --sequence-length 100 --sequence-stride 50\u001b[0m\n",
      "\u001b[34m2023-10-03 14:51:38,287 sagemaker-training-toolkit INFO     Exceptions not imported for SageMaker TF as Tensorflow is not installed.\u001b[0m\n",
      "\u001b[34m--------------------------------------\u001b[0m\n",
      "\u001b[34mTraining on 2 time series.\u001b[0m\n",
      "\u001b[34mTime series length: 15000\u001b[0m\n",
      "\u001b[34m--------------------------------------\u001b[0m\n",
      "\u001b[34m--------------------------------------\u001b[0m\n",
      "\u001b[34mValidating on 2 time series.\u001b[0m\n",
      "\u001b[34mTime series length: 5000\u001b[0m\n",
      "\u001b[34m--------------------------------------\u001b[0m\n",
      "\u001b[34m--------------------------------------\u001b[0m\n",
      "\u001b[34mTraining the model.\u001b[0m\n",
      "\u001b[34m--------------------------------------\u001b[0m\n",
      "\u001b[34mEpoch: 1, Training MSE: 1.00045943, Training MAE: 0.79651541, Validation MSE: 1.00223613, Validation MAE: 0.79730749\u001b[0m\n",
      "\u001b[34mEpoch: 2, Training MSE: 0.99848354, Training MAE: 0.79585826, Validation MSE: 1.00006580, Validation MAE: 0.79647738\u001b[0m\n",
      "\u001b[34mEpoch: 3, Training MSE: 1.12252820, Training MAE: 0.85358310, Validation MSE: 1.12314236, Validation MAE: 0.85449356\u001b[0m\n",
      "\u001b[34mEpoch: 4, Training MSE: 1.12007260, Training MAE: 0.84489191, Validation MSE: 1.11874187, Validation MAE: 0.84473145\u001b[0m\n",
      "\u001b[34mEpoch: 5, Training MSE: 1.08779299, Training MAE: 0.84563726, Validation MSE: 1.08738053, Validation MAE: 0.84608799\u001b[0m\n",
      "\u001b[34mEpoch: 6, Training MSE: 1.88584232, Training MAE: 1.10168099, Validation MSE: 1.88932693, Validation MAE: 1.10219252\u001b[0m\n",
      "\u001b[34mEpoch: 7, Training MSE: 0.88181597, Training MAE: 0.74215633, Validation MSE: 0.88034999, Validation MAE: 0.74284494\u001b[0m\n",
      "\u001b[34mEpoch: 8, Training MSE: 1.12753356, Training MAE: 0.85342741, Validation MSE: 1.12063181, Validation MAE: 0.85327917\u001b[0m\n",
      "\u001b[34mEpoch: 9, Training MSE: 0.83768034, Training MAE: 0.74435711, Validation MSE: 0.83920813, Validation MAE: 0.74804807\u001b[0m\n",
      "\u001b[34mEpoch: 10, Training MSE: 1.03073013, Training MAE: 0.84164411, Validation MSE: 1.02851784, Validation MAE: 0.84561521\u001b[0m\n",
      "\u001b[34mEpoch: 11, Training MSE: 1.15420413, Training MAE: 0.84891212, Validation MSE: 1.15036356, Validation MAE: 0.85107207\u001b[0m\n",
      "\u001b[34mEpoch: 12, Training MSE: 0.74752760, Training MAE: 0.67899948, Validation MSE: 0.74247980, Validation MAE: 0.67636484\u001b[0m\n",
      "\u001b[34mEpoch: 13, Training MSE: 1.40323079, Training MAE: 0.92147487, Validation MSE: 1.39156806, Validation MAE: 0.91770351\u001b[0m\n",
      "\u001b[34mEpoch: 14, Training MSE: 1.07956636, Training MAE: 0.80422509, Validation MSE: 1.08181417, Validation MAE: 0.80119866\u001b[0m\n",
      "\u001b[34mEpoch: 15, Training MSE: 0.94424355, Training MAE: 0.76293725, Validation MSE: 0.93623585, Validation MAE: 0.76560301\u001b[0m\n",
      "\u001b[34mEpoch: 16, Training MSE: 0.97266018, Training MAE: 0.77049446, Validation MSE: 0.96793485, Validation MAE: 0.77450204\u001b[0m\n",
      "\u001b[34mEpoch: 17, Training MSE: 0.98336345, Training MAE: 0.76826447, Validation MSE: 0.97721082, Validation MAE: 0.77235007\u001b[0m\n",
      "\u001b[34mEpoch: 18, Training MSE: 1.02946055, Training MAE: 0.76809275, Validation MSE: 1.02461708, Validation MAE: 0.77335286\u001b[0m\n",
      "\u001b[34mEpoch: 19, Training MSE: 1.00017333, Training MAE: 0.75709653, Validation MSE: 0.99552947, Validation MAE: 0.76204348\u001b[0m\n",
      "\u001b[34mEpoch: 20, Training MSE: 0.96744937, Training MAE: 0.74333805, Validation MSE: 0.96017820, Validation MAE: 0.74707961\u001b[0m\n",
      "\u001b[34mEpoch: 21, Training MSE: 0.96414727, Training MAE: 0.73455763, Validation MSE: 0.95319372, Validation MAE: 0.73661935\u001b[0m\n",
      "\u001b[34mEpoch: 22, Training MSE: 0.95839673, Training MAE: 0.72895825, Validation MSE: 0.94949883, Validation MAE: 0.73142195\u001b[0m\n",
      "\u001b[34mEpoch: 23, Training MSE: 0.96803498, Training MAE: 0.73348969, Validation MSE: 0.95652550, Validation MAE: 0.73456925\u001b[0m\n",
      "\u001b[34mEpoch: 24, Training MSE: 0.98968446, Training MAE: 0.73398256, Validation MSE: 0.97556347, Validation MAE: 0.73393309\u001b[0m\n",
      "\u001b[34mEpoch: 25, Training MSE: 0.97485757, Training MAE: 0.72460222, Validation MSE: 0.96308517, Validation MAE: 0.72539812\u001b[0m\n",
      "\u001b[34mEpoch: 26, Training MSE: 0.99651557, Training MAE: 0.72355396, Validation MSE: 0.98591721, Validation MAE: 0.72451884\u001b[0m\n",
      "\u001b[34mEpoch: 27, Training MSE: 0.99166262, Training MAE: 0.72338051, Validation MSE: 0.98505467, Validation MAE: 0.72627068\u001b[0m\n",
      "\u001b[34mEpoch: 28, Training MSE: 0.99640185, Training MAE: 0.71434617, Validation MSE: 0.99042815, Validation MAE: 0.71605545\u001b[0m\n",
      "\u001b[34mEpoch: 29, Training MSE: 1.00637090, Training MAE: 0.71261078, Validation MSE: 1.00943589, Validation MAE: 0.71763766\u001b[0m\n",
      "\u001b[34mEpoch: 30, Training MSE: 1.01156378, Training MAE: 0.70794660, Validation MSE: 1.01741064, Validation MAE: 0.71362859\u001b[0m\n",
      "\u001b[34mEpoch: 31, Training MSE: 1.00040245, Training MAE: 0.69647932, Validation MSE: 1.01109028, Validation MAE: 0.70439023\u001b[0m\n",
      "\u001b[34mEpoch: 32, Training MSE: 1.00656712, Training MAE: 0.69971728, Validation MSE: 1.01790953, Validation MAE: 0.70740378\u001b[0m\n",
      "\u001b[34mEpoch: 33, Training MSE: 1.00442111, Training MAE: 0.69808620, Validation MSE: 1.01614749, Validation MAE: 0.70547283\u001b[0m\n",
      "\u001b[34mEpoch: 34, Training MSE: 0.99447322, Training MAE: 0.69341636, Validation MSE: 1.00242710, Validation MAE: 0.70003968\u001b[0m\n",
      "\u001b[34mEpoch: 35, Training MSE: 0.97671574, Training MAE: 0.68419290, Validation MSE: 0.98205233, Validation MAE: 0.68893719\u001b[0m\n",
      "\u001b[34mEpoch: 36, Training MSE: 0.98784512, Training MAE: 0.68414307, Validation MSE: 0.99051082, Validation MAE: 0.68799841\u001b[0m\n",
      "\u001b[34mEpoch: 37, Training MSE: 0.97361571, Training MAE: 0.68229401, Validation MSE: 0.97354519, Validation MAE: 0.68457448\u001b[0m\n",
      "\u001b[34mEpoch: 38, Training MSE: 0.98465252, Training MAE: 0.67926317, Validation MSE: 0.98446602, Validation MAE: 0.68160188\u001b[0m\n",
      "\u001b[34mEpoch: 39, Training MSE: 0.97195053, Training MAE: 0.67662030, Validation MSE: 0.96769845, Validation MAE: 0.67706472\u001b[0m\n",
      "\u001b[34mEpoch: 40, Training MSE: 0.94784099, Training MAE: 0.68111634, Validation MSE: 0.93891054, Validation MAE: 0.68042547\u001b[0m\n",
      "\u001b[34mEpoch: 41, Training MSE: 0.94407618, Training MAE: 0.67407310, Validation MSE: 0.93481785, Validation MAE: 0.67226940\u001b[0m\n",
      "\u001b[34mEpoch: 42, Training MSE: 0.97538561, Training MAE: 0.67405814, Validation MSE: 0.96784139, Validation MAE: 0.67305696\u001b[0m\n",
      "\u001b[34mEpoch: 43, Training MSE: 0.87302744, Training MAE: 0.67056614, Validation MSE: 0.86254561, Validation MAE: 0.66922522\u001b[0m\n",
      "\u001b[34mEpoch: 44, Training MSE: 0.92375356, Training MAE: 0.65357822, Validation MSE: 0.91728055, Validation MAE: 0.65247244\u001b[0m\n",
      "\u001b[34mEpoch: 45, Training MSE: 0.85954905, Training MAE: 0.66171438, Validation MSE: 0.85276794, Validation MAE: 0.66168612\u001b[0m\n",
      "\u001b[34mEpoch: 46, Training MSE: 0.82607120, Training MAE: 0.63920414, Validation MSE: 0.82192355, Validation MAE: 0.63968164\u001b[0m\n",
      "\u001b[34mEpoch: 47, Training MSE: 0.81521428, Training MAE: 0.62946421, Validation MSE: 0.81485409, Validation MAE: 0.63175029\u001b[0m\n",
      "\u001b[34mEpoch: 48, Training MSE: 0.74179590, Training MAE: 0.62253028, Validation MSE: 0.74259788, Validation MAE: 0.62567884\u001b[0m\n",
      "\u001b[34mEpoch: 49, Training MSE: 0.69600546, Training MAE: 0.59255016, Validation MSE: 0.69893706, Validation MAE: 0.59626722\u001b[0m\n",
      "\u001b[34mEpoch: 50, Training MSE: 0.64892226, Training MAE: 0.55970216, Validation MSE: 0.65346211, Validation MAE: 0.56543648\u001b[0m\n",
      "\u001b[34mEpoch: 51, Training MSE: 0.57364690, Training MAE: 0.54697090, Validation MSE: 0.57962036, Validation MAE: 0.55274355\u001b[0m\n",
      "\u001b[34mEpoch: 52, Training MSE: 0.50385350, Training MAE: 0.51868045, Validation MSE: 0.51175058, Validation MAE: 0.52626508\u001b[0m\n",
      "\u001b[34mEpoch: 53, Training MSE: 0.43424022, Training MAE: 0.48074773, Validation MSE: 0.43967026, Validation MAE: 0.48795298\u001b[0m\n",
      "\u001b[34mEpoch: 54, Training MSE: 0.35976720, Training MAE: 0.39572313, Validation MSE: 0.35837176, Validation MAE: 0.40093157\u001b[0m\n",
      "\u001b[34mEpoch: 55, Training MSE: 0.29209736, Training MAE: 0.35645694, Validation MSE: 0.28691074, Validation MAE: 0.35810211\u001b[0m\n",
      "\u001b[34mEpoch: 56, Training MSE: 0.24055493, Training MAE: 0.33067593, Validation MSE: 0.23616748, Validation MAE: 0.33353573\u001b[0m\n",
      "\u001b[34mEpoch: 57, Training MSE: 0.18299995, Training MAE: 0.30811831, Validation MSE: 0.17862903, Validation MAE: 0.31192133\u001b[0m\n",
      "\u001b[34mEpoch: 58, Training MSE: 0.12802055, Training MAE: 0.24887604, Validation MSE: 0.12199140, Validation MAE: 0.24832475\u001b[0m\n",
      "\u001b[34mEpoch: 59, Training MSE: 0.09766722, Training MAE: 0.21647428, Validation MSE: 0.09274726, Validation MAE: 0.21393833\u001b[0m\n",
      "\u001b[34mEpoch: 60, Training MSE: 0.07630228, Training MAE: 0.19855528, Validation MSE: 0.07146015, Validation MAE: 0.19598711\u001b[0m\n",
      "\u001b[34mEpoch: 61, Training MSE: 0.06935845, Training MAE: 0.18870078, Validation MSE: 0.06513388, Validation MAE: 0.18736251\u001b[0m\n",
      "\u001b[34mEpoch: 62, Training MSE: 0.04017794, Training MAE: 0.14547062, Validation MSE: 0.03814575, Validation MAE: 0.14493166\u001b[0m\n",
      "\u001b[34mEpoch: 63, Training MSE: 0.04273237, Training MAE: 0.15267511, Validation MSE: 0.04051279, Validation MAE: 0.14709198\u001b[0m\n",
      "\u001b[34mEpoch: 64, Training MSE: 0.03543466, Training MAE: 0.14226237, Validation MSE: 0.03738903, Validation MAE: 0.14621520\u001b[0m\n",
      "\u001b[34mEpoch: 65, Training MSE: 0.02506361, Training MAE: 0.11954903, Validation MSE: 0.02483588, Validation MAE: 0.11960250\u001b[0m\n",
      "\u001b[34mEpoch: 66, Training MSE: 0.02551555, Training MAE: 0.12276164, Validation MSE: 0.02727164, Validation MAE: 0.12827112\u001b[0m\n",
      "\u001b[34mEpoch: 67, Training MSE: 0.02401533, Training MAE: 0.11821499, Validation MSE: 0.02731623, Validation MAE: 0.12672691\u001b[0m\n",
      "\u001b[34mEpoch: 68, Training MSE: 0.06447285, Training MAE: 0.18475531, Validation MSE: 0.05982618, Validation MAE: 0.17536545\u001b[0m\n",
      "\u001b[34mEpoch: 69, Training MSE: 0.02449179, Training MAE: 0.12037843, Validation MSE: 0.02331650, Validation MAE: 0.11679072\u001b[0m\n",
      "\u001b[34mEpoch: 70, Training MSE: 0.02111046, Training MAE: 0.11193858, Validation MSE: 0.02197166, Validation MAE: 0.11429395\u001b[0m\n",
      "\u001b[34mEpoch: 71, Training MSE: 0.02243590, Training MAE: 0.11185455, Validation MSE: 0.02466290, Validation MAE: 0.11693548\u001b[0m\n",
      "\u001b[34mEpoch: 72, Training MSE: 0.02121554, Training MAE: 0.11167367, Validation MSE: 0.02455205, Validation MAE: 0.12035906\u001b[0m\n",
      "\u001b[34mEpoch: 73, Training MSE: 0.01745100, Training MAE: 0.10311893, Validation MSE: 0.02104600, Validation MAE: 0.11400444\u001b[0m\n",
      "\u001b[34mEpoch: 74, Training MSE: 0.01896903, Training MAE: 0.10663190, Validation MSE: 0.02008906, Validation MAE: 0.10775588\u001b[0m\n",
      "\u001b[34mEpoch: 75, Training MSE: 0.01963827, Training MAE: 0.10774034, Validation MSE: 0.02071446, Validation MAE: 0.10777012\u001b[0m\n",
      "\u001b[34mEpoch: 76, Training MSE: 0.01693364, Training MAE: 0.10077979, Validation MSE: 0.02040482, Validation MAE: 0.11104932\u001b[0m\n",
      "\u001b[34mEpoch: 77, Training MSE: 0.01680007, Training MAE: 0.10192056, Validation MSE: 0.01794275, Validation MAE: 0.10404067\u001b[0m\n",
      "\u001b[34mEpoch: 78, Training MSE: 0.01593183, Training MAE: 0.09941678, Validation MSE: 0.01759739, Validation MAE: 0.10322244\u001b[0m\n",
      "\u001b[34mEpoch: 79, Training MSE: 0.01634253, Training MAE: 0.09954364, Validation MSE: 0.01923038, Validation MAE: 0.10868145\u001b[0m\n",
      "\u001b[34mEpoch: 80, Training MSE: 0.01782050, Training MAE: 0.10420388, Validation MSE: 0.02228241, Validation MAE: 0.11536471\u001b[0m\n",
      "\u001b[34mEpoch: 81, Training MSE: 0.01435931, Training MAE: 0.09400876, Validation MSE: 0.01700898, Validation MAE: 0.10276540\u001b[0m\n",
      "\u001b[34mEpoch: 82, Training MSE: 0.01682197, Training MAE: 0.10094246, Validation MSE: 0.01756812, Validation MAE: 0.10170195\u001b[0m\n",
      "\u001b[34mEpoch: 83, Training MSE: 0.01982019, Training MAE: 0.10972915, Validation MSE: 0.02019864, Validation MAE: 0.10942174\u001b[0m\n",
      "\u001b[34mEpoch: 84, Training MSE: 0.01852513, Training MAE: 0.10722158, Validation MSE: 0.01811076, Validation MAE: 0.10528968\u001b[0m\n",
      "\u001b[34mEpoch: 85, Training MSE: 0.01488530, Training MAE: 0.09634350, Validation MSE: 0.01514813, Validation MAE: 0.09673281\u001b[0m\n",
      "\u001b[34mEpoch: 86, Training MSE: 0.01564606, Training MAE: 0.09848694, Validation MSE: 0.01551081, Validation MAE: 0.09756269\u001b[0m\n",
      "\u001b[34mEpoch: 87, Training MSE: 0.01371423, Training MAE: 0.09244407, Validation MSE: 0.01429029, Validation MAE: 0.09393249\u001b[0m\n",
      "\n",
      "2023-10-03 14:52:40 Uploading - Uploading generated training model\u001b[34mEpoch: 88, Training MSE: 0.01313491, Training MAE: 0.09049872, Validation MSE: 0.01352756, Validation MAE: 0.09160413\u001b[0m\n",
      "\u001b[34mEpoch: 89, Training MSE: 0.01233855, Training MAE: 0.08842626, Validation MSE: 0.01251225, Validation MAE: 0.08865082\u001b[0m\n",
      "\u001b[34mEpoch: 90, Training MSE: 0.01216852, Training MAE: 0.08776820, Validation MSE: 0.01387529, Validation MAE: 0.09406488\u001b[0m\n",
      "\u001b[34mEpoch: 91, Training MSE: 0.01154247, Training MAE: 0.08563396, Validation MSE: 0.01258784, Validation MAE: 0.08948307\u001b[0m\n",
      "\u001b[34mEpoch: 92, Training MSE: 0.01209460, Training MAE: 0.08726672, Validation MSE: 0.01335852, Validation MAE: 0.09182191\u001b[0m\n",
      "\u001b[34mEpoch: 93, Training MSE: 0.01147757, Training MAE: 0.08532602, Validation MSE: 0.01195986, Validation MAE: 0.08748686\u001b[0m\n",
      "\u001b[34mEpoch: 94, Training MSE: 0.01187804, Training MAE: 0.08671951, Validation MSE: 0.01293339, Validation MAE: 0.09056278\u001b[0m\n",
      "\u001b[34mEpoch: 95, Training MSE: 0.01233344, Training MAE: 0.08856268, Validation MSE: 0.01383963, Validation MAE: 0.09408930\u001b[0m\n",
      "\u001b[34mEpoch: 96, Training MSE: 0.01333066, Training MAE: 0.09175859, Validation MSE: 0.01244630, Validation MAE: 0.08874144\u001b[0m\n",
      "\u001b[34mEpoch: 97, Training MSE: 0.01432409, Training MAE: 0.09507169, Validation MSE: 0.01705468, Validation MAE: 0.10365982\u001b[0m\n",
      "\u001b[34mEpoch: 98, Training MSE: 0.01132459, Training MAE: 0.08478314, Validation MSE: 0.01184749, Validation MAE: 0.08701973\u001b[0m\n",
      "\u001b[34mEpoch: 99, Training MSE: 0.01171674, Training MAE: 0.08617605, Validation MSE: 0.01272309, Validation MAE: 0.09019828\u001b[0m\n",
      "\u001b[34mEpoch: 100, Training MSE: 0.01499354, Training MAE: 0.09660264, Validation MSE: 0.01758829, Validation MAE: 0.10492316\u001b[0m\n",
      "\u001b[34m--------------------------------------\u001b[0m\n",
      "\u001b[34mScoring the model.\u001b[0m\n",
      "\u001b[34mtrain:mse 0.01499354\u001b[0m\n",
      "\u001b[34mtrain:mae 0.09660264\u001b[0m\n",
      "\u001b[34mvalid:mse 0.01758829\u001b[0m\n",
      "\u001b[34mvalid:mae 0.10492316\u001b[0m\n",
      "\u001b[34m--------------------------------------\u001b[0m\n",
      "\u001b[34m2023-10-03 14:52:35,616 sagemaker-training-toolkit INFO     Waiting for the process to finish and give a return code.\u001b[0m\n",
      "\u001b[34m2023-10-03 14:52:35,616 sagemaker-training-toolkit INFO     Done waiting for a return code. Received 0 from exiting process.\u001b[0m\n",
      "\u001b[34m2023-10-03 14:52:35,617 sagemaker-training-toolkit INFO     Reporting training SUCCESS\u001b[0m\n",
      "\n",
      "2023-10-03 14:52:51 Completed - Training job completed\n",
      "Training seconds: 332\n",
      "Billable seconds: 332\n"
     ]
    }
   ],
   "source": [
    "# run the training job\n",
    "estimator.fit({\"training\": training_data, \"validation\": validation_data})"
   ]
  },
  {
   "cell_type": "markdown",
   "metadata": {},
   "source": [
    "See this [blog-post](https://aws.amazon.com/blogs/machine-learning/easily-monitor-and-visualize-metrics-while-training-models-on-amazon-sagemaker/) for more information how to visualize metrics during the process. You can also open the training job from [Amazon SageMaker console](https://console.aws.amazon.com/sagemaker/home?#/jobs/) and monitor the metrics/logs in **Monitor** section."
   ]
  },
  {
   "cell_type": "markdown",
   "metadata": {},
   "source": [
    "## 4: Deploy model and verify results"
   ]
  },
  {
   "cell_type": "markdown",
   "metadata": {},
   "source": [
    "Now you can deploy the model for performing real-time inference."
   ]
  },
  {
   "cell_type": "markdown",
   "metadata": {},
   "source": [
    "### A. Deploy trained model"
   ]
  },
  {
   "cell_type": "code",
   "execution_count": 21,
   "metadata": {
    "tags": []
   },
   "outputs": [
    {
     "name": "stderr",
     "output_type": "stream",
     "text": [
      "INFO:sagemaker:Creating model package with name: lstm-ae-model-2023-10-03-14-53-24-405854\n"
     ]
    },
    {
     "name": "stdout",
     "output_type": "stream",
     "text": [
      "........."
     ]
    },
    {
     "name": "stderr",
     "output_type": "stream",
     "text": [
      "INFO:sagemaker:Creating model with name: lstm-ae-model-2023-10-03-14-53-24-405854\n"
     ]
    },
    {
     "name": "stdout",
     "output_type": "stream",
     "text": [
      "\n"
     ]
    },
    {
     "name": "stderr",
     "output_type": "stream",
     "text": [
      "INFO:sagemaker:Creating endpoint-config with name lstm-ae-endpoint-2023-10-03-14-53-24-405887\n",
      "INFO:sagemaker:Creating endpoint with name lstm-ae-endpoint-2023-10-03-14-53-24-405887\n"
     ]
    },
    {
     "name": "stdout",
     "output_type": "stream",
     "text": [
      "--------!"
     ]
    }
   ],
   "source": [
    "predictor = estimator.deploy(\n",
    "    initial_instance_count=1,\n",
    "    instance_type=instance_type,\n",
    "    serializer=sagemaker.serializers.CSVSerializer(content_type=\"text/csv\"),\n",
    "    model_name=f\"lstm-ae-model-{datetime.datetime.now().strftime(format='%Y-%m-%d-%H-%M-%S-%f')}\",\n",
    "    endpoint_name=f\"lstm-ae-endpoint-{datetime.datetime.now().strftime(format='%Y-%m-%d-%H-%M-%S-%f')}\",\n",
    ")"
   ]
  },
  {
   "cell_type": "markdown",
   "metadata": {},
   "source": [
    "Once the endpoint is in service, you can perform real-time inference."
   ]
  },
  {
   "cell_type": "markdown",
   "metadata": {},
   "source": [
    "### B. Create input payload"
   ]
  },
  {
   "cell_type": "markdown",
   "metadata": {},
   "source": [
    "The inference algorithm takes as input a CSV file containing the time series.\n",
    "Each column of the CSV file represents a time series, while each row represents a time step.\n",
    "The CSV file should not contain any index column or column headers.\n",
    "All the time series should have the same length and should not contain missing values."
   ]
  },
  {
   "cell_type": "markdown",
   "metadata": {},
   "source": [
    "**Test dataset:**"
   ]
  },
  {
   "cell_type": "code",
   "execution_count": 22,
   "metadata": {
    "tags": []
   },
   "outputs": [],
   "source": [
    "test_dataset = pd.read_csv(\n",
    "    \"https://raw.githubusercontent.com/fg-research/lstm-ae-sagemaker/master/data/inference/input/test.csv\",\n",
    "    header=None,\n",
    "    index_col=None\n",
    ")"
   ]
  },
  {
   "cell_type": "code",
   "execution_count": 23,
   "metadata": {
    "tags": []
   },
   "outputs": [
    {
     "data": {
      "text/plain": [
       "(5000, 2)"
      ]
     },
     "execution_count": 23,
     "metadata": {},
     "output_type": "execute_result"
    }
   ],
   "source": [
    "test_dataset.shape"
   ]
  },
  {
   "cell_type": "code",
   "execution_count": 24,
   "metadata": {
    "tags": []
   },
   "outputs": [
    {
     "data": {
      "text/html": [
       "<div>\n",
       "<style scoped>\n",
       "    .dataframe tbody tr th:only-of-type {\n",
       "        vertical-align: middle;\n",
       "    }\n",
       "\n",
       "    .dataframe tbody tr th {\n",
       "        vertical-align: top;\n",
       "    }\n",
       "\n",
       "    .dataframe thead th {\n",
       "        text-align: right;\n",
       "    }\n",
       "</style>\n",
       "<table border=\"1\" class=\"dataframe\">\n",
       "  <thead>\n",
       "    <tr style=\"text-align: right;\">\n",
       "      <th></th>\n",
       "      <th>0</th>\n",
       "      <th>1</th>\n",
       "    </tr>\n",
       "  </thead>\n",
       "  <tbody>\n",
       "    <tr>\n",
       "      <th>0</th>\n",
       "      <td>-11.013412</td>\n",
       "      <td>-11.392782</td>\n",
       "    </tr>\n",
       "    <tr>\n",
       "      <th>1</th>\n",
       "      <td>-12.690769</td>\n",
       "      <td>-13.362681</td>\n",
       "    </tr>\n",
       "    <tr>\n",
       "      <th>2</th>\n",
       "      <td>-12.638245</td>\n",
       "      <td>-10.937028</td>\n",
       "    </tr>\n",
       "    <tr>\n",
       "      <th>3</th>\n",
       "      <td>-14.549574</td>\n",
       "      <td>-13.608522</td>\n",
       "    </tr>\n",
       "    <tr>\n",
       "      <th>4</th>\n",
       "      <td>-14.831431</td>\n",
       "      <td>-14.712521</td>\n",
       "    </tr>\n",
       "  </tbody>\n",
       "</table>\n",
       "</div>"
      ],
      "text/plain": [
       "           0          1\n",
       "0 -11.013412 -11.392782\n",
       "1 -12.690769 -13.362681\n",
       "2 -12.638245 -10.937028\n",
       "3 -14.549574 -13.608522\n",
       "4 -14.831431 -14.712521"
      ]
     },
     "execution_count": 24,
     "metadata": {},
     "output_type": "execute_result"
    }
   ],
   "source": [
    "test_dataset.head()"
   ]
  },
  {
   "cell_type": "code",
   "execution_count": 25,
   "metadata": {
    "tags": []
   },
   "outputs": [
    {
     "data": {
      "image/png": "[encoded data removed]",
      "text/plain": [
       "<Figure size 640x480 with 2 Axes>"
      ]
     },
     "metadata": {},
     "output_type": "display_data"
    }
   ],
   "source": [
    "fig, axs = plt.subplots(nrows=test_dataset.shape[1], ncols=1, sharex=True)\n",
    "for i in range(test_dataset.shape[1]):\n",
    "    axs[i].plot(test_dataset.iloc[:, i], color=\"#AFB8C1\", lw=1)\n",
    "    axs[i].set_title(f\"Time Series {i + 1}\", size=10)\n",
    "    axs[i].set(xlabel=\"Time\", ylabel=\"Value\")\n",
    "    axs[i].xaxis.set_tick_params(labelbottom=True)\n",
    "    axs[i].tick_params(axis=\"both\", which=\"major\", labelsize=7)\n",
    "    axs[i].tick_params(axis=\"both\", which=\"minor\", labelsize=7)\n",
    "fig.subplots_adjust(hspace=0.75)\n",
    "fig.suptitle(\"Test Dataset\")\n",
    "fig.show()"
   ]
  },
  {
   "cell_type": "code",
   "execution_count": 26,
   "metadata": {
    "tags": []
   },
   "outputs": [],
   "source": [
    "test_data = sagemaker_session.upload_string_as_file_body(\n",
    "    body=test_dataset.to_csv(index=False, header=False),\n",
    "    bucket=bucket,\n",
    "    key=\"data/inference/input/test.csv\"\n",
    ")"
   ]
  },
  {
   "cell_type": "code",
   "execution_count": 27,
   "metadata": {
    "tags": []
   },
   "outputs": [
    {
     "data": {
      "text/plain": [
       "'s3://sagemaker-eu-west-1-661670223746/data/inference/input/test.csv'"
      ]
     },
     "execution_count": 27,
     "metadata": {},
     "output_type": "execute_result"
    }
   ],
   "source": [
    "test_data"
   ]
  },
  {
   "cell_type": "code",
   "execution_count": 28,
   "metadata": {
    "tags": []
   },
   "outputs": [],
   "source": [
    "payload = sagemaker_session.read_s3_file(\n",
    "    bucket=bucket,\n",
    "    key_prefix=\"data/inference/input/test.csv\"\n",
    ")"
   ]
  },
  {
   "cell_type": "markdown",
   "metadata": {},
   "source": [
    "### C. Perform real-time inference"
   ]
  },
  {
   "cell_type": "code",
   "execution_count": 29,
   "metadata": {
    "tags": []
   },
   "outputs": [],
   "source": [
    "response = sagemaker_session.sagemaker_runtime_client.invoke_endpoint(\n",
    "    EndpointName=predictor.endpoint_name,\n",
    "    ContentType=\"text/csv\",\n",
    "    Body=payload\n",
    ")\n",
    "\n",
    "real_time_predictions = response[\"Body\"].read().decode(\"utf-8\").split(\"\\n\")[:-1]\n",
    "real_time_predictions = pd.DataFrame([x.split(\",\") for x in real_time_predictions]).astype(float)"
   ]
  },
  {
   "cell_type": "code",
   "execution_count": 30,
   "metadata": {
    "tags": []
   },
   "outputs": [
    {
     "data": {
      "text/plain": [
       "{'ResponseMetadata': {'RequestId': '867bdd5b-4c8a-4e7c-971e-97a3416b4de1',\n",
       "  'HTTPStatusCode': 200,\n",
       "  'HTTPHeaders': {'x-amzn-requestid': '867bdd5b-4c8a-4e7c-971e-97a3416b4de1',\n",
       "   'x-amzn-invoked-production-variant': 'AllTraffic',\n",
       "   'date': 'Tue, 03 Oct 2023 14:58:43 GMT',\n",
       "   'content-type': 'application/json',\n",
       "   'content-length': '284998',\n",
       "   'connection': 'keep-alive'},\n",
       "  'RetryAttempts': 0},\n",
       " 'ContentType': 'application/json',\n",
       " 'InvokedProductionVariant': 'AllTraffic',\n",
       " 'Body': <botocore.response.StreamingBody at 0x7f00fbd1f3d0>}"
      ]
     },
     "execution_count": 30,
     "metadata": {},
     "output_type": "execute_result"
    }
   ],
   "source": [
    "response"
   ]
  },
  {
   "cell_type": "code",
   "execution_count": 31,
   "metadata": {
    "tags": []
   },
   "outputs": [],
   "source": [
    "real_time_results = sagemaker_session.upload_string_as_file_body(\n",
    "    body=real_time_predictions.to_csv(index=False, header=False),\n",
    "    bucket=bucket,\n",
    "    key=\"data/inference/output/real-time/real_time_predictions.csv\"\n",
    ")"
   ]
  },
  {
   "cell_type": "code",
   "execution_count": 32,
   "metadata": {
    "tags": []
   },
   "outputs": [
    {
     "data": {
      "text/plain": [
       "'s3://sagemaker-eu-west-1-661670223746/data/inference/output/real-time/real_time_predictions.csv'"
      ]
     },
     "execution_count": 32,
     "metadata": {},
     "output_type": "execute_result"
    }
   ],
   "source": [
    "real_time_results"
   ]
  },
  {
   "cell_type": "markdown",
   "metadata": {},
   "source": [
    "### D. Visualize output"
   ]
  },
  {
   "cell_type": "markdown",
   "metadata": {},
   "source": [
    "The inference algorithm outputs the anomaly scores and the reconstructed values of the time series. The anomaly scores are included in the first column, while the reconstructed values of the time series are included in the subsequent columns."
   ]
  },
  {
   "cell_type": "code",
   "execution_count": 33,
   "metadata": {
    "tags": []
   },
   "outputs": [
    {
     "data": {
      "text/plain": [
       "(5000, 3)"
      ]
     },
     "execution_count": 33,
     "metadata": {},
     "output_type": "execute_result"
    }
   ],
   "source": [
    "real_time_predictions.shape"
   ]
  },
  {
   "cell_type": "code",
   "execution_count": 34,
   "metadata": {
    "tags": []
   },
   "outputs": [
    {
     "data": {
      "text/html": [
       "<div>\n",
       "<style scoped>\n",
       "    .dataframe tbody tr th:only-of-type {\n",
       "        vertical-align: middle;\n",
       "    }\n",
       "\n",
       "    .dataframe tbody tr th {\n",
       "        vertical-align: top;\n",
       "    }\n",
       "\n",
       "    .dataframe thead th {\n",
       "        text-align: right;\n",
       "    }\n",
       "</style>\n",
       "<table border=\"1\" class=\"dataframe\">\n",
       "  <thead>\n",
       "    <tr style=\"text-align: right;\">\n",
       "      <th></th>\n",
       "      <th>0</th>\n",
       "      <th>1</th>\n",
       "      <th>2</th>\n",
       "    </tr>\n",
       "  </thead>\n",
       "  <tbody>\n",
       "    <tr>\n",
       "      <th>0</th>\n",
       "      <td>0.213130</td>\n",
       "      <td>-10.082356</td>\n",
       "      <td>-10.008225</td>\n",
       "    </tr>\n",
       "    <tr>\n",
       "      <th>1</th>\n",
       "      <td>2.587818</td>\n",
       "      <td>-11.103932</td>\n",
       "      <td>-10.987754</td>\n",
       "    </tr>\n",
       "    <tr>\n",
       "      <th>2</th>\n",
       "      <td>0.376732</td>\n",
       "      <td>-12.088071</td>\n",
       "      <td>-11.941570</td>\n",
       "    </tr>\n",
       "    <tr>\n",
       "      <th>3</th>\n",
       "      <td>0.668611</td>\n",
       "      <td>-13.018026</td>\n",
       "      <td>-12.862440</td>\n",
       "    </tr>\n",
       "    <tr>\n",
       "      <th>4</th>\n",
       "      <td>0.017493</td>\n",
       "      <td>-13.877706</td>\n",
       "      <td>-13.740828</td>\n",
       "    </tr>\n",
       "  </tbody>\n",
       "</table>\n",
       "</div>"
      ],
      "text/plain": [
       "          0          1          2\n",
       "0  0.213130 -10.082356 -10.008225\n",
       "1  2.587818 -11.103932 -10.987754\n",
       "2  0.376732 -12.088071 -11.941570\n",
       "3  0.668611 -13.018026 -12.862440\n",
       "4  0.017493 -13.877706 -13.740828"
      ]
     },
     "execution_count": 34,
     "metadata": {},
     "output_type": "execute_result"
    }
   ],
   "source": [
    "real_time_predictions.head()"
   ]
  },
  {
   "cell_type": "code",
   "execution_count": 35,
   "metadata": {
    "tags": []
   },
   "outputs": [
    {
     "data": {
      "text/html": [
       "<div>\n",
       "<style scoped>\n",
       "    .dataframe tbody tr th:only-of-type {\n",
       "        vertical-align: middle;\n",
       "    }\n",
       "\n",
       "    .dataframe tbody tr th {\n",
       "        vertical-align: top;\n",
       "    }\n",
       "\n",
       "    .dataframe thead th {\n",
       "        text-align: right;\n",
       "    }\n",
       "</style>\n",
       "<table border=\"1\" class=\"dataframe\">\n",
       "  <thead>\n",
       "    <tr style=\"text-align: right;\">\n",
       "      <th></th>\n",
       "      <th>0</th>\n",
       "      <th>1</th>\n",
       "      <th>2</th>\n",
       "    </tr>\n",
       "  </thead>\n",
       "  <tbody>\n",
       "    <tr>\n",
       "      <th>4995</th>\n",
       "      <td>0.569697</td>\n",
       "      <td>-6.277052</td>\n",
       "      <td>-6.374019</td>\n",
       "    </tr>\n",
       "    <tr>\n",
       "      <th>4996</th>\n",
       "      <td>0.953731</td>\n",
       "      <td>-7.366128</td>\n",
       "      <td>-7.371553</td>\n",
       "    </tr>\n",
       "    <tr>\n",
       "      <th>4997</th>\n",
       "      <td>1.289031</td>\n",
       "      <td>-8.471272</td>\n",
       "      <td>-8.356746</td>\n",
       "    </tr>\n",
       "    <tr>\n",
       "      <th>4998</th>\n",
       "      <td>1.147854</td>\n",
       "      <td>-9.265087</td>\n",
       "      <td>-9.136292</td>\n",
       "    </tr>\n",
       "    <tr>\n",
       "      <th>4999</th>\n",
       "      <td>1.172717</td>\n",
       "      <td>-10.226063</td>\n",
       "      <td>-10.182687</td>\n",
       "    </tr>\n",
       "  </tbody>\n",
       "</table>\n",
       "</div>"
      ],
      "text/plain": [
       "             0          1          2\n",
       "4995  0.569697  -6.277052  -6.374019\n",
       "4996  0.953731  -7.366128  -7.371553\n",
       "4997  1.289031  -8.471272  -8.356746\n",
       "4998  1.147854  -9.265087  -9.136292\n",
       "4999  1.172717 -10.226063 -10.182687"
      ]
     },
     "execution_count": 35,
     "metadata": {},
     "output_type": "execute_result"
    }
   ],
   "source": [
    "real_time_predictions.tail()"
   ]
  },
  {
   "cell_type": "code",
   "execution_count": 36,
   "metadata": {
    "tags": []
   },
   "outputs": [
    {
     "data": {
      "image/png": "[encoded data removed]",
      "text/plain": [
       "<Figure size 600x700 with 3 Axes>"
      ]
     },
     "metadata": {},
     "output_type": "display_data"
    }
   ],
   "source": [
    "fig, axs = plt.subplots(nrows=test_dataset.shape[1] + 1, ncols=1, sharex=True, figsize=(6, 7))\n",
    "for i in range(test_dataset.shape[1]):\n",
    "    axs[i].plot(test_dataset.iloc[:, i], color=\"#AFB8C1\", lw=0.5, label=\"Actual\" if i == 0 else None)\n",
    "    axs[i].plot(real_time_predictions.iloc[:, i + 1], color=\"#009ad3\", lw=1, label=\"Reconstructed\" if i == 0 else None)\n",
    "    axs[i].set_title(f\"Time Series {i + 1}\", size=10)\n",
    "    axs[i].set(xlabel=\"Time\", ylabel=\"Value\")\n",
    "    axs[i].xaxis.set_tick_params(labelbottom=True)\n",
    "    axs[i].tick_params(axis=\"both\", which=\"major\", labelsize=7)\n",
    "    axs[i].tick_params(axis=\"both\", which=\"minor\", labelsize=7)\n",
    "i += 1\n",
    "axs[i].set_title(\"Anomaly Score\", size=10)\n",
    "axs[i].plot(real_time_predictions.iloc[:, 0], color=\"#57606a\", lw=1)\n",
    "axs[i].set(xlabel=\"Time\", ylabel=\"Value\")\n",
    "axs[i].xaxis.set_tick_params(labelbottom=True)\n",
    "axs[i].tick_params(axis=\"both\", which=\"major\", labelsize=7)\n",
    "axs[i].tick_params(axis=\"both\", which=\"minor\", labelsize=7)\n",
    "fig.subplots_adjust(hspace=0.75)\n",
    "fig.suptitle(\"Real-Time Predictions on Test Dataset\")\n",
    "fig.legend(bbox_to_anchor=(1.2, 1, 0, 0), frameon=False)\n",
    "fig.show()"
   ]
  },
  {
   "cell_type": "markdown",
   "metadata": {},
   "source": [
    "### E. Calculate relevant metrics"
   ]
  },
  {
   "cell_type": "markdown",
   "metadata": {},
   "source": [
    "If enough labelled anomalous data is available, you can estimate the optimal threshold on the anomaly score as the one that maximixes the F-beta score between the actual and predicted anomaly labels. Once the appropriate threshold has been determined, the model can be used as a binary classifier which predicts 1 (anomalous) if the anomaly score is above the threshold, and 0 (normal) if the anomaly score is below the threshold. After that the standard classification metrics (such as accuracy, precision, recall, etc.) can be computed as usual."
   ]
  },
  {
   "cell_type": "markdown",
   "metadata": {},
   "source": [
    "If [Amazon SageMaker Model Monitor](https://docs.aws.amazon.com/sagemaker/latest/dg/model-monitor.html) supports the type of problem you are trying to solve using this algorithm, use the following examples to add Model Monitor support to your product.\n",
    "For sample code to enable and monitor the model, see following notebooks:\n",
    "1. [Enable Amazon SageMaker Model Monitor](https://github.com/awslabs/amazon-sagemaker-examples/blob/master/sagemaker_model_monitor/enable_model_monitor/SageMaker-Enable-Model-Monitor.ipynb)\n",
    "2. [Amazon SageMaker Model Monitor - visualizing monitoring results](https://github.com/awslabs/amazon-sagemaker-examples/blob/master/sagemaker_model_monitor/visualization/SageMaker-Model-Monitor-Visualize.ipynb)"
   ]
  },
  {
   "cell_type": "markdown",
   "metadata": {},
   "source": [
    "### F. Delete the endpoint"
   ]
  },
  {
   "cell_type": "markdown",
   "metadata": {},
   "source": [
    "Now that you have successfully performed a real-time inference, you do not need the endpoint any more. You can terminate the same to avoid being charged."
   ]
  },
  {
   "cell_type": "code",
   "execution_count": 37,
   "metadata": {
    "tags": []
   },
   "outputs": [
    {
     "name": "stderr",
     "output_type": "stream",
     "text": [
      "INFO:sagemaker:Deleting endpoint configuration with name: lstm-ae-endpoint-2023-10-03-14-53-24-405887\n",
      "INFO:sagemaker:Deleting endpoint with name: lstm-ae-endpoint-2023-10-03-14-53-24-405887\n"
     ]
    }
   ],
   "source": [
    "predictor.delete_endpoint(delete_endpoint_config=True)"
   ]
  },
  {
   "cell_type": "markdown",
   "metadata": {},
   "source": [
    "Since this is an experiment, you do not need to run a hyperparameter tuning job. However, if you would like to see how to tune a model trained using a third-party algorithm with Amazon SageMaker's hyperparameter tuning functionality, you can run the optional tuning step."
   ]
  },
  {
   "cell_type": "markdown",
   "metadata": {},
   "source": [
    "## 5: Tune your model! (optional)"
   ]
  },
  {
   "cell_type": "markdown",
   "metadata": {},
   "source": [
    "### A. Tuning Guidelines"
   ]
  },
  {
   "cell_type": "markdown",
   "metadata": {},
   "source": [
    "The model has the following hyperparameters, all of which are tunable:\n",
    "- `sequence-length`: `int`. The length of the sequences.\n",
    "- `sequence-stride`: `int`. The period between consecutive sequences.\n",
    "- `hidden-size`: `int`. The number of hidden units of each LSTM layer.\n",
    "- `lr`: `float`. The learning rate used for training.\n",
    "- `batch-size`: `int`. The batch size used for training.\n",
    "- `epochs`: `int`. The number of training epochs."
   ]
  },
  {
   "cell_type": "markdown",
   "metadata": {},
   "source": [
    "### B. Define Tuning configuration"
   ]
  },
  {
   "cell_type": "code",
   "execution_count": 38,
   "metadata": {
    "tags": []
   },
   "outputs": [],
   "source": [
    "hyperparameter_ranges = {\n",
    "    \"hidden-size\": sagemaker.parameter.IntegerParameter(32, 128),\n",
    "    \"lr\": sagemaker.parameter.ContinuousParameter(0.001, 0.01),\n",
    "    \"batch-size\": sagemaker.parameter.CategoricalParameter([32, 64]),\n",
    "    \"epochs\": sagemaker.parameter.IntegerParameter(100, 200),\n",
    "}"
   ]
  },
  {
   "cell_type": "markdown",
   "metadata": {},
   "source": [
    "We use the validation mean absolute error (MAE) as the objective to be minimized."
   ]
  },
  {
   "cell_type": "code",
   "execution_count": 39,
   "metadata": {
    "tags": []
   },
   "outputs": [],
   "source": [
    "objective_metric_name = \"valid_mae\""
   ]
  },
  {
   "cell_type": "code",
   "execution_count": 40,
   "metadata": {
    "tags": []
   },
   "outputs": [],
   "source": [
    "objective_type = \"Minimize\""
   ]
  },
  {
   "cell_type": "markdown",
   "metadata": {},
   "source": [
    "### C. Run a model tuning job"
   ]
  },
  {
   "cell_type": "markdown",
   "metadata": {},
   "source": [
    "In the interest of time, we run the tuner only for a few iterations. "
   ]
  },
  {
   "cell_type": "code",
   "execution_count": 41,
   "metadata": {
    "tags": []
   },
   "outputs": [],
   "source": [
    "tuner = sagemaker.tuner.HyperparameterTuner(\n",
    "    estimator=estimator,\n",
    "    base_tuning_job_name=\"lstm-ae-tuning\",\n",
    "    objective_metric_name=objective_metric_name,\n",
    "    objective_type=objective_type,\n",
    "    hyperparameter_ranges=hyperparameter_ranges,\n",
    "    max_jobs=4,\n",
    "    max_parallel_jobs=4,\n",
    "    random_seed=100,\n",
    ")"
   ]
  },
  {
   "cell_type": "code",
   "execution_count": 42,
   "metadata": {
    "tags": []
   },
   "outputs": [
    {
     "name": "stderr",
     "output_type": "stream",
     "text": [
      "INFO:sagemaker:Creating hyperparameter tuning job with name: lstm-ae-tuning-231003-1458\n"
     ]
    },
    {
     "name": "stdout",
     "output_type": "stream",
     "text": [
      "........................................................................................!\n"
     ]
    }
   ],
   "source": [
    "tuner.fit({\"training\": training_data, \"validation\": validation_data})"
   ]
  },
  {
   "cell_type": "code",
   "execution_count": 43,
   "metadata": {
    "tags": []
   },
   "outputs": [
    {
     "data": {
      "text/html": [
       "<div>\n",
       "<style scoped>\n",
       "    .dataframe tbody tr th:only-of-type {\n",
       "        vertical-align: middle;\n",
       "    }\n",
       "\n",
       "    .dataframe tbody tr th {\n",
       "        vertical-align: top;\n",
       "    }\n",
       "\n",
       "    .dataframe thead th {\n",
       "        text-align: right;\n",
       "    }\n",
       "</style>\n",
       "<table border=\"1\" class=\"dataframe\">\n",
       "  <thead>\n",
       "    <tr style=\"text-align: right;\">\n",
       "      <th></th>\n",
       "      <th>batch-size</th>\n",
       "      <th>epochs</th>\n",
       "      <th>hidden-size</th>\n",
       "      <th>lr</th>\n",
       "      <th>TrainingJobName</th>\n",
       "      <th>TrainingJobStatus</th>\n",
       "      <th>FinalObjectiveValue</th>\n",
       "      <th>TrainingStartTime</th>\n",
       "      <th>TrainingEndTime</th>\n",
       "      <th>TrainingElapsedTimeSeconds</th>\n",
       "    </tr>\n",
       "  </thead>\n",
       "  <tbody>\n",
       "    <tr>\n",
       "      <th>0</th>\n",
       "      <td>32.0</td>\n",
       "      <td>184.0</td>\n",
       "      <td>79.0</td>\n",
       "      <td>0.002332</td>\n",
       "      <td>lstm-ae-tuning-231003-1458-001-163df0e2</td>\n",
       "      <td>Completed</td>\n",
       "      <td>0.080649</td>\n",
       "      <td>2023-10-03 14:59:59+00:00</td>\n",
       "      <td>2023-10-03 15:06:17+00:00</td>\n",
       "      <td>378.0</td>\n",
       "    </tr>\n",
       "    <tr>\n",
       "      <th>1</th>\n",
       "      <td>64.0</td>\n",
       "      <td>197.0</td>\n",
       "      <td>75.0</td>\n",
       "      <td>0.009906</td>\n",
       "      <td>lstm-ae-tuning-231003-1458-004-e856eda3</td>\n",
       "      <td>Completed</td>\n",
       "      <td>0.081483</td>\n",
       "      <td>2023-10-03 15:00:00+00:00</td>\n",
       "      <td>2023-10-03 15:05:33+00:00</td>\n",
       "      <td>333.0</td>\n",
       "    </tr>\n",
       "    <tr>\n",
       "      <th>2</th>\n",
       "      <td>64.0</td>\n",
       "      <td>121.0</td>\n",
       "      <td>64.0</td>\n",
       "      <td>0.009069</td>\n",
       "      <td>lstm-ae-tuning-231003-1458-003-7ebdbd0b</td>\n",
       "      <td>Completed</td>\n",
       "      <td>0.097027</td>\n",
       "      <td>2023-10-03 14:59:57+00:00</td>\n",
       "      <td>2023-10-03 15:05:20+00:00</td>\n",
       "      <td>323.0</td>\n",
       "    </tr>\n",
       "    <tr>\n",
       "      <th>3</th>\n",
       "      <td>32.0</td>\n",
       "      <td>189.0</td>\n",
       "      <td>35.0</td>\n",
       "      <td>0.007927</td>\n",
       "      <td>lstm-ae-tuning-231003-1458-002-c75896cb</td>\n",
       "      <td>Completed</td>\n",
       "      <td>0.122438</td>\n",
       "      <td>2023-10-03 14:59:56+00:00</td>\n",
       "      <td>2023-10-03 15:05:54+00:00</td>\n",
       "      <td>358.0</td>\n",
       "    </tr>\n",
       "  </tbody>\n",
       "</table>\n",
       "</div>"
      ],
      "text/plain": [
       "   batch-size  epochs  hidden-size        lr  \\\n",
       "0        32.0   184.0         79.0  0.002332   \n",
       "1        64.0   197.0         75.0  0.009906   \n",
       "2        64.0   121.0         64.0  0.009069   \n",
       "3        32.0   189.0         35.0  0.007927   \n",
       "\n",
       "                           TrainingJobName TrainingJobStatus  \\\n",
       "0  lstm-ae-tuning-231003-1458-001-163df0e2         Completed   \n",
       "1  lstm-ae-tuning-231003-1458-004-e856eda3         Completed   \n",
       "2  lstm-ae-tuning-231003-1458-003-7ebdbd0b         Completed   \n",
       "3  lstm-ae-tuning-231003-1458-002-c75896cb         Completed   \n",
       "\n",
       "   FinalObjectiveValue         TrainingStartTime           TrainingEndTime  \\\n",
       "0             0.080649 2023-10-03 14:59:59+00:00 2023-10-03 15:06:17+00:00   \n",
       "1             0.081483 2023-10-03 15:00:00+00:00 2023-10-03 15:05:33+00:00   \n",
       "2             0.097027 2023-10-03 14:59:57+00:00 2023-10-03 15:05:20+00:00   \n",
       "3             0.122438 2023-10-03 14:59:56+00:00 2023-10-03 15:05:54+00:00   \n",
       "\n",
       "   TrainingElapsedTimeSeconds  \n",
       "0                       378.0  \n",
       "1                       333.0  \n",
       "2                       323.0  \n",
       "3                       358.0  "
      ]
     },
     "execution_count": 43,
     "metadata": {},
     "output_type": "execute_result"
    }
   ],
   "source": [
    "tuner.analytics().dataframe().sort_values(by=\"FinalObjectiveValue\", ascending=True, ignore_index=True)"
   ]
  },
  {
   "cell_type": "code",
   "execution_count": 44,
   "metadata": {
    "tags": []
   },
   "outputs": [],
   "source": [
    "tuning_job_result = sagemaker_session.sagemaker_client.describe_hyper_parameter_tuning_job(\n",
    "    HyperParameterTuningJobName=tuner.latest_tuning_job.name\n",
    ")"
   ]
  },
  {
   "cell_type": "code",
   "execution_count": 45,
   "metadata": {
    "tags": []
   },
   "outputs": [
    {
     "name": "stdout",
     "output_type": "stream",
     "text": [
      "Best hyperparameters:\n"
     ]
    },
    {
     "data": {
      "text/plain": [
       "{'batch-size': '32',\n",
       " 'epochs': '184',\n",
       " 'hidden-size': '79',\n",
       " 'lr': '0.002332046610717271'}"
      ]
     },
     "execution_count": 45,
     "metadata": {},
     "output_type": "execute_result"
    }
   ],
   "source": [
    "print(\"Best hyperparameters:\")\n",
    "tuning_job_result[\"BestTrainingJob\"][\"TunedHyperParameters\"]"
   ]
  },
  {
   "cell_type": "code",
   "execution_count": 46,
   "metadata": {
    "tags": []
   },
   "outputs": [
    {
     "name": "stdout",
     "output_type": "stream",
     "text": [
      "Best score:\n"
     ]
    },
    {
     "data": {
      "text/plain": [
       "0.08064871281385422"
      ]
     },
     "execution_count": 46,
     "metadata": {},
     "output_type": "execute_result"
    }
   ],
   "source": [
    "print(\"Best score:\")\n",
    "tuning_job_result[\"BestTrainingJob\"][\"FinalHyperParameterTuningJobObjectiveMetric\"][\"Value\"]"
   ]
  },
  {
   "cell_type": "markdown",
   "metadata": {},
   "source": [
    "Once you have completed a tuning job (or even while the job is still running), you can [clone and use this notebook](https://github.com/awslabs/amazon-sagemaker-examples/blob/master/hyperparameter_tuning/analyze_results/HPO_Analyze_TuningJob_Results.ipynb) to analyze the results to understand how each hyperparameter effects the quality of the model."
   ]
  },
  {
   "cell_type": "markdown",
   "metadata": {},
   "source": [
    "## 6. Perform Batch inference"
   ]
  },
  {
   "cell_type": "markdown",
   "metadata": {},
   "source": [
    "In this section, you will perform batch inference."
   ]
  },
  {
   "cell_type": "code",
   "execution_count": 47,
   "metadata": {
    "tags": []
   },
   "outputs": [
    {
     "name": "stderr",
     "output_type": "stream",
     "text": [
      "INFO:sagemaker:Creating model package with name: lstm-ae-algo-v1-2-2023-10-03-15-06-21-725\n"
     ]
    },
    {
     "name": "stdout",
     "output_type": "stream",
     "text": [
      "........."
     ]
    },
    {
     "name": "stderr",
     "output_type": "stream",
     "text": [
      "INFO:sagemaker:Creating model with name: lstm-ae-algo-v1-2-2023-10-03-15-06-21-7-2023-10-03-15-07-07-126\n"
     ]
    },
    {
     "name": "stdout",
     "output_type": "stream",
     "text": [
      "\n"
     ]
    }
   ],
   "source": [
    "transformer = estimator.transformer(\n",
    "    instance_count=1,\n",
    "    instance_type=instance_type,\n",
    ")"
   ]
  },
  {
   "cell_type": "code",
   "execution_count": 48,
   "metadata": {
    "tags": []
   },
   "outputs": [],
   "source": [
    "transformer.base_transform_job_name = \"lstm-ae-transform\""
   ]
  },
  {
   "cell_type": "code",
   "execution_count": 49,
   "metadata": {
    "tags": []
   },
   "outputs": [
    {
     "name": "stderr",
     "output_type": "stream",
     "text": [
      "INFO:sagemaker:Creating transform job with name: lstm-ae-transform-2023-10-03-15-07-07-878\n"
     ]
    },
    {
     "name": "stdout",
     "output_type": "stream",
     "text": [
      "............................................\u001b[34mWarning: TorchServe is using non-default JVM parameters: -XX:-UseContainerSupport\u001b[0m\n",
      "\u001b[34mWARNING: sun.reflect.Reflection.getCallerClass is not supported. This will impact performance.\u001b[0m\n",
      "\u001b[34m2023-10-03T15:14:30,482 [WARN ] main org.pytorch.serve.util.ConfigManager - Your torchserve instance can access any URL to load models. When deploying to production, make sure to limit the set of allowed_urls in config.properties\u001b[0m\n",
      "\u001b[34m2023-10-03T15:14:30,485 [INFO ] main org.pytorch.serve.servingsdk.impl.PluginsManager - Initializing plugins manager...\u001b[0m\n",
      "\u001b[34m2023-10-03T15:14:30,551 [INFO ] main org.pytorch.serve.metrics.configuration.MetricConfiguration - Successfully loaded metrics configuration from /opt/conda/lib/python3.10/site-packages/ts/configs/metrics.yaml\u001b[0m\n",
      "\u001b[34m2023-10-03T15:14:30,662 [INFO ] main org.pytorch.serve.ModelServer - \u001b[0m\n",
      "\u001b[34mTorchserve version: 0.8.2\u001b[0m\n",
      "\u001b[34mTS Home: /opt/conda/lib/python3.10/site-packages\u001b[0m\n",
      "\u001b[34mCurrent directory: /\u001b[0m\n",
      "\u001b[34mTemp directory: /home/model-server/tmp\u001b[0m\n",
      "\u001b[34mMetrics config path: /opt/conda/lib/python3.10/site-packages/ts/configs/metrics.yaml\u001b[0m\n",
      "\u001b[34mNumber of GPUs: 0\u001b[0m\n",
      "\u001b[34mNumber of CPUs: 8\u001b[0m\n",
      "\u001b[34mMax heap size: 7924 M\u001b[0m\n",
      "\u001b[34mPython executable: /opt/conda/bin/python3.10\u001b[0m\n",
      "\u001b[34mConfig file: /etc/sagemaker-ts.properties\u001b[0m\n",
      "\u001b[34mInference address: http://0.0.0.0:8080\u001b[0m\n",
      "\u001b[34mManagement address: http://0.0.0.0:8080\u001b[0m\n",
      "\u001b[34mMetrics address: http://127.0.0.1:8082\u001b[0m\n",
      "\u001b[34mModel Store: /.sagemaker/ts/models\u001b[0m\n",
      "\u001b[34mInitial Models: model=/opt/ml/model\u001b[0m\n",
      "\u001b[34mLog dir: /logs\u001b[0m\n",
      "\u001b[34mMetrics dir: /logs\u001b[0m\n",
      "\u001b[34mNetty threads: 0\u001b[0m\n",
      "\u001b[34mNetty client threads: 0\u001b[0m\n",
      "\u001b[34mDefault workers per model: 8\u001b[0m\n",
      "\u001b[34mBlacklist Regex: N/A\u001b[0m\n",
      "\u001b[34mMaximum Response Size: 6553500\u001b[0m\n",
      "\u001b[34mMaximum Request Size: 6553500\u001b[0m\n",
      "\u001b[34mLimit Maximum Image Pixels: true\u001b[0m\n",
      "\u001b[34mPrefer direct buffer: false\u001b[0m\n",
      "\u001b[34mAllowed Urls: [file://.*|http(s)?://.*]\u001b[0m\n",
      "\u001b[34mCustom python dependency for model allowed: false\u001b[0m\n",
      "\u001b[34mEnable metrics API: true\u001b[0m\n",
      "\u001b[34mMetrics mode: log\u001b[0m\n",
      "\u001b[34mDisable system metrics: true\u001b[0m\n",
      "\u001b[34mWorkflow Store: /.sagemaker/ts/models\u001b[0m\n",
      "\u001b[34mModel config: N/A\u001b[0m\n",
      "\u001b[34m2023-10-03T15:14:30,669 [INFO ] main org.pytorch.serve.servingsdk.impl.PluginsManager -  Loading snapshot serializer plugin...\u001b[0m\n",
      "\u001b[34m2023-10-03T15:14:30,688 [INFO ] main org.pytorch.serve.ModelServer - Loading initial models: /opt/ml/model\u001b[0m\n",
      "\u001b[34m2023-10-03T15:14:30,692 [WARN ] main org.pytorch.serve.archive.model.ModelArchive - Model archive version is not defined. Please upgrade to torch-model-archiver 0.2.0 or higher\u001b[0m\n",
      "\u001b[34m2023-10-03T15:14:30,692 [WARN ] main org.pytorch.serve.archive.model.ModelArchive - Model archive createdOn is not defined. Please upgrade to torch-model-archiver 0.2.0 or higher\u001b[0m\n",
      "\u001b[34m2023-10-03T15:14:30,694 [INFO ] main org.pytorch.serve.wlm.ModelManager - Model model loaded.\u001b[0m\n",
      "\u001b[34m2023-10-03T15:14:30,707 [INFO ] main org.pytorch.serve.ModelServer - Initialize Inference server with: EpollServerSocketChannel.\u001b[0m\n",
      "\u001b[34m2023-10-03T15:14:31,002 [INFO ] main org.pytorch.serve.ModelServer - Inference API bind to: http://0.0.0.0:8080\u001b[0m\n",
      "\u001b[34m2023-10-03T15:14:31,003 [INFO ] main org.pytorch.serve.ModelServer - Initialize Metrics server with: EpollServerSocketChannel.\u001b[0m\n",
      "\u001b[34m2023-10-03T15:14:31,056 [INFO ] main org.pytorch.serve.ModelServer - Metrics API bind to: http://127.0.0.1:8082\u001b[0m\n",
      "\u001b[34mModel server started.\u001b[0m\n",
      "\u001b[34m2023-10-03T15:14:33,261 [INFO ] W-9005-model_1.0-stdout MODEL_LOG - s_name_part0=/home/model-server/tmp/.ts.sock, s_name_part1=9005, pid=63\u001b[0m\n",
      "\u001b[34m2023-10-03T15:14:33,262 [INFO ] W-9005-model_1.0-stdout MODEL_LOG - Listening on port: /home/model-server/tmp/.ts.sock.9005\u001b[0m\n",
      "\u001b[34m2023-10-03T15:14:33,280 [INFO ] W-9005-model_1.0-stdout MODEL_LOG - Successfully loaded /opt/conda/lib/python3.10/site-packages/ts/configs/metrics.yaml.\u001b[0m\n",
      "\u001b[34m2023-10-03T15:14:33,281 [INFO ] W-9005-model_1.0-stdout MODEL_LOG - [PID]63\u001b[0m\n",
      "\u001b[34m2023-10-03T15:14:33,281 [INFO ] W-9005-model_1.0-stdout MODEL_LOG - Torch worker started.\u001b[0m\n",
      "\u001b[34m2023-10-03T15:14:33,281 [INFO ] W-9000-model_1.0-stdout MODEL_LOG - s_name_part0=/home/model-server/tmp/.ts.sock, s_name_part1=9000, pid=65\u001b[0m\n",
      "\u001b[34m2023-10-03T15:14:33,282 [INFO ] W-9005-model_1.0-stdout MODEL_LOG - Python runtime: 3.10.9\u001b[0m\n",
      "\u001b[34m2023-10-03T15:14:33,282 [INFO ] W-9000-model_1.0-stdout MODEL_LOG - Listening on port: /home/model-server/tmp/.ts.sock.9000\u001b[0m\n",
      "\u001b[34m2023-10-03T15:14:33,286 [INFO ] W-9003-model_1.0-stdout MODEL_LOG - s_name_part0=/home/model-server/tmp/.ts.sock, s_name_part1=9003, pid=62\u001b[0m\n",
      "\u001b[34m2023-10-03T15:14:33,288 [INFO ] W-9003-model_1.0-stdout MODEL_LOG - Listening on port: /home/model-server/tmp/.ts.sock.9003\u001b[0m\n",
      "\u001b[34m2023-10-03T15:14:33,290 [INFO ] W-9005-model_1.0 org.pytorch.serve.wlm.WorkerThread - Connecting to: /home/model-server/tmp/.ts.sock.9005\u001b[0m\n",
      "\u001b[34m2023-10-03T15:14:33,302 [INFO ] W-9000-model_1.0-stdout MODEL_LOG - Successfully loaded /opt/conda/lib/python3.10/site-packages/ts/configs/metrics.yaml.\u001b[0m\n",
      "\u001b[34m2023-10-03T15:14:33,303 [INFO ] W-9003-model_1.0-stdout MODEL_LOG - Successfully loaded /opt/conda/lib/python3.10/site-packages/ts/configs/metrics.yaml.\u001b[0m\n",
      "\u001b[34m2023-10-03T15:14:33,303 [INFO ] W-9003-model_1.0-stdout MODEL_LOG - [PID]62\u001b[0m\n",
      "\u001b[34m2023-10-03T15:14:33,303 [INFO ] W-9000-model_1.0-stdout MODEL_LOG - [PID]65\u001b[0m\n",
      "\u001b[34m2023-10-03T15:14:33,304 [INFO ] W-9003-model_1.0-stdout MODEL_LOG - Torch worker started.\u001b[0m\n",
      "\u001b[34m2023-10-03T15:14:33,304 [INFO ] W-9003-model_1.0-stdout MODEL_LOG - Python runtime: 3.10.9\u001b[0m\n",
      "\u001b[34m2023-10-03T15:14:33,305 [INFO ] W-9003-model_1.0 org.pytorch.serve.wlm.WorkerThread - Connecting to: /home/model-server/tmp/.ts.sock.9003\u001b[0m\n",
      "\u001b[34m2023-10-03T15:14:33,313 [INFO ] W-9000-model_1.0-stdout MODEL_LOG - Torch worker started.\u001b[0m\n",
      "\u001b[34m2023-10-03T15:14:33,314 [INFO ] W-9000-model_1.0 org.pytorch.serve.wlm.WorkerThread - Connecting to: /home/model-server/tmp/.ts.sock.9000\u001b[0m\n",
      "\u001b[34m2023-10-03T15:14:33,317 [INFO ] W-9000-model_1.0-stdout MODEL_LOG - Python runtime: 3.10.9\u001b[0m\n",
      "\u001b[34m2023-10-03T15:14:33,321 [INFO ] W-9003-model_1.0-stdout MODEL_LOG - Connection accepted: /home/model-server/tmp/.ts.sock.9003.\u001b[0m\n",
      "\u001b[34m2023-10-03T15:14:33,323 [INFO ] W-9005-model_1.0-stdout MODEL_LOG - Connection accepted: /home/model-server/tmp/.ts.sock.9005.\u001b[0m\n",
      "\u001b[34m2023-10-03T15:14:33,325 [INFO ] W-9003-model_1.0 org.pytorch.serve.wlm.WorkerThread - Flushing req.cmd LOAD to backend at: 1696346073325\u001b[0m\n",
      "\u001b[34m2023-10-03T15:14:33,328 [INFO ] W-9000-model_1.0 org.pytorch.serve.wlm.WorkerThread - Flushing req.cmd LOAD to backend at: 1696346073328\u001b[0m\n",
      "\u001b[34m2023-10-03T15:14:33,330 [INFO ] W-9005-model_1.0 org.pytorch.serve.wlm.WorkerThread - Flushing req.cmd LOAD to backend at: 1696346073330\u001b[0m\n",
      "\u001b[34m2023-10-03T15:14:33,333 [INFO ] W-9000-model_1.0-stdout MODEL_LOG - Connection accepted: /home/model-server/tmp/.ts.sock.9000.\u001b[0m\n",
      "\u001b[34m2023-10-03T15:14:33,352 [INFO ] W-9001-model_1.0-stdout MODEL_LOG - s_name_part0=/home/model-server/tmp/.ts.sock, s_name_part1=9001, pid=68\u001b[0m\n",
      "\u001b[34m2023-10-03T15:14:33,353 [INFO ] W-9001-model_1.0-stdout MODEL_LOG - Listening on port: /home/model-server/tmp/.ts.sock.9001\u001b[0m\n",
      "\u001b[34m2023-10-03T15:14:33,368 [INFO ] W-9001-model_1.0-stdout MODEL_LOG - Successfully loaded /opt/conda/lib/python3.10/site-packages/ts/configs/metrics.yaml.\u001b[0m\n",
      "\u001b[34m2023-10-03T15:14:33,369 [INFO ] W-9001-model_1.0-stdout MODEL_LOG - [PID]68\u001b[0m\n",
      "\u001b[34m2023-10-03T15:14:33,370 [INFO ] W-9001-model_1.0-stdout MODEL_LOG - Torch worker started.\u001b[0m\n",
      "\u001b[34m2023-10-03T15:14:33,371 [INFO ] W-9001-model_1.0-stdout MODEL_LOG - Python runtime: 3.10.9\u001b[0m\n",
      "\u001b[34m2023-10-03T15:14:33,376 [INFO ] W-9001-model_1.0 org.pytorch.serve.wlm.WorkerThread - Connecting to: /home/model-server/tmp/.ts.sock.9001\u001b[0m\n",
      "\u001b[34m2023-10-03T15:14:33,389 [INFO ] W-9001-model_1.0 org.pytorch.serve.wlm.WorkerThread - Flushing req.cmd LOAD to backend at: 1696346073389\u001b[0m\n",
      "\u001b[34m2023-10-03T15:14:33,389 [INFO ] W-9001-model_1.0-stdout MODEL_LOG - Connection accepted: /home/model-server/tmp/.ts.sock.9001.\u001b[0m\n",
      "\u001b[34m2023-10-03T15:14:33,420 [INFO ] W-9003-model_1.0-stdout MODEL_LOG - model_name: model, batchSize: 1\u001b[0m\n",
      "\u001b[34m2023-10-03T15:14:33,432 [INFO ] W-9005-model_1.0-stdout MODEL_LOG - model_name: model, batchSize: 1\u001b[0m\n",
      "\u001b[34m2023-10-03T15:14:33,440 [INFO ] W-9001-model_1.0-stdout MODEL_LOG - model_name: model, batchSize: 1\u001b[0m\n",
      "\u001b[34m2023-10-03T15:14:33,444 [INFO ] W-9000-model_1.0-stdout MODEL_LOG - model_name: model, batchSize: 1\u001b[0m\n",
      "\u001b[34m2023-10-03T15:14:33,451 [INFO ] W-9002-model_1.0-stdout MODEL_LOG - s_name_part0=/home/model-server/tmp/.ts.sock, s_name_part1=9002, pid=64\u001b[0m\n",
      "\u001b[34m2023-10-03T15:14:33,452 [INFO ] W-9002-model_1.0-stdout MODEL_LOG - Listening on port: /home/model-server/tmp/.ts.sock.9002\u001b[0m\n",
      "\u001b[34m2023-10-03T15:14:33,485 [INFO ] W-9002-model_1.0-stdout MODEL_LOG - Successfully loaded /opt/conda/lib/python3.10/site-packages/ts/configs/metrics.yaml.\u001b[0m\n",
      "\u001b[34m2023-10-03T15:14:33,489 [INFO ] W-9002-model_1.0-stdout MODEL_LOG - [PID]64\u001b[0m\n",
      "\u001b[34m2023-10-03T15:14:33,489 [INFO ] W-9002-model_1.0-stdout MODEL_LOG - Torch worker started.\u001b[0m\n",
      "\u001b[34m2023-10-03T15:14:33,489 [INFO ] W-9002-model_1.0-stdout MODEL_LOG - Python runtime: 3.10.9\u001b[0m\n",
      "\u001b[34m2023-10-03T15:14:33,489 [INFO ] W-9002-model_1.0 org.pytorch.serve.wlm.WorkerThread - Connecting to: /home/model-server/tmp/.ts.sock.9002\u001b[0m\n",
      "\u001b[34m2023-10-03T15:14:33,501 [INFO ] W-9002-model_1.0-stdout MODEL_LOG - Connection accepted: /home/model-server/tmp/.ts.sock.9002.\u001b[0m\n",
      "\u001b[34m2023-10-03T15:14:33,508 [INFO ] W-9002-model_1.0 org.pytorch.serve.wlm.WorkerThread - Flushing req.cmd LOAD to backend at: 1696346073508\u001b[0m\n",
      "\u001b[34m2023-10-03T15:14:33,548 [INFO ] W-9002-model_1.0-stdout MODEL_LOG - model_name: model, batchSize: 1\u001b[0m\n",
      "\u001b[34m2023-10-03T15:14:33,562 [INFO ] W-9007-model_1.0-stdout MODEL_LOG - s_name_part0=/home/model-server/tmp/.ts.sock, s_name_part1=9007, pid=69\u001b[0m\n",
      "\u001b[34m2023-10-03T15:14:33,564 [INFO ] W-9007-model_1.0-stdout MODEL_LOG - Listening on port: /home/model-server/tmp/.ts.sock.9007\u001b[0m\n",
      "\u001b[34m2023-10-03T15:14:33,581 [INFO ] W-9007-model_1.0-stdout MODEL_LOG - Successfully loaded /opt/conda/lib/python3.10/site-packages/ts/configs/metrics.yaml.\u001b[0m\n",
      "\u001b[34m2023-10-03T15:14:33,582 [INFO ] W-9007-model_1.0-stdout MODEL_LOG - [PID]69\u001b[0m\n",
      "\u001b[34m2023-10-03T15:14:33,583 [INFO ] W-9007-model_1.0-stdout MODEL_LOG - Torch worker started.\u001b[0m\n",
      "\u001b[34m2023-10-03T15:14:33,583 [INFO ] W-9007-model_1.0 org.pytorch.serve.wlm.WorkerThread - Connecting to: /home/model-server/tmp/.ts.sock.9007\u001b[0m\n",
      "\u001b[34m2023-10-03T15:14:33,585 [INFO ] W-9007-model_1.0-stdout MODEL_LOG - Python runtime: 3.10.9\u001b[0m\n",
      "\u001b[34m2023-10-03T15:14:33,606 [INFO ] W-9007-model_1.0-stdout MODEL_LOG - Connection accepted: /home/model-server/tmp/.ts.sock.9007.\u001b[0m\n",
      "\u001b[34m2023-10-03T15:14:33,616 [INFO ] W-9007-model_1.0 org.pytorch.serve.wlm.WorkerThread - Flushing req.cmd LOAD to backend at: 1696346073616\u001b[0m\n",
      "\u001b[34m2023-10-03T15:14:33,652 [INFO ] W-9007-model_1.0-stdout MODEL_LOG - model_name: model, batchSize: 1\u001b[0m\n",
      "\u001b[34m2023-10-03T15:14:33,779 [INFO ] W-9004-model_1.0-stdout MODEL_LOG - s_name_part0=/home/model-server/tmp/.ts.sock, s_name_part1=9004, pid=67\u001b[0m\n",
      "\u001b[34m2023-10-03T15:14:33,784 [INFO ] W-9006-model_1.0-stdout MODEL_LOG - s_name_part0=/home/model-server/tmp/.ts.sock, s_name_part1=9006, pid=66\u001b[0m\n",
      "\u001b[34m2023-10-03T15:14:33,784 [INFO ] W-9006-model_1.0-stdout MODEL_LOG - Listening on port: /home/model-server/tmp/.ts.sock.9006\u001b[0m\n",
      "\u001b[34m2023-10-03T15:14:33,784 [INFO ] W-9004-model_1.0-stdout MODEL_LOG - Listening on port: /home/model-server/tmp/.ts.sock.9004\u001b[0m\n",
      "\u001b[34m2023-10-03T15:14:33,807 [INFO ] W-9006-model_1.0-stdout MODEL_LOG - Successfully loaded /opt/conda/lib/python3.10/site-packages/ts/configs/metrics.yaml.\u001b[0m\n",
      "\u001b[34m2023-10-03T15:14:33,814 [INFO ] W-9006-model_1.0-stdout MODEL_LOG - [PID]66\u001b[0m\n",
      "\u001b[34m2023-10-03T15:14:33,815 [INFO ] W-9006-model_1.0-stdout MODEL_LOG - Torch worker started.\u001b[0m\n",
      "\u001b[34m2023-10-03T15:14:33,815 [INFO ] W-9006-model_1.0 org.pytorch.serve.wlm.WorkerThread - Connecting to: /home/model-server/tmp/.ts.sock.9006\u001b[0m\n",
      "\u001b[34m2023-10-03T15:14:33,817 [INFO ] W-9006-model_1.0-stdout MODEL_LOG - Python runtime: 3.10.9\u001b[0m\n",
      "\u001b[34m2023-10-03T15:14:33,832 [INFO ] W-9004-model_1.0-stdout MODEL_LOG - Successfully loaded /opt/conda/lib/python3.10/site-packages/ts/configs/metrics.yaml.\u001b[0m\n",
      "\u001b[34m2023-10-03T15:14:33,833 [INFO ] W-9004-model_1.0-stdout MODEL_LOG - [PID]67\u001b[0m\n",
      "\u001b[34m2023-10-03T15:14:33,839 [INFO ] W-9004-model_1.0-stdout MODEL_LOG - Torch worker started.\u001b[0m\n",
      "\u001b[34m2023-10-03T15:14:33,859 [INFO ] W-9004-model_1.0 org.pytorch.serve.wlm.WorkerThread - Connecting to: /home/model-server/tmp/.ts.sock.9004\u001b[0m\n",
      "\u001b[34m2023-10-03T15:14:33,860 [INFO ] W-9004-model_1.0-stdout MODEL_LOG - Python runtime: 3.10.9\u001b[0m\n",
      "\u001b[34m2023-10-03T15:14:33,864 [INFO ] W-9006-model_1.0-stdout MODEL_LOG - Connection accepted: /home/model-server/tmp/.ts.sock.9006.\u001b[0m\n",
      "\u001b[34m2023-10-03T15:14:33,864 [INFO ] W-9006-model_1.0 org.pytorch.serve.wlm.WorkerThread - Flushing req.cmd LOAD to backend at: 1696346073864\u001b[0m\n",
      "\u001b[34m2023-10-03T15:14:33,877 [INFO ] W-9004-model_1.0-stdout MODEL_LOG - Connection accepted: /home/model-server/tmp/.ts.sock.9004.\u001b[0m\n",
      "\u001b[34m2023-10-03T15:14:33,883 [INFO ] W-9004-model_1.0 org.pytorch.serve.wlm.WorkerThread - Flushing req.cmd LOAD to backend at: 1696346073883\u001b[0m\n",
      "\u001b[34m2023-10-03T15:14:33,940 [INFO ] W-9006-model_1.0-stdout MODEL_LOG - model_name: model, batchSize: 1\u001b[0m\n",
      "\u001b[34m2023-10-03T15:14:33,961 [INFO ] W-9004-model_1.0-stdout MODEL_LOG - model_name: model, batchSize: 1\u001b[0m\n",
      "\u001b[34m2023-10-03T15:14:34,234 [INFO ] W-9003-model_1.0 org.pytorch.serve.wlm.WorkerThread - Backend response time: 819\u001b[0m\n",
      "\u001b[34m2023-10-03T15:14:34,236 [INFO ] W-9003-model_1.0 TS_METRICS - WorkerLoadTime.Milliseconds:3533.0|#WorkerName:W-9003-model_1.0,Level:Host|#hostname:7cd5d02c617b,timestamp:1696346074\u001b[0m\n",
      "\u001b[34m2023-10-03T15:14:34,237 [INFO ] W-9003-model_1.0 TS_METRICS - WorkerThreadTime.Milliseconds:93.0|#Level:Host|#hostname:7cd5d02c617b,timestamp:1696346074\u001b[0m\n",
      "\u001b[34m2023-10-03T15:14:34,327 [INFO ] W-9001-model_1.0 org.pytorch.serve.wlm.WorkerThread - Backend response time: 875\u001b[0m\n",
      "\u001b[34m2023-10-03T15:14:34,328 [INFO ] W-9001-model_1.0 TS_METRICS - WorkerLoadTime.Milliseconds:3626.0|#WorkerName:W-9001-model_1.0,Level:Host|#hostname:7cd5d02c617b,timestamp:1696346074\u001b[0m\n",
      "\u001b[34m2023-10-03T15:14:34,328 [INFO ] W-9001-model_1.0 TS_METRICS - WorkerThreadTime.Milliseconds:64.0|#Level:Host|#hostname:7cd5d02c617b,timestamp:1696346074\u001b[0m\n",
      "\u001b[34m2023-10-03T15:14:34,400 [INFO ] W-9005-model_1.0 org.pytorch.serve.wlm.WorkerThread - Backend response time: 976\u001b[0m\n",
      "\u001b[34m2023-10-03T15:14:34,400 [INFO ] W-9005-model_1.0 TS_METRICS - WorkerLoadTime.Milliseconds:3697.0|#WorkerName:W-9005-model_1.0,Level:Host|#hostname:7cd5d02c617b,timestamp:1696346074\u001b[0m\n",
      "\u001b[34m2023-10-03T15:14:34,400 [INFO ] W-9005-model_1.0 TS_METRICS - WorkerThreadTime.Milliseconds:94.0|#Level:Host|#hostname:7cd5d02c617b,timestamp:1696346074\u001b[0m\n",
      "\u001b[34m2023-10-03T15:14:34,419 [INFO ] W-9000-model_1.0 org.pytorch.serve.wlm.WorkerThread - Backend response time: 983\u001b[0m\n",
      "\u001b[34m2023-10-03T15:14:34,420 [INFO ] W-9000-model_1.0 TS_METRICS - WorkerLoadTime.Milliseconds:3720.0|#WorkerName:W-9000-model_1.0,Level:Host|#hostname:7cd5d02c617b,timestamp:1696346074\u001b[0m\n",
      "\u001b[34m2023-10-03T15:14:34,420 [INFO ] W-9000-model_1.0 TS_METRICS - WorkerThreadTime.Milliseconds:109.0|#Level:Host|#hostname:7cd5d02c617b,timestamp:1696346074\u001b[0m\n",
      "\u001b[34m2023-10-03T15:14:34,430 [INFO ] W-9002-model_1.0 org.pytorch.serve.wlm.WorkerThread - Backend response time: 865\u001b[0m\n",
      "\u001b[34m2023-10-03T15:14:34,431 [INFO ] W-9002-model_1.0 TS_METRICS - WorkerLoadTime.Milliseconds:3729.0|#WorkerName:W-9002-model_1.0,Level:Host|#hostname:7cd5d02c617b,timestamp:1696346074\u001b[0m\n",
      "\u001b[34m2023-10-03T15:14:34,431 [INFO ] W-9002-model_1.0 TS_METRICS - WorkerThreadTime.Milliseconds:58.0|#Level:Host|#hostname:7cd5d02c617b,timestamp:1696346074\u001b[0m\n",
      "\u001b[34m2023-10-03T15:14:34,453 [INFO ] W-9007-model_1.0 org.pytorch.serve.wlm.WorkerThread - Backend response time: 781\u001b[0m\n",
      "\u001b[34m2023-10-03T15:14:34,454 [INFO ] W-9007-model_1.0 TS_METRICS - WorkerLoadTime.Milliseconds:3750.0|#WorkerName:W-9007-model_1.0,Level:Host|#hostname:7cd5d02c617b,timestamp:1696346074\u001b[0m\n",
      "\u001b[34m2023-10-03T15:14:34,454 [INFO ] W-9007-model_1.0 TS_METRICS - WorkerThreadTime.Milliseconds:57.0|#Level:Host|#hostname:7cd5d02c617b,timestamp:1696346074\u001b[0m\n",
      "\u001b[34m2023-10-03T15:14:34,542 [INFO ] W-9004-model_1.0 org.pytorch.serve.wlm.WorkerThread - Backend response time: 566\u001b[0m\n",
      "\u001b[34m2023-10-03T15:14:34,543 [INFO ] W-9004-model_1.0 TS_METRICS - WorkerLoadTime.Milliseconds:3840.0|#WorkerName:W-9004-model_1.0,Level:Host|#hostname:7cd5d02c617b,timestamp:1696346074\u001b[0m\n",
      "\u001b[34m2023-10-03T15:14:34,543 [INFO ] W-9004-model_1.0 TS_METRICS - WorkerThreadTime.Milliseconds:94.0|#Level:Host|#hostname:7cd5d02c617b,timestamp:1696346074\u001b[0m\n",
      "\u001b[34m2023-10-03T15:14:34,556 [INFO ] W-9006-model_1.0 org.pytorch.serve.wlm.WorkerThread - Backend response time: 610\u001b[0m\n",
      "\u001b[34m2023-10-03T15:14:34,556 [INFO ] W-9006-model_1.0 TS_METRICS - WorkerLoadTime.Milliseconds:3853.0|#WorkerName:W-9006-model_1.0,Level:Host|#hostname:7cd5d02c617b,timestamp:1696346074\u001b[0m\n",
      "\u001b[34m2023-10-03T15:14:34,557 [INFO ] W-9006-model_1.0 TS_METRICS - WorkerThreadTime.Milliseconds:83.0|#Level:Host|#hostname:7cd5d02c617b,timestamp:1696346074\u001b[0m\n",
      "\u001b[34m2023-10-03T15:14:36,096 [INFO ] pool-2-thread-9 ACCESS_LOG - /169.254.255.130:52666 \"GET /ping HTTP/1.1\" 200 10\u001b[0m\n",
      "\u001b[34m2023-10-03T15:14:36,096 [INFO ] pool-2-thread-9 TS_METRICS - Requests2XX.Count:1.0|#Level:Host|#hostname:7cd5d02c617b,timestamp:1696346076\u001b[0m\n",
      "\u001b[34m2023-10-03T15:14:36,113 [INFO ] epollEventLoopGroup-3-2 ACCESS_LOG - /169.254.255.130:52678 \"GET /execution-parameters HTTP/1.1\" 404 1\u001b[0m\n",
      "\u001b[34m2023-10-03T15:14:36,114 [INFO ] epollEventLoopGroup-3-2 TS_METRICS - Requests4XX.Count:1.0|#Level:Host|#hostname:7cd5d02c617b,timestamp:1696346076\u001b[0m\n",
      "\u001b[34m2023-10-03T15:14:36,226 [INFO ] epollEventLoopGroup-3-3 TS_METRICS - ts_inference_requests_total.Count:1.0|#model_name:model,model_version:default|#hostname:7cd5d02c617b,timestamp:1696346076\u001b[0m\n",
      "\u001b[34m2023-10-03T15:14:36,227 [INFO ] W-9003-model_1.0 org.pytorch.serve.wlm.WorkerThread - Flushing req.cmd PREDICT to backend at: 1696346076227\u001b[0m\n",
      "\u001b[34m2023-10-03T15:14:36,229 [INFO ] W-9003-model_1.0-stdout MODEL_LOG - Backend received inference at: 1696346076\u001b[0m\n",
      "\u001b[34m2023-10-03T15:14:36,407 [INFO ] W-9003-model_1.0-stdout org.pytorch.serve.wlm.WorkerLifeCycle - result=[METRICS]PredictionTime.Milliseconds:177.13|#ModelName:model,Level:Model|#hostname:7cd5d02c617b,1696346076,fb7caf68-5eb2-47cd-a348-1c540aa4da8b, pattern=[METRICS]\u001b[0m\n",
      "\u001b[34m2023-10-03T15:14:36,408 [INFO ] W-9003-model_1.0-stdout MODEL_METRICS - PredictionTime.ms:177.13|#ModelName:model,Level:Model|#hostname:7cd5d02c617b,requestID:fb7caf68-5eb2-47cd-a348-1c540aa4da8b,timestamp:1696346076\u001b[0m\n",
      "\u001b[34m2023-10-03T15:14:36,410 [INFO ] W-9003-model_1.0 ACCESS_LOG - /169.254.255.130:52682 \"POST /invocations HTTP/1.1\" 200 185\u001b[0m\n",
      "\u001b[34m2023-10-03T15:14:36,410 [INFO ] W-9003-model_1.0 TS_METRICS - Requests2XX.Count:1.0|#Level:Host|#hostname:7cd5d02c617b,timestamp:1696346076\u001b[0m\n",
      "\u001b[34m2023-10-03T15:14:36,411 [INFO ] W-9003-model_1.0 TS_METRICS - ts_inference_latency_microseconds.Microseconds:182350.86|#model_name:model,model_version:default|#hostname:7cd5d02c617b,timestamp:1696346076\u001b[0m\n",
      "\u001b[34m2023-10-03T15:14:36,411 [INFO ] W-9003-model_1.0 TS_METRICS - ts_queue_latency_microseconds.Microseconds:197.593|#model_name:model,model_version:default|#hostname:7cd5d02c617b,timestamp:1696346076\u001b[0m\n",
      "\u001b[34m2023-10-03T15:14:36,412 [INFO ] W-9003-model_1.0 TS_METRICS - QueueTime.Milliseconds:0.0|#Level:Host|#hostname:7cd5d02c617b,timestamp:1696346076\u001b[0m\n",
      "\u001b[34m2023-10-03T15:14:36,412 [INFO ] W-9003-model_1.0 org.pytorch.serve.wlm.WorkerThread - Backend response time: 181\u001b[0m\n",
      "\u001b[34m2023-10-03T15:14:36,412 [INFO ] W-9003-model_1.0 TS_METRICS - WorkerThreadTime.Milliseconds:4.0|#Level:Host|#hostname:7cd5d02c617b,timestamp:1696346076\u001b[0m\n",
      "\n",
      "\u001b[32m2023-10-03T15:14:36.120:[sagemaker logs]: MaxConcurrentTransforms=1, MaxPayloadInMB=6, BatchStrategy=MULTI_RECORD\u001b[0m\n"
     ]
    }
   ],
   "source": [
    "transformer.transform(\n",
    "    data=test_data,\n",
    "    content_type=\"text/csv\",\n",
    ")"
   ]
  },
  {
   "cell_type": "code",
   "execution_count": 50,
   "metadata": {
    "tags": []
   },
   "outputs": [],
   "source": [
    "batch_predictions = sagemaker_session.read_s3_file(\n",
    "    bucket=bucket,\n",
    "    key_prefix=f\"{transformer.latest_transform_job.name}/test.csv.out\"\n",
    ")\n",
    "\n",
    "batch_predictions = batch_predictions.split(\"\\n\")[:-1]\n",
    "batch_predictions = pd.DataFrame([x.split(\",\") for x in batch_predictions]).astype(float)"
   ]
  },
  {
   "cell_type": "code",
   "execution_count": 51,
   "metadata": {
    "tags": []
   },
   "outputs": [
    {
     "data": {
      "text/plain": [
       "(5000, 3)"
      ]
     },
     "execution_count": 51,
     "metadata": {},
     "output_type": "execute_result"
    }
   ],
   "source": [
    "batch_predictions.shape"
   ]
  },
  {
   "cell_type": "code",
   "execution_count": 52,
   "metadata": {
    "tags": []
   },
   "outputs": [
    {
     "data": {
      "text/html": [
       "<div>\n",
       "<style scoped>\n",
       "    .dataframe tbody tr th:only-of-type {\n",
       "        vertical-align: middle;\n",
       "    }\n",
       "\n",
       "    .dataframe tbody tr th {\n",
       "        vertical-align: top;\n",
       "    }\n",
       "\n",
       "    .dataframe thead th {\n",
       "        text-align: right;\n",
       "    }\n",
       "</style>\n",
       "<table border=\"1\" class=\"dataframe\">\n",
       "  <thead>\n",
       "    <tr style=\"text-align: right;\">\n",
       "      <th></th>\n",
       "      <th>0</th>\n",
       "      <th>1</th>\n",
       "      <th>2</th>\n",
       "    </tr>\n",
       "  </thead>\n",
       "  <tbody>\n",
       "    <tr>\n",
       "      <th>0</th>\n",
       "      <td>0.213130</td>\n",
       "      <td>-10.082356</td>\n",
       "      <td>-10.008225</td>\n",
       "    </tr>\n",
       "    <tr>\n",
       "      <th>1</th>\n",
       "      <td>2.587818</td>\n",
       "      <td>-11.103932</td>\n",
       "      <td>-10.987754</td>\n",
       "    </tr>\n",
       "    <tr>\n",
       "      <th>2</th>\n",
       "      <td>0.376732</td>\n",
       "      <td>-12.088071</td>\n",
       "      <td>-11.941570</td>\n",
       "    </tr>\n",
       "    <tr>\n",
       "      <th>3</th>\n",
       "      <td>0.668611</td>\n",
       "      <td>-13.018026</td>\n",
       "      <td>-12.862440</td>\n",
       "    </tr>\n",
       "    <tr>\n",
       "      <th>4</th>\n",
       "      <td>0.017493</td>\n",
       "      <td>-13.877706</td>\n",
       "      <td>-13.740828</td>\n",
       "    </tr>\n",
       "  </tbody>\n",
       "</table>\n",
       "</div>"
      ],
      "text/plain": [
       "          0          1          2\n",
       "0  0.213130 -10.082356 -10.008225\n",
       "1  2.587818 -11.103932 -10.987754\n",
       "2  0.376732 -12.088071 -11.941570\n",
       "3  0.668611 -13.018026 -12.862440\n",
       "4  0.017493 -13.877706 -13.740828"
      ]
     },
     "execution_count": 52,
     "metadata": {},
     "output_type": "execute_result"
    }
   ],
   "source": [
    "batch_predictions.head()"
   ]
  },
  {
   "cell_type": "code",
   "execution_count": 53,
   "metadata": {
    "tags": []
   },
   "outputs": [
    {
     "data": {
      "text/html": [
       "<div>\n",
       "<style scoped>\n",
       "    .dataframe tbody tr th:only-of-type {\n",
       "        vertical-align: middle;\n",
       "    }\n",
       "\n",
       "    .dataframe tbody tr th {\n",
       "        vertical-align: top;\n",
       "    }\n",
       "\n",
       "    .dataframe thead th {\n",
       "        text-align: right;\n",
       "    }\n",
       "</style>\n",
       "<table border=\"1\" class=\"dataframe\">\n",
       "  <thead>\n",
       "    <tr style=\"text-align: right;\">\n",
       "      <th></th>\n",
       "      <th>0</th>\n",
       "      <th>1</th>\n",
       "      <th>2</th>\n",
       "    </tr>\n",
       "  </thead>\n",
       "  <tbody>\n",
       "    <tr>\n",
       "      <th>4995</th>\n",
       "      <td>0.569697</td>\n",
       "      <td>-6.277052</td>\n",
       "      <td>-6.374019</td>\n",
       "    </tr>\n",
       "    <tr>\n",
       "      <th>4996</th>\n",
       "      <td>0.953731</td>\n",
       "      <td>-7.366128</td>\n",
       "      <td>-7.371553</td>\n",
       "    </tr>\n",
       "    <tr>\n",
       "      <th>4997</th>\n",
       "      <td>1.289031</td>\n",
       "      <td>-8.471272</td>\n",
       "      <td>-8.356746</td>\n",
       "    </tr>\n",
       "    <tr>\n",
       "      <th>4998</th>\n",
       "      <td>1.147854</td>\n",
       "      <td>-9.265087</td>\n",
       "      <td>-9.136292</td>\n",
       "    </tr>\n",
       "    <tr>\n",
       "      <th>4999</th>\n",
       "      <td>1.172717</td>\n",
       "      <td>-10.226063</td>\n",
       "      <td>-10.182687</td>\n",
       "    </tr>\n",
       "  </tbody>\n",
       "</table>\n",
       "</div>"
      ],
      "text/plain": [
       "             0          1          2\n",
       "4995  0.569697  -6.277052  -6.374019\n",
       "4996  0.953731  -7.366128  -7.371553\n",
       "4997  1.289031  -8.471272  -8.356746\n",
       "4998  1.147854  -9.265087  -9.136292\n",
       "4999  1.172717 -10.226063 -10.182687"
      ]
     },
     "execution_count": 53,
     "metadata": {},
     "output_type": "execute_result"
    }
   ],
   "source": [
    "batch_predictions.tail()"
   ]
  },
  {
   "cell_type": "code",
   "execution_count": 54,
   "metadata": {
    "tags": []
   },
   "outputs": [
    {
     "data": {
      "text/plain": [
       "True"
      ]
     },
     "execution_count": 54,
     "metadata": {},
     "output_type": "execute_result"
    }
   ],
   "source": [
    "np.all(np.isclose(batch_predictions.values, real_time_predictions.values))"
   ]
  },
  {
   "cell_type": "code",
   "execution_count": 55,
   "metadata": {
    "tags": []
   },
   "outputs": [
    {
     "data": {
      "image/png": "[encoded data removed]",
      "text/plain": [
       "<Figure size 600x700 with 3 Axes>"
      ]
     },
     "metadata": {},
     "output_type": "display_data"
    }
   ],
   "source": [
    "fig, axs = plt.subplots(nrows=test_dataset.shape[1] + 1, ncols=1, sharex=True, figsize=(6, 7))\n",
    "for i in range(test_dataset.shape[1]):\n",
    "    axs[i].plot(test_dataset.iloc[:, i], color=\"#AFB8C1\", lw=0.5, label=\"Actual\" if i == 0 else None)\n",
    "    axs[i].plot(batch_predictions.iloc[:, i + 1], color=\"#009ad3\", lw=1, label=\"Reconstructed\" if i == 0 else None)\n",
    "    axs[i].set_title(f\"Time Series {i + 1}\", size=10)\n",
    "    axs[i].set(xlabel=\"Time\", ylabel=\"Value\")\n",
    "    axs[i].xaxis.set_tick_params(labelbottom=True)\n",
    "    axs[i].tick_params(axis=\"both\", which=\"major\", labelsize=7)\n",
    "    axs[i].tick_params(axis=\"both\", which=\"minor\", labelsize=7)\n",
    "i += 1\n",
    "axs[i].set_title(\"Anomaly Score\", size=10)\n",
    "axs[i].plot(batch_predictions.iloc[:, 0], color=\"#57606a\", lw=1)\n",
    "axs[i].set(xlabel=\"Time\", ylabel=\"Value\")\n",
    "axs[i].xaxis.set_tick_params(labelbottom=True)\n",
    "axs[i].tick_params(axis=\"both\", which=\"major\", labelsize=7)\n",
    "axs[i].tick_params(axis=\"both\", which=\"minor\", labelsize=7)\n",
    "fig.subplots_adjust(hspace=0.75)\n",
    "fig.suptitle(\"Batch Predictions on Test Dataset\")\n",
    "fig.legend(bbox_to_anchor=(1.2, 1, 0, 0), frameon=False)\n",
    "fig.show()"
   ]
  },
  {
   "cell_type": "code",
   "execution_count": 56,
   "metadata": {
    "tags": []
   },
   "outputs": [],
   "source": [
    "batch_results = sagemaker_session.upload_string_as_file_body(\n",
    "    body=batch_predictions.to_csv(index=False, header=False),\n",
    "    bucket=bucket,\n",
    "    key=\"data/inference/output/batch/batch_predictions.csv\"\n",
    ")"
   ]
  },
  {
   "cell_type": "code",
   "execution_count": 57,
   "metadata": {
    "tags": []
   },
   "outputs": [
    {
     "data": {
      "text/plain": [
       "'s3://sagemaker-eu-west-1-661670223746/data/inference/output/batch/batch_predictions.csv'"
      ]
     },
     "execution_count": 57,
     "metadata": {},
     "output_type": "execute_result"
    }
   ],
   "source": [
    "batch_results"
   ]
  },
  {
   "cell_type": "markdown",
   "metadata": {},
   "source": [
    "## 7. Clean-up"
   ]
  },
  {
   "cell_type": "markdown",
   "metadata": {},
   "source": [
    "### A. Delete the model"
   ]
  },
  {
   "cell_type": "code",
   "execution_count": 58,
   "metadata": {
    "tags": []
   },
   "outputs": [
    {
     "name": "stderr",
     "output_type": "stream",
     "text": [
      "INFO:sagemaker:Deleting model with name: lstm-ae-algo-v1-2-2023-10-03-15-06-21-7-2023-10-03-15-07-07-126\n"
     ]
    }
   ],
   "source": [
    "transformer.delete_model()"
   ]
  },
  {
   "cell_type": "markdown",
   "metadata": {},
   "source": [
    "### B. Unsubscribe to the listing (optional)"
   ]
  },
  {
   "cell_type": "markdown",
   "metadata": {},
   "source": [
    "If you would like to unsubscribe to the algorithm, follow these steps. Before you cancel the subscription, ensure that you do not have any [deployable model](https://console.aws.amazon.com/sagemaker/home#/models) created from the model package or using the algorithm. Note - You can find this information by looking at the container name associated with the model. \n",
    "\n",
    "**Steps to unsubscribe to product from AWS Marketplace**:\n",
    "1. Navigate to __Machine Learning__ tab on [__Your Software subscriptions page__](https://aws.amazon.com/marketplace/ai/library?productType=ml&ref_=mlmp_gitdemo_indust)\n",
    "2. Locate the listing that you want to cancel the subscription for, and then choose __Cancel Subscription__  to cancel the subscription.\n",
    "\n"
   ]
  }
 ],
 "metadata": {
  "kernelspec": {
   "display_name": "conda_python3",
   "language": "python",
   "name": "conda_python3"
  },
  "language_info": {
   "codemirror_mode": {
    "name": "ipython",
    "version": 3
   },
   "file_extension": ".py",
   "mimetype": "text/x-python",
   "name": "python",
   "nbconvert_exporter": "python",
   "pygments_lexer": "ipython3",
   "version": "3.10.12"
  }
 },
 "nbformat": 4,
 "nbformat_minor": 4
}
