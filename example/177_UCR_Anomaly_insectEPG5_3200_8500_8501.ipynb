{
 "cells": [
  {
   "cell_type": "markdown",
   "id": "87deba9d-ff5b-4e7b-ade5-b30c341a7afa",
   "metadata": {},
   "source": [
    "# HEX UCR Dataset: 177_UCR_Anomaly_insectEPG5_3200_8500_8501"
   ]
  },
  {
   "cell_type": "markdown",
   "id": "2161c326-9263-4f5c-b7b0-8c8ed60f956c",
   "metadata": {},
   "source": [
    "**Dataset Link:** https://www.cs.ucr.edu/~eamonn/time_series_data_2018/UCR_TimeSeriesAnomalyDatasets2021.zip"
   ]
  },
  {
   "cell_type": "markdown",
   "id": "f56f1a46-73b9-4cde-b939-a326a6807009",
   "metadata": {},
   "source": [
    "### 1. Environment set-up"
   ]
  },
  {
   "cell_type": "markdown",
   "id": "8ee3df38-2d9f-4377-9931-3525900b6478",
   "metadata": {},
   "source": [
    "1. This notebook contains elements which render correctly in Jupyter interface. Open this notebook from an Amazon SageMaker Notebook Instance or Amazon SageMaker Studio.\n",
    "1. Ensure that IAM role used has **AmazonSageMakerFullAccess**\n",
    "1. Some hands-on experience using [Amazon SageMaker](https://aws.amazon.com/sagemaker/).\n",
    "1. To use this algorithm successfully, ensure that:\n",
    "    1. Either your IAM role has these three permissions and you have authority to make AWS Marketplace subscriptions in the AWS account used: \n",
    "        1. **aws-marketplace:ViewSubscriptions**\n",
    "        1. **aws-marketplace:Unsubscribe**\n",
    "        1. **aws-marketplace:Subscribe**  \n",
    "    2. or your AWS account has a subscription to the [Time Series Anomaly Detection (LSTM-AE) Algorithm from AWS Marketplace](https://aws.amazon.com/marketplace/pp/prodview-up2haipz3j472).\n",
    "\n",
    "To subscribe to the algorithm:\n",
    "1. Open the algorithm listing page.\n",
    "1. On the AWS Marketplace listing, click on the **Continue to subscribe** button.\n",
    "1. On the **Subscribe to this software** page, review and click on **\"Accept Offer\"** if you agree with EULA, pricing, and support terms. \n",
    "1. Once you click on the **Continue to configuration** button and then choose a **region**, you will see a **Product ARN**. This is the algorithm ARN that you need to specify while training a custom ML model. **Copy the ARN corresponding to your region and specify the same in the following cell.**"
   ]
  },
  {
   "cell_type": "code",
   "execution_count": 1,
   "id": "fd89b7a5-3e1c-4fd5-9661-1dcc86626b10",
   "metadata": {
    "tags": []
   },
   "outputs": [],
   "source": [
    "algo_arn = \"ALGO_ARN\""
   ]
  },
  {
   "cell_type": "code",
   "execution_count": 2,
   "id": "b72fa188-ea07-4ee4-ad66-a9dfb7d8cd7e",
   "metadata": {
    "tags": []
   },
   "outputs": [],
   "source": [
    "import sagemaker\n",
    "import pandas as pd\n",
    "import numpy as np\n",
    "import matplotlib.pyplot as plt\n",
    "\n",
    "# SageMaker session\n",
    "sagemaker_session = sagemaker.Session()\n",
    "\n",
    "# SageMaker role\n",
    "role = sagemaker.get_execution_role()\n",
    "\n",
    "# S3 bucket\n",
    "bucket = sagemaker_session.default_bucket()\n",
    "\n",
    "# EC2 instance\n",
    "instance_type = \"ml.m5.2xlarge\""
   ]
  },
  {
   "cell_type": "markdown",
   "id": "49491ac8-2585-429f-8acb-8b3d3e082a7b",
   "metadata": {},
   "source": [
    "### 2. Data preparation"
   ]
  },
  {
   "cell_type": "markdown",
   "id": "2fe35c9b-7f7b-4634-a618-6bd18278556f",
   "metadata": {},
   "source": [
    "Load the data."
   ]
  },
  {
   "cell_type": "code",
   "execution_count": 3,
   "id": "1bdf6675-a1c3-4474-9a3e-5a281ab559b9",
   "metadata": {
    "tags": []
   },
   "outputs": [],
   "source": [
    "dataset_name = \"177_UCR_Anomaly_insectEPG5_3200_8500_8501\"\n",
    "cutoff = 3200  # train-test cutoff\n",
    "start = 8500   # start of anomalous time interval\n",
    "end = 8530     # end of anomalous time interval\n",
    "k = 1          # number of anomalies to extract"
   ]
  },
  {
   "cell_type": "code",
   "execution_count": 4,
   "id": "62b85cf0-9ed0-4499-9c31-ebb9f7aff474",
   "metadata": {
    "tags": []
   },
   "outputs": [],
   "source": [
    "dataset = pd.DataFrame(data=np.genfromtxt(f\"{dataset_name}.txt\"))"
   ]
  },
  {
   "cell_type": "code",
   "execution_count": 5,
   "id": "69ba4b55-ec1d-46c3-9161-c2d6f8b8c671",
   "metadata": {
    "tags": []
   },
   "outputs": [
    {
     "data": {
      "text/plain": [
       "(10028, 1)"
      ]
     },
     "execution_count": 5,
     "metadata": {},
     "output_type": "execute_result"
    }
   ],
   "source": [
    "dataset.shape"
   ]
  },
  {
   "cell_type": "code",
   "execution_count": 6,
   "id": "e399d772-749d-4e3f-8c58-2bbea4261499",
   "metadata": {
    "tags": []
   },
   "outputs": [
    {
     "data": {
      "text/html": [
       "<div>\n",
       "<style scoped>\n",
       "    .dataframe tbody tr th:only-of-type {\n",
       "        vertical-align: middle;\n",
       "    }\n",
       "\n",
       "    .dataframe tbody tr th {\n",
       "        vertical-align: top;\n",
       "    }\n",
       "\n",
       "    .dataframe thead th {\n",
       "        text-align: right;\n",
       "    }\n",
       "</style>\n",
       "<table border=\"1\" class=\"dataframe\">\n",
       "  <thead>\n",
       "    <tr style=\"text-align: right;\">\n",
       "      <th></th>\n",
       "      <th>0</th>\n",
       "    </tr>\n",
       "  </thead>\n",
       "  <tbody>\n",
       "    <tr>\n",
       "      <th>0</th>\n",
       "      <td>0.209960</td>\n",
       "    </tr>\n",
       "    <tr>\n",
       "      <th>1</th>\n",
       "      <td>0.216060</td>\n",
       "    </tr>\n",
       "    <tr>\n",
       "      <th>2</th>\n",
       "      <td>0.212400</td>\n",
       "    </tr>\n",
       "    <tr>\n",
       "      <th>3</th>\n",
       "      <td>0.174560</td>\n",
       "    </tr>\n",
       "    <tr>\n",
       "      <th>4</th>\n",
       "      <td>-0.009766</td>\n",
       "    </tr>\n",
       "  </tbody>\n",
       "</table>\n",
       "</div>"
      ],
      "text/plain": [
       "          0\n",
       "0  0.209960\n",
       "1  0.216060\n",
       "2  0.212400\n",
       "3  0.174560\n",
       "4 -0.009766"
      ]
     },
     "execution_count": 6,
     "metadata": {},
     "output_type": "execute_result"
    }
   ],
   "source": [
    "dataset.head()"
   ]
  },
  {
   "cell_type": "code",
   "execution_count": 7,
   "id": "c1142757-d2ba-40dc-a389-efc9612649e2",
   "metadata": {
    "tags": []
   },
   "outputs": [
    {
     "data": {
      "text/html": [
       "<div>\n",
       "<style scoped>\n",
       "    .dataframe tbody tr th:only-of-type {\n",
       "        vertical-align: middle;\n",
       "    }\n",
       "\n",
       "    .dataframe tbody tr th {\n",
       "        vertical-align: top;\n",
       "    }\n",
       "\n",
       "    .dataframe thead th {\n",
       "        text-align: right;\n",
       "    }\n",
       "</style>\n",
       "<table border=\"1\" class=\"dataframe\">\n",
       "  <thead>\n",
       "    <tr style=\"text-align: right;\">\n",
       "      <th></th>\n",
       "      <th>0</th>\n",
       "    </tr>\n",
       "  </thead>\n",
       "  <tbody>\n",
       "    <tr>\n",
       "      <th>10023</th>\n",
       "      <td>0.113530</td>\n",
       "    </tr>\n",
       "    <tr>\n",
       "      <th>10024</th>\n",
       "      <td>-0.029297</td>\n",
       "    </tr>\n",
       "    <tr>\n",
       "      <th>10025</th>\n",
       "      <td>-0.198970</td>\n",
       "    </tr>\n",
       "    <tr>\n",
       "      <th>10026</th>\n",
       "      <td>-0.230710</td>\n",
       "    </tr>\n",
       "    <tr>\n",
       "      <th>10027</th>\n",
       "      <td>-0.223390</td>\n",
       "    </tr>\n",
       "  </tbody>\n",
       "</table>\n",
       "</div>"
      ],
      "text/plain": [
       "              0\n",
       "10023  0.113530\n",
       "10024 -0.029297\n",
       "10025 -0.198970\n",
       "10026 -0.230710\n",
       "10027 -0.223390"
      ]
     },
     "execution_count": 7,
     "metadata": {},
     "output_type": "execute_result"
    }
   ],
   "source": [
    "dataset.tail()"
   ]
  },
  {
   "cell_type": "markdown",
   "id": "4ffe7dfe-08cc-4550-bdd0-351e62739558",
   "metadata": {},
   "source": [
    "Visualize the data."
   ]
  },
  {
   "cell_type": "code",
   "execution_count": 8,
   "id": "d79b0a5c-00ec-4df4-898f-a05245281c94",
   "metadata": {
    "tags": []
   },
   "outputs": [
    {
     "data": {
      "image/png": "[encoded data removed]",
      "text/plain": [
       "<Figure size 600x350 with 1 Axes>"
      ]
     },
     "metadata": {},
     "output_type": "display_data"
    }
   ],
   "source": [
    "fig, ax = plt.subplots(figsize=(6, 3.5))\n",
    "ax.plot(dataset, color=\"#AFB8C1\", lw=0.5)\n",
    "ax.set(xlabel=\"Time\", ylabel=\"Value\")\n",
    "ax.tick_params(axis=\"both\", which=\"major\", labelsize=7)\n",
    "ax.tick_params(axis=\"both\", which=\"minor\", labelsize=7)\n",
    "fig.tight_layout()\n",
    "fig.show()"
   ]
  },
  {
   "cell_type": "markdown",
   "id": "2e0b09b4-ae21-4551-825c-dcd279753b51",
   "metadata": {},
   "source": [
    "Split the data."
   ]
  },
  {
   "cell_type": "code",
   "execution_count": 9,
   "id": "9b0699df-9439-45c2-ba70-ca11983d843f",
   "metadata": {
    "tags": []
   },
   "outputs": [],
   "source": [
    "training_dataset = dataset.iloc[:cutoff]"
   ]
  },
  {
   "cell_type": "code",
   "execution_count": 10,
   "id": "24adddd2-ab77-4137-98ea-faec2ae3d67d",
   "metadata": {
    "tags": []
   },
   "outputs": [
    {
     "data": {
      "text/plain": [
       "(3200, 1)"
      ]
     },
     "execution_count": 10,
     "metadata": {},
     "output_type": "execute_result"
    }
   ],
   "source": [
    "training_dataset.shape"
   ]
  },
  {
   "cell_type": "code",
   "execution_count": 11,
   "id": "34af9186-27ef-4038-a9de-0e206b89202b",
   "metadata": {
    "tags": []
   },
   "outputs": [],
   "source": [
    "test_dataset = dataset.iloc[cutoff:]"
   ]
  },
  {
   "cell_type": "code",
   "execution_count": 12,
   "id": "4dde60d8-0340-44de-9912-acf9fe2a0633",
   "metadata": {
    "tags": []
   },
   "outputs": [
    {
     "data": {
      "text/plain": [
       "(6828, 1)"
      ]
     },
     "execution_count": 12,
     "metadata": {},
     "output_type": "execute_result"
    }
   ],
   "source": [
    "test_dataset.shape"
   ]
  },
  {
   "cell_type": "markdown",
   "id": "7586de04-bfeb-4942-8937-9ff7c42f5931",
   "metadata": {},
   "source": [
    "Upload the data to S3."
   ]
  },
  {
   "cell_type": "code",
   "execution_count": 13,
   "id": "7fe9e74c-6a57-419e-865d-233e51106857",
   "metadata": {
    "tags": []
   },
   "outputs": [],
   "source": [
    "training_data = sagemaker_session.upload_string_as_file_body(\n",
    "    body=training_dataset.to_csv(index=False, header=False),\n",
    "    bucket=bucket,\n",
    "    key=f\"{dataset_name}_train.csv\"\n",
    ")"
   ]
  },
  {
   "cell_type": "code",
   "execution_count": 14,
   "id": "851460a4-32ac-444a-ab90-a61df3257256",
   "metadata": {
    "tags": []
   },
   "outputs": [
    {
     "data": {
      "text/plain": [
       "'s3://sagemaker-eu-west-1-661670223746/177_UCR_Anomaly_insectEPG5_3200_8500_8501_train.csv'"
      ]
     },
     "execution_count": 14,
     "metadata": {},
     "output_type": "execute_result"
    }
   ],
   "source": [
    "training_data"
   ]
  },
  {
   "cell_type": "code",
   "execution_count": 15,
   "id": "e2062e41-eb07-43c2-9b86-370a63d45599",
   "metadata": {
    "tags": []
   },
   "outputs": [],
   "source": [
    "test_data = sagemaker_session.upload_string_as_file_body(\n",
    "    body=test_dataset.to_csv(index=False, header=False),\n",
    "    bucket=bucket,\n",
    "    key=f\"{dataset_name}_test.csv\"\n",
    ")"
   ]
  },
  {
   "cell_type": "code",
   "execution_count": 16,
   "id": "4225ecdd-a68e-4824-bb64-f2a7ab3426b8",
   "metadata": {
    "tags": []
   },
   "outputs": [
    {
     "data": {
      "text/plain": [
       "'s3://sagemaker-eu-west-1-661670223746/177_UCR_Anomaly_insectEPG5_3200_8500_8501_test.csv'"
      ]
     },
     "execution_count": 16,
     "metadata": {},
     "output_type": "execute_result"
    }
   ],
   "source": [
    "test_data"
   ]
  },
  {
   "cell_type": "markdown",
   "id": "6a91f5ac-d6bb-4a50-9de3-69436c33b814",
   "metadata": {},
   "source": [
    "### 3. Training"
   ]
  },
  {
   "cell_type": "markdown",
   "id": "6ad88d3f-50cf-4835-9120-fa6a0da910f0",
   "metadata": {},
   "source": [
    "Fit the model to the training set."
   ]
  },
  {
   "cell_type": "code",
   "execution_count": 17,
   "id": "66c95682-9b13-42d2-874a-882de608c2ff",
   "metadata": {
    "tags": []
   },
   "outputs": [
    {
     "name": "stderr",
     "output_type": "stream",
     "text": [
      "NOTEBOOK_METADATA_FILE detected but failed to get valid domain and user from it.\n",
      "INFO:sagemaker:Creating training-job with name: lstm-ae-algo-v1-2-2023-10-03-15-38-00-707\n"
     ]
    },
    {
     "name": "stdout",
     "output_type": "stream",
     "text": [
      "2023-10-03 15:38:00 Starting - Starting the training job...\n",
      "2023-10-03 15:38:20 Starting - Preparing the instances for training......\n",
      "2023-10-03 15:39:10 Downloading - Downloading input data...\n",
      "2023-10-03 15:39:45 Training - Downloading the training image..................\n",
      "2023-10-03 15:42:51 Training - Training image download completed. Training in progress.....\u001b[34mbash: cannot set terminal process group (-1): Inappropriate ioctl for device\u001b[0m\n",
      "\u001b[34mbash: no job control in this shell\u001b[0m\n",
      "\u001b[34m2023-10-03 15:43:27,443 sagemaker-training-toolkit INFO     Imported framework sagemaker_pytorch_container.training\u001b[0m\n",
      "\u001b[34m2023-10-03 15:43:27,443 sagemaker-training-toolkit INFO     No GPUs detected (normal if no gpus installed)\u001b[0m\n",
      "\u001b[34m2023-10-03 15:43:27,444 sagemaker-training-toolkit INFO     No Neurons detected (normal if no neurons installed)\u001b[0m\n",
      "\u001b[34m2023-10-03 15:43:27,453 sagemaker_pytorch_container.training INFO     Block until all host DNS lookups succeed.\u001b[0m\n",
      "\u001b[34m2023-10-03 15:43:27,454 sagemaker_pytorch_container.training INFO     Invoking user training script.\u001b[0m\n",
      "\u001b[34m2023-10-03 15:43:28,731 sagemaker-training-toolkit INFO     No GPUs detected (normal if no gpus installed)\u001b[0m\n",
      "\u001b[34m2023-10-03 15:43:28,732 sagemaker-training-toolkit INFO     No Neurons detected (normal if no neurons installed)\u001b[0m\n",
      "\u001b[34m2023-10-03 15:43:28,743 sagemaker-training-toolkit INFO     No GPUs detected (normal if no gpus installed)\u001b[0m\n",
      "\u001b[34m2023-10-03 15:43:28,743 sagemaker-training-toolkit INFO     No Neurons detected (normal if no neurons installed)\u001b[0m\n",
      "\u001b[34m2023-10-03 15:43:28,753 sagemaker-training-toolkit INFO     No GPUs detected (normal if no gpus installed)\u001b[0m\n",
      "\u001b[34m2023-10-03 15:43:28,753 sagemaker-training-toolkit INFO     No Neurons detected (normal if no neurons installed)\u001b[0m\n",
      "\u001b[34m2023-10-03 15:43:28,762 sagemaker-training-toolkit INFO     Invoking user script\u001b[0m\n",
      "\u001b[34mTraining Env:\u001b[0m\n",
      "\u001b[34m{\n",
      "    \"additional_framework_parameters\": {},\n",
      "    \"channel_input_dirs\": {\n",
      "        \"training\": \"/opt/ml/input/data/training\"\n",
      "    },\n",
      "    \"current_host\": \"algo-1\",\n",
      "    \"current_instance_group\": \"homogeneousCluster\",\n",
      "    \"current_instance_group_hosts\": [\n",
      "        \"algo-1\"\n",
      "    ],\n",
      "    \"current_instance_type\": \"ml.m5.2xlarge\",\n",
      "    \"distribution_hosts\": [],\n",
      "    \"distribution_instance_groups\": [],\n",
      "    \"framework_module\": \"sagemaker_pytorch_container.training:main\",\n",
      "    \"hosts\": [\n",
      "        \"algo-1\"\n",
      "    ],\n",
      "    \"hyperparameters\": {\n",
      "        \"batch-size\": 16,\n",
      "        \"epochs\": 200,\n",
      "        \"hidden-size\": 64,\n",
      "        \"lr\": 0.0001,\n",
      "        \"sequence-length\": 30,\n",
      "        \"sequence-stride\": 30\n",
      "    },\n",
      "    \"input_config_dir\": \"/opt/ml/input/config\",\n",
      "    \"input_data_config\": {\n",
      "        \"training\": {\n",
      "            \"TrainingInputMode\": \"File\",\n",
      "            \"S3DistributionType\": \"FullyReplicated\",\n",
      "            \"RecordWrapperType\": \"None\"\n",
      "        }\n",
      "    },\n",
      "    \"input_dir\": \"/opt/ml/input\",\n",
      "    \"instance_groups\": [\n",
      "        \"homogeneousCluster\"\n",
      "    ],\n",
      "    \"instance_groups_dict\": {\n",
      "        \"homogeneousCluster\": {\n",
      "            \"instance_group_name\": \"homogeneousCluster\",\n",
      "            \"instance_type\": \"ml.m5.2xlarge\",\n",
      "            \"hosts\": [\n",
      "                \"algo-1\"\n",
      "            ]\n",
      "        }\n",
      "    },\n",
      "    \"is_hetero\": false,\n",
      "    \"is_master\": true,\n",
      "    \"is_modelparallel_enabled\": null,\n",
      "    \"is_smddpmprun_installed\": true,\n",
      "    \"job_name\": \"lstm-ae-algo-v1-2-2023-10-03-15-38-00-707\",\n",
      "    \"log_level\": 20,\n",
      "    \"master_hostname\": \"algo-1\",\n",
      "    \"model_dir\": \"/opt/ml/model\",\n",
      "    \"module_dir\": \"/opt/ml/code\",\n",
      "    \"module_name\": \"training\",\n",
      "    \"network_interface_name\": \"eth0\",\n",
      "    \"num_cpus\": 8,\n",
      "    \"num_gpus\": 0,\n",
      "    \"num_neurons\": 0,\n",
      "    \"output_data_dir\": \"/opt/ml/output/data\",\n",
      "    \"output_dir\": \"/opt/ml/output\",\n",
      "    \"output_intermediate_dir\": \"/opt/ml/output/intermediate\",\n",
      "    \"resource_config\": {\n",
      "        \"current_host\": \"algo-1\",\n",
      "        \"current_instance_type\": \"ml.m5.2xlarge\",\n",
      "        \"current_group_name\": \"homogeneousCluster\",\n",
      "        \"hosts\": [\n",
      "            \"algo-1\"\n",
      "        ],\n",
      "        \"instance_groups\": [\n",
      "            {\n",
      "                \"instance_group_name\": \"homogeneousCluster\",\n",
      "                \"instance_type\": \"ml.m5.2xlarge\",\n",
      "                \"hosts\": [\n",
      "                    \"algo-1\"\n",
      "                ]\n",
      "            }\n",
      "        ],\n",
      "        \"network_interface_name\": \"eth0\"\n",
      "    },\n",
      "    \"user_entry_point\": \"training.py\"\u001b[0m\n",
      "\u001b[34m}\u001b[0m\n",
      "\u001b[34mEnvironment variables:\u001b[0m\n",
      "\u001b[34mSM_HOSTS=[\"algo-1\"]\u001b[0m\n",
      "\u001b[34mSM_NETWORK_INTERFACE_NAME=eth0\u001b[0m\n",
      "\u001b[34mSM_HPS={\"batch-size\":16,\"epochs\":200,\"hidden-size\":64,\"lr\":0.0001,\"sequence-length\":30,\"sequence-stride\":30}\u001b[0m\n",
      "\u001b[34mSM_USER_ENTRY_POINT=training.py\u001b[0m\n",
      "\u001b[34mSM_FRAMEWORK_PARAMS={}\u001b[0m\n",
      "\u001b[34mSM_RESOURCE_CONFIG={\"current_group_name\":\"homogeneousCluster\",\"current_host\":\"algo-1\",\"current_instance_type\":\"ml.m5.2xlarge\",\"hosts\":[\"algo-1\"],\"instance_groups\":[{\"hosts\":[\"algo-1\"],\"instance_group_name\":\"homogeneousCluster\",\"instance_type\":\"ml.m5.2xlarge\"}],\"network_interface_name\":\"eth0\"}\u001b[0m\n",
      "\u001b[34mSM_INPUT_DATA_CONFIG={\"training\":{\"RecordWrapperType\":\"None\",\"S3DistributionType\":\"FullyReplicated\",\"TrainingInputMode\":\"File\"}}\u001b[0m\n",
      "\u001b[34mSM_OUTPUT_DATA_DIR=/opt/ml/output/data\u001b[0m\n",
      "\u001b[34mSM_CHANNELS=[\"training\"]\u001b[0m\n",
      "\u001b[34mSM_CURRENT_HOST=algo-1\u001b[0m\n",
      "\u001b[34mSM_CURRENT_INSTANCE_TYPE=ml.m5.2xlarge\u001b[0m\n",
      "\u001b[34mSM_CURRENT_INSTANCE_GROUP=homogeneousCluster\u001b[0m\n",
      "\u001b[34mSM_CURRENT_INSTANCE_GROUP_HOSTS=[\"algo-1\"]\u001b[0m\n",
      "\u001b[34mSM_INSTANCE_GROUPS=[\"homogeneousCluster\"]\u001b[0m\n",
      "\u001b[34mSM_INSTANCE_GROUPS_DICT={\"homogeneousCluster\":{\"hosts\":[\"algo-1\"],\"instance_group_name\":\"homogeneousCluster\",\"instance_type\":\"ml.m5.2xlarge\"}}\u001b[0m\n",
      "\u001b[34mSM_DISTRIBUTION_INSTANCE_GROUPS=[]\u001b[0m\n",
      "\u001b[34mSM_IS_HETERO=false\u001b[0m\n",
      "\u001b[34mSM_MODULE_NAME=training\u001b[0m\n",
      "\u001b[34mSM_LOG_LEVEL=20\u001b[0m\n",
      "\u001b[34mSM_FRAMEWORK_MODULE=sagemaker_pytorch_container.training:main\u001b[0m\n",
      "\u001b[34mSM_INPUT_DIR=/opt/ml/input\u001b[0m\n",
      "\u001b[34mSM_INPUT_CONFIG_DIR=/opt/ml/input/config\u001b[0m\n",
      "\u001b[34mSM_OUTPUT_DIR=/opt/ml/output\u001b[0m\n",
      "\u001b[34mSM_NUM_CPUS=8\u001b[0m\n",
      "\u001b[34mSM_NUM_GPUS=0\u001b[0m\n",
      "\u001b[34mSM_NUM_NEURONS=0\u001b[0m\n",
      "\u001b[34mSM_MODEL_DIR=/opt/ml/model\u001b[0m\n",
      "\u001b[34mSM_MODULE_DIR=/opt/ml/code\u001b[0m\n",
      "\u001b[34mSM_TRAINING_ENV={\"additional_framework_parameters\":{},\"channel_input_dirs\":{\"training\":\"/opt/ml/input/data/training\"},\"current_host\":\"algo-1\",\"current_instance_group\":\"homogeneousCluster\",\"current_instance_group_hosts\":[\"algo-1\"],\"current_instance_type\":\"ml.m5.2xlarge\",\"distribution_hosts\":[],\"distribution_instance_groups\":[],\"framework_module\":\"sagemaker_pytorch_container.training:main\",\"hosts\":[\"algo-1\"],\"hyperparameters\":{\"batch-size\":16,\"epochs\":200,\"hidden-size\":64,\"lr\":0.0001,\"sequence-length\":30,\"sequence-stride\":30},\"input_config_dir\":\"/opt/ml/input/config\",\"input_data_config\":{\"training\":{\"RecordWrapperType\":\"None\",\"S3DistributionType\":\"FullyReplicated\",\"TrainingInputMode\":\"File\"}},\"input_dir\":\"/opt/ml/input\",\"instance_groups\":[\"homogeneousCluster\"],\"instance_groups_dict\":{\"homogeneousCluster\":{\"hosts\":[\"algo-1\"],\"instance_group_name\":\"homogeneousCluster\",\"instance_type\":\"ml.m5.2xlarge\"}},\"is_hetero\":false,\"is_master\":true,\"is_modelparallel_enabled\":null,\"is_smddpmprun_installed\":true,\"job_name\":\"lstm-ae-algo-v1-2-2023-10-03-15-38-00-707\",\"log_level\":20,\"master_hostname\":\"algo-1\",\"model_dir\":\"/opt/ml/model\",\"module_dir\":\"/opt/ml/code\",\"module_name\":\"training\",\"network_interface_name\":\"eth0\",\"num_cpus\":8,\"num_gpus\":0,\"num_neurons\":0,\"output_data_dir\":\"/opt/ml/output/data\",\"output_dir\":\"/opt/ml/output\",\"output_intermediate_dir\":\"/opt/ml/output/intermediate\",\"resource_config\":{\"current_group_name\":\"homogeneousCluster\",\"current_host\":\"algo-1\",\"current_instance_type\":\"ml.m5.2xlarge\",\"hosts\":[\"algo-1\"],\"instance_groups\":[{\"hosts\":[\"algo-1\"],\"instance_group_name\":\"homogeneousCluster\",\"instance_type\":\"ml.m5.2xlarge\"}],\"network_interface_name\":\"eth0\"},\"user_entry_point\":\"training.py\"}\u001b[0m\n",
      "\u001b[34mSM_USER_ARGS=[\"--batch-size\",\"16\",\"--epochs\",\"200\",\"--hidden-size\",\"64\",\"--lr\",\"0.0001\",\"--sequence-length\",\"30\",\"--sequence-stride\",\"30\"]\u001b[0m\n",
      "\u001b[34mSM_OUTPUT_INTERMEDIATE_DIR=/opt/ml/output/intermediate\u001b[0m\n",
      "\u001b[34mSM_CHANNEL_TRAINING=/opt/ml/input/data/training\u001b[0m\n",
      "\u001b[34mSM_HP_BATCH-SIZE=16\u001b[0m\n",
      "\u001b[34mSM_HP_EPOCHS=200\u001b[0m\n",
      "\u001b[34mSM_HP_HIDDEN-SIZE=64\u001b[0m\n",
      "\u001b[34mSM_HP_LR=0.0001\u001b[0m\n",
      "\u001b[34mSM_HP_SEQUENCE-LENGTH=30\u001b[0m\n",
      "\u001b[34mSM_HP_SEQUENCE-STRIDE=30\u001b[0m\n",
      "\u001b[34mPYTHONPATH=/opt/ml/code:/opt/conda/bin:/opt/conda/lib/python310.zip:/opt/conda/lib/python3.10:/opt/conda/lib/python3.10/lib-dynload:/opt/conda/lib/python3.10/site-packages\u001b[0m\n",
      "\u001b[34mInvoking script with the following command:\u001b[0m\n",
      "\u001b[34m/opt/conda/bin/python3.10 training.py --batch-size 16 --epochs 200 --hidden-size 64 --lr 0.0001 --sequence-length 30 --sequence-stride 30\u001b[0m\n",
      "\u001b[34m2023-10-03 15:43:28,793 sagemaker-training-toolkit INFO     Exceptions not imported for SageMaker TF as Tensorflow is not installed.\u001b[0m\n",
      "\u001b[34m--------------------------------------\u001b[0m\n",
      "\u001b[34mTraining on 1 time series.\u001b[0m\n",
      "\u001b[34mTime series length: 3200\u001b[0m\n",
      "\u001b[34m--------------------------------------\u001b[0m\n",
      "\u001b[34m--------------------------------------\u001b[0m\n",
      "\u001b[34mTraining the model.\u001b[0m\n",
      "\u001b[34m--------------------------------------\u001b[0m\n",
      "\u001b[34mEpoch: 1, Training MSE: 1.00084543, Training MAE: 0.95317900\u001b[0m\n",
      "\u001b[34mEpoch: 2, Training MSE: 1.00019729, Training MAE: 0.95257747\u001b[0m\n",
      "\u001b[34mEpoch: 3, Training MSE: 0.99956727, Training MAE: 0.95198393\u001b[0m\n",
      "\u001b[34mEpoch: 4, Training MSE: 0.99895161, Training MAE: 0.95137429\u001b[0m\n",
      "\u001b[34mEpoch: 5, Training MSE: 0.99837238, Training MAE: 0.95082241\u001b[0m\n",
      "\u001b[34mEpoch: 6, Training MSE: 0.99779451, Training MAE: 0.95025361\u001b[0m\n",
      "\u001b[34mEpoch: 7, Training MSE: 0.99724072, Training MAE: 0.94971567\u001b[0m\n",
      "\u001b[34mEpoch: 8, Training MSE: 0.99670833, Training MAE: 0.94921041\u001b[0m\n",
      "\u001b[34mEpoch: 9, Training MSE: 0.99616718, Training MAE: 0.94871670\u001b[0m\n",
      "\u001b[34mEpoch: 10, Training MSE: 0.99561214, Training MAE: 0.94820035\u001b[0m\n",
      "\u001b[34mEpoch: 11, Training MSE: 0.99505782, Training MAE: 0.94769609\u001b[0m\n",
      "\u001b[34mEpoch: 12, Training MSE: 0.99449819, Training MAE: 0.94718462\u001b[0m\n",
      "\u001b[34mEpoch: 13, Training MSE: 0.99389333, Training MAE: 0.94661218\u001b[0m\n",
      "\u001b[34mEpoch: 14, Training MSE: 0.99326122, Training MAE: 0.94598871\u001b[0m\n",
      "\u001b[34mEpoch: 15, Training MSE: 0.99260378, Training MAE: 0.94533914\u001b[0m\n",
      "\u001b[34mEpoch: 16, Training MSE: 0.99192929, Training MAE: 0.94467831\u001b[0m\n",
      "\u001b[34mEpoch: 17, Training MSE: 0.99121362, Training MAE: 0.94399959\u001b[0m\n",
      "\u001b[34mEpoch: 18, Training MSE: 0.99045265, Training MAE: 0.94328582\u001b[0m\n",
      "\u001b[34mEpoch: 19, Training MSE: 0.98965245, Training MAE: 0.94253486\u001b[0m\n",
      "\u001b[34mEpoch: 20, Training MSE: 0.98879761, Training MAE: 0.94169599\u001b[0m\n",
      "\u001b[34mEpoch: 21, Training MSE: 0.98789108, Training MAE: 0.94075859\u001b[0m\n",
      "\u001b[34mEpoch: 22, Training MSE: 0.98690754, Training MAE: 0.93984985\u001b[0m\n",
      "\u001b[34mEpoch: 23, Training MSE: 0.98585439, Training MAE: 0.93882096\u001b[0m\n",
      "\u001b[34mEpoch: 24, Training MSE: 0.98470366, Training MAE: 0.93778867\u001b[0m\n",
      "\u001b[34mEpoch: 25, Training MSE: 0.98344523, Training MAE: 0.93676978\u001b[0m\n",
      "\u001b[34mEpoch: 26, Training MSE: 0.98206657, Training MAE: 0.93563497\u001b[0m\n",
      "\u001b[34mEpoch: 27, Training MSE: 0.98051816, Training MAE: 0.93440580\u001b[0m\n",
      "\u001b[34mEpoch: 28, Training MSE: 0.97879070, Training MAE: 0.93304116\u001b[0m\n",
      "\u001b[34mEpoch: 29, Training MSE: 0.97680849, Training MAE: 0.93149757\u001b[0m\n",
      "\u001b[34mEpoch: 30, Training MSE: 0.97461772, Training MAE: 0.92972696\u001b[0m\n",
      "\u001b[34mEpoch: 31, Training MSE: 0.97217399, Training MAE: 0.92778111\u001b[0m\n",
      "\u001b[34mEpoch: 32, Training MSE: 0.96936148, Training MAE: 0.92543304\u001b[0m\n",
      "\u001b[34mEpoch: 33, Training MSE: 0.96613741, Training MAE: 0.92273247\u001b[0m\n",
      "\u001b[34mEpoch: 34, Training MSE: 0.96213400, Training MAE: 0.91968274\u001b[0m\n",
      "\u001b[34mEpoch: 35, Training MSE: 0.95734280, Training MAE: 0.91620779\u001b[0m\n",
      "\u001b[34mEpoch: 36, Training MSE: 0.95130914, Training MAE: 0.91187626\u001b[0m\n",
      "\u001b[34mEpoch: 37, Training MSE: 0.94370568, Training MAE: 0.90615618\u001b[0m\n",
      "\u001b[34mEpoch: 38, Training MSE: 0.93332130, Training MAE: 0.89802641\u001b[0m\n",
      "\u001b[34mEpoch: 39, Training MSE: 0.91849047, Training MAE: 0.88685203\u001b[0m\n",
      "\u001b[34mEpoch: 40, Training MSE: 0.89540386, Training MAE: 0.87012851\u001b[0m\n",
      "\u001b[34mEpoch: 41, Training MSE: 0.85551822, Training MAE: 0.84199190\u001b[0m\n",
      "\u001b[34mEpoch: 42, Training MSE: 0.78250796, Training MAE: 0.79042840\u001b[0m\n",
      "\u001b[34mEpoch: 43, Training MSE: 0.65946490, Training MAE: 0.69852388\u001b[0m\n",
      "\u001b[34mEpoch: 44, Training MSE: 0.50859165, Training MAE: 0.59743410\u001b[0m\n",
      "\u001b[34mEpoch: 45, Training MSE: 0.39430130, Training MAE: 0.52008241\u001b[0m\n",
      "\u001b[34mEpoch: 46, Training MSE: 0.32439765, Training MAE: 0.46486667\u001b[0m\n",
      "\u001b[34mEpoch: 47, Training MSE: 0.28614131, Training MAE: 0.42729962\u001b[0m\n",
      "\u001b[34mEpoch: 48, Training MSE: 0.25647160, Training MAE: 0.40247306\u001b[0m\n",
      "\u001b[34mEpoch: 49, Training MSE: 0.22906734, Training MAE: 0.38139477\u001b[0m\n",
      "\u001b[34mEpoch: 50, Training MSE: 0.21034871, Training MAE: 0.36649150\u001b[0m\n",
      "\u001b[34mEpoch: 51, Training MSE: 0.19767717, Training MAE: 0.35615924\u001b[0m\n",
      "\u001b[34mEpoch: 52, Training MSE: 0.17942721, Training MAE: 0.33892536\u001b[0m\n",
      "\u001b[34mEpoch: 53, Training MSE: 0.16792567, Training MAE: 0.33300197\u001b[0m\n",
      "\u001b[34mEpoch: 54, Training MSE: 0.15370467, Training MAE: 0.32069445\u001b[0m\n",
      "\u001b[34mEpoch: 55, Training MSE: 0.14444554, Training MAE: 0.31359568\u001b[0m\n",
      "\u001b[34mEpoch: 56, Training MSE: 0.13683932, Training MAE: 0.30566365\u001b[0m\n",
      "\u001b[34mEpoch: 57, Training MSE: 0.13149650, Training MAE: 0.30001855\u001b[0m\n",
      "\u001b[34mEpoch: 58, Training MSE: 0.12620974, Training MAE: 0.29275858\u001b[0m\n",
      "\u001b[34mEpoch: 59, Training MSE: 0.12194116, Training MAE: 0.28692725\u001b[0m\n",
      "\u001b[34mEpoch: 60, Training MSE: 0.12059159, Training MAE: 0.28575200\u001b[0m\n",
      "\u001b[34mEpoch: 61, Training MSE: 0.11433249, Training MAE: 0.27754280\u001b[0m\n",
      "\u001b[34mEpoch: 62, Training MSE: 0.11016405, Training MAE: 0.27126595\u001b[0m\n",
      "\u001b[34mEpoch: 63, Training MSE: 0.10902709, Training MAE: 0.27060279\u001b[0m\n",
      "\u001b[34mEpoch: 64, Training MSE: 0.10327335, Training MAE: 0.26131108\u001b[0m\n",
      "\u001b[34mEpoch: 65, Training MSE: 0.10240712, Training MAE: 0.26137125\u001b[0m\n",
      "\u001b[34mEpoch: 66, Training MSE: 0.09739757, Training MAE: 0.25223744\u001b[0m\n",
      "\u001b[34mEpoch: 67, Training MSE: 0.09634498, Training MAE: 0.25288719\u001b[0m\n",
      "\u001b[34mEpoch: 68, Training MSE: 0.09200759, Training MAE: 0.24496590\u001b[0m\n",
      "\u001b[34mEpoch: 69, Training MSE: 0.09089592, Training MAE: 0.24432957\u001b[0m\n",
      "\u001b[34mEpoch: 70, Training MSE: 0.08748856, Training MAE: 0.23837793\u001b[0m\n",
      "\u001b[34mEpoch: 71, Training MSE: 0.08612365, Training MAE: 0.23762624\u001b[0m\n",
      "\u001b[34mEpoch: 72, Training MSE: 0.08344883, Training MAE: 0.23131329\u001b[0m\n",
      "\u001b[34mEpoch: 73, Training MSE: 0.08490475, Training MAE: 0.23553209\u001b[0m\n",
      "\u001b[34mEpoch: 74, Training MSE: 0.08088308, Training MAE: 0.22313873\u001b[0m\n",
      "\u001b[34mEpoch: 75, Training MSE: 0.08340307, Training MAE: 0.23411058\u001b[0m\n",
      "\u001b[34mEpoch: 76, Training MSE: 0.07629663, Training MAE: 0.21739528\u001b[0m\n",
      "\u001b[34mEpoch: 77, Training MSE: 0.07881655, Training MAE: 0.22650884\u001b[0m\n",
      "\u001b[34mEpoch: 78, Training MSE: 0.07241580, Training MAE: 0.21265374\u001b[0m\n",
      "\u001b[34mEpoch: 79, Training MSE: 0.07263342, Training MAE: 0.21670024\u001b[0m\n",
      "\u001b[34mEpoch: 80, Training MSE: 0.07019591, Training MAE: 0.21095321\u001b[0m\n",
      "\u001b[34mEpoch: 81, Training MSE: 0.06892434, Training MAE: 0.20890525\u001b[0m\n",
      "\u001b[34mEpoch: 82, Training MSE: 0.06792375, Training MAE: 0.20765156\u001b[0m\n",
      "\u001b[34mEpoch: 83, Training MSE: 0.06645724, Training MAE: 0.20611845\u001b[0m\n",
      "\u001b[34mEpoch: 84, Training MSE: 0.06468777, Training MAE: 0.20159024\u001b[0m\n",
      "\u001b[34mEpoch: 85, Training MSE: 0.06505504, Training MAE: 0.20372470\u001b[0m\n",
      "\u001b[34mEpoch: 86, Training MSE: 0.06301392, Training MAE: 0.19698837\u001b[0m\n",
      "\u001b[34mEpoch: 87, Training MSE: 0.06198553, Training MAE: 0.19702297\u001b[0m\n",
      "\u001b[34mEpoch: 88, Training MSE: 0.06075010, Training MAE: 0.19483717\u001b[0m\n",
      "\u001b[34mEpoch: 89, Training MSE: 0.05999235, Training MAE: 0.19289641\u001b[0m\n",
      "\u001b[34mEpoch: 90, Training MSE: 0.05880690, Training MAE: 0.19145951\u001b[0m\n",
      "\u001b[34mEpoch: 91, Training MSE: 0.05760300, Training MAE: 0.18924598\u001b[0m\n",
      "\u001b[34mEpoch: 92, Training MSE: 0.05658427, Training MAE: 0.18581034\u001b[0m\n",
      "\u001b[34mEpoch: 93, Training MSE: 0.05560753, Training MAE: 0.18285249\u001b[0m\n",
      "\u001b[34mEpoch: 94, Training MSE: 0.05726512, Training MAE: 0.18828145\u001b[0m\n",
      "\u001b[34mEpoch: 95, Training MSE: 0.05489112, Training MAE: 0.17814445\u001b[0m\n",
      "\u001b[34mEpoch: 96, Training MSE: 0.05285311, Training MAE: 0.17952263\u001b[0m\n",
      "\u001b[34mEpoch: 97, Training MSE: 0.05347063, Training MAE: 0.18093719\u001b[0m\n",
      "\u001b[34mEpoch: 98, Training MSE: 0.05225801, Training MAE: 0.17385790\u001b[0m\n",
      "\u001b[34mEpoch: 99, Training MSE: 0.05375117, Training MAE: 0.18164857\u001b[0m\n",
      "\u001b[34mEpoch: 100, Training MSE: 0.04988547, Training MAE: 0.17104267\u001b[0m\n",
      "\u001b[34mEpoch: 101, Training MSE: 0.04923875, Training MAE: 0.17155381\u001b[0m\n",
      "\u001b[34mEpoch: 102, Training MSE: 0.04806392, Training MAE: 0.16916053\u001b[0m\n",
      "\u001b[34mEpoch: 103, Training MSE: 0.04699438, Training MAE: 0.16696976\u001b[0m\n",
      "\u001b[34mEpoch: 104, Training MSE: 0.04656601, Training MAE: 0.16653097\u001b[0m\n",
      "\u001b[34mEpoch: 105, Training MSE: 0.04608304, Training MAE: 0.16311246\u001b[0m\n",
      "\u001b[34mEpoch: 106, Training MSE: 0.04588060, Training MAE: 0.16497765\u001b[0m\n",
      "\u001b[34mEpoch: 107, Training MSE: 0.04456674, Training MAE: 0.16059253\u001b[0m\n",
      "\u001b[34mEpoch: 108, Training MSE: 0.04652536, Training MAE: 0.16634932\u001b[0m\n",
      "\u001b[34mEpoch: 109, Training MSE: 0.04358245, Training MAE: 0.15768085\u001b[0m\n",
      "\u001b[34mEpoch: 110, Training MSE: 0.04248634, Training MAE: 0.15571500\u001b[0m\n",
      "\u001b[34mEpoch: 111, Training MSE: 0.04185219, Training MAE: 0.15601316\u001b[0m\n",
      "\u001b[34mEpoch: 112, Training MSE: 0.04335778, Training MAE: 0.15915687\u001b[0m\n",
      "\u001b[34mEpoch: 113, Training MSE: 0.04117467, Training MAE: 0.15233132\u001b[0m\n",
      "\u001b[34mEpoch: 114, Training MSE: 0.04090452, Training MAE: 0.15393445\u001b[0m\n",
      "\u001b[34mEpoch: 115, Training MSE: 0.03991330, Training MAE: 0.14986762\u001b[0m\n",
      "\u001b[34mEpoch: 116, Training MSE: 0.03956965, Training MAE: 0.15087661\u001b[0m\n",
      "\u001b[34mEpoch: 117, Training MSE: 0.03849648, Training MAE: 0.14785399\u001b[0m\n",
      "\u001b[34mEpoch: 118, Training MSE: 0.03801544, Training MAE: 0.14668846\u001b[0m\n",
      "\u001b[34mEpoch: 119, Training MSE: 0.03801616, Training MAE: 0.14673759\u001b[0m\n",
      "\u001b[34mEpoch: 120, Training MSE: 0.03827906, Training MAE: 0.14751185\u001b[0m\n",
      "\u001b[34mEpoch: 121, Training MSE: 0.03821715, Training MAE: 0.14352934\u001b[0m\n",
      "\u001b[34mEpoch: 122, Training MSE: 0.03671860, Training MAE: 0.14368591\u001b[0m\n",
      "\u001b[34mEpoch: 123, Training MSE: 0.03588826, Training MAE: 0.14192696\u001b[0m\n",
      "\u001b[34mEpoch: 124, Training MSE: 0.03609934, Training MAE: 0.14004688\u001b[0m\n",
      "\u001b[34mEpoch: 125, Training MSE: 0.03694982, Training MAE: 0.14377467\u001b[0m\n",
      "\u001b[34mEpoch: 126, Training MSE: 0.03476020, Training MAE: 0.13894516\u001b[0m\n",
      "\u001b[34mEpoch: 127, Training MSE: 0.03666315, Training MAE: 0.13919139\u001b[0m\n",
      "\u001b[34mEpoch: 128, Training MSE: 0.03771560, Training MAE: 0.14323762\u001b[0m\n",
      "\u001b[34mEpoch: 129, Training MSE: 0.03341343, Training MAE: 0.13540113\u001b[0m\n",
      "\u001b[34mEpoch: 130, Training MSE: 0.03385887, Training MAE: 0.13466994\u001b[0m\n",
      "\u001b[34mEpoch: 131, Training MSE: 0.03464857, Training MAE: 0.13763669\u001b[0m\n",
      "\u001b[34mEpoch: 132, Training MSE: 0.03254107, Training MAE: 0.13294244\u001b[0m\n",
      "\u001b[34mEpoch: 133, Training MSE: 0.03234472, Training MAE: 0.13195768\u001b[0m\n",
      "\u001b[34mEpoch: 134, Training MSE: 0.03181557, Training MAE: 0.13137721\u001b[0m\n",
      "\u001b[34mEpoch: 135, Training MSE: 0.03204523, Training MAE: 0.13178076\u001b[0m\n",
      "\u001b[34mEpoch: 136, Training MSE: 0.03271486, Training MAE: 0.13077348\u001b[0m\n",
      "\u001b[34mEpoch: 137, Training MSE: 0.03233253, Training MAE: 0.13189557\u001b[0m\n",
      "\u001b[34mEpoch: 138, Training MSE: 0.03079948, Training MAE: 0.12765087\u001b[0m\n",
      "\u001b[34mEpoch: 139, Training MSE: 0.03024722, Training MAE: 0.12714586\u001b[0m\n",
      "\u001b[34mEpoch: 140, Training MSE: 0.03037629, Training MAE: 0.12675978\u001b[0m\n",
      "\u001b[34mEpoch: 141, Training MSE: 0.03001902, Training MAE: 0.12671199\u001b[0m\n",
      "\u001b[34mEpoch: 142, Training MSE: 0.03013420, Training MAE: 0.12702237\u001b[0m\n",
      "\u001b[34mEpoch: 143, Training MSE: 0.02953194, Training MAE: 0.12432039\u001b[0m\n",
      "\u001b[34mEpoch: 144, Training MSE: 0.02923900, Training MAE: 0.12474655\u001b[0m\n",
      "\u001b[34mEpoch: 145, Training MSE: 0.02887092, Training MAE: 0.12321099\u001b[0m\n",
      "\u001b[34mEpoch: 146, Training MSE: 0.02854737, Training MAE: 0.12244082\u001b[0m\n",
      "\u001b[34mEpoch: 147, Training MSE: 0.02848584, Training MAE: 0.12260973\u001b[0m\n",
      "\u001b[34mEpoch: 148, Training MSE: 0.02812031, Training MAE: 0.12172104\u001b[0m\n",
      "\u001b[34mEpoch: 149, Training MSE: 0.02785834, Training MAE: 0.12048668\u001b[0m\n",
      "\u001b[34mEpoch: 150, Training MSE: 0.02889085, Training MAE: 0.12157603\u001b[0m\n",
      "\u001b[34mEpoch: 151, Training MSE: 0.02732517, Training MAE: 0.11968525\u001b[0m\n",
      "\u001b[34mEpoch: 152, Training MSE: 0.02717154, Training MAE: 0.11893492\u001b[0m\n",
      "\u001b[34mEpoch: 153, Training MSE: 0.02864609, Training MAE: 0.11996748\u001b[0m\n",
      "\u001b[34mEpoch: 154, Training MSE: 0.02799145, Training MAE: 0.12004620\u001b[0m\n",
      "\u001b[34mEpoch: 155, Training MSE: 0.02734205, Training MAE: 0.11811928\u001b[0m\n",
      "\u001b[34mEpoch: 156, Training MSE: 0.02715492, Training MAE: 0.11706348\u001b[0m\n",
      "\u001b[34mEpoch: 157, Training MSE: 0.02680007, Training MAE: 0.11731437\u001b[0m\n",
      "\u001b[34mEpoch: 158, Training MSE: 0.02625133, Training MAE: 0.11587972\u001b[0m\n",
      "\u001b[34mEpoch: 159, Training MSE: 0.02783702, Training MAE: 0.11739548\u001b[0m\n",
      "\u001b[34mEpoch: 160, Training MSE: 0.02725298, Training MAE: 0.11719485\u001b[0m\n",
      "\u001b[34mEpoch: 161, Training MSE: 0.02580936, Training MAE: 0.11453593\u001b[0m\n",
      "\u001b[34mEpoch: 162, Training MSE: 0.02647979, Training MAE: 0.11511613\u001b[0m\n",
      "\u001b[34mEpoch: 163, Training MSE: 0.02655218, Training MAE: 0.11588818\u001b[0m\n",
      "\n",
      "2023-10-03 15:44:02 Uploading - Uploading generated training model\u001b[34mEpoch: 164, Training MSE: 0.02568608, Training MAE: 0.11429145\u001b[0m\n",
      "\u001b[34mEpoch: 165, Training MSE: 0.02691985, Training MAE: 0.11479574\u001b[0m\n",
      "\u001b[34mEpoch: 166, Training MSE: 0.02511775, Training MAE: 0.11225885\u001b[0m\n",
      "\u001b[34mEpoch: 167, Training MSE: 0.02532184, Training MAE: 0.11264883\u001b[0m\n",
      "\u001b[34mEpoch: 168, Training MSE: 0.02446690, Training MAE: 0.11081704\u001b[0m\n",
      "\u001b[34mEpoch: 169, Training MSE: 0.02845994, Training MAE: 0.11626676\u001b[0m\n",
      "\u001b[34mEpoch: 170, Training MSE: 0.02764714, Training MAE: 0.11679186\u001b[0m\n",
      "\u001b[34mEpoch: 171, Training MSE: 0.02532674, Training MAE: 0.11073763\u001b[0m\n",
      "\u001b[34mEpoch: 172, Training MSE: 0.02525903, Training MAE: 0.11184825\u001b[0m\n",
      "\u001b[34mEpoch: 173, Training MSE: 0.02436683, Training MAE: 0.11023819\u001b[0m\n",
      "\u001b[34mEpoch: 174, Training MSE: 0.02627938, Training MAE: 0.11206524\u001b[0m\n",
      "\u001b[34mEpoch: 175, Training MSE: 0.02775377, Training MAE: 0.11570001\u001b[0m\n",
      "\u001b[34mEpoch: 176, Training MSE: 0.02397620, Training MAE: 0.10788677\u001b[0m\n",
      "\u001b[34mEpoch: 177, Training MSE: 0.02399024, Training MAE: 0.10811865\u001b[0m\n",
      "\u001b[34mEpoch: 178, Training MSE: 0.02345285, Training MAE: 0.10733371\u001b[0m\n",
      "\u001b[34mEpoch: 179, Training MSE: 0.02325171, Training MAE: 0.10672776\u001b[0m\n",
      "\u001b[34mEpoch: 180, Training MSE: 0.02297742, Training MAE: 0.10625682\u001b[0m\n",
      "\u001b[34mEpoch: 181, Training MSE: 0.02297111, Training MAE: 0.10635961\u001b[0m\n",
      "\u001b[34mEpoch: 182, Training MSE: 0.02441641, Training MAE: 0.10767261\u001b[0m\n",
      "\u001b[34mEpoch: 183, Training MSE: 0.02465287, Training MAE: 0.10921028\u001b[0m\n",
      "\u001b[34mEpoch: 184, Training MSE: 0.02444055, Training MAE: 0.10725557\u001b[0m\n",
      "\u001b[34mEpoch: 185, Training MSE: 0.02274075, Training MAE: 0.10557482\u001b[0m\n",
      "\u001b[34mEpoch: 186, Training MSE: 0.02244929, Training MAE: 0.10459908\u001b[0m\n",
      "\u001b[34mEpoch: 187, Training MSE: 0.02246926, Training MAE: 0.10522384\u001b[0m\n",
      "\u001b[34mEpoch: 188, Training MSE: 0.02263212, Training MAE: 0.10526780\u001b[0m\n",
      "\u001b[34mEpoch: 189, Training MSE: 0.02337058, Training MAE: 0.10574000\u001b[0m\n",
      "\u001b[34mEpoch: 190, Training MSE: 0.02251424, Training MAE: 0.10506854\u001b[0m\n",
      "\u001b[34mEpoch: 191, Training MSE: 0.02241776, Training MAE: 0.10375813\u001b[0m\n",
      "\u001b[34mEpoch: 192, Training MSE: 0.02179405, Training MAE: 0.10292158\u001b[0m\n",
      "\u001b[34mEpoch: 193, Training MSE: 0.02205625, Training MAE: 0.10359129\u001b[0m\n",
      "\u001b[34mEpoch: 194, Training MSE: 0.02214377, Training MAE: 0.10340931\u001b[0m\n",
      "\u001b[34mEpoch: 195, Training MSE: 0.02397883, Training MAE: 0.10508306\u001b[0m\n",
      "\u001b[34mEpoch: 196, Training MSE: 0.02285003, Training MAE: 0.10514683\u001b[0m\n",
      "\u001b[34mEpoch: 197, Training MSE: 0.02144931, Training MAE: 0.10173410\u001b[0m\n",
      "\u001b[34mEpoch: 198, Training MSE: 0.02140371, Training MAE: 0.10119619\u001b[0m\n",
      "\u001b[34mEpoch: 199, Training MSE: 0.02175771, Training MAE: 0.10237671\u001b[0m\n",
      "\u001b[34mEpoch: 200, Training MSE: 0.02219469, Training MAE: 0.10200372\u001b[0m\n",
      "\u001b[34m--------------------------------------\u001b[0m\n",
      "\u001b[34mScoring the model.\u001b[0m\n",
      "\u001b[34mtrain:mse 0.02219469\u001b[0m\n",
      "\u001b[34mtrain:mae 0.10200372\u001b[0m\n",
      "\u001b[34m--------------------------------------\u001b[0m\n",
      "\u001b[34m2023-10-03 15:43:54,351 sagemaker-training-toolkit INFO     Waiting for the process to finish and give a return code.\u001b[0m\n",
      "\u001b[34m2023-10-03 15:43:54,351 sagemaker-training-toolkit INFO     Done waiting for a return code. Received 0 from exiting process.\u001b[0m\n",
      "\u001b[34m2023-10-03 15:43:54,352 sagemaker-training-toolkit INFO     Reporting training SUCCESS\u001b[0m\n",
      "\n",
      "2023-10-03 15:44:13 Completed - Training job completed\n",
      "Training seconds: 303\n",
      "Billable seconds: 303\n"
     ]
    }
   ],
   "source": [
    "estimator = sagemaker.algorithm.AlgorithmEstimator(\n",
    "    algorithm_arn=algo_arn,\n",
    "    role=role,\n",
    "    instance_count=1,\n",
    "    instance_type=instance_type,\n",
    "    input_mode=\"File\",\n",
    "    sagemaker_session=sagemaker_session,\n",
    "    hyperparameters={\n",
    "        \"sequence-length\": 30,\n",
    "        \"sequence-stride\": 30,\n",
    "        \"hidden-size\": 64,\n",
    "        \"lr\": 0.0001,\n",
    "        \"batch-size\": 16,\n",
    "        \"epochs\": 200,\n",
    "    },\n",
    ")\n",
    "\n",
    "estimator.fit({\"training\": training_data})"
   ]
  },
  {
   "cell_type": "markdown",
   "id": "929a3d35-a4ba-4a39-a7b0-8dbd4f9c2601",
   "metadata": {},
   "source": [
    "### 4. Inference"
   ]
  },
  {
   "cell_type": "markdown",
   "id": "8aecf50e-4c75-4273-a6c3-ce7004a8220b",
   "metadata": {},
   "source": [
    "Generate the test set reconstructions."
   ]
  },
  {
   "cell_type": "code",
   "execution_count": 18,
   "id": "a4657c35-0687-413a-829c-a028e6a9e9d7",
   "metadata": {
    "tags": []
   },
   "outputs": [
    {
     "name": "stderr",
     "output_type": "stream",
     "text": [
      "INFO:sagemaker:Creating model package with name: lstm-ae-algo-v1-2-2023-10-03-15-44-45-420\n"
     ]
    },
    {
     "name": "stdout",
     "output_type": "stream",
     "text": [
      "........."
     ]
    },
    {
     "name": "stderr",
     "output_type": "stream",
     "text": [
      "INFO:sagemaker:Creating model with name: lstm-ae-algo-v1-2-2023-10-03-15-44-45-4-2023-10-03-15-45-30-853\n"
     ]
    },
    {
     "name": "stdout",
     "output_type": "stream",
     "text": [
      "\n"
     ]
    },
    {
     "name": "stderr",
     "output_type": "stream",
     "text": [
      "INFO:sagemaker:Creating transform job with name: lstm-ae-algo-v1-2-2023-10-03-15-45-31-624\n"
     ]
    },
    {
     "name": "stdout",
     "output_type": "stream",
     "text": [
      "...........................................\u001b[34mWarning: TorchServe is using non-default JVM parameters: -XX:-UseContainerSupport\u001b[0m\n",
      "\u001b[34mWARNING: sun.reflect.Reflection.getCallerClass is not supported. This will impact performance.\u001b[0m\n",
      "\u001b[34m2023-10-03T15:52:39,013 [WARN ] main org.pytorch.serve.util.ConfigManager - Your torchserve instance can access any URL to load models. When deploying to production, make sure to limit the set of allowed_urls in config.properties\u001b[0m\n",
      "\u001b[34m2023-10-03T15:52:39,015 [INFO ] main org.pytorch.serve.servingsdk.impl.PluginsManager - Initializing plugins manager...\u001b[0m\n",
      "\u001b[34m2023-10-03T15:52:39,094 [INFO ] main org.pytorch.serve.metrics.configuration.MetricConfiguration - Successfully loaded metrics configuration from /opt/conda/lib/python3.10/site-packages/ts/configs/metrics.yaml\u001b[0m\n",
      "\u001b[34m2023-10-03T15:52:39,193 [INFO ] main org.pytorch.serve.ModelServer - \u001b[0m\n",
      "\u001b[34mTorchserve version: 0.8.2\u001b[0m\n",
      "\u001b[34mTS Home: /opt/conda/lib/python3.10/site-packages\u001b[0m\n",
      "\u001b[34mCurrent directory: /\u001b[0m\n",
      "\u001b[34mTemp directory: /home/model-server/tmp\u001b[0m\n",
      "\u001b[34mMetrics config path: /opt/conda/lib/python3.10/site-packages/ts/configs/metrics.yaml\u001b[0m\n",
      "\u001b[34mNumber of GPUs: 0\u001b[0m\n",
      "\u001b[34mNumber of CPUs: 8\u001b[0m\n",
      "\u001b[34mMax heap size: 7924 M\u001b[0m\n",
      "\u001b[34mPython executable: /opt/conda/bin/python3.10\u001b[0m\n",
      "\u001b[34mConfig file: /etc/sagemaker-ts.properties\u001b[0m\n",
      "\u001b[34mInference address: http://0.0.0.0:8080\u001b[0m\n",
      "\u001b[34mManagement address: http://0.0.0.0:8080\u001b[0m\n",
      "\u001b[34mMetrics address: http://127.0.0.1:8082\u001b[0m\n",
      "\u001b[34mModel Store: /.sagemaker/ts/models\u001b[0m\n",
      "\u001b[34mInitial Models: model=/opt/ml/model\u001b[0m\n",
      "\u001b[35mWarning: TorchServe is using non-default JVM parameters: -XX:-UseContainerSupport\u001b[0m\n",
      "\u001b[35mWARNING: sun.reflect.Reflection.getCallerClass is not supported. This will impact performance.\u001b[0m\n",
      "\u001b[35m2023-10-03T15:52:39,013 [WARN ] main org.pytorch.serve.util.ConfigManager - Your torchserve instance can access any URL to load models. When deploying to production, make sure to limit the set of allowed_urls in config.properties\u001b[0m\n",
      "\u001b[35m2023-10-03T15:52:39,015 [INFO ] main org.pytorch.serve.servingsdk.impl.PluginsManager - Initializing plugins manager...\u001b[0m\n",
      "\u001b[35m2023-10-03T15:52:39,094 [INFO ] main org.pytorch.serve.metrics.configuration.MetricConfiguration - Successfully loaded metrics configuration from /opt/conda/lib/python3.10/site-packages/ts/configs/metrics.yaml\u001b[0m\n",
      "\u001b[35m2023-10-03T15:52:39,193 [INFO ] main org.pytorch.serve.ModelServer - \u001b[0m\n",
      "\u001b[35mTorchserve version: 0.8.2\u001b[0m\n",
      "\u001b[35mTS Home: /opt/conda/lib/python3.10/site-packages\u001b[0m\n",
      "\u001b[35mCurrent directory: /\u001b[0m\n",
      "\u001b[35mTemp directory: /home/model-server/tmp\u001b[0m\n",
      "\u001b[35mMetrics config path: /opt/conda/lib/python3.10/site-packages/ts/configs/metrics.yaml\u001b[0m\n",
      "\u001b[35mNumber of GPUs: 0\u001b[0m\n",
      "\u001b[35mNumber of CPUs: 8\u001b[0m\n",
      "\u001b[35mMax heap size: 7924 M\u001b[0m\n",
      "\u001b[35mPython executable: /opt/conda/bin/python3.10\u001b[0m\n",
      "\u001b[35mConfig file: /etc/sagemaker-ts.properties\u001b[0m\n",
      "\u001b[35mInference address: http://0.0.0.0:8080\u001b[0m\n",
      "\u001b[35mManagement address: http://0.0.0.0:8080\u001b[0m\n",
      "\u001b[35mMetrics address: http://127.0.0.1:8082\u001b[0m\n",
      "\u001b[35mModel Store: /.sagemaker/ts/models\u001b[0m\n",
      "\u001b[35mInitial Models: model=/opt/ml/model\u001b[0m\n",
      "\u001b[34mLog dir: /logs\u001b[0m\n",
      "\u001b[34mMetrics dir: /logs\u001b[0m\n",
      "\u001b[34mNetty threads: 0\u001b[0m\n",
      "\u001b[34mNetty client threads: 0\u001b[0m\n",
      "\u001b[34mDefault workers per model: 8\u001b[0m\n",
      "\u001b[34mBlacklist Regex: N/A\u001b[0m\n",
      "\u001b[34mMaximum Response Size: 6553500\u001b[0m\n",
      "\u001b[34mMaximum Request Size: 6553500\u001b[0m\n",
      "\u001b[34mLimit Maximum Image Pixels: true\u001b[0m\n",
      "\u001b[34mPrefer direct buffer: false\u001b[0m\n",
      "\u001b[34mAllowed Urls: [file://.*|http(s)?://.*]\u001b[0m\n",
      "\u001b[34mCustom python dependency for model allowed: false\u001b[0m\n",
      "\u001b[34mEnable metrics API: true\u001b[0m\n",
      "\u001b[34mMetrics mode: log\u001b[0m\n",
      "\u001b[34mDisable system metrics: true\u001b[0m\n",
      "\u001b[34mWorkflow Store: /.sagemaker/ts/models\u001b[0m\n",
      "\u001b[34mModel config: N/A\u001b[0m\n",
      "\u001b[34m2023-10-03T15:52:39,199 [INFO ] main org.pytorch.serve.servingsdk.impl.PluginsManager -  Loading snapshot serializer plugin...\u001b[0m\n",
      "\u001b[34m2023-10-03T15:52:39,218 [INFO ] main org.pytorch.serve.ModelServer - Loading initial models: /opt/ml/model\u001b[0m\n",
      "\u001b[34m2023-10-03T15:52:39,222 [WARN ] main org.pytorch.serve.archive.model.ModelArchive - Model archive version is not defined. Please upgrade to torch-model-archiver 0.2.0 or higher\u001b[0m\n",
      "\u001b[34m2023-10-03T15:52:39,222 [WARN ] main org.pytorch.serve.archive.model.ModelArchive - Model archive createdOn is not defined. Please upgrade to torch-model-archiver 0.2.0 or higher\u001b[0m\n",
      "\u001b[34m2023-10-03T15:52:39,224 [INFO ] main org.pytorch.serve.wlm.ModelManager - Model model loaded.\u001b[0m\n",
      "\u001b[34m2023-10-03T15:52:39,237 [INFO ] main org.pytorch.serve.ModelServer - Initialize Inference server with: EpollServerSocketChannel.\u001b[0m\n",
      "\u001b[34m2023-10-03T15:52:39,417 [INFO ] main org.pytorch.serve.ModelServer - Inference API bind to: http://0.0.0.0:8080\u001b[0m\n",
      "\u001b[34m2023-10-03T15:52:39,418 [INFO ] main org.pytorch.serve.ModelServer - Initialize Metrics server with: EpollServerSocketChannel.\u001b[0m\n",
      "\u001b[34m2023-10-03T15:52:39,456 [INFO ] main org.pytorch.serve.ModelServer - Metrics API bind to: http://127.0.0.1:8082\u001b[0m\n",
      "\u001b[34mModel server started.\u001b[0m\n",
      "\u001b[34m2023-10-03T15:52:41,749 [INFO ] W-9004-model_1.0-stdout MODEL_LOG - s_name_part0=/home/model-server/tmp/.ts.sock, s_name_part1=9004, pid=66\u001b[0m\n",
      "\u001b[34m2023-10-03T15:52:41,750 [INFO ] W-9004-model_1.0-stdout MODEL_LOG - Listening on port: /home/model-server/tmp/.ts.sock.9004\u001b[0m\n",
      "\u001b[34m2023-10-03T15:52:41,765 [INFO ] W-9004-model_1.0-stdout MODEL_LOG - Successfully loaded /opt/conda/lib/python3.10/site-packages/ts/configs/metrics.yaml.\u001b[0m\n",
      "\u001b[35mLog dir: /logs\u001b[0m\n",
      "\u001b[35mMetrics dir: /logs\u001b[0m\n",
      "\u001b[35mNetty threads: 0\u001b[0m\n",
      "\u001b[35mNetty client threads: 0\u001b[0m\n",
      "\u001b[35mDefault workers per model: 8\u001b[0m\n",
      "\u001b[35mBlacklist Regex: N/A\u001b[0m\n",
      "\u001b[35mMaximum Response Size: 6553500\u001b[0m\n",
      "\u001b[35mMaximum Request Size: 6553500\u001b[0m\n",
      "\u001b[35mLimit Maximum Image Pixels: true\u001b[0m\n",
      "\u001b[35mPrefer direct buffer: false\u001b[0m\n",
      "\u001b[35mAllowed Urls: [file://.*|http(s)?://.*]\u001b[0m\n",
      "\u001b[35mCustom python dependency for model allowed: false\u001b[0m\n",
      "\u001b[35mEnable metrics API: true\u001b[0m\n",
      "\u001b[35mMetrics mode: log\u001b[0m\n",
      "\u001b[35mDisable system metrics: true\u001b[0m\n",
      "\u001b[35mWorkflow Store: /.sagemaker/ts/models\u001b[0m\n",
      "\u001b[35mModel config: N/A\u001b[0m\n",
      "\u001b[35m2023-10-03T15:52:39,199 [INFO ] main org.pytorch.serve.servingsdk.impl.PluginsManager -  Loading snapshot serializer plugin...\u001b[0m\n",
      "\u001b[35m2023-10-03T15:52:39,218 [INFO ] main org.pytorch.serve.ModelServer - Loading initial models: /opt/ml/model\u001b[0m\n",
      "\u001b[35m2023-10-03T15:52:39,222 [WARN ] main org.pytorch.serve.archive.model.ModelArchive - Model archive version is not defined. Please upgrade to torch-model-archiver 0.2.0 or higher\u001b[0m\n",
      "\u001b[35m2023-10-03T15:52:39,222 [WARN ] main org.pytorch.serve.archive.model.ModelArchive - Model archive createdOn is not defined. Please upgrade to torch-model-archiver 0.2.0 or higher\u001b[0m\n",
      "\u001b[35m2023-10-03T15:52:39,224 [INFO ] main org.pytorch.serve.wlm.ModelManager - Model model loaded.\u001b[0m\n",
      "\u001b[35m2023-10-03T15:52:39,237 [INFO ] main org.pytorch.serve.ModelServer - Initialize Inference server with: EpollServerSocketChannel.\u001b[0m\n",
      "\u001b[35m2023-10-03T15:52:39,417 [INFO ] main org.pytorch.serve.ModelServer - Inference API bind to: http://0.0.0.0:8080\u001b[0m\n",
      "\u001b[35m2023-10-03T15:52:39,418 [INFO ] main org.pytorch.serve.ModelServer - Initialize Metrics server with: EpollServerSocketChannel.\u001b[0m\n",
      "\u001b[35m2023-10-03T15:52:39,456 [INFO ] main org.pytorch.serve.ModelServer - Metrics API bind to: http://127.0.0.1:8082\u001b[0m\n",
      "\u001b[35mModel server started.\u001b[0m\n",
      "\u001b[35m2023-10-03T15:52:41,749 [INFO ] W-9004-model_1.0-stdout MODEL_LOG - s_name_part0=/home/model-server/tmp/.ts.sock, s_name_part1=9004, pid=66\u001b[0m\n",
      "\u001b[35m2023-10-03T15:52:41,750 [INFO ] W-9004-model_1.0-stdout MODEL_LOG - Listening on port: /home/model-server/tmp/.ts.sock.9004\u001b[0m\n",
      "\u001b[35m2023-10-03T15:52:41,765 [INFO ] W-9004-model_1.0-stdout MODEL_LOG - Successfully loaded /opt/conda/lib/python3.10/site-packages/ts/configs/metrics.yaml.\u001b[0m\n",
      "\u001b[34m2023-10-03T15:52:41,766 [INFO ] W-9004-model_1.0-stdout MODEL_LOG - [PID]66\u001b[0m\n",
      "\u001b[34m2023-10-03T15:52:41,766 [INFO ] W-9004-model_1.0-stdout MODEL_LOG - Torch worker started.\u001b[0m\n",
      "\u001b[34m2023-10-03T15:52:41,767 [INFO ] W-9004-model_1.0-stdout MODEL_LOG - Python runtime: 3.10.9\u001b[0m\n",
      "\u001b[35m2023-10-03T15:52:41,766 [INFO ] W-9004-model_1.0-stdout MODEL_LOG - [PID]66\u001b[0m\n",
      "\u001b[35m2023-10-03T15:52:41,766 [INFO ] W-9004-model_1.0-stdout MODEL_LOG - Torch worker started.\u001b[0m\n",
      "\u001b[35m2023-10-03T15:52:41,767 [INFO ] W-9004-model_1.0-stdout MODEL_LOG - Python runtime: 3.10.9\u001b[0m\n",
      "\u001b[34m2023-10-03T15:52:41,772 [INFO ] W-9004-model_1.0 org.pytorch.serve.wlm.WorkerThread - Connecting to: /home/model-server/tmp/.ts.sock.9004\u001b[0m\n",
      "\u001b[34m2023-10-03T15:52:41,785 [INFO ] W-9004-model_1.0-stdout MODEL_LOG - Connection accepted: /home/model-server/tmp/.ts.sock.9004.\u001b[0m\n",
      "\u001b[34m2023-10-03T15:52:41,789 [INFO ] W-9004-model_1.0 org.pytorch.serve.wlm.WorkerThread - Flushing req.cmd LOAD to backend at: 1696348361789\u001b[0m\n",
      "\u001b[34m2023-10-03T15:52:41,794 [INFO ] W-9006-model_1.0-stdout MODEL_LOG - s_name_part0=/home/model-server/tmp/.ts.sock, s_name_part1=9006, pid=64\u001b[0m\n",
      "\u001b[34m2023-10-03T15:52:41,795 [INFO ] W-9006-model_1.0-stdout MODEL_LOG - Listening on port: /home/model-server/tmp/.ts.sock.9006\u001b[0m\n",
      "\u001b[34m2023-10-03T15:52:41,811 [INFO ] W-9006-model_1.0-stdout MODEL_LOG - Successfully loaded /opt/conda/lib/python3.10/site-packages/ts/configs/metrics.yaml.\u001b[0m\n",
      "\u001b[34m2023-10-03T15:52:41,813 [INFO ] W-9006-model_1.0-stdout MODEL_LOG - [PID]64\u001b[0m\n",
      "\u001b[34m2023-10-03T15:52:41,814 [INFO ] W-9006-model_1.0-stdout MODEL_LOG - Torch worker started.\u001b[0m\n",
      "\u001b[34m2023-10-03T15:52:41,815 [INFO ] W-9006-model_1.0 org.pytorch.serve.wlm.WorkerThread - Connecting to: /home/model-server/tmp/.ts.sock.9006\u001b[0m\n",
      "\u001b[34m2023-10-03T15:52:41,816 [INFO ] W-9006-model_1.0-stdout MODEL_LOG - Python runtime: 3.10.9\u001b[0m\n",
      "\u001b[34m2023-10-03T15:52:41,839 [INFO ] W-9006-model_1.0-stdout MODEL_LOG - Connection accepted: /home/model-server/tmp/.ts.sock.9006.\u001b[0m\n",
      "\u001b[34m2023-10-03T15:52:41,839 [INFO ] W-9006-model_1.0 org.pytorch.serve.wlm.WorkerThread - Flushing req.cmd LOAD to backend at: 1696348361839\u001b[0m\n",
      "\u001b[34m2023-10-03T15:52:41,867 [INFO ] W-9006-model_1.0-stdout MODEL_LOG - model_name: model, batchSize: 1\u001b[0m\n",
      "\u001b[34m2023-10-03T15:52:41,871 [INFO ] W-9005-model_1.0-stdout MODEL_LOG - s_name_part0=/home/model-server/tmp/.ts.sock, s_name_part1=9005, pid=68\u001b[0m\n",
      "\u001b[34m2023-10-03T15:52:41,872 [INFO ] W-9005-model_1.0-stdout MODEL_LOG - Listening on port: /home/model-server/tmp/.ts.sock.9005\u001b[0m\n",
      "\u001b[34m2023-10-03T15:52:41,875 [INFO ] W-9004-model_1.0-stdout MODEL_LOG - model_name: model, batchSize: 1\u001b[0m\n",
      "\u001b[35m2023-10-03T15:52:41,772 [INFO ] W-9004-model_1.0 org.pytorch.serve.wlm.WorkerThread - Connecting to: /home/model-server/tmp/.ts.sock.9004\u001b[0m\n",
      "\u001b[35m2023-10-03T15:52:41,785 [INFO ] W-9004-model_1.0-stdout MODEL_LOG - Connection accepted: /home/model-server/tmp/.ts.sock.9004.\u001b[0m\n",
      "\u001b[35m2023-10-03T15:52:41,789 [INFO ] W-9004-model_1.0 org.pytorch.serve.wlm.WorkerThread - Flushing req.cmd LOAD to backend at: 1696348361789\u001b[0m\n",
      "\u001b[35m2023-10-03T15:52:41,794 [INFO ] W-9006-model_1.0-stdout MODEL_LOG - s_name_part0=/home/model-server/tmp/.ts.sock, s_name_part1=9006, pid=64\u001b[0m\n",
      "\u001b[35m2023-10-03T15:52:41,795 [INFO ] W-9006-model_1.0-stdout MODEL_LOG - Listening on port: /home/model-server/tmp/.ts.sock.9006\u001b[0m\n",
      "\u001b[35m2023-10-03T15:52:41,811 [INFO ] W-9006-model_1.0-stdout MODEL_LOG - Successfully loaded /opt/conda/lib/python3.10/site-packages/ts/configs/metrics.yaml.\u001b[0m\n",
      "\u001b[35m2023-10-03T15:52:41,813 [INFO ] W-9006-model_1.0-stdout MODEL_LOG - [PID]64\u001b[0m\n",
      "\u001b[35m2023-10-03T15:52:41,814 [INFO ] W-9006-model_1.0-stdout MODEL_LOG - Torch worker started.\u001b[0m\n",
      "\u001b[35m2023-10-03T15:52:41,815 [INFO ] W-9006-model_1.0 org.pytorch.serve.wlm.WorkerThread - Connecting to: /home/model-server/tmp/.ts.sock.9006\u001b[0m\n",
      "\u001b[35m2023-10-03T15:52:41,816 [INFO ] W-9006-model_1.0-stdout MODEL_LOG - Python runtime: 3.10.9\u001b[0m\n",
      "\u001b[35m2023-10-03T15:52:41,839 [INFO ] W-9006-model_1.0-stdout MODEL_LOG - Connection accepted: /home/model-server/tmp/.ts.sock.9006.\u001b[0m\n",
      "\u001b[35m2023-10-03T15:52:41,839 [INFO ] W-9006-model_1.0 org.pytorch.serve.wlm.WorkerThread - Flushing req.cmd LOAD to backend at: 1696348361839\u001b[0m\n",
      "\u001b[35m2023-10-03T15:52:41,867 [INFO ] W-9006-model_1.0-stdout MODEL_LOG - model_name: model, batchSize: 1\u001b[0m\n",
      "\u001b[35m2023-10-03T15:52:41,871 [INFO ] W-9005-model_1.0-stdout MODEL_LOG - s_name_part0=/home/model-server/tmp/.ts.sock, s_name_part1=9005, pid=68\u001b[0m\n",
      "\u001b[35m2023-10-03T15:52:41,872 [INFO ] W-9005-model_1.0-stdout MODEL_LOG - Listening on port: /home/model-server/tmp/.ts.sock.9005\u001b[0m\n",
      "\u001b[35m2023-10-03T15:52:41,875 [INFO ] W-9004-model_1.0-stdout MODEL_LOG - model_name: model, batchSize: 1\u001b[0m\n",
      "\u001b[34m2023-10-03T15:52:41,887 [INFO ] W-9005-model_1.0-stdout MODEL_LOG - Successfully loaded /opt/conda/lib/python3.10/site-packages/ts/configs/metrics.yaml.\u001b[0m\n",
      "\u001b[34m2023-10-03T15:52:41,888 [INFO ] W-9005-model_1.0-stdout MODEL_LOG - [PID]68\u001b[0m\n",
      "\u001b[34m2023-10-03T15:52:41,888 [INFO ] W-9005-model_1.0-stdout MODEL_LOG - Torch worker started.\u001b[0m\n",
      "\u001b[34m2023-10-03T15:52:41,889 [INFO ] W-9005-model_1.0 org.pytorch.serve.wlm.WorkerThread - Connecting to: /home/model-server/tmp/.ts.sock.9005\u001b[0m\n",
      "\u001b[34m2023-10-03T15:52:41,890 [INFO ] W-9005-model_1.0-stdout MODEL_LOG - Python runtime: 3.10.9\u001b[0m\n",
      "\u001b[34m2023-10-03T15:52:41,908 [INFO ] W-9005-model_1.0-stdout MODEL_LOG - Connection accepted: /home/model-server/tmp/.ts.sock.9005.\u001b[0m\n",
      "\u001b[34m2023-10-03T15:52:41,908 [INFO ] W-9005-model_1.0 org.pytorch.serve.wlm.WorkerThread - Flushing req.cmd LOAD to backend at: 1696348361908\u001b[0m\n",
      "\u001b[34m2023-10-03T15:52:41,945 [INFO ] W-9007-model_1.0-stdout MODEL_LOG - s_name_part0=/home/model-server/tmp/.ts.sock, s_name_part1=9007, pid=63\u001b[0m\n",
      "\u001b[34m2023-10-03T15:52:41,948 [INFO ] W-9007-model_1.0-stdout MODEL_LOG - Listening on port: /home/model-server/tmp/.ts.sock.9007\u001b[0m\n",
      "\u001b[34m2023-10-03T15:52:41,965 [INFO ] W-9007-model_1.0-stdout MODEL_LOG - Successfully loaded /opt/conda/lib/python3.10/site-packages/ts/configs/metrics.yaml.\u001b[0m\n",
      "\u001b[34m2023-10-03T15:52:41,967 [INFO ] W-9007-model_1.0-stdout MODEL_LOG - [PID]63\u001b[0m\n",
      "\u001b[34m2023-10-03T15:52:41,967 [INFO ] W-9005-model_1.0-stdout MODEL_LOG - model_name: model, batchSize: 1\u001b[0m\n",
      "\u001b[34m2023-10-03T15:52:41,968 [INFO ] W-9007-model_1.0-stdout MODEL_LOG - Torch worker started.\u001b[0m\n",
      "\u001b[34m2023-10-03T15:52:41,968 [INFO ] W-9007-model_1.0 org.pytorch.serve.wlm.WorkerThread - Connecting to: /home/model-server/tmp/.ts.sock.9007\u001b[0m\n",
      "\u001b[34m2023-10-03T15:52:41,970 [INFO ] W-9007-model_1.0-stdout MODEL_LOG - Python runtime: 3.10.9\u001b[0m\n",
      "\u001b[34m2023-10-03T15:52:41,983 [INFO ] W-9007-model_1.0-stdout MODEL_LOG - Connection accepted: /home/model-server/tmp/.ts.sock.9007.\u001b[0m\n",
      "\u001b[34m2023-10-03T15:52:41,983 [INFO ] W-9007-model_1.0 org.pytorch.serve.wlm.WorkerThread - Flushing req.cmd LOAD to backend at: 1696348361983\u001b[0m\n",
      "\u001b[34m2023-10-03T15:52:42,018 [INFO ] W-9001-model_1.0-stdout MODEL_LOG - s_name_part0=/home/model-server/tmp/.ts.sock, s_name_part1=9001, pid=65\u001b[0m\n",
      "\u001b[34m2023-10-03T15:52:42,020 [INFO ] W-9001-model_1.0-stdout MODEL_LOG - Listening on port: /home/model-server/tmp/.ts.sock.9001\u001b[0m\n",
      "\u001b[34m2023-10-03T15:52:42,021 [INFO ] W-9007-model_1.0-stdout MODEL_LOG - model_name: model, batchSize: 1\u001b[0m\n",
      "\u001b[34m2023-10-03T15:52:42,052 [INFO ] W-9001-model_1.0-stdout MODEL_LOG - Successfully loaded /opt/conda/lib/python3.10/site-packages/ts/configs/metrics.yaml.\u001b[0m\n",
      "\u001b[34m2023-10-03T15:52:42,053 [INFO ] W-9001-model_1.0-stdout MODEL_LOG - [PID]65\u001b[0m\n",
      "\u001b[34m2023-10-03T15:52:42,059 [INFO ] W-9001-model_1.0-stdout MODEL_LOG - Torch worker started.\u001b[0m\n",
      "\u001b[34m2023-10-03T15:52:42,060 [INFO ] W-9001-model_1.0-stdout MODEL_LOG - Python runtime: 3.10.9\u001b[0m\n",
      "\u001b[34m2023-10-03T15:52:42,059 [INFO ] W-9001-model_1.0 org.pytorch.serve.wlm.WorkerThread - Connecting to: /home/model-server/tmp/.ts.sock.9001\u001b[0m\n",
      "\u001b[34m2023-10-03T15:52:42,064 [INFO ] W-9001-model_1.0-stdout MODEL_LOG - Connection accepted: /home/model-server/tmp/.ts.sock.9001.\u001b[0m\n",
      "\u001b[34m2023-10-03T15:52:42,064 [INFO ] W-9001-model_1.0 org.pytorch.serve.wlm.WorkerThread - Flushing req.cmd LOAD to backend at: 1696348362064\u001b[0m\n",
      "\u001b[34m2023-10-03T15:52:42,068 [INFO ] W-9002-model_1.0-stdout MODEL_LOG - s_name_part0=/home/model-server/tmp/.ts.sock, s_name_part1=9002, pid=62\u001b[0m\n",
      "\u001b[34m2023-10-03T15:52:42,069 [INFO ] W-9002-model_1.0-stdout MODEL_LOG - Listening on port: /home/model-server/tmp/.ts.sock.9002\u001b[0m\n",
      "\u001b[35m2023-10-03T15:52:41,887 [INFO ] W-9005-model_1.0-stdout MODEL_LOG - Successfully loaded /opt/conda/lib/python3.10/site-packages/ts/configs/metrics.yaml.\u001b[0m\n",
      "\u001b[35m2023-10-03T15:52:41,888 [INFO ] W-9005-model_1.0-stdout MODEL_LOG - [PID]68\u001b[0m\n",
      "\u001b[35m2023-10-03T15:52:41,888 [INFO ] W-9005-model_1.0-stdout MODEL_LOG - Torch worker started.\u001b[0m\n",
      "\u001b[35m2023-10-03T15:52:41,889 [INFO ] W-9005-model_1.0 org.pytorch.serve.wlm.WorkerThread - Connecting to: /home/model-server/tmp/.ts.sock.9005\u001b[0m\n",
      "\u001b[35m2023-10-03T15:52:41,890 [INFO ] W-9005-model_1.0-stdout MODEL_LOG - Python runtime: 3.10.9\u001b[0m\n",
      "\u001b[35m2023-10-03T15:52:41,908 [INFO ] W-9005-model_1.0-stdout MODEL_LOG - Connection accepted: /home/model-server/tmp/.ts.sock.9005.\u001b[0m\n",
      "\u001b[35m2023-10-03T15:52:41,908 [INFO ] W-9005-model_1.0 org.pytorch.serve.wlm.WorkerThread - Flushing req.cmd LOAD to backend at: 1696348361908\u001b[0m\n",
      "\u001b[35m2023-10-03T15:52:41,945 [INFO ] W-9007-model_1.0-stdout MODEL_LOG - s_name_part0=/home/model-server/tmp/.ts.sock, s_name_part1=9007, pid=63\u001b[0m\n",
      "\u001b[35m2023-10-03T15:52:41,948 [INFO ] W-9007-model_1.0-stdout MODEL_LOG - Listening on port: /home/model-server/tmp/.ts.sock.9007\u001b[0m\n",
      "\u001b[35m2023-10-03T15:52:41,965 [INFO ] W-9007-model_1.0-stdout MODEL_LOG - Successfully loaded /opt/conda/lib/python3.10/site-packages/ts/configs/metrics.yaml.\u001b[0m\n",
      "\u001b[35m2023-10-03T15:52:41,967 [INFO ] W-9007-model_1.0-stdout MODEL_LOG - [PID]63\u001b[0m\n",
      "\u001b[35m2023-10-03T15:52:41,967 [INFO ] W-9005-model_1.0-stdout MODEL_LOG - model_name: model, batchSize: 1\u001b[0m\n",
      "\u001b[35m2023-10-03T15:52:41,968 [INFO ] W-9007-model_1.0-stdout MODEL_LOG - Torch worker started.\u001b[0m\n",
      "\u001b[35m2023-10-03T15:52:41,968 [INFO ] W-9007-model_1.0 org.pytorch.serve.wlm.WorkerThread - Connecting to: /home/model-server/tmp/.ts.sock.9007\u001b[0m\n",
      "\u001b[35m2023-10-03T15:52:41,970 [INFO ] W-9007-model_1.0-stdout MODEL_LOG - Python runtime: 3.10.9\u001b[0m\n",
      "\u001b[35m2023-10-03T15:52:41,983 [INFO ] W-9007-model_1.0-stdout MODEL_LOG - Connection accepted: /home/model-server/tmp/.ts.sock.9007.\u001b[0m\n",
      "\u001b[35m2023-10-03T15:52:41,983 [INFO ] W-9007-model_1.0 org.pytorch.serve.wlm.WorkerThread - Flushing req.cmd LOAD to backend at: 1696348361983\u001b[0m\n",
      "\u001b[35m2023-10-03T15:52:42,018 [INFO ] W-9001-model_1.0-stdout MODEL_LOG - s_name_part0=/home/model-server/tmp/.ts.sock, s_name_part1=9001, pid=65\u001b[0m\n",
      "\u001b[35m2023-10-03T15:52:42,020 [INFO ] W-9001-model_1.0-stdout MODEL_LOG - Listening on port: /home/model-server/tmp/.ts.sock.9001\u001b[0m\n",
      "\u001b[35m2023-10-03T15:52:42,021 [INFO ] W-9007-model_1.0-stdout MODEL_LOG - model_name: model, batchSize: 1\u001b[0m\n",
      "\u001b[35m2023-10-03T15:52:42,052 [INFO ] W-9001-model_1.0-stdout MODEL_LOG - Successfully loaded /opt/conda/lib/python3.10/site-packages/ts/configs/metrics.yaml.\u001b[0m\n",
      "\u001b[35m2023-10-03T15:52:42,053 [INFO ] W-9001-model_1.0-stdout MODEL_LOG - [PID]65\u001b[0m\n",
      "\u001b[35m2023-10-03T15:52:42,059 [INFO ] W-9001-model_1.0-stdout MODEL_LOG - Torch worker started.\u001b[0m\n",
      "\u001b[35m2023-10-03T15:52:42,060 [INFO ] W-9001-model_1.0-stdout MODEL_LOG - Python runtime: 3.10.9\u001b[0m\n",
      "\u001b[35m2023-10-03T15:52:42,059 [INFO ] W-9001-model_1.0 org.pytorch.serve.wlm.WorkerThread - Connecting to: /home/model-server/tmp/.ts.sock.9001\u001b[0m\n",
      "\u001b[35m2023-10-03T15:52:42,064 [INFO ] W-9001-model_1.0-stdout MODEL_LOG - Connection accepted: /home/model-server/tmp/.ts.sock.9001.\u001b[0m\n",
      "\u001b[35m2023-10-03T15:52:42,064 [INFO ] W-9001-model_1.0 org.pytorch.serve.wlm.WorkerThread - Flushing req.cmd LOAD to backend at: 1696348362064\u001b[0m\n",
      "\u001b[35m2023-10-03T15:52:42,068 [INFO ] W-9002-model_1.0-stdout MODEL_LOG - s_name_part0=/home/model-server/tmp/.ts.sock, s_name_part1=9002, pid=62\u001b[0m\n",
      "\u001b[35m2023-10-03T15:52:42,069 [INFO ] W-9002-model_1.0-stdout MODEL_LOG - Listening on port: /home/model-server/tmp/.ts.sock.9002\u001b[0m\n",
      "\u001b[34m2023-10-03T15:52:42,089 [INFO ] W-9002-model_1.0-stdout MODEL_LOG - Successfully loaded /opt/conda/lib/python3.10/site-packages/ts/configs/metrics.yaml.\u001b[0m\n",
      "\u001b[34m2023-10-03T15:52:42,089 [INFO ] W-9002-model_1.0-stdout MODEL_LOG - [PID]62\u001b[0m\n",
      "\u001b[34m2023-10-03T15:52:42,090 [INFO ] W-9002-model_1.0-stdout MODEL_LOG - Torch worker started.\u001b[0m\n",
      "\u001b[34m2023-10-03T15:52:42,090 [INFO ] W-9002-model_1.0 org.pytorch.serve.wlm.WorkerThread - Connecting to: /home/model-server/tmp/.ts.sock.9002\u001b[0m\n",
      "\u001b[34m2023-10-03T15:52:42,091 [INFO ] W-9002-model_1.0-stdout MODEL_LOG - Python runtime: 3.10.9\u001b[0m\n",
      "\u001b[34m2023-10-03T15:52:42,092 [INFO ] W-9002-model_1.0-stdout MODEL_LOG - Connection accepted: /home/model-server/tmp/.ts.sock.9002.\u001b[0m\n",
      "\u001b[34m2023-10-03T15:52:42,093 [INFO ] W-9002-model_1.0 org.pytorch.serve.wlm.WorkerThread - Flushing req.cmd LOAD to backend at: 1696348362093\u001b[0m\n",
      "\u001b[34m2023-10-03T15:52:42,148 [INFO ] W-9002-model_1.0-stdout MODEL_LOG - model_name: model, batchSize: 1\u001b[0m\n",
      "\u001b[34m2023-10-03T15:52:42,164 [INFO ] W-9001-model_1.0-stdout MODEL_LOG - model_name: model, batchSize: 1\u001b[0m\n",
      "\u001b[34m2023-10-03T15:52:42,226 [INFO ] W-9000-model_1.0-stdout MODEL_LOG - s_name_part0=/home/model-server/tmp/.ts.sock, s_name_part1=9000, pid=67\u001b[0m\n",
      "\u001b[34m2023-10-03T15:52:42,233 [INFO ] W-9000-model_1.0-stdout MODEL_LOG - Listening on port: /home/model-server/tmp/.ts.sock.9000\u001b[0m\n",
      "\u001b[34m2023-10-03T15:52:42,250 [INFO ] W-9000-model_1.0-stdout MODEL_LOG - Successfully loaded /opt/conda/lib/python3.10/site-packages/ts/configs/metrics.yaml.\u001b[0m\n",
      "\u001b[34m2023-10-03T15:52:42,251 [INFO ] W-9000-model_1.0-stdout MODEL_LOG - [PID]67\u001b[0m\n",
      "\u001b[34m2023-10-03T15:52:42,253 [INFO ] W-9000-model_1.0-stdout MODEL_LOG - Torch worker started.\u001b[0m\n",
      "\u001b[34m2023-10-03T15:52:42,253 [INFO ] W-9000-model_1.0 org.pytorch.serve.wlm.WorkerThread - Connecting to: /home/model-server/tmp/.ts.sock.9000\u001b[0m\n",
      "\u001b[34m2023-10-03T15:52:42,253 [INFO ] W-9000-model_1.0-stdout MODEL_LOG - Python runtime: 3.10.9\u001b[0m\n",
      "\u001b[34m2023-10-03T15:52:42,272 [INFO ] W-9000-model_1.0-stdout MODEL_LOG - Connection accepted: /home/model-server/tmp/.ts.sock.9000.\u001b[0m\n",
      "\u001b[34m2023-10-03T15:52:42,272 [INFO ] W-9000-model_1.0 org.pytorch.serve.wlm.WorkerThread - Flushing req.cmd LOAD to backend at: 1696348362272\u001b[0m\n",
      "\u001b[34m2023-10-03T15:52:42,313 [INFO ] W-9000-model_1.0-stdout MODEL_LOG - model_name: model, batchSize: 1\u001b[0m\n",
      "\u001b[34m2023-10-03T15:52:42,593 [INFO ] W-9006-model_1.0 org.pytorch.serve.wlm.WorkerThread - Backend response time: 706\u001b[0m\n",
      "\u001b[34m2023-10-03T15:52:42,594 [INFO ] W-9006-model_1.0 TS_METRICS - WorkerLoadTime.Milliseconds:3360.0|#WorkerName:W-9006-model_1.0,Level:Host|#hostname:ecf7a3e0c206,timestamp:1696348362\u001b[0m\n",
      "\u001b[34m2023-10-03T15:52:42,594 [INFO ] W-9006-model_1.0 TS_METRICS - WorkerThreadTime.Milliseconds:49.0|#Level:Host|#hostname:ecf7a3e0c206,timestamp:1696348362\u001b[0m\n",
      "\u001b[34m2023-10-03T15:52:42,675 [INFO ] W-9003-model_1.0-stdout MODEL_LOG - s_name_part0=/home/model-server/tmp/.ts.sock, s_name_part1=9003, pid=69\u001b[0m\n",
      "\u001b[34m2023-10-03T15:52:42,676 [INFO ] W-9003-model_1.0-stdout MODEL_LOG - Listening on port: /home/model-server/tmp/.ts.sock.9003\u001b[0m\n",
      "\u001b[34m2023-10-03T15:52:42,684 [INFO ] W-9003-model_1.0-stdout MODEL_LOG - Successfully loaded /opt/conda/lib/python3.10/site-packages/ts/configs/metrics.yaml.\u001b[0m\n",
      "\u001b[34m2023-10-03T15:52:42,684 [INFO ] W-9003-model_1.0-stdout MODEL_LOG - [PID]69\u001b[0m\n",
      "\u001b[34m2023-10-03T15:52:42,685 [INFO ] W-9003-model_1.0-stdout MODEL_LOG - Torch worker started.\u001b[0m\n",
      "\u001b[34m2023-10-03T15:52:42,685 [INFO ] W-9003-model_1.0-stdout MODEL_LOG - Python runtime: 3.10.9\u001b[0m\n",
      "\u001b[34m2023-10-03T15:52:42,685 [INFO ] W-9003-model_1.0 org.pytorch.serve.wlm.WorkerThread - Connecting to: /home/model-server/tmp/.ts.sock.9003\u001b[0m\n",
      "\u001b[34m2023-10-03T15:52:42,687 [INFO ] W-9003-model_1.0-stdout MODEL_LOG - Connection accepted: /home/model-server/tmp/.ts.sock.9003.\u001b[0m\n",
      "\u001b[35m2023-10-03T15:52:42,089 [INFO ] W-9002-model_1.0-stdout MODEL_LOG - Successfully loaded /opt/conda/lib/python3.10/site-packages/ts/configs/metrics.yaml.\u001b[0m\n",
      "\u001b[35m2023-10-03T15:52:42,089 [INFO ] W-9002-model_1.0-stdout MODEL_LOG - [PID]62\u001b[0m\n",
      "\u001b[35m2023-10-03T15:52:42,090 [INFO ] W-9002-model_1.0-stdout MODEL_LOG - Torch worker started.\u001b[0m\n",
      "\u001b[35m2023-10-03T15:52:42,090 [INFO ] W-9002-model_1.0 org.pytorch.serve.wlm.WorkerThread - Connecting to: /home/model-server/tmp/.ts.sock.9002\u001b[0m\n",
      "\u001b[35m2023-10-03T15:52:42,091 [INFO ] W-9002-model_1.0-stdout MODEL_LOG - Python runtime: 3.10.9\u001b[0m\n",
      "\u001b[35m2023-10-03T15:52:42,092 [INFO ] W-9002-model_1.0-stdout MODEL_LOG - Connection accepted: /home/model-server/tmp/.ts.sock.9002.\u001b[0m\n",
      "\u001b[35m2023-10-03T15:52:42,093 [INFO ] W-9002-model_1.0 org.pytorch.serve.wlm.WorkerThread - Flushing req.cmd LOAD to backend at: 1696348362093\u001b[0m\n",
      "\u001b[35m2023-10-03T15:52:42,148 [INFO ] W-9002-model_1.0-stdout MODEL_LOG - model_name: model, batchSize: 1\u001b[0m\n",
      "\u001b[35m2023-10-03T15:52:42,164 [INFO ] W-9001-model_1.0-stdout MODEL_LOG - model_name: model, batchSize: 1\u001b[0m\n",
      "\u001b[35m2023-10-03T15:52:42,226 [INFO ] W-9000-model_1.0-stdout MODEL_LOG - s_name_part0=/home/model-server/tmp/.ts.sock, s_name_part1=9000, pid=67\u001b[0m\n",
      "\u001b[35m2023-10-03T15:52:42,233 [INFO ] W-9000-model_1.0-stdout MODEL_LOG - Listening on port: /home/model-server/tmp/.ts.sock.9000\u001b[0m\n",
      "\u001b[35m2023-10-03T15:52:42,250 [INFO ] W-9000-model_1.0-stdout MODEL_LOG - Successfully loaded /opt/conda/lib/python3.10/site-packages/ts/configs/metrics.yaml.\u001b[0m\n",
      "\u001b[35m2023-10-03T15:52:42,251 [INFO ] W-9000-model_1.0-stdout MODEL_LOG - [PID]67\u001b[0m\n",
      "\u001b[35m2023-10-03T15:52:42,253 [INFO ] W-9000-model_1.0-stdout MODEL_LOG - Torch worker started.\u001b[0m\n",
      "\u001b[35m2023-10-03T15:52:42,253 [INFO ] W-9000-model_1.0 org.pytorch.serve.wlm.WorkerThread - Connecting to: /home/model-server/tmp/.ts.sock.9000\u001b[0m\n",
      "\u001b[35m2023-10-03T15:52:42,253 [INFO ] W-9000-model_1.0-stdout MODEL_LOG - Python runtime: 3.10.9\u001b[0m\n",
      "\u001b[35m2023-10-03T15:52:42,272 [INFO ] W-9000-model_1.0-stdout MODEL_LOG - Connection accepted: /home/model-server/tmp/.ts.sock.9000.\u001b[0m\n",
      "\u001b[35m2023-10-03T15:52:42,272 [INFO ] W-9000-model_1.0 org.pytorch.serve.wlm.WorkerThread - Flushing req.cmd LOAD to backend at: 1696348362272\u001b[0m\n",
      "\u001b[35m2023-10-03T15:52:42,313 [INFO ] W-9000-model_1.0-stdout MODEL_LOG - model_name: model, batchSize: 1\u001b[0m\n",
      "\u001b[35m2023-10-03T15:52:42,593 [INFO ] W-9006-model_1.0 org.pytorch.serve.wlm.WorkerThread - Backend response time: 706\u001b[0m\n",
      "\u001b[35m2023-10-03T15:52:42,594 [INFO ] W-9006-model_1.0 TS_METRICS - WorkerLoadTime.Milliseconds:3360.0|#WorkerName:W-9006-model_1.0,Level:Host|#hostname:ecf7a3e0c206,timestamp:1696348362\u001b[0m\n",
      "\u001b[35m2023-10-03T15:52:42,594 [INFO ] W-9006-model_1.0 TS_METRICS - WorkerThreadTime.Milliseconds:49.0|#Level:Host|#hostname:ecf7a3e0c206,timestamp:1696348362\u001b[0m\n",
      "\u001b[35m2023-10-03T15:52:42,675 [INFO ] W-9003-model_1.0-stdout MODEL_LOG - s_name_part0=/home/model-server/tmp/.ts.sock, s_name_part1=9003, pid=69\u001b[0m\n",
      "\u001b[35m2023-10-03T15:52:42,676 [INFO ] W-9003-model_1.0-stdout MODEL_LOG - Listening on port: /home/model-server/tmp/.ts.sock.9003\u001b[0m\n",
      "\u001b[35m2023-10-03T15:52:42,684 [INFO ] W-9003-model_1.0-stdout MODEL_LOG - Successfully loaded /opt/conda/lib/python3.10/site-packages/ts/configs/metrics.yaml.\u001b[0m\n",
      "\u001b[35m2023-10-03T15:52:42,684 [INFO ] W-9003-model_1.0-stdout MODEL_LOG - [PID]69\u001b[0m\n",
      "\u001b[35m2023-10-03T15:52:42,685 [INFO ] W-9003-model_1.0-stdout MODEL_LOG - Torch worker started.\u001b[0m\n",
      "\u001b[35m2023-10-03T15:52:42,685 [INFO ] W-9003-model_1.0-stdout MODEL_LOG - Python runtime: 3.10.9\u001b[0m\n",
      "\u001b[35m2023-10-03T15:52:42,685 [INFO ] W-9003-model_1.0 org.pytorch.serve.wlm.WorkerThread - Connecting to: /home/model-server/tmp/.ts.sock.9003\u001b[0m\n",
      "\u001b[35m2023-10-03T15:52:42,687 [INFO ] W-9003-model_1.0-stdout MODEL_LOG - Connection accepted: /home/model-server/tmp/.ts.sock.9003.\u001b[0m\n",
      "\u001b[34m2023-10-03T15:52:42,688 [INFO ] W-9003-model_1.0 org.pytorch.serve.wlm.WorkerThread - Flushing req.cmd LOAD to backend at: 1696348362688\u001b[0m\n",
      "\u001b[34m2023-10-03T15:52:42,723 [INFO ] W-9003-model_1.0-stdout MODEL_LOG - model_name: model, batchSize: 1\u001b[0m\n",
      "\u001b[35m2023-10-03T15:52:42,688 [INFO ] W-9003-model_1.0 org.pytorch.serve.wlm.WorkerThread - Flushing req.cmd LOAD to backend at: 1696348362688\u001b[0m\n",
      "\u001b[35m2023-10-03T15:52:42,723 [INFO ] W-9003-model_1.0-stdout MODEL_LOG - model_name: model, batchSize: 1\u001b[0m\n",
      "\u001b[34m2023-10-03T15:52:42,797 [INFO ] W-9001-model_1.0 org.pytorch.serve.wlm.WorkerThread - Backend response time: 637\u001b[0m\n",
      "\u001b[34m2023-10-03T15:52:42,798 [INFO ] W-9001-model_1.0 TS_METRICS - WorkerLoadTime.Milliseconds:3567.0|#WorkerName:W-9001-model_1.0,Level:Host|#hostname:ecf7a3e0c206,timestamp:1696348362\u001b[0m\n",
      "\u001b[34m2023-10-03T15:52:42,798 [INFO ] W-9001-model_1.0 TS_METRICS - WorkerThreadTime.Milliseconds:97.0|#Level:Host|#hostname:ecf7a3e0c206,timestamp:1696348362\u001b[0m\n",
      "\u001b[34m2023-10-03T15:52:42,819 [INFO ] W-9004-model_1.0 org.pytorch.serve.wlm.WorkerThread - Backend response time: 932\u001b[0m\n",
      "\u001b[34m2023-10-03T15:52:42,819 [INFO ] W-9004-model_1.0 TS_METRICS - WorkerLoadTime.Milliseconds:3587.0|#WorkerName:W-9004-model_1.0,Level:Host|#hostname:ecf7a3e0c206,timestamp:1696348362\u001b[0m\n",
      "\u001b[34m2023-10-03T15:52:42,820 [INFO ] W-9004-model_1.0 TS_METRICS - WorkerThreadTime.Milliseconds:98.0|#Level:Host|#hostname:ecf7a3e0c206,timestamp:1696348362\u001b[0m\n",
      "\u001b[34m2023-10-03T15:52:42,934 [INFO ] W-9002-model_1.0 org.pytorch.serve.wlm.WorkerThread - Backend response time: 759\u001b[0m\n",
      "\u001b[34m2023-10-03T15:52:42,935 [INFO ] W-9002-model_1.0 TS_METRICS - WorkerLoadTime.Milliseconds:3703.0|#WorkerName:W-9002-model_1.0,Level:Host|#hostname:ecf7a3e0c206,timestamp:1696348362\u001b[0m\n",
      "\u001b[34m2023-10-03T15:52:42,937 [INFO ] W-9002-model_1.0 TS_METRICS - WorkerThreadTime.Milliseconds:85.0|#Level:Host|#hostname:ecf7a3e0c206,timestamp:1696348362\u001b[0m\n",
      "\u001b[34m2023-10-03T15:52:42,948 [INFO ] W-9000-model_1.0 org.pytorch.serve.wlm.WorkerThread - Backend response time: 644\u001b[0m\n",
      "\u001b[34m2023-10-03T15:52:42,948 [INFO ] W-9005-model_1.0 org.pytorch.serve.wlm.WorkerThread - Backend response time: 981\u001b[0m\n",
      "\u001b[34m2023-10-03T15:52:42,949 [INFO ] W-9000-model_1.0 TS_METRICS - WorkerLoadTime.Milliseconds:3719.0|#WorkerName:W-9000-model_1.0,Level:Host|#hostname:ecf7a3e0c206,timestamp:1696348362\u001b[0m\n",
      "\u001b[34m2023-10-03T15:52:42,949 [INFO ] W-9005-model_1.0 TS_METRICS - WorkerLoadTime.Milliseconds:3716.0|#WorkerName:W-9005-model_1.0,Level:Host|#hostname:ecf7a3e0c206,timestamp:1696348362\u001b[0m\n",
      "\u001b[34m2023-10-03T15:52:42,949 [INFO ] W-9005-model_1.0 TS_METRICS - WorkerThreadTime.Milliseconds:60.0|#Level:Host|#hostname:ecf7a3e0c206,timestamp:1696348362\u001b[0m\n",
      "\u001b[34m2023-10-03T15:52:42,949 [INFO ] W-9000-model_1.0 TS_METRICS - WorkerThreadTime.Milliseconds:33.0|#Level:Host|#hostname:ecf7a3e0c206,timestamp:1696348362\u001b[0m\n",
      "\u001b[34m2023-10-03T15:52:42,970 [INFO ] W-9007-model_1.0 org.pytorch.serve.wlm.WorkerThread - Backend response time: 951\u001b[0m\n",
      "\u001b[34m2023-10-03T15:52:42,971 [INFO ] W-9007-model_1.0 TS_METRICS - WorkerLoadTime.Milliseconds:3737.0|#WorkerName:W-9007-model_1.0,Level:Host|#hostname:ecf7a3e0c206,timestamp:1696348362\u001b[0m\n",
      "\u001b[34m2023-10-03T15:52:42,971 [INFO ] W-9007-model_1.0 TS_METRICS - WorkerThreadTime.Milliseconds:37.0|#Level:Host|#hostname:ecf7a3e0c206,timestamp:1696348362\u001b[0m\n",
      "\u001b[34m2023-10-03T15:52:43,122 [INFO ] W-9003-model_1.0 org.pytorch.serve.wlm.WorkerThread - Backend response time: 393\u001b[0m\n",
      "\u001b[34m2023-10-03T15:52:43,122 [INFO ] W-9003-model_1.0 TS_METRICS - WorkerLoadTime.Milliseconds:3890.0|#WorkerName:W-9003-model_1.0,Level:Host|#hostname:ecf7a3e0c206,timestamp:1696348363\u001b[0m\n",
      "\u001b[34m2023-10-03T15:52:43,123 [INFO ] W-9003-model_1.0 TS_METRICS - WorkerThreadTime.Milliseconds:42.0|#Level:Host|#hostname:ecf7a3e0c206,timestamp:1696348363\u001b[0m\n",
      "\u001b[35m2023-10-03T15:52:42,797 [INFO ] W-9001-model_1.0 org.pytorch.serve.wlm.WorkerThread - Backend response time: 637\u001b[0m\n",
      "\u001b[35m2023-10-03T15:52:42,798 [INFO ] W-9001-model_1.0 TS_METRICS - WorkerLoadTime.Milliseconds:3567.0|#WorkerName:W-9001-model_1.0,Level:Host|#hostname:ecf7a3e0c206,timestamp:1696348362\u001b[0m\n",
      "\u001b[35m2023-10-03T15:52:42,798 [INFO ] W-9001-model_1.0 TS_METRICS - WorkerThreadTime.Milliseconds:97.0|#Level:Host|#hostname:ecf7a3e0c206,timestamp:1696348362\u001b[0m\n",
      "\u001b[35m2023-10-03T15:52:42,819 [INFO ] W-9004-model_1.0 org.pytorch.serve.wlm.WorkerThread - Backend response time: 932\u001b[0m\n",
      "\u001b[35m2023-10-03T15:52:42,819 [INFO ] W-9004-model_1.0 TS_METRICS - WorkerLoadTime.Milliseconds:3587.0|#WorkerName:W-9004-model_1.0,Level:Host|#hostname:ecf7a3e0c206,timestamp:1696348362\u001b[0m\n",
      "\u001b[35m2023-10-03T15:52:42,820 [INFO ] W-9004-model_1.0 TS_METRICS - WorkerThreadTime.Milliseconds:98.0|#Level:Host|#hostname:ecf7a3e0c206,timestamp:1696348362\u001b[0m\n",
      "\u001b[35m2023-10-03T15:52:42,934 [INFO ] W-9002-model_1.0 org.pytorch.serve.wlm.WorkerThread - Backend response time: 759\u001b[0m\n",
      "\u001b[35m2023-10-03T15:52:42,935 [INFO ] W-9002-model_1.0 TS_METRICS - WorkerLoadTime.Milliseconds:3703.0|#WorkerName:W-9002-model_1.0,Level:Host|#hostname:ecf7a3e0c206,timestamp:1696348362\u001b[0m\n",
      "\u001b[35m2023-10-03T15:52:42,937 [INFO ] W-9002-model_1.0 TS_METRICS - WorkerThreadTime.Milliseconds:85.0|#Level:Host|#hostname:ecf7a3e0c206,timestamp:1696348362\u001b[0m\n",
      "\u001b[35m2023-10-03T15:52:42,948 [INFO ] W-9000-model_1.0 org.pytorch.serve.wlm.WorkerThread - Backend response time: 644\u001b[0m\n",
      "\u001b[35m2023-10-03T15:52:42,948 [INFO ] W-9005-model_1.0 org.pytorch.serve.wlm.WorkerThread - Backend response time: 981\u001b[0m\n",
      "\u001b[35m2023-10-03T15:52:42,949 [INFO ] W-9000-model_1.0 TS_METRICS - WorkerLoadTime.Milliseconds:3719.0|#WorkerName:W-9000-model_1.0,Level:Host|#hostname:ecf7a3e0c206,timestamp:1696348362\u001b[0m\n",
      "\u001b[35m2023-10-03T15:52:42,949 [INFO ] W-9005-model_1.0 TS_METRICS - WorkerLoadTime.Milliseconds:3716.0|#WorkerName:W-9005-model_1.0,Level:Host|#hostname:ecf7a3e0c206,timestamp:1696348362\u001b[0m\n",
      "\u001b[35m2023-10-03T15:52:42,949 [INFO ] W-9005-model_1.0 TS_METRICS - WorkerThreadTime.Milliseconds:60.0|#Level:Host|#hostname:ecf7a3e0c206,timestamp:1696348362\u001b[0m\n",
      "\u001b[35m2023-10-03T15:52:42,949 [INFO ] W-9000-model_1.0 TS_METRICS - WorkerThreadTime.Milliseconds:33.0|#Level:Host|#hostname:ecf7a3e0c206,timestamp:1696348362\u001b[0m\n",
      "\u001b[35m2023-10-03T15:52:42,970 [INFO ] W-9007-model_1.0 org.pytorch.serve.wlm.WorkerThread - Backend response time: 951\u001b[0m\n",
      "\u001b[35m2023-10-03T15:52:42,971 [INFO ] W-9007-model_1.0 TS_METRICS - WorkerLoadTime.Milliseconds:3737.0|#WorkerName:W-9007-model_1.0,Level:Host|#hostname:ecf7a3e0c206,timestamp:1696348362\u001b[0m\n",
      "\u001b[35m2023-10-03T15:52:42,971 [INFO ] W-9007-model_1.0 TS_METRICS - WorkerThreadTime.Milliseconds:37.0|#Level:Host|#hostname:ecf7a3e0c206,timestamp:1696348362\u001b[0m\n",
      "\u001b[35m2023-10-03T15:52:43,122 [INFO ] W-9003-model_1.0 org.pytorch.serve.wlm.WorkerThread - Backend response time: 393\u001b[0m\n",
      "\u001b[35m2023-10-03T15:52:43,122 [INFO ] W-9003-model_1.0 TS_METRICS - WorkerLoadTime.Milliseconds:3890.0|#WorkerName:W-9003-model_1.0,Level:Host|#hostname:ecf7a3e0c206,timestamp:1696348363\u001b[0m\n",
      "\u001b[35m2023-10-03T15:52:43,123 [INFO ] W-9003-model_1.0 TS_METRICS - WorkerThreadTime.Milliseconds:42.0|#Level:Host|#hostname:ecf7a3e0c206,timestamp:1696348363\u001b[0m\n",
      "\u001b[34m2023-10-03T15:52:44,503 [INFO ] pool-2-thread-9 ACCESS_LOG - /169.254.255.130:47212 \"GET /ping HTTP/1.1\" 200 13\u001b[0m\n",
      "\u001b[34m2023-10-03T15:52:44,504 [INFO ] pool-2-thread-9 TS_METRICS - Requests2XX.Count:1.0|#Level:Host|#hostname:ecf7a3e0c206,timestamp:1696348364\u001b[0m\n",
      "\u001b[34m2023-10-03T15:52:44,520 [INFO ] epollEventLoopGroup-3-2 ACCESS_LOG - /169.254.255.130:47220 \"GET /execution-parameters HTTP/1.1\" 404 1\u001b[0m\n",
      "\u001b[34m2023-10-03T15:52:44,520 [INFO ] epollEventLoopGroup-3-2 TS_METRICS - Requests4XX.Count:1.0|#Level:Host|#hostname:ecf7a3e0c206,timestamp:1696348364\u001b[0m\n",
      "\u001b[34m2023-10-03T15:52:44,645 [INFO ] epollEventLoopGroup-3-3 TS_METRICS - ts_inference_requests_total.Count:1.0|#model_name:model,model_version:default|#hostname:ecf7a3e0c206,timestamp:1696348364\u001b[0m\n",
      "\u001b[34m2023-10-03T15:52:44,646 [INFO ] W-9006-model_1.0 org.pytorch.serve.wlm.WorkerThread - Flushing req.cmd PREDICT to backend at: 1696348364646\u001b[0m\n",
      "\u001b[34m2023-10-03T15:52:44,647 [INFO ] W-9006-model_1.0-stdout MODEL_LOG - Backend received inference at: 1696348364\u001b[0m\n",
      "\u001b[35m2023-10-03T15:52:44,503 [INFO ] pool-2-thread-9 ACCESS_LOG - /169.254.255.130:47212 \"GET /ping HTTP/1.1\" 200 13\u001b[0m\n",
      "\u001b[35m2023-10-03T15:52:44,504 [INFO ] pool-2-thread-9 TS_METRICS - Requests2XX.Count:1.0|#Level:Host|#hostname:ecf7a3e0c206,timestamp:1696348364\u001b[0m\n",
      "\u001b[35m2023-10-03T15:52:44,520 [INFO ] epollEventLoopGroup-3-2 ACCESS_LOG - /169.254.255.130:47220 \"GET /execution-parameters HTTP/1.1\" 404 1\u001b[0m\n",
      "\u001b[35m2023-10-03T15:52:44,520 [INFO ] epollEventLoopGroup-3-2 TS_METRICS - Requests4XX.Count:1.0|#Level:Host|#hostname:ecf7a3e0c206,timestamp:1696348364\u001b[0m\n",
      "\u001b[35m2023-10-03T15:52:44,645 [INFO ] epollEventLoopGroup-3-3 TS_METRICS - ts_inference_requests_total.Count:1.0|#model_name:model,model_version:default|#hostname:ecf7a3e0c206,timestamp:1696348364\u001b[0m\n",
      "\u001b[35m2023-10-03T15:52:44,646 [INFO ] W-9006-model_1.0 org.pytorch.serve.wlm.WorkerThread - Flushing req.cmd PREDICT to backend at: 1696348364646\u001b[0m\n",
      "\u001b[35m2023-10-03T15:52:44,647 [INFO ] W-9006-model_1.0-stdout MODEL_LOG - Backend received inference at: 1696348364\u001b[0m\n",
      "\u001b[34m2023-10-03T15:52:44,782 [INFO ] W-9006-model_1.0-stdout org.pytorch.serve.wlm.WorkerLifeCycle - result=[METRICS]PredictionTime.Milliseconds:134.23|#ModelName:model,Level:Model|#hostname:ecf7a3e0c206,1696348364,441b6ea4-b658-429c-9fa0-09b10882e2b2, pattern=[METRICS]\u001b[0m\n",
      "\u001b[34m2023-10-03T15:52:44,783 [INFO ] W-9006-model_1.0-stdout MODEL_METRICS - PredictionTime.ms:134.23|#ModelName:model,Level:Model|#hostname:ecf7a3e0c206,requestID:441b6ea4-b658-429c-9fa0-09b10882e2b2,timestamp:1696348364\u001b[0m\n",
      "\u001b[34m2023-10-03T15:52:44,784 [INFO ] W-9006-model_1.0 ACCESS_LOG - /169.254.255.130:47234 \"POST /invocations HTTP/1.1\" 200 142\u001b[0m\n",
      "\u001b[34m2023-10-03T15:52:44,784 [INFO ] W-9006-model_1.0 TS_METRICS - Requests2XX.Count:1.0|#Level:Host|#hostname:ecf7a3e0c206,timestamp:1696348364\u001b[0m\n",
      "\u001b[34m2023-10-03T15:52:44,785 [INFO ] W-9006-model_1.0 TS_METRICS - ts_inference_latency_microseconds.Microseconds:138411.888|#model_name:model,model_version:default|#hostname:ecf7a3e0c206,timestamp:1696348364\u001b[0m\n",
      "\u001b[34m2023-10-03T15:52:44,785 [INFO ] W-9006-model_1.0 TS_METRICS - ts_queue_latency_microseconds.Microseconds:201.943|#model_name:model,model_version:default|#hostname:ecf7a3e0c206,timestamp:1696348364\u001b[0m\n",
      "\u001b[34m2023-10-03T15:52:44,786 [INFO ] W-9006-model_1.0 TS_METRICS - QueueTime.Milliseconds:0.0|#Level:Host|#hostname:ecf7a3e0c206,timestamp:1696348364\u001b[0m\n",
      "\u001b[34m2023-10-03T15:52:44,786 [INFO ] W-9006-model_1.0 org.pytorch.serve.wlm.WorkerThread - Backend response time: 137\u001b[0m\n",
      "\u001b[34m2023-10-03T15:52:44,786 [INFO ] W-9006-model_1.0 TS_METRICS - WorkerThreadTime.Milliseconds:3.0|#Level:Host|#hostname:ecf7a3e0c206,timestamp:1696348364\u001b[0m\n",
      "\u001b[35m2023-10-03T15:52:44,782 [INFO ] W-9006-model_1.0-stdout org.pytorch.serve.wlm.WorkerLifeCycle - result=[METRICS]PredictionTime.Milliseconds:134.23|#ModelName:model,Level:Model|#hostname:ecf7a3e0c206,1696348364,441b6ea4-b658-429c-9fa0-09b10882e2b2, pattern=[METRICS]\u001b[0m\n",
      "\u001b[35m2023-10-03T15:52:44,783 [INFO ] W-9006-model_1.0-stdout MODEL_METRICS - PredictionTime.ms:134.23|#ModelName:model,Level:Model|#hostname:ecf7a3e0c206,requestID:441b6ea4-b658-429c-9fa0-09b10882e2b2,timestamp:1696348364\u001b[0m\n",
      "\u001b[35m2023-10-03T15:52:44,784 [INFO ] W-9006-model_1.0 ACCESS_LOG - /169.254.255.130:47234 \"POST /invocations HTTP/1.1\" 200 142\u001b[0m\n",
      "\u001b[35m2023-10-03T15:52:44,784 [INFO ] W-9006-model_1.0 TS_METRICS - Requests2XX.Count:1.0|#Level:Host|#hostname:ecf7a3e0c206,timestamp:1696348364\u001b[0m\n",
      "\u001b[35m2023-10-03T15:52:44,785 [INFO ] W-9006-model_1.0 TS_METRICS - ts_inference_latency_microseconds.Microseconds:138411.888|#model_name:model,model_version:default|#hostname:ecf7a3e0c206,timestamp:1696348364\u001b[0m\n",
      "\u001b[35m2023-10-03T15:52:44,785 [INFO ] W-9006-model_1.0 TS_METRICS - ts_queue_latency_microseconds.Microseconds:201.943|#model_name:model,model_version:default|#hostname:ecf7a3e0c206,timestamp:1696348364\u001b[0m\n",
      "\u001b[35m2023-10-03T15:52:44,786 [INFO ] W-9006-model_1.0 TS_METRICS - QueueTime.Milliseconds:0.0|#Level:Host|#hostname:ecf7a3e0c206,timestamp:1696348364\u001b[0m\n",
      "\u001b[35m2023-10-03T15:52:44,786 [INFO ] W-9006-model_1.0 org.pytorch.serve.wlm.WorkerThread - Backend response time: 137\u001b[0m\n",
      "\u001b[35m2023-10-03T15:52:44,786 [INFO ] W-9006-model_1.0 TS_METRICS - WorkerThreadTime.Milliseconds:3.0|#Level:Host|#hostname:ecf7a3e0c206,timestamp:1696348364\u001b[0m\n",
      "\u001b[32m2023-10-03T15:52:44.525:[sagemaker logs]: MaxConcurrentTransforms=1, MaxPayloadInMB=100, BatchStrategy=MULTI_RECORD\u001b[0m\n",
      "\n"
     ]
    }
   ],
   "source": [
    "transformer = estimator.transformer(\n",
    "    instance_count=1,\n",
    "    instance_type=instance_type,\n",
    "    max_payload=100,\n",
    ")\n",
    "\n",
    "transformer.transform(\n",
    "    data=test_data,\n",
    "    content_type=\"text/csv\",\n",
    ")"
   ]
  },
  {
   "cell_type": "markdown",
   "id": "54498c7d-dbb6-4098-b927-506e1058b062",
   "metadata": {},
   "source": [
    "Load the test set reconstructions from S3."
   ]
  },
  {
   "cell_type": "code",
   "execution_count": 19,
   "id": "317bf9e8-69ba-4eed-a8c9-8600fdbf92e9",
   "metadata": {
    "tags": []
   },
   "outputs": [],
   "source": [
    "reconstructions = sagemaker_session.read_s3_file(\n",
    "    bucket=bucket,\n",
    "    key_prefix=f\"{transformer.latest_transform_job.name}/{dataset_name}_test.csv.out\"\n",
    ")"
   ]
  },
  {
   "cell_type": "code",
   "execution_count": 20,
   "id": "401fed04-1591-4f58-bb89-4dff0f6acfa3",
   "metadata": {
    "tags": []
   },
   "outputs": [],
   "source": [
    "reconstructions = pd.DataFrame([x.split(\",\") for x in reconstructions.split(\"\\n\")[:-1]]).replace(\"\", np.nan).astype(float)"
   ]
  },
  {
   "cell_type": "code",
   "execution_count": 21,
   "id": "fe3eb1f5-5a4a-4623-9a4f-dc0958df4802",
   "metadata": {
    "tags": []
   },
   "outputs": [
    {
     "data": {
      "text/plain": [
       "(6828, 2)"
      ]
     },
     "execution_count": 21,
     "metadata": {},
     "output_type": "execute_result"
    }
   ],
   "source": [
    "reconstructions.shape"
   ]
  },
  {
   "cell_type": "code",
   "execution_count": 22,
   "id": "085ccaeb-c9a3-4735-843e-42b81f387049",
   "metadata": {
    "tags": []
   },
   "outputs": [
    {
     "data": {
      "text/html": [
       "<div>\n",
       "<style scoped>\n",
       "    .dataframe tbody tr th:only-of-type {\n",
       "        vertical-align: middle;\n",
       "    }\n",
       "\n",
       "    .dataframe tbody tr th {\n",
       "        vertical-align: top;\n",
       "    }\n",
       "\n",
       "    .dataframe thead th {\n",
       "        text-align: right;\n",
       "    }\n",
       "</style>\n",
       "<table border=\"1\" class=\"dataframe\">\n",
       "  <thead>\n",
       "    <tr style=\"text-align: right;\">\n",
       "      <th></th>\n",
       "      <th>0</th>\n",
       "      <th>1</th>\n",
       "    </tr>\n",
       "  </thead>\n",
       "  <tbody>\n",
       "    <tr>\n",
       "      <th>0</th>\n",
       "      <td>1.252861</td>\n",
       "      <td>0.187886</td>\n",
       "    </tr>\n",
       "    <tr>\n",
       "      <th>1</th>\n",
       "      <td>0.462966</td>\n",
       "      <td>0.182227</td>\n",
       "    </tr>\n",
       "    <tr>\n",
       "      <th>2</th>\n",
       "      <td>0.470582</td>\n",
       "      <td>0.150731</td>\n",
       "    </tr>\n",
       "    <tr>\n",
       "      <th>3</th>\n",
       "      <td>3.027422</td>\n",
       "      <td>0.056491</td>\n",
       "    </tr>\n",
       "    <tr>\n",
       "      <th>4</th>\n",
       "      <td>1.531828</td>\n",
       "      <td>-0.084204</td>\n",
       "    </tr>\n",
       "  </tbody>\n",
       "</table>\n",
       "</div>"
      ],
      "text/plain": [
       "          0         1\n",
       "0  1.252861  0.187886\n",
       "1  0.462966  0.182227\n",
       "2  0.470582  0.150731\n",
       "3  3.027422  0.056491\n",
       "4  1.531828 -0.084204"
      ]
     },
     "execution_count": 22,
     "metadata": {},
     "output_type": "execute_result"
    }
   ],
   "source": [
    "reconstructions.head()"
   ]
  },
  {
   "cell_type": "code",
   "execution_count": 23,
   "id": "3e137b23-cddc-4211-9dcc-233575e5c636",
   "metadata": {
    "tags": []
   },
   "outputs": [
    {
     "data": {
      "text/html": [
       "<div>\n",
       "<style scoped>\n",
       "    .dataframe tbody tr th:only-of-type {\n",
       "        vertical-align: middle;\n",
       "    }\n",
       "\n",
       "    .dataframe tbody tr th {\n",
       "        vertical-align: top;\n",
       "    }\n",
       "\n",
       "    .dataframe thead th {\n",
       "        text-align: right;\n",
       "    }\n",
       "</style>\n",
       "<table border=\"1\" class=\"dataframe\">\n",
       "  <thead>\n",
       "    <tr style=\"text-align: right;\">\n",
       "      <th></th>\n",
       "      <th>0</th>\n",
       "      <th>1</th>\n",
       "    </tr>\n",
       "  </thead>\n",
       "  <tbody>\n",
       "    <tr>\n",
       "      <th>6823</th>\n",
       "      <td>NaN</td>\n",
       "      <td>NaN</td>\n",
       "    </tr>\n",
       "    <tr>\n",
       "      <th>6824</th>\n",
       "      <td>NaN</td>\n",
       "      <td>NaN</td>\n",
       "    </tr>\n",
       "    <tr>\n",
       "      <th>6825</th>\n",
       "      <td>NaN</td>\n",
       "      <td>NaN</td>\n",
       "    </tr>\n",
       "    <tr>\n",
       "      <th>6826</th>\n",
       "      <td>NaN</td>\n",
       "      <td>NaN</td>\n",
       "    </tr>\n",
       "    <tr>\n",
       "      <th>6827</th>\n",
       "      <td>NaN</td>\n",
       "      <td>NaN</td>\n",
       "    </tr>\n",
       "  </tbody>\n",
       "</table>\n",
       "</div>"
      ],
      "text/plain": [
       "       0   1\n",
       "6823 NaN NaN\n",
       "6824 NaN NaN\n",
       "6825 NaN NaN\n",
       "6826 NaN NaN\n",
       "6827 NaN NaN"
      ]
     },
     "execution_count": 23,
     "metadata": {},
     "output_type": "execute_result"
    }
   ],
   "source": [
    "reconstructions.tail()"
   ]
  },
  {
   "cell_type": "markdown",
   "id": "358bc40c-eef6-4b67-ab9d-0e661cc9c33d",
   "metadata": {},
   "source": [
    "Extract the anomalous time steps."
   ]
  },
  {
   "cell_type": "code",
   "execution_count": 24,
   "id": "678d7e23-f16f-40fc-b5bb-8e16e7c83502",
   "metadata": {
    "tags": []
   },
   "outputs": [],
   "source": [
    "anomalies = reconstructions.iloc[:, 0].sort_values(ascending=False).iloc[:k].index.to_series()"
   ]
  },
  {
   "cell_type": "code",
   "execution_count": 25,
   "id": "3044cb24-822d-4f77-8fac-83b5cec73b6a",
   "metadata": {
    "tags": []
   },
   "outputs": [
    {
     "data": {
      "text/plain": [
       "array([5314])"
      ]
     },
     "execution_count": 25,
     "metadata": {},
     "output_type": "execute_result"
    }
   ],
   "source": [
    "anomalies.values"
   ]
  },
  {
   "cell_type": "markdown",
   "id": "09edeed7-8cee-43e4-811f-d2ad91aace72",
   "metadata": {},
   "source": [
    "Check if the anomalous time steps are within the anomalous time interval."
   ]
  },
  {
   "cell_type": "code",
   "execution_count": 26,
   "id": "fb1798a6-38ba-4e47-8fb7-91228d045c3a",
   "metadata": {
    "tags": []
   },
   "outputs": [
    {
     "data": {
      "text/plain": [
       "array([ True])"
      ]
     },
     "execution_count": 26,
     "metadata": {},
     "output_type": "execute_result"
    }
   ],
   "source": [
    "anomalies.between(start - cutoff, end - cutoff).values"
   ]
  },
  {
   "cell_type": "markdown",
   "id": "831fccc6-0e68-45c0-8ec5-e1e47340c365",
   "metadata": {},
   "source": [
    "Visualize the reconstructions."
   ]
  },
  {
   "cell_type": "code",
   "execution_count": 27,
   "id": "9dba2cf6-3765-4089-bac1-1dfe141cae03",
   "metadata": {
    "tags": []
   },
   "outputs": [
    {
     "data": {
      "image/png": "[encoded data removed]",
      "text/plain": [
       "<Figure size 600x600 with 2 Axes>"
      ]
     },
     "metadata": {},
     "output_type": "display_data"
    }
   ],
   "source": [
    "fig, axs = plt.subplots(nrows=2, ncols=1, sharex=True, figsize=(6, 6))\n",
    "\n",
    "axs[0].set_title(\"Time Series\", size=10)\n",
    "axs[0].plot(test_dataset.iloc[:, 0].values, color=\"#AFB8C1\", lw=0.5, label=\"Actual\")\n",
    "axs[0].plot(reconstructions.iloc[:, 1], color=\"#009ad3\", lw=0.5, label=\"Predicted\")\n",
    "axs[0].set(xlabel=\"Time\", ylabel=\"Value\")\n",
    "axs[0].xaxis.set_tick_params(labelbottom=True)\n",
    "axs[0].tick_params(axis=\"both\", which=\"major\", labelsize=7)\n",
    "axs[0].tick_params(axis=\"both\", which=\"minor\", labelsize=7)\n",
    "\n",
    "axs[1].set_title(\"Anomaly Score\", size=10)\n",
    "axs[1].plot(reconstructions.iloc[:, 0], color=\"#57606a\", lw=0.5)\n",
    "axs[1].set(xlabel=\"Time\", ylabel=\"Value\")\n",
    "axs[1].xaxis.set_tick_params(labelbottom=True)\n",
    "axs[1].tick_params(axis=\"both\", which=\"major\", labelsize=7)\n",
    "axs[1].tick_params(axis=\"both\", which=\"minor\", labelsize=7)\n",
    "\n",
    "fig.tight_layout()\n",
    "fig.legend(bbox_to_anchor=(1.2, 1, 0, 0), frameon=False)\n",
    "fig.show()"
   ]
  }
 ],
 "metadata": {
  "kernelspec": {
   "display_name": "Python 3 (ipykernel)",
   "language": "python",
   "name": "python3"
  },
  "language_info": {
   "codemirror_mode": {
    "name": "ipython",
    "version": 3
   },
   "file_extension": ".py",
   "mimetype": "text/x-python",
   "name": "python",
   "nbconvert_exporter": "python",
   "pygments_lexer": "ipython3",
   "version": "3.8.0"
  }
 },
 "nbformat": 4,
 "nbformat_minor": 5
}
