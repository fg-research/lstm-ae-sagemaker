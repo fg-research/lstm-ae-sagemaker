{
 "cells": [
  {
   "cell_type": "markdown",
   "id": "87deba9d-ff5b-4e7b-ade5-b30c341a7afa",
   "metadata": {},
   "source": [
    "# HEX UCR Dataset: 177_UCR_Anomaly_insectEPG5_3200_8500_8501"
   ]
  },
  {
   "cell_type": "markdown",
   "id": "2161c326-9263-4f5c-b7b0-8c8ed60f956c",
   "metadata": {},
   "source": [
    "**Dataset Link:** https://www.cs.ucr.edu/~eamonn/time_series_data_2018/UCR_TimeSeriesAnomalyDatasets2021.zip"
   ]
  },
  {
   "cell_type": "markdown",
   "id": "f56f1a46-73b9-4cde-b939-a326a6807009",
   "metadata": {},
   "source": [
    "### 1. Environment set-up"
   ]
  },
  {
   "cell_type": "markdown",
   "id": "8ee3df38-2d9f-4377-9931-3525900b6478",
   "metadata": {},
   "source": [
    "1. This notebook contains elements which render correctly in Jupyter interface. Open this notebook from an Amazon SageMaker Notebook Instance or Amazon SageMaker Studio.\n",
    "1. Ensure that IAM role used has **AmazonSageMakerFullAccess**\n",
    "1. Some hands-on experience using [Amazon SageMaker](https://aws.amazon.com/sagemaker/).\n",
    "1. To use this algorithm successfully, ensure that:\n",
    "    1. Either your IAM role has these three permissions and you have authority to make AWS Marketplace subscriptions in the AWS account used: \n",
    "        1. **aws-marketplace:ViewSubscriptions**\n",
    "        1. **aws-marketplace:Unsubscribe**\n",
    "        1. **aws-marketplace:Subscribe**  \n",
    "    2. or your AWS account has a subscription to the [Time Series Anomaly Detection (LSTM-AE) Algorithm from AWS Marketplace](https://aws.amazon.com/marketplace/pp/prodview-up2haipz3j472).\n",
    "\n",
    "To subscribe to the algorithm:\n",
    "1. Open the algorithm listing page.\n",
    "1. On the AWS Marketplace listing, click on the **Continue to subscribe** button.\n",
    "1. On the **Subscribe to this software** page, review and click on **\"Accept Offer\"** if you agree with EULA, pricing, and support terms. \n",
    "1. Once you click on the **Continue to configuration** button and then choose a **region**, you will see a **Product ARN**. This is the algorithm ARN that you need to specify while training a custom ML model. **Copy the ARN corresponding to your region and specify the same in the following cell.**"
   ]
  },
  {
   "cell_type": "code",
   "execution_count": 1,
   "id": "fd89b7a5-3e1c-4fd5-9661-1dcc86626b10",
   "metadata": {
    "tags": []
   },
   "outputs": [],
   "source": [
    "algo_arn = \"arn:aws:sagemaker:eu-west-1:661670223746:algorithm/lstm-ae-v1-4\""
   ]
  },
  {
   "cell_type": "code",
   "execution_count": 2,
   "id": "b72fa188-ea07-4ee4-ad66-a9dfb7d8cd7e",
   "metadata": {
    "tags": []
   },
   "outputs": [
    {
     "name": "stderr",
     "output_type": "stream",
     "text": [
      "/home/ec2-user/anaconda3/envs/python3/lib/python3.10/site-packages/pandas/core/computation/expressions.py:21: UserWarning: Pandas requires version '2.8.0' or newer of 'numexpr' (version '2.7.3' currently installed).\n",
      "  from pandas.core.computation.check import NUMEXPR_INSTALLED\n"
     ]
    },
    {
     "name": "stdout",
     "output_type": "stream",
     "text": [
      "sagemaker.config INFO - Not applying SDK defaults from location: /etc/xdg/sagemaker/config.yaml\n",
      "sagemaker.config INFO - Not applying SDK defaults from location: /home/ec2-user/.config/sagemaker/config.yaml\n",
      "sagemaker.config INFO - Not applying SDK defaults from location: /etc/xdg/sagemaker/config.yaml\n",
      "sagemaker.config INFO - Not applying SDK defaults from location: /home/ec2-user/.config/sagemaker/config.yaml\n",
      "sagemaker.config INFO - Not applying SDK defaults from location: /etc/xdg/sagemaker/config.yaml\n",
      "sagemaker.config INFO - Not applying SDK defaults from location: /home/ec2-user/.config/sagemaker/config.yaml\n"
     ]
    }
   ],
   "source": [
    "import sagemaker\n",
    "import pandas as pd\n",
    "import numpy as np\n",
    "import matplotlib.pyplot as plt\n",
    "\n",
    "# SageMaker session\n",
    "sagemaker_session = sagemaker.Session()\n",
    "\n",
    "# SageMaker role\n",
    "role = sagemaker.get_execution_role()\n",
    "\n",
    "# S3 bucket\n",
    "bucket = sagemaker_session.default_bucket()\n",
    "\n",
    "# EC2 instance\n",
    "instance_type = \"ml.m5.2xlarge\""
   ]
  },
  {
   "cell_type": "markdown",
   "id": "49491ac8-2585-429f-8acb-8b3d3e082a7b",
   "metadata": {},
   "source": [
    "### 2. Data preparation"
   ]
  },
  {
   "cell_type": "markdown",
   "id": "2fe35c9b-7f7b-4634-a618-6bd18278556f",
   "metadata": {},
   "source": [
    "Load the data."
   ]
  },
  {
   "cell_type": "code",
   "execution_count": 3,
   "id": "1bdf6675-a1c3-4474-9a3e-5a281ab559b9",
   "metadata": {
    "tags": []
   },
   "outputs": [],
   "source": [
    "dataset_name = \"177_UCR_Anomaly_insectEPG5_3200_8500_8501\"\n",
    "cutoff = 3200  # train-test cutoff\n",
    "start = 8500   # start of anomalous time interval\n",
    "end = 8530     # end of anomalous time interval\n",
    "k = 1          # number of anomalies to extract"
   ]
  },
  {
   "cell_type": "code",
   "execution_count": 4,
   "id": "62b85cf0-9ed0-4499-9c31-ebb9f7aff474",
   "metadata": {
    "tags": []
   },
   "outputs": [],
   "source": [
    "dataset = pd.DataFrame(data=np.genfromtxt(f\"{dataset_name}.txt\"))"
   ]
  },
  {
   "cell_type": "code",
   "execution_count": 5,
   "id": "69ba4b55-ec1d-46c3-9161-c2d6f8b8c671",
   "metadata": {
    "tags": []
   },
   "outputs": [
    {
     "data": {
      "text/plain": [
       "(10028, 1)"
      ]
     },
     "execution_count": 5,
     "metadata": {},
     "output_type": "execute_result"
    }
   ],
   "source": [
    "dataset.shape"
   ]
  },
  {
   "cell_type": "code",
   "execution_count": 6,
   "id": "e399d772-749d-4e3f-8c58-2bbea4261499",
   "metadata": {
    "tags": []
   },
   "outputs": [
    {
     "data": {
      "text/html": [
       "<div>\n",
       "<style scoped>\n",
       "    .dataframe tbody tr th:only-of-type {\n",
       "        vertical-align: middle;\n",
       "    }\n",
       "\n",
       "    .dataframe tbody tr th {\n",
       "        vertical-align: top;\n",
       "    }\n",
       "\n",
       "    .dataframe thead th {\n",
       "        text-align: right;\n",
       "    }\n",
       "</style>\n",
       "<table border=\"1\" class=\"dataframe\">\n",
       "  <thead>\n",
       "    <tr style=\"text-align: right;\">\n",
       "      <th></th>\n",
       "      <th>0</th>\n",
       "    </tr>\n",
       "  </thead>\n",
       "  <tbody>\n",
       "    <tr>\n",
       "      <th>0</th>\n",
       "      <td>0.209960</td>\n",
       "    </tr>\n",
       "    <tr>\n",
       "      <th>1</th>\n",
       "      <td>0.216060</td>\n",
       "    </tr>\n",
       "    <tr>\n",
       "      <th>2</th>\n",
       "      <td>0.212400</td>\n",
       "    </tr>\n",
       "    <tr>\n",
       "      <th>3</th>\n",
       "      <td>0.174560</td>\n",
       "    </tr>\n",
       "    <tr>\n",
       "      <th>4</th>\n",
       "      <td>-0.009766</td>\n",
       "    </tr>\n",
       "  </tbody>\n",
       "</table>\n",
       "</div>"
      ],
      "text/plain": [
       "          0\n",
       "0  0.209960\n",
       "1  0.216060\n",
       "2  0.212400\n",
       "3  0.174560\n",
       "4 -0.009766"
      ]
     },
     "execution_count": 6,
     "metadata": {},
     "output_type": "execute_result"
    }
   ],
   "source": [
    "dataset.head()"
   ]
  },
  {
   "cell_type": "code",
   "execution_count": 7,
   "id": "c1142757-d2ba-40dc-a389-efc9612649e2",
   "metadata": {
    "tags": []
   },
   "outputs": [
    {
     "data": {
      "text/html": [
       "<div>\n",
       "<style scoped>\n",
       "    .dataframe tbody tr th:only-of-type {\n",
       "        vertical-align: middle;\n",
       "    }\n",
       "\n",
       "    .dataframe tbody tr th {\n",
       "        vertical-align: top;\n",
       "    }\n",
       "\n",
       "    .dataframe thead th {\n",
       "        text-align: right;\n",
       "    }\n",
       "</style>\n",
       "<table border=\"1\" class=\"dataframe\">\n",
       "  <thead>\n",
       "    <tr style=\"text-align: right;\">\n",
       "      <th></th>\n",
       "      <th>0</th>\n",
       "    </tr>\n",
       "  </thead>\n",
       "  <tbody>\n",
       "    <tr>\n",
       "      <th>10023</th>\n",
       "      <td>0.113530</td>\n",
       "    </tr>\n",
       "    <tr>\n",
       "      <th>10024</th>\n",
       "      <td>-0.029297</td>\n",
       "    </tr>\n",
       "    <tr>\n",
       "      <th>10025</th>\n",
       "      <td>-0.198970</td>\n",
       "    </tr>\n",
       "    <tr>\n",
       "      <th>10026</th>\n",
       "      <td>-0.230710</td>\n",
       "    </tr>\n",
       "    <tr>\n",
       "      <th>10027</th>\n",
       "      <td>-0.223390</td>\n",
       "    </tr>\n",
       "  </tbody>\n",
       "</table>\n",
       "</div>"
      ],
      "text/plain": [
       "              0\n",
       "10023  0.113530\n",
       "10024 -0.029297\n",
       "10025 -0.198970\n",
       "10026 -0.230710\n",
       "10027 -0.223390"
      ]
     },
     "execution_count": 7,
     "metadata": {},
     "output_type": "execute_result"
    }
   ],
   "source": [
    "dataset.tail()"
   ]
  },
  {
   "cell_type": "markdown",
   "id": "4ffe7dfe-08cc-4550-bdd0-351e62739558",
   "metadata": {},
   "source": [
    "Visualize the data."
   ]
  },
  {
   "cell_type": "code",
   "execution_count": 8,
   "id": "d79b0a5c-00ec-4df4-898f-a05245281c94",
   "metadata": {
    "tags": []
   },
   "outputs": [
    {
     "data": {
      "image/png": "[encoded data removed]",
      "text/plain": [
       "<Figure size 600x350 with 1 Axes>"
      ]
     },
     "metadata": {},
     "output_type": "display_data"
    }
   ],
   "source": [
    "fig, ax = plt.subplots(figsize=(6, 3.5))\n",
    "ax.plot(dataset, color=\"#AFB8C1\", lw=0.5)\n",
    "ax.set(xlabel=\"Time\", ylabel=\"Value\")\n",
    "ax.tick_params(axis=\"both\", which=\"major\", labelsize=7)\n",
    "ax.tick_params(axis=\"both\", which=\"minor\", labelsize=7)\n",
    "fig.tight_layout()\n",
    "fig.show()"
   ]
  },
  {
   "cell_type": "markdown",
   "id": "2e0b09b4-ae21-4551-825c-dcd279753b51",
   "metadata": {},
   "source": [
    "Split the data."
   ]
  },
  {
   "cell_type": "code",
   "execution_count": 9,
   "id": "9b0699df-9439-45c2-ba70-ca11983d843f",
   "metadata": {
    "tags": []
   },
   "outputs": [],
   "source": [
    "training_dataset = dataset.iloc[:cutoff]"
   ]
  },
  {
   "cell_type": "code",
   "execution_count": 10,
   "id": "24adddd2-ab77-4137-98ea-faec2ae3d67d",
   "metadata": {
    "tags": []
   },
   "outputs": [
    {
     "data": {
      "text/plain": [
       "(3200, 1)"
      ]
     },
     "execution_count": 10,
     "metadata": {},
     "output_type": "execute_result"
    }
   ],
   "source": [
    "training_dataset.shape"
   ]
  },
  {
   "cell_type": "code",
   "execution_count": 11,
   "id": "34af9186-27ef-4038-a9de-0e206b89202b",
   "metadata": {
    "tags": []
   },
   "outputs": [],
   "source": [
    "test_dataset = dataset.iloc[cutoff:]"
   ]
  },
  {
   "cell_type": "code",
   "execution_count": 12,
   "id": "4dde60d8-0340-44de-9912-acf9fe2a0633",
   "metadata": {
    "tags": []
   },
   "outputs": [
    {
     "data": {
      "text/plain": [
       "(6828, 1)"
      ]
     },
     "execution_count": 12,
     "metadata": {},
     "output_type": "execute_result"
    }
   ],
   "source": [
    "test_dataset.shape"
   ]
  },
  {
   "cell_type": "markdown",
   "id": "7586de04-bfeb-4942-8937-9ff7c42f5931",
   "metadata": {},
   "source": [
    "Upload the data to S3."
   ]
  },
  {
   "cell_type": "code",
   "execution_count": 13,
   "id": "7fe9e74c-6a57-419e-865d-233e51106857",
   "metadata": {
    "tags": []
   },
   "outputs": [],
   "source": [
    "training_data = sagemaker_session.upload_string_as_file_body(\n",
    "    body=training_dataset.to_csv(index=False, header=False),\n",
    "    bucket=bucket,\n",
    "    key=f\"{dataset_name}_train.csv\"\n",
    ")"
   ]
  },
  {
   "cell_type": "code",
   "execution_count": 14,
   "id": "851460a4-32ac-444a-ab90-a61df3257256",
   "metadata": {
    "tags": []
   },
   "outputs": [
    {
     "data": {
      "text/plain": [
       "'s3://sagemaker-eu-west-1-661670223746/177_UCR_Anomaly_insectEPG5_3200_8500_8501_train.csv'"
      ]
     },
     "execution_count": 14,
     "metadata": {},
     "output_type": "execute_result"
    }
   ],
   "source": [
    "training_data"
   ]
  },
  {
   "cell_type": "code",
   "execution_count": 15,
   "id": "e2062e41-eb07-43c2-9b86-370a63d45599",
   "metadata": {
    "tags": []
   },
   "outputs": [],
   "source": [
    "test_data = sagemaker_session.upload_string_as_file_body(\n",
    "    body=test_dataset.to_csv(index=False, header=False),\n",
    "    bucket=bucket,\n",
    "    key=f\"{dataset_name}_test.csv\"\n",
    ")"
   ]
  },
  {
   "cell_type": "code",
   "execution_count": 16,
   "id": "4225ecdd-a68e-4824-bb64-f2a7ab3426b8",
   "metadata": {
    "tags": []
   },
   "outputs": [
    {
     "data": {
      "text/plain": [
       "'s3://sagemaker-eu-west-1-661670223746/177_UCR_Anomaly_insectEPG5_3200_8500_8501_test.csv'"
      ]
     },
     "execution_count": 16,
     "metadata": {},
     "output_type": "execute_result"
    }
   ],
   "source": [
    "test_data"
   ]
  },
  {
   "cell_type": "markdown",
   "id": "6a91f5ac-d6bb-4a50-9de3-69436c33b814",
   "metadata": {},
   "source": [
    "### 3. Training"
   ]
  },
  {
   "cell_type": "markdown",
   "id": "6ad88d3f-50cf-4835-9120-fa6a0da910f0",
   "metadata": {},
   "source": [
    "Fit the model to the training set."
   ]
  },
  {
   "cell_type": "code",
   "execution_count": 17,
   "id": "66c95682-9b13-42d2-874a-882de608c2ff",
   "metadata": {
    "tags": []
   },
   "outputs": [
    {
     "name": "stderr",
     "output_type": "stream",
     "text": [
      "INFO:sagemaker:Creating training-job with name: lstm-ae-v1-4-2023-12-10-18-43-14-912\n"
     ]
    },
    {
     "name": "stdout",
     "output_type": "stream",
     "text": [
      "2023-12-10 18:43:15 Starting - Starting the training job...\n",
      "2023-12-10 18:43:29 Starting - Preparing the instances for training......\n",
      "2023-12-10 18:44:43 Downloading - Downloading input data\n",
      "2023-12-10 18:44:43 Training - Downloading the training image...............\n",
      "2023-12-10 18:47:14 Training - Training image download completed. Training in progress.....\u001b[34mbash: cannot set terminal process group (-1): Inappropriate ioctl for device\u001b[0m\n",
      "\u001b[34mbash: no job control in this shell\u001b[0m\n",
      "\u001b[34m2023-12-10 18:47:44,250 sagemaker-training-toolkit INFO     Imported framework sagemaker_pytorch_container.training\u001b[0m\n",
      "\u001b[34m2023-12-10 18:47:44,251 sagemaker-training-toolkit INFO     No GPUs detected (normal if no gpus installed)\u001b[0m\n",
      "\u001b[34m2023-12-10 18:47:44,251 sagemaker-training-toolkit INFO     No Neurons detected (normal if no neurons installed)\u001b[0m\n",
      "\u001b[34m2023-12-10 18:47:44,262 sagemaker_pytorch_container.training INFO     Block until all host DNS lookups succeed.\u001b[0m\n",
      "\u001b[34m2023-12-10 18:47:44,264 sagemaker_pytorch_container.training INFO     Invoking user training script.\u001b[0m\n",
      "\u001b[34m2023-12-10 18:47:45,690 sagemaker-training-toolkit INFO     No GPUs detected (normal if no gpus installed)\u001b[0m\n",
      "\u001b[34m2023-12-10 18:47:45,691 sagemaker-training-toolkit INFO     No Neurons detected (normal if no neurons installed)\u001b[0m\n",
      "\u001b[34m2023-12-10 18:47:45,702 sagemaker-training-toolkit INFO     No GPUs detected (normal if no gpus installed)\u001b[0m\n",
      "\u001b[34m2023-12-10 18:47:45,703 sagemaker-training-toolkit INFO     No Neurons detected (normal if no neurons installed)\u001b[0m\n",
      "\u001b[34m2023-12-10 18:47:45,714 sagemaker-training-toolkit INFO     No GPUs detected (normal if no gpus installed)\u001b[0m\n",
      "\u001b[34m2023-12-10 18:47:45,715 sagemaker-training-toolkit INFO     No Neurons detected (normal if no neurons installed)\u001b[0m\n",
      "\u001b[34m2023-12-10 18:47:45,726 sagemaker-training-toolkit INFO     Invoking user script\u001b[0m\n",
      "\u001b[34mTraining Env:\u001b[0m\n",
      "\u001b[34m{\n",
      "    \"additional_framework_parameters\": {},\n",
      "    \"channel_input_dirs\": {\n",
      "        \"training\": \"/opt/ml/input/data/training\"\n",
      "    },\n",
      "    \"current_host\": \"algo-1\",\n",
      "    \"current_instance_group\": \"homogeneousCluster\",\n",
      "    \"current_instance_group_hosts\": [\n",
      "        \"algo-1\"\n",
      "    ],\n",
      "    \"current_instance_type\": \"ml.m5.2xlarge\",\n",
      "    \"distribution_hosts\": [],\n",
      "    \"distribution_instance_groups\": [],\n",
      "    \"framework_module\": \"sagemaker_pytorch_container.training:main\",\n",
      "    \"hosts\": [\n",
      "        \"algo-1\"\n",
      "    ],\n",
      "    \"hyperparameters\": {\n",
      "        \"batch-size\": 16,\n",
      "        \"epochs\": 200,\n",
      "        \"hidden-size\": 64,\n",
      "        \"lr\": 0.0001,\n",
      "        \"sequence-length\": 30,\n",
      "        \"sequence-stride\": 30\n",
      "    },\n",
      "    \"input_config_dir\": \"/opt/ml/input/config\",\n",
      "    \"input_data_config\": {\n",
      "        \"training\": {\n",
      "            \"TrainingInputMode\": \"File\",\n",
      "            \"S3DistributionType\": \"FullyReplicated\",\n",
      "            \"RecordWrapperType\": \"None\"\n",
      "        }\n",
      "    },\n",
      "    \"input_dir\": \"/opt/ml/input\",\n",
      "    \"instance_groups\": [\n",
      "        \"homogeneousCluster\"\n",
      "    ],\n",
      "    \"instance_groups_dict\": {\n",
      "        \"homogeneousCluster\": {\n",
      "            \"instance_group_name\": \"homogeneousCluster\",\n",
      "            \"instance_type\": \"ml.m5.2xlarge\",\n",
      "            \"hosts\": [\n",
      "                \"algo-1\"\n",
      "            ]\n",
      "        }\n",
      "    },\n",
      "    \"is_hetero\": false,\n",
      "    \"is_master\": true,\n",
      "    \"is_modelparallel_enabled\": null,\n",
      "    \"is_smddpmprun_installed\": false,\n",
      "    \"is_smddprun_installed\": false,\n",
      "    \"job_name\": \"lstm-ae-v1-4-2023-12-10-18-43-14-912\",\n",
      "    \"log_level\": 20,\n",
      "    \"master_hostname\": \"algo-1\",\n",
      "    \"model_dir\": \"/opt/ml/model\",\n",
      "    \"module_dir\": \"/opt/ml/code\",\n",
      "    \"module_name\": \"training\",\n",
      "    \"network_interface_name\": \"eth0\",\n",
      "    \"num_cpus\": 8,\n",
      "    \"num_gpus\": 0,\n",
      "    \"num_neurons\": 0,\n",
      "    \"output_data_dir\": \"/opt/ml/output/data\",\n",
      "    \"output_dir\": \"/opt/ml/output\",\n",
      "    \"output_intermediate_dir\": \"/opt/ml/output/intermediate\",\n",
      "    \"resource_config\": {\n",
      "        \"current_host\": \"algo-1\",\n",
      "        \"current_instance_type\": \"ml.m5.2xlarge\",\n",
      "        \"current_group_name\": \"homogeneousCluster\",\n",
      "        \"hosts\": [\n",
      "            \"algo-1\"\n",
      "        ],\n",
      "        \"instance_groups\": [\n",
      "            {\n",
      "                \"instance_group_name\": \"homogeneousCluster\",\n",
      "                \"instance_type\": \"ml.m5.2xlarge\",\n",
      "                \"hosts\": [\n",
      "                    \"algo-1\"\n",
      "                ]\n",
      "            }\n",
      "        ],\n",
      "        \"network_interface_name\": \"eth0\"\n",
      "    },\n",
      "    \"user_entry_point\": \"training.py\"\u001b[0m\n",
      "\u001b[34m}\u001b[0m\n",
      "\u001b[34mEnvironment variables:\u001b[0m\n",
      "\u001b[34mSM_HOSTS=[\"algo-1\"]\u001b[0m\n",
      "\u001b[34mSM_NETWORK_INTERFACE_NAME=eth0\u001b[0m\n",
      "\u001b[34mSM_HPS={\"batch-size\":16,\"epochs\":200,\"hidden-size\":64,\"lr\":0.0001,\"sequence-length\":30,\"sequence-stride\":30}\u001b[0m\n",
      "\u001b[34mSM_USER_ENTRY_POINT=training.py\u001b[0m\n",
      "\u001b[34mSM_FRAMEWORK_PARAMS={}\u001b[0m\n",
      "\u001b[34mSM_RESOURCE_CONFIG={\"current_group_name\":\"homogeneousCluster\",\"current_host\":\"algo-1\",\"current_instance_type\":\"ml.m5.2xlarge\",\"hosts\":[\"algo-1\"],\"instance_groups\":[{\"hosts\":[\"algo-1\"],\"instance_group_name\":\"homogeneousCluster\",\"instance_type\":\"ml.m5.2xlarge\"}],\"network_interface_name\":\"eth0\"}\u001b[0m\n",
      "\u001b[34mSM_INPUT_DATA_CONFIG={\"training\":{\"RecordWrapperType\":\"None\",\"S3DistributionType\":\"FullyReplicated\",\"TrainingInputMode\":\"File\"}}\u001b[0m\n",
      "\u001b[34mSM_OUTPUT_DATA_DIR=/opt/ml/output/data\u001b[0m\n",
      "\u001b[34mSM_CHANNELS=[\"training\"]\u001b[0m\n",
      "\u001b[34mSM_CURRENT_HOST=algo-1\u001b[0m\n",
      "\u001b[34mSM_CURRENT_INSTANCE_TYPE=ml.m5.2xlarge\u001b[0m\n",
      "\u001b[34mSM_CURRENT_INSTANCE_GROUP=homogeneousCluster\u001b[0m\n",
      "\u001b[34mSM_CURRENT_INSTANCE_GROUP_HOSTS=[\"algo-1\"]\u001b[0m\n",
      "\u001b[34mSM_INSTANCE_GROUPS=[\"homogeneousCluster\"]\u001b[0m\n",
      "\u001b[34mSM_INSTANCE_GROUPS_DICT={\"homogeneousCluster\":{\"hosts\":[\"algo-1\"],\"instance_group_name\":\"homogeneousCluster\",\"instance_type\":\"ml.m5.2xlarge\"}}\u001b[0m\n",
      "\u001b[34mSM_DISTRIBUTION_INSTANCE_GROUPS=[]\u001b[0m\n",
      "\u001b[34mSM_IS_HETERO=false\u001b[0m\n",
      "\u001b[34mSM_MODULE_NAME=training\u001b[0m\n",
      "\u001b[34mSM_LOG_LEVEL=20\u001b[0m\n",
      "\u001b[34mSM_FRAMEWORK_MODULE=sagemaker_pytorch_container.training:main\u001b[0m\n",
      "\u001b[34mSM_INPUT_DIR=/opt/ml/input\u001b[0m\n",
      "\u001b[34mSM_INPUT_CONFIG_DIR=/opt/ml/input/config\u001b[0m\n",
      "\u001b[34mSM_OUTPUT_DIR=/opt/ml/output\u001b[0m\n",
      "\u001b[34mSM_NUM_CPUS=8\u001b[0m\n",
      "\u001b[34mSM_NUM_GPUS=0\u001b[0m\n",
      "\u001b[34mSM_NUM_NEURONS=0\u001b[0m\n",
      "\u001b[34mSM_MODEL_DIR=/opt/ml/model\u001b[0m\n",
      "\u001b[34mSM_MODULE_DIR=/opt/ml/code\u001b[0m\n",
      "\u001b[34mSM_TRAINING_ENV={\"additional_framework_parameters\":{},\"channel_input_dirs\":{\"training\":\"/opt/ml/input/data/training\"},\"current_host\":\"algo-1\",\"current_instance_group\":\"homogeneousCluster\",\"current_instance_group_hosts\":[\"algo-1\"],\"current_instance_type\":\"ml.m5.2xlarge\",\"distribution_hosts\":[],\"distribution_instance_groups\":[],\"framework_module\":\"sagemaker_pytorch_container.training:main\",\"hosts\":[\"algo-1\"],\"hyperparameters\":{\"batch-size\":16,\"epochs\":200,\"hidden-size\":64,\"lr\":0.0001,\"sequence-length\":30,\"sequence-stride\":30},\"input_config_dir\":\"/opt/ml/input/config\",\"input_data_config\":{\"training\":{\"RecordWrapperType\":\"None\",\"S3DistributionType\":\"FullyReplicated\",\"TrainingInputMode\":\"File\"}},\"input_dir\":\"/opt/ml/input\",\"instance_groups\":[\"homogeneousCluster\"],\"instance_groups_dict\":{\"homogeneousCluster\":{\"hosts\":[\"algo-1\"],\"instance_group_name\":\"homogeneousCluster\",\"instance_type\":\"ml.m5.2xlarge\"}},\"is_hetero\":false,\"is_master\":true,\"is_modelparallel_enabled\":null,\"is_smddpmprun_installed\":false,\"is_smddprun_installed\":false,\"job_name\":\"lstm-ae-v1-4-2023-12-10-18-43-14-912\",\"log_level\":20,\"master_hostname\":\"algo-1\",\"model_dir\":\"/opt/ml/model\",\"module_dir\":\"/opt/ml/code\",\"module_name\":\"training\",\"network_interface_name\":\"eth0\",\"num_cpus\":8,\"num_gpus\":0,\"num_neurons\":0,\"output_data_dir\":\"/opt/ml/output/data\",\"output_dir\":\"/opt/ml/output\",\"output_intermediate_dir\":\"/opt/ml/output/intermediate\",\"resource_config\":{\"current_group_name\":\"homogeneousCluster\",\"current_host\":\"algo-1\",\"current_instance_type\":\"ml.m5.2xlarge\",\"hosts\":[\"algo-1\"],\"instance_groups\":[{\"hosts\":[\"algo-1\"],\"instance_group_name\":\"homogeneousCluster\",\"instance_type\":\"ml.m5.2xlarge\"}],\"network_interface_name\":\"eth0\"},\"user_entry_point\":\"training.py\"}\u001b[0m\n",
      "\u001b[34mSM_USER_ARGS=[\"--batch-size\",\"16\",\"--epochs\",\"200\",\"--hidden-size\",\"64\",\"--lr\",\"0.0001\",\"--sequence-length\",\"30\",\"--sequence-stride\",\"30\"]\u001b[0m\n",
      "\u001b[34mSM_OUTPUT_INTERMEDIATE_DIR=/opt/ml/output/intermediate\u001b[0m\n",
      "\u001b[34mSM_CHANNEL_TRAINING=/opt/ml/input/data/training\u001b[0m\n",
      "\u001b[34mSM_HP_BATCH-SIZE=16\u001b[0m\n",
      "\u001b[34mSM_HP_EPOCHS=200\u001b[0m\n",
      "\u001b[34mSM_HP_HIDDEN-SIZE=64\u001b[0m\n",
      "\u001b[34mSM_HP_LR=0.0001\u001b[0m\n",
      "\u001b[34mSM_HP_SEQUENCE-LENGTH=30\u001b[0m\n",
      "\u001b[34mSM_HP_SEQUENCE-STRIDE=30\u001b[0m\n",
      "\u001b[34mPYTHONPATH=/opt/ml/code:/opt/conda/bin:/opt/conda/lib/python310.zip:/opt/conda/lib/python3.10:/opt/conda/lib/python3.10/lib-dynload:/opt/conda/lib/python3.10/site-packages\u001b[0m\n",
      "\u001b[34mInvoking script with the following command:\u001b[0m\n",
      "\u001b[34m/opt/conda/bin/python3.10 training.py --batch-size 16 --epochs 200 --hidden-size 64 --lr 0.0001 --sequence-length 30 --sequence-stride 30\u001b[0m\n",
      "\u001b[34m2023-12-10 18:47:45,726 sagemaker-training-toolkit INFO     Exceptions not imported for SageMaker Debugger as it is not installed.\u001b[0m\n",
      "\u001b[34m2023-12-10 18:47:45,726 sagemaker-training-toolkit INFO     Exceptions not imported for SageMaker TF as Tensorflow is not installed.\u001b[0m\n",
      "\u001b[34m--------------------------------------\u001b[0m\n",
      "\u001b[34mTraining on 1 time series.\u001b[0m\n",
      "\u001b[34mTime series length: 3200\u001b[0m\n",
      "\u001b[34m--------------------------------------\u001b[0m\n",
      "\u001b[34m--------------------------------------\u001b[0m\n",
      "\u001b[34mTraining the model.\u001b[0m\n",
      "\u001b[34mepoch: 1 train_mse: 1.00084543 train_mae: 0.95317900\u001b[0m\n",
      "\u001b[34mepoch: 2 train_mse: 1.00019729 train_mae: 0.95257747\u001b[0m\n",
      "\u001b[34mepoch: 3 train_mse: 0.99956727 train_mae: 0.95198393\u001b[0m\n",
      "\u001b[34mepoch: 4 train_mse: 0.99895161 train_mae: 0.95137429\u001b[0m\n",
      "\u001b[34mepoch: 5 train_mse: 0.99837238 train_mae: 0.95082241\u001b[0m\n",
      "\u001b[34mepoch: 6 train_mse: 0.99779451 train_mae: 0.95025361\u001b[0m\n",
      "\u001b[34mepoch: 7 train_mse: 0.99724072 train_mae: 0.94971567\u001b[0m\n",
      "\u001b[34mepoch: 8 train_mse: 0.99670833 train_mae: 0.94921035\u001b[0m\n",
      "\u001b[34mepoch: 9 train_mse: 0.99616718 train_mae: 0.94871670\u001b[0m\n",
      "\u001b[34mepoch: 10 train_mse: 0.99561197 train_mae: 0.94820046\u001b[0m\n",
      "\u001b[34mepoch: 11 train_mse: 0.99505782 train_mae: 0.94769609\u001b[0m\n",
      "\u001b[34mepoch: 12 train_mse: 0.99449819 train_mae: 0.94718462\u001b[0m\n",
      "\u001b[34mepoch: 13 train_mse: 0.99389321 train_mae: 0.94661218\u001b[0m\n",
      "\u001b[34mepoch: 14 train_mse: 0.99326122 train_mae: 0.94598871\u001b[0m\n",
      "\u001b[34mepoch: 15 train_mse: 0.99260378 train_mae: 0.94533914\u001b[0m\n",
      "\u001b[34mepoch: 16 train_mse: 0.99192929 train_mae: 0.94467843\u001b[0m\n",
      "\u001b[34mepoch: 17 train_mse: 0.99121362 train_mae: 0.94399959\u001b[0m\n",
      "\u001b[34mepoch: 18 train_mse: 0.99045265 train_mae: 0.94328582\u001b[0m\n",
      "\u001b[34mepoch: 19 train_mse: 0.98965245 train_mae: 0.94253486\u001b[0m\n",
      "\u001b[34mepoch: 20 train_mse: 0.98879761 train_mae: 0.94169599\u001b[0m\n",
      "\u001b[34mepoch: 21 train_mse: 0.98789108 train_mae: 0.94075859\u001b[0m\n",
      "\u001b[34mepoch: 22 train_mse: 0.98690754 train_mae: 0.93984985\u001b[0m\n",
      "\u001b[34mepoch: 23 train_mse: 0.98585439 train_mae: 0.93882096\u001b[0m\n",
      "\u001b[34mepoch: 24 train_mse: 0.98470366 train_mae: 0.93778867\u001b[0m\n",
      "\u001b[34mepoch: 25 train_mse: 0.98344523 train_mae: 0.93676978\u001b[0m\n",
      "\u001b[34mepoch: 26 train_mse: 0.98206657 train_mae: 0.93563497\u001b[0m\n",
      "\u001b[34mepoch: 27 train_mse: 0.98051816 train_mae: 0.93440580\u001b[0m\n",
      "\u001b[34mepoch: 28 train_mse: 0.97879070 train_mae: 0.93304116\u001b[0m\n",
      "\u001b[34mepoch: 29 train_mse: 0.97680849 train_mae: 0.93149757\u001b[0m\n",
      "\u001b[34mepoch: 30 train_mse: 0.97461772 train_mae: 0.92972696\u001b[0m\n",
      "\u001b[34mepoch: 31 train_mse: 0.97217399 train_mae: 0.92778099\u001b[0m\n",
      "\u001b[34mepoch: 32 train_mse: 0.96936148 train_mae: 0.92543304\u001b[0m\n",
      "\u001b[34mepoch: 33 train_mse: 0.96613741 train_mae: 0.92273247\u001b[0m\n",
      "\u001b[34mepoch: 34 train_mse: 0.96213388 train_mae: 0.91968274\u001b[0m\n",
      "\u001b[34mepoch: 35 train_mse: 0.95734280 train_mae: 0.91620767\u001b[0m\n",
      "\u001b[34mepoch: 36 train_mse: 0.95130908 train_mae: 0.91187626\u001b[0m\n",
      "\u001b[34mepoch: 37 train_mse: 0.94370556 train_mae: 0.90615600\u001b[0m\n",
      "\u001b[34mepoch: 38 train_mse: 0.93332118 train_mae: 0.89802629\u001b[0m\n",
      "\u001b[34mepoch: 39 train_mse: 0.91849035 train_mae: 0.88685185\u001b[0m\n",
      "\u001b[34mepoch: 40 train_mse: 0.89540374 train_mae: 0.87012839\u001b[0m\n",
      "\u001b[34mepoch: 41 train_mse: 0.85551798 train_mae: 0.84199160\u001b[0m\n",
      "\u001b[34mepoch: 42 train_mse: 0.78250736 train_mae: 0.79042786\u001b[0m\n",
      "\u001b[34mepoch: 43 train_mse: 0.65946388 train_mae: 0.69852310\u001b[0m\n",
      "\u001b[34mepoch: 44 train_mse: 0.50859064 train_mae: 0.59743345\u001b[0m\n",
      "\u001b[34mepoch: 45 train_mse: 0.39430067 train_mae: 0.52008194\u001b[0m\n",
      "\u001b[34mepoch: 46 train_mse: 0.32439730 train_mae: 0.46486631\u001b[0m\n",
      "\u001b[34mepoch: 47 train_mse: 0.28614110 train_mae: 0.42729938\u001b[0m\n",
      "\u001b[34mepoch: 48 train_mse: 0.25647143 train_mae: 0.40247291\u001b[0m\n",
      "\u001b[34mepoch: 49 train_mse: 0.22906716 train_mae: 0.38139465\u001b[0m\n",
      "\u001b[34mepoch: 50 train_mse: 0.21034859 train_mae: 0.36649138\u001b[0m\n",
      "\u001b[34mepoch: 51 train_mse: 0.19767703 train_mae: 0.35615915\u001b[0m\n",
      "\u001b[34mepoch: 52 train_mse: 0.17942710 train_mae: 0.33892527\u001b[0m\n",
      "\u001b[34mepoch: 53 train_mse: 0.16792561 train_mae: 0.33300191\u001b[0m\n",
      "\u001b[34mepoch: 54 train_mse: 0.15370458 train_mae: 0.32069436\u001b[0m\n",
      "\u001b[34mepoch: 55 train_mse: 0.14444546 train_mae: 0.31359562\u001b[0m\n",
      "\u001b[34mepoch: 56 train_mse: 0.13683927 train_mae: 0.30566353\u001b[0m\n",
      "\u001b[34mepoch: 57 train_mse: 0.13149646 train_mae: 0.30001846\u001b[0m\n",
      "\u001b[34mepoch: 58 train_mse: 0.12620968 train_mae: 0.29275855\u001b[0m\n",
      "\u001b[34mepoch: 59 train_mse: 0.12194111 train_mae: 0.28692719\u001b[0m\n",
      "\u001b[34mepoch: 60 train_mse: 0.12059157 train_mae: 0.28575197\u001b[0m\n",
      "\u001b[34mepoch: 61 train_mse: 0.11433244 train_mae: 0.27754271\u001b[0m\n",
      "\u001b[34mepoch: 62 train_mse: 0.11016403 train_mae: 0.27126592\u001b[0m\n",
      "\u001b[34mepoch: 63 train_mse: 0.10902705 train_mae: 0.27060273\u001b[0m\n",
      "\u001b[34mepoch: 64 train_mse: 0.10327330 train_mae: 0.26131102\u001b[0m\n",
      "\u001b[34mepoch: 65 train_mse: 0.10240710 train_mae: 0.26137120\u001b[0m\n",
      "\u001b[34mepoch: 66 train_mse: 0.09739755 train_mae: 0.25223741\u001b[0m\n",
      "\u001b[34mepoch: 67 train_mse: 0.09634494 train_mae: 0.25288716\u001b[0m\n",
      "\u001b[34mepoch: 68 train_mse: 0.09200758 train_mae: 0.24496587\u001b[0m\n",
      "\u001b[34mepoch: 69 train_mse: 0.09089589 train_mae: 0.24432954\u001b[0m\n",
      "\u001b[34mepoch: 70 train_mse: 0.08748852 train_mae: 0.23837785\u001b[0m\n",
      "\u001b[34mepoch: 71 train_mse: 0.08612362 train_mae: 0.23762617\u001b[0m\n",
      "\u001b[34mepoch: 72 train_mse: 0.08344881 train_mae: 0.23131324\u001b[0m\n",
      "\u001b[34mepoch: 73 train_mse: 0.08490472 train_mae: 0.23553203\u001b[0m\n",
      "\u001b[34mepoch: 74 train_mse: 0.08088304 train_mae: 0.22313869\u001b[0m\n",
      "\u001b[34mepoch: 75 train_mse: 0.08340304 train_mae: 0.23411052\u001b[0m\n",
      "\u001b[34mepoch: 76 train_mse: 0.07629661 train_mae: 0.21739526\u001b[0m\n",
      "\u001b[34mepoch: 77 train_mse: 0.07881652 train_mae: 0.22650881\u001b[0m\n",
      "\u001b[34mepoch: 78 train_mse: 0.07241577 train_mae: 0.21265367\u001b[0m\n",
      "\u001b[34mepoch: 79 train_mse: 0.07263340 train_mae: 0.21670023\u001b[0m\n",
      "\u001b[34mepoch: 80 train_mse: 0.07019590 train_mae: 0.21095316\u001b[0m\n",
      "\u001b[34mepoch: 81 train_mse: 0.06892431 train_mae: 0.20890519\u001b[0m\n",
      "\u001b[34mepoch: 82 train_mse: 0.06792372 train_mae: 0.20765154\u001b[0m\n",
      "\u001b[34mepoch: 83 train_mse: 0.06645721 train_mae: 0.20611840\u001b[0m\n",
      "\u001b[34mepoch: 84 train_mse: 0.06468774 train_mae: 0.20159024\u001b[0m\n",
      "\u001b[34mepoch: 85 train_mse: 0.06505501 train_mae: 0.20372468\u001b[0m\n",
      "\u001b[34mepoch: 86 train_mse: 0.06301391 train_mae: 0.19698836\u001b[0m\n",
      "\u001b[34mepoch: 87 train_mse: 0.06198550 train_mae: 0.19702293\u001b[0m\n",
      "\u001b[34mepoch: 88 train_mse: 0.06075008 train_mae: 0.19483712\u001b[0m\n",
      "\u001b[34mepoch: 89 train_mse: 0.05999234 train_mae: 0.19289637\u001b[0m\n",
      "\u001b[34mepoch: 90 train_mse: 0.05880688 train_mae: 0.19145948\u001b[0m\n",
      "\u001b[34mepoch: 91 train_mse: 0.05760298 train_mae: 0.18924592\u001b[0m\n",
      "\u001b[34mepoch: 92 train_mse: 0.05658425 train_mae: 0.18581031\u001b[0m\n",
      "\u001b[34mepoch: 93 train_mse: 0.05560752 train_mae: 0.18285246\u001b[0m\n",
      "\u001b[34mepoch: 94 train_mse: 0.05726510 train_mae: 0.18828143\u001b[0m\n",
      "\u001b[34mepoch: 95 train_mse: 0.05489112 train_mae: 0.17814444\u001b[0m\n",
      "\u001b[34mepoch: 96 train_mse: 0.05285309 train_mae: 0.17952257\u001b[0m\n",
      "\u001b[34mepoch: 97 train_mse: 0.05347060 train_mae: 0.18093714\u001b[0m\n",
      "\u001b[34mepoch: 98 train_mse: 0.05225800 train_mae: 0.17385788\u001b[0m\n",
      "\u001b[34mepoch: 99 train_mse: 0.05375116 train_mae: 0.18164855\u001b[0m\n",
      "\u001b[34mepoch: 100 train_mse: 0.04988545 train_mae: 0.17104265\u001b[0m\n",
      "\u001b[34mepoch: 101 train_mse: 0.04923873 train_mae: 0.17155376\u001b[0m\n",
      "\u001b[34mepoch: 102 train_mse: 0.04806390 train_mae: 0.16916049\u001b[0m\n",
      "\u001b[34mepoch: 103 train_mse: 0.04699436 train_mae: 0.16696973\u001b[0m\n",
      "\u001b[34mepoch: 104 train_mse: 0.04656599 train_mae: 0.16653092\u001b[0m\n",
      "\u001b[34mepoch: 105 train_mse: 0.04608303 train_mae: 0.16311242\u001b[0m\n",
      "\u001b[34mepoch: 106 train_mse: 0.04588059 train_mae: 0.16497763\u001b[0m\n",
      "\u001b[34mepoch: 107 train_mse: 0.04456672 train_mae: 0.16059248\u001b[0m\n",
      "\u001b[34mepoch: 108 train_mse: 0.04652535 train_mae: 0.16634929\u001b[0m\n",
      "\u001b[34mepoch: 109 train_mse: 0.04358244 train_mae: 0.15768082\u001b[0m\n",
      "\u001b[34mepoch: 110 train_mse: 0.04248633 train_mae: 0.15571497\u001b[0m\n",
      "\u001b[34mepoch: 111 train_mse: 0.04185218 train_mae: 0.15601313\u001b[0m\n",
      "\u001b[34mepoch: 112 train_mse: 0.04335774 train_mae: 0.15915680\u001b[0m\n",
      "\u001b[34mepoch: 113 train_mse: 0.04117464 train_mae: 0.15233128\u001b[0m\n",
      "\u001b[34mepoch: 114 train_mse: 0.04090450 train_mae: 0.15393440\u001b[0m\n",
      "\u001b[34mepoch: 115 train_mse: 0.03991329 train_mae: 0.14986759\u001b[0m\n",
      "\u001b[34mepoch: 116 train_mse: 0.03956964 train_mae: 0.15087661\u001b[0m\n",
      "\u001b[34mepoch: 117 train_mse: 0.03849647 train_mae: 0.14785394\u001b[0m\n",
      "\u001b[34mepoch: 118 train_mse: 0.03801544 train_mae: 0.14668843\u001b[0m\n",
      "\u001b[34mepoch: 119 train_mse: 0.03801614 train_mae: 0.14673755\u001b[0m\n",
      "\u001b[34mepoch: 120 train_mse: 0.03827906 train_mae: 0.14751182\u001b[0m\n",
      "\u001b[34mepoch: 121 train_mse: 0.03821713 train_mae: 0.14352930\u001b[0m\n",
      "\u001b[34mepoch: 122 train_mse: 0.03671858 train_mae: 0.14368588\u001b[0m\n",
      "\u001b[34mepoch: 123 train_mse: 0.03588825 train_mae: 0.14192693\u001b[0m\n",
      "\u001b[34mepoch: 124 train_mse: 0.03609933 train_mae: 0.14004683\u001b[0m\n",
      "\u001b[34mepoch: 125 train_mse: 0.03694980 train_mae: 0.14377464\u001b[0m\n",
      "\u001b[34mepoch: 126 train_mse: 0.03476018 train_mae: 0.13894513\u001b[0m\n",
      "\u001b[34mepoch: 127 train_mse: 0.03666314 train_mae: 0.13919137\u001b[0m\n",
      "\u001b[34mepoch: 128 train_mse: 0.03771559 train_mae: 0.14323761\u001b[0m\n",
      "\u001b[34mepoch: 129 train_mse: 0.03341342 train_mae: 0.13540110\u001b[0m\n",
      "\u001b[34mepoch: 130 train_mse: 0.03385887 train_mae: 0.13466993\u001b[0m\n",
      "\u001b[34mepoch: 131 train_mse: 0.03464856 train_mae: 0.13763665\u001b[0m\n",
      "\u001b[34mepoch: 132 train_mse: 0.03254106 train_mae: 0.13294242\u001b[0m\n",
      "\u001b[34mepoch: 133 train_mse: 0.03234471 train_mae: 0.13195765\u001b[0m\n",
      "\u001b[34mepoch: 134 train_mse: 0.03181555 train_mae: 0.13137718\u001b[0m\n",
      "\u001b[34mepoch: 135 train_mse: 0.03204523 train_mae: 0.13178076\u001b[0m\n",
      "\u001b[34mepoch: 136 train_mse: 0.03271484 train_mae: 0.13077344\u001b[0m\n",
      "\u001b[34mepoch: 137 train_mse: 0.03233252 train_mae: 0.13189554\u001b[0m\n",
      "\u001b[34mepoch: 138 train_mse: 0.03079948 train_mae: 0.12765084\u001b[0m\n",
      "\u001b[34mepoch: 139 train_mse: 0.03024722 train_mae: 0.12714581\u001b[0m\n",
      "\u001b[34mepoch: 140 train_mse: 0.03037628 train_mae: 0.12675977\u001b[0m\n",
      "\u001b[34mepoch: 141 train_mse: 0.03001900 train_mae: 0.12671198\u001b[0m\n",
      "\u001b[34mepoch: 142 train_mse: 0.03013418 train_mae: 0.12702234\u001b[0m\n",
      "\u001b[34mepoch: 143 train_mse: 0.02953193 train_mae: 0.12432037\u001b[0m\n",
      "\u001b[34mepoch: 144 train_mse: 0.02923899 train_mae: 0.12474654\u001b[0m\n",
      "\u001b[34mepoch: 145 train_mse: 0.02887091 train_mae: 0.12321097\u001b[0m\n",
      "\u001b[34mepoch: 146 train_mse: 0.02854736 train_mae: 0.12244079\u001b[0m\n",
      "\u001b[34mepoch: 147 train_mse: 0.02848584 train_mae: 0.12260972\u001b[0m\n",
      "\u001b[34mepoch: 148 train_mse: 0.02812030 train_mae: 0.12172102\u001b[0m\n",
      "\u001b[34mepoch: 149 train_mse: 0.02785834 train_mae: 0.12048667\u001b[0m\n",
      "\u001b[34mepoch: 150 train_mse: 0.02889085 train_mae: 0.12157603\u001b[0m\n",
      "\u001b[34mepoch: 151 train_mse: 0.02732516 train_mae: 0.11968523\u001b[0m\n",
      "\u001b[34mepoch: 152 train_mse: 0.02717153 train_mae: 0.11893492\u001b[0m\n",
      "\u001b[34mepoch: 153 train_mse: 0.02864609 train_mae: 0.11996748\u001b[0m\n",
      "\u001b[34mepoch: 154 train_mse: 0.02799144 train_mae: 0.12004616\u001b[0m\n",
      "\u001b[34mepoch: 155 train_mse: 0.02734205 train_mae: 0.11811925\u001b[0m\n",
      "\u001b[34mepoch: 156 train_mse: 0.02715491 train_mae: 0.11706348\u001b[0m\n",
      "\u001b[34mepoch: 157 train_mse: 0.02680006 train_mae: 0.11731436\u001b[0m\n",
      "\u001b[34mepoch: 158 train_mse: 0.02625132 train_mae: 0.11587971\u001b[0m\n",
      "\u001b[34mepoch: 159 train_mse: 0.02783702 train_mae: 0.11739546\u001b[0m\n",
      "\u001b[34mepoch: 160 train_mse: 0.02725298 train_mae: 0.11719485\u001b[0m\n",
      "\u001b[34mepoch: 161 train_mse: 0.02580935 train_mae: 0.11453589\u001b[0m\n",
      "\u001b[34mepoch: 162 train_mse: 0.02647978 train_mae: 0.11511613\u001b[0m\n",
      "\u001b[34mepoch: 163 train_mse: 0.02655218 train_mae: 0.11588816\u001b[0m\n",
      "\u001b[34mepoch: 164 train_mse: 0.02568607 train_mae: 0.11429144\u001b[0m\n",
      "\u001b[34mepoch: 165 train_mse: 0.02691985 train_mae: 0.11479574\u001b[0m\n",
      "\u001b[34mepoch: 166 train_mse: 0.02511774 train_mae: 0.11225885\u001b[0m\n",
      "\u001b[34mepoch: 167 train_mse: 0.02532184 train_mae: 0.11264881\u001b[0m\n",
      "\u001b[34mepoch: 168 train_mse: 0.02446690 train_mae: 0.11081702\u001b[0m\n",
      "\u001b[34mepoch: 169 train_mse: 0.02845993 train_mae: 0.11626674\u001b[0m\n",
      "\u001b[34mepoch: 170 train_mse: 0.02764716 train_mae: 0.11679188\u001b[0m\n",
      "\u001b[34mepoch: 171 train_mse: 0.02532675 train_mae: 0.11073763\u001b[0m\n",
      "\u001b[34mepoch: 172 train_mse: 0.02525903 train_mae: 0.11184824\u001b[0m\n",
      "\u001b[34mepoch: 173 train_mse: 0.02436683 train_mae: 0.11023819\u001b[0m\n",
      "\u001b[34mepoch: 174 train_mse: 0.02627938 train_mae: 0.11206523\u001b[0m\n",
      "\u001b[34mepoch: 175 train_mse: 0.02775376 train_mae: 0.11569999\u001b[0m\n",
      "\u001b[34mepoch: 176 train_mse: 0.02397620 train_mae: 0.10788677\u001b[0m\n",
      "\u001b[34mepoch: 177 train_mse: 0.02399023 train_mae: 0.10811862\u001b[0m\n",
      "\u001b[34mepoch: 178 train_mse: 0.02345285 train_mae: 0.10733370\u001b[0m\n",
      "\u001b[34mepoch: 179 train_mse: 0.02325170 train_mae: 0.10672773\u001b[0m\n",
      "\u001b[34mepoch: 180 train_mse: 0.02297742 train_mae: 0.10625682\u001b[0m\n",
      "\u001b[34mepoch: 181 train_mse: 0.02297110 train_mae: 0.10635959\u001b[0m\n",
      "\u001b[34mepoch: 182 train_mse: 0.02441639 train_mae: 0.10767259\u001b[0m\n",
      "\u001b[34mepoch: 183 train_mse: 0.02465287 train_mae: 0.10921028\u001b[0m\n",
      "\u001b[34mepoch: 184 train_mse: 0.02444056 train_mae: 0.10725559\u001b[0m\n",
      "\u001b[34mepoch: 185 train_mse: 0.02274075 train_mae: 0.10557482\u001b[0m\n",
      "\u001b[34mepoch: 186 train_mse: 0.02244929 train_mae: 0.10459904\u001b[0m\n",
      "\u001b[34mepoch: 187 train_mse: 0.02246925 train_mae: 0.10522383\u001b[0m\n",
      "\u001b[34mepoch: 188 train_mse: 0.02263211 train_mae: 0.10526779\u001b[0m\n",
      "\u001b[34mepoch: 189 train_mse: 0.02337057 train_mae: 0.10573999\u001b[0m\n",
      "\u001b[34mepoch: 190 train_mse: 0.02251424 train_mae: 0.10506854\u001b[0m\n",
      "\u001b[34mepoch: 191 train_mse: 0.02241776 train_mae: 0.10375811\u001b[0m\n",
      "\u001b[34mepoch: 192 train_mse: 0.02179404 train_mae: 0.10292156\u001b[0m\n",
      "\u001b[34mepoch: 193 train_mse: 0.02205625 train_mae: 0.10359129\u001b[0m\n",
      "\u001b[34mepoch: 194 train_mse: 0.02214377 train_mae: 0.10340931\u001b[0m\n",
      "\u001b[34mepoch: 195 train_mse: 0.02397884 train_mae: 0.10508307\u001b[0m\n",
      "\u001b[34mepoch: 196 train_mse: 0.02285003 train_mae: 0.10514683\u001b[0m\n",
      "\u001b[34mepoch: 197 train_mse: 0.02144931 train_mae: 0.10173409\u001b[0m\n",
      "\u001b[34mepoch: 198 train_mse: 0.02140372 train_mae: 0.10119619\u001b[0m\n",
      "\u001b[34mepoch: 199 train_mse: 0.02175771 train_mae: 0.10237671\u001b[0m\n",
      "\u001b[34mepoch: 200 train_mse: 0.02219467 train_mae: 0.10200370\u001b[0m\n",
      "\u001b[34m--------------------------------------\u001b[0m\n",
      "\u001b[34mScoring the model.\u001b[0m\n",
      "\u001b[34mtrain:mse 0.02219467\u001b[0m\n",
      "\u001b[34mtrain:mae 0.10200370\u001b[0m\n",
      "\u001b[34m--------------------------------------\u001b[0m\n",
      "\u001b[34m2023-12-10 18:48:14,190 sagemaker-training-toolkit INFO     Waiting for the process to finish and give a return code.\u001b[0m\n",
      "\u001b[34m2023-12-10 18:48:14,190 sagemaker-training-toolkit INFO     Done waiting for a return code. Received 0 from exiting process.\u001b[0m\n",
      "\u001b[34m2023-12-10 18:48:14,191 sagemaker-training-toolkit INFO     Reporting training SUCCESS\u001b[0m\n",
      "\n",
      "2023-12-10 18:48:30 Uploading - Uploading generated training model\n",
      "2023-12-10 18:48:30 Completed - Training job completed\n",
      "Training seconds: 247\n",
      "Billable seconds: 247\n"
     ]
    }
   ],
   "source": [
    "estimator = sagemaker.algorithm.AlgorithmEstimator(\n",
    "    algorithm_arn=algo_arn,\n",
    "    role=role,\n",
    "    instance_count=1,\n",
    "    instance_type=instance_type,\n",
    "    input_mode=\"File\",\n",
    "    sagemaker_session=sagemaker_session,\n",
    "    hyperparameters={\n",
    "        \"sequence-length\": 30,\n",
    "        \"sequence-stride\": 30,\n",
    "        \"hidden-size\": 64,\n",
    "        \"lr\": 0.0001,\n",
    "        \"batch-size\": 16,\n",
    "        \"epochs\": 200,\n",
    "    },\n",
    ")\n",
    "\n",
    "estimator.fit({\"training\": training_data})"
   ]
  },
  {
   "cell_type": "markdown",
   "id": "929a3d35-a4ba-4a39-a7b0-8dbd4f9c2601",
   "metadata": {},
   "source": [
    "### 4. Inference"
   ]
  },
  {
   "cell_type": "markdown",
   "id": "8aecf50e-4c75-4273-a6c3-ce7004a8220b",
   "metadata": {},
   "source": [
    "Generate the test set reconstructions."
   ]
  },
  {
   "cell_type": "code",
   "execution_count": 18,
   "id": "a4657c35-0687-413a-829c-a028e6a9e9d7",
   "metadata": {
    "tags": []
   },
   "outputs": [
    {
     "name": "stderr",
     "output_type": "stream",
     "text": [
      "INFO:sagemaker:Creating model package with name: lstm-ae-v1-4-2023-12-10-18-48-59-476\n"
     ]
    },
    {
     "name": "stdout",
     "output_type": "stream",
     "text": [
      "........."
     ]
    },
    {
     "name": "stderr",
     "output_type": "stream",
     "text": [
      "INFO:sagemaker:Creating model with name: lstm-ae-v1-4-2023-12-10-18-48-59-476-2023-12-10-18-49-44-888\n"
     ]
    },
    {
     "name": "stdout",
     "output_type": "stream",
     "text": [
      "\n"
     ]
    },
    {
     "name": "stderr",
     "output_type": "stream",
     "text": [
      "INFO:sagemaker:Creating transform job with name: lstm-ae-v1-4-2023-12-10-18-49-45-540\n"
     ]
    },
    {
     "name": "stdout",
     "output_type": "stream",
     "text": [
      "............................................\u001b[34mWarning: TorchServe is using non-default JVM parameters: -XX:-UseContainerSupport\u001b[0m\n",
      "\u001b[34mWARNING: sun.reflect.Reflection.getCallerClass is not supported. This will impact performance.\u001b[0m\n",
      "\u001b[34m2023-12-10T18:57:10,433 [WARN ] main org.pytorch.serve.util.ConfigManager - Your torchserve instance can access any URL to load models. When deploying to production, make sure to limit the set of allowed_urls in config.properties\u001b[0m\n",
      "\u001b[34m2023-12-10T18:57:10,435 [INFO ] main org.pytorch.serve.servingsdk.impl.PluginsManager - Initializing plugins manager...\u001b[0m\n",
      "\u001b[34m2023-12-10T18:57:10,492 [INFO ] main org.pytorch.serve.metrics.configuration.MetricConfiguration - Successfully loaded metrics configuration from /opt/conda/lib/python3.10/site-packages/ts/configs/metrics.yaml\u001b[0m\n",
      "\u001b[34m2023-12-10T18:57:10,585 [INFO ] main org.pytorch.serve.ModelServer - \u001b[0m\n",
      "\u001b[34mTorchserve version: 0.8.2\u001b[0m\n",
      "\u001b[34mTS Home: /opt/conda/lib/python3.10/site-packages\u001b[0m\n",
      "\u001b[34mCurrent directory: /\u001b[0m\n",
      "\u001b[34mTemp directory: /home/model-server/tmp\u001b[0m\n",
      "\u001b[34mMetrics config path: /opt/conda/lib/python3.10/site-packages/ts/configs/metrics.yaml\u001b[0m\n",
      "\u001b[34mNumber of GPUs: 0\u001b[0m\n",
      "\u001b[34mNumber of CPUs: 8\u001b[0m\n",
      "\u001b[34mMax heap size: 7840 M\u001b[0m\n",
      "\u001b[34mPython executable: /opt/conda/bin/python3.10\u001b[0m\n",
      "\u001b[34mConfig file: /etc/sagemaker-ts.properties\u001b[0m\n",
      "\u001b[34mInference address: http://0.0.0.0:8080\u001b[0m\n",
      "\u001b[34mManagement address: http://0.0.0.0:8080\u001b[0m\n",
      "\u001b[34mMetrics address: http://127.0.0.1:8082\u001b[0m\n",
      "\u001b[34mModel Store: /.sagemaker/ts/models\u001b[0m\n",
      "\u001b[34mInitial Models: model=/opt/ml/model\u001b[0m\n",
      "\u001b[34mLog dir: /logs\u001b[0m\n",
      "\u001b[34mMetrics dir: /logs\u001b[0m\n",
      "\u001b[34mNetty threads: 0\u001b[0m\n",
      "\u001b[34mNetty client threads: 0\u001b[0m\n",
      "\u001b[34mDefault workers per model: 8\u001b[0m\n",
      "\u001b[34mBlacklist Regex: N/A\u001b[0m\n",
      "\u001b[34mMaximum Response Size: 6553500\u001b[0m\n",
      "\u001b[34mMaximum Request Size: 6553500\u001b[0m\n",
      "\u001b[34mLimit Maximum Image Pixels: true\u001b[0m\n",
      "\u001b[34mPrefer direct buffer: false\u001b[0m\n",
      "\u001b[34mAllowed Urls: [file://.*|http(s)?://.*]\u001b[0m\n",
      "\u001b[34mCustom python dependency for model allowed: false\u001b[0m\n",
      "\u001b[34mEnable metrics API: true\u001b[0m\n",
      "\u001b[34mMetrics mode: log\u001b[0m\n",
      "\u001b[34mDisable system metrics: true\u001b[0m\n",
      "\u001b[34mWorkflow Store: /.sagemaker/ts/models\u001b[0m\n",
      "\u001b[34mModel config: N/A\u001b[0m\n",
      "\u001b[34m2023-12-10T18:57:10,591 [INFO ] main org.pytorch.serve.servingsdk.impl.PluginsManager -  Loading snapshot serializer plugin...\u001b[0m\n",
      "\u001b[34m2023-12-10T18:57:10,610 [INFO ] main org.pytorch.serve.ModelServer - Loading initial models: /opt/ml/model\u001b[0m\n",
      "\u001b[34m2023-12-10T18:57:10,614 [WARN ] main org.pytorch.serve.archive.model.ModelArchive - Model archive version is not defined. Please upgrade to torch-model-archiver 0.2.0 or higher\u001b[0m\n",
      "\u001b[34m2023-12-10T18:57:10,615 [WARN ] main org.pytorch.serve.archive.model.ModelArchive - Model archive createdOn is not defined. Please upgrade to torch-model-archiver 0.2.0 or higher\u001b[0m\n",
      "\u001b[34m2023-12-10T18:57:10,618 [INFO ] main org.pytorch.serve.wlm.ModelManager - Model model loaded.\u001b[0m\n",
      "\u001b[34m2023-12-10T18:57:10,632 [INFO ] main org.pytorch.serve.ModelServer - Initialize Inference server with: EpollServerSocketChannel.\u001b[0m\n",
      "\u001b[34m2023-12-10T18:57:10,913 [INFO ] main org.pytorch.serve.ModelServer - Inference API bind to: http://0.0.0.0:8080\u001b[0m\n",
      "\u001b[34m2023-12-10T18:57:10,913 [INFO ] main org.pytorch.serve.ModelServer - Initialize Metrics server with: EpollServerSocketChannel.\u001b[0m\n",
      "\u001b[34m2023-12-10T18:57:10,960 [INFO ] main org.pytorch.serve.ModelServer - Metrics API bind to: http://127.0.0.1:8082\u001b[0m\n",
      "\u001b[34mModel server started.\u001b[0m\n",
      "\u001b[34m2023-12-10T18:57:13,405 [INFO ] W-9002-model_1.0-stdout MODEL_LOG - s_name_part0=/home/model-server/tmp/.ts.sock, s_name_part1=9002, pid=62\u001b[0m\n",
      "\u001b[34m2023-12-10T18:57:13,406 [INFO ] W-9002-model_1.0-stdout MODEL_LOG - Listening on port: /home/model-server/tmp/.ts.sock.9002\u001b[0m\n",
      "\u001b[34m2023-12-10T18:57:13,405 [INFO ] W-9001-model_1.0-stdout MODEL_LOG - s_name_part0=/home/model-server/tmp/.ts.sock, s_name_part1=9001, pid=64\u001b[0m\n",
      "\u001b[34m2023-12-10T18:57:13,407 [INFO ] W-9001-model_1.0-stdout MODEL_LOG - Listening on port: /home/model-server/tmp/.ts.sock.9001\u001b[0m\n",
      "\u001b[34m2023-12-10T18:57:13,413 [INFO ] W-9005-model_1.0-stdout MODEL_LOG - s_name_part0=/home/model-server/tmp/.ts.sock, s_name_part1=9005, pid=66\u001b[0m\n",
      "\u001b[34m2023-12-10T18:57:13,414 [INFO ] W-9005-model_1.0-stdout MODEL_LOG - Listening on port: /home/model-server/tmp/.ts.sock.9005\u001b[0m\n",
      "\u001b[34m2023-12-10T18:57:13,455 [INFO ] W-9000-model_1.0-stdout MODEL_LOG - s_name_part0=/home/model-server/tmp/.ts.sock, s_name_part1=9000, pid=65\u001b[0m\n",
      "\u001b[34m2023-12-10T18:57:13,456 [INFO ] W-9000-model_1.0-stdout MODEL_LOG - Listening on port: /home/model-server/tmp/.ts.sock.9000\u001b[0m\n",
      "\u001b[34m2023-12-10T18:57:13,473 [INFO ] W-9006-model_1.0-stdout MODEL_LOG - s_name_part0=/home/model-server/tmp/.ts.sock, s_name_part1=9006, pid=68\u001b[0m\n",
      "\u001b[34m2023-12-10T18:57:13,473 [INFO ] W-9006-model_1.0-stdout MODEL_LOG - Listening on port: /home/model-server/tmp/.ts.sock.9006\u001b[0m\n",
      "\u001b[34m2023-12-10T18:57:13,472 [INFO ] W-9004-model_1.0-stdout MODEL_LOG - s_name_part0=/home/model-server/tmp/.ts.sock, s_name_part1=9004, pid=63\u001b[0m\n",
      "\u001b[34m2023-12-10T18:57:13,474 [INFO ] W-9004-model_1.0-stdout MODEL_LOG - Listening on port: /home/model-server/tmp/.ts.sock.9004\u001b[0m\n",
      "\u001b[34m2023-12-10T18:57:13,491 [INFO ] W-9001-model_1.0-stdout MODEL_LOG - Successfully loaded /opt/conda/lib/python3.10/site-packages/ts/configs/metrics.yaml.\u001b[0m\n",
      "\u001b[34m2023-12-10T18:57:13,492 [INFO ] W-9001-model_1.0-stdout MODEL_LOG - [PID]64\u001b[0m\n",
      "\u001b[34m2023-12-10T18:57:13,492 [INFO ] W-9001-model_1.0-stdout MODEL_LOG - Torch worker started.\u001b[0m\n",
      "\u001b[34m2023-12-10T18:57:13,494 [INFO ] W-9002-model_1.0-stdout MODEL_LOG - Successfully loaded /opt/conda/lib/python3.10/site-packages/ts/configs/metrics.yaml.\u001b[0m\n",
      "\u001b[34m2023-12-10T18:57:13,498 [INFO ] W-9001-model_1.0 org.pytorch.serve.wlm.WorkerThread - Connecting to: /home/model-server/tmp/.ts.sock.9001\u001b[0m\n",
      "\u001b[34m2023-12-10T18:57:13,499 [INFO ] W-9007-model_1.0-stdout MODEL_LOG - s_name_part0=/home/model-server/tmp/.ts.sock, s_name_part1=9007, pid=69\u001b[0m\n",
      "\u001b[34m2023-12-10T18:57:13,500 [INFO ] W-9007-model_1.0-stdout MODEL_LOG - Listening on port: /home/model-server/tmp/.ts.sock.9007\u001b[0m\n",
      "\u001b[34m2023-12-10T18:57:13,502 [INFO ] W-9001-model_1.0-stdout MODEL_LOG - Python runtime: 3.10.9\u001b[0m\n",
      "\u001b[34m2023-12-10T18:57:13,503 [INFO ] W-9005-model_1.0-stdout MODEL_LOG - Successfully loaded /opt/conda/lib/python3.10/site-packages/ts/configs/metrics.yaml.\u001b[0m\n",
      "\u001b[34m2023-12-10T18:57:13,508 [INFO ] W-9002-model_1.0-stdout MODEL_LOG - [PID]62\u001b[0m\n",
      "\u001b[34m2023-12-10T18:57:13,508 [INFO ] W-9002-model_1.0-stdout MODEL_LOG - Torch worker started.\u001b[0m\n",
      "\u001b[34m2023-12-10T18:57:13,509 [INFO ] W-9002-model_1.0-stdout MODEL_LOG - Python runtime: 3.10.9\u001b[0m\n",
      "\u001b[34m2023-12-10T18:57:13,509 [INFO ] W-9005-model_1.0-stdout MODEL_LOG - [PID]66\u001b[0m\n",
      "\u001b[34m2023-12-10T18:57:13,509 [INFO ] W-9005-model_1.0-stdout MODEL_LOG - Torch worker started.\u001b[0m\n",
      "\u001b[34m2023-12-10T18:57:13,509 [INFO ] W-9002-model_1.0 org.pytorch.serve.wlm.WorkerThread - Connecting to: /home/model-server/tmp/.ts.sock.9002\u001b[0m\n",
      "\u001b[34m2023-12-10T18:57:13,510 [INFO ] W-9005-model_1.0 org.pytorch.serve.wlm.WorkerThread - Connecting to: /home/model-server/tmp/.ts.sock.9005\u001b[0m\n",
      "\u001b[34m2023-12-10T18:57:13,510 [INFO ] W-9005-model_1.0-stdout MODEL_LOG - Python runtime: 3.10.9\u001b[0m\n",
      "\u001b[34m2023-12-10T18:57:13,523 [INFO ] W-9001-model_1.0-stdout MODEL_LOG - Connection accepted: /home/model-server/tmp/.ts.sock.9001.\u001b[0m\n",
      "\u001b[34m2023-12-10T18:57:13,525 [INFO ] W-9005-model_1.0-stdout MODEL_LOG - Connection accepted: /home/model-server/tmp/.ts.sock.9005.\u001b[0m\n",
      "\u001b[34m2023-12-10T18:57:13,526 [INFO ] W-9005-model_1.0 org.pytorch.serve.wlm.WorkerThread - Flushing req.cmd LOAD to backend at: 1702234633526\u001b[0m\n",
      "\u001b[34m2023-12-10T18:57:13,541 [INFO ] W-9002-model_1.0-stdout MODEL_LOG - Connection accepted: /home/model-server/tmp/.ts.sock.9002.\u001b[0m\n",
      "\u001b[34m2023-12-10T18:57:13,554 [INFO ] W-9001-model_1.0 org.pytorch.serve.wlm.WorkerThread - Flushing req.cmd LOAD to backend at: 1702234633554\u001b[0m\n",
      "\u001b[34m2023-12-10T18:57:13,554 [INFO ] W-9002-model_1.0 org.pytorch.serve.wlm.WorkerThread - Flushing req.cmd LOAD to backend at: 1702234633554\u001b[0m\n",
      "\u001b[34m2023-12-10T18:57:13,607 [INFO ] W-9002-model_1.0-stdout MODEL_LOG - model_name: model, batchSize: 1\u001b[0m\n",
      "\u001b[34m2023-12-10T18:57:13,611 [INFO ] W-9005-model_1.0-stdout MODEL_LOG - model_name: model, batchSize: 1\u001b[0m\n",
      "\u001b[34m2023-12-10T18:57:13,615 [INFO ] W-9001-model_1.0-stdout MODEL_LOG - model_name: model, batchSize: 1\u001b[0m\n",
      "\u001b[34m2023-12-10T18:57:13,630 [INFO ] W-9007-model_1.0-stdout MODEL_LOG - Successfully loaded /opt/conda/lib/python3.10/site-packages/ts/configs/metrics.yaml.\u001b[0m\n",
      "\u001b[34m2023-12-10T18:57:13,631 [INFO ] W-9007-model_1.0-stdout MODEL_LOG - [PID]69\u001b[0m\n",
      "\u001b[34m2023-12-10T18:57:13,631 [INFO ] W-9007-model_1.0-stdout MODEL_LOG - Torch worker started.\u001b[0m\n",
      "\u001b[34m2023-12-10T18:57:13,631 [INFO ] W-9007-model_1.0 org.pytorch.serve.wlm.WorkerThread - Connecting to: /home/model-server/tmp/.ts.sock.9007\u001b[0m\n",
      "\u001b[34m2023-12-10T18:57:13,633 [INFO ] W-9007-model_1.0-stdout MODEL_LOG - Python runtime: 3.10.9\u001b[0m\n",
      "\u001b[34m2023-12-10T18:57:13,641 [INFO ] W-9000-model_1.0-stdout MODEL_LOG - Successfully loaded /opt/conda/lib/python3.10/site-packages/ts/configs/metrics.yaml.\u001b[0m\n",
      "\u001b[34m2023-12-10T18:57:13,641 [INFO ] W-9000-model_1.0-stdout MODEL_LOG - [PID]65\u001b[0m\n",
      "\u001b[34m2023-12-10T18:57:13,642 [INFO ] W-9000-model_1.0-stdout MODEL_LOG - Torch worker started.\u001b[0m\n",
      "\u001b[34m2023-12-10T18:57:13,643 [INFO ] W-9000-model_1.0-stdout MODEL_LOG - Python runtime: 3.10.9\u001b[0m\n",
      "\u001b[34m2023-12-10T18:57:13,642 [INFO ] W-9000-model_1.0 org.pytorch.serve.wlm.WorkerThread - Connecting to: /home/model-server/tmp/.ts.sock.9000\u001b[0m\n",
      "\u001b[34m2023-12-10T18:57:13,647 [INFO ] W-9006-model_1.0-stdout MODEL_LOG - Successfully loaded /opt/conda/lib/python3.10/site-packages/ts/configs/metrics.yaml.\u001b[0m\n",
      "\u001b[34m2023-12-10T18:57:13,651 [INFO ] W-9004-model_1.0-stdout MODEL_LOG - Successfully loaded /opt/conda/lib/python3.10/site-packages/ts/configs/metrics.yaml.\u001b[0m\n",
      "\u001b[34m2023-12-10T18:57:13,651 [INFO ] W-9006-model_1.0-stdout MODEL_LOG - [PID]68\u001b[0m\n",
      "\u001b[34m2023-12-10T18:57:13,652 [INFO ] W-9006-model_1.0-stdout MODEL_LOG - Torch worker started.\u001b[0m\n",
      "\u001b[34m2023-12-10T18:57:13,652 [INFO ] W-9006-model_1.0 org.pytorch.serve.wlm.WorkerThread - Connecting to: /home/model-server/tmp/.ts.sock.9006\u001b[0m\n",
      "\u001b[34m2023-12-10T18:57:13,653 [INFO ] W-9006-model_1.0-stdout MODEL_LOG - Python runtime: 3.10.9\u001b[0m\n",
      "\u001b[34m2023-12-10T18:57:13,660 [INFO ] W-9007-model_1.0-stdout MODEL_LOG - Connection accepted: /home/model-server/tmp/.ts.sock.9007.\u001b[0m\n",
      "\u001b[34m2023-12-10T18:57:13,661 [INFO ] W-9007-model_1.0 org.pytorch.serve.wlm.WorkerThread - Flushing req.cmd LOAD to backend at: 1702234633661\u001b[0m\n",
      "\u001b[34m2023-12-10T18:57:13,661 [INFO ] W-9004-model_1.0-stdout MODEL_LOG - [PID]63\u001b[0m\n",
      "\u001b[34m2023-12-10T18:57:13,668 [INFO ] W-9004-model_1.0-stdout MODEL_LOG - Torch worker started.\u001b[0m\n",
      "\u001b[34m2023-12-10T18:57:13,668 [INFO ] W-9004-model_1.0 org.pytorch.serve.wlm.WorkerThread - Connecting to: /home/model-server/tmp/.ts.sock.9004\u001b[0m\n",
      "\u001b[34m2023-12-10T18:57:13,669 [INFO ] W-9004-model_1.0-stdout MODEL_LOG - Python runtime: 3.10.9\u001b[0m\n",
      "\u001b[34m2023-12-10T18:57:13,679 [INFO ] W-9000-model_1.0 org.pytorch.serve.wlm.WorkerThread - Flushing req.cmd LOAD to backend at: 1702234633679\u001b[0m\n",
      "\u001b[34m2023-12-10T18:57:13,680 [INFO ] W-9000-model_1.0-stdout MODEL_LOG - Connection accepted: /home/model-server/tmp/.ts.sock.9000.\u001b[0m\n",
      "\u001b[34m2023-12-10T18:57:13,700 [INFO ] W-9006-model_1.0-stdout MODEL_LOG - Connection accepted: /home/model-server/tmp/.ts.sock.9006.\u001b[0m\n",
      "\u001b[34m2023-12-10T18:57:13,701 [INFO ] W-9006-model_1.0 org.pytorch.serve.wlm.WorkerThread - Flushing req.cmd LOAD to backend at: 1702234633701\u001b[0m\n",
      "\u001b[34m2023-12-10T18:57:13,714 [INFO ] W-9004-model_1.0-stdout MODEL_LOG - Connection accepted: /home/model-server/tmp/.ts.sock.9004.\u001b[0m\n",
      "\u001b[34m2023-12-10T18:57:13,720 [INFO ] W-9004-model_1.0 org.pytorch.serve.wlm.WorkerThread - Flushing req.cmd LOAD to backend at: 1702234633720\u001b[0m\n",
      "\u001b[34m2023-12-10T18:57:13,739 [INFO ] W-9007-model_1.0-stdout MODEL_LOG - model_name: model, batchSize: 1\u001b[0m\n",
      "\u001b[34m2023-12-10T18:57:13,799 [INFO ] W-9003-model_1.0-stdout MODEL_LOG - s_name_part0=/home/model-server/tmp/.ts.sock, s_name_part1=9003, pid=67\u001b[0m\n",
      "\u001b[34m2023-12-10T18:57:13,803 [INFO ] W-9000-model_1.0-stdout MODEL_LOG - model_name: model, batchSize: 1\u001b[0m\n",
      "\u001b[34m2023-12-10T18:57:13,807 [INFO ] W-9003-model_1.0-stdout MODEL_LOG - Listening on port: /home/model-server/tmp/.ts.sock.9003\u001b[0m\n",
      "\u001b[34m2023-12-10T18:57:13,823 [INFO ] W-9006-model_1.0-stdout MODEL_LOG - model_name: model, batchSize: 1\u001b[0m\n",
      "\u001b[34m2023-12-10T18:57:13,831 [INFO ] W-9004-model_1.0-stdout MODEL_LOG - model_name: model, batchSize: 1\u001b[0m\n",
      "\u001b[34m2023-12-10T18:57:14,118 [INFO ] W-9003-model_1.0-stdout MODEL_LOG - Successfully loaded /opt/conda/lib/python3.10/site-packages/ts/configs/metrics.yaml.\u001b[0m\n",
      "\u001b[34m2023-12-10T18:57:14,135 [INFO ] W-9003-model_1.0-stdout MODEL_LOG - [PID]67\u001b[0m\n",
      "\u001b[34m2023-12-10T18:57:14,135 [INFO ] W-9003-model_1.0-stdout MODEL_LOG - Torch worker started.\u001b[0m\n",
      "\u001b[34m2023-12-10T18:57:14,136 [INFO ] W-9003-model_1.0-stdout MODEL_LOG - Python runtime: 3.10.9\u001b[0m\n",
      "\u001b[34m2023-12-10T18:57:14,135 [INFO ] W-9003-model_1.0 org.pytorch.serve.wlm.WorkerThread - Connecting to: /home/model-server/tmp/.ts.sock.9003\u001b[0m\n",
      "\u001b[34m2023-12-10T18:57:14,137 [INFO ] W-9003-model_1.0-stdout MODEL_LOG - Connection accepted: /home/model-server/tmp/.ts.sock.9003.\u001b[0m\n",
      "\u001b[34m2023-12-10T18:57:14,141 [INFO ] W-9003-model_1.0 org.pytorch.serve.wlm.WorkerThread - Flushing req.cmd LOAD to backend at: 1702234634141\u001b[0m\n",
      "\u001b[34m2023-12-10T18:57:14,195 [INFO ] W-9003-model_1.0-stdout MODEL_LOG - model_name: model, batchSize: 1\u001b[0m\n",
      "\u001b[34m2023-12-10T18:57:14,415 [INFO ] W-9005-model_1.0 org.pytorch.serve.wlm.WorkerThread - Backend response time: 813\u001b[0m\n",
      "\u001b[34m2023-12-10T18:57:14,415 [INFO ] W-9002-model_1.0 org.pytorch.serve.wlm.WorkerThread - Backend response time: 817\u001b[0m\n",
      "\u001b[34m2023-12-10T18:57:14,417 [INFO ] W-9005-model_1.0 TS_METRICS - WorkerLoadTime.Milliseconds:3788.0|#WorkerName:W-9005-model_1.0,Level:Host|#hostname:4bee07aeb82d,timestamp:1702234634\u001b[0m\n",
      "\u001b[34m2023-12-10T18:57:14,418 [INFO ] W-9005-model_1.0 TS_METRICS - WorkerThreadTime.Milliseconds:79.0|#Level:Host|#hostname:4bee07aeb82d,timestamp:1702234634\u001b[0m\n",
      "\u001b[34m2023-12-10T18:57:14,417 [INFO ] W-9002-model_1.0 TS_METRICS - WorkerLoadTime.Milliseconds:3788.0|#WorkerName:W-9002-model_1.0,Level:Host|#hostname:4bee07aeb82d,timestamp:1702234634\u001b[0m\n",
      "\u001b[34m2023-12-10T18:57:14,418 [INFO ] W-9001-model_1.0 org.pytorch.serve.wlm.WorkerThread - Backend response time: 806\u001b[0m\n",
      "\u001b[34m2023-12-10T18:57:14,419 [INFO ] W-9001-model_1.0 TS_METRICS - WorkerLoadTime.Milliseconds:3792.0|#WorkerName:W-9001-model_1.0,Level:Host|#hostname:4bee07aeb82d,timestamp:1702234634\u001b[0m\n",
      "\u001b[34m2023-12-10T18:57:14,419 [INFO ] W-9001-model_1.0 TS_METRICS - WorkerThreadTime.Milliseconds:59.0|#Level:Host|#hostname:4bee07aeb82d,timestamp:1702234634\u001b[0m\n",
      "\u001b[34m2023-12-10T18:57:14,420 [INFO ] W-9002-model_1.0 TS_METRICS - WorkerThreadTime.Milliseconds:49.0|#Level:Host|#hostname:4bee07aeb82d,timestamp:1702234634\u001b[0m\n",
      "\u001b[34m2023-12-10T18:57:14,430 [INFO ] W-9006-model_1.0 org.pytorch.serve.wlm.WorkerThread - Backend response time: 601\u001b[0m\n",
      "\u001b[34m2023-12-10T18:57:14,431 [INFO ] W-9006-model_1.0 TS_METRICS - WorkerLoadTime.Milliseconds:3802.0|#WorkerName:W-9006-model_1.0,Level:Host|#hostname:4bee07aeb82d,timestamp:1702234634\u001b[0m\n",
      "\u001b[34m2023-12-10T18:57:14,431 [INFO ] W-9006-model_1.0 TS_METRICS - WorkerThreadTime.Milliseconds:129.0|#Level:Host|#hostname:4bee07aeb82d,timestamp:1702234634\u001b[0m\n",
      "\u001b[34m2023-12-10T18:57:14,473 [INFO ] W-9004-model_1.0 org.pytorch.serve.wlm.WorkerThread - Backend response time: 630\u001b[0m\n",
      "\u001b[34m2023-12-10T18:57:14,473 [INFO ] W-9000-model_1.0 org.pytorch.serve.wlm.WorkerThread - Backend response time: 678\u001b[0m\n",
      "\u001b[34m2023-12-10T18:57:14,474 [INFO ] W-9000-model_1.0 TS_METRICS - WorkerLoadTime.Milliseconds:3847.0|#WorkerName:W-9000-model_1.0,Level:Host|#hostname:4bee07aeb82d,timestamp:1702234634\u001b[0m\n",
      "\u001b[34m2023-12-10T18:57:14,473 [INFO ] W-9004-model_1.0 TS_METRICS - WorkerLoadTime.Milliseconds:3845.0|#WorkerName:W-9004-model_1.0,Level:Host|#hostname:4bee07aeb82d,timestamp:1702234634\u001b[0m\n",
      "\u001b[34m2023-12-10T18:57:14,474 [INFO ] W-9000-model_1.0 TS_METRICS - WorkerThreadTime.Milliseconds:117.0|#Level:Host|#hostname:4bee07aeb82d,timestamp:1702234634\u001b[0m\n",
      "\u001b[34m2023-12-10T18:57:14,474 [INFO ] W-9004-model_1.0 TS_METRICS - WorkerThreadTime.Milliseconds:124.0|#Level:Host|#hostname:4bee07aeb82d,timestamp:1702234634\u001b[0m\n",
      "\u001b[34m2023-12-10T18:57:14,481 [INFO ] W-9007-model_1.0 org.pytorch.serve.wlm.WorkerThread - Backend response time: 734\u001b[0m\n",
      "\u001b[34m2023-12-10T18:57:14,482 [INFO ] W-9007-model_1.0 TS_METRICS - WorkerLoadTime.Milliseconds:3852.0|#WorkerName:W-9007-model_1.0,Level:Host|#hostname:4bee07aeb82d,timestamp:1702234634\u001b[0m\n",
      "\u001b[34m2023-12-10T18:57:14,482 [INFO ] W-9007-model_1.0 TS_METRICS - WorkerThreadTime.Milliseconds:87.0|#Level:Host|#hostname:4bee07aeb82d,timestamp:1702234634\u001b[0m\n",
      "\u001b[34m2023-12-10T18:57:14,552 [INFO ] W-9003-model_1.0 org.pytorch.serve.wlm.WorkerThread - Backend response time: 348\u001b[0m\n",
      "\u001b[34m2023-12-10T18:57:14,552 [INFO ] W-9003-model_1.0 TS_METRICS - WorkerLoadTime.Milliseconds:3924.0|#WorkerName:W-9003-model_1.0,Level:Host|#hostname:4bee07aeb82d,timestamp:1702234634\u001b[0m\n",
      "\u001b[34m2023-12-10T18:57:14,553 [INFO ] W-9003-model_1.0 TS_METRICS - WorkerThreadTime.Milliseconds:64.0|#Level:Host|#hostname:4bee07aeb82d,timestamp:1702234634\u001b[0m\n",
      "\n",
      "\u001b[34m2023-12-10T18:57:15,931 [INFO ] pool-2-thread-9 ACCESS_LOG - /169.254.255.130:43628 \"GET /ping HTTP/1.1\" 200 9\u001b[0m\n",
      "\u001b[34m2023-12-10T18:57:15,932 [INFO ] pool-2-thread-9 TS_METRICS - Requests2XX.Count:1.0|#Level:Host|#hostname:4bee07aeb82d,timestamp:1702234635\u001b[0m\n",
      "\u001b[34m2023-12-10T18:57:15,948 [INFO ] epollEventLoopGroup-3-2 ACCESS_LOG - /169.254.255.130:43638 \"GET /execution-parameters HTTP/1.1\" 404 1\u001b[0m\n",
      "\u001b[34m2023-12-10T18:57:15,948 [INFO ] epollEventLoopGroup-3-2 TS_METRICS - Requests4XX.Count:1.0|#Level:Host|#hostname:4bee07aeb82d,timestamp:1702234635\u001b[0m\n",
      "\u001b[34m2023-12-10T18:57:16,031 [INFO ] epollEventLoopGroup-3-3 TS_METRICS - ts_inference_requests_total.Count:1.0|#model_name:model,model_version:default|#hostname:4bee07aeb82d,timestamp:1702234636\u001b[0m\n",
      "\u001b[34m2023-12-10T18:57:16,032 [INFO ] W-9001-model_1.0 org.pytorch.serve.wlm.WorkerThread - Flushing req.cmd PREDICT to backend at: 1702234636032\u001b[0m\n",
      "\u001b[34m2023-12-10T18:57:16,033 [INFO ] W-9001-model_1.0-stdout MODEL_LOG - Backend received inference at: 1702234636\u001b[0m\n",
      "\u001b[34m2023-12-10T18:57:16,099 [INFO ] W-9001-model_1.0-stdout org.pytorch.serve.wlm.WorkerLifeCycle - result=[METRICS]PredictionTime.Milliseconds:65.1|#ModelName:model,Level:Model|#hostname:4bee07aeb82d,1702234636,275f7278-6715-4838-81fb-0f0a3d00305b, pattern=[METRICS]\u001b[0m\n",
      "\u001b[34m2023-12-10T18:57:16,100 [INFO ] W-9001-model_1.0-stdout MODEL_METRICS - PredictionTime.ms:65.1|#ModelName:model,Level:Model|#hostname:4bee07aeb82d,requestID:275f7278-6715-4838-81fb-0f0a3d00305b,timestamp:1702234636\u001b[0m\n",
      "\u001b[34m2023-12-10T18:57:16,101 [INFO ] W-9001-model_1.0 ACCESS_LOG - /169.254.255.130:43650 \"POST /invocations HTTP/1.1\" 200 72\u001b[0m\n",
      "\u001b[34m2023-12-10T18:57:16,101 [INFO ] W-9001-model_1.0 TS_METRICS - Requests2XX.Count:1.0|#Level:Host|#hostname:4bee07aeb82d,timestamp:1702234636\u001b[0m\n",
      "\u001b[34m2023-12-10T18:57:16,102 [INFO ] W-9001-model_1.0 TS_METRICS - ts_inference_latency_microseconds.Microseconds:69452.657|#model_name:model,model_version:default|#hostname:4bee07aeb82d,timestamp:1702234636\u001b[0m\n",
      "\u001b[34m2023-12-10T18:57:16,103 [INFO ] W-9001-model_1.0 TS_METRICS - ts_queue_latency_microseconds.Microseconds:211.141|#model_name:model,model_version:default|#hostname:4bee07aeb82d,timestamp:1702234636\u001b[0m\n",
      "\u001b[34m2023-12-10T18:57:16,103 [INFO ] W-9001-model_1.0 TS_METRICS - QueueTime.Milliseconds:0.0|#Level:Host|#hostname:4bee07aeb82d,timestamp:1702234636\u001b[0m\n",
      "\u001b[34m2023-12-10T18:57:16,103 [INFO ] W-9001-model_1.0 org.pytorch.serve.wlm.WorkerThread - Backend response time: 68\u001b[0m\n",
      "\u001b[34m2023-12-10T18:57:16,104 [INFO ] W-9001-model_1.0 TS_METRICS - WorkerThreadTime.Milliseconds:4.0|#Level:Host|#hostname:4bee07aeb82d,timestamp:1702234636\u001b[0m\n",
      "\u001b[35m2023-12-10T18:57:15,931 [INFO ] pool-2-thread-9 ACCESS_LOG - /169.254.255.130:43628 \"GET /ping HTTP/1.1\" 200 9\u001b[0m\n",
      "\u001b[35m2023-12-10T18:57:15,932 [INFO ] pool-2-thread-9 TS_METRICS - Requests2XX.Count:1.0|#Level:Host|#hostname:4bee07aeb82d,timestamp:1702234635\u001b[0m\n",
      "\u001b[35m2023-12-10T18:57:15,948 [INFO ] epollEventLoopGroup-3-2 ACCESS_LOG - /169.254.255.130:43638 \"GET /execution-parameters HTTP/1.1\" 404 1\u001b[0m\n",
      "\u001b[35m2023-12-10T18:57:15,948 [INFO ] epollEventLoopGroup-3-2 TS_METRICS - Requests4XX.Count:1.0|#Level:Host|#hostname:4bee07aeb82d,timestamp:1702234635\u001b[0m\n",
      "\u001b[35m2023-12-10T18:57:16,031 [INFO ] epollEventLoopGroup-3-3 TS_METRICS - ts_inference_requests_total.Count:1.0|#model_name:model,model_version:default|#hostname:4bee07aeb82d,timestamp:1702234636\u001b[0m\n",
      "\u001b[35m2023-12-10T18:57:16,032 [INFO ] W-9001-model_1.0 org.pytorch.serve.wlm.WorkerThread - Flushing req.cmd PREDICT to backend at: 1702234636032\u001b[0m\n",
      "\u001b[35m2023-12-10T18:57:16,033 [INFO ] W-9001-model_1.0-stdout MODEL_LOG - Backend received inference at: 1702234636\u001b[0m\n",
      "\u001b[35m2023-12-10T18:57:16,099 [INFO ] W-9001-model_1.0-stdout org.pytorch.serve.wlm.WorkerLifeCycle - result=[METRICS]PredictionTime.Milliseconds:65.1|#ModelName:model,Level:Model|#hostname:4bee07aeb82d,1702234636,275f7278-6715-4838-81fb-0f0a3d00305b, pattern=[METRICS]\u001b[0m\n",
      "\u001b[35m2023-12-10T18:57:16,100 [INFO ] W-9001-model_1.0-stdout MODEL_METRICS - PredictionTime.ms:65.1|#ModelName:model,Level:Model|#hostname:4bee07aeb82d,requestID:275f7278-6715-4838-81fb-0f0a3d00305b,timestamp:1702234636\u001b[0m\n",
      "\u001b[35m2023-12-10T18:57:16,101 [INFO ] W-9001-model_1.0 ACCESS_LOG - /169.254.255.130:43650 \"POST /invocations HTTP/1.1\" 200 72\u001b[0m\n",
      "\u001b[35m2023-12-10T18:57:16,101 [INFO ] W-9001-model_1.0 TS_METRICS - Requests2XX.Count:1.0|#Level:Host|#hostname:4bee07aeb82d,timestamp:1702234636\u001b[0m\n",
      "\u001b[35m2023-12-10T18:57:16,102 [INFO ] W-9001-model_1.0 TS_METRICS - ts_inference_latency_microseconds.Microseconds:69452.657|#model_name:model,model_version:default|#hostname:4bee07aeb82d,timestamp:1702234636\u001b[0m\n",
      "\u001b[35m2023-12-10T18:57:16,103 [INFO ] W-9001-model_1.0 TS_METRICS - ts_queue_latency_microseconds.Microseconds:211.141|#model_name:model,model_version:default|#hostname:4bee07aeb82d,timestamp:1702234636\u001b[0m\n",
      "\u001b[35m2023-12-10T18:57:16,103 [INFO ] W-9001-model_1.0 TS_METRICS - QueueTime.Milliseconds:0.0|#Level:Host|#hostname:4bee07aeb82d,timestamp:1702234636\u001b[0m\n",
      "\u001b[35m2023-12-10T18:57:16,103 [INFO ] W-9001-model_1.0 org.pytorch.serve.wlm.WorkerThread - Backend response time: 68\u001b[0m\n",
      "\u001b[35m2023-12-10T18:57:16,104 [INFO ] W-9001-model_1.0 TS_METRICS - WorkerThreadTime.Milliseconds:4.0|#Level:Host|#hostname:4bee07aeb82d,timestamp:1702234636\u001b[0m\n",
      "\u001b[32m2023-12-10T18:57:15.953:[sagemaker logs]: MaxConcurrentTransforms=1, MaxPayloadInMB=100, BatchStrategy=MULTI_RECORD\u001b[0m\n"
     ]
    }
   ],
   "source": [
    "transformer = estimator.transformer(\n",
    "    instance_count=1,\n",
    "    instance_type=instance_type,\n",
    "    max_payload=100,\n",
    ")\n",
    "\n",
    "transformer.transform(\n",
    "    data=test_data,\n",
    "    content_type=\"text/csv\",\n",
    ")"
   ]
  },
  {
   "cell_type": "markdown",
   "id": "54498c7d-dbb6-4098-b927-506e1058b062",
   "metadata": {},
   "source": [
    "Load the test set reconstructions from S3."
   ]
  },
  {
   "cell_type": "code",
   "execution_count": 19,
   "id": "317bf9e8-69ba-4eed-a8c9-8600fdbf92e9",
   "metadata": {
    "tags": []
   },
   "outputs": [],
   "source": [
    "reconstructions = sagemaker_session.read_s3_file(\n",
    "    bucket=bucket,\n",
    "    key_prefix=f\"{transformer.latest_transform_job.name}/{dataset_name}_test.csv.out\"\n",
    ")"
   ]
  },
  {
   "cell_type": "code",
   "execution_count": 20,
   "id": "401fed04-1591-4f58-bb89-4dff0f6acfa3",
   "metadata": {
    "tags": []
   },
   "outputs": [],
   "source": [
    "reconstructions = pd.DataFrame([x.split(\",\") for x in reconstructions.split(\"\\n\")[:-1]]).replace(\"\", np.nan).astype(float)"
   ]
  },
  {
   "cell_type": "code",
   "execution_count": 21,
   "id": "fe3eb1f5-5a4a-4623-9a4f-dc0958df4802",
   "metadata": {
    "tags": []
   },
   "outputs": [
    {
     "data": {
      "text/plain": [
       "(6828, 2)"
      ]
     },
     "execution_count": 21,
     "metadata": {},
     "output_type": "execute_result"
    }
   ],
   "source": [
    "reconstructions.shape"
   ]
  },
  {
   "cell_type": "code",
   "execution_count": 22,
   "id": "085ccaeb-c9a3-4735-843e-42b81f387049",
   "metadata": {
    "tags": []
   },
   "outputs": [
    {
     "data": {
      "text/html": [
       "<div>\n",
       "<style scoped>\n",
       "    .dataframe tbody tr th:only-of-type {\n",
       "        vertical-align: middle;\n",
       "    }\n",
       "\n",
       "    .dataframe tbody tr th {\n",
       "        vertical-align: top;\n",
       "    }\n",
       "\n",
       "    .dataframe thead th {\n",
       "        text-align: right;\n",
       "    }\n",
       "</style>\n",
       "<table border=\"1\" class=\"dataframe\">\n",
       "  <thead>\n",
       "    <tr style=\"text-align: right;\">\n",
       "      <th></th>\n",
       "      <th>0</th>\n",
       "      <th>1</th>\n",
       "    </tr>\n",
       "  </thead>\n",
       "  <tbody>\n",
       "    <tr>\n",
       "      <th>0</th>\n",
       "      <td>1.268174</td>\n",
       "      <td>0.187886</td>\n",
       "    </tr>\n",
       "    <tr>\n",
       "      <th>1</th>\n",
       "      <td>0.470492</td>\n",
       "      <td>0.182227</td>\n",
       "    </tr>\n",
       "    <tr>\n",
       "      <th>2</th>\n",
       "      <td>0.468629</td>\n",
       "      <td>0.150731</td>\n",
       "    </tr>\n",
       "    <tr>\n",
       "      <th>3</th>\n",
       "      <td>3.057650</td>\n",
       "      <td>0.056491</td>\n",
       "    </tr>\n",
       "    <tr>\n",
       "      <th>4</th>\n",
       "      <td>1.549613</td>\n",
       "      <td>-0.084204</td>\n",
       "    </tr>\n",
       "  </tbody>\n",
       "</table>\n",
       "</div>"
      ],
      "text/plain": [
       "          0         1\n",
       "0  1.268174  0.187886\n",
       "1  0.470492  0.182227\n",
       "2  0.468629  0.150731\n",
       "3  3.057650  0.056491\n",
       "4  1.549613 -0.084204"
      ]
     },
     "execution_count": 22,
     "metadata": {},
     "output_type": "execute_result"
    }
   ],
   "source": [
    "reconstructions.head()"
   ]
  },
  {
   "cell_type": "code",
   "execution_count": 23,
   "id": "3e137b23-cddc-4211-9dcc-233575e5c636",
   "metadata": {
    "tags": []
   },
   "outputs": [
    {
     "data": {
      "text/html": [
       "<div>\n",
       "<style scoped>\n",
       "    .dataframe tbody tr th:only-of-type {\n",
       "        vertical-align: middle;\n",
       "    }\n",
       "\n",
       "    .dataframe tbody tr th {\n",
       "        vertical-align: top;\n",
       "    }\n",
       "\n",
       "    .dataframe thead th {\n",
       "        text-align: right;\n",
       "    }\n",
       "</style>\n",
       "<table border=\"1\" class=\"dataframe\">\n",
       "  <thead>\n",
       "    <tr style=\"text-align: right;\">\n",
       "      <th></th>\n",
       "      <th>0</th>\n",
       "      <th>1</th>\n",
       "    </tr>\n",
       "  </thead>\n",
       "  <tbody>\n",
       "    <tr>\n",
       "      <th>6823</th>\n",
       "      <td>NaN</td>\n",
       "      <td>NaN</td>\n",
       "    </tr>\n",
       "    <tr>\n",
       "      <th>6824</th>\n",
       "      <td>NaN</td>\n",
       "      <td>NaN</td>\n",
       "    </tr>\n",
       "    <tr>\n",
       "      <th>6825</th>\n",
       "      <td>NaN</td>\n",
       "      <td>NaN</td>\n",
       "    </tr>\n",
       "    <tr>\n",
       "      <th>6826</th>\n",
       "      <td>NaN</td>\n",
       "      <td>NaN</td>\n",
       "    </tr>\n",
       "    <tr>\n",
       "      <th>6827</th>\n",
       "      <td>NaN</td>\n",
       "      <td>NaN</td>\n",
       "    </tr>\n",
       "  </tbody>\n",
       "</table>\n",
       "</div>"
      ],
      "text/plain": [
       "       0   1\n",
       "6823 NaN NaN\n",
       "6824 NaN NaN\n",
       "6825 NaN NaN\n",
       "6826 NaN NaN\n",
       "6827 NaN NaN"
      ]
     },
     "execution_count": 23,
     "metadata": {},
     "output_type": "execute_result"
    }
   ],
   "source": [
    "reconstructions.tail()"
   ]
  },
  {
   "cell_type": "markdown",
   "id": "358bc40c-eef6-4b67-ab9d-0e661cc9c33d",
   "metadata": {},
   "source": [
    "Extract the anomalous time steps."
   ]
  },
  {
   "cell_type": "code",
   "execution_count": 24,
   "id": "678d7e23-f16f-40fc-b5bb-8e16e7c83502",
   "metadata": {
    "tags": []
   },
   "outputs": [],
   "source": [
    "anomalies = reconstructions.iloc[:, 0].sort_values(ascending=False).iloc[:k].index.to_series()"
   ]
  },
  {
   "cell_type": "code",
   "execution_count": 25,
   "id": "3044cb24-822d-4f77-8fac-83b5cec73b6a",
   "metadata": {
    "tags": []
   },
   "outputs": [
    {
     "data": {
      "text/plain": [
       "array([5314])"
      ]
     },
     "execution_count": 25,
     "metadata": {},
     "output_type": "execute_result"
    }
   ],
   "source": [
    "anomalies.values"
   ]
  },
  {
   "cell_type": "markdown",
   "id": "09edeed7-8cee-43e4-811f-d2ad91aace72",
   "metadata": {},
   "source": [
    "Check if the anomalous time steps are within the anomalous time interval."
   ]
  },
  {
   "cell_type": "code",
   "execution_count": 26,
   "id": "fb1798a6-38ba-4e47-8fb7-91228d045c3a",
   "metadata": {
    "tags": []
   },
   "outputs": [
    {
     "data": {
      "text/plain": [
       "array([ True])"
      ]
     },
     "execution_count": 26,
     "metadata": {},
     "output_type": "execute_result"
    }
   ],
   "source": [
    "anomalies.between(start - cutoff, end - cutoff).values"
   ]
  },
  {
   "cell_type": "markdown",
   "id": "831fccc6-0e68-45c0-8ec5-e1e47340c365",
   "metadata": {},
   "source": [
    "Visualize the reconstructions."
   ]
  },
  {
   "cell_type": "code",
   "execution_count": 27,
   "id": "9dba2cf6-3765-4089-bac1-1dfe141cae03",
   "metadata": {
    "tags": []
   },
   "outputs": [
    {
     "data": {
      "image/png": "[encoded data removed]",
      "text/plain": [
       "<Figure size 600x600 with 2 Axes>"
      ]
     },
     "metadata": {},
     "output_type": "display_data"
    }
   ],
   "source": [
    "fig, axs = plt.subplots(nrows=2, ncols=1, sharex=True, figsize=(6, 6))\n",
    "\n",
    "axs[0].set_title(\"Time Series\", size=10)\n",
    "axs[0].plot(test_dataset.iloc[:, 0].values, color=\"#AFB8C1\", lw=0.5, label=\"Actual\")\n",
    "axs[0].plot(reconstructions.iloc[:, 1], color=\"#009ad3\", lw=0.5, label=\"Predicted\")\n",
    "axs[0].set(xlabel=\"Time\", ylabel=\"Value\")\n",
    "axs[0].xaxis.set_tick_params(labelbottom=True)\n",
    "axs[0].tick_params(axis=\"both\", which=\"major\", labelsize=7)\n",
    "axs[0].tick_params(axis=\"both\", which=\"minor\", labelsize=7)\n",
    "\n",
    "axs[1].set_title(\"Anomaly Score\", size=10)\n",
    "axs[1].plot(reconstructions.iloc[:, 0], color=\"#57606a\", lw=0.5)\n",
    "axs[1].set(xlabel=\"Time\", ylabel=\"Value\")\n",
    "axs[1].xaxis.set_tick_params(labelbottom=True)\n",
    "axs[1].tick_params(axis=\"both\", which=\"major\", labelsize=7)\n",
    "axs[1].tick_params(axis=\"both\", which=\"minor\", labelsize=7)\n",
    "\n",
    "fig.tight_layout()\n",
    "fig.legend(bbox_to_anchor=(1.2, 1, 0, 0), frameon=False)\n",
    "fig.show()"
   ]
  }
 ],
 "metadata": {
  "kernelspec": {
   "display_name": "conda_python3",
   "language": "python",
   "name": "conda_python3"
  },
  "language_info": {
   "codemirror_mode": {
    "name": "ipython",
    "version": 3
   },
   "file_extension": ".py",
   "mimetype": "text/x-python",
   "name": "python",
   "nbconvert_exporter": "python",
   "pygments_lexer": "ipython3",
   "version": "3.10.13"
  }
 },
 "nbformat": 4,
 "nbformat_minor": 5
}
