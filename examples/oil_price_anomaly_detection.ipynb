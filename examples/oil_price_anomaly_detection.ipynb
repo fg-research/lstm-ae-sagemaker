{
 "cells": [
  {
   "cell_type": "markdown",
   "id": "5b3a9288-ee2f-4aec-b508-2ebf5f75b25f",
   "metadata": {},
   "source": [
    "# Detecting Anomalies in Financial Time Series with the LSTM-AE SageMaker Algorithm \n",
    "\n",
    "**Blog post:** https://fg-research.com/blog/product/posts/lstm-ae-oil-price-anomaly-detection.html"
   ]
  },
  {
   "cell_type": "markdown",
   "id": "00248eca-4112-4141-978f-19d994bf29d4",
   "metadata": {
    "tags": []
   },
   "source": [
    "### 1. Environment set-up"
   ]
  },
  {
   "cell_type": "markdown",
   "id": "4fb56747-9afa-4383-a4c3-76418d7f42cc",
   "metadata": {},
   "source": [
    "1. This notebook contains elements which render correctly in Jupyter interface. Open this notebook from an Amazon SageMaker Notebook Instance or Amazon SageMaker Studio.\n",
    "1. Ensure that IAM role used has **AmazonSageMakerFullAccess**\n",
    "1. Some hands-on experience using [Amazon SageMaker](https://aws.amazon.com/sagemaker/).\n",
    "1. To use this algorithm successfully, ensure that:\n",
    "    1. Either your IAM role has these three permissions and you have authority to make AWS Marketplace subscriptions in the AWS account used: \n",
    "        1. **aws-marketplace:ViewSubscriptions**\n",
    "        1. **aws-marketplace:Unsubscribe**\n",
    "        1. **aws-marketplace:Subscribe**  \n",
    "    2. or your AWS account has a subscription to the [Time Series Anomaly Detection (LSTM-AE) Algorithm from AWS Marketplace](https://aws.amazon.com/marketplace/pp/prodview-up2haipz3j472).\n",
    "\n",
    "To subscribe to the algorithm:\n",
    "1. Open the algorithm listing page.\n",
    "1. On the AWS Marketplace listing, click on the **Continue to subscribe** button.\n",
    "1. On the **Subscribe to this software** page, review and click on **\"Accept Offer\"** if you agree with EULA, pricing, and support terms. \n",
    "1. Once you click on the **Continue to configuration** button and then choose a **region**, you will see a **Product ARN**. This is the algorithm ARN that you need to specify while training a custom ML model. **Copy the ARN corresponding to your region and specify the same in the following cell.**"
   ]
  },
  {
   "cell_type": "code",
   "execution_count": 1,
   "id": "f028b72b-57a2-4caf-a9dd-18dd5db4acbf",
   "metadata": {
    "tags": []
   },
   "outputs": [],
   "source": [
    "algo_arn = \"arn:aws:sagemaker:<...>\""
   ]
  },
  {
   "cell_type": "markdown",
   "id": "75a15d14-a734-4a7d-8756-e9e0ece044c3",
   "metadata": {},
   "source": [
    "Install the [Python API for FRED](https://github.com/mortada/fredapi)."
   ]
  },
  {
   "cell_type": "code",
   "execution_count": 2,
   "id": "e9be29dd-e428-4daf-91d1-ed6d7c7a7835",
   "metadata": {
    "tags": []
   },
   "outputs": [
    {
     "name": "stdout",
     "output_type": "stream",
     "text": [
      "Requirement already satisfied: fredapi in /home/ec2-user/anaconda3/envs/python3/lib/python3.10/site-packages (0.5.1)\n",
      "Requirement already satisfied: pandas in /home/ec2-user/anaconda3/envs/python3/lib/python3.10/site-packages (from fredapi) (2.1.1)\n",
      "Requirement already satisfied: numpy>=1.22.4 in /home/ec2-user/anaconda3/envs/python3/lib/python3.10/site-packages (from pandas->fredapi) (1.22.4)\n",
      "Requirement already satisfied: python-dateutil>=2.8.2 in /home/ec2-user/anaconda3/envs/python3/lib/python3.10/site-packages (from pandas->fredapi) (2.8.2)\n",
      "Requirement already satisfied: pytz>=2020.1 in /home/ec2-user/anaconda3/envs/python3/lib/python3.10/site-packages (from pandas->fredapi) (2023.3.post1)\n",
      "Requirement already satisfied: tzdata>=2022.1 in /home/ec2-user/anaconda3/envs/python3/lib/python3.10/site-packages (from pandas->fredapi) (2023.3)\n",
      "Requirement already satisfied: six>=1.5 in /home/ec2-user/anaconda3/envs/python3/lib/python3.10/site-packages (from python-dateutil>=2.8.2->pandas->fredapi) (1.16.0)\n"
     ]
    }
   ],
   "source": [
    "!pip install fredapi"
   ]
  },
  {
   "cell_type": "markdown",
   "id": "3a54aa3d-3b5d-4c48-b339-5cb33819a448",
   "metadata": {},
   "source": [
    "Set up the SageMaker session and connect to the FRED database."
   ]
  },
  {
   "cell_type": "code",
   "execution_count": 3,
   "id": "9b05bf3e-4a2b-4c36-a9f4-2be05d0215f2",
   "metadata": {
    "tags": []
   },
   "outputs": [
    {
     "name": "stderr",
     "output_type": "stream",
     "text": [
      "/home/ec2-user/anaconda3/envs/python3/lib/python3.10/site-packages/pandas/core/computation/expressions.py:21: UserWarning: Pandas requires version '2.8.0' or newer of 'numexpr' (version '2.7.3' currently installed).\n",
      "  from pandas.core.computation.check import NUMEXPR_INSTALLED\n"
     ]
    },
    {
     "name": "stdout",
     "output_type": "stream",
     "text": [
      "sagemaker.config INFO - Not applying SDK defaults from location: /etc/xdg/sagemaker/config.yaml\n",
      "sagemaker.config INFO - Not applying SDK defaults from location: /home/ec2-user/.config/sagemaker/config.yaml\n",
      "sagemaker.config INFO - Not applying SDK defaults from location: /etc/xdg/sagemaker/config.yaml\n",
      "sagemaker.config INFO - Not applying SDK defaults from location: /home/ec2-user/.config/sagemaker/config.yaml\n",
      "sagemaker.config INFO - Not applying SDK defaults from location: /etc/xdg/sagemaker/config.yaml\n",
      "sagemaker.config INFO - Not applying SDK defaults from location: /home/ec2-user/.config/sagemaker/config.yaml\n"
     ]
    }
   ],
   "source": [
    "import io\n",
    "import sagemaker\n",
    "import pandas as pd\n",
    "import numpy as np\n",
    "import matplotlib.pyplot as plt\n",
    "from fredapi import Fred\n",
    "\n",
    "# FRED API\n",
    "fred = Fred(api_key_file=\"api_key.txt\")\n",
    "\n",
    "# SageMaker session\n",
    "sagemaker_session = sagemaker.Session()\n",
    "\n",
    "# SageMaker role\n",
    "role = sagemaker.get_execution_role()\n",
    "\n",
    "# S3 bucket\n",
    "bucket = sagemaker_session.default_bucket()\n",
    "\n",
    "# EC2 instance\n",
    "instance_type = \"ml.m5.2xlarge\""
   ]
  },
  {
   "cell_type": "markdown",
   "id": "0eb32f4b-1eaf-4618-9103-fb160b68951a",
   "metadata": {},
   "source": [
    "### 2. Data preparation"
   ]
  },
  {
   "cell_type": "markdown",
   "id": "719dc90a-29be-48bd-931c-50aa5ab985de",
   "metadata": {},
   "source": [
    "Download the prices."
   ]
  },
  {
   "cell_type": "code",
   "execution_count": 4,
   "id": "32e95b10-c008-4c98-9970-e56f5c3f6a45",
   "metadata": {
    "tags": []
   },
   "outputs": [],
   "source": [
    "dataset = pd.DataFrame({\n",
    "    \"WTI\": fred.get_series(\"DCOILWTICO\", observation_start=\"1987-05-20\", observation_end=\"2020-12-31\"),\n",
    "    \"BRENT\": fred.get_series(\"DCOILBRENTEU\", observation_start=\"1987-05-20\", observation_end=\"2020-12-31\")\n",
    "})"
   ]
  },
  {
   "cell_type": "code",
   "execution_count": 5,
   "id": "33a1b803-7738-4d73-87db-c2f9c6ba6a54",
   "metadata": {
    "tags": []
   },
   "outputs": [
    {
     "data": {
      "text/plain": [
       "(8772, 2)"
      ]
     },
     "execution_count": 5,
     "metadata": {},
     "output_type": "execute_result"
    }
   ],
   "source": [
    "dataset.shape"
   ]
  },
  {
   "cell_type": "code",
   "execution_count": 6,
   "id": "e9814f30-77f9-4df5-a761-f28961d6a8f9",
   "metadata": {
    "tags": []
   },
   "outputs": [
    {
     "data": {
      "text/html": [
       "<div>\n",
       "<style scoped>\n",
       "    .dataframe tbody tr th:only-of-type {\n",
       "        vertical-align: middle;\n",
       "    }\n",
       "\n",
       "    .dataframe tbody tr th {\n",
       "        vertical-align: top;\n",
       "    }\n",
       "\n",
       "    .dataframe thead th {\n",
       "        text-align: right;\n",
       "    }\n",
       "</style>\n",
       "<table border=\"1\" class=\"dataframe\">\n",
       "  <thead>\n",
       "    <tr style=\"text-align: right;\">\n",
       "      <th></th>\n",
       "      <th>WTI</th>\n",
       "      <th>BRENT</th>\n",
       "    </tr>\n",
       "  </thead>\n",
       "  <tbody>\n",
       "    <tr>\n",
       "      <th>1987-05-20</th>\n",
       "      <td>19.75</td>\n",
       "      <td>18.63</td>\n",
       "    </tr>\n",
       "    <tr>\n",
       "      <th>1987-05-21</th>\n",
       "      <td>19.95</td>\n",
       "      <td>18.45</td>\n",
       "    </tr>\n",
       "    <tr>\n",
       "      <th>1987-05-22</th>\n",
       "      <td>19.68</td>\n",
       "      <td>18.55</td>\n",
       "    </tr>\n",
       "    <tr>\n",
       "      <th>1987-05-25</th>\n",
       "      <td>NaN</td>\n",
       "      <td>18.60</td>\n",
       "    </tr>\n",
       "    <tr>\n",
       "      <th>1987-05-26</th>\n",
       "      <td>19.35</td>\n",
       "      <td>18.63</td>\n",
       "    </tr>\n",
       "  </tbody>\n",
       "</table>\n",
       "</div>"
      ],
      "text/plain": [
       "              WTI  BRENT\n",
       "1987-05-20  19.75  18.63\n",
       "1987-05-21  19.95  18.45\n",
       "1987-05-22  19.68  18.55\n",
       "1987-05-25    NaN  18.60\n",
       "1987-05-26  19.35  18.63"
      ]
     },
     "execution_count": 6,
     "metadata": {},
     "output_type": "execute_result"
    }
   ],
   "source": [
    "dataset.head()"
   ]
  },
  {
   "cell_type": "code",
   "execution_count": 7,
   "id": "e9cd5cee-b9d0-460c-8c25-86d627f7eaa5",
   "metadata": {
    "tags": []
   },
   "outputs": [
    {
     "data": {
      "text/html": [
       "<div>\n",
       "<style scoped>\n",
       "    .dataframe tbody tr th:only-of-type {\n",
       "        vertical-align: middle;\n",
       "    }\n",
       "\n",
       "    .dataframe tbody tr th {\n",
       "        vertical-align: top;\n",
       "    }\n",
       "\n",
       "    .dataframe thead th {\n",
       "        text-align: right;\n",
       "    }\n",
       "</style>\n",
       "<table border=\"1\" class=\"dataframe\">\n",
       "  <thead>\n",
       "    <tr style=\"text-align: right;\">\n",
       "      <th></th>\n",
       "      <th>WTI</th>\n",
       "      <th>BRENT</th>\n",
       "    </tr>\n",
       "  </thead>\n",
       "  <tbody>\n",
       "    <tr>\n",
       "      <th>2020-12-25</th>\n",
       "      <td>NaN</td>\n",
       "      <td>NaN</td>\n",
       "    </tr>\n",
       "    <tr>\n",
       "      <th>2020-12-28</th>\n",
       "      <td>47.50</td>\n",
       "      <td>50.88</td>\n",
       "    </tr>\n",
       "    <tr>\n",
       "      <th>2020-12-29</th>\n",
       "      <td>47.85</td>\n",
       "      <td>50.44</td>\n",
       "    </tr>\n",
       "    <tr>\n",
       "      <th>2020-12-30</th>\n",
       "      <td>48.24</td>\n",
       "      <td>50.74</td>\n",
       "    </tr>\n",
       "    <tr>\n",
       "      <th>2020-12-31</th>\n",
       "      <td>48.35</td>\n",
       "      <td>51.22</td>\n",
       "    </tr>\n",
       "  </tbody>\n",
       "</table>\n",
       "</div>"
      ],
      "text/plain": [
       "              WTI  BRENT\n",
       "2020-12-25    NaN    NaN\n",
       "2020-12-28  47.50  50.88\n",
       "2020-12-29  47.85  50.44\n",
       "2020-12-30  48.24  50.74\n",
       "2020-12-31  48.35  51.22"
      ]
     },
     "execution_count": 7,
     "metadata": {},
     "output_type": "execute_result"
    }
   ],
   "source": [
    "dataset.tail()"
   ]
  },
  {
   "cell_type": "code",
   "execution_count": 8,
   "id": "5fbc2218-fb30-47d4-a154-b884f0f0e88b",
   "metadata": {
    "tags": []
   },
   "outputs": [
    {
     "data": {
      "image/png": "[encoded data removed]",
      "text/plain": [
       "<Figure size 700x700 with 2 Axes>"
      ]
     },
     "metadata": {},
     "output_type": "display_data"
    }
   ],
   "source": [
    "fig, axs = plt.subplots(nrows=dataset.shape[1], ncols=1, sharex=True, figsize=(7, 7))\n",
    "for i in range(dataset.shape[1]):\n",
    "    axs[i].plot(dataset.iloc[:, i], color=\"#AFB8C1\", lw=0.3)\n",
    "    axs[i].set_title(f\"{dataset.columns[i]}\", size=10)\n",
    "    axs[i].set(xlabel=\"Time\", ylabel=\"Value\")\n",
    "    axs[i].xaxis.set_tick_params(labelbottom=True)\n",
    "    axs[i].tick_params(axis=\"both\", which=\"major\", labelsize=7)\n",
    "    axs[i].tick_params(axis=\"both\", which=\"minor\", labelsize=7)\n",
    "fig.tight_layout()\n",
    "fig.show()"
   ]
  },
  {
   "cell_type": "markdown",
   "id": "488ea5aa-89d6-4fcb-808d-154706054440",
   "metadata": {},
   "source": [
    "Calculate the returns."
   ]
  },
  {
   "cell_type": "code",
   "execution_count": 9,
   "id": "97a21b42-d919-41eb-a0fe-95ca8eb43a6b",
   "metadata": {
    "tags": []
   },
   "outputs": [
    {
     "name": "stderr",
     "output_type": "stream",
     "text": [
      "/tmp/ipykernel_22298/471977758.py:1: FutureWarning: The default fill_method='pad' in DataFrame.pct_change is deprecated and will be removed in a future version. Call ffill before calling pct_change to retain current behavior and silence this warning.\n",
      "  dataset = dataset.pct_change().fillna(value=0)\n"
     ]
    }
   ],
   "source": [
    "dataset = dataset.pct_change().fillna(value=0)"
   ]
  },
  {
   "cell_type": "code",
   "execution_count": 10,
   "id": "3f778757-884c-40ab-aac4-ce827b9ee311",
   "metadata": {
    "tags": []
   },
   "outputs": [
    {
     "data": {
      "image/png": "[encoded data removed]",
      "text/plain": [
       "<Figure size 700x700 with 2 Axes>"
      ]
     },
     "metadata": {},
     "output_type": "display_data"
    }
   ],
   "source": [
    "fig, axs = plt.subplots(nrows=dataset.shape[1], ncols=1, sharex=True, figsize=(7, 7))\n",
    "for i in range(dataset.shape[1]):\n",
    "    axs[i].plot(dataset.iloc[:, i], color=\"#AFB8C1\", lw=0.3)\n",
    "    axs[i].set_title(f\"{dataset.columns[i]} (% Change)\", size=10)\n",
    "    axs[i].set(xlabel=\"Time\", ylabel=\"Value\")\n",
    "    axs[i].xaxis.set_tick_params(labelbottom=True)\n",
    "    axs[i].tick_params(axis=\"both\", which=\"major\", labelsize=7)\n",
    "    axs[i].tick_params(axis=\"both\", which=\"minor\", labelsize=7)\n",
    "fig.tight_layout()\n",
    "fig.show()"
   ]
  },
  {
   "cell_type": "markdown",
   "id": "ca654e54-9dbc-4440-aead-bc5bf1e2f18e",
   "metadata": {},
   "source": [
    "Split the data."
   ]
  },
  {
   "cell_type": "code",
   "execution_count": 11,
   "id": "51ae76a1-7b63-4cfc-b36d-1d02318ab00a",
   "metadata": {
    "tags": []
   },
   "outputs": [],
   "source": [
    "cutoff = 8402"
   ]
  },
  {
   "cell_type": "code",
   "execution_count": 12,
   "id": "a17b691f-aa9a-4979-bbb2-b073284837f0",
   "metadata": {
    "tags": []
   },
   "outputs": [],
   "source": [
    "training_dataset = dataset.iloc[:cutoff]"
   ]
  },
  {
   "cell_type": "code",
   "execution_count": 13,
   "id": "d2513371-3217-461f-9af7-8530ed09821b",
   "metadata": {
    "tags": []
   },
   "outputs": [
    {
     "data": {
      "text/plain": [
       "(8402, 2)"
      ]
     },
     "execution_count": 13,
     "metadata": {},
     "output_type": "execute_result"
    }
   ],
   "source": [
    "training_dataset.shape"
   ]
  },
  {
   "cell_type": "code",
   "execution_count": 14,
   "id": "a0c800cf-8193-4952-aae4-62901cd8f25f",
   "metadata": {},
   "outputs": [
    {
     "name": "stdout",
     "output_type": "stream",
     "text": [
      "1987-05-20 00:00:00\n",
      "2019-08-01 00:00:00\n"
     ]
    }
   ],
   "source": [
    "print(training_dataset.index.min())\n",
    "print(training_dataset.index.max())"
   ]
  },
  {
   "cell_type": "code",
   "execution_count": 15,
   "id": "428e4901-f97d-494a-8037-2b53f798a79d",
   "metadata": {
    "tags": []
   },
   "outputs": [],
   "source": [
    "test_dataset = dataset.iloc[cutoff:]"
   ]
  },
  {
   "cell_type": "code",
   "execution_count": 16,
   "id": "0834234a-955d-467b-a62e-3e1b21a1cd13",
   "metadata": {
    "tags": []
   },
   "outputs": [
    {
     "data": {
      "text/plain": [
       "(370, 2)"
      ]
     },
     "execution_count": 16,
     "metadata": {},
     "output_type": "execute_result"
    }
   ],
   "source": [
    "test_dataset.shape"
   ]
  },
  {
   "cell_type": "code",
   "execution_count": 17,
   "id": "81a5051a-7a48-4609-b431-de51d717851a",
   "metadata": {},
   "outputs": [
    {
     "name": "stdout",
     "output_type": "stream",
     "text": [
      "2019-08-02 00:00:00\n",
      "2020-12-31 00:00:00\n"
     ]
    }
   ],
   "source": [
    "print(test_dataset.index.min())\n",
    "print(test_dataset.index.max())"
   ]
  },
  {
   "cell_type": "markdown",
   "id": "d8cceee3-3636-4cde-b801-fa3cf84e8361",
   "metadata": {},
   "source": [
    "Upload the data to S3."
   ]
  },
  {
   "cell_type": "code",
   "execution_count": 18,
   "id": "e9cfa52f-1c14-4afb-8513-860cf0075944",
   "metadata": {
    "tags": []
   },
   "outputs": [],
   "source": [
    "training_data = sagemaker_session.upload_string_as_file_body(\n",
    "    body=training_dataset.to_csv(index=False, header=False),\n",
    "    bucket=bucket,\n",
    "    key=\"oil_price_train.csv\"\n",
    ")"
   ]
  },
  {
   "cell_type": "code",
   "execution_count": 19,
   "id": "93d27e25-144e-43c2-9969-01b49ebf2ba6",
   "metadata": {
    "tags": []
   },
   "outputs": [
    {
     "data": {
      "text/plain": [
       "'s3://sagemaker-eu-west-1-661670223746/oil_price_train.csv'"
      ]
     },
     "execution_count": 19,
     "metadata": {},
     "output_type": "execute_result"
    }
   ],
   "source": [
    "training_data"
   ]
  },
  {
   "cell_type": "code",
   "execution_count": 20,
   "id": "a9891171-1c9d-473e-bf5e-faae1508c91c",
   "metadata": {
    "tags": []
   },
   "outputs": [],
   "source": [
    "test_data = sagemaker_session.upload_string_as_file_body(\n",
    "    body=test_dataset.to_csv(index=False, header=False),\n",
    "    bucket=bucket,\n",
    "    key=\"oil_price_test.csv\"\n",
    ")"
   ]
  },
  {
   "cell_type": "code",
   "execution_count": 21,
   "id": "11958798-dc30-4349-a2ab-c272e918b61b",
   "metadata": {
    "tags": []
   },
   "outputs": [
    {
     "data": {
      "text/plain": [
       "'s3://sagemaker-eu-west-1-661670223746/oil_price_test.csv'"
      ]
     },
     "execution_count": 21,
     "metadata": {},
     "output_type": "execute_result"
    }
   ],
   "source": [
    "test_data"
   ]
  },
  {
   "cell_type": "markdown",
   "id": "14d4d05f-d005-47a9-b867-81851fd87a5f",
   "metadata": {},
   "source": [
    "### 3. Training"
   ]
  },
  {
   "cell_type": "markdown",
   "id": "c942bcf5-670c-40d2-82d8-5eae83d25a39",
   "metadata": {},
   "source": [
    "Fit the model to the training set."
   ]
  },
  {
   "cell_type": "code",
   "execution_count": 22,
   "id": "29a8a033-b9fe-47fb-ad3e-d2cf6d699429",
   "metadata": {
    "tags": []
   },
   "outputs": [
    {
     "name": "stderr",
     "output_type": "stream",
     "text": [
      "INFO:sagemaker:Creating training-job with name: lstm-ae-v1-4-2024-01-06-07-57-44-140\n"
     ]
    },
    {
     "name": "stdout",
     "output_type": "stream",
     "text": [
      "2024-01-06 07:57:44 Starting - Starting the training job...\n",
      "2024-01-06 07:57:58 Starting - Preparing the instances for training......\n",
      "2024-01-06 07:59:03 Downloading - Downloading input data...\n",
      "2024-01-06 07:59:33 Downloading - Downloading the training image............\n",
      "2024-01-06 08:01:44 Training - Training image download completed. Training in progress.....\u001b[34mbash: cannot set terminal process group (-1): Inappropriate ioctl for device\u001b[0m\n",
      "\u001b[34mbash: no job control in this shell\u001b[0m\n",
      "\u001b[34m2024-01-06 08:02:12,891 sagemaker-training-toolkit INFO     Imported framework sagemaker_pytorch_container.training\u001b[0m\n",
      "\u001b[34m2024-01-06 08:02:12,892 sagemaker-training-toolkit INFO     No GPUs detected (normal if no gpus installed)\u001b[0m\n",
      "\u001b[34m2024-01-06 08:02:12,892 sagemaker-training-toolkit INFO     No Neurons detected (normal if no neurons installed)\u001b[0m\n",
      "\u001b[34m2024-01-06 08:02:12,902 sagemaker_pytorch_container.training INFO     Block until all host DNS lookups succeed.\u001b[0m\n",
      "\u001b[34m2024-01-06 08:02:12,904 sagemaker_pytorch_container.training INFO     Invoking user training script.\u001b[0m\n",
      "\u001b[34m2024-01-06 08:02:14,210 sagemaker-training-toolkit INFO     No GPUs detected (normal if no gpus installed)\u001b[0m\n",
      "\u001b[34m2024-01-06 08:02:14,211 sagemaker-training-toolkit INFO     No Neurons detected (normal if no neurons installed)\u001b[0m\n",
      "\u001b[34m2024-01-06 08:02:14,222 sagemaker-training-toolkit INFO     No GPUs detected (normal if no gpus installed)\u001b[0m\n",
      "\u001b[34m2024-01-06 08:02:14,222 sagemaker-training-toolkit INFO     No Neurons detected (normal if no neurons installed)\u001b[0m\n",
      "\u001b[34m2024-01-06 08:02:14,233 sagemaker-training-toolkit INFO     No GPUs detected (normal if no gpus installed)\u001b[0m\n",
      "\u001b[34m2024-01-06 08:02:14,233 sagemaker-training-toolkit INFO     No Neurons detected (normal if no neurons installed)\u001b[0m\n",
      "\u001b[34m2024-01-06 08:02:14,244 sagemaker-training-toolkit INFO     Invoking user script\u001b[0m\n",
      "\u001b[34mTraining Env:\u001b[0m\n",
      "\u001b[34m{\n",
      "    \"additional_framework_parameters\": {},\n",
      "    \"channel_input_dirs\": {\n",
      "        \"training\": \"/opt/ml/input/data/training\"\n",
      "    },\n",
      "    \"current_host\": \"algo-1\",\n",
      "    \"current_instance_group\": \"homogeneousCluster\",\n",
      "    \"current_instance_group_hosts\": [\n",
      "        \"algo-1\"\n",
      "    ],\n",
      "    \"current_instance_type\": \"ml.m5.2xlarge\",\n",
      "    \"distribution_hosts\": [],\n",
      "    \"distribution_instance_groups\": [],\n",
      "    \"framework_module\": \"sagemaker_pytorch_container.training:main\",\n",
      "    \"hosts\": [\n",
      "        \"algo-1\"\n",
      "    ],\n",
      "    \"hyperparameters\": {\n",
      "        \"batch-size\": 32,\n",
      "        \"epochs\": 500,\n",
      "        \"hidden-size\": 100,\n",
      "        \"lr\": 0.001,\n",
      "        \"sequence-length\": 10,\n",
      "        \"sequence-stride\": 1\n",
      "    },\n",
      "    \"input_config_dir\": \"/opt/ml/input/config\",\n",
      "    \"input_data_config\": {\n",
      "        \"training\": {\n",
      "            \"TrainingInputMode\": \"File\",\n",
      "            \"S3DistributionType\": \"FullyReplicated\",\n",
      "            \"RecordWrapperType\": \"None\"\n",
      "        }\n",
      "    },\n",
      "    \"input_dir\": \"/opt/ml/input\",\n",
      "    \"instance_groups\": [\n",
      "        \"homogeneousCluster\"\n",
      "    ],\n",
      "    \"instance_groups_dict\": {\n",
      "        \"homogeneousCluster\": {\n",
      "            \"instance_group_name\": \"homogeneousCluster\",\n",
      "            \"instance_type\": \"ml.m5.2xlarge\",\n",
      "            \"hosts\": [\n",
      "                \"algo-1\"\n",
      "            ]\n",
      "        }\n",
      "    },\n",
      "    \"is_hetero\": false,\n",
      "    \"is_master\": true,\n",
      "    \"is_modelparallel_enabled\": null,\n",
      "    \"is_smddpmprun_installed\": false,\n",
      "    \"is_smddprun_installed\": false,\n",
      "    \"job_name\": \"lstm-ae-v1-4-2024-01-06-07-57-44-140\",\n",
      "    \"log_level\": 20,\n",
      "    \"master_hostname\": \"algo-1\",\n",
      "    \"model_dir\": \"/opt/ml/model\",\n",
      "    \"module_dir\": \"/opt/ml/code\",\n",
      "    \"module_name\": \"training\",\n",
      "    \"network_interface_name\": \"eth0\",\n",
      "    \"num_cpus\": 8,\n",
      "    \"num_gpus\": 0,\n",
      "    \"num_neurons\": 0,\n",
      "    \"output_data_dir\": \"/opt/ml/output/data\",\n",
      "    \"output_dir\": \"/opt/ml/output\",\n",
      "    \"output_intermediate_dir\": \"/opt/ml/output/intermediate\",\n",
      "    \"resource_config\": {\n",
      "        \"current_host\": \"algo-1\",\n",
      "        \"current_instance_type\": \"ml.m5.2xlarge\",\n",
      "        \"current_group_name\": \"homogeneousCluster\",\n",
      "        \"hosts\": [\n",
      "            \"algo-1\"\n",
      "        ],\n",
      "        \"instance_groups\": [\n",
      "            {\n",
      "                \"instance_group_name\": \"homogeneousCluster\",\n",
      "                \"instance_type\": \"ml.m5.2xlarge\",\n",
      "                \"hosts\": [\n",
      "                    \"algo-1\"\n",
      "                ]\n",
      "            }\n",
      "        ],\n",
      "        \"network_interface_name\": \"eth0\"\n",
      "    },\n",
      "    \"user_entry_point\": \"training.py\"\u001b[0m\n",
      "\u001b[34m}\u001b[0m\n",
      "\u001b[34mEnvironment variables:\u001b[0m\n",
      "\u001b[34mSM_HOSTS=[\"algo-1\"]\u001b[0m\n",
      "\u001b[34mSM_NETWORK_INTERFACE_NAME=eth0\u001b[0m\n",
      "\u001b[34mSM_HPS={\"batch-size\":32,\"epochs\":500,\"hidden-size\":100,\"lr\":0.001,\"sequence-length\":10,\"sequence-stride\":1}\u001b[0m\n",
      "\u001b[34mSM_USER_ENTRY_POINT=training.py\u001b[0m\n",
      "\u001b[34mSM_FRAMEWORK_PARAMS={}\u001b[0m\n",
      "\u001b[34mSM_RESOURCE_CONFIG={\"current_group_name\":\"homogeneousCluster\",\"current_host\":\"algo-1\",\"current_instance_type\":\"ml.m5.2xlarge\",\"hosts\":[\"algo-1\"],\"instance_groups\":[{\"hosts\":[\"algo-1\"],\"instance_group_name\":\"homogeneousCluster\",\"instance_type\":\"ml.m5.2xlarge\"}],\"network_interface_name\":\"eth0\"}\u001b[0m\n",
      "\u001b[34mSM_INPUT_DATA_CONFIG={\"training\":{\"RecordWrapperType\":\"None\",\"S3DistributionType\":\"FullyReplicated\",\"TrainingInputMode\":\"File\"}}\u001b[0m\n",
      "\u001b[34mSM_OUTPUT_DATA_DIR=/opt/ml/output/data\u001b[0m\n",
      "\u001b[34mSM_CHANNELS=[\"training\"]\u001b[0m\n",
      "\u001b[34mSM_CURRENT_HOST=algo-1\u001b[0m\n",
      "\u001b[34mSM_CURRENT_INSTANCE_TYPE=ml.m5.2xlarge\u001b[0m\n",
      "\u001b[34mSM_CURRENT_INSTANCE_GROUP=homogeneousCluster\u001b[0m\n",
      "\u001b[34mSM_CURRENT_INSTANCE_GROUP_HOSTS=[\"algo-1\"]\u001b[0m\n",
      "\u001b[34mSM_INSTANCE_GROUPS=[\"homogeneousCluster\"]\u001b[0m\n",
      "\u001b[34mSM_INSTANCE_GROUPS_DICT={\"homogeneousCluster\":{\"hosts\":[\"algo-1\"],\"instance_group_name\":\"homogeneousCluster\",\"instance_type\":\"ml.m5.2xlarge\"}}\u001b[0m\n",
      "\u001b[34mSM_DISTRIBUTION_INSTANCE_GROUPS=[]\u001b[0m\n",
      "\u001b[34mSM_IS_HETERO=false\u001b[0m\n",
      "\u001b[34mSM_MODULE_NAME=training\u001b[0m\n",
      "\u001b[34mSM_LOG_LEVEL=20\u001b[0m\n",
      "\u001b[34mSM_FRAMEWORK_MODULE=sagemaker_pytorch_container.training:main\u001b[0m\n",
      "\u001b[34mSM_INPUT_DIR=/opt/ml/input\u001b[0m\n",
      "\u001b[34mSM_INPUT_CONFIG_DIR=/opt/ml/input/config\u001b[0m\n",
      "\u001b[34mSM_OUTPUT_DIR=/opt/ml/output\u001b[0m\n",
      "\u001b[34mSM_NUM_CPUS=8\u001b[0m\n",
      "\u001b[34mSM_NUM_GPUS=0\u001b[0m\n",
      "\u001b[34mSM_NUM_NEURONS=0\u001b[0m\n",
      "\u001b[34mSM_MODEL_DIR=/opt/ml/model\u001b[0m\n",
      "\u001b[34mSM_MODULE_DIR=/opt/ml/code\u001b[0m\n",
      "\u001b[34mSM_TRAINING_ENV={\"additional_framework_parameters\":{},\"channel_input_dirs\":{\"training\":\"/opt/ml/input/data/training\"},\"current_host\":\"algo-1\",\"current_instance_group\":\"homogeneousCluster\",\"current_instance_group_hosts\":[\"algo-1\"],\"current_instance_type\":\"ml.m5.2xlarge\",\"distribution_hosts\":[],\"distribution_instance_groups\":[],\"framework_module\":\"sagemaker_pytorch_container.training:main\",\"hosts\":[\"algo-1\"],\"hyperparameters\":{\"batch-size\":32,\"epochs\":500,\"hidden-size\":100,\"lr\":0.001,\"sequence-length\":10,\"sequence-stride\":1},\"input_config_dir\":\"/opt/ml/input/config\",\"input_data_config\":{\"training\":{\"RecordWrapperType\":\"None\",\"S3DistributionType\":\"FullyReplicated\",\"TrainingInputMode\":\"File\"}},\"input_dir\":\"/opt/ml/input\",\"instance_groups\":[\"homogeneousCluster\"],\"instance_groups_dict\":{\"homogeneousCluster\":{\"hosts\":[\"algo-1\"],\"instance_group_name\":\"homogeneousCluster\",\"instance_type\":\"ml.m5.2xlarge\"}},\"is_hetero\":false,\"is_master\":true,\"is_modelparallel_enabled\":null,\"is_smddpmprun_installed\":false,\"is_smddprun_installed\":false,\"job_name\":\"lstm-ae-v1-4-2024-01-06-07-57-44-140\",\"log_level\":20,\"master_hostname\":\"algo-1\",\"model_dir\":\"/opt/ml/model\",\"module_dir\":\"/opt/ml/code\",\"module_name\":\"training\",\"network_interface_name\":\"eth0\",\"num_cpus\":8,\"num_gpus\":0,\"num_neurons\":0,\"output_data_dir\":\"/opt/ml/output/data\",\"output_dir\":\"/opt/ml/output\",\"output_intermediate_dir\":\"/opt/ml/output/intermediate\",\"resource_config\":{\"current_group_name\":\"homogeneousCluster\",\"current_host\":\"algo-1\",\"current_instance_type\":\"ml.m5.2xlarge\",\"hosts\":[\"algo-1\"],\"instance_groups\":[{\"hosts\":[\"algo-1\"],\"instance_group_name\":\"homogeneousCluster\",\"instance_type\":\"ml.m5.2xlarge\"}],\"network_interface_name\":\"eth0\"},\"user_entry_point\":\"training.py\"}\u001b[0m\n",
      "\u001b[34mSM_USER_ARGS=[\"--batch-size\",\"32\",\"--epochs\",\"500\",\"--hidden-size\",\"100\",\"--lr\",\"0.001\",\"--sequence-length\",\"10\",\"--sequence-stride\",\"1\"]\u001b[0m\n",
      "\u001b[34mSM_OUTPUT_INTERMEDIATE_DIR=/opt/ml/output/intermediate\u001b[0m\n",
      "\u001b[34mSM_CHANNEL_TRAINING=/opt/ml/input/data/training\u001b[0m\n",
      "\u001b[34mSM_HP_BATCH-SIZE=32\u001b[0m\n",
      "\u001b[34mSM_HP_EPOCHS=500\u001b[0m\n",
      "\u001b[34mSM_HP_HIDDEN-SIZE=100\u001b[0m\n",
      "\u001b[34mSM_HP_LR=0.001\u001b[0m\n",
      "\u001b[34mSM_HP_SEQUENCE-LENGTH=10\u001b[0m\n",
      "\u001b[34mSM_HP_SEQUENCE-STRIDE=1\u001b[0m\n",
      "\u001b[34mPYTHONPATH=/opt/ml/code:/opt/conda/bin:/opt/conda/lib/python310.zip:/opt/conda/lib/python3.10:/opt/conda/lib/python3.10/lib-dynload:/opt/conda/lib/python3.10/site-packages\u001b[0m\n",
      "\u001b[34mInvoking script with the following command:\u001b[0m\n",
      "\u001b[34m/opt/conda/bin/python3.10 training.py --batch-size 32 --epochs 500 --hidden-size 100 --lr 0.001 --sequence-length 10 --sequence-stride 1\u001b[0m\n",
      "\u001b[34m2024-01-06 08:02:14,244 sagemaker-training-toolkit INFO     Exceptions not imported for SageMaker Debugger as it is not installed.\u001b[0m\n",
      "\u001b[34m2024-01-06 08:02:14,244 sagemaker-training-toolkit INFO     Exceptions not imported for SageMaker TF as Tensorflow is not installed.\u001b[0m\n",
      "\u001b[34m--------------------------------------\u001b[0m\n",
      "\u001b[34mTraining on 2 time series.\u001b[0m\n",
      "\u001b[34mTime series length: 8402\u001b[0m\n",
      "\u001b[34m--------------------------------------\u001b[0m\n",
      "\u001b[34m--------------------------------------\u001b[0m\n",
      "\u001b[34mTraining the model.\u001b[0m\n",
      "\u001b[34mepoch: 1 train_mse: 0.75343996 train_mae: 0.60477734\u001b[0m\n",
      "\u001b[34mepoch: 2 train_mse: 0.69180506 train_mae: 0.57493883\u001b[0m\n",
      "\u001b[34mepoch: 3 train_mse: 0.65675706 train_mae: 0.55481797\u001b[0m\n",
      "\u001b[34mepoch: 4 train_mse: 0.62978965 train_mae: 0.54414767\u001b[0m\n",
      "\u001b[34mepoch: 5 train_mse: 0.61179477 train_mae: 0.53683734\u001b[0m\n",
      "\u001b[34mepoch: 6 train_mse: 0.59299761 train_mae: 0.52785635\u001b[0m\n",
      "\u001b[34mepoch: 7 train_mse: 0.57784528 train_mae: 0.51904792\u001b[0m\n",
      "\u001b[34mepoch: 8 train_mse: 0.56167042 train_mae: 0.50958085\u001b[0m\n",
      "\u001b[34mepoch: 9 train_mse: 0.55053878 train_mae: 0.50489283\u001b[0m\n",
      "\u001b[34mepoch: 10 train_mse: 0.54391748 train_mae: 0.50043434\u001b[0m\n",
      "\u001b[34mepoch: 11 train_mse: 0.53045690 train_mae: 0.49523464\u001b[0m\n",
      "\u001b[34mepoch: 12 train_mse: 0.52072775 train_mae: 0.49079397\u001b[0m\n",
      "\u001b[34mepoch: 13 train_mse: 0.51299137 train_mae: 0.48753640\u001b[0m\n",
      "\u001b[34mepoch: 14 train_mse: 0.50942749 train_mae: 0.48696935\u001b[0m\n",
      "\u001b[34mepoch: 15 train_mse: 0.50276345 train_mae: 0.48314852\u001b[0m\n",
      "\u001b[34mepoch: 16 train_mse: 0.49967495 train_mae: 0.48169944\u001b[0m\n",
      "\u001b[34mepoch: 17 train_mse: 0.50237972 train_mae: 0.48236784\u001b[0m\n",
      "\u001b[34mepoch: 18 train_mse: 0.48981971 train_mae: 0.47784060\u001b[0m\n",
      "\u001b[34mepoch: 19 train_mse: 0.48549423 train_mae: 0.47605455\u001b[0m\n",
      "\u001b[34mepoch: 20 train_mse: 0.48248401 train_mae: 0.47532931\u001b[0m\n",
      "\u001b[34mepoch: 21 train_mse: 0.47516769 train_mae: 0.47084019\u001b[0m\n",
      "\u001b[34mepoch: 22 train_mse: 0.46725228 train_mae: 0.46766528\u001b[0m\n",
      "\u001b[34mepoch: 23 train_mse: 0.46092108 train_mae: 0.46438336\u001b[0m\n",
      "\u001b[34mepoch: 24 train_mse: 0.45477557 train_mae: 0.46127734\u001b[0m\n",
      "\u001b[34mepoch: 25 train_mse: 0.45522788 train_mae: 0.46051964\u001b[0m\n",
      "\u001b[34mepoch: 26 train_mse: 0.44255739 train_mae: 0.45461461\u001b[0m\n",
      "\u001b[34mepoch: 27 train_mse: 0.43906167 train_mae: 0.45157006\u001b[0m\n",
      "\u001b[34mepoch: 28 train_mse: 0.43665746 train_mae: 0.44968665\u001b[0m\n",
      "\u001b[34mepoch: 29 train_mse: 0.42577043 train_mae: 0.44378221\u001b[0m\n",
      "\u001b[34mepoch: 30 train_mse: 0.42324415 train_mae: 0.44240674\u001b[0m\n",
      "\u001b[34mepoch: 31 train_mse: 0.41541907 train_mae: 0.43809423\u001b[0m\n",
      "\u001b[34mepoch: 32 train_mse: 0.41334945 train_mae: 0.43625671\u001b[0m\n",
      "\u001b[34mepoch: 33 train_mse: 0.40880927 train_mae: 0.43359303\u001b[0m\n",
      "\u001b[34mepoch: 34 train_mse: 0.40248609 train_mae: 0.43159217\u001b[0m\n",
      "\u001b[34mepoch: 35 train_mse: 0.39871973 train_mae: 0.42902368\u001b[0m\n",
      "\u001b[34mepoch: 36 train_mse: 0.39434272 train_mae: 0.42606848\u001b[0m\n",
      "\u001b[34mepoch: 37 train_mse: 0.39236900 train_mae: 0.42604086\u001b[0m\n",
      "\u001b[34mepoch: 38 train_mse: 0.39097384 train_mae: 0.42576179\u001b[0m\n",
      "\u001b[34mepoch: 39 train_mse: 0.38686016 train_mae: 0.42365822\u001b[0m\n",
      "\u001b[34mepoch: 40 train_mse: 0.38422838 train_mae: 0.42231894\u001b[0m\n",
      "\u001b[34mepoch: 41 train_mse: 0.38248762 train_mae: 0.42173299\u001b[0m\n",
      "\u001b[34mepoch: 42 train_mse: 0.38337681 train_mae: 0.42260450\u001b[0m\n",
      "\u001b[34mepoch: 43 train_mse: 0.38076434 train_mae: 0.42215055\u001b[0m\n",
      "\u001b[34mepoch: 44 train_mse: 0.38175112 train_mae: 0.42264318\u001b[0m\n",
      "\u001b[34mepoch: 45 train_mse: 0.37790003 train_mae: 0.42152002\u001b[0m\n",
      "\u001b[34mepoch: 46 train_mse: 0.37854853 train_mae: 0.42095572\u001b[0m\n",
      "\u001b[34mepoch: 47 train_mse: 0.37479672 train_mae: 0.41979191\u001b[0m\n",
      "\u001b[34mepoch: 48 train_mse: 0.37263030 train_mae: 0.41812956\u001b[0m\n",
      "\u001b[34mepoch: 49 train_mse: 0.36829031 train_mae: 0.41561911\u001b[0m\n",
      "\u001b[34mepoch: 50 train_mse: 0.36992368 train_mae: 0.41589555\u001b[0m\n",
      "\u001b[34mepoch: 51 train_mse: 0.36905757 train_mae: 0.41561386\u001b[0m\n",
      "\u001b[34mepoch: 52 train_mse: 0.36750150 train_mae: 0.41412207\u001b[0m\n",
      "\u001b[34mepoch: 53 train_mse: 0.36405715 train_mae: 0.41255414\u001b[0m\n",
      "\u001b[34mepoch: 54 train_mse: 0.36006093 train_mae: 0.40996867\u001b[0m\n",
      "\u001b[34mepoch: 55 train_mse: 0.35907525 train_mae: 0.40877262\u001b[0m\n",
      "\u001b[34mepoch: 56 train_mse: 0.35991868 train_mae: 0.40921479\u001b[0m\n",
      "\u001b[34mepoch: 57 train_mse: 0.35499790 train_mae: 0.40613389\u001b[0m\n",
      "\u001b[34mepoch: 58 train_mse: 0.35330388 train_mae: 0.40542534\u001b[0m\n",
      "\u001b[34mepoch: 59 train_mse: 0.35042045 train_mae: 0.40285200\u001b[0m\n",
      "\u001b[34mepoch: 60 train_mse: 0.34722060 train_mae: 0.40037805\u001b[0m\n",
      "\u001b[34mepoch: 61 train_mse: 0.34709021 train_mae: 0.39998344\u001b[0m\n",
      "\u001b[34mepoch: 62 train_mse: 0.34096953 train_mae: 0.39729199\u001b[0m\n",
      "\u001b[34mepoch: 63 train_mse: 0.34138924 train_mae: 0.39730376\u001b[0m\n",
      "\u001b[34mepoch: 64 train_mse: 0.33783516 train_mae: 0.39424455\u001b[0m\n",
      "\u001b[34mepoch: 65 train_mse: 0.33990607 train_mae: 0.39535114\u001b[0m\n",
      "\u001b[34mepoch: 66 train_mse: 0.33315283 train_mae: 0.39163694\u001b[0m\n",
      "\u001b[34mepoch: 67 train_mse: 0.33156532 train_mae: 0.39015815\u001b[0m\n",
      "\u001b[34mepoch: 68 train_mse: 0.33073539 train_mae: 0.39021164\u001b[0m\n",
      "\u001b[34mepoch: 69 train_mse: 0.32943100 train_mae: 0.38953117\u001b[0m\n",
      "\u001b[34mepoch: 70 train_mse: 0.32710865 train_mae: 0.38758248\u001b[0m\n",
      "\u001b[34mepoch: 71 train_mse: 0.32360581 train_mae: 0.38570288\u001b[0m\n",
      "\u001b[34mepoch: 72 train_mse: 0.32264695 train_mae: 0.38458106\u001b[0m\n",
      "\u001b[34mepoch: 73 train_mse: 0.32037091 train_mae: 0.38328779\u001b[0m\n",
      "\u001b[34mepoch: 74 train_mse: 0.32016024 train_mae: 0.38205051\u001b[0m\n",
      "\u001b[34mepoch: 75 train_mse: 0.31834564 train_mae: 0.38207340\u001b[0m\n",
      "\u001b[34mepoch: 76 train_mse: 0.31625792 train_mae: 0.37943113\u001b[0m\n",
      "\u001b[34mepoch: 77 train_mse: 0.31480253 train_mae: 0.37864387\u001b[0m\n",
      "\u001b[34mepoch: 78 train_mse: 0.31245655 train_mae: 0.37686941\u001b[0m\n",
      "\u001b[34mepoch: 79 train_mse: 0.31568989 train_mae: 0.37799022\u001b[0m\n",
      "\u001b[34mepoch: 80 train_mse: 0.31062466 train_mae: 0.37501264\u001b[0m\n",
      "\u001b[34mepoch: 81 train_mse: 0.31122932 train_mae: 0.37509453\u001b[0m\n",
      "\u001b[34mepoch: 82 train_mse: 0.31046313 train_mae: 0.37456393\u001b[0m\n",
      "\u001b[34mepoch: 83 train_mse: 0.30401319 train_mae: 0.37136492\u001b[0m\n",
      "\u001b[34mepoch: 84 train_mse: 0.30729994 train_mae: 0.37272295\u001b[0m\n",
      "\u001b[34mepoch: 85 train_mse: 0.30259061 train_mae: 0.37100631\u001b[0m\n",
      "\u001b[34mepoch: 86 train_mse: 0.30490649 train_mae: 0.37167242\u001b[0m\n",
      "\u001b[34mepoch: 87 train_mse: 0.30248922 train_mae: 0.37034723\u001b[0m\n",
      "\u001b[34mepoch: 88 train_mse: 0.30146155 train_mae: 0.36958179\u001b[0m\n",
      "\u001b[34mepoch: 89 train_mse: 0.30357471 train_mae: 0.37131768\u001b[0m\n",
      "\u001b[34mepoch: 90 train_mse: 0.29929942 train_mae: 0.36895022\u001b[0m\n",
      "\u001b[34mepoch: 91 train_mse: 0.29776573 train_mae: 0.36823866\u001b[0m\n",
      "\u001b[34mepoch: 92 train_mse: 0.29706877 train_mae: 0.36734769\u001b[0m\n",
      "\u001b[34mepoch: 93 train_mse: 0.29493603 train_mae: 0.36655721\u001b[0m\n",
      "\u001b[34mepoch: 94 train_mse: 0.29442021 train_mae: 0.36544424\u001b[0m\n",
      "\u001b[34mepoch: 95 train_mse: 0.29453671 train_mae: 0.36645794\u001b[0m\n",
      "\u001b[34mepoch: 96 train_mse: 0.29024205 train_mae: 0.36340094\u001b[0m\n",
      "\u001b[34mepoch: 97 train_mse: 0.28857946 train_mae: 0.36218190\u001b[0m\n",
      "\u001b[34mepoch: 98 train_mse: 0.28702137 train_mae: 0.36059713\u001b[0m\n",
      "\u001b[34mepoch: 99 train_mse: 0.28756601 train_mae: 0.36095408\u001b[0m\n",
      "\u001b[34mepoch: 100 train_mse: 0.28778383 train_mae: 0.36138320\u001b[0m\n",
      "\u001b[34mepoch: 101 train_mse: 0.28193864 train_mae: 0.35802791\u001b[0m\n",
      "\u001b[34mepoch: 102 train_mse: 0.28008613 train_mae: 0.35807741\u001b[0m\n",
      "\u001b[34mepoch: 103 train_mse: 0.27915788 train_mae: 0.35627532\u001b[0m\n",
      "\u001b[34mepoch: 104 train_mse: 0.27782834 train_mae: 0.35574859\u001b[0m\n",
      "\u001b[34mepoch: 105 train_mse: 0.27550828 train_mae: 0.35399476\u001b[0m\n",
      "\u001b[34mepoch: 106 train_mse: 0.27508733 train_mae: 0.35378236\u001b[0m\n",
      "\u001b[34mepoch: 107 train_mse: 0.27430832 train_mae: 0.35410193\u001b[0m\n",
      "\u001b[34mepoch: 108 train_mse: 0.27254140 train_mae: 0.35327661\u001b[0m\n",
      "\u001b[34mepoch: 109 train_mse: 0.27336586 train_mae: 0.35269004\u001b[0m\n",
      "\u001b[34mepoch: 110 train_mse: 0.27213252 train_mae: 0.35235643\u001b[0m\n",
      "\u001b[34mepoch: 111 train_mse: 0.26923266 train_mae: 0.35013562\u001b[0m\n",
      "\u001b[34mepoch: 112 train_mse: 0.26707053 train_mae: 0.35014462\u001b[0m\n",
      "\u001b[34mepoch: 113 train_mse: 0.26655465 train_mae: 0.34902063\u001b[0m\n",
      "\u001b[34mepoch: 114 train_mse: 0.26065475 train_mae: 0.34565863\u001b[0m\n",
      "\u001b[34mepoch: 115 train_mse: 0.26280308 train_mae: 0.34598249\u001b[0m\n",
      "\u001b[34mepoch: 116 train_mse: 0.26065499 train_mae: 0.34552866\u001b[0m\n",
      "\u001b[34mepoch: 117 train_mse: 0.25812432 train_mae: 0.34421605\u001b[0m\n",
      "\u001b[34mepoch: 118 train_mse: 0.25717032 train_mae: 0.34388390\u001b[0m\n",
      "\u001b[34mepoch: 119 train_mse: 0.25394541 train_mae: 0.34149882\u001b[0m\n",
      "\u001b[34mepoch: 120 train_mse: 0.24990024 train_mae: 0.33842105\u001b[0m\n",
      "\u001b[34mepoch: 121 train_mse: 0.25099465 train_mae: 0.33972454\u001b[0m\n",
      "\u001b[34mepoch: 122 train_mse: 0.24932121 train_mae: 0.33745167\u001b[0m\n",
      "\u001b[34mepoch: 123 train_mse: 0.24904716 train_mae: 0.33743870\u001b[0m\n",
      "\u001b[34mepoch: 124 train_mse: 0.24705055 train_mae: 0.33561862\u001b[0m\n",
      "\u001b[34mepoch: 125 train_mse: 0.24376675 train_mae: 0.33394158\u001b[0m\n",
      "\u001b[34mepoch: 126 train_mse: 0.24082115 train_mae: 0.33191282\u001b[0m\n",
      "\u001b[34mepoch: 127 train_mse: 0.23868392 train_mae: 0.33067837\u001b[0m\n",
      "\u001b[34mepoch: 128 train_mse: 0.23781019 train_mae: 0.32915294\u001b[0m\n",
      "\u001b[34mepoch: 129 train_mse: 0.23972212 train_mae: 0.33086246\u001b[0m\n",
      "\u001b[34mepoch: 130 train_mse: 0.23327281 train_mae: 0.32638761\u001b[0m\n",
      "\u001b[34mepoch: 131 train_mse: 0.23470718 train_mae: 0.32527342\u001b[0m\n",
      "\u001b[34mepoch: 132 train_mse: 0.23477027 train_mae: 0.32587764\u001b[0m\n",
      "\u001b[34mepoch: 133 train_mse: 0.22903301 train_mae: 0.32195580\u001b[0m\n",
      "\u001b[34mepoch: 134 train_mse: 0.22522327 train_mae: 0.31850958\u001b[0m\n",
      "\u001b[34mepoch: 135 train_mse: 0.22486162 train_mae: 0.31877157\u001b[0m\n",
      "\u001b[34mepoch: 136 train_mse: 0.22730988 train_mae: 0.31916416\u001b[0m\n",
      "\u001b[34mepoch: 137 train_mse: 0.21950467 train_mae: 0.31418246\u001b[0m\n",
      "\u001b[34mepoch: 138 train_mse: 0.21874015 train_mae: 0.31363457\u001b[0m\n",
      "\u001b[34mepoch: 139 train_mse: 0.21996111 train_mae: 0.31329823\u001b[0m\n",
      "\u001b[34mepoch: 140 train_mse: 0.21983610 train_mae: 0.31469929\u001b[0m\n",
      "\u001b[34mepoch: 141 train_mse: 0.21645944 train_mae: 0.31091645\u001b[0m\n",
      "\u001b[34mepoch: 142 train_mse: 0.21295877 train_mae: 0.30885005\u001b[0m\n",
      "\u001b[34mepoch: 143 train_mse: 0.21206340 train_mae: 0.30740112\u001b[0m\n",
      "\u001b[34mepoch: 144 train_mse: 0.21220547 train_mae: 0.30861416\u001b[0m\n",
      "\u001b[34mepoch: 145 train_mse: 0.20849241 train_mae: 0.30641690\u001b[0m\n",
      "\u001b[34mepoch: 146 train_mse: 0.20785159 train_mae: 0.30388740\u001b[0m\n",
      "\u001b[34mepoch: 147 train_mse: 0.20887318 train_mae: 0.30481005\u001b[0m\n",
      "\u001b[34mepoch: 148 train_mse: 0.20643841 train_mae: 0.30377984\u001b[0m\n",
      "\u001b[34mepoch: 149 train_mse: 0.20377018 train_mae: 0.30064854\u001b[0m\n",
      "\u001b[34mepoch: 150 train_mse: 0.20488426 train_mae: 0.30233651\u001b[0m\n",
      "\u001b[34mepoch: 151 train_mse: 0.20274414 train_mae: 0.29966041\u001b[0m\n",
      "\u001b[34mepoch: 152 train_mse: 0.20293628 train_mae: 0.29972962\u001b[0m\n",
      "\u001b[34mepoch: 153 train_mse: 0.20026375 train_mae: 0.29809010\u001b[0m\n",
      "\u001b[34mepoch: 154 train_mse: 0.20217641 train_mae: 0.29903081\u001b[0m\n",
      "\u001b[34mepoch: 155 train_mse: 0.20096888 train_mae: 0.29796356\u001b[0m\n",
      "\u001b[34mepoch: 156 train_mse: 0.19858980 train_mae: 0.29672793\u001b[0m\n",
      "\u001b[34mepoch: 157 train_mse: 0.19832039 train_mae: 0.29729092\u001b[0m\n",
      "\u001b[34mepoch: 158 train_mse: 0.19733949 train_mae: 0.29550651\u001b[0m\n",
      "\u001b[34mepoch: 159 train_mse: 0.19829400 train_mae: 0.29574630\u001b[0m\n",
      "\u001b[34mepoch: 160 train_mse: 0.19452198 train_mae: 0.29303896\u001b[0m\n",
      "\u001b[34mepoch: 161 train_mse: 0.19804846 train_mae: 0.29545879\u001b[0m\n",
      "\u001b[34mepoch: 162 train_mse: 0.19370410 train_mae: 0.29307243\u001b[0m\n",
      "\u001b[34mepoch: 163 train_mse: 0.19347423 train_mae: 0.29325044\u001b[0m\n",
      "\u001b[34mepoch: 164 train_mse: 0.19383919 train_mae: 0.29299426\u001b[0m\n",
      "\u001b[34mepoch: 165 train_mse: 0.19425896 train_mae: 0.29366940\u001b[0m\n",
      "\u001b[34mepoch: 166 train_mse: 0.19282049 train_mae: 0.29248419\u001b[0m\n",
      "\u001b[34mepoch: 167 train_mse: 0.19202171 train_mae: 0.29196703\u001b[0m\n",
      "\u001b[34mepoch: 168 train_mse: 0.19090837 train_mae: 0.29071671\u001b[0m\n",
      "\u001b[34mepoch: 169 train_mse: 0.18988410 train_mae: 0.29100123\u001b[0m\n",
      "\u001b[34mepoch: 170 train_mse: 0.19110815 train_mae: 0.29160681\u001b[0m\n",
      "\u001b[34mepoch: 171 train_mse: 0.18781976 train_mae: 0.28917307\u001b[0m\n",
      "\u001b[34mepoch: 172 train_mse: 0.18812907 train_mae: 0.28894478\u001b[0m\n",
      "\u001b[34mepoch: 173 train_mse: 0.19085032 train_mae: 0.29087302\u001b[0m\n",
      "\u001b[34mepoch: 174 train_mse: 0.18797959 train_mae: 0.28925243\u001b[0m\n",
      "\u001b[34mepoch: 175 train_mse: 0.18822794 train_mae: 0.28909975\u001b[0m\n",
      "\u001b[34mepoch: 176 train_mse: 0.18859896 train_mae: 0.29006019\u001b[0m\n",
      "\u001b[34mepoch: 177 train_mse: 0.18722974 train_mae: 0.28954476\u001b[0m\n",
      "\u001b[34mepoch: 178 train_mse: 0.18435526 train_mae: 0.28807032\u001b[0m\n",
      "\u001b[34mepoch: 179 train_mse: 0.18589561 train_mae: 0.28921962\u001b[0m\n",
      "\u001b[34mepoch: 180 train_mse: 0.18418834 train_mae: 0.28826243\u001b[0m\n",
      "\u001b[34mepoch: 181 train_mse: 0.18428594 train_mae: 0.28776142\u001b[0m\n",
      "\u001b[34mepoch: 182 train_mse: 0.18580186 train_mae: 0.28866732\u001b[0m\n",
      "\u001b[34mepoch: 183 train_mse: 0.18237625 train_mae: 0.28568602\u001b[0m\n",
      "\u001b[34mepoch: 184 train_mse: 0.18176214 train_mae: 0.28565365\u001b[0m\n",
      "\u001b[34mepoch: 185 train_mse: 0.18192324 train_mae: 0.28585172\u001b[0m\n",
      "\u001b[34mepoch: 186 train_mse: 0.17929640 train_mae: 0.28506219\u001b[0m\n",
      "\u001b[34mepoch: 187 train_mse: 0.18027437 train_mae: 0.28519651\u001b[0m\n",
      "\u001b[34mepoch: 188 train_mse: 0.18037523 train_mae: 0.28490010\u001b[0m\n",
      "\u001b[34mepoch: 189 train_mse: 0.17785330 train_mae: 0.28374225\u001b[0m\n",
      "\u001b[34mepoch: 190 train_mse: 0.17767188 train_mae: 0.28317896\u001b[0m\n",
      "\u001b[34mepoch: 191 train_mse: 0.17832322 train_mae: 0.28329954\u001b[0m\n",
      "\u001b[34mepoch: 192 train_mse: 0.17684007 train_mae: 0.28225952\u001b[0m\n",
      "\u001b[34mepoch: 193 train_mse: 0.17764074 train_mae: 0.28382280\u001b[0m\n",
      "\u001b[34mepoch: 194 train_mse: 0.17462575 train_mae: 0.28077665\u001b[0m\n",
      "\u001b[34mepoch: 195 train_mse: 0.17567064 train_mae: 0.28134942\u001b[0m\n",
      "\u001b[34mepoch: 196 train_mse: 0.17400478 train_mae: 0.28019825\u001b[0m\n",
      "\u001b[34mepoch: 197 train_mse: 0.17569581 train_mae: 0.28271022\u001b[0m\n",
      "\u001b[34mepoch: 198 train_mse: 0.17222239 train_mae: 0.27937445\u001b[0m\n",
      "\u001b[34mepoch: 199 train_mse: 0.17049368 train_mae: 0.27749130\u001b[0m\n",
      "\u001b[34mepoch: 200 train_mse: 0.17362624 train_mae: 0.27936494\u001b[0m\n",
      "\u001b[34mepoch: 201 train_mse: 0.17307834 train_mae: 0.27943406\u001b[0m\n",
      "\u001b[34mepoch: 202 train_mse: 0.17307922 train_mae: 0.27978319\u001b[0m\n",
      "\u001b[34mepoch: 203 train_mse: 0.17067915 train_mae: 0.27770272\u001b[0m\n",
      "\u001b[34mepoch: 204 train_mse: 0.16861017 train_mae: 0.27569279\u001b[0m\n",
      "\u001b[34mepoch: 205 train_mse: 0.16855548 train_mae: 0.27582186\u001b[0m\n",
      "\u001b[34mepoch: 206 train_mse: 0.16986343 train_mae: 0.27687290\u001b[0m\n",
      "\u001b[34mepoch: 207 train_mse: 0.16605692 train_mae: 0.27385959\u001b[0m\n",
      "\u001b[34mepoch: 208 train_mse: 0.16441287 train_mae: 0.27188057\u001b[0m\n",
      "\u001b[34mepoch: 209 train_mse: 0.16528475 train_mae: 0.27352476\u001b[0m\n",
      "\u001b[34mepoch: 210 train_mse: 0.16399543 train_mae: 0.27179426\u001b[0m\n",
      "\u001b[34mepoch: 211 train_mse: 0.16273157 train_mae: 0.27029255\u001b[0m\n",
      "\u001b[34mepoch: 212 train_mse: 0.16078325 train_mae: 0.26901782\u001b[0m\n",
      "\u001b[34mepoch: 213 train_mse: 0.16297048 train_mae: 0.27139285\u001b[0m\n",
      "\u001b[34mepoch: 214 train_mse: 0.15926918 train_mae: 0.26776567\u001b[0m\n",
      "\u001b[34mepoch: 215 train_mse: 0.15916958 train_mae: 0.26759502\u001b[0m\n",
      "\u001b[34mepoch: 216 train_mse: 0.15965760 train_mae: 0.26811567\u001b[0m\n",
      "\u001b[34mepoch: 217 train_mse: 0.15817508 train_mae: 0.26694942\u001b[0m\n",
      "\u001b[34mepoch: 218 train_mse: 0.15681125 train_mae: 0.26482338\u001b[0m\n",
      "\u001b[34mepoch: 219 train_mse: 0.15355785 train_mae: 0.26246640\u001b[0m\n",
      "\u001b[34mepoch: 220 train_mse: 0.15520169 train_mae: 0.26341444\u001b[0m\n",
      "\u001b[34mepoch: 221 train_mse: 0.15105323 train_mae: 0.26030335\u001b[0m\n",
      "\u001b[34mepoch: 222 train_mse: 0.15372883 train_mae: 0.26218683\u001b[0m\n",
      "\u001b[34mepoch: 223 train_mse: 0.14957510 train_mae: 0.25868139\u001b[0m\n",
      "\u001b[34mepoch: 224 train_mse: 0.15184578 train_mae: 0.26080224\u001b[0m\n",
      "\u001b[34mepoch: 225 train_mse: 0.15082523 train_mae: 0.25925860\u001b[0m\n",
      "\u001b[34mepoch: 226 train_mse: 0.14970976 train_mae: 0.25813660\u001b[0m\n",
      "\u001b[34mepoch: 227 train_mse: 0.14887823 train_mae: 0.25671259\u001b[0m\n",
      "\u001b[34mepoch: 228 train_mse: 0.14600821 train_mae: 0.25589448\u001b[0m\n",
      "\u001b[34mepoch: 229 train_mse: 0.14608526 train_mae: 0.25529155\u001b[0m\n",
      "\u001b[34mepoch: 230 train_mse: 0.14563353 train_mae: 0.25448444\u001b[0m\n",
      "\u001b[34mepoch: 231 train_mse: 0.14322232 train_mae: 0.25104073\u001b[0m\n",
      "\u001b[34mepoch: 232 train_mse: 0.14229114 train_mae: 0.24980971\u001b[0m\n",
      "\u001b[34mepoch: 233 train_mse: 0.14207000 train_mae: 0.25011358\u001b[0m\n",
      "\u001b[34mepoch: 234 train_mse: 0.13951492 train_mae: 0.24795048\u001b[0m\n",
      "\u001b[34mepoch: 235 train_mse: 0.14107503 train_mae: 0.25018349\u001b[0m\n",
      "\u001b[34mepoch: 236 train_mse: 0.13686167 train_mae: 0.24500853\u001b[0m\n",
      "\u001b[34mepoch: 237 train_mse: 0.13568240 train_mae: 0.24250387\u001b[0m\n",
      "\u001b[34mepoch: 238 train_mse: 0.13744183 train_mae: 0.24403977\u001b[0m\n",
      "\u001b[34mepoch: 239 train_mse: 0.13976850 train_mae: 0.24598034\u001b[0m\n",
      "\u001b[34mepoch: 240 train_mse: 0.13503638 train_mae: 0.24195063\u001b[0m\n",
      "\u001b[34mepoch: 241 train_mse: 0.13464686 train_mae: 0.24215360\u001b[0m\n",
      "\u001b[34mepoch: 242 train_mse: 0.13421743 train_mae: 0.24108018\u001b[0m\n",
      "\u001b[34mepoch: 243 train_mse: 0.13158236 train_mae: 0.23854224\u001b[0m\n",
      "\u001b[34mepoch: 244 train_mse: 0.13080969 train_mae: 0.23730928\u001b[0m\n",
      "\u001b[34mepoch: 245 train_mse: 0.12945023 train_mae: 0.23586392\u001b[0m\n",
      "\u001b[34mepoch: 246 train_mse: 0.12978721 train_mae: 0.23629370\u001b[0m\n",
      "\u001b[34mepoch: 247 train_mse: 0.13044132 train_mae: 0.23761584\u001b[0m\n",
      "\u001b[34mepoch: 248 train_mse: 0.13045935 train_mae: 0.23598179\u001b[0m\n",
      "\u001b[34mepoch: 249 train_mse: 0.12752107 train_mae: 0.23346069\u001b[0m\n",
      "\u001b[34mepoch: 250 train_mse: 0.12755165 train_mae: 0.23233387\u001b[0m\n",
      "\u001b[34mepoch: 251 train_mse: 0.12621322 train_mae: 0.23137990\u001b[0m\n",
      "\u001b[34mepoch: 252 train_mse: 0.12537847 train_mae: 0.22994912\u001b[0m\n",
      "\u001b[34mepoch: 253 train_mse: 0.12707740 train_mae: 0.23149458\u001b[0m\n",
      "\u001b[34mepoch: 254 train_mse: 0.12508351 train_mae: 0.23006225\u001b[0m\n",
      "\u001b[34mepoch: 255 train_mse: 0.12573922 train_mae: 0.23179300\u001b[0m\n",
      "\u001b[34mepoch: 256 train_mse: 0.12200248 train_mae: 0.22787300\u001b[0m\n",
      "\u001b[34mepoch: 257 train_mse: 0.12127408 train_mae: 0.22568394\u001b[0m\n",
      "\u001b[34mepoch: 258 train_mse: 0.12223279 train_mae: 0.22663166\u001b[0m\n",
      "\u001b[34mepoch: 259 train_mse: 0.12097696 train_mae: 0.22479951\u001b[0m\n",
      "\u001b[34mepoch: 260 train_mse: 0.12234073 train_mae: 0.22556131\u001b[0m\n",
      "\u001b[34mepoch: 261 train_mse: 0.12457180 train_mae: 0.22833797\u001b[0m\n",
      "\u001b[34mepoch: 262 train_mse: 0.12168785 train_mae: 0.22571877\u001b[0m\n",
      "\u001b[34mepoch: 263 train_mse: 0.11940208 train_mae: 0.22389041\u001b[0m\n",
      "\u001b[34mepoch: 264 train_mse: 0.12243280 train_mae: 0.22747245\u001b[0m\n",
      "\u001b[34mepoch: 265 train_mse: 0.12194356 train_mae: 0.22617967\u001b[0m\n",
      "\u001b[34mepoch: 266 train_mse: 0.12009717 train_mae: 0.22480923\u001b[0m\n",
      "\u001b[34mepoch: 267 train_mse: 0.11905140 train_mae: 0.22243232\u001b[0m\n",
      "\u001b[34mepoch: 268 train_mse: 0.11883929 train_mae: 0.22219238\u001b[0m\n",
      "\u001b[34mepoch: 269 train_mse: 0.11766750 train_mae: 0.22229594\u001b[0m\n",
      "\u001b[34mepoch: 270 train_mse: 0.11752041 train_mae: 0.22161406\u001b[0m\n",
      "\u001b[34mepoch: 271 train_mse: 0.11904482 train_mae: 0.22347929\u001b[0m\n",
      "\u001b[34mepoch: 272 train_mse: 0.11884122 train_mae: 0.22298363\u001b[0m\n",
      "\u001b[34mepoch: 273 train_mse: 0.11741836 train_mae: 0.22162676\u001b[0m\n",
      "\u001b[34mepoch: 274 train_mse: 0.11666400 train_mae: 0.22118188\u001b[0m\n",
      "\u001b[34mepoch: 275 train_mse: 0.11511281 train_mae: 0.21944812\u001b[0m\n",
      "\u001b[34mepoch: 276 train_mse: 0.11618565 train_mae: 0.22051287\u001b[0m\n",
      "\u001b[34mepoch: 277 train_mse: 0.11501275 train_mae: 0.21941078\u001b[0m\n",
      "\u001b[34mepoch: 278 train_mse: 0.11657403 train_mae: 0.22105819\u001b[0m\n",
      "\u001b[34mepoch: 279 train_mse: 0.11510088 train_mae: 0.22039801\u001b[0m\n",
      "\u001b[34mepoch: 280 train_mse: 0.11939860 train_mae: 0.22405569\u001b[0m\n",
      "\u001b[34mepoch: 281 train_mse: 0.12042079 train_mae: 0.22427647\u001b[0m\n",
      "\u001b[34mepoch: 282 train_mse: 0.11610809 train_mae: 0.22071873\u001b[0m\n",
      "\u001b[34mepoch: 283 train_mse: 0.11298817 train_mae: 0.21780689\u001b[0m\n",
      "\u001b[34mepoch: 284 train_mse: 0.11268242 train_mae: 0.21755715\u001b[0m\n",
      "\u001b[34mepoch: 285 train_mse: 0.11435052 train_mae: 0.21982013\u001b[0m\n",
      "\u001b[34mepoch: 286 train_mse: 0.11254138 train_mae: 0.21729487\u001b[0m\n",
      "\u001b[34mepoch: 287 train_mse: 0.11639689 train_mae: 0.22139461\u001b[0m\n",
      "\u001b[34mepoch: 288 train_mse: 0.11392348 train_mae: 0.21885547\u001b[0m\n",
      "\u001b[34mepoch: 289 train_mse: 0.11234860 train_mae: 0.21752375\u001b[0m\n",
      "\u001b[34mepoch: 290 train_mse: 0.11322308 train_mae: 0.21899240\u001b[0m\n",
      "\u001b[34mepoch: 291 train_mse: 0.11384176 train_mae: 0.21900302\u001b[0m\n",
      "\u001b[34mepoch: 292 train_mse: 0.11287812 train_mae: 0.21836075\u001b[0m\n",
      "\u001b[34mepoch: 293 train_mse: 0.11376388 train_mae: 0.21933889\u001b[0m\n",
      "\u001b[34mepoch: 294 train_mse: 0.11329406 train_mae: 0.21887580\u001b[0m\n",
      "\u001b[34mepoch: 295 train_mse: 0.11196735 train_mae: 0.21771614\u001b[0m\n",
      "\u001b[34mepoch: 296 train_mse: 0.11233211 train_mae: 0.21797585\u001b[0m\n",
      "\u001b[34mepoch: 297 train_mse: 0.11142851 train_mae: 0.21783289\u001b[0m\n",
      "\u001b[34mepoch: 298 train_mse: 0.11185838 train_mae: 0.21773203\u001b[0m\n",
      "\u001b[34mepoch: 299 train_mse: 0.11061889 train_mae: 0.21691653\u001b[0m\n",
      "\u001b[34mepoch: 300 train_mse: 0.11175408 train_mae: 0.21795228\u001b[0m\n",
      "\u001b[34mepoch: 301 train_mse: 0.11019102 train_mae: 0.21587452\u001b[0m\n",
      "\u001b[34mepoch: 302 train_mse: 0.10863686 train_mae: 0.21473718\u001b[0m\n",
      "\u001b[34mepoch: 303 train_mse: 0.11088870 train_mae: 0.21771322\u001b[0m\n",
      "\u001b[34mepoch: 304 train_mse: 0.11084099 train_mae: 0.21822935\u001b[0m\n",
      "\u001b[34mepoch: 305 train_mse: 0.10981032 train_mae: 0.21653537\u001b[0m\n",
      "\u001b[34mepoch: 306 train_mse: 0.11027095 train_mae: 0.21662566\u001b[0m\n",
      "\u001b[34mepoch: 307 train_mse: 0.11084528 train_mae: 0.21739174\u001b[0m\n",
      "\u001b[34mepoch: 308 train_mse: 0.11084522 train_mae: 0.21829981\u001b[0m\n",
      "\u001b[34mepoch: 309 train_mse: 0.10891203 train_mae: 0.21578762\u001b[0m\n",
      "\u001b[34mepoch: 310 train_mse: 0.10682269 train_mae: 0.21440630\u001b[0m\n",
      "\u001b[34mepoch: 311 train_mse: 0.10873123 train_mae: 0.21611328\u001b[0m\n",
      "\u001b[34mepoch: 312 train_mse: 0.10903930 train_mae: 0.21635902\u001b[0m\n",
      "\u001b[34mepoch: 313 train_mse: 0.10840441 train_mae: 0.21532483\u001b[0m\n",
      "\u001b[34mepoch: 314 train_mse: 0.10743759 train_mae: 0.21482462\u001b[0m\n",
      "\u001b[34mepoch: 315 train_mse: 0.10668880 train_mae: 0.21445334\u001b[0m\n",
      "\u001b[34mepoch: 316 train_mse: 0.10501468 train_mae: 0.21319100\u001b[0m\n",
      "\u001b[34mepoch: 317 train_mse: 0.10778792 train_mae: 0.21524385\u001b[0m\n",
      "\u001b[34mepoch: 318 train_mse: 0.10501852 train_mae: 0.21289836\u001b[0m\n",
      "\u001b[34mepoch: 319 train_mse: 0.10717652 train_mae: 0.21502720\u001b[0m\n",
      "\u001b[34mepoch: 320 train_mse: 0.10620089 train_mae: 0.21466717\u001b[0m\n",
      "\u001b[34mepoch: 321 train_mse: 0.10634161 train_mae: 0.21421771\u001b[0m\n",
      "\u001b[34mepoch: 322 train_mse: 0.10544901 train_mae: 0.21309447\u001b[0m\n",
      "\u001b[34mepoch: 323 train_mse: 0.10764100 train_mae: 0.21501651\u001b[0m\n",
      "\u001b[34mepoch: 324 train_mse: 0.10543293 train_mae: 0.21284048\u001b[0m\n",
      "\u001b[34mepoch: 325 train_mse: 0.10589167 train_mae: 0.21354319\u001b[0m\n",
      "\u001b[34mepoch: 326 train_mse: 0.10911829 train_mae: 0.21749897\u001b[0m\n",
      "\u001b[34mepoch: 327 train_mse: 0.10505969 train_mae: 0.21299033\u001b[0m\n",
      "\u001b[34mepoch: 328 train_mse: 0.10317244 train_mae: 0.21107633\u001b[0m\n",
      "\u001b[34mepoch: 329 train_mse: 0.10088074 train_mae: 0.20865020\u001b[0m\n",
      "\u001b[34mepoch: 330 train_mse: 0.10381312 train_mae: 0.21171446\u001b[0m\n",
      "\u001b[34mepoch: 331 train_mse: 0.10482411 train_mae: 0.21323326\u001b[0m\n",
      "\u001b[34mepoch: 332 train_mse: 0.10258135 train_mae: 0.21139646\u001b[0m\n",
      "\u001b[34mepoch: 333 train_mse: 0.10505220 train_mae: 0.21335568\u001b[0m\n",
      "\u001b[34mepoch: 334 train_mse: 0.10122306 train_mae: 0.20977192\u001b[0m\n",
      "\u001b[34mepoch: 335 train_mse: 0.10315754 train_mae: 0.21142538\u001b[0m\n",
      "\u001b[34mepoch: 336 train_mse: 0.10115453 train_mae: 0.21009576\u001b[0m\n",
      "\u001b[34mepoch: 337 train_mse: 0.10089554 train_mae: 0.20900267\u001b[0m\n",
      "\u001b[34mepoch: 338 train_mse: 0.10217979 train_mae: 0.20991911\u001b[0m\n",
      "\u001b[34mepoch: 339 train_mse: 0.10242129 train_mae: 0.21056765\u001b[0m\n",
      "\u001b[34mepoch: 340 train_mse: 0.10326413 train_mae: 0.21090473\u001b[0m\n",
      "\u001b[34mepoch: 341 train_mse: 0.09824143 train_mae: 0.20702779\u001b[0m\n",
      "\u001b[34mepoch: 342 train_mse: 0.09850800 train_mae: 0.20658645\u001b[0m\n",
      "\u001b[34mepoch: 343 train_mse: 0.09716254 train_mae: 0.20520659\u001b[0m\n",
      "\u001b[34mepoch: 344 train_mse: 0.09667429 train_mae: 0.20489866\u001b[0m\n",
      "\u001b[34mepoch: 345 train_mse: 0.10030327 train_mae: 0.20806164\u001b[0m\n",
      "\u001b[34mepoch: 346 train_mse: 0.09699631 train_mae: 0.20517364\u001b[0m\n",
      "\u001b[34mepoch: 347 train_mse: 0.09781879 train_mae: 0.20628168\u001b[0m\n",
      "\u001b[34mepoch: 348 train_mse: 0.09811339 train_mae: 0.20676565\u001b[0m\n",
      "\u001b[34mepoch: 349 train_mse: 0.10153104 train_mae: 0.20971078\u001b[0m\n",
      "\u001b[34mepoch: 350 train_mse: 0.09773514 train_mae: 0.20623375\u001b[0m\n",
      "\u001b[34mepoch: 351 train_mse: 0.09753966 train_mae: 0.20566204\u001b[0m\n",
      "\u001b[34mepoch: 352 train_mse: 0.09450411 train_mae: 0.20275083\u001b[0m\n",
      "\u001b[34mepoch: 353 train_mse: 0.09758774 train_mae: 0.20547175\u001b[0m\n",
      "\u001b[34mepoch: 354 train_mse: 0.09483752 train_mae: 0.20250602\u001b[0m\n",
      "\u001b[34mepoch: 355 train_mse: 0.09342720 train_mae: 0.20084697\u001b[0m\n",
      "\u001b[34mepoch: 356 train_mse: 0.09462894 train_mae: 0.20303594\u001b[0m\n",
      "\u001b[34mepoch: 357 train_mse: 0.09559031 train_mae: 0.20292854\u001b[0m\n",
      "\u001b[34mepoch: 358 train_mse: 0.09194477 train_mae: 0.19903955\u001b[0m\n",
      "\u001b[34mepoch: 359 train_mse: 0.09317387 train_mae: 0.20088410\u001b[0m\n",
      "\u001b[34mepoch: 360 train_mse: 0.09142066 train_mae: 0.19926468\u001b[0m\n",
      "\u001b[34mepoch: 361 train_mse: 0.09167399 train_mae: 0.19975714\u001b[0m\n",
      "\u001b[34mepoch: 362 train_mse: 0.09083127 train_mae: 0.19841330\u001b[0m\n",
      "\u001b[34mepoch: 363 train_mse: 0.09133393 train_mae: 0.19881839\u001b[0m\n",
      "\u001b[34mepoch: 364 train_mse: 0.09200839 train_mae: 0.19990505\u001b[0m\n",
      "\u001b[34mepoch: 365 train_mse: 0.09258232 train_mae: 0.20022650\u001b[0m\n",
      "\u001b[34mepoch: 366 train_mse: 0.09027788 train_mae: 0.19721198\u001b[0m\n",
      "\u001b[34mepoch: 367 train_mse: 0.09126122 train_mae: 0.19831212\u001b[0m\n",
      "\u001b[34mepoch: 368 train_mse: 0.08798147 train_mae: 0.19427907\u001b[0m\n",
      "\u001b[34mepoch: 369 train_mse: 0.08815095 train_mae: 0.19487184\u001b[0m\n",
      "\u001b[34mepoch: 370 train_mse: 0.08806995 train_mae: 0.19451238\u001b[0m\n",
      "\u001b[34mepoch: 371 train_mse: 0.08702351 train_mae: 0.19335409\u001b[0m\n",
      "\u001b[34mepoch: 372 train_mse: 0.08618873 train_mae: 0.19314130\u001b[0m\n",
      "\u001b[34mepoch: 373 train_mse: 0.08629530 train_mae: 0.19243956\u001b[0m\n",
      "\u001b[34mepoch: 374 train_mse: 0.08520252 train_mae: 0.19168256\u001b[0m\n",
      "\u001b[34mepoch: 375 train_mse: 0.08598153 train_mae: 0.19221863\u001b[0m\n",
      "\u001b[34mepoch: 376 train_mse: 0.08404852 train_mae: 0.18992873\u001b[0m\n",
      "\u001b[34mepoch: 377 train_mse: 0.08352152 train_mae: 0.18900280\u001b[0m\n",
      "\u001b[34mepoch: 378 train_mse: 0.08377618 train_mae: 0.18915161\u001b[0m\n",
      "\u001b[34mepoch: 379 train_mse: 0.08561554 train_mae: 0.19146729\u001b[0m\n",
      "\u001b[34mepoch: 380 train_mse: 0.08243852 train_mae: 0.18809921\u001b[0m\n",
      "\u001b[34mepoch: 381 train_mse: 0.08096296 train_mae: 0.18600489\u001b[0m\n",
      "\u001b[34mepoch: 382 train_mse: 0.08145228 train_mae: 0.18635575\u001b[0m\n",
      "\u001b[34mepoch: 383 train_mse: 0.08156579 train_mae: 0.18634516\u001b[0m\n",
      "\u001b[34mepoch: 384 train_mse: 0.08083633 train_mae: 0.18546425\u001b[0m\n",
      "\u001b[34mepoch: 385 train_mse: 0.08229748 train_mae: 0.18731326\u001b[0m\n",
      "\u001b[34mepoch: 386 train_mse: 0.07838860 train_mae: 0.18178235\u001b[0m\n",
      "\u001b[34mepoch: 387 train_mse: 0.08091372 train_mae: 0.18521431\u001b[0m\n",
      "\u001b[34mepoch: 388 train_mse: 0.07957197 train_mae: 0.18402216\u001b[0m\n",
      "\u001b[34mepoch: 389 train_mse: 0.08107597 train_mae: 0.18505985\u001b[0m\n",
      "\u001b[34mepoch: 390 train_mse: 0.07788377 train_mae: 0.18169583\u001b[0m\n",
      "\u001b[34mepoch: 391 train_mse: 0.07775998 train_mae: 0.18145984\u001b[0m\n",
      "\u001b[34mepoch: 392 train_mse: 0.07656894 train_mae: 0.17926329\u001b[0m\n",
      "\u001b[34mepoch: 393 train_mse: 0.07689403 train_mae: 0.18156639\u001b[0m\n",
      "\u001b[34mepoch: 394 train_mse: 0.07676075 train_mae: 0.17983845\u001b[0m\n",
      "\u001b[34mepoch: 395 train_mse: 0.07543983 train_mae: 0.17820989\u001b[0m\n",
      "\u001b[34mepoch: 396 train_mse: 0.07716825 train_mae: 0.17953531\u001b[0m\n",
      "\u001b[34mepoch: 397 train_mse: 0.07734751 train_mae: 0.18085636\u001b[0m\n",
      "\u001b[34mepoch: 398 train_mse: 0.07458458 train_mae: 0.17650239\u001b[0m\n",
      "\u001b[34mepoch: 399 train_mse: 0.07387711 train_mae: 0.17551535\u001b[0m\n",
      "\u001b[34mepoch: 400 train_mse: 0.07311866 train_mae: 0.17417873\u001b[0m\n",
      "\u001b[34mepoch: 401 train_mse: 0.07197675 train_mae: 0.17261232\u001b[0m\n",
      "\u001b[34mepoch: 402 train_mse: 0.07261223 train_mae: 0.17400938\u001b[0m\n",
      "\u001b[34mepoch: 403 train_mse: 0.07147941 train_mae: 0.17193636\u001b[0m\n",
      "\u001b[34mepoch: 404 train_mse: 0.06933645 train_mae: 0.16952750\u001b[0m\n",
      "\u001b[34mepoch: 405 train_mse: 0.06925742 train_mae: 0.16959329\u001b[0m\n",
      "\u001b[34mepoch: 406 train_mse: 0.07198413 train_mae: 0.17261185\u001b[0m\n",
      "\u001b[34mepoch: 407 train_mse: 0.06753931 train_mae: 0.16627106\u001b[0m\n",
      "\u001b[34mepoch: 408 train_mse: 0.06821215 train_mae: 0.16761081\u001b[0m\n",
      "\u001b[34mepoch: 409 train_mse: 0.06859531 train_mae: 0.16806415\u001b[0m\n",
      "\u001b[34mepoch: 410 train_mse: 0.06868168 train_mae: 0.16838135\u001b[0m\n",
      "\u001b[34mepoch: 411 train_mse: 0.06789408 train_mae: 0.16689709\u001b[0m\n",
      "\u001b[34mepoch: 412 train_mse: 0.06570695 train_mae: 0.16365029\u001b[0m\n",
      "\u001b[34mepoch: 413 train_mse: 0.06492639 train_mae: 0.16280778\u001b[0m\n",
      "\u001b[34mepoch: 414 train_mse: 0.06567100 train_mae: 0.16387054\u001b[0m\n",
      "\u001b[34mepoch: 415 train_mse: 0.06674365 train_mae: 0.16539301\u001b[0m\n",
      "\u001b[34mepoch: 416 train_mse: 0.06638139 train_mae: 0.16485396\u001b[0m\n",
      "\u001b[34mepoch: 417 train_mse: 0.06381417 train_mae: 0.16088164\u001b[0m\n",
      "\u001b[34mepoch: 418 train_mse: 0.06361181 train_mae: 0.16149579\u001b[0m\n",
      "\u001b[34mepoch: 419 train_mse: 0.06276845 train_mae: 0.15963446\u001b[0m\n",
      "\u001b[34mepoch: 420 train_mse: 0.06381383 train_mae: 0.16005041\u001b[0m\n",
      "\u001b[34mepoch: 421 train_mse: 0.06420124 train_mae: 0.16245541\u001b[0m\n",
      "\u001b[34mepoch: 422 train_mse: 0.06119043 train_mae: 0.15746330\u001b[0m\n",
      "\u001b[34mepoch: 423 train_mse: 0.06210956 train_mae: 0.15927355\u001b[0m\n",
      "\u001b[34mepoch: 424 train_mse: 0.06057443 train_mae: 0.15688418\u001b[0m\n",
      "\u001b[34mepoch: 425 train_mse: 0.05963554 train_mae: 0.15553980\u001b[0m\n",
      "\u001b[34mepoch: 426 train_mse: 0.05976438 train_mae: 0.15442128\u001b[0m\n",
      "\u001b[34mepoch: 427 train_mse: 0.05962075 train_mae: 0.15449013\u001b[0m\n",
      "\u001b[34mepoch: 428 train_mse: 0.05836241 train_mae: 0.15267730\u001b[0m\n",
      "\u001b[34mepoch: 429 train_mse: 0.05852577 train_mae: 0.15278850\u001b[0m\n",
      "\u001b[34mepoch: 430 train_mse: 0.05786301 train_mae: 0.15339339\u001b[0m\n",
      "\u001b[34mepoch: 431 train_mse: 0.05690553 train_mae: 0.15181355\u001b[0m\n",
      "\u001b[34mepoch: 432 train_mse: 0.05718735 train_mae: 0.15221317\u001b[0m\n",
      "\u001b[34mepoch: 433 train_mse: 0.05569358 train_mae: 0.14897735\u001b[0m\n",
      "\u001b[34mepoch: 434 train_mse: 0.05678374 train_mae: 0.15074767\u001b[0m\n",
      "\u001b[34mepoch: 435 train_mse: 0.05773113 train_mae: 0.15289487\u001b[0m\n",
      "\u001b[34mepoch: 436 train_mse: 0.05508984 train_mae: 0.14841118\u001b[0m\n",
      "\u001b[34mepoch: 437 train_mse: 0.05491609 train_mae: 0.14832827\u001b[0m\n",
      "\u001b[34mepoch: 438 train_mse: 0.05405752 train_mae: 0.14644656\u001b[0m\n",
      "\u001b[34mepoch: 439 train_mse: 0.05408088 train_mae: 0.14766698\u001b[0m\n",
      "\u001b[34mepoch: 440 train_mse: 0.05157753 train_mae: 0.14376833\u001b[0m\n",
      "\u001b[34mepoch: 441 train_mse: 0.05214782 train_mae: 0.14350821\u001b[0m\n",
      "\u001b[34mepoch: 442 train_mse: 0.05196263 train_mae: 0.14375746\u001b[0m\n",
      "\u001b[34mepoch: 443 train_mse: 0.05213638 train_mae: 0.14420362\u001b[0m\n",
      "\u001b[34mepoch: 444 train_mse: 0.05337093 train_mae: 0.14520216\u001b[0m\n",
      "\u001b[34mepoch: 445 train_mse: 0.05207928 train_mae: 0.14354883\u001b[0m\n",
      "\u001b[34mepoch: 446 train_mse: 0.05005325 train_mae: 0.14134717\u001b[0m\n",
      "\u001b[34mepoch: 447 train_mse: 0.05249425 train_mae: 0.14459616\u001b[0m\n",
      "\u001b[34mepoch: 448 train_mse: 0.04917016 train_mae: 0.13937314\u001b[0m\n",
      "\u001b[34mepoch: 449 train_mse: 0.04867782 train_mae: 0.13862005\u001b[0m\n",
      "\u001b[34mepoch: 450 train_mse: 0.04830247 train_mae: 0.13760717\u001b[0m\n",
      "\u001b[34mepoch: 451 train_mse: 0.04830723 train_mae: 0.13849871\u001b[0m\n",
      "\u001b[34mepoch: 452 train_mse: 0.05014734 train_mae: 0.14083371\u001b[0m\n",
      "\u001b[34mepoch: 453 train_mse: 0.04701583 train_mae: 0.13681570\u001b[0m\n",
      "\u001b[34mepoch: 454 train_mse: 0.04610912 train_mae: 0.13465443\u001b[0m\n",
      "\u001b[34mepoch: 455 train_mse: 0.04547629 train_mae: 0.13468038\u001b[0m\n",
      "\u001b[34mepoch: 456 train_mse: 0.04539838 train_mae: 0.13485326\u001b[0m\n",
      "\u001b[34mepoch: 457 train_mse: 0.04450835 train_mae: 0.13277724\u001b[0m\n",
      "\u001b[34mepoch: 458 train_mse: 0.04466982 train_mae: 0.13215855\u001b[0m\n",
      "\u001b[34mepoch: 459 train_mse: 0.04437498 train_mae: 0.13292372\u001b[0m\n",
      "\u001b[34mepoch: 460 train_mse: 0.04431219 train_mae: 0.13267723\u001b[0m\n",
      "\u001b[34mepoch: 461 train_mse: 0.04379318 train_mae: 0.13179682\u001b[0m\n",
      "\u001b[34mepoch: 462 train_mse: 0.04258429 train_mae: 0.12972628\u001b[0m\n",
      "\u001b[34mepoch: 463 train_mse: 0.04192394 train_mae: 0.12829502\u001b[0m\n",
      "\u001b[34mepoch: 464 train_mse: 0.04236377 train_mae: 0.12893252\u001b[0m\n",
      "\u001b[34mepoch: 465 train_mse: 0.04273253 train_mae: 0.13020094\u001b[0m\n",
      "\u001b[34mepoch: 466 train_mse: 0.04113631 train_mae: 0.12665825\u001b[0m\n",
      "\u001b[34mepoch: 467 train_mse: 0.04038199 train_mae: 0.12558886\u001b[0m\n",
      "\u001b[34mepoch: 468 train_mse: 0.04063102 train_mae: 0.12654625\u001b[0m\n",
      "\u001b[34mepoch: 469 train_mse: 0.03973437 train_mae: 0.12464394\u001b[0m\n",
      "\u001b[34mepoch: 470 train_mse: 0.03922846 train_mae: 0.12412651\u001b[0m\n",
      "\u001b[34mepoch: 471 train_mse: 0.03862734 train_mae: 0.12258790\u001b[0m\n",
      "\u001b[34mepoch: 472 train_mse: 0.03954051 train_mae: 0.12414121\u001b[0m\n",
      "\u001b[34mepoch: 473 train_mse: 0.03895827 train_mae: 0.12314001\u001b[0m\n",
      "\u001b[34mepoch: 474 train_mse: 0.03968906 train_mae: 0.12526362\u001b[0m\n",
      "\u001b[34mepoch: 475 train_mse: 0.03731982 train_mae: 0.12014853\u001b[0m\n",
      "\u001b[34mepoch: 476 train_mse: 0.03829485 train_mae: 0.12190887\u001b[0m\n",
      "\u001b[34mepoch: 477 train_mse: 0.03721222 train_mae: 0.11995248\u001b[0m\n",
      "\u001b[34mepoch: 478 train_mse: 0.03740813 train_mae: 0.12054648\u001b[0m\n",
      "\u001b[34mepoch: 479 train_mse: 0.03671568 train_mae: 0.11957446\u001b[0m\n",
      "\u001b[34mepoch: 480 train_mse: 0.03596281 train_mae: 0.11735114\u001b[0m\n",
      "\u001b[34mepoch: 481 train_mse: 0.03506688 train_mae: 0.11598242\u001b[0m\n",
      "\u001b[34mepoch: 482 train_mse: 0.03489828 train_mae: 0.11561509\u001b[0m\n",
      "\u001b[34mepoch: 483 train_mse: 0.03479940 train_mae: 0.11578625\u001b[0m\n",
      "\u001b[34mepoch: 484 train_mse: 0.03488290 train_mae: 0.11585432\u001b[0m\n",
      "\u001b[34mepoch: 485 train_mse: 0.03541948 train_mae: 0.11781625\u001b[0m\n",
      "\u001b[34mepoch: 486 train_mse: 0.03553673 train_mae: 0.11720785\u001b[0m\n",
      "\u001b[34mepoch: 487 train_mse: 0.03486503 train_mae: 0.11633366\u001b[0m\n",
      "\u001b[34mepoch: 488 train_mse: 0.03310261 train_mae: 0.11389085\u001b[0m\n",
      "\u001b[34mepoch: 489 train_mse: 0.03430052 train_mae: 0.11537664\u001b[0m\n",
      "\u001b[34mepoch: 490 train_mse: 0.03343809 train_mae: 0.11303553\u001b[0m\n",
      "\u001b[34mepoch: 491 train_mse: 0.03298327 train_mae: 0.11193199\u001b[0m\n",
      "\u001b[34mepoch: 492 train_mse: 0.03300068 train_mae: 0.11255936\u001b[0m\n",
      "\u001b[34mepoch: 493 train_mse: 0.03285211 train_mae: 0.11192612\u001b[0m\n",
      "\u001b[34mepoch: 494 train_mse: 0.03353044 train_mae: 0.11233190\u001b[0m\n",
      "\u001b[34mepoch: 495 train_mse: 0.03268598 train_mae: 0.11300875\u001b[0m\n",
      "\u001b[34mepoch: 496 train_mse: 0.03251514 train_mae: 0.11216822\u001b[0m\n",
      "\u001b[34mepoch: 497 train_mse: 0.03309046 train_mae: 0.11332633\u001b[0m\n",
      "\u001b[34mepoch: 498 train_mse: 0.03190224 train_mae: 0.11052974\u001b[0m\n",
      "\u001b[34mepoch: 499 train_mse: 0.03201197 train_mae: 0.11041319\u001b[0m\n",
      "\u001b[34mepoch: 500 train_mse: 0.03165840 train_mae: 0.10959071\u001b[0m\n",
      "\u001b[34m--------------------------------------\u001b[0m\n",
      "\u001b[34mScoring the model.\u001b[0m\n",
      "\u001b[34mtrain:mse 0.03165840\u001b[0m\n",
      "\u001b[34mtrain:mae 0.10959071\u001b[0m\n",
      "\u001b[34m--------------------------------------\u001b[0m\n",
      "\u001b[34m2024-01-06 08:16:38,865 sagemaker-training-toolkit INFO     Waiting for the process to finish and give a return code.\u001b[0m\n",
      "\u001b[34m2024-01-06 08:16:38,865 sagemaker-training-toolkit INFO     Done waiting for a return code. Received 0 from exiting process.\u001b[0m\n",
      "\u001b[34m2024-01-06 08:16:38,865 sagemaker-training-toolkit INFO     Reporting training SUCCESS\u001b[0m\n",
      "\n",
      "2024-01-06 08:16:58 Uploading - Uploading generated training model\n",
      "2024-01-06 08:16:58 Completed - Training job completed\n",
      "Training seconds: 1075\n",
      "Billable seconds: 1075\n"
     ]
    }
   ],
   "source": [
    "estimator = sagemaker.algorithm.AlgorithmEstimator(\n",
    "    algorithm_arn=algo_arn,\n",
    "    role=role,\n",
    "    instance_count=1,\n",
    "    instance_type=instance_type,\n",
    "    input_mode=\"File\",\n",
    "    sagemaker_session=sagemaker_session,\n",
    "    hyperparameters={\n",
    "        \"sequence-length\": 10,\n",
    "        \"sequence-stride\": 1,\n",
    "        \"hidden-size\": 100,\n",
    "        \"lr\": 0.001,\n",
    "        \"batch-size\": 32,\n",
    "        \"epochs\": 500,\n",
    "    },\n",
    ")\n",
    "\n",
    "estimator.fit({\"training\": training_data})"
   ]
  },
  {
   "cell_type": "markdown",
   "id": "7a77cc39-6a60-44c9-83c7-9e27845bdde1",
   "metadata": {},
   "source": [
    "### 4. Inference"
   ]
  },
  {
   "cell_type": "markdown",
   "id": "23a5fbbc-536a-4ef8-8d71-8b01c7d658fc",
   "metadata": {},
   "source": [
    "Generate the test set reconstructions."
   ]
  },
  {
   "cell_type": "code",
   "execution_count": 23,
   "id": "6ff77476-7bcb-457b-b546-7e2892f8bcfe",
   "metadata": {
    "tags": []
   },
   "outputs": [
    {
     "name": "stderr",
     "output_type": "stream",
     "text": [
      "INFO:sagemaker:Creating model package with name: lstm-ae-v1-4-2024-01-06-08-17-10-235\n"
     ]
    },
    {
     "name": "stdout",
     "output_type": "stream",
     "text": [
      "........."
     ]
    },
    {
     "name": "stderr",
     "output_type": "stream",
     "text": [
      "INFO:sagemaker:Creating model with name: lstm-ae-v1-4-2024-01-06-08-17-10-235-2024-01-06-08-17-55-649\n"
     ]
    },
    {
     "name": "stdout",
     "output_type": "stream",
     "text": [
      "\n"
     ]
    },
    {
     "name": "stderr",
     "output_type": "stream",
     "text": [
      "INFO:sagemaker:Creating transform job with name: lstm-ae-v1-4-2024-01-06-08-17-56-296\n"
     ]
    },
    {
     "name": "stdout",
     "output_type": "stream",
     "text": [
      ".........................................\u001b[34mWarning: TorchServe is using non-default JVM parameters: -XX:-UseContainerSupport\u001b[0m\n",
      "\u001b[34mWARNING: sun.reflect.Reflection.getCallerClass is not supported. This will impact performance.\u001b[0m\n",
      "\u001b[34m2024-01-06T08:24:53,161 [WARN ] main org.pytorch.serve.util.ConfigManager - Your torchserve instance can access any URL to load models. When deploying to production, make sure to limit the set of allowed_urls in config.properties\u001b[0m\n",
      "\u001b[34m2024-01-06T08:24:53,163 [INFO ] main org.pytorch.serve.servingsdk.impl.PluginsManager - Initializing plugins manager...\u001b[0m\n",
      "\u001b[34m2024-01-06T08:24:53,221 [INFO ] main org.pytorch.serve.metrics.configuration.MetricConfiguration - Successfully loaded metrics configuration from /opt/conda/lib/python3.10/site-packages/ts/configs/metrics.yaml\u001b[0m\n",
      "\u001b[34m2024-01-06T08:24:53,323 [INFO ] main org.pytorch.serve.ModelServer - \u001b[0m\n",
      "\u001b[34mTorchserve version: 0.8.2\u001b[0m\n",
      "\u001b[34mTS Home: /opt/conda/lib/python3.10/site-packages\u001b[0m\n",
      "\u001b[34mCurrent directory: /\u001b[0m\n",
      "\u001b[34mTemp directory: /home/model-server/tmp\u001b[0m\n",
      "\u001b[34mMetrics config path: /opt/conda/lib/python3.10/site-packages/ts/configs/metrics.yaml\u001b[0m\n",
      "\u001b[34mNumber of GPUs: 0\u001b[0m\n",
      "\u001b[34mNumber of CPUs: 8\u001b[0m\n",
      "\u001b[34mMax heap size: 7924 M\u001b[0m\n",
      "\u001b[34mPython executable: /opt/conda/bin/python3.10\u001b[0m\n",
      "\u001b[34mConfig file: /etc/sagemaker-ts.properties\u001b[0m\n",
      "\u001b[34mInference address: http://0.0.0.0:8080\u001b[0m\n",
      "\u001b[34mManagement address: http://0.0.0.0:8080\u001b[0m\n",
      "\u001b[34mMetrics address: http://127.0.0.1:8082\u001b[0m\n",
      "\u001b[34mModel Store: /.sagemaker/ts/models\u001b[0m\n",
      "\u001b[34mInitial Models: model=/opt/ml/model\u001b[0m\n",
      "\u001b[34mLog dir: /logs\u001b[0m\n",
      "\u001b[34mMetrics dir: /logs\u001b[0m\n",
      "\u001b[34mNetty threads: 0\u001b[0m\n",
      "\u001b[34mNetty client threads: 0\u001b[0m\n",
      "\u001b[34mDefault workers per model: 8\u001b[0m\n",
      "\u001b[34mBlacklist Regex: N/A\u001b[0m\n",
      "\u001b[34mMaximum Response Size: 6553500\u001b[0m\n",
      "\u001b[34mMaximum Request Size: 6553500\u001b[0m\n",
      "\u001b[34mLimit Maximum Image Pixels: true\u001b[0m\n",
      "\u001b[34mPrefer direct buffer: false\u001b[0m\n",
      "\u001b[34mAllowed Urls: [file://.*|http(s)?://.*]\u001b[0m\n",
      "\u001b[34mCustom python dependency for model allowed: false\u001b[0m\n",
      "\u001b[34mEnable metrics API: true\u001b[0m\n",
      "\u001b[34mMetrics mode: log\u001b[0m\n",
      "\u001b[34mDisable system metrics: true\u001b[0m\n",
      "\u001b[34mWorkflow Store: /.sagemaker/ts/models\u001b[0m\n",
      "\u001b[34mModel config: N/A\u001b[0m\n",
      "\u001b[34m2024-01-06T08:24:53,330 [INFO ] main org.pytorch.serve.servingsdk.impl.PluginsManager -  Loading snapshot serializer plugin...\u001b[0m\n",
      "\u001b[34m2024-01-06T08:24:53,350 [INFO ] main org.pytorch.serve.ModelServer - Loading initial models: /opt/ml/model\u001b[0m\n",
      "\u001b[34m2024-01-06T08:24:53,354 [WARN ] main org.pytorch.serve.archive.model.ModelArchive - Model archive version is not defined. Please upgrade to torch-model-archiver 0.2.0 or higher\u001b[0m\n",
      "\u001b[34m2024-01-06T08:24:53,354 [WARN ] main org.pytorch.serve.archive.model.ModelArchive - Model archive createdOn is not defined. Please upgrade to torch-model-archiver 0.2.0 or higher\u001b[0m\n",
      "\u001b[34m2024-01-06T08:24:53,356 [INFO ] main org.pytorch.serve.wlm.ModelManager - Model model loaded.\u001b[0m\n",
      "\u001b[34m2024-01-06T08:24:53,371 [INFO ] main org.pytorch.serve.ModelServer - Initialize Inference server with: EpollServerSocketChannel.\u001b[0m\n",
      "\u001b[34m2024-01-06T08:24:53,674 [INFO ] main org.pytorch.serve.ModelServer - Inference API bind to: http://0.0.0.0:8080\u001b[0m\n",
      "\u001b[34m2024-01-06T08:24:53,674 [INFO ] main org.pytorch.serve.ModelServer - Initialize Metrics server with: EpollServerSocketChannel.\u001b[0m\n",
      "\u001b[34m2024-01-06T08:24:53,738 [INFO ] main org.pytorch.serve.ModelServer - Metrics API bind to: http://127.0.0.1:8082\u001b[0m\n",
      "\u001b[34mModel server started.\u001b[0m\n",
      "\u001b[34m2024-01-06T08:24:55,971 [INFO ] W-9003-model_1.0-stdout MODEL_LOG - s_name_part0=/home/model-server/tmp/.ts.sock, s_name_part1=9003, pid=62\u001b[0m\n",
      "\u001b[34m2024-01-06T08:24:55,972 [INFO ] W-9003-model_1.0-stdout MODEL_LOG - Listening on port: /home/model-server/tmp/.ts.sock.9003\u001b[0m\n",
      "\u001b[34m2024-01-06T08:24:56,053 [INFO ] W-9003-model_1.0-stdout MODEL_LOG - Successfully loaded /opt/conda/lib/python3.10/site-packages/ts/configs/metrics.yaml.\u001b[0m\n",
      "\u001b[34m2024-01-06T08:24:56,054 [INFO ] W-9003-model_1.0-stdout MODEL_LOG - [PID]62\u001b[0m\n",
      "\u001b[34m2024-01-06T08:24:56,060 [INFO ] W-9003-model_1.0 org.pytorch.serve.wlm.WorkerThread - Connecting to: /home/model-server/tmp/.ts.sock.9003\u001b[0m\n",
      "\u001b[34m2024-01-06T08:24:56,054 [INFO ] W-9003-model_1.0-stdout MODEL_LOG - Torch worker started.\u001b[0m\n",
      "\u001b[34m2024-01-06T08:24:56,065 [INFO ] W-9003-model_1.0-stdout MODEL_LOG - Python runtime: 3.10.9\u001b[0m\n",
      "\u001b[34m2024-01-06T08:24:56,092 [INFO ] W-9003-model_1.0-stdout MODEL_LOG - Connection accepted: /home/model-server/tmp/.ts.sock.9003.\u001b[0m\n",
      "\u001b[34m2024-01-06T08:24:56,092 [INFO ] W-9004-model_1.0-stdout MODEL_LOG - s_name_part0=/home/model-server/tmp/.ts.sock, s_name_part1=9004, pid=66\u001b[0m\n",
      "\u001b[34m2024-01-06T08:24:56,093 [INFO ] W-9004-model_1.0-stdout MODEL_LOG - Listening on port: /home/model-server/tmp/.ts.sock.9004\u001b[0m\n",
      "\u001b[34m2024-01-06T08:24:56,099 [INFO ] W-9003-model_1.0 org.pytorch.serve.wlm.WorkerThread - Flushing req.cmd LOAD to backend at: 1704529496099\u001b[0m\n",
      "\u001b[34m2024-01-06T08:24:56,121 [INFO ] W-9002-model_1.0-stdout MODEL_LOG - s_name_part0=/home/model-server/tmp/.ts.sock, s_name_part1=9002, pid=67\u001b[0m\n",
      "\u001b[34m2024-01-06T08:24:56,122 [INFO ] W-9002-model_1.0-stdout MODEL_LOG - Listening on port: /home/model-server/tmp/.ts.sock.9002\u001b[0m\n",
      "\u001b[34m2024-01-06T08:24:56,173 [INFO ] W-9003-model_1.0-stdout MODEL_LOG - model_name: model, batchSize: 1\u001b[0m\n",
      "\u001b[34m2024-01-06T08:24:56,181 [INFO ] W-9004-model_1.0-stdout MODEL_LOG - Successfully loaded /opt/conda/lib/python3.10/site-packages/ts/configs/metrics.yaml.\u001b[0m\n",
      "\u001b[34m2024-01-06T08:24:56,183 [INFO ] W-9004-model_1.0-stdout MODEL_LOG - [PID]66\u001b[0m\n",
      "\u001b[34m2024-01-06T08:24:56,184 [INFO ] W-9004-model_1.0-stdout MODEL_LOG - Torch worker started.\u001b[0m\n",
      "\u001b[34m2024-01-06T08:24:56,184 [INFO ] W-9004-model_1.0 org.pytorch.serve.wlm.WorkerThread - Connecting to: /home/model-server/tmp/.ts.sock.9004\u001b[0m\n",
      "\u001b[34m2024-01-06T08:24:56,187 [INFO ] W-9004-model_1.0-stdout MODEL_LOG - Python runtime: 3.10.9\u001b[0m\n",
      "\u001b[34m2024-01-06T08:24:56,194 [INFO ] W-9004-model_1.0-stdout MODEL_LOG - Connection accepted: /home/model-server/tmp/.ts.sock.9004.\u001b[0m\n",
      "\u001b[34m2024-01-06T08:24:56,194 [INFO ] W-9004-model_1.0 org.pytorch.serve.wlm.WorkerThread - Flushing req.cmd LOAD to backend at: 1704529496194\u001b[0m\n",
      "\u001b[34m2024-01-06T08:24:56,202 [INFO ] W-9006-model_1.0-stdout MODEL_LOG - s_name_part0=/home/model-server/tmp/.ts.sock, s_name_part1=9006, pid=64\u001b[0m\n",
      "\u001b[34m2024-01-06T08:24:56,204 [INFO ] W-9006-model_1.0-stdout MODEL_LOG - Listening on port: /home/model-server/tmp/.ts.sock.9006\u001b[0m\n",
      "\u001b[34m2024-01-06T08:24:56,211 [INFO ] W-9002-model_1.0-stdout MODEL_LOG - Successfully loaded /opt/conda/lib/python3.10/site-packages/ts/configs/metrics.yaml.\u001b[0m\n",
      "\u001b[34m2024-01-06T08:24:56,212 [INFO ] W-9002-model_1.0-stdout MODEL_LOG - [PID]67\u001b[0m\n",
      "\u001b[34m2024-01-06T08:24:56,213 [INFO ] W-9002-model_1.0-stdout MODEL_LOG - Torch worker started.\u001b[0m\n",
      "\u001b[34m2024-01-06T08:24:56,214 [INFO ] W-9002-model_1.0 org.pytorch.serve.wlm.WorkerThread - Connecting to: /home/model-server/tmp/.ts.sock.9002\u001b[0m\n",
      "\u001b[34m2024-01-06T08:24:56,216 [INFO ] W-9002-model_1.0-stdout MODEL_LOG - Python runtime: 3.10.9\u001b[0m\n",
      "\u001b[34m2024-01-06T08:24:56,230 [INFO ] W-9002-model_1.0-stdout MODEL_LOG - Connection accepted: /home/model-server/tmp/.ts.sock.9002.\u001b[0m\n",
      "\u001b[34m2024-01-06T08:24:56,232 [INFO ] W-9002-model_1.0 org.pytorch.serve.wlm.WorkerThread - Flushing req.cmd LOAD to backend at: 1704529496232\u001b[0m\n",
      "\u001b[34m2024-01-06T08:24:56,255 [INFO ] W-9004-model_1.0-stdout MODEL_LOG - model_name: model, batchSize: 1\u001b[0m\n",
      "\u001b[34m2024-01-06T08:24:56,265 [INFO ] W-9002-model_1.0-stdout MODEL_LOG - model_name: model, batchSize: 1\u001b[0m\n",
      "\u001b[34m2024-01-06T08:24:56,300 [INFO ] W-9005-model_1.0-stdout MODEL_LOG - s_name_part0=/home/model-server/tmp/.ts.sock, s_name_part1=9005, pid=69\u001b[0m\n",
      "\u001b[34m2024-01-06T08:24:56,303 [INFO ] W-9005-model_1.0-stdout MODEL_LOG - Listening on port: /home/model-server/tmp/.ts.sock.9005\u001b[0m\n",
      "\u001b[34m2024-01-06T08:24:56,382 [INFO ] W-9000-model_1.0-stdout MODEL_LOG - s_name_part0=/home/model-server/tmp/.ts.sock, s_name_part1=9000, pid=68\u001b[0m\n",
      "\u001b[34m2024-01-06T08:24:56,383 [INFO ] W-9000-model_1.0-stdout MODEL_LOG - Listening on port: /home/model-server/tmp/.ts.sock.9000\u001b[0m\n",
      "\u001b[34m2024-01-06T08:24:56,399 [INFO ] W-9001-model_1.0-stdout MODEL_LOG - s_name_part0=/home/model-server/tmp/.ts.sock, s_name_part1=9001, pid=63\u001b[0m\n",
      "\u001b[34m2024-01-06T08:24:56,401 [INFO ] W-9001-model_1.0-stdout MODEL_LOG - Listening on port: /home/model-server/tmp/.ts.sock.9001\u001b[0m\n",
      "\u001b[34m2024-01-06T08:24:56,422 [INFO ] W-9006-model_1.0-stdout MODEL_LOG - Successfully loaded /opt/conda/lib/python3.10/site-packages/ts/configs/metrics.yaml.\u001b[0m\n",
      "\u001b[34m2024-01-06T08:24:56,430 [INFO ] W-9006-model_1.0-stdout MODEL_LOG - [PID]64\u001b[0m\n",
      "\u001b[34m2024-01-06T08:24:56,430 [INFO ] W-9006-model_1.0-stdout MODEL_LOG - Torch worker started.\u001b[0m\n",
      "\u001b[34m2024-01-06T08:24:56,431 [INFO ] W-9006-model_1.0-stdout MODEL_LOG - Python runtime: 3.10.9\u001b[0m\n",
      "\u001b[34m2024-01-06T08:24:56,430 [INFO ] W-9006-model_1.0 org.pytorch.serve.wlm.WorkerThread - Connecting to: /home/model-server/tmp/.ts.sock.9006\u001b[0m\n",
      "\u001b[34m2024-01-06T08:24:56,445 [INFO ] W-9006-model_1.0 org.pytorch.serve.wlm.WorkerThread - Flushing req.cmd LOAD to backend at: 1704529496445\u001b[0m\n",
      "\u001b[34m2024-01-06T08:24:56,445 [INFO ] W-9006-model_1.0-stdout MODEL_LOG - Connection accepted: /home/model-server/tmp/.ts.sock.9006.\u001b[0m\n",
      "\u001b[34m2024-01-06T08:24:56,473 [INFO ] W-9006-model_1.0-stdout MODEL_LOG - model_name: model, batchSize: 1\u001b[0m\n",
      "\u001b[34m2024-01-06T08:24:56,585 [INFO ] W-9001-model_1.0-stdout MODEL_LOG - Successfully loaded /opt/conda/lib/python3.10/site-packages/ts/configs/metrics.yaml.\u001b[0m\n",
      "\u001b[34m2024-01-06T08:24:56,586 [INFO ] W-9001-model_1.0-stdout MODEL_LOG - [PID]63\u001b[0m\n",
      "\u001b[34m2024-01-06T08:24:56,587 [INFO ] W-9001-model_1.0-stdout MODEL_LOG - Torch worker started.\u001b[0m\n",
      "\u001b[34m2024-01-06T08:24:56,591 [INFO ] W-9001-model_1.0-stdout MODEL_LOG - Python runtime: 3.10.9\u001b[0m\n",
      "\u001b[34m2024-01-06T08:24:56,588 [INFO ] W-9001-model_1.0 org.pytorch.serve.wlm.WorkerThread - Connecting to: /home/model-server/tmp/.ts.sock.9001\u001b[0m\n",
      "\u001b[34m2024-01-06T08:24:56,611 [INFO ] W-9005-model_1.0-stdout MODEL_LOG - Successfully loaded /opt/conda/lib/python3.10/site-packages/ts/configs/metrics.yaml.\u001b[0m\n",
      "\u001b[34m2024-01-06T08:24:56,612 [INFO ] W-9005-model_1.0-stdout MODEL_LOG - [PID]69\u001b[0m\n",
      "\u001b[34m2024-01-06T08:24:56,612 [INFO ] W-9005-model_1.0-stdout MODEL_LOG - Torch worker started.\u001b[0m\n",
      "\u001b[34m2024-01-06T08:24:56,612 [INFO ] W-9001-model_1.0 org.pytorch.serve.wlm.WorkerThread - Flushing req.cmd LOAD to backend at: 1704529496612\u001b[0m\n",
      "\u001b[34m2024-01-06T08:24:56,612 [INFO ] W-9001-model_1.0-stdout MODEL_LOG - Connection accepted: /home/model-server/tmp/.ts.sock.9001.\u001b[0m\n",
      "\u001b[34m2024-01-06T08:24:56,614 [INFO ] W-9005-model_1.0 org.pytorch.serve.wlm.WorkerThread - Connecting to: /home/model-server/tmp/.ts.sock.9005\u001b[0m\n",
      "\u001b[34m2024-01-06T08:24:56,612 [INFO ] W-9005-model_1.0-stdout MODEL_LOG - Python runtime: 3.10.9\u001b[0m\n",
      "\u001b[34m2024-01-06T08:24:56,622 [INFO ] W-9005-model_1.0-stdout MODEL_LOG - Connection accepted: /home/model-server/tmp/.ts.sock.9005.\u001b[0m\n",
      "\u001b[34m2024-01-06T08:24:56,622 [INFO ] W-9005-model_1.0 org.pytorch.serve.wlm.WorkerThread - Flushing req.cmd LOAD to backend at: 1704529496622\u001b[0m\n",
      "\u001b[34m2024-01-06T08:24:56,650 [INFO ] W-9000-model_1.0-stdout MODEL_LOG - Successfully loaded /opt/conda/lib/python3.10/site-packages/ts/configs/metrics.yaml.\u001b[0m\n",
      "\u001b[34m2024-01-06T08:24:56,652 [INFO ] W-9000-model_1.0-stdout MODEL_LOG - [PID]68\u001b[0m\n",
      "\u001b[34m2024-01-06T08:24:56,652 [INFO ] W-9000-model_1.0-stdout MODEL_LOG - Torch worker started.\u001b[0m\n",
      "\u001b[34m2024-01-06T08:24:56,653 [INFO ] W-9000-model_1.0 org.pytorch.serve.wlm.WorkerThread - Connecting to: /home/model-server/tmp/.ts.sock.9000\u001b[0m\n",
      "\u001b[34m2024-01-06T08:24:56,654 [INFO ] W-9005-model_1.0-stdout MODEL_LOG - model_name: model, batchSize: 1\u001b[0m\n",
      "\u001b[34m2024-01-06T08:24:56,655 [INFO ] W-9000-model_1.0-stdout MODEL_LOG - Python runtime: 3.10.9\u001b[0m\n",
      "\u001b[34m2024-01-06T08:24:56,671 [INFO ] W-9000-model_1.0-stdout MODEL_LOG - Connection accepted: /home/model-server/tmp/.ts.sock.9000.\u001b[0m\n",
      "\u001b[34m2024-01-06T08:24:56,671 [INFO ] W-9000-model_1.0 org.pytorch.serve.wlm.WorkerThread - Flushing req.cmd LOAD to backend at: 1704529496671\u001b[0m\n",
      "\u001b[34m2024-01-06T08:24:56,672 [INFO ] W-9007-model_1.0-stdout MODEL_LOG - s_name_part0=/home/model-server/tmp/.ts.sock, s_name_part1=9007, pid=65\u001b[0m\n",
      "\u001b[34m2024-01-06T08:24:56,673 [INFO ] W-9007-model_1.0-stdout MODEL_LOG - Listening on port: /home/model-server/tmp/.ts.sock.9007\u001b[0m\n",
      "\u001b[34m2024-01-06T08:24:56,690 [INFO ] W-9001-model_1.0-stdout MODEL_LOG - model_name: model, batchSize: 1\u001b[0m\n",
      "\u001b[34m2024-01-06T08:24:56,729 [INFO ] W-9000-model_1.0-stdout MODEL_LOG - model_name: model, batchSize: 1\u001b[0m\n",
      "\u001b[34m2024-01-06T08:24:56,950 [INFO ] W-9007-model_1.0-stdout MODEL_LOG - Successfully loaded /opt/conda/lib/python3.10/site-packages/ts/configs/metrics.yaml.\u001b[0m\n",
      "\u001b[34m2024-01-06T08:24:56,953 [INFO ] W-9007-model_1.0-stdout MODEL_LOG - [PID]65\u001b[0m\n",
      "\u001b[34m2024-01-06T08:24:56,969 [INFO ] W-9007-model_1.0-stdout MODEL_LOG - Torch worker started.\u001b[0m\n",
      "\u001b[34m2024-01-06T08:24:56,970 [INFO ] W-9007-model_1.0 org.pytorch.serve.wlm.WorkerThread - Connecting to: /home/model-server/tmp/.ts.sock.9007\u001b[0m\n",
      "\u001b[34m2024-01-06T08:24:56,971 [INFO ] W-9007-model_1.0-stdout MODEL_LOG - Python runtime: 3.10.9\u001b[0m\n",
      "\u001b[34m2024-01-06T08:24:56,980 [INFO ] W-9007-model_1.0-stdout MODEL_LOG - Connection accepted: /home/model-server/tmp/.ts.sock.9007.\u001b[0m\n",
      "\u001b[34m2024-01-06T08:24:56,986 [INFO ] W-9007-model_1.0 org.pytorch.serve.wlm.WorkerThread - Flushing req.cmd LOAD to backend at: 1704529496986\u001b[0m\n",
      "\u001b[34m2024-01-06T08:24:57,054 [INFO ] W-9007-model_1.0-stdout MODEL_LOG - model_name: model, batchSize: 1\u001b[0m\n",
      "\u001b[34m2024-01-06T08:24:57,079 [INFO ] W-9003-model_1.0 org.pytorch.serve.wlm.WorkerThread - Backend response time: 906\u001b[0m\n",
      "\u001b[34m2024-01-06T08:24:57,079 [INFO ] W-9006-model_1.0 org.pytorch.serve.wlm.WorkerThread - Backend response time: 586\u001b[0m\n",
      "\u001b[34m2024-01-06T08:24:57,080 [INFO ] W-9006-model_1.0 TS_METRICS - WorkerLoadTime.Milliseconds:3712.0|#WorkerName:W-9006-model_1.0,Level:Host|#hostname:28199089a5ce,timestamp:1704529497\u001b[0m\n",
      "\u001b[34m2024-01-06T08:24:57,080 [INFO ] W-9006-model_1.0 TS_METRICS - WorkerThreadTime.Milliseconds:49.0|#Level:Host|#hostname:28199089a5ce,timestamp:1704529497\u001b[0m\n",
      "\u001b[34m2024-01-06T08:24:57,080 [INFO ] W-9003-model_1.0 TS_METRICS - WorkerLoadTime.Milliseconds:3716.0|#WorkerName:W-9003-model_1.0,Level:Host|#hostname:28199089a5ce,timestamp:1704529497\u001b[0m\n",
      "\u001b[34m2024-01-06T08:24:57,081 [INFO ] W-9003-model_1.0 TS_METRICS - WorkerThreadTime.Milliseconds:76.0|#Level:Host|#hostname:28199089a5ce,timestamp:1704529497\u001b[0m\n",
      "\n",
      "\u001b[34m2024-01-06T08:24:57,140 [INFO ] W-9004-model_1.0 org.pytorch.serve.wlm.WorkerThread - Backend response time: 885\u001b[0m\n",
      "\u001b[34m2024-01-06T08:24:57,140 [INFO ] W-9004-model_1.0 TS_METRICS - WorkerLoadTime.Milliseconds:3776.0|#WorkerName:W-9004-model_1.0,Level:Host|#hostname:28199089a5ce,timestamp:1704529497\u001b[0m\n",
      "\u001b[34m2024-01-06T08:24:57,141 [INFO ] W-9004-model_1.0 TS_METRICS - WorkerThreadTime.Milliseconds:62.0|#Level:Host|#hostname:28199089a5ce,timestamp:1704529497\u001b[0m\n",
      "\u001b[34m2024-01-06T08:24:57,163 [INFO ] W-9002-model_1.0 org.pytorch.serve.wlm.WorkerThread - Backend response time: 886\u001b[0m\n",
      "\u001b[34m2024-01-06T08:24:57,164 [INFO ] W-9002-model_1.0 TS_METRICS - WorkerLoadTime.Milliseconds:3800.0|#WorkerName:W-9002-model_1.0,Level:Host|#hostname:28199089a5ce,timestamp:1704529497\u001b[0m\n",
      "\u001b[34m2024-01-06T08:24:57,164 [INFO ] W-9002-model_1.0 TS_METRICS - WorkerThreadTime.Milliseconds:46.0|#Level:Host|#hostname:28199089a5ce,timestamp:1704529497\u001b[0m\n",
      "\u001b[34m2024-01-06T08:24:57,372 [INFO ] W-9005-model_1.0 org.pytorch.serve.wlm.WorkerThread - Backend response time: 705\u001b[0m\n",
      "\u001b[34m2024-01-06T08:24:57,372 [INFO ] W-9005-model_1.0 TS_METRICS - WorkerLoadTime.Milliseconds:4005.0|#WorkerName:W-9005-model_1.0,Level:Host|#hostname:28199089a5ce,timestamp:1704529497\u001b[0m\n",
      "\u001b[34m2024-01-06T08:24:57,373 [INFO ] W-9005-model_1.0 TS_METRICS - WorkerThreadTime.Milliseconds:46.0|#Level:Host|#hostname:28199089a5ce,timestamp:1704529497\u001b[0m\n",
      "\u001b[34m2024-01-06T08:24:57,383 [INFO ] W-9000-model_1.0 org.pytorch.serve.wlm.WorkerThread - Backend response time: 637\u001b[0m\n",
      "\u001b[34m2024-01-06T08:24:57,383 [INFO ] W-9000-model_1.0 TS_METRICS - WorkerLoadTime.Milliseconds:4021.0|#WorkerName:W-9000-model_1.0,Level:Host|#hostname:28199089a5ce,timestamp:1704529497\u001b[0m\n",
      "\u001b[34m2024-01-06T08:24:57,383 [INFO ] W-9000-model_1.0 TS_METRICS - WorkerThreadTime.Milliseconds:75.0|#Level:Host|#hostname:28199089a5ce,timestamp:1704529497\u001b[0m\n",
      "\u001b[34m2024-01-06T08:24:57,387 [INFO ] W-9001-model_1.0 org.pytorch.serve.wlm.WorkerThread - Backend response time: 678\u001b[0m\n",
      "\u001b[34m2024-01-06T08:24:57,387 [INFO ] W-9001-model_1.0 TS_METRICS - WorkerLoadTime.Milliseconds:4024.0|#WorkerName:W-9001-model_1.0,Level:Host|#hostname:28199089a5ce,timestamp:1704529497\u001b[0m\n",
      "\u001b[34m2024-01-06T08:24:57,388 [INFO ] W-9001-model_1.0 TS_METRICS - WorkerThreadTime.Milliseconds:97.0|#Level:Host|#hostname:28199089a5ce,timestamp:1704529497\u001b[0m\n",
      "\u001b[34m2024-01-06T08:24:57,539 [INFO ] W-9007-model_1.0 org.pytorch.serve.wlm.WorkerThread - Backend response time: 486\u001b[0m\n",
      "\u001b[34m2024-01-06T08:24:57,540 [INFO ] W-9007-model_1.0 TS_METRICS - WorkerLoadTime.Milliseconds:4173.0|#WorkerName:W-9007-model_1.0,Level:Host|#hostname:28199089a5ce,timestamp:1704529497\u001b[0m\n",
      "\u001b[34m2024-01-06T08:24:57,541 [INFO ] W-9007-model_1.0 TS_METRICS - WorkerThreadTime.Milliseconds:69.0|#Level:Host|#hostname:28199089a5ce,timestamp:1704529497\u001b[0m\n",
      "\u001b[35m2024-01-06T08:24:57,140 [INFO ] W-9004-model_1.0 org.pytorch.serve.wlm.WorkerThread - Backend response time: 885\u001b[0m\n",
      "\u001b[35m2024-01-06T08:24:57,140 [INFO ] W-9004-model_1.0 TS_METRICS - WorkerLoadTime.Milliseconds:3776.0|#WorkerName:W-9004-model_1.0,Level:Host|#hostname:28199089a5ce,timestamp:1704529497\u001b[0m\n",
      "\u001b[35m2024-01-06T08:24:57,141 [INFO ] W-9004-model_1.0 TS_METRICS - WorkerThreadTime.Milliseconds:62.0|#Level:Host|#hostname:28199089a5ce,timestamp:1704529497\u001b[0m\n",
      "\u001b[35m2024-01-06T08:24:57,163 [INFO ] W-9002-model_1.0 org.pytorch.serve.wlm.WorkerThread - Backend response time: 886\u001b[0m\n",
      "\u001b[35m2024-01-06T08:24:57,164 [INFO ] W-9002-model_1.0 TS_METRICS - WorkerLoadTime.Milliseconds:3800.0|#WorkerName:W-9002-model_1.0,Level:Host|#hostname:28199089a5ce,timestamp:1704529497\u001b[0m\n",
      "\u001b[35m2024-01-06T08:24:57,164 [INFO ] W-9002-model_1.0 TS_METRICS - WorkerThreadTime.Milliseconds:46.0|#Level:Host|#hostname:28199089a5ce,timestamp:1704529497\u001b[0m\n",
      "\u001b[35m2024-01-06T08:24:57,372 [INFO ] W-9005-model_1.0 org.pytorch.serve.wlm.WorkerThread - Backend response time: 705\u001b[0m\n",
      "\u001b[35m2024-01-06T08:24:57,372 [INFO ] W-9005-model_1.0 TS_METRICS - WorkerLoadTime.Milliseconds:4005.0|#WorkerName:W-9005-model_1.0,Level:Host|#hostname:28199089a5ce,timestamp:1704529497\u001b[0m\n",
      "\u001b[35m2024-01-06T08:24:57,373 [INFO ] W-9005-model_1.0 TS_METRICS - WorkerThreadTime.Milliseconds:46.0|#Level:Host|#hostname:28199089a5ce,timestamp:1704529497\u001b[0m\n",
      "\u001b[35m2024-01-06T08:24:57,383 [INFO ] W-9000-model_1.0 org.pytorch.serve.wlm.WorkerThread - Backend response time: 637\u001b[0m\n",
      "\u001b[35m2024-01-06T08:24:57,383 [INFO ] W-9000-model_1.0 TS_METRICS - WorkerLoadTime.Milliseconds:4021.0|#WorkerName:W-9000-model_1.0,Level:Host|#hostname:28199089a5ce,timestamp:1704529497\u001b[0m\n",
      "\u001b[35m2024-01-06T08:24:57,383 [INFO ] W-9000-model_1.0 TS_METRICS - WorkerThreadTime.Milliseconds:75.0|#Level:Host|#hostname:28199089a5ce,timestamp:1704529497\u001b[0m\n",
      "\u001b[35m2024-01-06T08:24:57,387 [INFO ] W-9001-model_1.0 org.pytorch.serve.wlm.WorkerThread - Backend response time: 678\u001b[0m\n",
      "\u001b[35m2024-01-06T08:24:57,387 [INFO ] W-9001-model_1.0 TS_METRICS - WorkerLoadTime.Milliseconds:4024.0|#WorkerName:W-9001-model_1.0,Level:Host|#hostname:28199089a5ce,timestamp:1704529497\u001b[0m\n",
      "\u001b[35m2024-01-06T08:24:57,388 [INFO ] W-9001-model_1.0 TS_METRICS - WorkerThreadTime.Milliseconds:97.0|#Level:Host|#hostname:28199089a5ce,timestamp:1704529497\u001b[0m\n",
      "\u001b[35m2024-01-06T08:24:57,539 [INFO ] W-9007-model_1.0 org.pytorch.serve.wlm.WorkerThread - Backend response time: 486\u001b[0m\n",
      "\u001b[35m2024-01-06T08:24:57,540 [INFO ] W-9007-model_1.0 TS_METRICS - WorkerLoadTime.Milliseconds:4173.0|#WorkerName:W-9007-model_1.0,Level:Host|#hostname:28199089a5ce,timestamp:1704529497\u001b[0m\n",
      "\u001b[35m2024-01-06T08:24:57,541 [INFO ] W-9007-model_1.0 TS_METRICS - WorkerThreadTime.Milliseconds:69.0|#Level:Host|#hostname:28199089a5ce,timestamp:1704529497\u001b[0m\n",
      "\u001b[34m2024-01-06T08:24:58,898 [INFO ] pool-2-thread-9 ACCESS_LOG - /169.254.255.130:36334 \"GET /ping HTTP/1.1\" 200 9\u001b[0m\n",
      "\u001b[34m2024-01-06T08:24:58,899 [INFO ] pool-2-thread-9 TS_METRICS - Requests2XX.Count:1.0|#Level:Host|#hostname:28199089a5ce,timestamp:1704529498\u001b[0m\n",
      "\u001b[34m2024-01-06T08:24:58,915 [INFO ] epollEventLoopGroup-3-2 ACCESS_LOG - /169.254.255.130:36336 \"GET /execution-parameters HTTP/1.1\" 404 1\u001b[0m\n",
      "\u001b[34m2024-01-06T08:24:58,916 [INFO ] epollEventLoopGroup-3-2 TS_METRICS - Requests4XX.Count:1.0|#Level:Host|#hostname:28199089a5ce,timestamp:1704529498\u001b[0m\n",
      "\u001b[34m2024-01-06T08:24:59,008 [INFO ] epollEventLoopGroup-3-3 TS_METRICS - ts_inference_requests_total.Count:1.0|#model_name:model,model_version:default|#hostname:28199089a5ce,timestamp:1704529499\u001b[0m\n",
      "\u001b[34m2024-01-06T08:24:59,008 [INFO ] W-9006-model_1.0 org.pytorch.serve.wlm.WorkerThread - Flushing req.cmd PREDICT to backend at: 1704529499008\u001b[0m\n",
      "\u001b[34m2024-01-06T08:24:59,010 [INFO ] W-9006-model_1.0-stdout MODEL_LOG - Backend received inference at: 1704529499\u001b[0m\n",
      "\u001b[34m2024-01-06T08:24:59,038 [INFO ] W-9006-model_1.0-stdout org.pytorch.serve.wlm.WorkerLifeCycle - result=[METRICS]PredictionTime.Milliseconds:27.87|#ModelName:model,Level:Model|#hostname:28199089a5ce,1704529499,93a41f8c-7d06-46dc-9c7e-b60a1a5557c6, pattern=[METRICS]\u001b[0m\n",
      "\u001b[34m2024-01-06T08:24:59,039 [INFO ] W-9006-model_1.0 ACCESS_LOG - /169.254.255.130:36350 \"POST /invocations HTTP/1.1\" 200 33\u001b[0m\n",
      "\u001b[34m2024-01-06T08:24:59,039 [INFO ] W-9006-model_1.0-stdout MODEL_METRICS - PredictionTime.ms:27.87|#ModelName:model,Level:Model|#hostname:28199089a5ce,requestID:93a41f8c-7d06-46dc-9c7e-b60a1a5557c6,timestamp:1704529499\u001b[0m\n",
      "\u001b[34m2024-01-06T08:24:59,040 [INFO ] W-9006-model_1.0 TS_METRICS - Requests2XX.Count:1.0|#Level:Host|#hostname:28199089a5ce,timestamp:1704529499\u001b[0m\n",
      "\u001b[34m2024-01-06T08:24:59,040 [INFO ] W-9006-model_1.0 TS_METRICS - ts_inference_latency_microseconds.Microseconds:30868.802|#model_name:model,model_version:default|#hostname:28199089a5ce,timestamp:1704529499\u001b[0m\n",
      "\u001b[34m2024-01-06T08:24:59,041 [INFO ] W-9006-model_1.0 TS_METRICS - ts_queue_latency_microseconds.Microseconds:180.08|#model_name:model,model_version:default|#hostname:28199089a5ce,timestamp:1704529499\u001b[0m\n",
      "\u001b[34m2024-01-06T08:24:59,041 [INFO ] W-9006-model_1.0 TS_METRICS - QueueTime.Milliseconds:0.0|#Level:Host|#hostname:28199089a5ce,timestamp:1704529499\u001b[0m\n",
      "\u001b[35m2024-01-06T08:24:58,898 [INFO ] pool-2-thread-9 ACCESS_LOG - /169.254.255.130:36334 \"GET /ping HTTP/1.1\" 200 9\u001b[0m\n",
      "\u001b[35m2024-01-06T08:24:58,899 [INFO ] pool-2-thread-9 TS_METRICS - Requests2XX.Count:1.0|#Level:Host|#hostname:28199089a5ce,timestamp:1704529498\u001b[0m\n",
      "\u001b[35m2024-01-06T08:24:58,915 [INFO ] epollEventLoopGroup-3-2 ACCESS_LOG - /169.254.255.130:36336 \"GET /execution-parameters HTTP/1.1\" 404 1\u001b[0m\n",
      "\u001b[35m2024-01-06T08:24:58,916 [INFO ] epollEventLoopGroup-3-2 TS_METRICS - Requests4XX.Count:1.0|#Level:Host|#hostname:28199089a5ce,timestamp:1704529498\u001b[0m\n",
      "\u001b[35m2024-01-06T08:24:59,008 [INFO ] epollEventLoopGroup-3-3 TS_METRICS - ts_inference_requests_total.Count:1.0|#model_name:model,model_version:default|#hostname:28199089a5ce,timestamp:1704529499\u001b[0m\n",
      "\u001b[35m2024-01-06T08:24:59,008 [INFO ] W-9006-model_1.0 org.pytorch.serve.wlm.WorkerThread - Flushing req.cmd PREDICT to backend at: 1704529499008\u001b[0m\n",
      "\u001b[35m2024-01-06T08:24:59,010 [INFO ] W-9006-model_1.0-stdout MODEL_LOG - Backend received inference at: 1704529499\u001b[0m\n",
      "\u001b[35m2024-01-06T08:24:59,038 [INFO ] W-9006-model_1.0-stdout org.pytorch.serve.wlm.WorkerLifeCycle - result=[METRICS]PredictionTime.Milliseconds:27.87|#ModelName:model,Level:Model|#hostname:28199089a5ce,1704529499,93a41f8c-7d06-46dc-9c7e-b60a1a5557c6, pattern=[METRICS]\u001b[0m\n",
      "\u001b[35m2024-01-06T08:24:59,039 [INFO ] W-9006-model_1.0 ACCESS_LOG - /169.254.255.130:36350 \"POST /invocations HTTP/1.1\" 200 33\u001b[0m\n",
      "\u001b[35m2024-01-06T08:24:59,039 [INFO ] W-9006-model_1.0-stdout MODEL_METRICS - PredictionTime.ms:27.87|#ModelName:model,Level:Model|#hostname:28199089a5ce,requestID:93a41f8c-7d06-46dc-9c7e-b60a1a5557c6,timestamp:1704529499\u001b[0m\n",
      "\u001b[35m2024-01-06T08:24:59,040 [INFO ] W-9006-model_1.0 TS_METRICS - Requests2XX.Count:1.0|#Level:Host|#hostname:28199089a5ce,timestamp:1704529499\u001b[0m\n",
      "\u001b[35m2024-01-06T08:24:59,040 [INFO ] W-9006-model_1.0 TS_METRICS - ts_inference_latency_microseconds.Microseconds:30868.802|#model_name:model,model_version:default|#hostname:28199089a5ce,timestamp:1704529499\u001b[0m\n",
      "\u001b[35m2024-01-06T08:24:59,041 [INFO ] W-9006-model_1.0 TS_METRICS - ts_queue_latency_microseconds.Microseconds:180.08|#model_name:model,model_version:default|#hostname:28199089a5ce,timestamp:1704529499\u001b[0m\n",
      "\u001b[35m2024-01-06T08:24:59,041 [INFO ] W-9006-model_1.0 TS_METRICS - QueueTime.Milliseconds:0.0|#Level:Host|#hostname:28199089a5ce,timestamp:1704529499\u001b[0m\n",
      "\u001b[34m2024-01-06T08:24:59,041 [INFO ] W-9006-model_1.0 org.pytorch.serve.wlm.WorkerThread - Backend response time: 30\u001b[0m\n",
      "\u001b[34m2024-01-06T08:24:59,041 [INFO ] W-9006-model_1.0 TS_METRICS - WorkerThreadTime.Milliseconds:3.0|#Level:Host|#hostname:28199089a5ce,timestamp:1704529499\u001b[0m\n",
      "\u001b[35m2024-01-06T08:24:59,041 [INFO ] W-9006-model_1.0 org.pytorch.serve.wlm.WorkerThread - Backend response time: 30\u001b[0m\n",
      "\u001b[35m2024-01-06T08:24:59,041 [INFO ] W-9006-model_1.0 TS_METRICS - WorkerThreadTime.Milliseconds:3.0|#Level:Host|#hostname:28199089a5ce,timestamp:1704529499\u001b[0m\n",
      "\u001b[32m2024-01-06T08:24:58.920:[sagemaker logs]: MaxConcurrentTransforms=1, MaxPayloadInMB=100, BatchStrategy=MULTI_RECORD\u001b[0m\n"
     ]
    }
   ],
   "source": [
    "transformer = estimator.transformer(\n",
    "    instance_count=1,\n",
    "    instance_type=instance_type,\n",
    "    max_payload=100,\n",
    ")\n",
    "\n",
    "transformer.transform(\n",
    "    data=test_data,\n",
    "    content_type=\"text/csv\",\n",
    ")"
   ]
  },
  {
   "cell_type": "markdown",
   "id": "d015cac1-e68b-47ff-950f-c9d659cd75dd",
   "metadata": {},
   "source": [
    "Load the test set reconstructions from S3."
   ]
  },
  {
   "cell_type": "code",
   "execution_count": 24,
   "id": "55977107-7ded-4591-88b1-39e9db079325",
   "metadata": {
    "tags": []
   },
   "outputs": [],
   "source": [
    "reconstructions = sagemaker_session.read_s3_file(\n",
    "    bucket=bucket,\n",
    "    key_prefix=f\"{transformer.latest_transform_job.name}/oil_price_test.csv.out\"\n",
    ")"
   ]
  },
  {
   "cell_type": "code",
   "execution_count": 25,
   "id": "053f17ac-44f6-4b86-a92d-496a80a8a262",
   "metadata": {
    "tags": []
   },
   "outputs": [],
   "source": [
    "reconstructions = pd.read_csv(io.StringIO(reconstructions), header=None, dtype=float)"
   ]
  },
  {
   "cell_type": "code",
   "execution_count": 26,
   "id": "d6b26150-f417-41af-94c5-6d6c59f15dd6",
   "metadata": {
    "tags": []
   },
   "outputs": [],
   "source": [
    "reconstructions.index = test_dataset.index"
   ]
  },
  {
   "cell_type": "code",
   "execution_count": 27,
   "id": "4057f74c-0414-46f5-8a5f-d64bb43b002e",
   "metadata": {
    "tags": []
   },
   "outputs": [
    {
     "data": {
      "text/plain": [
       "(370, 3)"
      ]
     },
     "execution_count": 27,
     "metadata": {},
     "output_type": "execute_result"
    }
   ],
   "source": [
    "reconstructions.shape"
   ]
  },
  {
   "cell_type": "code",
   "execution_count": 28,
   "id": "654826a1-7915-48a9-a202-5f5297854784",
   "metadata": {
    "tags": []
   },
   "outputs": [
    {
     "data": {
      "text/html": [
       "<div>\n",
       "<style scoped>\n",
       "    .dataframe tbody tr th:only-of-type {\n",
       "        vertical-align: middle;\n",
       "    }\n",
       "\n",
       "    .dataframe tbody tr th {\n",
       "        vertical-align: top;\n",
       "    }\n",
       "\n",
       "    .dataframe thead th {\n",
       "        text-align: right;\n",
       "    }\n",
       "</style>\n",
       "<table border=\"1\" class=\"dataframe\">\n",
       "  <thead>\n",
       "    <tr style=\"text-align: right;\">\n",
       "      <th></th>\n",
       "      <th>0</th>\n",
       "      <th>1</th>\n",
       "      <th>2</th>\n",
       "    </tr>\n",
       "  </thead>\n",
       "  <tbody>\n",
       "    <tr>\n",
       "      <th>2019-08-02</th>\n",
       "      <td>0.151497</td>\n",
       "      <td>0.036215</td>\n",
       "      <td>-0.030296</td>\n",
       "    </tr>\n",
       "    <tr>\n",
       "      <th>2019-08-05</th>\n",
       "      <td>0.890966</td>\n",
       "      <td>-0.014937</td>\n",
       "      <td>-0.029108</td>\n",
       "    </tr>\n",
       "    <tr>\n",
       "      <th>2019-08-06</th>\n",
       "      <td>2.044168</td>\n",
       "      <td>-0.024970</td>\n",
       "      <td>-0.010820</td>\n",
       "    </tr>\n",
       "    <tr>\n",
       "      <th>2019-08-07</th>\n",
       "      <td>1.652439</td>\n",
       "      <td>-0.039597</td>\n",
       "      <td>-0.062785</td>\n",
       "    </tr>\n",
       "    <tr>\n",
       "      <th>2019-08-08</th>\n",
       "      <td>2.451705</td>\n",
       "      <td>0.022131</td>\n",
       "      <td>0.022210</td>\n",
       "    </tr>\n",
       "  </tbody>\n",
       "</table>\n",
       "</div>"
      ],
      "text/plain": [
       "                   0         1         2\n",
       "2019-08-02  0.151497  0.036215 -0.030296\n",
       "2019-08-05  0.890966 -0.014937 -0.029108\n",
       "2019-08-06  2.044168 -0.024970 -0.010820\n",
       "2019-08-07  1.652439 -0.039597 -0.062785\n",
       "2019-08-08  2.451705  0.022131  0.022210"
      ]
     },
     "execution_count": 28,
     "metadata": {},
     "output_type": "execute_result"
    }
   ],
   "source": [
    "reconstructions.head()"
   ]
  },
  {
   "cell_type": "code",
   "execution_count": 29,
   "id": "3dab638b-09b9-4660-92ec-d841cd186dcf",
   "metadata": {
    "tags": []
   },
   "outputs": [
    {
     "data": {
      "text/html": [
       "<div>\n",
       "<style scoped>\n",
       "    .dataframe tbody tr th:only-of-type {\n",
       "        vertical-align: middle;\n",
       "    }\n",
       "\n",
       "    .dataframe tbody tr th {\n",
       "        vertical-align: top;\n",
       "    }\n",
       "\n",
       "    .dataframe thead th {\n",
       "        text-align: right;\n",
       "    }\n",
       "</style>\n",
       "<table border=\"1\" class=\"dataframe\">\n",
       "  <thead>\n",
       "    <tr style=\"text-align: right;\">\n",
       "      <th></th>\n",
       "      <th>0</th>\n",
       "      <th>1</th>\n",
       "      <th>2</th>\n",
       "    </tr>\n",
       "  </thead>\n",
       "  <tbody>\n",
       "    <tr>\n",
       "      <th>2020-12-25</th>\n",
       "      <td>0.306028</td>\n",
       "      <td>-0.000680</td>\n",
       "      <td>0.000816</td>\n",
       "    </tr>\n",
       "    <tr>\n",
       "      <th>2020-12-28</th>\n",
       "      <td>0.523552</td>\n",
       "      <td>-0.014023</td>\n",
       "      <td>-0.001269</td>\n",
       "    </tr>\n",
       "    <tr>\n",
       "      <th>2020-12-29</th>\n",
       "      <td>0.470619</td>\n",
       "      <td>0.007532</td>\n",
       "      <td>-0.007524</td>\n",
       "    </tr>\n",
       "    <tr>\n",
       "      <th>2020-12-30</th>\n",
       "      <td>0.460973</td>\n",
       "      <td>0.007910</td>\n",
       "      <td>0.005635</td>\n",
       "    </tr>\n",
       "    <tr>\n",
       "      <th>2020-12-31</th>\n",
       "      <td>0.556062</td>\n",
       "      <td>0.002344</td>\n",
       "      <td>0.009437</td>\n",
       "    </tr>\n",
       "  </tbody>\n",
       "</table>\n",
       "</div>"
      ],
      "text/plain": [
       "                   0         1         2\n",
       "2020-12-25  0.306028 -0.000680  0.000816\n",
       "2020-12-28  0.523552 -0.014023 -0.001269\n",
       "2020-12-29  0.470619  0.007532 -0.007524\n",
       "2020-12-30  0.460973  0.007910  0.005635\n",
       "2020-12-31  0.556062  0.002344  0.009437"
      ]
     },
     "execution_count": 29,
     "metadata": {},
     "output_type": "execute_result"
    }
   ],
   "source": [
    "reconstructions.tail()"
   ]
  },
  {
   "cell_type": "markdown",
   "id": "62efcbfb-96a1-44d7-b044-b78361e54fba",
   "metadata": {},
   "source": [
    "Examine the anomaly scores."
   ]
  },
  {
   "cell_type": "code",
   "execution_count": 30,
   "id": "e1c5527b-839e-44db-8ec3-3b553f0cd150",
   "metadata": {},
   "outputs": [
    {
     "data": {
      "text/plain": [
       "2020-04-20    810273.731656\n",
       "2020-04-21     64522.040242\n",
       "2020-04-22     15533.407236\n",
       "Name: 0, dtype: float64"
      ]
     },
     "execution_count": 30,
     "metadata": {},
     "output_type": "execute_result"
    }
   ],
   "source": [
    "reconstructions.iloc[:, 0].nlargest(3)"
   ]
  },
  {
   "cell_type": "code",
   "execution_count": 31,
   "id": "6d2814d0-fb1a-484a-a78e-1ddc9dc4172e",
   "metadata": {
    "tags": []
   },
   "outputs": [
    {
     "data": {
      "text/plain": [
       "count       370.000000\n",
       "mean       2517.000815\n",
       "std       42254.104608\n",
       "min           0.001336\n",
       "25%           0.338052\n",
       "50%           0.507537\n",
       "75%           2.030303\n",
       "max      810273.731656\n",
       "Name: 0, dtype: float64"
      ]
     },
     "execution_count": 31,
     "metadata": {},
     "output_type": "execute_result"
    }
   ],
   "source": [
    "reconstructions.iloc[:, 0].describe()"
   ]
  },
  {
   "cell_type": "markdown",
   "id": "074a6ae7-68cf-45c2-b97e-87ffba720d0b",
   "metadata": {},
   "source": [
    "Visualize the reconstructions."
   ]
  },
  {
   "cell_type": "code",
   "execution_count": 32,
   "id": "1c920370-6f8d-4446-ba01-961ce013b4f5",
   "metadata": {
    "tags": []
   },
   "outputs": [
    {
     "data": {
      "image/png": "[encoded data removed]",
      "text/plain": [
       "<Figure size 700x1000 with 3 Axes>"
      ]
     },
     "metadata": {},
     "output_type": "display_data"
    }
   ],
   "source": [
    "fig, axs = plt.subplots(nrows=test_dataset.shape[1] + 1, ncols=1, sharex=True, figsize=(7, 10))\n",
    "for i in range(test_dataset.shape[1]):\n",
    "    axs[i].plot(test_dataset.iloc[:, i], color=\"#AFB8C1\", lw=0.6, label=\"Actual\" if i == 0 else None)\n",
    "    axs[i].plot(reconstructions.iloc[:, i + 1], color=\"#000000\", lw=0.6, label=\"Reconstructed\" if i == 0 else None)\n",
    "    axs[i].set_title(f\"{test_dataset.columns[i]} (% Change)\", size=10)\n",
    "    axs[i].set(xlabel=\"Time\", ylabel=\"Value\")\n",
    "    axs[i].xaxis.set_tick_params(labelbottom=True)\n",
    "    axs[i].tick_params(axis=\"both\", which=\"major\", labelsize=7)\n",
    "    axs[i].tick_params(axis=\"both\", which=\"minor\", labelsize=7)\n",
    "i += 1\n",
    "axs[i].set_title(\"Anomaly Score\", size=10)\n",
    "axs[i].plot(reconstructions.iloc[:, 0], color=\"#57606a\", lw=0.6)\n",
    "axs[i].set(xlabel=\"Time\", ylabel=\"Value\")\n",
    "axs[i].xaxis.set_tick_params(labelbottom=True)\n",
    "axs[i].tick_params(axis=\"both\", which=\"major\", labelsize=7)\n",
    "axs[i].tick_params(axis=\"both\", which=\"minor\", labelsize=7)\n",
    "fig.legend(bbox_to_anchor=(1.25, 1, 0, 0), frameon=False)\n",
    "fig.tight_layout()\n",
    "fig.show()"
   ]
  },
  {
   "cell_type": "markdown",
   "id": "1e894977-20b4-4928-badd-76603b89a771",
   "metadata": {},
   "source": [
    "Delete the model."
   ]
  },
  {
   "cell_type": "code",
   "execution_count": 33,
   "id": "1b0078be-a7fc-4a03-adb9-84a8eea81177",
   "metadata": {
    "tags": []
   },
   "outputs": [
    {
     "name": "stderr",
     "output_type": "stream",
     "text": [
      "INFO:sagemaker:Deleting model with name: lstm-ae-v1-4-2024-01-06-08-17-10-235-2024-01-06-08-17-55-649\n"
     ]
    }
   ],
   "source": [
    "transformer.delete_model()"
   ]
  }
 ],
 "metadata": {
  "kernelspec": {
   "display_name": "Python 3 (ipykernel)",
   "language": "python",
   "name": "python3"
  },
  "language_info": {
   "codemirror_mode": {
    "name": "ipython",
    "version": 3
   },
   "file_extension": ".py",
   "mimetype": "text/x-python",
   "name": "python",
   "nbconvert_exporter": "python",
   "pygments_lexer": "ipython3",
   "version": "3.10.11"
  }
 },
 "nbformat": 4,
 "nbformat_minor": 5
}
